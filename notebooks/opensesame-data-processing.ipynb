{
 "cells": [
  {
   "cell_type": "code",
   "execution_count": 1,
   "metadata": {
    "ExecuteTime": {
     "end_time": "2018-09-05T21:09:29.738867Z",
     "start_time": "2018-09-05T21:09:28.340185Z"
    },
    "collapsed": true
   },
   "outputs": [],
   "source": [
    "import numpy as np\n",
    "import sounddevice as sd\n",
    "import pandas as pd\n",
    "from scipy.io import wavfile"
   ]
  },
  {
   "cell_type": "code",
   "execution_count": 2,
   "metadata": {
    "ExecuteTime": {
     "end_time": "2018-09-05T21:09:29.771639Z",
     "start_time": "2018-09-05T21:09:29.760538Z"
    },
    "collapsed": true
   },
   "outputs": [],
   "source": [
    "audio = np.load('../data/audio-arrays/test.npy')"
   ]
  },
  {
   "cell_type": "code",
   "execution_count": 25,
   "metadata": {
    "ExecuteTime": {
     "end_time": "2018-09-05T05:32:10.978414Z",
     "start_time": "2018-09-05T05:32:10.867576Z"
    },
    "collapsed": true
   },
   "outputs": [],
   "source": [
    "sd.play(audio, 44100)"
   ]
  },
  {
   "cell_type": "code",
   "execution_count": 26,
   "metadata": {
    "ExecuteTime": {
     "end_time": "2018-09-05T05:32:38.915946Z",
     "start_time": "2018-09-05T05:32:38.905900Z"
    },
    "collapsed": true
   },
   "outputs": [],
   "source": [
    "wavfile.write('../data/audio/test.wav', fs, audio)"
   ]
  },
  {
   "cell_type": "code",
   "execution_count": 10,
   "metadata": {
    "ExecuteTime": {
     "end_time": "2018-09-05T21:12:17.057602Z",
     "start_time": "2018-09-05T21:12:17.053533Z"
    }
   },
   "outputs": [
    {
     "data": {
      "text/plain": [
       "(441000, 2)"
      ]
     },
     "execution_count": 10,
     "metadata": {},
     "output_type": "execute_result"
    }
   ],
   "source": [
    "np.shape(audio)"
   ]
  },
  {
   "cell_type": "code",
   "execution_count": 13,
   "metadata": {
    "ExecuteTime": {
     "end_time": "2018-09-05T21:12:54.284653Z",
     "start_time": "2018-09-05T21:12:54.272328Z"
    }
   },
   "outputs": [],
   "source": [
    "twentysec = (np.tile(audio, 2))"
   ]
  },
  {
   "cell_type": "code",
   "execution_count": null,
   "metadata": {
    "collapsed": true
   },
   "outputs": [],
   "source": [
    "sd.rec"
   ]
  }
 ],
 "metadata": {
  "kernelspec": {
   "display_name": "Python 3",
   "language": "python",
   "name": "python3"
  },
  "language_info": {
   "codemirror_mode": {
    "name": "ipython",
    "version": 3
   },
   "file_extension": ".py",
   "mimetype": "text/x-python",
   "name": "python",
   "nbconvert_exporter": "python",
   "pygments_lexer": "ipython3",
   "version": "3.6.2"
  }
 },
 "nbformat": 4,
 "nbformat_minor": 2
}
