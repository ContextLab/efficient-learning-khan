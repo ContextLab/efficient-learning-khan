{
 "cells": [
  {
   "cell_type": "code",
   "execution_count": 17,
   "metadata": {
    "ExecuteTime": {
     "end_time": "2018-09-05T05:00:56.409690Z",
     "start_time": "2018-09-05T05:00:55.902905Z"
    }
   },
   "outputs": [],
   "source": [
    "import numpy as np\n",
    "import sounddevice as sd\n",
    "import pandas as pd\n",
    "from scipy.io import wavfile"
   ]
  },
  {
   "cell_type": "code",
   "execution_count": 23,
   "metadata": {
    "ExecuteTime": {
     "end_time": "2018-09-05T05:31:31.217602Z",
     "start_time": "2018-09-05T05:31:31.211240Z"
    }
   },
   "outputs": [],
   "source": [
    "audio = np.load('../data/audio-arrays/test.npy')"
   ]
  },
  {
   "cell_type": "code",
   "execution_count": 25,
   "metadata": {
    "ExecuteTime": {
     "end_time": "2018-09-05T05:32:10.978414Z",
     "start_time": "2018-09-05T05:32:10.867576Z"
    }
   },
   "outputs": [],
   "source": [
    "sd.play(audio, 44100)"
   ]
  },
  {
   "cell_type": "code",
   "execution_count": 26,
   "metadata": {
    "ExecuteTime": {
     "end_time": "2018-09-05T05:32:38.915946Z",
     "start_time": "2018-09-05T05:32:38.905900Z"
    }
   },
   "outputs": [],
   "source": [
    "wavfile.write('../data/audio/test.wav', fs, audio)"
   ]
  },
  {
   "cell_type": "code",
   "execution_count": null,
   "metadata": {
    "collapsed": true
   },
   "outputs": [],
   "source": []
  }
 ],
 "metadata": {
  "kernelspec": {
   "display_name": "Python 3",
   "language": "python",
   "name": "python3"
  },
  "language_info": {
   "codemirror_mode": {
    "name": "ipython",
    "version": 3
   },
   "file_extension": ".py",
   "mimetype": "text/x-python",
   "name": "python",
   "nbconvert_exporter": "python",
   "pygments_lexer": "ipython3",
   "version": "3.6.2"
  }
 },
 "nbformat": 4,
 "nbformat_minor": 2
}
