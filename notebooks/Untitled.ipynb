{
 "cells": [
  {
   "cell_type": "code",
   "execution_count": 5,
   "metadata": {
    "ExecuteTime": {
     "end_time": "2018-09-07T22:01:59.714229Z",
     "start_time": "2018-09-07T22:01:59.712031Z"
    },
    "collapsed": true
   },
   "outputs": [],
   "source": [
    "import os, sys, subprocess"
   ]
  },
  {
   "cell_type": "code",
   "execution_count": 6,
   "metadata": {
    "ExecuteTime": {
     "end_time": "2018-09-07T22:02:00.477525Z",
     "start_time": "2018-09-07T22:02:00.472668Z"
    },
    "collapsed": true
   },
   "outputs": [],
   "source": [
    "def open_file(filename):\n",
    "    if sys.platform == \"win32\":\n",
    "        os.startfile(filename)\n",
    "    else:\n",
    "        opener =\"open\" if sys.platform == \"darwin\" else \"xdg-open\"\n",
    "        subprocess.call([opener, filename])"
   ]
  },
  {
   "cell_type": "code",
   "execution_count": 7,
   "metadata": {
    "ExecuteTime": {
     "end_time": "2018-09-07T22:02:01.308117Z",
     "start_time": "2018-09-07T22:02:01.228777Z"
    }
   },
   "outputs": [],
   "source": [
    "open_file('../../video-stims/atlanta-ep1.mp4')"
   ]
  },
  {
   "cell_type": "code",
   "execution_count": null,
   "metadata": {
    "collapsed": true
   },
   "outputs": [],
   "source": []
  }
 ],
 "metadata": {
  "kernelspec": {
   "display_name": "Python 3",
   "language": "python",
   "name": "python3"
  },
  "language_info": {
   "codemirror_mode": {
    "name": "ipython",
    "version": 3
   },
   "file_extension": ".py",
   "mimetype": "text/x-python",
   "name": "python",
   "nbconvert_exporter": "python",
   "pygments_lexer": "ipython3",
   "version": "3.6.2"
  }
 },
 "nbformat": 4,
 "nbformat_minor": 2
}
