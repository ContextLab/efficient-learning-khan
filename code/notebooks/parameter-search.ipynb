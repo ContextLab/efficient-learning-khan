{
 "cells": [
  {
   "cell_type": "markdown",
   "metadata": {},
   "source": [
    "## Imports"
   ]
  },
  {
   "cell_type": "code",
   "execution_count": 1,
   "metadata": {
    "ExecuteTime": {
     "end_time": "2020-02-21T22:09:59.306406Z",
     "start_time": "2020-02-21T22:09:56.539400Z"
    }
   },
   "outputs": [],
   "source": [
    "import re\n",
    "import sys\n",
    "from datetime import timedelta\n",
    "from os.path import abspath, join as opj\n",
    "import numpy as np\n",
    "import pandas as pd\n",
    "from nltk.corpus import stopwords\n",
    "from scipy.interpolate import interp1d\n",
    "from scipy.spatial.distance import cdist\n",
    "from scipy.stats import entropy, pearsonr\n",
    "from sklearn.decomposition import LatentDirichletAllocation\n",
    "from sklearn.feature_extraction.text import CountVectorizer\n",
    "from tqdm.notebook import tqdm\n",
    "\n",
    "sys.path.insert(0, abspath('../helpers/'))\n",
    "from participant import Participant\n",
    "from experiment import Experiment\n",
    "\n",
    "import matplotlib.pyplot as plt\n",
    "from matplotlib.patches import Rectangle\n",
    "import seaborn as sns\n",
    "%matplotlib inline"
   ]
  },
  {
   "cell_type": "markdown",
   "metadata": {},
   "source": [
    "## Set paths"
   ]
  },
  {
   "cell_type": "code",
   "execution_count": 2,
   "metadata": {
    "ExecuteTime": {
     "end_time": "2020-02-21T22:09:59.323638Z",
     "start_time": "2020-02-21T22:09:59.312963Z"
    }
   },
   "outputs": [],
   "source": [
    "datadir = '../../data/'\n",
    "rawdir = opj(datadir, 'raw')\n",
    "figdir = '../../paper/figs/'"
   ]
  },
  {
   "cell_type": "markdown",
   "metadata": {},
   "source": [
    "## Load data"
   ]
  },
  {
   "cell_type": "code",
   "execution_count": 3,
   "metadata": {
    "ExecuteTime": {
     "end_time": "2020-02-21T22:10:03.244678Z",
     "start_time": "2020-02-21T22:09:59.328500Z"
    },
    "scrolled": true
   },
   "outputs": [],
   "source": [
    "# four forces lecture transcript\n",
    "with open(opj(rawdir, 'forces_transcript_timestamped.txt'), 'r') as f:\n",
    "    ff_transcript = f.read()\n",
    "\n",
    "# birth of stars lecture transcript\n",
    "with open(opj(rawdir, 'bos_transcript_timestamped.txt'), 'r') as f:\n",
    "    bos_transcript = f.read()\n",
    "    \n",
    "# questions\n",
    "questions_df = pd.read_csv(opj(rawdir, 'questions.tsv'), sep='\\t', \n",
    "                           names=['index', 'lecture', 'question', \n",
    "                                  'ans_A', 'ans_B', 'ans_C', 'ans_D'], \n",
    "                           index_col='index')\n",
    "\n",
    "# participants' scores\n",
    "raw_data = raw_data = pd.read_csv(opj(rawdir, 'psiturk-data-raw.tsv'), sep='\\t', index_col='Unnamed: 0')\n",
    "# scores_df = pd.read_csv(opj(rawdir, 'Graded_results_19f_49.csv'), index_col='Unnamed: 0')\n",
    "participants = []\n",
    "for ix, row in raw_data.iterrows():\n",
    "    p = Participant.from_psiturk(row, subid=f'P{ix + 1}')\n",
    "    participants.append(p)"
   ]
  },
  {
   "cell_type": "markdown",
   "metadata": {},
   "source": [
    "## Set basic params"
   ]
  },
  {
   "cell_type": "code",
   "execution_count": 4,
   "metadata": {
    "ExecuteTime": {
     "end_time": "2020-02-21T22:10:03.253348Z",
     "start_time": "2020-02-21T22:10:03.247011Z"
    }
   },
   "outputs": [],
   "source": [
    "stop_words = stopwords.words('english') + [\"let\", \"let's\", \"they'd\", \"they're\", \n",
    "                                           \"they've\", \"they'll\", \"that's\", \n",
    "                                           \"I'll\", \"I'm\", \"really\", \"even\"]\n",
    "cv_params = {\n",
    "    'strip_accents': 'unicode',\n",
    "    'stop_words': stop_words,\n",
    "}\n",
    "\n",
    "\n",
    "lda_params = {\n",
    "    'learning_method': 'batch',\n",
    "    'random_state': 0\n",
    "}"
   ]
  },
  {
   "cell_type": "markdown",
   "metadata": {
    "ExecuteTime": {
     "end_time": "2020-02-10T21:37:05.188741Z",
     "start_time": "2020-02-10T21:37:05.169091Z"
    }
   },
   "source": [
    "## Define some functions"
   ]
  },
  {
   "cell_type": "code",
   "execution_count": 5,
   "metadata": {
    "ExecuteTime": {
     "end_time": "2020-02-21T22:10:07.793664Z",
     "start_time": "2020-02-21T22:10:07.787334Z"
    }
   },
   "outputs": [],
   "source": [
    "def format_text(windows, sw=stop_words):\n",
    "    clean_text = []\n",
    "    for chunk in windows:\n",
    "        no_punc = re.sub(\"[^a-zA-Z\\s'-]+\", '', chunk.lower()).replace('-', ' ')\n",
    "        no_stop = ' '.join([word for word in no_punc.split() if word not in sw])\n",
    "        clean = re.sub(\"'+\", '', no_stop)\n",
    "        clean_text.append(clean)\n",
    "    return clean_text"
   ]
  },
  {
   "cell_type": "code",
   "execution_count": 6,
   "metadata": {
    "ExecuteTime": {
     "end_time": "2020-02-21T22:10:08.364394Z",
     "start_time": "2020-02-21T22:10:08.350521Z"
    }
   },
   "outputs": [],
   "source": [
    "def _ts_to_secs(ts):\n",
    "    mins, secs = ts.split(':')\n",
    "    mins, secs = int(mins), int(secs)\n",
    "    return timedelta(minutes=mins, seconds=secs).total_seconds()\n",
    "    \n",
    "\n",
    "def parse_windows(transcript, wsize):\n",
    "    lines = transcript.splitlines()\n",
    "    text_lines = [l for ix, l in enumerate(lines) if ix % 2]\n",
    "    ts_lines = [_ts_to_secs(l) for ix, l in enumerate(lines) if not ix % 2]    \n",
    "    windows = []\n",
    "    timestamps = []\n",
    "    for ix in range(1, wsize):\n",
    "        start, end = 0, ix\n",
    "        windows.append(' '.join(text_lines[start : end]))\n",
    "        timestamps.append((ts_lines[start] + ts_lines[end - 1]) / 2)\n",
    "\n",
    "    for ix in range(len(ts_lines)):\n",
    "        start = ix\n",
    "        end = ix + wsize if ix + wsize <= len(text_lines) else len(text_lines)\n",
    "        windows.append(' '.join(text_lines[start : end]))\n",
    "        timestamps.append((ts_lines[start] + ts_lines[end - 1]) / 2)\n",
    "        \n",
    "    return windows, timestamps"
   ]
  },
  {
   "cell_type": "code",
   "execution_count": 7,
   "metadata": {
    "ExecuteTime": {
     "end_time": "2020-02-21T22:10:09.787148Z",
     "start_time": "2020-02-21T22:10:09.772481Z"
    }
   },
   "outputs": [],
   "source": [
    "def create_qa_corpus(df, key):\n",
    "    grouped = df.groupby('lecture')\n",
    "    gen_qs, ff_qs, bos_qs = grouped['question'].apply(format_text)\n",
    "    answers_fmt = grouped['ans_A', 'ans_B', 'ans_C', 'ans_D'].agg(format_text)\n",
    "    gen_correct, ff_correct, bos_correct = answers_fmt['ans_A']\n",
    "    gen_ans, ff_ans, bos_ans = answers_fmt.apply(np.concatenate, axis=1).apply(list)\n",
    "    \n",
    "    # all formatted text for transforming\n",
    "    all_text = {\n",
    "        'ff_qs': ff_qs,\n",
    "        'bos_qs': bos_qs,\n",
    "        'gen_qs': gen_qs,\n",
    "        'ff_ans': ff_ans,\n",
    "        'bos_ans': bos_ans,\n",
    "        'gen_ans': gen_ans\n",
    "    }\n",
    "    # subset of text used to fit model\n",
    "    corpus_text = {k: v for k, v in all_text.items()}\n",
    "    if 'q' in key:\n",
    "        corpus_text['gen_qs'] = []\n",
    "        corpus_text['gen_ans'] = []\n",
    "    elif 'q' not in key.lower():\n",
    "        corpus_text['ff_qs'] = []\n",
    "        corpus_text['bos_qs'] = []\n",
    "        corpus_text['gen_qs'] = []\n",
    "    \n",
    "    if 'a' in key:\n",
    "        corpus_text['ff_ans'] = ff_correct\n",
    "        corpus_text['bos_ans'] = bos_correct\n",
    "        if 'Q' in key:\n",
    "            corpus_text['gen_ans'] = gen_correct\n",
    "    elif 'a' not in key.lower():\n",
    "        corpus_text['ff_ans'] = []\n",
    "        corpus_text['bos_ans'] = []\n",
    "        corpus_text['gen_ans'] = []\n",
    "        \n",
    "    return corpus_text, all_text"
   ]
  },
  {
   "cell_type": "code",
   "execution_count": 8,
   "metadata": {
    "ExecuteTime": {
     "end_time": "2020-02-21T22:10:10.485760Z",
     "start_time": "2020-02-21T22:10:10.480308Z"
    }
   },
   "outputs": [],
   "source": [
    "def interp_lecture(lec_traj, timestamps):\n",
    "    new_tpts = np.arange(timestamps[-1])\n",
    "    interp_func = interp1d(timestamps, lec_traj, axis=0)\n",
    "    return interp_func(new_tpts)"
   ]
  },
  {
   "cell_type": "code",
   "execution_count": 9,
   "metadata": {
    "ExecuteTime": {
     "end_time": "2020-02-21T22:10:13.084046Z",
     "start_time": "2020-02-21T22:10:13.069373Z"
    }
   },
   "outputs": [],
   "source": [
    "def model_content(n_top, wsize, corpus):\n",
    "    # get text windows, timestamps\n",
    "    ff_windows, ff_timestamps = parse_windows(ff_transcript, wsize)\n",
    "    bos_windows, bos_timestamps = parse_windows(bos_transcript, wsize)\n",
    "    \n",
    "    # format lecture, question, answer text\n",
    "    ff_lec = format_text(ff_windows)\n",
    "    bos_lec = format_text(bos_windows)\n",
    "    corpus_text, all_text = create_qa_corpus(questions_df, corpus)\n",
    "    corpus_text['ff_lec'] = all_text['ff_lec'] = ff_lec\n",
    "    corpus_text['bos_lec'] = all_text['bos_lec'] = bos_lec\n",
    "\n",
    "    # set topic model params\n",
    "    tm_params = {opt: val for opt, val in lda_params.items()}\n",
    "    tm_params['n_components'] = n_top\n",
    "    \n",
    "    full_corpus = [doc for samples in corpus_text.values() for doc in samples]\n",
    "    \n",
    "    vecs = {}\n",
    "    # fit CountVectorizer model\n",
    "    tf_vectorizer = CountVectorizer(**cv_params)\n",
    "    tf_vectorizer.fit(full_corpus)\n",
    "    vecs['full_corpus'] = tf_vectorizer.transform(full_corpus)\n",
    "    # transform lectures, questions, answers\n",
    "    for samples, docs in all_text.items():\n",
    "        vecs[samples] = tf_vectorizer.transform(docs)\n",
    "        \n",
    "    trajs = {}\n",
    "    # fit LDA model\n",
    "    topic_model = LatentDirichletAllocation(**tm_params)\n",
    "    topic_model.fit(vecs['full_corpus'])\n",
    "    # transform lectures, questions, answers\n",
    "    for samples, docs in all_text.items():\n",
    "        trajs[samples] = topic_model.transform(vecs[samples])\n",
    "            \n",
    "    # interpolate lectures to 1 sample per second\n",
    "    trajs['ff_lec'] = interp_lecture(trajs['ff_lec'], ff_timestamps)\n",
    "    trajs['bos_lec'] = interp_lecture(trajs['bos_lec'], bos_timestamps)\n",
    "\n",
    "    return trajs"
   ]
  },
  {
   "cell_type": "code",
   "execution_count": 10,
   "metadata": {
    "ExecuteTime": {
     "end_time": "2020-02-21T22:10:14.779639Z",
     "start_time": "2020-02-21T22:10:14.770226Z"
    }
   },
   "outputs": [],
   "source": [
    "def symmetric_KL(a, b, c=.00000000001):\n",
    "    return np.divide(entropy(a + c, b + c) + entropy(b + c, a + c), 2)\n",
    "\n",
    "\n",
    "def reconstruct_trace(video_model, questions_model, acc):\n",
    "    acc = np.array(acc, dtype=bool)\n",
    "    wz = 1 - cdist(video_model, questions_model, metric=symmetric_KL)\n",
    "    wz -= np.min(wz)\n",
    "    wz /= np.max(wz)\n",
    "    a = wz.sum(axis=1)\n",
    "    b = wz[:, acc].sum(axis=1)\n",
    "    return b / a"
   ]
  },
  {
   "cell_type": "code",
   "execution_count": 11,
   "metadata": {
    "ExecuteTime": {
     "end_time": "2020-02-21T22:10:16.259761Z",
     "start_time": "2020-02-21T22:10:16.245511Z"
    }
   },
   "outputs": [],
   "source": [
    "def score_params(traj_dict):\n",
    "    ff_lec = traj_dict['ff_lec']\n",
    "    bos_lec = traj_dict['bos_lec']\n",
    "    ff_bos_questions = np.concatenate((traj_dict['ff_qs'], traj_dict['bos_qs']))\n",
    "    p_correct = []\n",
    "    trace_sums = []\n",
    "    for sub in participants:\n",
    "        sub_pcorrect = []\n",
    "        sub_tracesums = []\n",
    "        for lec_ix, lec in enumerate([ff_lec, bos_lec], start=1):\n",
    "            sub_scores = sub.get_data(qset=lec_ix, lecture=lec_ix)\n",
    "            # compute proportion correct\n",
    "            sub_acc = sub_scores['accuracy'].tolist()\n",
    "            sub_pc = sum(sub_acc) / len(sub_acc)\n",
    "            sub_pcorrect.append(sub_pc)\n",
    "            # reconstruct trace\n",
    "            qs_ix = sub_scores['qID'] - 1\n",
    "            q_vecs = ff_bos_questions[qs_ix]\n",
    "            sub_trace = reconstruct_trace(lec, q_vecs, sub_acc)\n",
    "            sub_tracesums.append(sub_trace.sum())\n",
    "        p_correct.append(np.mean(sub_pcorrect))\n",
    "        trace_sums.append(np.mean(sub_tracesums))\n",
    "    return pearsonr(p_correct, trace_sums)[0]"
   ]
  },
  {
   "cell_type": "code",
   "execution_count": 12,
   "metadata": {
    "ExecuteTime": {
     "end_time": "2020-02-21T22:10:18.185472Z",
     "start_time": "2020-02-21T22:10:18.179012Z"
    }
   },
   "outputs": [],
   "source": [
    "def grid_search(gs_params):\n",
    "    n_top, wsize, corpus = gs_params\n",
    "    trajs = model_content(n_top, wsize, corpus)\n",
    "    corr = score_params(trajs)\n",
    "    print(f'\\t{gs_params} : {corr}')\n",
    "    return corr"
   ]
  },
  {
   "cell_type": "markdown",
   "metadata": {
    "ExecuteTime": {
     "end_time": "2020-02-10T23:18:37.228403Z",
     "start_time": "2020-02-10T23:18:37.223650Z"
    }
   },
   "source": [
    "## Grid search params"
   ]
  },
  {
   "cell_type": "code",
   "execution_count": 13,
   "metadata": {
    "ExecuteTime": {
     "end_time": "2020-02-21T22:10:21.184636Z",
     "start_time": "2020-02-21T22:10:21.177090Z"
    }
   },
   "outputs": [],
   "source": [
    "# (maximum) number of topics to fit the topic model\n",
    "n_topics = [20, 25, 30, 35, 40, 50, 100]\n",
    "\n",
    "# length of lecture transcript sliding window\n",
    "lecture_wsize = [10, 15, 20, 25, 30, 35, 40]\n",
    "\n",
    "# training corpus for topic model\n",
    "# - l: lecture sliding windows\n",
    "# - q: lecture-related multiple choice questions' text\n",
    "# - Q: all multiple choice questions' text\n",
    "# - a: correct responses to multiple choice questions\n",
    "# - A: all options for responses to multiple choice questions\n",
    "corpora = ['l', 'lq', 'lQ', 'lqa', 'lQa', 'lqA', 'lQA']\n",
    "\n",
    "param_grid = [(t, w, c) for t in n_topics for w in lecture_wsize for c in corpora]"
   ]
  },
  {
   "cell_type": "code",
   "execution_count": 14,
   "metadata": {
    "ExecuteTime": {
     "end_time": "2020-02-22T00:11:01.396847Z",
     "start_time": "2020-02-21T22:10:24.703672Z"
    },
    "scrolled": true
   },
   "outputs": [
    {
     "data": {
      "application/vnd.jupyter.widget-view+json": {
       "model_id": "848999c3c7de4a8f89aca01f4dce9e1f",
       "version_major": 2,
       "version_minor": 0
      },
      "text/plain": [
       "HBox(children=(IntProgress(value=0, description='params', max=343, style=ProgressStyle(description_width='init…"
      ]
     },
     "metadata": {},
     "output_type": "display_data"
    },
    {
     "name": "stdout",
     "output_type": "stream",
     "text": [
      "\t(20, 10, 'l') : 0.9705606575994087\n",
      "\t(20, 10, 'lq') : 0.9835679566314232\n",
      "\t(20, 10, 'lQ') : 0.9810573859962984\n",
      "\t(20, 10, 'lqa') : 0.985152515244205\n",
      "\t(20, 10, 'lQa') : 0.9829109703929245\n",
      "\t(20, 10, 'lqA') : 0.9810870757694022\n",
      "\t(20, 10, 'lQA') : 0.9818604150418534\n",
      "\t(20, 15, 'l') : 0.9742596294546151\n",
      "\t(20, 15, 'lq') : 0.9829026954925746\n",
      "\t(20, 15, 'lQ') : 0.9877053675938322\n",
      "\t(20, 15, 'lqa') : 0.9836317662531454\n",
      "\t(20, 15, 'lQa') : 0.9860118434812402\n",
      "\t(20, 15, 'lqA') : 0.9826037517750252\n",
      "\t(20, 15, 'lQA') : 0.9761095009449784\n",
      "\t(20, 20, 'l') : 0.972273666765419\n",
      "\t(20, 20, 'lq') : 0.984471300112663\n",
      "\t(20, 20, 'lQ') : 0.9723228796303732\n",
      "\t(20, 20, 'lqa') : 0.9850354559432389\n",
      "\t(20, 20, 'lQa') : 0.9825572545824395\n",
      "\t(20, 20, 'lqA') : 0.9775429386668344\n",
      "\t(20, 20, 'lQA') : 0.9785318368013967\n",
      "\t(20, 25, 'l') : 0.9677907896658766\n",
      "\t(20, 25, 'lq') : 0.9838320337138862\n",
      "\t(20, 25, 'lQ') : 0.9704525063534076\n",
      "\t(20, 25, 'lqa') : 0.9835219820588277\n",
      "\t(20, 25, 'lQa') : 0.9833989753569294\n",
      "\t(20, 25, 'lqA') : 0.9857965576632992\n",
      "\t(20, 25, 'lQA') : 0.9790552293444093\n",
      "\t(20, 30, 'l') : 0.9695292460145527\n",
      "\t(20, 30, 'lq') : 0.975201854080904\n",
      "\t(20, 30, 'lQ') : 0.9726398412022516\n",
      "\t(20, 30, 'lqa') : 0.96252105228604\n",
      "\t(20, 30, 'lQa') : 0.9661961170168901\n",
      "\t(20, 30, 'lqA') : 0.9861188580880572\n",
      "\t(20, 30, 'lQA') : 0.9817137055735405\n",
      "\t(20, 35, 'l') : 0.9749230561842446\n",
      "\t(20, 35, 'lq') : 0.9828577962347994\n",
      "\t(20, 35, 'lQ') : 0.9693561684130648\n",
      "\t(20, 35, 'lqa') : 0.9439627495251902\n",
      "\t(20, 35, 'lQa') : 0.9735233195834703\n",
      "\t(20, 35, 'lqA') : 0.9857423537791911\n",
      "\t(20, 35, 'lQA') : 0.9724212638603377\n",
      "\t(20, 40, 'l') : 0.9713756255758995\n",
      "\t(20, 40, 'lq') : 0.983871813731749\n",
      "\t(20, 40, 'lQ') : 0.9627726243200493\n",
      "\t(20, 40, 'lqa') : 0.9487356698272682\n",
      "\t(20, 40, 'lQa') : 0.9748300181749221\n",
      "\t(20, 40, 'lqA') : 0.9762921221652314\n",
      "\t(20, 40, 'lQA') : 0.976489765414576\n",
      "\t(25, 10, 'l') : 0.9750831850789313\n",
      "\t(25, 10, 'lq') : 0.9815517668875551\n",
      "\t(25, 10, 'lQ') : 0.9888529187862133\n",
      "\t(25, 10, 'lqa') : 0.9902161376226207\n",
      "\t(25, 10, 'lQa') : 0.9855782740321624\n",
      "\t(25, 10, 'lqA') : 0.9767855493987196\n",
      "\t(25, 10, 'lQA') : 0.9830944252798485\n",
      "\t(25, 15, 'l') : 0.9766450677883107\n",
      "\t(25, 15, 'lq') : 0.9827919500405301\n",
      "\t(25, 15, 'lQ') : 0.9924248538470077\n",
      "\t(25, 15, 'lqa') : 0.986305106490424\n",
      "\t(25, 15, 'lQa') : 0.9778797968806081\n",
      "\t(25, 15, 'lqA') : 0.967053123795427\n",
      "\t(25, 15, 'lQA') : 0.9812864500817406\n",
      "\t(25, 20, 'l') : 0.9766504115833952\n",
      "\t(25, 20, 'lq') : 0.9766343202289733\n",
      "\t(25, 20, 'lQ') : 0.9856600825791211\n",
      "\t(25, 20, 'lqa') : 0.9860015878620376\n",
      "\t(25, 20, 'lQa') : 0.9617464965981043\n",
      "\t(25, 20, 'lqA') : 0.9745291041100023\n",
      "\t(25, 20, 'lQA') : 0.9917184241262282\n",
      "\t(25, 25, 'l') : 0.9739775699193908\n",
      "\t(25, 25, 'lq') : 0.9555712666990849\n",
      "\t(25, 25, 'lQ') : 0.9829826767568616\n",
      "\t(25, 25, 'lqa') : 0.9710985191367842\n",
      "\t(25, 25, 'lQa') : 0.9640045267561597\n",
      "\t(25, 25, 'lqA') : 0.984458302304265\n",
      "\t(25, 25, 'lQA') : 0.9807105967372907\n",
      "\t(25, 30, 'l') : 0.9732587644598635\n",
      "\t(25, 30, 'lq') : 0.9573900922500411\n",
      "\t(25, 30, 'lQ') : 0.9685339494119605\n",
      "\t(25, 30, 'lqa') : 0.9814993589432404\n",
      "\t(25, 30, 'lQa') : 0.9661411655037067\n",
      "\t(25, 30, 'lqA') : 0.9570443002331507\n",
      "\t(25, 30, 'lQA') : 0.9857491514005052\n",
      "\t(25, 35, 'l') : 0.9735017347050465\n",
      "\t(25, 35, 'lq') : 0.9584687267826753\n",
      "\t(25, 35, 'lQ') : 0.9817152400570788\n",
      "\t(25, 35, 'lqa') : 0.9686751855789617\n",
      "\t(25, 35, 'lQa') : 0.9599791215944049\n",
      "\t(25, 35, 'lqA') : 0.9700670559688086\n",
      "\t(25, 35, 'lQA') : 0.9807559344899704\n",
      "\t(25, 40, 'l') : 0.9758923083475819\n",
      "\t(25, 40, 'lq') : 0.964222259232101\n",
      "\t(25, 40, 'lQ') : 0.969590552688114\n",
      "\t(25, 40, 'lqa') : 0.9595306608443337\n",
      "\t(25, 40, 'lQa') : 0.9526435013546248\n",
      "\t(25, 40, 'lqA') : 0.9629747511295583\n",
      "\t(25, 40, 'lQA') : 0.9727956152203924\n",
      "\t(30, 10, 'l') : 0.9773595424904852\n",
      "\t(30, 10, 'lq') : 0.9842592508855941\n",
      "\t(30, 10, 'lQ') : 0.9738247282643796\n",
      "\t(30, 10, 'lqa') : 0.9835510809746267\n",
      "\t(30, 10, 'lQa') : 0.9800626666101698\n",
      "\t(30, 10, 'lqA') : 0.9787941610091679\n",
      "\t(30, 10, 'lQA') : 0.9862428065186291\n",
      "\t(30, 15, 'l') : 0.9752613743270392\n",
      "\t(30, 15, 'lq') : 0.9797083453071952\n",
      "\t(30, 15, 'lQ') : 0.9826651061781518\n",
      "\t(30, 15, 'lqa') : 0.9835615558730867\n",
      "\t(30, 15, 'lQa') : 0.9830785849663674\n",
      "\t(30, 15, 'lqA') : 0.9794958941916008\n",
      "\t(30, 15, 'lQA') : 0.9808683736443423\n",
      "\t(30, 20, 'l') : 0.9785399442612833\n",
      "\t(30, 20, 'lq') : 0.9813918932950169\n",
      "\t(30, 20, 'lQ') : 0.9778334746234123\n",
      "\t(30, 20, 'lqa') : 0.9747082858153993\n",
      "\t(30, 20, 'lQa') : 0.9797859125801031\n",
      "\t(30, 20, 'lqA') : 0.979943769391504\n",
      "\t(30, 20, 'lQA') : 0.9545100974607349\n",
      "\t(30, 25, 'l') : 0.9748907678049239\n",
      "\t(30, 25, 'lq') : 0.9676629036204958\n",
      "\t(30, 25, 'lQ') : 0.9701607488049522\n",
      "\t(30, 25, 'lqa') : 0.9788891478905574\n",
      "\t(30, 25, 'lQa') : 0.9746866777245312\n",
      "\t(30, 25, 'lqA') : 0.9692512754444543\n",
      "\t(30, 25, 'lQA') : 0.9535979658911655\n",
      "\t(30, 30, 'l') : 0.9770332786538293\n",
      "\t(30, 30, 'lq') : 0.9756692501615116\n",
      "\t(30, 30, 'lQ') : 0.9759721260150553\n",
      "\t(30, 30, 'lqa') : 0.952423273533975\n",
      "\t(30, 30, 'lQa') : 0.9772752452608915\n",
      "\t(30, 30, 'lqA') : 0.9788394734638106\n",
      "\t(30, 30, 'lQA') : 0.9630009353307759\n",
      "\t(30, 35, 'l') : 0.9762557373085248\n",
      "\t(30, 35, 'lq') : 0.9749138379359377\n",
      "\t(30, 35, 'lQ') : 0.976826705795594\n",
      "\t(30, 35, 'lqa') : 0.9512841772529567\n",
      "\t(30, 35, 'lQa') : 0.9781813696013231\n",
      "\t(30, 35, 'lqA') : 0.9695187646781553\n",
      "\t(30, 35, 'lQA') : 0.9572291740474705\n",
      "\t(30, 40, 'l') : 0.976394272732859\n",
      "\t(30, 40, 'lq') : 0.9706527519661056\n",
      "\t(30, 40, 'lQ') : 0.9790818545380479\n",
      "\t(30, 40, 'lqa') : 0.9483561885930566\n",
      "\t(30, 40, 'lQa') : 0.9772155884207759\n",
      "\t(30, 40, 'lqA') : 0.975462892736481\n",
      "\t(30, 40, 'lQA') : 0.95068008743601\n",
      "\t(35, 10, 'l') : 0.9774960424630526\n",
      "\t(35, 10, 'lq') : 0.9830134507819496\n",
      "\t(35, 10, 'lQ') : 0.9766993527777474\n",
      "\t(35, 10, 'lqa') : 0.9880253214047744\n",
      "\t(35, 10, 'lQa') : 0.9712770578501684\n",
      "\t(35, 10, 'lqA') : 0.9769868046100983\n",
      "\t(35, 10, 'lQA') : 0.9845998926329015\n",
      "\t(35, 15, 'l') : 0.9768457761069124\n",
      "\t(35, 15, 'lq') : 0.9829283851635847\n",
      "\t(35, 15, 'lQ') : 0.9825922840988334\n",
      "\t(35, 15, 'lqa') : 0.9761875861630891\n",
      "\t(35, 15, 'lQa') : 0.9725078294345614\n",
      "\t(35, 15, 'lqA') : 0.9750854511545624\n",
      "\t(35, 15, 'lQA') : 0.9866448595879478\n",
      "\t(35, 20, 'l') : 0.9738032394129628\n",
      "\t(35, 20, 'lq') : 0.9843387130965117\n",
      "\t(35, 20, 'lQ') : 0.9754521768752251\n",
      "\t(35, 20, 'lqa') : 0.9662986838960006\n",
      "\t(35, 20, 'lQa') : 0.9766427393452726\n",
      "\t(35, 20, 'lqA') : 0.9671141376974305\n",
      "\t(35, 20, 'lQA') : 0.9773125692705099\n",
      "\t(35, 25, 'l') : 0.9733907398381029\n",
      "\t(35, 25, 'lq') : 0.9857962956014439\n",
      "\t(35, 25, 'lQ') : 0.9738329456057425\n",
      "\t(35, 25, 'lqa') : 0.9682687107410557\n",
      "\t(35, 25, 'lQa') : 0.972236670272305\n",
      "\t(35, 25, 'lqA') : 0.9816513438558496\n",
      "\t(35, 25, 'lQA') : 0.9855709047079872\n",
      "\t(35, 30, 'l') : 0.9748068941158521\n",
      "\t(35, 30, 'lq') : 0.9807961114188314\n",
      "\t(35, 30, 'lQ') : 0.971337094381283\n",
      "\t(35, 30, 'lqa') : 0.9527369573406596\n",
      "\t(35, 30, 'lQa') : 0.9643410775803327\n",
      "\t(35, 30, 'lqA') : 0.9715334991291575\n",
      "\t(35, 30, 'lQA') : 0.978479860134893\n",
      "\t(35, 35, 'l') : 0.9751962925070778\n",
      "\t(35, 35, 'lq') : 0.9845962382951402\n",
      "\t(35, 35, 'lQ') : 0.9768739498772614\n",
      "\t(35, 35, 'lqa') : 0.9608888209320142\n",
      "\t(35, 35, 'lQa') : 0.9569045963192389\n",
      "\t(35, 35, 'lqA') : 0.973195707492695\n",
      "\t(35, 35, 'lQA') : 0.9805970942802402\n",
      "\t(35, 40, 'l') : 0.9734227342572873\n",
      "\t(35, 40, 'lq') : 0.9789805951856778\n",
      "\t(35, 40, 'lQ') : 0.9663026544171208\n",
      "\t(35, 40, 'lqa') : 0.9427965338281602\n",
      "\t(35, 40, 'lQa') : 0.9623812346032278\n",
      "\t(35, 40, 'lqA') : 0.9777510240642105\n",
      "\t(35, 40, 'lQA') : 0.9782281152452345\n",
      "\t(40, 10, 'l') : 0.976349993714168\n",
      "\t(40, 10, 'lq') : 0.9789360308486883\n",
      "\t(40, 10, 'lQ') : 0.9820034217068601\n",
      "\t(40, 10, 'lqa') : 0.9832339238399266\n",
      "\t(40, 10, 'lQa') : 0.9853120479494247\n",
      "\t(40, 10, 'lqA') : 0.9806406623786241\n",
      "\t(40, 10, 'lQA') : 0.9859531052542202\n",
      "\t(40, 15, 'l') : 0.9739238219323471\n",
      "\t(40, 15, 'lq') : 0.978220721828621\n",
      "\t(40, 15, 'lQ') : 0.9858012622579904\n",
      "\t(40, 15, 'lqa') : 0.9745984538397194\n",
      "\t(40, 15, 'lQa') : 0.9590226871233951\n",
      "\t(40, 15, 'lqA') : 0.9765237526753164\n",
      "\t(40, 15, 'lQA') : 0.9831468186166401\n",
      "\t(40, 20, 'l') : 0.9738834303248203\n",
      "\t(40, 20, 'lq') : 0.9741898839777389\n",
      "\t(40, 20, 'lQ') : 0.9820343107609738\n",
      "\t(40, 20, 'lqa') : 0.9738329655381119\n",
      "\t(40, 20, 'lQa') : 0.9560401046544126\n",
      "\t(40, 20, 'lqA') : 0.9773888044133746\n",
      "\t(40, 20, 'lQA') : 0.9766991153070197\n",
      "\t(40, 25, 'l') : 0.9755505679864884\n",
      "\t(40, 25, 'lq') : 0.966599918701422\n",
      "\t(40, 25, 'lQ') : 0.9772620867080316\n"
     ]
    },
    {
     "name": "stdout",
     "output_type": "stream",
     "text": [
      "\t(40, 25, 'lqa') : 0.9733631817859864\n",
      "\t(40, 25, 'lQa') : 0.9648817446073126\n",
      "\t(40, 25, 'lqA') : 0.9818434767674672\n",
      "\t(40, 25, 'lQA') : 0.9822067252091458\n",
      "\t(40, 30, 'l') : 0.9752990823169161\n",
      "\t(40, 30, 'lq') : 0.9639868557544183\n",
      "\t(40, 30, 'lQ') : 0.9749294592458091\n",
      "\t(40, 30, 'lqa') : 0.9804469749170878\n",
      "\t(40, 30, 'lQa') : 0.9600555899937171\n",
      "\t(40, 30, 'lqA') : 0.9722484275212663\n",
      "\t(40, 30, 'lQA') : 0.9773965073697125\n",
      "\t(40, 35, 'l') : 0.9774617358963686\n",
      "\t(40, 35, 'lq') : 0.9745136356440195\n",
      "\t(40, 35, 'lQ') : 0.9673109080297203\n",
      "\t(40, 35, 'lqa') : 0.958916571585357\n",
      "\t(40, 35, 'lQa') : 0.9606859458173663\n",
      "\t(40, 35, 'lqA') : 0.97889815745157\n",
      "\t(40, 35, 'lQA') : 0.9735652246144727\n",
      "\t(40, 40, 'l') : 0.9791583504634445\n",
      "\t(40, 40, 'lq') : 0.9750254064626043\n",
      "\t(40, 40, 'lQ') : 0.9706693810386231\n",
      "\t(40, 40, 'lqa') : 0.9730670444302312\n",
      "\t(40, 40, 'lQa') : 0.9594960368587382\n",
      "\t(40, 40, 'lqA') : 0.9703023241831806\n",
      "\t(40, 40, 'lQA') : 0.9705625449516716\n",
      "\t(50, 10, 'l') : 0.9758107673666714\n",
      "\t(50, 10, 'lq') : 0.9843154792366187\n",
      "\t(50, 10, 'lQ') : 0.9845788892145122\n",
      "\t(50, 10, 'lqa') : 0.9740442537931857\n",
      "\t(50, 10, 'lQa') : 0.985210912201129\n",
      "\t(50, 10, 'lqA') : 0.9751624458736465\n",
      "\t(50, 10, 'lQA') : 0.9725776668811075\n",
      "\t(50, 15, 'l') : 0.9746964486516958\n",
      "\t(50, 15, 'lq') : 0.9829135984150851\n",
      "\t(50, 15, 'lQ') : 0.9808045396788498\n",
      "\t(50, 15, 'lqa') : 0.9751268283887025\n",
      "\t(50, 15, 'lQa') : 0.972556861074847\n",
      "\t(50, 15, 'lqA') : 0.9782285815786419\n",
      "\t(50, 15, 'lQA') : 0.9838721373187862\n",
      "\t(50, 20, 'l') : 0.974749396457642\n",
      "\t(50, 20, 'lq') : 0.9741685332411344\n",
      "\t(50, 20, 'lQ') : 0.9806996497374003\n",
      "\t(50, 20, 'lqa') : 0.9728619821877595\n",
      "\t(50, 20, 'lQa') : 0.9640596920215623\n",
      "\t(50, 20, 'lqA') : 0.9601726034967926\n",
      "\t(50, 20, 'lQA') : 0.9723318260645093\n",
      "\t(50, 25, 'l') : 0.9729206548533776\n",
      "\t(50, 25, 'lq') : 0.9700562124074079\n",
      "\t(50, 25, 'lQ') : 0.9716173134952972\n",
      "\t(50, 25, 'lqa') : 0.9622311068113388\n",
      "\t(50, 25, 'lQa') : 0.9595961259491731\n",
      "\t(50, 25, 'lqA') : 0.9597418083780463\n",
      "\t(50, 25, 'lQA') : 0.9741569210609621\n",
      "\t(50, 30, 'l') : 0.9753201346903098\n",
      "\t(50, 30, 'lq') : 0.9616867423739645\n",
      "\t(50, 30, 'lQ') : 0.9703606977981847\n",
      "\t(50, 30, 'lqa') : 0.9552685215111099\n",
      "\t(50, 30, 'lQa') : 0.9736409089124141\n",
      "\t(50, 30, 'lqA') : 0.9520876358378654\n",
      "\t(50, 30, 'lQA') : 0.9641013810806538\n",
      "\t(50, 35, 'l') : 0.9763262382554159\n",
      "\t(50, 35, 'lq') : 0.9556562904150449\n",
      "\t(50, 35, 'lQ') : 0.9630930971491285\n",
      "\t(50, 35, 'lqa') : 0.9572371023130936\n",
      "\t(50, 35, 'lQa') : 0.9530023871400044\n",
      "\t(50, 35, 'lqA') : 0.9597767404230072\n",
      "\t(50, 35, 'lQA') : 0.9689794870061734\n",
      "\t(50, 40, 'l') : 0.9746614367176065\n",
      "\t(50, 40, 'lq') : 0.9572365579988474\n",
      "\t(50, 40, 'lQ') : 0.9733714096606776\n",
      "\t(50, 40, 'lqa') : 0.940706828339798\n",
      "\t(50, 40, 'lQa') : 0.9486791512680657\n",
      "\t(50, 40, 'lqA') : 0.9670065172109024\n",
      "\t(50, 40, 'lQA') : 0.96772704332059\n",
      "\t(100, 10, 'l') : 0.9729722453484109\n",
      "\t(100, 10, 'lq') : 0.9660903941985255\n",
      "\t(100, 10, 'lQ') : 0.9774605286873946\n",
      "\t(100, 10, 'lqa') : 0.9665610064940574\n",
      "\t(100, 10, 'lQa') : 0.9777654648140192\n",
      "\t(100, 10, 'lqA') : 0.9560438078611815\n",
      "\t(100, 10, 'lQA') : 0.9580007811670846\n",
      "\t(100, 15, 'l') : 0.9703849919442601\n",
      "\t(100, 15, 'lq') : 0.9602371396115964\n",
      "\t(100, 15, 'lQ') : 0.9764588402540414\n",
      "\t(100, 15, 'lqa') : 0.9698554200979668\n",
      "\t(100, 15, 'lQa') : 0.9777305821800296\n",
      "\t(100, 15, 'lqA') : 0.9640280729538301\n",
      "\t(100, 15, 'lQA') : 0.9798274238600732\n",
      "\t(100, 20, 'l') : 0.9673457604093518\n",
      "\t(100, 20, 'lq') : 0.9610273518683786\n",
      "\t(100, 20, 'lQ') : 0.9754611718651275\n",
      "\t(100, 20, 'lqa') : 0.9705743205971343\n",
      "\t(100, 20, 'lQa') : 0.9775482362922526\n",
      "\t(100, 20, 'lqA') : 0.9641259171836467\n",
      "\t(100, 20, 'lQA') : 0.955498134414105\n",
      "\t(100, 25, 'l') : 0.9701745816480555\n",
      "\t(100, 25, 'lq') : 0.9606428289738366\n",
      "\t(100, 25, 'lQ') : 0.979596575624758\n",
      "\t(100, 25, 'lqa') : 0.9642320908075277\n",
      "\t(100, 25, 'lQa') : 0.9648284425121889\n",
      "\t(100, 25, 'lqA') : 0.9622444636132395\n",
      "\t(100, 25, 'lQA') : 0.9635254589925621\n",
      "\t(100, 30, 'l') : 0.9693692074474192\n",
      "\t(100, 30, 'lq') : 0.967377218679371\n",
      "\t(100, 30, 'lQ') : 0.9697066359669436\n",
      "\t(100, 30, 'lqa') : 0.9551295813304981\n",
      "\t(100, 30, 'lQa') : 0.9684056067065634\n",
      "\t(100, 30, 'lqA') : 0.9586500249390464\n",
      "\t(100, 30, 'lQA') : 0.9725588229076567\n",
      "\t(100, 35, 'l') : 0.9719152624465371\n",
      "\t(100, 35, 'lq') : 0.9612433970063596\n",
      "\t(100, 35, 'lQ') : 0.943733888658657\n",
      "\t(100, 35, 'lqa') : 0.9640701874248041\n",
      "\t(100, 35, 'lQa') : 0.9674353984345124\n",
      "\t(100, 35, 'lqA') : 0.9553461418319779\n",
      "\t(100, 35, 'lQA') : 0.9713474915213037\n",
      "\t(100, 40, 'l') : 0.9680170014206214\n",
      "\t(100, 40, 'lq') : 0.9672343429014918\n",
      "\t(100, 40, 'lQ') : 0.9500233425678808\n",
      "\t(100, 40, 'lqa') : 0.9568362561982536\n",
      "\t(100, 40, 'lQa') : 0.9740243974898731\n",
      "\t(100, 40, 'lqA') : 0.9599775306413086\n",
      "\t(100, 40, 'lQA') : 0.9617445794410936\n",
      "\n"
     ]
    }
   ],
   "source": [
    "param_scores = []\n",
    "for params in tqdm(param_grid, desc='params', leave=True):\n",
    "    result = grid_search(params)\n",
    "    param_scores.append(result)"
   ]
  },
  {
   "cell_type": "code",
   "execution_count": 15,
   "metadata": {
    "ExecuteTime": {
     "end_time": "2020-02-22T00:23:12.170006Z",
     "start_time": "2020-02-22T00:23:12.160116Z"
    },
    "scrolled": true
   },
   "outputs": [
    {
     "data": {
      "text/plain": [
       "array(['25', '15', 'lQ'], dtype='<U21')"
      ]
     },
     "execution_count": 15,
     "metadata": {},
     "output_type": "execute_result"
    }
   ],
   "source": [
    "np.array(param_grid)[np.argmax(param_scores)]"
   ]
  },
  {
   "cell_type": "code",
   "execution_count": 16,
   "metadata": {
    "ExecuteTime": {
     "end_time": "2020-02-22T00:23:18.934961Z",
     "start_time": "2020-02-22T00:23:18.902715Z"
    }
   },
   "outputs": [],
   "source": [
    "gs_results = pd.DataFrame(param_grid, columns=['topics', 'wsize', 'corpus'])\n",
    "gs_results['correlation'] = param_scores\n",
    "# gs_results.to_pickle(opj(datadir, 'grid_search_results.p'))"
   ]
  },
  {
   "cell_type": "code",
   "execution_count": 22,
   "metadata": {
    "ExecuteTime": {
     "end_time": "2020-02-21T15:19:33.522221Z",
     "start_time": "2020-02-21T15:19:33.514062Z"
    }
   },
   "outputs": [],
   "source": [
    "# gs_results = pd.read_pickle(opj(datadir, 'grid_search_results.p'))\n",
    "# param_scores = gs_results['correlation'].tolist()"
   ]
  },
  {
   "cell_type": "code",
   "execution_count": 17,
   "metadata": {
    "ExecuteTime": {
     "end_time": "2020-02-22T00:23:22.990637Z",
     "start_time": "2020-02-22T00:23:22.976573Z"
    }
   },
   "outputs": [
    {
     "data": {
      "text/html": [
       "<div>\n",
       "<style scoped>\n",
       "    .dataframe tbody tr th:only-of-type {\n",
       "        vertical-align: middle;\n",
       "    }\n",
       "\n",
       "    .dataframe tbody tr th {\n",
       "        vertical-align: top;\n",
       "    }\n",
       "\n",
       "    .dataframe thead th {\n",
       "        text-align: right;\n",
       "    }\n",
       "</style>\n",
       "<table border=\"1\" class=\"dataframe\">\n",
       "  <thead>\n",
       "    <tr style=\"text-align: right;\">\n",
       "      <th></th>\n",
       "      <th>topics</th>\n",
       "      <th>wsize</th>\n",
       "      <th>corpus</th>\n",
       "      <th>correlation</th>\n",
       "    </tr>\n",
       "  </thead>\n",
       "  <tbody>\n",
       "    <tr>\n",
       "      <th>0</th>\n",
       "      <td>20</td>\n",
       "      <td>10</td>\n",
       "      <td>l</td>\n",
       "      <td>0.970561</td>\n",
       "    </tr>\n",
       "    <tr>\n",
       "      <th>1</th>\n",
       "      <td>20</td>\n",
       "      <td>10</td>\n",
       "      <td>lq</td>\n",
       "      <td>0.983568</td>\n",
       "    </tr>\n",
       "    <tr>\n",
       "      <th>2</th>\n",
       "      <td>20</td>\n",
       "      <td>10</td>\n",
       "      <td>lQ</td>\n",
       "      <td>0.981057</td>\n",
       "    </tr>\n",
       "    <tr>\n",
       "      <th>3</th>\n",
       "      <td>20</td>\n",
       "      <td>10</td>\n",
       "      <td>lqa</td>\n",
       "      <td>0.985153</td>\n",
       "    </tr>\n",
       "    <tr>\n",
       "      <th>4</th>\n",
       "      <td>20</td>\n",
       "      <td>10</td>\n",
       "      <td>lQa</td>\n",
       "      <td>0.982911</td>\n",
       "    </tr>\n",
       "    <tr>\n",
       "      <th>5</th>\n",
       "      <td>20</td>\n",
       "      <td>10</td>\n",
       "      <td>lqA</td>\n",
       "      <td>0.981087</td>\n",
       "    </tr>\n",
       "    <tr>\n",
       "      <th>6</th>\n",
       "      <td>20</td>\n",
       "      <td>10</td>\n",
       "      <td>lQA</td>\n",
       "      <td>0.981860</td>\n",
       "    </tr>\n",
       "  </tbody>\n",
       "</table>\n",
       "</div>"
      ],
      "text/plain": [
       "   topics  wsize corpus  correlation\n",
       "0      20     10      l     0.970561\n",
       "1      20     10     lq     0.983568\n",
       "2      20     10     lQ     0.981057\n",
       "3      20     10    lqa     0.985153\n",
       "4      20     10    lQa     0.982911\n",
       "5      20     10    lqA     0.981087\n",
       "6      20     10    lQA     0.981860"
      ]
     },
     "execution_count": 17,
     "metadata": {},
     "output_type": "execute_result"
    }
   ],
   "source": [
    "gs_results.head(7)"
   ]
  },
  {
   "cell_type": "code",
   "execution_count": null,
   "metadata": {
    "ExecuteTime": {
     "end_time": "2020-02-22T00:24:15.030962Z",
     "start_time": "2020-02-22T00:24:15.024615Z"
    }
   },
   "outputs": [],
   "source": []
  },
  {
   "cell_type": "code",
   "execution_count": 21,
   "metadata": {
    "ExecuteTime": {
     "end_time": "2020-02-22T00:24:44.173480Z",
     "start_time": "2020-02-22T00:24:41.436335Z"
    },
    "scrolled": false
   },
   "outputs": [
    {
     "data": {
      "image/png": "[encoded data removed]",
      "text/plain": [
       "<Figure size 1008x432 with 15 Axes>"
      ]
     },
     "metadata": {
      "needs_background": "light"
     },
     "output_type": "display_data"
    }
   ],
   "source": [
    "fig, axarr = plt.subplots(2, 4)\n",
    "fig.set_size_inches(14, 6)\n",
    "axarr = axarr.flatten()\n",
    "\n",
    "param_arr = np.array(param_scores).reshape(7, 7, 7)\n",
    "\n",
    "for i, (ax, arr) in enumerate(zip(axarr, param_arr.T)):\n",
    "    cb = True\n",
    "    yt = lecture_wsize if i in [0, 4] else []\n",
    "    ax = sns.heatmap(arr, vmin=.94, vmax=1, xticklabels=n_topics, yticklabels=yt, ax=ax, cbar=cb)\n",
    "    ax.set_title(f'Corpus: {corpora[i]}')\n",
    "    if i >= 3:\n",
    "        ax.set_xlabel('Number of topics')\n",
    "    if i in [0, 4]:\n",
    "        ax.set_ylabel('Lecture window size')\n",
    "        \n",
    "    if i == 2:\n",
    "        max_cell = np.unravel_index(arr.argmax(), arr.shape)\n",
    "        ax.add_patch(Rectangle(max_cell, 1, 1, fill=False, edgecolor='#FFF9AE', lw=3))\n",
    "        \n",
    "    \n",
    "    \n",
    "axarr[-1].axis('off')\n",
    "plt.tight_layout()\n",
    "# plt.savefig(opj(figdir, 'parameter_search.pdf'), bbox_inches='tight')\n",
    "plt.show()"
   ]
  },
  {
   "cell_type": "code",
   "execution_count": null,
   "metadata": {},
   "outputs": [],
   "source": []
  }
 ],
 "metadata": {
  "kernelspec": {
   "display_name": "Python 3",
   "language": "python",
   "name": "python3"
  },
  "language_info": {
   "codemirror_mode": {
    "name": "ipython",
    "version": 3
   },
   "file_extension": ".py",
   "mimetype": "text/x-python",
   "name": "python",
   "nbconvert_exporter": "python",
   "pygments_lexer": "ipython3",
   "version": "3.7.4"
  }
 },
 "nbformat": 4,
 "nbformat_minor": 2
}
