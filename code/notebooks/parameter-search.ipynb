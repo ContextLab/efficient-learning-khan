{
 "cells": [
  {
   "cell_type": "markdown",
   "metadata": {},
   "source": [
    "## Imports"
   ]
  },
  {
   "cell_type": "code",
   "execution_count": 35,
   "metadata": {
    "ExecuteTime": {
     "end_time": "2020-02-21T15:25:12.369997Z",
     "start_time": "2020-02-21T15:25:12.317964Z"
    }
   },
   "outputs": [],
   "source": [
    "import re\n",
    "import sys\n",
    "from datetime import timedelta\n",
    "from os.path import abspath, join as opj\n",
    "import numpy as np\n",
    "import pandas as pd\n",
    "from nltk.corpus import stopwords\n",
    "from scipy.interpolate import interp1d\n",
    "from scipy.spatial.distance import cdist\n",
    "from scipy.stats import entropy, pearsonr\n",
    "from sklearn.decomposition import LatentDirichletAllocation\n",
    "from sklearn.feature_extraction.text import CountVectorizer\n",
    "from tqdm.notebook import tqdm\n",
    "\n",
    "sys.path.insert(0, abspath('../helpers/'))\n",
    "from participant import Participant\n",
    "from experiment import Experiment\n",
    "\n",
    "import matplotlib.pyplot as plt\n",
    "from matplotlib.patches import Rectangle\n",
    "import seaborn as sns\n",
    "%matplotlib inline"
   ]
  },
  {
   "cell_type": "markdown",
   "metadata": {},
   "source": [
    "## Set paths"
   ]
  },
  {
   "cell_type": "code",
   "execution_count": 2,
   "metadata": {
    "ExecuteTime": {
     "end_time": "2020-02-20T23:50:22.231376Z",
     "start_time": "2020-02-20T23:50:22.218388Z"
    }
   },
   "outputs": [],
   "source": [
    "datadir = '../../data/'\n",
    "rawdir = opj(datadir, 'raw')\n",
    "figdir = '../../figures/'"
   ]
  },
  {
   "cell_type": "markdown",
   "metadata": {},
   "source": [
    "## Load data"
   ]
  },
  {
   "cell_type": "code",
   "execution_count": 3,
   "metadata": {
    "ExecuteTime": {
     "end_time": "2020-02-20T23:50:26.053386Z",
     "start_time": "2020-02-20T23:50:22.238528Z"
    },
    "scrolled": true
   },
   "outputs": [],
   "source": [
    "# four forces lecture transcript\n",
    "with open(opj(rawdir, 'forces_transcript_timestamped.txt'), 'r') as f:\n",
    "    ff_transcript = f.read()\n",
    "\n",
    "# birth of stars lecture transcript\n",
    "with open(opj(rawdir, 'bos_transcript_timestamped.txt'), 'r') as f:\n",
    "    bos_transcript = f.read()\n",
    "    \n",
    "# questions\n",
    "questions_df = pd.read_csv(opj(rawdir, 'questions.tsv'), sep='\\t', \n",
    "                           names=['index', 'lecture', 'question', \n",
    "                                  'ans_A', 'ans_B', 'ans_C', 'ans_D'], \n",
    "                           index_col='index')\n",
    "\n",
    "# participants' scores\n",
    "raw_data = raw_data = pd.read_csv(opj(rawdir, 'psiturk-data-raw.tsv'), sep='\\t', index_col='Unnamed: 0')\n",
    "# scores_df = pd.read_csv(opj(rawdir, 'Graded_results_19f_49.csv'), index_col='Unnamed: 0')\n",
    "participants = []\n",
    "for ix, row in raw_data.iterrows():\n",
    "    p = Participant.from_psiturk(row, subid=f'P{ix + 1}')\n",
    "    participants.append(p)"
   ]
  },
  {
   "cell_type": "markdown",
   "metadata": {},
   "source": [
    "## Set basic params"
   ]
  },
  {
   "cell_type": "code",
   "execution_count": 4,
   "metadata": {
    "ExecuteTime": {
     "end_time": "2020-02-20T23:50:27.920833Z",
     "start_time": "2020-02-20T23:50:27.915238Z"
    }
   },
   "outputs": [],
   "source": [
    "stop_words = stopwords.words('english') + [\"let\", \"let's\", \"they'd\", \"they're\", \n",
    "                                           \"they've\", \"they'll\", \"that's\", \n",
    "                                           \"I'll\", \"I'm\", \"really\", \"even\"]\n",
    "# cv_params = {\n",
    "#     'max_df': 0.95,\n",
    "#     'min_df': 2,\n",
    "#     'max_features': 500,\n",
    "#     'stop_words': stop_words\n",
    "# }\n",
    "\n",
    "cv_params = {\n",
    "    'strip_accents': 'unicode',\n",
    "    'stop_words': stop_words,\n",
    "}\n",
    "\n",
    "\n",
    "lda_params = {\n",
    "    'learning_method': 'batch',\n",
    "    'random_state': 0\n",
    "}"
   ]
  },
  {
   "cell_type": "markdown",
   "metadata": {
    "ExecuteTime": {
     "end_time": "2020-02-10T21:37:05.188741Z",
     "start_time": "2020-02-10T21:37:05.169091Z"
    }
   },
   "source": [
    "## Define some functions"
   ]
  },
  {
   "cell_type": "code",
   "execution_count": 5,
   "metadata": {
    "ExecuteTime": {
     "end_time": "2020-02-20T23:50:28.898291Z",
     "start_time": "2020-02-20T23:50:28.892191Z"
    }
   },
   "outputs": [],
   "source": [
    "def r2z(r):\n",
    "    with np.errstate(invalid='ignore', divide='ignore'):\n",
    "        return 0.5 * (np.log(1 + r) - np.log(1 - r))\n",
    "    \n",
    "\n",
    "def z2r(z):\n",
    "    with np.errstate(invalid='ignore', divide='ignore'):\n",
    "        return (np.exp(2 * z) - 1) / (np.exp(2 * z) + 1)\n",
    "    \n",
    "\n",
    "def corr_mean(rs, axis=0):\n",
    "    return z2r(np.nanmean([r2z(r) for r in rs], axis=axis))"
   ]
  },
  {
   "cell_type": "code",
   "execution_count": 6,
   "metadata": {
    "ExecuteTime": {
     "end_time": "2020-02-20T23:50:29.317481Z",
     "start_time": "2020-02-20T23:50:29.310655Z"
    }
   },
   "outputs": [],
   "source": [
    "def format_text(windows, sw=stop_words):\n",
    "    clean_text = []\n",
    "    for chunk in windows:\n",
    "        no_punc = re.sub(\"[^a-zA-Z\\s'-]+\", '', chunk.lower()).replace('-', ' ')\n",
    "        no_stop = ' '.join([word for word in no_punc.split() if word not in sw])\n",
    "        clean = re.sub(\"'+\", '', no_stop)\n",
    "        clean_text.append(clean)\n",
    "    return clean_text"
   ]
  },
  {
   "cell_type": "code",
   "execution_count": 7,
   "metadata": {
    "ExecuteTime": {
     "end_time": "2020-02-20T23:50:30.774974Z",
     "start_time": "2020-02-20T23:50:30.762848Z"
    }
   },
   "outputs": [],
   "source": [
    "def _ts_to_secs(ts):\n",
    "    mins, secs = ts.split(':')\n",
    "    mins, secs = int(mins), int(secs)\n",
    "    return timedelta(minutes=mins, seconds=secs).total_seconds()\n",
    "    \n",
    "\n",
    "def parse_windows(transcript, wsize):\n",
    "    lines = transcript.splitlines()\n",
    "    text_lines = [l for ix, l in enumerate(lines) if ix % 2]\n",
    "    ts_lines = [_ts_to_secs(l) for ix, l in enumerate(lines) if not ix % 2]    \n",
    "    windows = []\n",
    "    timestamps = []\n",
    "    for ix in range(1, wsize):\n",
    "        start, end = 0, ix\n",
    "        windows.append(' '.join(text_lines[start : end]))\n",
    "        timestamps.append((ts_lines[start] + ts_lines[end - 1]) / 2)\n",
    "\n",
    "    for ix in range(len(ts_lines)):\n",
    "        start = ix\n",
    "        end = ix + wsize if ix + wsize <= len(text_lines) else len(text_lines)\n",
    "        windows.append(' '.join(text_lines[start : end]))\n",
    "        timestamps.append((ts_lines[start] + ts_lines[end - 1]) / 2)\n",
    "        \n",
    "    return windows, timestamps"
   ]
  },
  {
   "cell_type": "code",
   "execution_count": 8,
   "metadata": {
    "ExecuteTime": {
     "end_time": "2020-02-20T23:50:49.564907Z",
     "start_time": "2020-02-20T23:50:49.547831Z"
    }
   },
   "outputs": [],
   "source": [
    "def create_qa_corpus(df, key):\n",
    "    grouped = df.groupby('lecture')\n",
    "    gen_qs, ff_qs, bos_qs = grouped['question'].apply(format_text)\n",
    "    answers_fmt = grouped['ans_A', 'ans_B', 'ans_C', 'ans_D'].agg(format_text)\n",
    "    gen_correct, ff_correct, bos_correct = answers_fmt['ans_A']\n",
    "    gen_ans, ff_ans, bos_ans = answers_fmt.apply(np.concatenate, axis=1).apply(list)\n",
    "    \n",
    "    # all formatted text for transforming\n",
    "    all_text = {\n",
    "        'ff_qs': ff_qs,\n",
    "        'bos_qs': bos_qs,\n",
    "        'gen_qs': gen_qs,\n",
    "        'ff_ans': ff_ans,\n",
    "        'bos_ans': bos_ans,\n",
    "        'gen_ans': gen_ans\n",
    "    }\n",
    "    # subset of text used to fit model\n",
    "    corpus_text = {k: v for k, v in all_text.items()}\n",
    "    if 'q' in key:\n",
    "        corpus_text['gen_qs'] = []\n",
    "        corpus_text['gen_ans'] = []\n",
    "    elif 'q' not in key.lower():\n",
    "        corpus_text['ff_qs'] = []\n",
    "        corpus_text['bos_qs'] = []\n",
    "        corpus_text['gen_qs'] = []\n",
    "    \n",
    "    if 'a' in key:\n",
    "        corpus_text['ff_ans'] = ff_correct\n",
    "        corpus_text['bos_ans'] = bos_correct\n",
    "        if 'Q' in key:\n",
    "            corpus_text['gen_ans'] = gen_correct\n",
    "    elif 'a' not in key.lower():\n",
    "        corpus_text['ff_ans'] = []\n",
    "        corpus_text['bos_ans'] = []\n",
    "        corpus_text['gen_ans'] = []\n",
    "        \n",
    "    return corpus_text, all_text"
   ]
  },
  {
   "cell_type": "code",
   "execution_count": 9,
   "metadata": {
    "ExecuteTime": {
     "end_time": "2020-02-20T23:50:52.588374Z",
     "start_time": "2020-02-20T23:50:52.583972Z"
    }
   },
   "outputs": [],
   "source": [
    "def interp_lecture(lec_traj, timestamps):\n",
    "    new_tpts = np.arange(timestamps[-1])\n",
    "    interp_func = interp1d(timestamps, lec_traj, axis=0)\n",
    "    return interp_func(new_tpts)"
   ]
  },
  {
   "cell_type": "code",
   "execution_count": 10,
   "metadata": {
    "ExecuteTime": {
     "end_time": "2020-02-20T23:50:53.469090Z",
     "start_time": "2020-02-20T23:50:53.455697Z"
    }
   },
   "outputs": [],
   "source": [
    "def model_content(n_top, wsize, corpus):\n",
    "    # get text windows, timestamps\n",
    "    ff_windows, ff_timestamps = parse_windows(ff_transcript, wsize)\n",
    "    bos_windows, bos_timestamps = parse_windows(bos_transcript, wsize)\n",
    "    \n",
    "    # format lecture, question, answer text\n",
    "    ff_lec = format_text(ff_windows)\n",
    "    bos_lec = format_text(bos_windows)\n",
    "    corpus_text, all_text = create_qa_corpus(questions_df, corpus)\n",
    "    corpus_text['ff_lec'] = all_text['ff_lec'] = ff_lec\n",
    "    corpus_text['bos_lec'] = all_text['bos_lec'] = bos_lec\n",
    "\n",
    "    # set topic model params\n",
    "    tm_params = {opt: val for opt, val in lda_params.items()}\n",
    "    tm_params['n_components'] = n_top\n",
    "    \n",
    "    full_corpus = [doc for samples in corpus_text.values() for doc in samples]\n",
    "    \n",
    "    vecs = {}\n",
    "    # fit CountVectorizer model\n",
    "    tf_vectorizer = CountVectorizer(**cv_params)\n",
    "    tf_vectorizer.fit(full_corpus)\n",
    "    vecs['full_corpus'] = tf_vectorizer.transform(full_corpus)\n",
    "    # transform lectures, questions, answers\n",
    "    for samples, docs in all_text.items():\n",
    "        vecs[samples] = tf_vectorizer.transform(docs)\n",
    "        \n",
    "    trajs = {}\n",
    "    # fit LDA model\n",
    "    topic_model = LatentDirichletAllocation(**tm_params)\n",
    "    topic_model.fit(vecs['full_corpus'])\n",
    "    # transform lectures, questions, answers\n",
    "    for samples, docs in all_text.items():\n",
    "        trajs[samples] = topic_model.transform(vecs[samples])\n",
    "            \n",
    "    # interpolate lectures to 1 sample per second\n",
    "    trajs['ff_lec'] = interp_lecture(trajs['ff_lec'], ff_timestamps)\n",
    "    trajs['bos_lec'] = interp_lecture(trajs['bos_lec'], bos_timestamps)\n",
    "\n",
    "    return trajs"
   ]
  },
  {
   "cell_type": "code",
   "execution_count": 11,
   "metadata": {
    "ExecuteTime": {
     "end_time": "2020-02-20T23:50:54.954549Z",
     "start_time": "2020-02-20T23:50:54.942553Z"
    }
   },
   "outputs": [],
   "source": [
    "def symmetric_KL(a, b, c=.00000000001):\n",
    "    return np.divide(entropy(a + c, b + c) + entropy(b + c, a + c), 2)\n",
    "    \n",
    "def reconstruct_trace(video_model, questions_model, acc):\n",
    "    wz = 1 - cdist(video_model, questions_model, metric=symmetric_KL)\n",
    "    wz -= np.min(wz)\n",
    "    wz /= np.max(wz)\n",
    "    a = np.sum(wz, axis=1)\n",
    "    b = np.sum(wz[:, list(map(bool, acc))], axis=1)\n",
    "    ba = np.array(np.divide(b, a), ndmin=2)\n",
    "    return video_model * ba.T"
   ]
  },
  {
   "cell_type": "code",
   "execution_count": 12,
   "metadata": {
    "ExecuteTime": {
     "end_time": "2020-02-20T23:51:06.690705Z",
     "start_time": "2020-02-20T23:51:06.679086Z"
    }
   },
   "outputs": [],
   "source": [
    "def score_params(traj_dict):\n",
    "    ff_lec = traj_dict['ff_lec']\n",
    "    bos_lec = traj_dict['bos_lec']\n",
    "    ff_bos_questions = np.concatenate((traj_dict['ff_qs'], traj_dict['bos_qs']))\n",
    "#     ff_bos_scores = scores.loc[scores.video != 0]\n",
    "    p_wrong = []\n",
    "    msds = []\n",
    "    \n",
    "#     for subid in tqdm(ff_bos_scores.participantID.unique(), desc='subjects', leave=False):\n",
    "#         sub_pwrong = []\n",
    "#         sub_msds = []\n",
    "#         for lec_ix, lec in enumerate([ff_lec, bos_lec], start=1):\n",
    "#             sub_scores = ff_bos_scores.loc[(ff_bos_scores.video == lec_ix) \n",
    "#                                            & (ff_bos_scores.participantID == subid) \n",
    "#                                            & (ff_bos_scores.set == lec_ix)]\n",
    "            \n",
    "            \n",
    "    for sub in participants:\n",
    "        sub_pwrong = []\n",
    "        sub_msds = []\n",
    "        for lec_ix, lec in enumerate([ff_lec, bos_lec], start=1):\n",
    "            sub_scores = sub.get_data(qset=lec_ix, lecture=lec_ix)\n",
    "            # compute p_wrong\n",
    "            sub_acc = sub_scores['accuracy'].tolist()\n",
    "            sub_pc = sum(sub_acc) / len(sub_acc)\n",
    "            sub_pwrong.append(1 - sub_pc)\n",
    "            # reconstruct trace\n",
    "            qs_ix = sub_scores['qID'] - 1\n",
    "            q_vecs = ff_bos_questions[qs_ix]\n",
    "            sub_trace = reconstruct_trace(lec, q_vecs, sub_acc)\n",
    "            # compute mean squared euclidean distance\n",
    "            sub_msd = np.mean(np.diag(cdist(lec, sub_trace)) ** 2)\n",
    "            sub_msds.append(sub_msd)\n",
    "        p_wrong.append(np.mean(sub_pwrong))\n",
    "        msds.append(np.mean(sub_msds))\n",
    "            \n",
    "    return pearsonr(p_wrong, msds)[0]"
   ]
  },
  {
   "cell_type": "code",
   "execution_count": 13,
   "metadata": {
    "ExecuteTime": {
     "end_time": "2020-02-20T23:51:07.901815Z",
     "start_time": "2020-02-20T23:51:07.896038Z"
    }
   },
   "outputs": [],
   "source": [
    "def grid_search(gs_params):\n",
    "    n_top, wsize, corpus = gs_params\n",
    "    trajs = model_content(n_top, wsize, corpus)\n",
    "    corr = score_params(trajs)\n",
    "    print(f'\\t{gs_params} : {corr}')\n",
    "    return corr"
   ]
  },
  {
   "cell_type": "markdown",
   "metadata": {
    "ExecuteTime": {
     "end_time": "2020-02-10T23:18:37.228403Z",
     "start_time": "2020-02-10T23:18:37.223650Z"
    }
   },
   "source": [
    "## Grid search params"
   ]
  },
  {
   "cell_type": "code",
   "execution_count": 14,
   "metadata": {
    "ExecuteTime": {
     "end_time": "2020-02-20T23:51:11.094901Z",
     "start_time": "2020-02-20T23:51:11.084110Z"
    }
   },
   "outputs": [],
   "source": [
    "# (maximum) number of topics to fit the topic model\n",
    "n_topics = [20, 25, 30, 35, 40, 50, 100]\n",
    "# length of lecture transcript sliding window\n",
    "lecture_wsize = [10, 15, 20, 25, 30, 35, 40]\n",
    "# training corpus for topic model\n",
    "# - l: lecture sliding windows\n",
    "# - q: lecture-related multiple choice questions' text\n",
    "# - Q: all multiple choice questions' text\n",
    "# - a: correct responses to multiple choice questions\n",
    "# - A: all options for responses to multiple choice questions\n",
    "corpora = ['l', 'lq', 'lQ', 'lqa', 'lQa', 'lqA', 'lQA']\n",
    "\n",
    "param_grid = [(t, w, c) for t in n_topics for w in lecture_wsize for c in corpora]"
   ]
  },
  {
   "cell_type": "code",
   "execution_count": 15,
   "metadata": {
    "ExecuteTime": {
     "end_time": "2020-02-21T01:53:01.065202Z",
     "start_time": "2020-02-20T23:51:19.273658Z"
    },
    "scrolled": true
   },
   "outputs": [
    {
     "data": {
      "application/vnd.jupyter.widget-view+json": {
       "model_id": "0a9ff9f02a4a44c08dc57153ff07a6cc",
       "version_major": 2,
       "version_minor": 0
      },
      "text/plain": [
       "HBox(children=(IntProgress(value=0, description='params', max=343, style=ProgressStyle(description_width='init…"
      ]
     },
     "metadata": {},
     "output_type": "display_data"
    },
    {
     "name": "stdout",
     "output_type": "stream",
     "text": [
      "\t(20, 10, 'l') : 0.9292345805367535\n",
      "\t(20, 10, 'lq') : 0.9326575959894322\n",
      "\t(20, 10, 'lQ') : 0.9501855962868262\n",
      "\t(20, 10, 'lqa') : 0.9375475192764581\n",
      "\t(20, 10, 'lQa') : 0.9494911264696513\n",
      "\t(20, 10, 'lqA') : 0.9462571515340038\n",
      "\t(20, 10, 'lQA') : 0.9338328775888544\n",
      "\t(20, 15, 'l') : 0.9149752808396528\n",
      "\t(20, 15, 'lq') : 0.9300314043219959\n",
      "\t(20, 15, 'lQ') : 0.9497618196214459\n",
      "\t(20, 15, 'lqa') : 0.9551018264214164\n",
      "\t(20, 15, 'lQa') : 0.9393481458409171\n",
      "\t(20, 15, 'lqA') : 0.9460824413166946\n",
      "\t(20, 15, 'lQA') : 0.9357751203454359\n",
      "\t(20, 20, 'l') : 0.9200625474181345\n",
      "\t(20, 20, 'lq') : 0.9599887266478103\n",
      "\t(20, 20, 'lQ') : 0.9407000550341482\n",
      "\t(20, 20, 'lqa') : 0.9493457883323438\n",
      "\t(20, 20, 'lQa') : 0.9398856425481943\n",
      "\t(20, 20, 'lqA') : 0.9438852624518757\n",
      "\t(20, 20, 'lQA') : 0.9463770462721569\n",
      "\t(20, 25, 'l') : 0.9186802325106981\n",
      "\t(20, 25, 'lq') : 0.9451604595088149\n",
      "\t(20, 25, 'lQ') : 0.9457461529811974\n",
      "\t(20, 25, 'lqa') : 0.9484628852188567\n",
      "\t(20, 25, 'lQa') : 0.9399173161316285\n",
      "\t(20, 25, 'lqA') : 0.9513745618671052\n",
      "\t(20, 25, 'lQA') : 0.9452752262498869\n",
      "\t(20, 30, 'l') : 0.9193586630673201\n",
      "\t(20, 30, 'lq') : 0.9408888678333585\n",
      "\t(20, 30, 'lQ') : 0.934803010690243\n",
      "\t(20, 30, 'lqa') : 0.910232177566565\n",
      "\t(20, 30, 'lQa') : 0.9223842678703151\n",
      "\t(20, 30, 'lqA') : 0.9476928924470995\n",
      "\t(20, 30, 'lQA') : 0.950051153853402\n",
      "\t(20, 35, 'l') : 0.9214703132231171\n",
      "\t(20, 35, 'lq') : 0.9528026204982093\n",
      "\t(20, 35, 'lQ') : 0.9504760477767663\n",
      "\t(20, 35, 'lqa') : 0.8994336383896574\n",
      "\t(20, 35, 'lQa') : 0.9382818570557715\n",
      "\t(20, 35, 'lqA') : 0.9503268385765742\n",
      "\t(20, 35, 'lQA') : 0.9291558140511943\n",
      "\t(20, 40, 'l') : 0.9194473984053566\n",
      "\t(20, 40, 'lq') : 0.9598409667171317\n",
      "\t(20, 40, 'lQ') : 0.9293623842462087\n",
      "\t(20, 40, 'lqa') : 0.8987379232321262\n",
      "\t(20, 40, 'lQa') : 0.9407133964147892\n",
      "\t(20, 40, 'lqA') : 0.9426425760042202\n",
      "\t(20, 40, 'lQA') : 0.9437273627819774\n",
      "\t(25, 10, 'l') : 0.9207592168622805\n",
      "\t(25, 10, 'lq') : 0.9481052606428672\n",
      "\t(25, 10, 'lQ') : 0.9369503581731109\n",
      "\t(25, 10, 'lqa') : 0.9544885705061968\n",
      "\t(25, 10, 'lQa') : 0.9590897559807761\n",
      "\t(25, 10, 'lqA') : 0.9241530455617094\n",
      "\t(25, 10, 'lQA') : 0.950549569689642\n",
      "\t(25, 15, 'l') : 0.9315261099018506\n",
      "\t(25, 15, 'lq') : 0.9286766446872075\n",
      "\t(25, 15, 'lQ') : 0.9641845260715686\n",
      "\t(25, 15, 'lqa') : 0.9466303432544995\n",
      "\t(25, 15, 'lQa') : 0.9356413533831105\n",
      "\t(25, 15, 'lqA') : 0.923092242366153\n",
      "\t(25, 15, 'lQA') : 0.9506294964268935\n",
      "\t(25, 20, 'l') : 0.9302479105117587\n",
      "\t(25, 20, 'lq') : 0.942625514236383\n",
      "\t(25, 20, 'lQ') : 0.9317247263017787\n",
      "\t(25, 20, 'lqa') : 0.9407192685958033\n",
      "\t(25, 20, 'lQa') : 0.9290150199191715\n",
      "\t(25, 20, 'lqA') : 0.9122389606747132\n",
      "\t(25, 20, 'lQA') : 0.9575765443918698\n",
      "\t(25, 25, 'l') : 0.9205920668105815\n",
      "\t(25, 25, 'lq') : 0.9176894846265591\n",
      "\t(25, 25, 'lQ') : 0.9339324731159816\n",
      "\t(25, 25, 'lqa') : 0.9334585536778661\n",
      "\t(25, 25, 'lQa') : 0.9366789378457563\n",
      "\t(25, 25, 'lqA') : 0.9469798262968687\n",
      "\t(25, 25, 'lQA') : 0.9371280934187445\n",
      "\t(25, 30, 'l') : 0.9224195647447435\n",
      "\t(25, 30, 'lq') : 0.9207450000618411\n",
      "\t(25, 30, 'lQ') : 0.9142709116221509\n",
      "\t(25, 30, 'lqa') : 0.9471360580847235\n",
      "\t(25, 30, 'lQa') : 0.9387649454293381\n",
      "\t(25, 30, 'lqA') : 0.9102597158316938\n",
      "\t(25, 30, 'lQA') : 0.9480061984888196\n",
      "\t(25, 35, 'l') : 0.9234560612356205\n",
      "\t(25, 35, 'lq') : 0.9287504865074182\n",
      "\t(25, 35, 'lQ') : 0.918762560694081\n",
      "\t(25, 35, 'lqa') : 0.9278105977254704\n",
      "\t(25, 35, 'lQa') : 0.9299896141448716\n",
      "\t(25, 35, 'lqA') : 0.9023434327752805\n",
      "\t(25, 35, 'lQA') : 0.9434055083358966\n",
      "\t(25, 40, 'l') : 0.9269250014334136\n",
      "\t(25, 40, 'lq') : 0.9302075617230039\n",
      "\t(25, 40, 'lQ') : 0.9133334356496489\n",
      "\t(25, 40, 'lqa') : 0.9062586736061746\n",
      "\t(25, 40, 'lQa') : 0.9336189390478778\n",
      "\t(25, 40, 'lqA') : 0.9254040239204812\n",
      "\t(25, 40, 'lQA') : 0.9351894609966066\n",
      "\t(30, 10, 'l') : 0.9195204703306845\n",
      "\t(30, 10, 'lq') : 0.9523391729063011\n",
      "\t(30, 10, 'lQ') : 0.9370246880406851\n",
      "\t(30, 10, 'lqa') : 0.932977660333938\n",
      "\t(30, 10, 'lQa') : 0.9553713522905449\n",
      "\t(30, 10, 'lqA') : 0.9367209885580502\n",
      "\t(30, 10, 'lQA') : 0.95101477844874\n",
      "\t(30, 15, 'l') : 0.9190951843546517\n",
      "\t(30, 15, 'lq') : 0.9356301394635289\n",
      "\t(30, 15, 'lQ') : 0.9557891672510962\n",
      "\t(30, 15, 'lqa') : 0.9417462568137107\n",
      "\t(30, 15, 'lQa') : 0.9400936189386729\n",
      "\t(30, 15, 'lqA') : 0.9322441529899959\n",
      "\t(30, 15, 'lQA') : 0.9355616006463199\n",
      "\t(30, 20, 'l') : 0.9379762874791632\n",
      "\t(30, 20, 'lq') : 0.9327844138809142\n",
      "\t(30, 20, 'lQ') : 0.9554552958778308\n",
      "\t(30, 20, 'lqa') : 0.9325015172521168\n",
      "\t(30, 20, 'lQa') : 0.9391038910028184\n",
      "\t(30, 20, 'lqA') : 0.9390127038199215\n",
      "\t(30, 20, 'lQA') : 0.8731574341027052\n",
      "\t(30, 25, 'l') : 0.9253170280195885\n",
      "\t(30, 25, 'lq') : 0.9121717256153753\n",
      "\t(30, 25, 'lQ') : 0.9391998927192791\n",
      "\t(30, 25, 'lqa') : 0.9371823142940687\n",
      "\t(30, 25, 'lQa') : 0.9496827069965456\n",
      "\t(30, 25, 'lqA') : 0.9401128734914448\n",
      "\t(30, 25, 'lQA') : 0.8888332116758892\n",
      "\t(30, 30, 'l') : 0.9254499533929911\n",
      "\t(30, 30, 'lq') : 0.9582497260120509\n",
      "\t(30, 30, 'lQ') : 0.9388515192266119\n",
      "\t(30, 30, 'lqa') : 0.9009678678004831\n",
      "\t(30, 30, 'lQa') : 0.945862881606767\n",
      "\t(30, 30, 'lqA') : 0.9150518943344096\n",
      "\t(30, 30, 'lQA') : 0.9207685365935846\n",
      "\t(30, 35, 'l') : 0.9294789047779998\n",
      "\t(30, 35, 'lq') : 0.9340842302936938\n",
      "\t(30, 35, 'lQ') : 0.9468336764433141\n",
      "\t(30, 35, 'lqa') : 0.8689881442230678\n",
      "\t(30, 35, 'lQa') : 0.9536788074506674\n",
      "\t(30, 35, 'lqA') : 0.9357051062933258\n",
      "\t(30, 35, 'lQA') : 0.8869156074182365\n",
      "\t(30, 40, 'l') : 0.929931959700176\n",
      "\t(30, 40, 'lq') : 0.9254375472565661\n",
      "\t(30, 40, 'lQ') : 0.9559352047651263\n",
      "\t(30, 40, 'lqa') : 0.88777415417792\n",
      "\t(30, 40, 'lQa') : 0.9484167081985733\n",
      "\t(30, 40, 'lqA') : 0.9307853102684034\n",
      "\t(30, 40, 'lQA') : 0.8753521733017028\n",
      "\t(35, 10, 'l') : 0.9259012958871219\n",
      "\t(35, 10, 'lq') : 0.9496553430677229\n",
      "\t(35, 10, 'lQ') : 0.9293128365313283\n",
      "\t(35, 10, 'lqa') : 0.9437994766448566\n",
      "\t(35, 10, 'lQa') : 0.9112915820608577\n",
      "\t(35, 10, 'lqA') : 0.9332930114930954\n",
      "\t(35, 10, 'lQA') : 0.9502487225977188\n",
      "\t(35, 15, 'l') : 0.9225631891782005\n",
      "\t(35, 15, 'lq') : 0.950893191268512\n",
      "\t(35, 15, 'lQ') : 0.9418328386192324\n",
      "\t(35, 15, 'lqa') : 0.9474669780757664\n",
      "\t(35, 15, 'lQa') : 0.9038047862870437\n",
      "\t(35, 15, 'lqA') : 0.9271309025722896\n",
      "\t(35, 15, 'lQA') : 0.9481521243909963\n",
      "\t(35, 20, 'l') : 0.9260599288379836\n",
      "\t(35, 20, 'lq') : 0.951383798273507\n",
      "\t(35, 20, 'lQ') : 0.9358537137734065\n",
      "\t(35, 20, 'lqa') : 0.9148512902715453\n",
      "\t(35, 20, 'lQa') : 0.9270481432043123\n",
      "\t(35, 20, 'lqA') : 0.916433690464232\n",
      "\t(35, 20, 'lQA') : 0.9425142364920391\n",
      "\t(35, 25, 'l') : 0.9192530496790073\n",
      "\t(35, 25, 'lq') : 0.9491002226744092\n",
      "\t(35, 25, 'lQ') : 0.940852368253511\n",
      "\t(35, 25, 'lqa') : 0.9228088550919419\n",
      "\t(35, 25, 'lQa') : 0.9233108222465441\n",
      "\t(35, 25, 'lqA') : 0.9078359703618136\n",
      "\t(35, 25, 'lQA') : 0.93541895224683\n",
      "\t(35, 30, 'l') : 0.9281309785193139\n",
      "\t(35, 30, 'lq') : 0.9425318878602066\n",
      "\t(35, 30, 'lQ') : 0.9379329212189869\n",
      "\t(35, 30, 'lqa') : 0.8887393604885434\n",
      "\t(35, 30, 'lQa') : 0.9261903245004635\n",
      "\t(35, 30, 'lqA') : 0.8931875127813727\n",
      "\t(35, 30, 'lQA') : 0.9191373148619839\n",
      "\t(35, 35, 'l') : 0.939876504353053\n",
      "\t(35, 35, 'lq') : 0.9453769777718999\n",
      "\t(35, 35, 'lQ') : 0.9440901429636204\n",
      "\t(35, 35, 'lqa') : 0.8954849267652102\n",
      "\t(35, 35, 'lQa') : 0.9145095742835588\n",
      "\t(35, 35, 'lqA') : 0.9131568415897805\n",
      "\t(35, 35, 'lQA') : 0.9229451752637592\n",
      "\t(35, 40, 'l') : 0.9308778189146939\n",
      "\t(35, 40, 'lq') : 0.9280249011405116\n",
      "\t(35, 40, 'lQ') : 0.9285967306851171\n",
      "\t(35, 40, 'lqa') : 0.8941571152645472\n",
      "\t(35, 40, 'lQa') : 0.9245806669378923\n",
      "\t(35, 40, 'lqA') : 0.9212494709927116\n",
      "\t(35, 40, 'lQA') : 0.9268883046876646\n",
      "\t(40, 10, 'l') : 0.9319054380942093\n",
      "\t(40, 10, 'lq') : 0.9342005194799338\n",
      "\t(40, 10, 'lQ') : 0.9411439238956306\n",
      "\t(40, 10, 'lqa') : 0.932829012912899\n",
      "\t(40, 10, 'lQa') : 0.9374549909082028\n",
      "\t(40, 10, 'lqA') : 0.9210395475465201\n",
      "\t(40, 10, 'lQA') : 0.9397936453050327\n",
      "\t(40, 15, 'l') : 0.9314325588683904\n",
      "\t(40, 15, 'lq') : 0.9261431645119507\n",
      "\t(40, 15, 'lQ') : 0.9407810419818335\n",
      "\t(40, 15, 'lqa') : 0.9304120008561911\n",
      "\t(40, 15, 'lQa') : 0.9010092583282636\n",
      "\t(40, 15, 'lqA') : 0.9273265430743095\n",
      "\t(40, 15, 'lQA') : 0.9185298357750412\n",
      "\t(40, 20, 'l') : 0.922319021269225\n",
      "\t(40, 20, 'lq') : 0.933676709516042\n",
      "\t(40, 20, 'lQ') : 0.9478894955530139\n",
      "\t(40, 20, 'lqa') : 0.9320794924191095\n",
      "\t(40, 20, 'lQa') : 0.8972076620783083\n",
      "\t(40, 20, 'lqA') : 0.939032197790127\n",
      "\t(40, 20, 'lQA') : 0.923020906843885\n",
      "\t(40, 25, 'l') : 0.9231924288788212\n",
      "\t(40, 25, 'lq') : 0.93000960451977\n",
      "\t(40, 25, 'lQ') : 0.9325136355128179\n"
     ]
    },
    {
     "name": "stdout",
     "output_type": "stream",
     "text": [
      "\t(40, 25, 'lqa') : 0.9104665054555309\n",
      "\t(40, 25, 'lQa') : 0.9067696708480557\n",
      "\t(40, 25, 'lqA') : 0.9376287346290496\n",
      "\t(40, 25, 'lQA') : 0.9171584694577044\n",
      "\t(40, 30, 'l') : 0.9306883557852025\n",
      "\t(40, 30, 'lq') : 0.921749835252092\n",
      "\t(40, 30, 'lQ') : 0.9253637754956353\n",
      "\t(40, 30, 'lqa') : 0.9398801778839188\n",
      "\t(40, 30, 'lQa') : 0.9098362653849843\n",
      "\t(40, 30, 'lqA') : 0.9049284022548137\n",
      "\t(40, 30, 'lQA') : 0.917552108958675\n",
      "\t(40, 35, 'l') : 0.9324893410401003\n",
      "\t(40, 35, 'lq') : 0.9315271156321495\n",
      "\t(40, 35, 'lQ') : 0.9166256507360084\n",
      "\t(40, 35, 'lqa') : 0.90812120564549\n",
      "\t(40, 35, 'lQa') : 0.9070267090206192\n",
      "\t(40, 35, 'lqA') : 0.9197597812112416\n",
      "\t(40, 35, 'lQA') : 0.8934863104507783\n",
      "\t(40, 40, 'l') : 0.9305577577116528\n",
      "\t(40, 40, 'lq') : 0.9267149268217695\n",
      "\t(40, 40, 'lQ') : 0.9314172884855134\n",
      "\t(40, 40, 'lqa') : 0.9252390935743924\n",
      "\t(40, 40, 'lQa') : 0.9185084038688005\n",
      "\t(40, 40, 'lqA') : 0.9024935797559858\n",
      "\t(40, 40, 'lQA') : 0.9051417323830513\n",
      "\t(50, 10, 'l') : 0.9186406775254272\n",
      "\t(50, 10, 'lq') : 0.9243722885018357\n",
      "\t(50, 10, 'lQ') : 0.9399440768422495\n",
      "\t(50, 10, 'lqa') : 0.9295902681451319\n",
      "\t(50, 10, 'lQa') : 0.9386841350864001\n",
      "\t(50, 10, 'lqA') : 0.9179921312354343\n",
      "\t(50, 10, 'lQA') : 0.9127554540101364\n",
      "\t(50, 15, 'l') : 0.9179965864742263\n",
      "\t(50, 15, 'lq') : 0.9395281648808422\n",
      "\t(50, 15, 'lQ') : 0.9301785403346025\n",
      "\t(50, 15, 'lqa') : 0.9176480871635747\n",
      "\t(50, 15, 'lQa') : 0.9309315267270474\n",
      "\t(50, 15, 'lqA') : 0.9354131265627355\n",
      "\t(50, 15, 'lQA') : 0.9372889386141205\n",
      "\t(50, 20, 'l') : 0.9214879207351091\n",
      "\t(50, 20, 'lq') : 0.9079614606243284\n",
      "\t(50, 20, 'lQ') : 0.9365827418628363\n",
      "\t(50, 20, 'lqa') : 0.9463945483794565\n",
      "\t(50, 20, 'lQa') : 0.9129016102910908\n",
      "\t(50, 20, 'lqA') : 0.9183937599649213\n",
      "\t(50, 20, 'lQA') : 0.9303678109435811\n",
      "\t(50, 25, 'l') : 0.9207248424759886\n",
      "\t(50, 25, 'lq') : 0.915649366378721\n",
      "\t(50, 25, 'lQ') : 0.922141458055509\n",
      "\t(50, 25, 'lqa') : 0.9146438755338833\n",
      "\t(50, 25, 'lQa') : 0.9095904295239552\n",
      "\t(50, 25, 'lqA') : 0.932587634619997\n",
      "\t(50, 25, 'lQA') : 0.9299541512308803\n",
      "\t(50, 30, 'l') : 0.9294818853203197\n",
      "\t(50, 30, 'lq') : 0.9082291728459411\n",
      "\t(50, 30, 'lQ') : 0.9029610341760668\n",
      "\t(50, 30, 'lqa') : 0.9082758843884683\n",
      "\t(50, 30, 'lQa') : 0.934097718481185\n",
      "\t(50, 30, 'lqA') : 0.9079567757352165\n",
      "\t(50, 30, 'lQA') : 0.9191944233728598\n",
      "\t(50, 35, 'l') : 0.9304495285695128\n",
      "\t(50, 35, 'lq') : 0.8943665223485933\n",
      "\t(50, 35, 'lQ') : 0.913390642009636\n",
      "\t(50, 35, 'lqa') : 0.8924277875402729\n",
      "\t(50, 35, 'lQa') : 0.9026834132860605\n",
      "\t(50, 35, 'lqA') : 0.900470369393535\n",
      "\t(50, 35, 'lQA') : 0.9517147484661322\n",
      "\t(50, 40, 'l') : 0.9292075553499769\n",
      "\t(50, 40, 'lq') : 0.8918241108078679\n",
      "\t(50, 40, 'lQ') : 0.9282533376114872\n",
      "\t(50, 40, 'lqa') : 0.8677728118936876\n",
      "\t(50, 40, 'lQa') : 0.905303616862947\n",
      "\t(50, 40, 'lqA') : 0.9192524192285126\n",
      "\t(50, 40, 'lQA') : 0.942946671834314\n",
      "\t(100, 10, 'l') : 0.9168383122363996\n",
      "\t(100, 10, 'lq') : 0.8589720944038844\n",
      "\t(100, 10, 'lQ') : 0.9097025562748963\n",
      "\t(100, 10, 'lqa') : 0.9003254262020804\n",
      "\t(100, 10, 'lQa') : 0.9181182174561772\n",
      "\t(100, 10, 'lqA') : 0.8915601973598672\n",
      "\t(100, 10, 'lQA') : 0.8830083366268173\n",
      "\t(100, 15, 'l') : 0.9149705943548444\n",
      "\t(100, 15, 'lq') : 0.8717086718916368\n",
      "\t(100, 15, 'lQ') : 0.9269265036276693\n",
      "\t(100, 15, 'lqa') : 0.8985232317117384\n",
      "\t(100, 15, 'lQa') : 0.9220043421032516\n",
      "\t(100, 15, 'lqA') : 0.9249101072632188\n",
      "\t(100, 15, 'lQA') : 0.909017029535677\n",
      "\t(100, 20, 'l') : 0.907955182869287\n",
      "\t(100, 20, 'lq') : 0.8833525418728541\n",
      "\t(100, 20, 'lQ') : 0.9386985602305888\n",
      "\t(100, 20, 'lqa') : 0.917897810828827\n",
      "\t(100, 20, 'lQa') : 0.9402993604013664\n",
      "\t(100, 20, 'lqA') : 0.9208117243663567\n",
      "\t(100, 20, 'lQA') : 0.8624122760617284\n",
      "\t(100, 25, 'l') : 0.9087271050002372\n",
      "\t(100, 25, 'lq') : 0.8963723238962155\n",
      "\t(100, 25, 'lQ') : 0.9496092503955846\n",
      "\t(100, 25, 'lqa') : 0.9090241992533157\n",
      "\t(100, 25, 'lQa') : 0.9072633474231568\n",
      "\t(100, 25, 'lqA') : 0.9215927480475564\n",
      "\t(100, 25, 'lQA') : 0.9120867709302977\n",
      "\t(100, 30, 'l') : 0.9227726746364531\n",
      "\t(100, 30, 'lq') : 0.9057540776277146\n",
      "\t(100, 30, 'lQ') : 0.9281270965220193\n",
      "\t(100, 30, 'lqa') : 0.9006914742368263\n",
      "\t(100, 30, 'lQa') : 0.8988146653668241\n",
      "\t(100, 30, 'lqA') : 0.9158367978341377\n",
      "\t(100, 30, 'lQA') : 0.9294049892182056\n",
      "\t(100, 35, 'l') : 0.9232361428299836\n",
      "\t(100, 35, 'lq') : 0.8788034091561119\n",
      "\t(100, 35, 'lQ') : 0.8784893803738023\n",
      "\t(100, 35, 'lqa') : 0.9159775842161382\n",
      "\t(100, 35, 'lQa') : 0.918930768162944\n",
      "\t(100, 35, 'lqA') : 0.914288026586794\n",
      "\t(100, 35, 'lQA') : 0.9181154587154821\n",
      "\t(100, 40, 'l') : 0.9210412665023976\n",
      "\t(100, 40, 'lq') : 0.8984938210372322\n",
      "\t(100, 40, 'lQ') : 0.8804049414820218\n",
      "\t(100, 40, 'lqa') : 0.8896682009483524\n",
      "\t(100, 40, 'lQa') : 0.9241420240684263\n",
      "\t(100, 40, 'lqA') : 0.9081809506464217\n",
      "\t(100, 40, 'lQA') : 0.9097704136776851\n",
      "\n"
     ]
    }
   ],
   "source": [
    "param_scores = []\n",
    "for params in tqdm(param_grid, desc='params', leave=True):\n",
    "    result = grid_search(params)\n",
    "    param_scores.append(result)"
   ]
  },
  {
   "cell_type": "code",
   "execution_count": 20,
   "metadata": {
    "ExecuteTime": {
     "end_time": "2020-02-21T15:18:00.772085Z",
     "start_time": "2020-02-21T15:18:00.609272Z"
    },
    "scrolled": true
   },
   "outputs": [
    {
     "data": {
      "text/plain": [
       "array(['25', '15', 'lQ'], dtype='<U21')"
      ]
     },
     "execution_count": 20,
     "metadata": {},
     "output_type": "execute_result"
    }
   ],
   "source": [
    "np.array(param_grid)[np.argmax(param_scores)]"
   ]
  },
  {
   "cell_type": "code",
   "execution_count": 41,
   "metadata": {
    "ExecuteTime": {
     "end_time": "2020-02-21T15:30:31.784331Z",
     "start_time": "2020-02-21T15:30:31.762860Z"
    }
   },
   "outputs": [],
   "source": [
    "gs_results = pd.DataFrame(param_grid, columns=['topics', 'wsize', 'corpus'])\n",
    "gs_results['correlation'] = param_scores\n",
    "# gs_results.to_pickle(opj(datadir, 'grid_search_results.p'))"
   ]
  },
  {
   "cell_type": "code",
   "execution_count": 22,
   "metadata": {
    "ExecuteTime": {
     "end_time": "2020-02-21T15:19:33.522221Z",
     "start_time": "2020-02-21T15:19:33.514062Z"
    }
   },
   "outputs": [],
   "source": [
    "# gs_results = pd.read_pickle(opj(datadir, 'grid_search_results.p'))"
   ]
  },
  {
   "cell_type": "code",
   "execution_count": 23,
   "metadata": {
    "ExecuteTime": {
     "end_time": "2020-02-21T15:19:33.800472Z",
     "start_time": "2020-02-21T15:19:33.695281Z"
    }
   },
   "outputs": [
    {
     "data": {
      "text/html": [
       "<div>\n",
       "<style scoped>\n",
       "    .dataframe tbody tr th:only-of-type {\n",
       "        vertical-align: middle;\n",
       "    }\n",
       "\n",
       "    .dataframe tbody tr th {\n",
       "        vertical-align: top;\n",
       "    }\n",
       "\n",
       "    .dataframe thead th {\n",
       "        text-align: right;\n",
       "    }\n",
       "</style>\n",
       "<table border=\"1\" class=\"dataframe\">\n",
       "  <thead>\n",
       "    <tr style=\"text-align: right;\">\n",
       "      <th></th>\n",
       "      <th>topics</th>\n",
       "      <th>wsize</th>\n",
       "      <th>corpus</th>\n",
       "      <th>correlation</th>\n",
       "    </tr>\n",
       "  </thead>\n",
       "  <tbody>\n",
       "    <tr>\n",
       "      <th>0</th>\n",
       "      <td>20</td>\n",
       "      <td>10</td>\n",
       "      <td>l</td>\n",
       "      <td>0.929235</td>\n",
       "    </tr>\n",
       "    <tr>\n",
       "      <th>1</th>\n",
       "      <td>20</td>\n",
       "      <td>10</td>\n",
       "      <td>lq</td>\n",
       "      <td>0.932658</td>\n",
       "    </tr>\n",
       "    <tr>\n",
       "      <th>2</th>\n",
       "      <td>20</td>\n",
       "      <td>10</td>\n",
       "      <td>lQ</td>\n",
       "      <td>0.950186</td>\n",
       "    </tr>\n",
       "    <tr>\n",
       "      <th>3</th>\n",
       "      <td>20</td>\n",
       "      <td>10</td>\n",
       "      <td>lqa</td>\n",
       "      <td>0.937548</td>\n",
       "    </tr>\n",
       "    <tr>\n",
       "      <th>4</th>\n",
       "      <td>20</td>\n",
       "      <td>10</td>\n",
       "      <td>lQa</td>\n",
       "      <td>0.949491</td>\n",
       "    </tr>\n",
       "    <tr>\n",
       "      <th>...</th>\n",
       "      <td>...</td>\n",
       "      <td>...</td>\n",
       "      <td>...</td>\n",
       "      <td>...</td>\n",
       "    </tr>\n",
       "    <tr>\n",
       "      <th>338</th>\n",
       "      <td>100</td>\n",
       "      <td>40</td>\n",
       "      <td>lQ</td>\n",
       "      <td>0.880405</td>\n",
       "    </tr>\n",
       "    <tr>\n",
       "      <th>339</th>\n",
       "      <td>100</td>\n",
       "      <td>40</td>\n",
       "      <td>lqa</td>\n",
       "      <td>0.889668</td>\n",
       "    </tr>\n",
       "    <tr>\n",
       "      <th>340</th>\n",
       "      <td>100</td>\n",
       "      <td>40</td>\n",
       "      <td>lQa</td>\n",
       "      <td>0.924142</td>\n",
       "    </tr>\n",
       "    <tr>\n",
       "      <th>341</th>\n",
       "      <td>100</td>\n",
       "      <td>40</td>\n",
       "      <td>lqA</td>\n",
       "      <td>0.908181</td>\n",
       "    </tr>\n",
       "    <tr>\n",
       "      <th>342</th>\n",
       "      <td>100</td>\n",
       "      <td>40</td>\n",
       "      <td>lQA</td>\n",
       "      <td>0.909770</td>\n",
       "    </tr>\n",
       "  </tbody>\n",
       "</table>\n",
       "<p>343 rows × 4 columns</p>\n",
       "</div>"
      ],
      "text/plain": [
       "     topics  wsize corpus  correlation\n",
       "0        20     10      l     0.929235\n",
       "1        20     10     lq     0.932658\n",
       "2        20     10     lQ     0.950186\n",
       "3        20     10    lqa     0.937548\n",
       "4        20     10    lQa     0.949491\n",
       "..      ...    ...    ...          ...\n",
       "338     100     40     lQ     0.880405\n",
       "339     100     40    lqa     0.889668\n",
       "340     100     40    lQa     0.924142\n",
       "341     100     40    lqA     0.908181\n",
       "342     100     40    lQA     0.909770\n",
       "\n",
       "[343 rows x 4 columns]"
      ]
     },
     "execution_count": 23,
     "metadata": {},
     "output_type": "execute_result"
    }
   ],
   "source": [
    "gs_results"
   ]
  },
  {
   "cell_type": "code",
   "execution_count": 24,
   "metadata": {
    "ExecuteTime": {
     "end_time": "2020-02-21T15:19:34.897180Z",
     "start_time": "2020-02-21T15:19:34.893837Z"
    }
   },
   "outputs": [],
   "source": [
    "# param_scores = gs_results['correlation'].tolist()"
   ]
  },
  {
   "cell_type": "code",
   "execution_count": 40,
   "metadata": {
    "ExecuteTime": {
     "end_time": "2020-02-21T15:30:25.902566Z",
     "start_time": "2020-02-21T15:30:22.878512Z"
    },
    "scrolled": false
   },
   "outputs": [
    {
     "data": {
      "image/png": "[encoded data removed]",
      "text/plain": [
       "<Figure size 1008x432 with 15 Axes>"
      ]
     },
     "metadata": {
      "needs_background": "light"
     },
     "output_type": "display_data"
    }
   ],
   "source": [
    "fig, axarr = plt.subplots(2, 4)\n",
    "fig.set_size_inches(14, 6)\n",
    "axarr = axarr.flatten()\n",
    "\n",
    "param_arr = np.array(param_scores).reshape(7, 7, 7)\n",
    "\n",
    "for i, (ax, arr) in enumerate(zip(axarr, param_arr.T)):\n",
    "    cb = True\n",
    "    yt = lecture_wsize if i in [0, 4] else []\n",
    "    ax = sns.heatmap(arr, vmin=.85, vmax=1, xticklabels=n_topics, yticklabels=yt, ax=ax, cbar=cb)\n",
    "    ax.set_title(f'Corpus: {corpora[i]}')\n",
    "    if i >= 3:\n",
    "        ax.set_xlabel('Number of topics')\n",
    "    if i in [0, 4]:\n",
    "        ax.set_ylabel('Lecture window size')\n",
    "        \n",
    "    if i == 2:\n",
    "        max_cell = np.unravel_index(arr.argmax(), arr.shape)\n",
    "        ax.add_patch(Rectangle(max_cell, 1, 1, fill=False, edgecolor='#FFF9AE', lw=3))\n",
    "        \n",
    "    \n",
    "    \n",
    "axarr[-1].axis('off')\n",
    "plt.tight_layout()\n",
    "plt.savefig(opj(figdir, 'grid_search.pdf'), bbox_inches='tight')\n",
    "plt.show()"
   ]
  },
  {
   "cell_type": "code",
   "execution_count": null,
   "metadata": {},
   "outputs": [],
   "source": []
  }
 ],
 "metadata": {
  "kernelspec": {
   "display_name": "Python 3",
   "language": "python",
   "name": "python3"
  },
  "language_info": {
   "codemirror_mode": {
    "name": "ipython",
    "version": 3
   },
   "file_extension": ".py",
   "mimetype": "text/x-python",
   "name": "python",
   "nbconvert_exporter": "python",
   "pygments_lexer": "ipython3",
   "version": "3.7.4"
  }
 },
 "nbformat": 4,
 "nbformat_minor": 2
}
