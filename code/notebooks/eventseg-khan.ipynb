{
 "cells": [
  {
   "cell_type": "markdown",
   "metadata": {},
   "source": [
    "### imports"
   ]
  },
  {
   "cell_type": "code",
   "execution_count": 1,
   "metadata": {
    "ExecuteTime": {
     "end_time": "2019-07-04T00:40:16.685220Z",
     "start_time": "2019-07-04T00:40:13.500031Z"
    },
    "collapsed": true
   },
   "outputs": [],
   "source": [
    "import numpy as np\n",
    "import pandas as pd\n",
    "import hypertools as hyp\n",
    "import brainiak.eventseg.event as event\n",
    "import pickle\n",
    "import os\n",
    "from scipy.spatial.distance import cdist\n",
    "import matplotlib.pyplot as plt\n",
    "import seaborn as sns\n",
    "\n",
    "%matplotlib inline"
   ]
  },
  {
   "cell_type": "markdown",
   "metadata": {},
   "source": [
    "### paths"
   ]
  },
  {
   "cell_type": "code",
   "execution_count": 6,
   "metadata": {
    "ExecuteTime": {
     "end_time": "2019-07-04T01:01:09.335095Z",
     "start_time": "2019-07-04T01:01:09.332425Z"
    },
    "collapsed": true
   },
   "outputs": [],
   "source": [
    "traj_dir = '../data analysis/trajectories/'\n",
    "eventseg_dir = '../data analysis/event-segments/'"
   ]
  },
  {
   "cell_type": "markdown",
   "metadata": {},
   "source": [
    "### data"
   ]
  },
  {
   "cell_type": "code",
   "execution_count": 4,
   "metadata": {
    "ExecuteTime": {
     "end_time": "2019-07-04T00:57:20.759009Z",
     "start_time": "2019-07-04T00:57:20.706625Z"
    },
    "collapsed": true
   },
   "outputs": [],
   "source": [
    "# lecture trajectories\n",
    "forces_v_traj = np.load(traj_dir+'forces_v_traj.npy')\n",
    "bos_v_traj = np.load(traj_dir+'bos_v_traj.npy')\n",
    "\n",
    "# question trajectories\n",
    "forces_q_traj = np.load(traj_dir+'forces_q_traj.npy')\n",
    "bos_q_traj = np.load(traj_dir+'bos_q_traj.npy')\n",
    "\n",
    "# avg learning traces\n",
    "avg_force_trace0 = np.load(traj_dir+'avg_force_trace0.npy')\n",
    "avg_force_trace1 = np.load(traj_dir+'avg_force_trace1.npy')\n",
    "avg_force_trace2 = np.load(traj_dir+'avg_force_trace2.npy')\n",
    "avg_bos_trace0 = np.load(traj_dir+'avg_bos_trace0.npy')\n",
    "avg_bos_trace1 = np.load(traj_dir+'avg_bos_trace1.npy')\n",
    "avg_bos_trace2 = np.load(traj_dir+'avg_bos_trace2.npy')\n",
    "\n",
    "# individual learning traces\n",
    "with open(traj_dir+'forces_traces_set0.p', 'rb') as f:\n",
    "    forces_traces_set0 = pickle.load(f)\n",
    "    \n",
    "with open(traj_dir+'forces_traces_set1.p', 'rb') as f:\n",
    "    forces_traces_set1 = pickle.load(f)\n",
    "    \n",
    "with open(traj_dir+'forces_traces_set2.p', 'rb') as f:\n",
    "    forces_traces_set2 = pickle.load(f)\n",
    "    \n",
    "with open(traj_dir+'bos_traces_set0.p', 'rb') as f:\n",
    "    bos_traces_set0 = pickle.load(f)\n",
    "    \n",
    "with open(traj_dir+'bos_traces_set1.p', 'rb') as f:\n",
    "    bos_traces_set1 = pickle.load(f)\n",
    "    \n",
    "with open(traj_dir+'bos_traces_set2.p', 'rb') as f:\n",
    "    bos_traces_set2 = pickle.load(f)"
   ]
  },
  {
   "cell_type": "markdown",
   "metadata": {},
   "source": [
    "### functions"
   ]
  },
  {
   "cell_type": "code",
   "execution_count": 30,
   "metadata": {
    "ExecuteTime": {
     "end_time": "2019-07-04T01:38:40.691431Z",
     "start_time": "2019-07-04T01:38:40.686008Z"
    },
    "collapsed": true
   },
   "outputs": [],
   "source": [
    "def reduce_model(m, ev):\n",
    "    \"\"\"\n",
    "    Reduce a model based on event labels\n",
    "    \"\"\"\n",
    "    w = (np.round(ev.segments_[0])==1).astype(bool)\n",
    "    return np.array([m[wi, :].mean(0) for wi in w.T])"
   ]
  },
  {
   "cell_type": "markdown",
   "metadata": {},
   "source": [
    "# find optimal k for each lecture trajectory"
   ]
  },
  {
   "cell_type": "code",
   "execution_count": 7,
   "metadata": {
    "ExecuteTime": {
     "end_time": "2019-07-04T01:04:19.818627Z",
     "start_time": "2019-07-04T01:02:31.143572Z"
    },
    "scrolled": true
   },
   "outputs": [
    {
     "name": "stdout",
     "output_type": "stream",
     "text": [
      "fitting forces to 1 events...\n"
     ]
    },
    {
     "name": "stderr",
     "output_type": "stream",
     "text": [
      "/Users/paxtonfitzpatrick/anaconda/envs/py36/lib/python3.6/site-packages/ipykernel_launcher.py:14: RuntimeWarning: Mean of empty slice.\n",
      "  \n"
     ]
    },
    {
     "name": "stdout",
     "output_type": "stream",
     "text": [
      "fitting forces to 2 events...\n",
      "fitting forces to 3 events...\n",
      "fitting forces to 4 events...\n",
      "fitting forces to 5 events...\n",
      "fitting forces to 6 events...\n",
      "fitting forces to 7 events...\n",
      "fitting forces to 8 events...\n",
      "fitting forces to 9 events...\n",
      "fitting forces to 10 events...\n",
      "fitting forces to 11 events...\n",
      "fitting forces to 12 events...\n",
      "fitting forces to 13 events...\n",
      "fitting forces to 14 events...\n",
      "fitting forces to 15 events...\n",
      "fitting forces to 16 events...\n",
      "fitting forces to 17 events...\n",
      "fitting forces to 18 events...\n",
      "fitting forces to 19 events...\n",
      "fitting forces to 20 events...\n",
      "fitting forces to 21 events...\n",
      "fitting forces to 22 events...\n",
      "fitting forces to 23 events...\n",
      "fitting forces to 24 events...\n",
      "fitting forces to 25 events...\n",
      "fitting forces to 26 events...\n",
      "fitting forces to 27 events...\n",
      "fitting forces to 28 events...\n",
      "fitting forces to 29 events...\n",
      "fitting bos to 1 events...\n",
      "fitting bos to 2 events...\n",
      "fitting bos to 3 events...\n",
      "fitting bos to 4 events...\n",
      "fitting bos to 5 events...\n",
      "fitting bos to 6 events...\n",
      "fitting bos to 7 events...\n",
      "fitting bos to 8 events...\n",
      "fitting bos to 9 events...\n",
      "fitting bos to 10 events...\n",
      "fitting bos to 11 events...\n",
      "fitting bos to 12 events...\n",
      "fitting bos to 13 events...\n",
      "fitting bos to 14 events...\n",
      "fitting bos to 15 events...\n",
      "fitting bos to 16 events...\n",
      "fitting bos to 17 events...\n",
      "fitting bos to 18 events...\n",
      "fitting bos to 19 events...\n",
      "fitting bos to 20 events...\n",
      "fitting bos to 21 events...\n",
      "fitting bos to 22 events...\n",
      "fitting bos to 23 events...\n",
      "fitting bos to 24 events...\n",
      "fitting bos to 25 events...\n",
      "fitting bos to 26 events...\n",
      "fitting bos to 27 events...\n",
      "fitting bos to 28 events...\n",
      "fitting bos to 29 events...\n"
     ]
    }
   ],
   "source": [
    "lecture_ks = {'forces' : [], 'bos': []}\n",
    "\n",
    "for lec_traj, key in zip([forces_v_traj, bos_v_traj], lecture_ks.keys()):\n",
    "    \n",
    "    corrmat = np.corrcoef(lec_traj)\n",
    "    \n",
    "    for n_events in range(1, 30):\n",
    "        print(f'fitting {key} to {n_events} events...')\n",
    "        ev = event.EventSegment(n_events)\n",
    "        ev.fit(lec_traj)\n",
    "        roundedmat = np.round(ev.segments_[0]).astype(int)\n",
    "        mask = np.sum(list(map(lambda x: np.outer(x, x), roundedmat.T)), 0).astype(bool)\n",
    "        within = corrmat[mask].mean()\n",
    "        across = corrmat[~mask].mean()\n",
    "        lecture_ks[key].append((within, across, within/across))"
   ]
  },
  {
   "cell_type": "code",
   "execution_count": 8,
   "metadata": {
    "ExecuteTime": {
     "end_time": "2019-07-04T01:04:19.823479Z",
     "start_time": "2019-07-04T01:04:19.820099Z"
    },
    "collapsed": true
   },
   "outputs": [],
   "source": [
    "# with open(eventseg_dir + 'lecture_ks.p', 'wb') as f:\n",
    "#     pickle.dump(lecture_ks, f)"
   ]
  },
  {
   "cell_type": "code",
   "execution_count": null,
   "metadata": {
    "collapsed": true
   },
   "outputs": [],
   "source": [
    "with open(eventseg_dir + 'lecture_ks.p', 'rb') as f:\n",
    "    lecture_ks = pickle.load(f)"
   ]
  },
  {
   "cell_type": "markdown",
   "metadata": {
    "ExecuteTime": {
     "end_time": "2019-07-04T01:04:49.746912Z",
     "start_time": "2019-07-04T01:04:49.735585Z"
    }
   },
   "source": [
    "## plot within- & across-event correlations as a function of k"
   ]
  },
  {
   "cell_type": "code",
   "execution_count": 10,
   "metadata": {
    "ExecuteTime": {
     "end_time": "2019-07-04T01:06:00.221018Z",
     "start_time": "2019-07-04T01:05:59.946597Z"
    }
   },
   "outputs": [
    {
     "data": {
      "image/png": "[encoded data removed]",
      "text/plain": [
       "<Figure size 432x288 with 1 Axes>"
      ]
     },
     "metadata": {},
     "output_type": "display_data"
    },
    {
     "data": {
      "image/png": "[encoded data removed]",
      "text/plain": [
       "<Figure size 432x288 with 1 Axes>"
      ]
     },
     "metadata": {},
     "output_type": "display_data"
    }
   ],
   "source": [
    "for lec, ks in lecture_ks.items():\n",
    "    plt.plot(list(map(lambda x: x[0], ks)), label='Within-event')\n",
    "    plt.plot(list(map(lambda x: x[1], ks)), label='Across-events')\n",
    "    plt.title(lec)\n",
    "    plt.legend()\n",
    "    plt.xlabel('Number of events (k)')\n",
    "    plt.ylabel('Correlation')\n",
    "    plt.show()"
   ]
  },
  {
   "cell_type": "markdown",
   "metadata": {},
   "source": [
    "## plot ratio of within- & across-event correlations as a function of k"
   ]
  },
  {
   "cell_type": "code",
   "execution_count": 14,
   "metadata": {
    "ExecuteTime": {
     "end_time": "2019-07-04T01:10:50.457476Z",
     "start_time": "2019-07-04T01:10:50.220364Z"
    },
    "scrolled": false
   },
   "outputs": [
    {
     "name": "stdout",
     "output_type": "stream",
     "text": [
      "forces: Max ratio at 26 events\n"
     ]
    },
    {
     "data": {
      "image/png": "[encoded data removed]",
      "text/plain": [
       "<Figure size 432x288 with 1 Axes>"
      ]
     },
     "metadata": {},
     "output_type": "display_data"
    },
    {
     "name": "stdout",
     "output_type": "stream",
     "text": [
      "bos: Max ratio at 11 events\n"
     ]
    },
    {
     "data": {
      "image/png": "[encoded data removed]",
      "text/plain": [
       "<Figure size 432x288 with 1 Axes>"
      ]
     },
     "metadata": {},
     "output_type": "display_data"
    }
   ],
   "source": [
    "lec_max_ks = []\n",
    "for lec, ks in lecture_ks.items():\n",
    "#     t=list(map(lambda x: x[0]/(x[1]-min(ks[1])), ks))[1:]\n",
    "    t=list(map(lambda x: x[0]/(x[1]-ks[1][2]), ks))[1:]\n",
    "    t/=np.max(t)\n",
    "    \n",
    "    for i, v in enumerate(t):\n",
    "        t[i]-=i/225    # regularization parameter (~5 x lecture window size)\n",
    "    \n",
    "    plt.plot(t)\n",
    "    plt.ylabel('abs(within/across) ratio')\n",
    "    plt.xlabel('Number of events (k)')\n",
    "    print(f'{lec}: Max ratio at {np.argmax(t)} events')\n",
    "    lec_max_ks.append((lec, np.argmax(t)))\n",
    "    plt.show()"
   ]
  },
  {
   "cell_type": "markdown",
   "metadata": {},
   "source": [
    "# fit eventseg model with optimal k, save fit model, segments, onset/offsets"
   ]
  },
  {
   "cell_type": "code",
   "execution_count": 33,
   "metadata": {
    "ExecuteTime": {
     "end_time": "2019-07-04T01:39:59.170981Z",
     "start_time": "2019-07-04T01:39:54.194434Z"
    },
    "scrolled": true
   },
   "outputs": [],
   "source": [
    "for (lec_name, max_k), lec_traj  in zip(lec_max_ks, [forces_v_traj, bos_v_traj]):\n",
    "    ev = event.EventSegment(max_k)\n",
    "    ev.fit(lec_traj)\n",
    "    lecture_events = reduce_model(lec_traj, ev)\n",
    "    \n",
    "    # save episodes' fit eventseg models\n",
    "    with open(eventseg_dir+f'{lec_name}_eventseg_model.p', 'wb') as f:\n",
    "        pickle.dump(ev, f)\n",
    "    \n",
    "    # save segmented episode models\n",
    "    np.save(eventseg_dir+f'{lec_name}_events.npy', lecture_events)\n",
    "    \n",
    "    event_onsets_offsets = []\n",
    "    \n",
    "    # get onset/offset times\n",
    "    for s in ev.segments_[0].T:\n",
    "        tpts = np.where(np.round(s)==1)[0]\n",
    "        event_onsets_offsets.append((tpts[0], tpts[-1]))\n",
    "        \n",
    "    # save onset/offset times\n",
    "    with open(eventseg_dir+f'{lec_name}_event_times.p', 'wb') as f:\n",
    "        pickle.dump(event_onsets_offsets, f)"
   ]
  },
  {
   "cell_type": "markdown",
   "metadata": {
    "ExecuteTime": {
     "end_time": "2019-07-04T01:23:03.982668Z",
     "start_time": "2019-07-04T01:23:03.977816Z"
    }
   },
   "source": [
    "# find optimal k for each learning trace"
   ]
  },
  {
   "cell_type": "code",
   "execution_count": null,
   "metadata": {
    "collapsed": true
   },
   "outputs": [],
   "source": []
  }
 ],
 "metadata": {
  "kernelspec": {
   "display_name": "Python 3",
   "language": "python",
   "name": "python3"
  },
  "language_info": {
   "codemirror_mode": {
    "name": "ipython",
    "version": 3
   },
   "file_extension": ".py",
   "mimetype": "text/x-python",
   "name": "python",
   "nbconvert_exporter": "python",
   "pygments_lexer": "ipython3",
   "version": "3.6.2"
  }
 },
 "nbformat": 4,
 "nbformat_minor": 2
}
