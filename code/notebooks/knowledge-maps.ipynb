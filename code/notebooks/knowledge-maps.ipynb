{
 "cells": [
  {
   "cell_type": "markdown",
   "metadata": {},
   "source": [
    "## Imports"
   ]
  },
  {
   "cell_type": "code",
   "execution_count": 1,
   "metadata": {
    "ExecuteTime": {
     "end_time": "2020-01-09T01:20:20.569485Z",
     "start_time": "2020-01-09T01:20:17.552288Z"
    }
   },
   "outputs": [],
   "source": [
    "import os\n",
    "import numpy as np\n",
    "import pandas as pd\n",
    "import hypertools as hyp\n",
    "from umap import UMAP\n",
    "from os.path import join as opj\n",
    "\n",
    "import matplotlib.pyplot as plt\n",
    "import seaborn as sns\n",
    "%matplotlib inline"
   ]
  },
  {
   "cell_type": "markdown",
   "metadata": {},
   "source": [
    "## Set paths"
   ]
  },
  {
   "cell_type": "code",
   "execution_count": 2,
   "metadata": {
    "ExecuteTime": {
     "end_time": "2020-01-09T01:20:21.174514Z",
     "start_time": "2020-01-09T01:20:21.171629Z"
    }
   },
   "outputs": [],
   "source": [
    "datadir = '../data-analysis/'\n",
    "traj_dir = opj(datadir, 'trajectories')\n",
    "fig_dir = '../../figures/'"
   ]
  },
  {
   "cell_type": "markdown",
   "metadata": {},
   "source": [
    "## Load trajectories"
   ]
  },
  {
   "cell_type": "code",
   "execution_count": 3,
   "metadata": {
    "ExecuteTime": {
     "end_time": "2020-01-09T01:20:22.122968Z",
     "start_time": "2020-01-09T01:20:22.105477Z"
    }
   },
   "outputs": [],
   "source": [
    "forces_vid = np.load(opj(traj_dir, 'forces_v_traj.npy'))\n",
    "bos_vid = np.load(opj(traj_dir, 'bos_v_traj.npy'))\n",
    "forces_qs = np.load(opj(traj_dir, 'forces_q_traj.npy'))\n",
    "bos_qs = np.load(opj(traj_dir, 'bos_q_traj.npy'))\n",
    "\n",
    "qsets = ['qset1', 'qset2', 'qset3']\n",
    "forces_traces = dict.fromkeys(qsets)\n",
    "bos_traces = dict.fromkeys(qsets)\n",
    "for qset in range(1, 4):\n",
    "    fq_path = opj(traj_dir, f'forces_traces_set{qset - 1}.p')\n",
    "    bq_path = opj(traj_dir, f'bos_traces_set{qset - 1}.p')\n",
    "    forces_traces[f'qset{qset}'] = np.load(fq_path, allow_pickle=True)\n",
    "    bos_traces[f'qset{qset}'] = np.load(bq_path, allow_pickle=True)"
   ]
  },
  {
   "cell_type": "markdown",
   "metadata": {
    "ExecuteTime": {
     "end_time": "2020-01-08T18:06:49.707086Z",
     "start_time": "2020-01-08T18:06:49.701143Z"
    }
   },
   "source": [
    "## Create 2D embeddings"
   ]
  },
  {
   "cell_type": "code",
   "execution_count": 4,
   "metadata": {
    "ExecuteTime": {
     "end_time": "2020-01-09T01:20:23.978641Z",
     "start_time": "2020-01-09T01:20:23.975316Z"
    }
   },
   "outputs": [],
   "source": [
    "seed = 0\n",
    "umap_params = {\n",
    "    'n_components': 2,\n",
    "    'n_neighbors': 15,\n",
    "    'spread': 1.0,\n",
    "    'min_dist': 0.1,\n",
    "    'metric': 'correlation',\n",
    "    'init': 'random',\n",
    "    'random_state': seed,\n",
    "}"
   ]
  },
  {
   "cell_type": "code",
   "execution_count": 5,
   "metadata": {
    "ExecuteTime": {
     "end_time": "2020-01-09T01:20:24.788475Z",
     "start_time": "2020-01-09T01:20:24.784200Z"
    }
   },
   "outputs": [],
   "source": [
    "# embedding all videos, questions, traces together\n",
    "to_reduce = [forces_vid] + [bos_vid] + [forces_qs] + [bos_qs]\n",
    "for vid_traces in [forces_traces, bos_traces]:\n",
    "    for qset_traces in vid_traces.values():\n",
    "        for sub in sorted(list(qset_traces.keys())):\n",
    "            to_reduce.append(qset_traces[sub])"
   ]
  },
  {
   "cell_type": "code",
   "execution_count": 6,
   "metadata": {
    "ExecuteTime": {
     "end_time": "2020-01-09T01:22:00.813926Z",
     "start_time": "2020-01-09T01:20:26.867284Z"
    },
    "scrolled": true
   },
   "outputs": [],
   "source": [
    "split = np.cumsum([len(traj) for traj in to_reduce])[:-1]\n",
    "stacked_trajs = np.vstack(to_reduce)\n",
    "\n",
    "np.random.seed(seed)\n",
    "reducer = UMAP(**umap_params)\n",
    "stacked_embeddings = reducer.fit_transform(stacked_trajs)\n",
    "embeddings = np.vsplit(stacked_embeddings, split)"
   ]
  },
  {
   "cell_type": "code",
   "execution_count": 7,
   "metadata": {
    "ExecuteTime": {
     "end_time": "2020-01-09T01:22:01.548033Z",
     "start_time": "2020-01-09T01:22:00.817294Z"
    }
   },
   "outputs": [],
   "source": [
    "np.save(opj(datadir, 'embeddings.npy'), embeddings)\n",
    "np.save(opj(datadir, 'UMAP_reducer.npy'), reducer)\n",
    "# embeddings = np.load(opj(datadir, 'embeddings.npy'))\n",
    "# reducer = np.load(opj(datadir, 'UMAP_reducer.npy'), allow_pickle=True).item()"
   ]
  },
  {
   "cell_type": "code",
   "execution_count": 8,
   "metadata": {
    "ExecuteTime": {
     "end_time": "2020-01-09T01:22:01.557165Z",
     "start_time": "2020-01-09T01:22:01.550359Z"
    }
   },
   "outputs": [],
   "source": [
    "forces_vid_emb, bos_vid_emb, forces_qs_emb, bos_qs_emb = embeddings[:4]\n",
    "forces_traces_embs = {qset: {sub: None for sub in range(1, 41)} for qset in qsets}\n",
    "bos_traces_embs = {qset: {sub: None for sub in range(1, 41)} for qset in qsets}\n",
    "\n",
    "ix = 4\n",
    "for trace_emb_dict in [forces_traces_embs, bos_traces_embs]:\n",
    "    for qset in qsets:\n",
    "        for sub in sorted(list(forces_traces[qset].keys())):\n",
    "            \n",
    "            trace_emb_dict[qset][sub] = embeddings[ix]\n",
    "            ix += 1"
   ]
  },
  {
   "cell_type": "markdown",
   "metadata": {},
   "source": [
    "## Create a 2D grid"
   ]
  },
  {
   "cell_type": "code",
   "execution_count": 9,
   "metadata": {
    "ExecuteTime": {
     "end_time": "2020-01-09T01:22:33.138347Z",
     "start_time": "2020-01-09T01:22:33.132230Z"
    }
   },
   "outputs": [
    {
     "name": "stdout",
     "output_type": "stream",
     "text": [
      "scale: 31.0, step: 1.24\n"
     ]
    }
   ],
   "source": [
    "scale = np.max([np.abs(i) for i in [forces_vid_emb.min(), \n",
    "                                    forces_vid_emb.max(), \n",
    "                                    bos_vid_emb.min(), \n",
    "                                    bos_vid_emb.max()]]) // 1 + 1\n",
    "\n",
    "step = scale / 25\n",
    "print(f'scale: {scale}, step: {step}')\n",
    "\n",
    "X, Y = np.meshgrid(np.arange(-scale, scale, step), np.arange(-scale, scale, step))"
   ]
  },
  {
   "cell_type": "code",
   "execution_count": 25,
   "metadata": {
    "ExecuteTime": {
     "end_time": "2020-01-09T00:43:27.111942Z",
     "start_time": "2020-01-09T00:43:27.108282Z"
    }
   },
   "outputs": [
    {
     "data": {
      "text/plain": [
       "'/Users/paxtonfitzpatrick/opt/anaconda3/envs/py37/lib/python3.7/site-packages/umap/__init__.py'"
      ]
     },
     "execution_count": 25,
     "metadata": {},
     "output_type": "execute_result"
    }
   ],
   "source": [
    "reducer.inverse_transform"
   ]
  },
  {
   "cell_type": "code",
   "execution_count": null,
   "metadata": {
    "ExecuteTime": {
     "end_time": "2020-01-09T00:39:27.812821Z",
     "start_time": "2020-01-09T00:39:27.809258Z"
    }
   },
   "outputs": [],
   "source": []
  },
  {
   "cell_type": "code",
   "execution_count": null,
   "metadata": {},
   "outputs": [],
   "source": []
  }
 ],
 "metadata": {
  "kernelspec": {
   "display_name": "conda py37",
   "language": "python",
   "name": "py37"
  },
  "language_info": {
   "codemirror_mode": {
    "name": "ipython",
    "version": 3
   },
   "file_extension": ".py",
   "mimetype": "text/x-python",
   "name": "python",
   "nbconvert_exporter": "python",
   "pygments_lexer": "ipython3",
   "version": "3.7.3"
  }
 },
 "nbformat": 4,
 "nbformat_minor": 2
}
