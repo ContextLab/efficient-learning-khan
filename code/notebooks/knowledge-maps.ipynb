{
 "cells": [
  {
   "cell_type": "markdown",
   "metadata": {},
   "source": [
    "## Imports"
   ]
  },
  {
   "cell_type": "code",
   "execution_count": 336,
   "metadata": {
    "ExecuteTime": {
     "end_time": "2020-01-09T17:12:53.540979Z",
     "start_time": "2020-01-09T17:12:53.535124Z"
    }
   },
   "outputs": [],
   "source": [
    "import os\n",
    "import numpy as np\n",
    "import pandas as pd\n",
    "import hypertools as hyp\n",
    "from umap import UMAP\n",
    "from os.path import join as opj\n",
    "from scipy.interpolate import interp1d\n",
    "from scipy.stats import pearsonr\n",
    "from scipy.spatial.distance import cdist\n",
    "\n",
    "import matplotlib.pyplot as plt\n",
    "import seaborn as sns\n",
    "%matplotlib inline"
   ]
  },
  {
   "cell_type": "markdown",
   "metadata": {},
   "source": [
    "## Set paths"
   ]
  },
  {
   "cell_type": "code",
   "execution_count": 2,
   "metadata": {
    "ExecuteTime": {
     "end_time": "2020-01-09T03:24:23.775445Z",
     "start_time": "2020-01-09T03:24:23.771794Z"
    }
   },
   "outputs": [],
   "source": [
    "datadir = '../data-analysis/'\n",
    "traj_dir = opj(datadir, 'trajectories')\n",
    "fig_dir = '../../figures/'"
   ]
  },
  {
   "cell_type": "markdown",
   "metadata": {},
   "source": [
    "## Load data"
   ]
  },
  {
   "cell_type": "code",
   "execution_count": 136,
   "metadata": {
    "ExecuteTime": {
     "end_time": "2020-01-09T06:04:32.800719Z",
     "start_time": "2020-01-09T06:04:32.724659Z"
    }
   },
   "outputs": [],
   "source": [
    "questions_df = pd.read_csv('../data-analysis/astronomyquestions.tsv', sep='\\t', \n",
    "            names=['index', 'video', 'question', 'ans_A', 'ans_B', 'ans_C', 'ans_D'], index_col='index') \n",
    "\n",
    "sub_data = dict()\n",
    "data_df = pd.read_csv('../graded-answers/Graded_results_19s.csv', index_col='Unnamed: 0')\n",
    "for sub in data_df.participantID.unique():\n",
    "    sub_data[sub] = data_df.loc[data_df.participantID == sub].drop('participantID', axis=1).reset_index(drop=True)\n",
    "\n",
    "forces_vid = np.load(opj(traj_dir, 'forces_v_traj.npy'))\n",
    "bos_vid = np.load(opj(traj_dir, 'bos_v_traj.npy'))\n",
    "forces_qs = np.load(opj(traj_dir, 'forces_q_traj.npy'))\n",
    "bos_qs = np.load(opj(traj_dir, 'bos_q_traj.npy'))\n",
    "\n",
    "qsets = ['qset1', 'qset2', 'qset3']\n",
    "forces_traces = dict.fromkeys(qsets)\n",
    "bos_traces = dict.fromkeys(qsets)\n",
    "for qset in range(1, 4):\n",
    "    fq_path = opj(traj_dir, f'forces_traces_set{qset - 1}.p')\n",
    "    bq_path = opj(traj_dir, f'bos_traces_set{qset - 1}.p')\n",
    "    forces_traces[f'qset{qset}'] = np.load(fq_path, allow_pickle=True)\n",
    "    bos_traces[f'qset{qset}'] = np.load(bq_path, allow_pickle=True)\n",
    "    \n",
    "CV = np.load(opj(datadir, 'fit_CV.npy'), allow_pickle=True).item()\n",
    "LDA = np.load(opj(datadir, 'fit_LDA.npy'), allow_pickle=True).item()"
   ]
  },
  {
   "cell_type": "markdown",
   "metadata": {
    "ExecuteTime": {
     "end_time": "2020-01-08T18:06:49.707086Z",
     "start_time": "2020-01-08T18:06:49.701143Z"
    }
   },
   "source": [
    "## Create 2D embeddings"
   ]
  },
  {
   "cell_type": "code",
   "execution_count": 4,
   "metadata": {
    "ExecuteTime": {
     "end_time": "2020-01-09T03:24:30.961582Z",
     "start_time": "2020-01-09T03:24:30.956918Z"
    }
   },
   "outputs": [],
   "source": [
    "seed = 0\n",
    "umap_params = {\n",
    "    'n_components': 2,\n",
    "    'n_neighbors': 15,\n",
    "    'spread': 1.0,\n",
    "    'min_dist': 0.1,\n",
    "    'metric': 'correlation',\n",
    "    'init': 'random',\n",
    "    'random_state': seed,\n",
    "}"
   ]
  },
  {
   "cell_type": "code",
   "execution_count": 5,
   "metadata": {
    "ExecuteTime": {
     "end_time": "2020-01-09T03:25:12.401448Z",
     "start_time": "2020-01-09T03:25:12.397554Z"
    }
   },
   "outputs": [],
   "source": [
    "# embedding all videos, questions, traces together\n",
    "to_reduce = [forces_vid] + [bos_vid] + [forces_qs] + [bos_qs]\n",
    "for vid_traces in [forces_traces, bos_traces]:\n",
    "    for qset_traces in vid_traces.values():\n",
    "        for sub in sorted(list(qset_traces.keys())):\n",
    "            to_reduce.append(qset_traces[sub])"
   ]
  },
  {
   "cell_type": "code",
   "execution_count": 6,
   "metadata": {
    "ExecuteTime": {
     "end_time": "2020-01-09T03:26:53.728972Z",
     "start_time": "2020-01-09T03:25:15.046923Z"
    },
    "scrolled": true
   },
   "outputs": [],
   "source": [
    "split = np.cumsum([len(traj) for traj in to_reduce])[:-1]\n",
    "stacked_trajs = np.vstack(to_reduce)\n",
    "\n",
    "np.random.seed(seed)\n",
    "reducer = UMAP(**umap_params).fit(stacked_trajs)\n",
    "stacked_embeddings = reducer.transform(stacked_trajs)\n",
    "embeddings = np.vsplit(stacked_embeddings, split)"
   ]
  },
  {
   "cell_type": "code",
   "execution_count": 7,
   "metadata": {
    "ExecuteTime": {
     "end_time": "2020-01-09T04:03:55.643552Z",
     "start_time": "2020-01-09T04:03:54.667035Z"
    }
   },
   "outputs": [],
   "source": [
    "# np.save(opj(datadir, 'embeddings.npy'), embeddings)\n",
    "# np.save(opj(datadir, 'UMAP_reducer.npy'), reducer)\n",
    "embeddings = np.load(opj(datadir, 'embeddings.npy'))\n",
    "reducer = np.load(opj(datadir, 'UMAP_reducer.npy'), allow_pickle=True).item()"
   ]
  },
  {
   "cell_type": "code",
   "execution_count": 8,
   "metadata": {
    "ExecuteTime": {
     "end_time": "2020-01-09T04:04:06.234852Z",
     "start_time": "2020-01-09T04:04:06.228229Z"
    }
   },
   "outputs": [],
   "source": [
    "forces_vid_emb, bos_vid_emb, forces_qs_emb, bos_qs_emb = embeddings[:4]\n",
    "forces_traces_embs = {qset: {sub: None for sub in range(1, 41)} for qset in qsets}\n",
    "bos_traces_embs = {qset: {sub: None for sub in range(1, 41)} for qset in qsets}\n",
    "\n",
    "ix = 4\n",
    "for trace_emb_dict in [forces_traces_embs, bos_traces_embs]:\n",
    "    for qset in qsets:\n",
    "        for sub in sorted(list(forces_traces[qset].keys())):\n",
    "            \n",
    "            trace_emb_dict[qset][sub] = embeddings[ix]\n",
    "            ix += 1"
   ]
  },
  {
   "cell_type": "markdown",
   "metadata": {},
   "source": [
    "## Create a 2D grid"
   ]
  },
  {
   "cell_type": "code",
   "execution_count": 57,
   "metadata": {
    "ExecuteTime": {
     "end_time": "2020-01-09T04:51:28.070089Z",
     "start_time": "2020-01-09T04:51:28.057860Z"
    }
   },
   "outputs": [
    {
     "name": "stdout",
     "output_type": "stream",
     "text": [
      "scale: 31.0, step: 1.24\n"
     ]
    }
   ],
   "source": [
    "scale = np.max([np.abs(i) for i in [forces_vid_emb.min(), \n",
    "                                    forces_vid_emb.max(), \n",
    "                                    bos_vid_emb.min(), \n",
    "                                    bos_vid_emb.max()]]) // 1 + 1\n",
    "\n",
    "step = scale / 25\n",
    "print(f'scale: {scale}, step: {step}')\n",
    "\n",
    "X, Y = np.meshgrid(np.arange(-scale, scale, step), np.arange(-scale, scale, step))\n",
    "xy_grid = np.empty((50, 50, 2), dtype=np.float16)\n",
    "for (x_ix, y_ix), X_val in np.ndenumerate(X):\n",
    "    xy_grid[x_ix, y_ix] = (X_val, Y[x_ix, y_ix])"
   ]
  },
  {
   "cell_type": "code",
   "execution_count": 120,
   "metadata": {
    "ExecuteTime": {
     "end_time": "2020-01-09T05:34:06.706801Z",
     "start_time": "2020-01-09T05:33:24.557743Z"
    }
   },
   "outputs": [],
   "source": [
    "# compute original topic proportions at each vertex\n",
    "vertices = xy_grid.reshape(2500, 2)\n",
    "topic_space_grid = reducer.inverse_transform(vertices).reshape(50, 50, -1)\n",
    "\n",
    "# inverse transform fails for some gridpoints with little surrounding data \n",
    "# deal with these by interpolating topic vectors from surround successfully produced topic vectors\n",
    "err_points = np.where(np.all(np.equal(topic_space_grid, 0), axis=2))\n",
    "\n"
   ]
  },
  {
   "cell_type": "code",
   "execution_count": 208,
   "metadata": {
    "ExecuteTime": {
     "end_time": "2020-01-09T15:14:34.251122Z",
     "start_time": "2020-01-09T15:14:34.246690Z"
    },
    "scrolled": true
   },
   "outputs": [],
   "source": [
    "n_questions = len(questions_df.loc[questions_df.video.isin([1, 2])])\n",
    "participant_IDs = sorted(data_df.participantID.unique())"
   ]
  },
  {
   "cell_type": "code",
   "execution_count": 281,
   "metadata": {
    "ExecuteTime": {
     "end_time": "2020-01-09T15:42:09.994750Z",
     "start_time": "2020-01-09T15:42:06.152243Z"
    }
   },
   "outputs": [],
   "source": [
    "question_corr_grid = np.empty((n_questions, X.shape[0], X.shape[1]))\n",
    "all_questions_vectors = list(forces_qs) + list(bos_qs)\n",
    "\n",
    "for q_n, q_vector in enumerate(all_questions_vectors):\n",
    "    for x_ix in range(X.shape[0]):\n",
    "        for y_ix in range(X.shape[1]):\n",
    "            question_corr_grid[q_n, x_ix, y_ix] = pearsonr(q_vector, topic_space_grid[x_ix, y_ix])[0]"
   ]
  },
  {
   "cell_type": "code",
   "execution_count": 259,
   "metadata": {
    "ExecuteTime": {
     "end_time": "2020-01-09T15:36:58.404878Z",
     "start_time": "2020-01-09T15:36:58.324783Z"
    }
   },
   "outputs": [],
   "source": [
    "for set_n in range(3):\n",
    "    questions_pcorrect = np.empty(n_questions)\n",
    "    for question in range(n_questions):\n",
    "        # questions 1 - 30 pertain to lectures\n",
    "        set_views = data_df.loc[(data_df.qID == question + 1) & (data_df['set'] == set_n)]\n",
    "        p_correct = len(set_views.loc[set_views['correct?'] == 1]) / len(set_views)\n",
    "        questions_pcorrect[question] = p_correct\n",
    "        \n",
    "    # compute weighted proportion of correctly answered questions for ecah grid point\n",
    "    # weights are correlation between grid point topic vector and question vector\n",
    "    knowledge_grid = np.zeros_like(X)\n",
    "    weight_sum = question_corr_grid.sum(axis=0)\n",
    "    knowledge_grid = (questions_pcorrect * question_corr_grid.T).sum(axis=2) / weight_sum\n",
    "    \n",
    "    "
   ]
  },
  {
   "cell_type": "code",
   "execution_count": 265,
   "metadata": {
    "ExecuteTime": {
     "end_time": "2020-01-09T15:37:51.875469Z",
     "start_time": "2020-01-09T15:37:51.524175Z"
    }
   },
   "outputs": [
    {
     "data": {
      "image/png": "[encoded data removed]",
      "text/plain": [
       "<Figure size 432x288 with 2 Axes>"
      ]
     },
     "metadata": {
      "needs_background": "light"
     },
     "output_type": "display_data"
    }
   ],
   "source": [
    "sns.heatmap(knowledge_grid)\n",
    "plt.show()"
   ]
  },
  {
   "cell_type": "code",
   "execution_count": 325,
   "metadata": {
    "ExecuteTime": {
     "end_time": "2020-01-09T16:03:11.832493Z",
     "start_time": "2020-01-09T16:03:11.829951Z"
    }
   },
   "outputs": [],
   "source": [
    "all_zeros = xy_grid[np.where(np.isnan(knowledge_grid))]"
   ]
  },
  {
   "cell_type": "code",
   "execution_count": 335,
   "metadata": {
    "ExecuteTime": {
     "end_time": "2020-01-09T16:23:58.524075Z",
     "start_time": "2020-01-09T16:23:57.983567Z"
    }
   },
   "outputs": [
    {
     "data": {
      "image/png": "[encoded data removed]",
      "text/plain": [
       "<Figure size 432x288 with 1 Axes>"
      ]
     },
     "metadata": {
      "needs_background": "light"
     },
     "output_type": "display_data"
    }
   ],
   "source": [
    "plt.scatter(np.vstack(embeddings)[:, 0], np.vstack(embeddings)[:, 1], c='white')\n",
    "plt.scatter(all_zeros[:, 0], all_zeros[:, 1], c='orange')\n",
    "plt.show()"
   ]
  },
  {
   "cell_type": "code",
   "execution_count": 345,
   "metadata": {
    "ExecuteTime": {
     "end_time": "2020-01-09T21:00:54.611548Z",
     "start_time": "2020-01-09T21:00:54.606609Z"
    }
   },
   "outputs": [
    {
     "data": {
      "text/plain": [
       "(array([30, 30, 30, 31, 31, 31, 32, 32, 32]),\n",
       " array([30, 31, 32, 30, 31, 32, 30, 31, 32]))"
      ]
     },
     "execution_count": 345,
     "metadata": {},
     "output_type": "execute_result"
    }
   ],
   "source": [
    "np.where(np.isnan(knowledge_grid))"
   ]
  },
  {
   "cell_type": "code",
   "execution_count": 354,
   "metadata": {
    "ExecuteTime": {
     "end_time": "2020-01-09T21:03:46.450936Z",
     "start_time": "2020-01-09T21:03:46.445401Z"
    }
   },
   "outputs": [
    {
     "data": {
      "text/plain": [
       "(array([30, 30, 30, 31, 31, 31, 32, 32, 32]),\n",
       " array([30, 31, 32, 30, 31, 32, 30, 31, 32]))"
      ]
     },
     "execution_count": 354,
     "metadata": {},
     "output_type": "execute_result"
    }
   ],
   "source": []
  },
  {
   "cell_type": "code",
   "execution_count": null,
   "metadata": {},
   "outputs": [],
   "source": []
  }
 ],
 "metadata": {
  "kernelspec": {
   "display_name": "conda py37",
   "language": "python",
   "name": "py37"
  },
  "language_info": {
   "codemirror_mode": {
    "name": "ipython",
    "version": 3
   },
   "file_extension": ".py",
   "mimetype": "text/x-python",
   "name": "python",
   "nbconvert_exporter": "python",
   "pygments_lexer": "ipython3",
   "version": "3.7.3"
  }
 },
 "nbformat": 4,
 "nbformat_minor": 2
}
