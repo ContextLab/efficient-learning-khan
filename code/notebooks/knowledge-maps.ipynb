{
 "cells": [
  {
   "cell_type": "markdown",
   "metadata": {},
   "source": [
    "## Imports"
   ]
  },
  {
   "cell_type": "code",
   "execution_count": 70,
   "metadata": {
    "ExecuteTime": {
     "end_time": "2020-02-24T23:39:35.143920Z",
     "start_time": "2020-02-24T23:39:35.119249Z"
    }
   },
   "outputs": [],
   "source": [
    "import sys\n",
    "import numpy as np\n",
    "import pandas as pd\n",
    "from os.path import abspath, join as opj\n",
    "from scipy.interpolate import LinearNDInterpolator\n",
    "from scipy.stats import pearsonr\n",
    "from tqdm.notebook import tqdm\n",
    "from umap import UMAP\n",
    "\n",
    "sys.path.insert(0, abspath('../helpers/'))\n",
    "from participant import Participant, symmetric_kl\n",
    "from experiment import Experiment\n",
    "\n",
    "import matplotlib.pyplot as plt\n",
    "import seaborn as sns\n",
    "%matplotlib inline"
   ]
  },
  {
   "cell_type": "markdown",
   "metadata": {},
   "source": [
    "## Set paths & params"
   ]
  },
  {
   "cell_type": "code",
   "execution_count": 2,
   "metadata": {
    "ExecuteTime": {
     "end_time": "2020-02-24T23:01:40.273133Z",
     "start_time": "2020-02-24T23:01:40.258609Z"
    }
   },
   "outputs": [],
   "source": [
    "embeddings_dir = '../../data/embeddings'\n",
    "models_dir = '../../data/models/'\n",
    "fig_dir = '../../paper/figs/'\n",
    "\n",
    "plt.rcParams['pdf.fonttype'] = 42\n",
    "sns.set_context('paper')\n",
    "# cmap = 'rocket'"
   ]
  },
  {
   "cell_type": "markdown",
   "metadata": {},
   "source": [
    "## Define functions"
   ]
  },
  {
   "cell_type": "code",
   "execution_count": 3,
   "metadata": {
    "ExecuteTime": {
     "end_time": "2020-02-24T23:01:40.290617Z",
     "start_time": "2020-02-24T23:01:40.284960Z"
    }
   },
   "outputs": [],
   "source": [
    "# def interp_inv_transform(xy_coords, topic_props):\n",
    "#     \"\"\"\n",
    "#     given a (n_xcoords, n_ycoords, xy_coords) grid of coordinates\n",
    "#     and a (n_xcoords, n_ycoords, ndims) grid of topic vectors,\n",
    "#     interpolate topic proportions at xy_coords where UMAP inverse\n",
    "#     transform failed (i.e., returned a topic vector of all zeros)\n",
    "#     \"\"\"\n",
    "#     err_mask = np.all(np.equal(topic_props, 0), axis=2)\n",
    "#     good_coords = xy_coords[~err_mask]\n",
    "#     err_coords = xy_coords[err_mask]\n",
    "#     good_vectors = topic_props[~err_mask]\n",
    "#     interpolator = LinearNDInterpolator(good_coords, good_vectors)\n",
    "#     fixed_vals = interpolator(err_coords)\n",
    "#     topic_props[err_mask] = fixed_vals\n",
    "#     return topic_props"
   ]
  },
  {
   "cell_type": "markdown",
   "metadata": {},
   "source": [
    "## Load data"
   ]
  },
  {
   "cell_type": "code",
   "execution_count": 4,
   "metadata": {
    "ExecuteTime": {
     "end_time": "2020-02-24T23:01:40.525192Z",
     "start_time": "2020-02-24T23:01:40.295896Z"
    }
   },
   "outputs": [
    {
     "name": "stdout",
     "output_type": "stream",
     "text": [
      "{'n_components': 2, 'n_neighbors': 15, 'min_dist': 0.7, 'spread': 1.0, 'random_state': 0}\n"
     ]
    }
   ],
   "source": [
    "exp = Experiment()\n",
    "exp.load_lecture_trajs()\n",
    "exp.load_question_vectors()\n",
    "exp.load_participants(load_avg=True)\n",
    "participants = exp.participants\n",
    "avg_participant = exp.avg_participant\n",
    "n_topics = exp.lda_params['n_components']\n",
    "umap_params = exp.umap_params\n",
    "seed = umap_params['random_state']\n",
    "print(umap_params)"
   ]
  },
  {
   "cell_type": "markdown",
   "metadata": {
    "ExecuteTime": {
     "end_time": "2020-01-08T18:06:49.707086Z",
     "start_time": "2020-01-08T18:06:49.701143Z"
    }
   },
   "source": [
    "## Create 2D embeddings"
   ]
  },
  {
   "cell_type": "code",
   "execution_count": 5,
   "metadata": {
    "ExecuteTime": {
     "end_time": "2020-02-24T23:01:41.387643Z",
     "start_time": "2020-02-24T23:01:41.380329Z"
    }
   },
   "outputs": [],
   "source": [
    "# concatenate all data along fetaure dimension to embed in a shared space\n",
    "to_reduce = exp.get_lecture_traj(['forces', 'bos'])\n",
    "to_reduce.extend(list(exp.get_question_vecs(lectures=['forces', 'bos', 'general'])))\n",
    "# store data incidces to separate embedded matrix later\n",
    "split_inds = np.cumsum([np.atleast_2d(vec).shape[0] for vec in to_reduce])[:2]\n",
    "to_reduce = np.vstack(to_reduce)"
   ]
  },
  {
   "cell_type": "code",
   "execution_count": 8,
   "metadata": {
    "ExecuteTime": {
     "end_time": "2020-02-24T22:56:20.348280Z",
     "start_time": "2020-02-24T22:56:20.335346Z"
    },
    "scrolled": false
   },
   "outputs": [],
   "source": [
    "# np.random.seed(0)\n",
    "# reducer = UMAP(random_state=0).fit(stacked_vecs)\n",
    "# stacked_embs = reducer.transform(stacked_vecs)\n",
    "# forces_emb, bos_emb, questions_embs = np.vsplit(stacked_embs, split_inds)\n",
    "\n",
    "# hyp.plot([forces_emb, bos_emb, questions_embs[:15], questions_embs[15:30], questions_embs[30:]], \n",
    "#      fmt=['ro', 'go', 'bo', 'yo', 'ko'])\n",
    "# hyp.plot([forces_emb, bos_emb, questions_embs[:15], questions_embs[15:30], questions_embs[30:]], \n",
    "#      fmt=['r-', 'g-', 'bo', 'yo', 'ko'])\n",
    "\n",
    "# np.random.seed(seed)\n",
    "# reducer = UMAP(random_state=0, metric='correlation').fit(stacked_vecs)\n",
    "# stacked_embs = reducer.transform(stacked_vecs)\n",
    "# forces_emb, bos_emb, questions_embs = np.vsplit(stacked_embs, split_inds)\n",
    "\n",
    "# hyp.plot([forces_emb, bos_emb, questions_embs[:15], questions_embs[15:30], questions_embs[30:]], \n",
    "#      fmt=['ro', 'go', 'bo', 'yo', 'ko'])\n",
    "# hyp.plot([forces_emb, bos_emb, questions_embs[:15], questions_embs[15:30], questions_embs[30:]], \n",
    "#      fmt=['r-', 'g-', 'bo', 'yo', 'ko'])\n",
    "\n",
    "\n",
    "# np.random.seed(seed)\n",
    "# reducer = UMAP(random_state=0, metric=symmetric_kl).fit(stacked_vecs)\n",
    "# stacked_embs = reducer.transform(stacked_vecs)\n",
    "# forces_emb, bos_emb, questions_embs = np.vsplit(stacked_embs, split_inds)\n",
    "\n",
    "# hyp.plot([forces_emb, bos_emb, questions_embs[:15], questions_embs[15:30], questions_embs[30:]], \n",
    "#      fmt=['ro', 'go', 'bo', 'yo', 'ko'])\n",
    "# hyp.plot([forces_emb, bos_emb, questions_embs[:15], questions_embs[15:30], questions_embs[30:]], \n",
    "#      fmt=['r-', 'g-', 'bo', 'yo', 'ko'])"
   ]
  },
  {
   "cell_type": "code",
   "execution_count": 17,
   "metadata": {
    "ExecuteTime": {
     "end_time": "2020-02-24T23:05:17.042333Z",
     "start_time": "2020-02-24T23:05:14.111515Z"
    }
   },
   "outputs": [],
   "source": [
    "np.random.seed(seed)\n",
    "reducer = UMAP(**umap_params).fit(to_reduce)\n",
    "embeddings = reducer.transform(to_reduce)\n",
    "forces_emb, bos_emb, questions_embs = np.vsplit(embeddings, split_inds)"
   ]
  },
  {
   "cell_type": "code",
   "execution_count": 7,
   "metadata": {
    "ExecuteTime": {
     "end_time": "2020-02-24T23:01:54.136242Z",
     "start_time": "2020-02-24T23:01:54.106527Z"
    }
   },
   "outputs": [],
   "source": [
    "# save fit UMAP reducer and 2D embeddings\n",
    "# np.save(opj(models_dir, 'UMAP_reducer'), reducer)\n",
    "# np.save(opj(embeddings_dir, 'forces_lecture'), forces_emb)\n",
    "# np.save(opj(embeddings_dir, 'bos_lecture'), bos_emb)\n",
    "# np.save(opj(embeddings_dir, 'questions'), questions_embs)\n",
    "exp.load_reducer()\n",
    "exp.load_embeddings()"
   ]
  },
  {
   "cell_type": "markdown",
   "metadata": {},
   "source": [
    "## Create a 2D grid"
   ]
  },
  {
   "cell_type": "code",
   "execution_count": 18,
   "metadata": {
    "ExecuteTime": {
     "end_time": "2020-02-24T23:05:19.160156Z",
     "start_time": "2020-02-24T23:05:19.135547Z"
    }
   },
   "outputs": [],
   "source": [
    "resolution = 50\n",
    "x_min, y_min = embeddings.min(axis=0) // 1\n",
    "x_max, y_max = embeddings.max(axis=0) // 1 + 1\n",
    "x_step = (x_max - x_min) / resolution\n",
    "y_step = (y_max - y_min) / resolution\n",
    "xs = np.arange(x_min, x_max, x_step)\n",
    "ys = np.arange(y_min, y_max, y_step)\n",
    "\n",
    "X, Y = np.meshgrid(xs, ys)\n",
    "xy_grid = np.empty((resolution, resolution, 2), dtype=np.float64)\n",
    "for (x_ix, y_ix), X_val in np.ndenumerate(X):\n",
    "    xy_grid[x_ix, y_ix] = (X_val, Y[x_ix, y_ix])"
   ]
  },
  {
   "cell_type": "markdown",
   "metadata": {
    "ExecuteTime": {
     "end_time": "2020-02-24T22:00:33.001943Z",
     "start_time": "2020-02-24T22:00:32.994768Z"
    }
   },
   "source": [
    "## Recover a topic vector for each grid point"
   ]
  },
  {
   "cell_type": "code",
   "execution_count": 19,
   "metadata": {
    "ExecuteTime": {
     "end_time": "2020-02-24T23:05:30.234895Z",
     "start_time": "2020-02-24T23:05:20.510668Z"
    }
   },
   "outputs": [],
   "source": [
    "# inverse-transform grid into original topic space\n",
    "np.random.seed(seed)\n",
    "vertices = xy_grid.reshape(resolution**2, 2)\n",
    "topic_space_grid = reducer.inverse_transform(vertices).reshape(resolution, resolution, n_topics)\n",
    "# make sure inverse transform was successful at all coordinates (failure returns all 0's)\n",
    "assert ~np.all(np.equal(topic_space_grid, 0), axis=2).any()"
   ]
  },
  {
   "cell_type": "markdown",
   "metadata": {},
   "source": [
    "## Reconstruct memory traces for every grid point"
   ]
  },
  {
   "cell_type": "code",
   "execution_count": null,
   "metadata": {
    "ExecuteTime": {
     "start_time": "2020-02-24T23:42:01.855Z"
    }
   },
   "outputs": [
    {
     "data": {
      "application/vnd.jupyter.widget-view+json": {
       "model_id": "",
       "version_major": 2,
       "version_minor": 0
      },
      "text/plain": [
       "HBox(children=(IntProgress(value=0, description='2/3', max=50, style=ProgressStyle(description_width='initial'…"
      ]
     },
     "metadata": {},
     "output_type": "display_data"
    },
    {
     "name": "stdout",
     "output_type": "stream",
     "text": [
      "\r"
     ]
    },
    {
     "data": {
      "application/vnd.jupyter.widget-view+json": {
       "model_id": "df439a96f806426f8d0b0aa879d40d25",
       "version_major": 2,
       "version_minor": 0
      },
      "text/plain": [
       "HBox(children=(IntProgress(value=0, description='3/3', max=50, style=ProgressStyle(description_width='initial'…"
      ]
     },
     "metadata": {},
     "output_type": "display_data"
    }
   ],
   "source": [
    "flat_topic_grid = topic_space_grid.reshape(resolution**2, n_topics)\n",
    "\n",
    "maps_arr = np.empty((3, 50, resolution, resolution), dtype=np.float64)\n",
    "for qset in range(3):\n",
    "    store_key = f'kmap_qset{qset}'\n",
    "    for i, p in enumerate(tqdm(participants, desc=f'{qset+1}/3', leave=False)):\n",
    "        knowledge_map = p.reconstruct_trace(exp, content=flat_topic_grid, qset=qset)\n",
    "        knowledge_map = knowledge_map.reshape(resolution, resolution)\n",
    "        p.store_trace(knowledge_map, store_key)\n",
    "        maps_arr[qset, i] = knowledge_map\n",
    "    # store average in avg participant object\n",
    "    avg_participant.store_trace(maps_arr[qset].mean(axis=0), store_key)\n",
    "\n",
    "# exp.participants = participants\n",
    "# exp.avg_participant = avg_participant"
   ]
  },
  {
   "cell_type": "code",
   "execution_count": 72,
   "metadata": {
    "ExecuteTime": {
     "end_time": "2020-02-24T23:41:56.324004Z",
     "start_time": "2020-02-24T23:41:56.316159Z"
    }
   },
   "outputs": [],
   "source": []
  },
  {
   "cell_type": "code",
   "execution_count": null,
   "metadata": {
    "ExecuteTime": {
     "end_time": "2020-02-24T23:38:27.860792Z",
     "start_time": "2020-02-24T23:38:27.846257Z"
    }
   },
   "outputs": [],
   "source": []
  },
  {
   "cell_type": "code",
   "execution_count": 53,
   "metadata": {
    "ExecuteTime": {
     "end_time": "2020-02-24T23:21:20.513034Z",
     "start_time": "2020-02-24T23:21:20.261000Z"
    }
   },
   "outputs": [
    {
     "data": {
      "text/plain": [
       "<matplotlib.collections.PathCollection at 0x7f04504cf5d0>"
      ]
     },
     "execution_count": 53,
     "metadata": {},
     "output_type": "execute_result"
    },
    {
     "data": {
      "image/png": "[encoded data removed]",
      "text/plain": [
       "<Figure size 432x288 with 1 Axes>"
      ]
     },
     "metadata": {
      "needs_background": "light"
     },
     "output_type": "display_data"
    }
   ],
   "source": [
    "plt.scatter(vertices[:, 0], vertices[:, 1], c='lightgrey', marker='.')\n",
    "plt.plot(forces_emb[:, 0], forces_emb[:, 1], 'r-')\n",
    "plt.plot(bos_emb[:, 0], bos_emb[:, 1], 'g-')\n",
    "plt.scatter(questions_embs[:, 0], questions_embs[:, 1], c='b', marker='o')"
   ]
  },
  {
   "cell_type": "code",
   "execution_count": 29,
   "metadata": {
    "ExecuteTime": {
     "end_time": "2020-02-24T23:16:23.046419Z",
     "start_time": "2020-02-24T23:16:23.034370Z"
    }
   },
   "outputs": [
    {
     "data": {
      "text/plain": [
       "(626, 2)"
      ]
     },
     "execution_count": 29,
     "metadata": {},
     "output_type": "execute_result"
    }
   ],
   "source": []
  },
  {
   "cell_type": "code",
   "execution_count": 30,
   "metadata": {
    "ExecuteTime": {
     "end_time": "2020-02-24T23:16:35.552294Z",
     "start_time": "2020-02-24T23:16:35.299113Z"
    }
   },
   "outputs": [
    {
     "data": {
      "text/plain": [
       "<matplotlib.collections.PathCollection at 0x7f04603a8510>"
      ]
     },
     "execution_count": 30,
     "metadata": {},
     "output_type": "execute_result"
    },
    {
     "data": {
      "image/png": "[encoded data removed]",
      "text/plain": [
       "<Figure size 432x288 with 1 Axes>"
      ]
     },
     "metadata": {
      "needs_background": "light"
     },
     "output_type": "display_data"
    }
   ],
   "source": [
    "plt.scatter(forces_emb[:, 0], forces_emb[:, 1])"
   ]
  },
  {
   "cell_type": "code",
   "execution_count": 671,
   "metadata": {
    "ExecuteTime": {
     "end_time": "2020-01-10T00:02:56.354699Z",
     "start_time": "2020-01-10T00:02:56.348740Z"
    },
    "scrolled": true
   },
   "outputs": [],
   "source": [
    "n_questions = len(questions_df.loc[questions_df.video.isin([1, 2])])\n",
    "participant_IDs = sorted(data_df.participantID.unique())"
   ]
  },
  {
   "cell_type": "code",
   "execution_count": 672,
   "metadata": {
    "ExecuteTime": {
     "end_time": "2020-01-10T00:03:01.531279Z",
     "start_time": "2020-01-10T00:02:56.358375Z"
    }
   },
   "outputs": [],
   "source": [
    "question_corr_grid = np.empty((n_questions, X.shape[0], X.shape[1]))\n",
    "all_questions_vectors = list(forces_qs) + list(bos_qs)\n",
    "\n",
    "for q_n, q_vector in enumerate(all_questions_vectors):\n",
    "    for x_ix in range(X.shape[0]):\n",
    "        for y_ix in range(X.shape[1]):\n",
    "            question_corr_grid[q_n, x_ix, y_ix] = pearsonr(q_vector, topic_space_grid[x_ix, y_ix])[0]"
   ]
  },
  {
   "cell_type": "code",
   "execution_count": 681,
   "metadata": {
    "ExecuteTime": {
     "end_time": "2020-01-10T00:05:48.086157Z",
     "start_time": "2020-01-10T00:05:48.012535Z"
    },
    "scrolled": true
   },
   "outputs": [],
   "source": [
    "for set_n in range(3):\n",
    "    questions_pcorrect = np.empty(n_questions)\n",
    "    for question in range(n_questions):\n",
    "        # questions 1 - 30 pertain to lectures\n",
    "        set_views = data_df.loc[(data_df.qID == question + 1) & (data_df['set'] == set_n)]\n",
    "        p_correct = len(set_views.loc[set_views['correct?'] == 1]) / len(set_views)\n",
    "        questions_pcorrect[question] = p_correct\n",
    "        \n",
    "    # compute weighted proportion of correctly answered questions for ecah grid point\n",
    "    # weights are correlation between grid point topic vector and question vector\n",
    "    knowledge_grid = np.zeros_like(X)\n",
    "    weight_sum = question_corr_grid.sum(axis=0)\n",
    "    knowledge_grid = (questions_pcorrect * question_corr_grid.T).sum(axis=2) / weight_sum\n",
    "    break\n",
    "    "
   ]
  },
  {
   "cell_type": "code",
   "execution_count": 649,
   "metadata": {
    "ExecuteTime": {
     "end_time": "2020-01-09T23:50:07.136547Z",
     "start_time": "2020-01-09T23:50:06.797878Z"
    }
   },
   "outputs": [
    {
     "data": {
      "text/plain": [
       "<matplotlib.axes._subplots.AxesSubplot at 0x1a3e050e10>"
      ]
     },
     "execution_count": 649,
     "metadata": {},
     "output_type": "execute_result"
    },
    {
     "data": {
      "image/png": "[encoded data removed]",
      "text/plain": [
       "<Figure size 432x288 with 2 Axes>"
      ]
     },
     "metadata": {
      "needs_background": "light"
     },
     "output_type": "display_data"
    }
   ],
   "source": [
    "sns.heatmap(topic_space_grid.var(axis=2))"
   ]
  },
  {
   "cell_type": "code",
   "execution_count": 644,
   "metadata": {
    "ExecuteTime": {
     "end_time": "2020-01-09T23:49:01.381982Z",
     "start_time": "2020-01-09T23:49:01.377563Z"
    }
   },
   "outputs": [
    {
     "data": {
      "text/plain": [
       "array([0.00152635, 0.00152631, 0.0015263 , 0.00152632, 0.00152629,\n",
       "       0.0015263 , 0.0015263 , 0.00356824, 0.20046054, 0.00152631,\n",
       "       0.5624761 , 0.0015263 ], dtype=float32)"
      ]
     },
     "execution_count": 644,
     "metadata": {},
     "output_type": "execute_result"
    }
   ],
   "source": [
    "np.var"
   ]
  },
  {
   "cell_type": "code",
   "execution_count": 639,
   "metadata": {
    "ExecuteTime": {
     "end_time": "2020-01-09T23:48:31.577728Z",
     "start_time": "2020-01-09T23:48:31.573558Z"
    }
   },
   "outputs": [
    {
     "data": {
      "text/plain": [
       "array([0.86904477, 0.01190482, 0.01190477, 0.01190477, 0.0119048 ,\n",
       "       0.01190521, 0.01190477, 0.01190485, 0.01190527, 0.01190521,\n",
       "       0.01190529, 0.01190548])"
      ]
     },
     "execution_count": 639,
     "metadata": {},
     "output_type": "execute_result"
    }
   ],
   "source": [
    "q_vector"
   ]
  },
  {
   "cell_type": "code",
   "execution_count": 635,
   "metadata": {
    "ExecuteTime": {
     "end_time": "2020-01-09T23:46:00.326529Z",
     "start_time": "2020-01-09T23:46:00.321935Z"
    }
   },
   "outputs": [
    {
     "data": {
      "text/plain": [
       "array([0.90198459, 0.90198457, 0.90198459, 0.90198457, 0.9019846 ,\n",
       "       0.90198459, 0.90198458, 0.9019846 , 0.90198459, 0.90198458,\n",
       "       0.90198462, 0.90198461, 0.90198461, 0.90198461, 0.90198457,\n",
       "       0.90198461, 0.90198458, 0.90198461, 0.90198461, 0.90198461,\n",
       "       0.90198461, 0.90198458, 0.90198459, 0.90198459, 0.90198458,\n",
       "       0.9019846 , 0.90198459, 0.90198461, 0.90198462, 0.90198459,\n",
       "       0.90198463, 0.90198458, 0.90198458, 0.90198459, 0.90198459,\n",
       "       0.90198459, 0.90198459, 0.90198459, 0.90198459, 0.90198456,\n",
       "       0.90198456, 0.90198456, 0.90198456, 0.90198464, 0.90198457,\n",
       "       0.90198463, 0.9019846 , 0.90198461, 0.90198461, 0.90198463])"
      ]
     },
     "execution_count": 635,
     "metadata": {},
     "output_type": "execute_result"
    }
   ],
   "source": [
    "question_corr_grid[0, 0]"
   ]
  },
  {
   "cell_type": "code",
   "execution_count": null,
   "metadata": {
    "ExecuteTime": {
     "end_time": "2020-01-09T23:03:08.866390Z",
     "start_time": "2020-01-09T23:03:08.859221Z"
    }
   },
   "outputs": [],
   "source": []
  },
  {
   "cell_type": "code",
   "execution_count": null,
   "metadata": {
    "ExecuteTime": {
     "end_time": "2020-01-09T23:02:49.278991Z",
     "start_time": "2020-01-09T23:02:49.271124Z"
    }
   },
   "outputs": [],
   "source": []
  },
  {
   "cell_type": "code",
   "execution_count": 682,
   "metadata": {
    "ExecuteTime": {
     "end_time": "2020-01-10T00:05:50.689366Z",
     "start_time": "2020-01-10T00:05:50.568294Z"
    }
   },
   "outputs": [
    {
     "data": {
      "image/png": "[encoded data removed]",
      "text/plain": [
       "<Figure size 432x288 with 2 Axes>"
      ]
     },
     "metadata": {
      "needs_background": "light"
     },
     "output_type": "display_data"
    }
   ],
   "source": [
    "sns.heatmap(knowledge_grid, cmap=plt.cm.RdBu_r, xticklabels=[], yticklabels=[])\n",
    "plt.show()"
   ]
  },
  {
   "cell_type": "code",
   "execution_count": null,
   "metadata": {
    "ExecuteTime": {
     "end_time": "2020-01-09T22:47:31.821319Z",
     "start_time": "2020-01-09T22:47:31.817061Z"
    }
   },
   "outputs": [],
   "source": []
  },
  {
   "cell_type": "code",
   "execution_count": 335,
   "metadata": {
    "ExecuteTime": {
     "end_time": "2020-01-09T16:23:58.524075Z",
     "start_time": "2020-01-09T16:23:57.983567Z"
    }
   },
   "outputs": [
    {
     "data": {
      "image/png": "[encoded data removed]",
      "text/plain": [
       "<Figure size 432x288 with 1 Axes>"
      ]
     },
     "metadata": {
      "needs_background": "light"
     },
     "output_type": "display_data"
    }
   ],
   "source": [
    "plt.scatter(np.vstack(embeddings)[:, 0], np.vstack(embeddings)[:, 1], c='white')\n",
    "plt.scatter(all_zeros[:, 0], all_zeros[:, 1], c='orange')\n",
    "plt.show()"
   ]
  },
  {
   "cell_type": "code",
   "execution_count": null,
   "metadata": {},
   "outputs": [],
   "source": []
  }
 ],
 "metadata": {
  "kernelspec": {
   "display_name": "Python 3",
   "language": "python",
   "name": "python3"
  },
  "language_info": {
   "codemirror_mode": {
    "name": "ipython",
    "version": 3
   },
   "file_extension": ".py",
   "mimetype": "text/x-python",
   "name": "python",
   "nbconvert_exporter": "python",
   "pygments_lexer": "ipython3",
   "version": "3.7.4"
  }
 },
 "nbformat": 4,
 "nbformat_minor": 2
}
