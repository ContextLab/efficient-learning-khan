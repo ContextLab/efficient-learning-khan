{
 "cells": [
  {
   "cell_type": "markdown",
   "metadata": {},
   "source": [
    "## Imports"
   ]
  },
  {
   "cell_type": "code",
   "execution_count": 1,
   "metadata": {
    "ExecuteTime": {
     "end_time": "2020-03-05T18:35:58.896439Z",
     "start_time": "2020-03-05T18:35:56.005732Z"
    },
    "pycharm": {
     "is_executing": false
    }
   },
   "outputs": [],
   "source": [
    "import sys\n",
    "import numba\n",
    "import numpy as np\n",
    "import pandas as pd\n",
    "from math import e\n",
    "from os.path import abspath, join as opj\n",
    "from scipy.stats import pearsonr\n",
    "from tqdm.notebook import tqdm\n",
    "from umap import UMAP\n",
    "\n",
    "sys.path.insert(0, abspath('../helpers/'))\n",
    "from participant import Participant, symmetric_kl\n",
    "from experiment import Experiment\n",
    "\n",
    "import matplotlib.pyplot as plt\n",
    "import seaborn as sns\n",
    "%matplotlib inline"
   ]
  },
  {
   "cell_type": "markdown",
   "metadata": {},
   "source": [
    "## Set paths & params"
   ]
  },
  {
   "cell_type": "code",
   "execution_count": 2,
   "metadata": {
    "ExecuteTime": {
     "end_time": "2020-03-05T18:35:58.998816Z",
     "start_time": "2020-03-05T18:35:58.899624Z"
    },
    "pycharm": {
     "is_executing": false
    }
   },
   "outputs": [],
   "source": [
    "embeddings_dir = '../../data/embeddings'\n",
    "models_dir = '../../data/models/'\n",
    "fig_dir = '../../paper/figs/'\n",
    "\n",
    "plt.rcParams['pdf.fonttype'] = 42\n",
    "sns.set_context('paper')\n",
    "# cmap = 'rocket'"
   ]
  },
  {
   "cell_type": "markdown",
   "metadata": {},
   "source": [
    "## Define functions"
   ]
  },
  {
   "cell_type": "code",
   "execution_count": 3,
   "metadata": {
    "ExecuteTime": {
     "end_time": "2020-03-05T18:35:59.010554Z",
     "start_time": "2020-03-05T18:35:59.002590Z"
    }
   },
   "outputs": [],
   "source": [
    "@numba.njit(fastmath=True)\n",
    "def euclidean_exp(x, y):\n",
    "    x = e ** x\n",
    "    y = e ** y\n",
    "    result = 0.0\n",
    "    for i in range(x.shape[0]):\n",
    "        result += (x[i] - y[i]) ** 2\n",
    "    d = np.sqrt(result)\n",
    "    grad = (x - y) / (1e-6 + d)\n",
    "    return d, grad"
   ]
  },
  {
   "cell_type": "code",
   "execution_count": 4,
   "metadata": {
    "ExecuteTime": {
     "end_time": "2020-03-05T18:35:59.027228Z",
     "start_time": "2020-03-05T18:35:59.013302Z"
    }
   },
   "outputs": [],
   "source": [
    "@numba.njit(fastmath=True)\n",
    "def symmetric_kl_exp(x, y, z=1e-11):\n",
    "    x = e ** x\n",
    "    y = e ** y\n",
    "    n = x.shape[0]\n",
    "    x_sum = 0.0\n",
    "    y_sum = 0.0\n",
    "    kl1 = 0.0\n",
    "    kl2 = 0.0\n",
    "\n",
    "    for i in range(n):\n",
    "        x[i] += z\n",
    "        x_sum += x[i]\n",
    "        y[i] += z\n",
    "        y_sum += y[i]\n",
    "\n",
    "    for i in range(n):\n",
    "        x[i] /= x_sum\n",
    "        y[i] /= y_sum\n",
    "\n",
    "    for i in range(n):\n",
    "        kl1 += x[i] * np.log(x[i] / y[i])\n",
    "        kl2 += y[i] * np.log(y[i] / x[i])\n",
    "\n",
    "    dist = (kl1 + kl2) / 2\n",
    "    grad = (np.log(y / x) - (x / y) + 1) / 2\n",
    "    return dist, grad"
   ]
  },
  {
   "cell_type": "markdown",
   "metadata": {},
   "source": [
    "## Load data"
   ]
  },
  {
   "cell_type": "code",
   "execution_count": 5,
   "metadata": {
    "ExecuteTime": {
     "end_time": "2020-03-05T18:35:59.317993Z",
     "start_time": "2020-03-05T18:35:59.030513Z"
    },
    "pycharm": {
     "is_executing": false
    }
   },
   "outputs": [
    {
     "name": "stdout",
     "output_type": "stream",
     "text": [
      "{'n_components': 2, 'n_neighbors': 15, 'min_dist': 0.7, 'spread': 1.0, 'random_state': 0, 'metric': CPUDispatcher(<function euclidean_exp at 0x7f80fc55e7a0>)}\n"
     ]
    }
   ],
   "source": [
    "exp = Experiment()\n",
    "exp.load_lecture_trajs()\n",
    "exp.load_question_vectors()\n",
    "exp.load_participants(load_avg=True)\n",
    "participants = exp.participants\n",
    "avg_participant = exp.avg_participant\n",
    "n_topics = exp.lda_params['n_components']\n",
    "umap_params = exp.umap_params\n",
    "seed = umap_params['random_state']\n",
    "umap_params['metric'] = symmetric_kl_exp\n",
    "print(umap_params)"
   ]
  },
  {
   "cell_type": "markdown",
   "metadata": {
    "ExecuteTime": {
     "end_time": "2020-01-08T18:06:49.707086Z",
     "start_time": "2020-01-08T18:06:49.701143Z"
    }
   },
   "source": [
    "## Create 2D embeddings"
   ]
  },
  {
   "cell_type": "code",
   "execution_count": 6,
   "metadata": {
    "ExecuteTime": {
     "end_time": "2020-03-05T18:36:01.797521Z",
     "start_time": "2020-03-05T18:36:01.790409Z"
    },
    "pycharm": {
     "is_executing": false
    }
   },
   "outputs": [],
   "source": [
    "# concatenate all data along fetaure dimension to embed in a shared space\n",
    "to_reduce = exp.get_lecture_traj(['forces', 'bos'])\n",
    "to_reduce.extend(list(exp.get_question_vecs(lectures=['forces', 'bos', 'general'])))\n",
    "# store data incidces to separate embedded matrix later\n",
    "split_inds = np.cumsum([np.atleast_2d(vec).shape[0] for vec in to_reduce])[:2]\n",
    "to_reduce = np.log(np.vstack(to_reduce))"
   ]
  },
  {
   "cell_type": "code",
   "execution_count": 8,
   "metadata": {
    "ExecuteTime": {
     "end_time": "2020-03-05T18:36:51.551198Z",
     "start_time": "2020-03-05T18:36:40.702925Z"
    },
    "pycharm": {
     "is_executing": false
    }
   },
   "outputs": [
    {
     "name": "stdout",
     "output_type": "stream",
     "text": [
      "UMAP(a=None, angular_rp_forest=False, b=None,\n",
      "     force_approximation_algorithm=False, init='spectral', learning_rate=1.0,\n",
      "     local_connectivity=1.0, low_memory=False,\n",
      "     metric=CPUDispatcher(<function euclidean_exp at 0x7f80fc55e7a0>),\n",
      "     metric_kwds=None, min_dist=0.7, n_components=2, n_epochs=None,\n",
      "     n_neighbors=15, negative_sample_rate=5, output_metric='euclidean',\n",
      "     output_metric_kwds=None, random_state=0, repulsion_strength=1.0,\n",
      "     set_op_mix_ratio=1.0, spread=1.0, target_metric='categorical',\n",
      "     target_metric_kwds=None, target_n_neighbors=-1, target_weight=0.5,\n",
      "     transform_queue_size=4.0, transform_seed=42, unique=False, verbose=True)\n",
      "Construct fuzzy simplicial set\n",
      "Thu Mar  5 18:36:44 2020 Finding Nearest Neighbors\n",
      "Thu Mar  5 18:36:46 2020 Finished Nearest Neighbor Search\n",
      "Thu Mar  5 18:36:48 2020 Construct embedding\n",
      "\tcompleted  0  /  500 epochs\n",
      "\tcompleted  50  /  500 epochs\n",
      "\tcompleted  100  /  500 epochs\n",
      "\tcompleted  150  /  500 epochs\n",
      "\tcompleted  200  /  500 epochs\n",
      "\tcompleted  250  /  500 epochs\n",
      "\tcompleted  300  /  500 epochs\n",
      "\tcompleted  350  /  500 epochs\n",
      "\tcompleted  400  /  500 epochs\n",
      "\tcompleted  450  /  500 epochs\n",
      "Thu Mar  5 18:36:51 2020 Finished embedding\n"
     ]
    }
   ],
   "source": [
    "np.random.seed(seed)\n",
    "reducer = UMAP(verbose=True, **umap_params).fit(to_reduce)\n",
    "embeddings = reducer.embedding_\n",
    "forces_emb, bos_emb, questions_embs = np.vsplit(embeddings, split_inds)"
   ]
  },
  {
   "cell_type": "code",
   "execution_count": 27,
   "metadata": {
    "ExecuteTime": {
     "end_time": "2020-03-05T18:10:52.928271Z",
     "start_time": "2020-03-05T18:10:52.923339Z"
    },
    "code_folding": [
     0
    ]
   },
   "outputs": [],
   "source": [
    "# save fit UMAP reducer and 2D embeddings\n",
    "# np.save(opj(models_dir, 'UMAP_reducer'), reducer)\n",
    "# np.save(opj(embeddings_dir, 'forces_lecture'), forces_emb)\n",
    "# np.save(opj(embeddings_dir, 'bos_lecture'), bos_emb)\n",
    "# np.save(opj(embeddings_dir, 'questions'), questions_embs)\n",
    "# exp.load_reducer()\n",
    "# exp.load_embeddings()"
   ]
  },
  {
   "cell_type": "markdown",
   "metadata": {},
   "source": [
    "## Create a 2D grid"
   ]
  },
  {
   "cell_type": "code",
   "execution_count": 9,
   "metadata": {
    "ExecuteTime": {
     "end_time": "2020-03-05T18:36:54.875139Z",
     "start_time": "2020-03-05T18:36:54.860827Z"
    },
    "pycharm": {
     "is_executing": false
    }
   },
   "outputs": [],
   "source": [
    "resolution = 50\n",
    "x_min, y_min = embeddings.min(axis=0) // 1\n",
    "x_max, y_max = embeddings.max(axis=0) // 1 + 1\n",
    "x_step = (x_max - x_min) / resolution\n",
    "y_step = (y_max - y_min) / resolution\n",
    "xs = np.arange(x_min, x_max, x_step)\n",
    "ys = np.arange(y_min, y_max, y_step)\n",
    "\n",
    "X, Y = np.meshgrid(xs, ys)\n",
    "xy_grid = np.empty((resolution, resolution, 2), dtype=np.float64)\n",
    "for (x_ix, y_ix), X_val in np.ndenumerate(X):\n",
    "    xy_grid[x_ix, y_ix] = (X_val, Y[x_ix, y_ix])"
   ]
  },
  {
   "cell_type": "code",
   "execution_count": 10,
   "metadata": {
    "ExecuteTime": {
     "end_time": "2020-03-05T18:36:55.402292Z",
     "start_time": "2020-03-05T18:36:54.985891Z"
    },
    "pycharm": {
     "is_executing": false
    }
   },
   "outputs": [
    {
     "data": {
      "text/plain": [
       "<matplotlib.collections.PathCollection at 0x7f80a9f71890>"
      ]
     },
     "execution_count": 10,
     "metadata": {},
     "output_type": "execute_result"
    },
    {
     "data": {
      "image/png": "[encoded data removed]",
      "text/plain": [
       "<Figure size 432x288 with 1 Axes>"
      ]
     },
     "metadata": {
      "needs_background": "light"
     },
     "output_type": "display_data"
    }
   ],
   "source": [
    "vertices = xy_grid.reshape(resolution**2, 2)\n",
    "\n",
    "plt.scatter(vertices[:, 0], vertices[:, 1], c='lightgrey', marker='.')\n",
    "plt.plot(forces_emb[:, 0], forces_emb[:, 1], 'r-')\n",
    "plt.plot(bos_emb[:, 0], bos_emb[:, 1], 'g-')\n",
    "plt.scatter(questions_embs[:, 0], questions_embs[:, 1], c='b', marker='o')"
   ]
  },
  {
   "cell_type": "markdown",
   "metadata": {
    "ExecuteTime": {
     "end_time": "2020-02-24T22:00:33.001943Z",
     "start_time": "2020-02-24T22:00:32.994768Z"
    }
   },
   "source": [
    "## Recover a topic vector for each grid point"
   ]
  },
  {
   "cell_type": "code",
   "execution_count": 47,
   "metadata": {
    "ExecuteTime": {
     "end_time": "2020-03-05T18:30:29.568897Z",
     "start_time": "2020-03-05T18:29:53.281150Z"
    },
    "pycharm": {
     "is_executing": false
    },
    "scrolled": false
   },
   "outputs": [
    {
     "name": "stdout",
     "output_type": "stream",
     "text": [
      "\tcompleted  0  /  100 epochs\n",
      "\tcompleted  10  /  100 epochs\n",
      "\tcompleted  20  /  100 epochs\n",
      "\tcompleted  30  /  100 epochs\n",
      "\tcompleted  40  /  100 epochs\n",
      "\tcompleted  50  /  100 epochs\n",
      "\tcompleted  60  /  100 epochs\n",
      "\tcompleted  70  /  100 epochs\n",
      "\tcompleted  80  /  100 epochs\n",
      "\tcompleted  90  /  100 epochs\n"
     ]
    }
   ],
   "source": [
    "# inverse-transform grid into original topic space\n",
    "np.random.seed(reducer.transform_seed)\n",
    "topic_space_vertices = reducer.inverse_transform(vertices)\n",
    "topic_space_grid = topic_space_vertices.reshape(resolution, resolution, n_topics)\n",
    "# make sure inverse transform was successful at all coordinates (failure returns all 0's)\n",
    "assert ~np.all(np.equal(topic_space_grid, 0), axis=2).any()"
   ]
  },
  {
   "cell_type": "code",
   "execution_count": null,
   "metadata": {
    "ExecuteTime": {
     "end_time": "2020-03-05T18:35:36.918252Z",
     "start_time": "2020-03-05T18:35:36.906512Z"
    }
   },
   "outputs": [],
   "source": []
  },
  {
   "cell_type": "markdown",
   "metadata": {},
   "source": [
    "## Reconstruct memory traces for every grid point"
   ]
  },
  {
   "cell_type": "code",
   "execution_count": 73,
   "metadata": {
    "ExecuteTime": {
     "end_time": "2020-02-24T23:45:44.295424Z",
     "start_time": "2020-02-24T23:42:01.881679Z"
    }
   },
   "outputs": [
    {
     "data": {
      "application/vnd.jupyter.widget-view+json": {
       "model_id": "",
       "version_major": 2,
       "version_minor": 0
      },
      "text/plain": [
       "HBox(children=(IntProgress(value=0, description='2/3', max=50, style=ProgressStyle(description_width='initial'…"
      ]
     },
     "metadata": {},
     "output_type": "display_data"
    },
    {
     "name": "stdout",
     "output_type": "stream",
     "text": [
      "\r"
     ]
    },
    {
     "data": {
      "application/vnd.jupyter.widget-view+json": {
       "model_id": "",
       "version_major": 2,
       "version_minor": 0
      },
      "text/plain": [
       "HBox(children=(IntProgress(value=0, description='3/3', max=50, style=ProgressStyle(description_width='initial'…"
      ]
     },
     "metadata": {},
     "output_type": "display_data"
    },
    {
     "name": "stdout",
     "output_type": "stream",
     "text": [
      "\r"
     ]
    }
   ],
   "source": [
    "maps_arr = np.empty((3, exp.n_participants, resolution, resolution), dtype=np.float64)\n",
    "for qset in range(3):\n",
    "    store_key = f'kmap_qset{qset}'\n",
    "    for i, p in enumerate(tqdm(participants, desc=f'{qset+1}/3', leave=False)):\n",
    "        knowledge_map = p.reconstruct_trace(exp, content=topic_space_vertices, qset=qset)\n",
    "        knowledge_map = knowledge_map.reshape(resolution, resolution)\n",
    "        p.store_trace(knowledge_map, store_key)\n",
    "        maps_arr[qset, i] = knowledge_map\n",
    "    # store average in avg participant object\n",
    "    avg_participant.store_trace(maps_arr[qset].mean(axis=0), store_key)\n",
    "\n",
    "# exp.participants = participants\n",
    "# exp.avg_participant = avg_participant"
   ]
  },
  {
   "cell_type": "code",
   "execution_count": 164,
   "metadata": {
    "ExecuteTime": {
     "end_time": "2020-02-25T00:27:57.009919Z",
     "start_time": "2020-02-25T00:27:57.001962Z"
    }
   },
   "outputs": [],
   "source": [
    "p = participants[0]\n",
    "data = p.get_data(qset=0, lecture=None)\n",
    "acc = data['accuracy'].astype(bool)\n",
    "qids = data['qID'].tolist()\n",
    "question_vecs = exp.get_question_vecs(qids=qids)\n",
    "content = flat_topic_grid"
   ]
  },
  {
   "cell_type": "code",
   "execution_count": null,
   "metadata": {},
   "outputs": [],
   "source": []
  },
  {
   "cell_type": "code",
   "execution_count": null,
   "metadata": {},
   "outputs": [],
   "source": []
  },
  {
   "cell_type": "code",
   "execution_count": null,
   "metadata": {},
   "outputs": [],
   "source": []
  },
  {
   "cell_type": "code",
   "execution_count": null,
   "metadata": {},
   "outputs": [],
   "source": []
  },
  {
   "cell_type": "code",
   "execution_count": null,
   "metadata": {},
   "outputs": [],
   "source": []
  },
  {
   "cell_type": "code",
   "execution_count": null,
   "metadata": {},
   "outputs": [],
   "source": []
  },
  {
   "cell_type": "code",
   "execution_count": null,
   "metadata": {},
   "outputs": [],
   "source": []
  },
  {
   "cell_type": "code",
   "execution_count": null,
   "metadata": {},
   "outputs": [],
   "source": []
  },
  {
   "cell_type": "code",
   "execution_count": 671,
   "metadata": {
    "ExecuteTime": {
     "end_time": "2020-01-10T00:02:56.354699Z",
     "start_time": "2020-01-10T00:02:56.348740Z"
    },
    "scrolled": true
   },
   "outputs": [],
   "source": [
    "n_questions = len(questions_df.loc[questions_df.video.isin([1, 2])])\n",
    "participant_IDs = sorted(data_df.participantID.unique())"
   ]
  },
  {
   "cell_type": "code",
   "execution_count": 672,
   "metadata": {
    "ExecuteTime": {
     "end_time": "2020-01-10T00:03:01.531279Z",
     "start_time": "2020-01-10T00:02:56.358375Z"
    }
   },
   "outputs": [],
   "source": [
    "question_corr_grid = np.empty((n_questions, X.shape[0], X.shape[1]))\n",
    "all_questions_vectors = list(forces_qs) + list(bos_qs)\n",
    "\n",
    "for q_n, q_vector in enumerate(all_questions_vectors):\n",
    "    for x_ix in range(X.shape[0]):\n",
    "        for y_ix in range(X.shape[1]):\n",
    "            question_corr_grid[q_n, x_ix, y_ix] = pearsonr(q_vector, topic_space_grid[x_ix, y_ix])[0]"
   ]
  },
  {
   "cell_type": "code",
   "execution_count": 681,
   "metadata": {
    "ExecuteTime": {
     "end_time": "2020-01-10T00:05:48.086157Z",
     "start_time": "2020-01-10T00:05:48.012535Z"
    },
    "scrolled": true
   },
   "outputs": [],
   "source": [
    "for set_n in range(3):\n",
    "    questions_pcorrect = np.empty(n_questions)\n",
    "    for question in range(n_questions):\n",
    "        # questions 1 - 30 pertain to lectures\n",
    "        set_views = data_df.loc[(data_df.qID == question + 1) & (data_df['set'] == set_n)]\n",
    "        p_correct = len(set_views.loc[set_views['correct?'] == 1]) / len(set_views)\n",
    "        questions_pcorrect[question] = p_correct\n",
    "        \n",
    "    # compute weighted proportion of correctly answered questions for ecah grid point\n",
    "    # weights are correlation between grid point topic vector and question vector\n",
    "    knowledge_grid = np.zeros_like(X)\n",
    "    weight_sum = question_corr_grid.sum(axis=0)\n",
    "    knowledge_grid = (questions_pcorrect * question_corr_grid.T).sum(axis=2) / weight_sum\n",
    "    break\n",
    "    "
   ]
  },
  {
   "cell_type": "code",
   "execution_count": 649,
   "metadata": {
    "ExecuteTime": {
     "end_time": "2020-01-09T23:50:07.136547Z",
     "start_time": "2020-01-09T23:50:06.797878Z"
    }
   },
   "outputs": [
    {
     "data": {
      "text/plain": [
       "<matplotlib.axes._subplots.AxesSubplot at 0x1a3e050e10>"
      ]
     },
     "execution_count": 649,
     "metadata": {},
     "output_type": "execute_result"
    },
    {
     "data": {
      "image/png": "[encoded data removed]",
      "text/plain": [
       "<Figure size 432x288 with 2 Axes>"
      ]
     },
     "metadata": {
      "needs_background": "light"
     },
     "output_type": "display_data"
    }
   ],
   "source": [
    "sns.heatmap(topic_space_grid.var(axis=2))"
   ]
  },
  {
   "cell_type": "code",
   "execution_count": 644,
   "metadata": {
    "ExecuteTime": {
     "end_time": "2020-01-09T23:49:01.381982Z",
     "start_time": "2020-01-09T23:49:01.377563Z"
    }
   },
   "outputs": [
    {
     "data": {
      "text/plain": [
       "array([0.00152635, 0.00152631, 0.0015263 , 0.00152632, 0.00152629,\n",
       "       0.0015263 , 0.0015263 , 0.00356824, 0.20046054, 0.00152631,\n",
       "       0.5624761 , 0.0015263 ], dtype=float32)"
      ]
     },
     "execution_count": 644,
     "metadata": {},
     "output_type": "execute_result"
    }
   ],
   "source": [
    "np.var"
   ]
  },
  {
   "cell_type": "code",
   "execution_count": 639,
   "metadata": {
    "ExecuteTime": {
     "end_time": "2020-01-09T23:48:31.577728Z",
     "start_time": "2020-01-09T23:48:31.573558Z"
    }
   },
   "outputs": [
    {
     "data": {
      "text/plain": [
       "array([0.86904477, 0.01190482, 0.01190477, 0.01190477, 0.0119048 ,\n",
       "       0.01190521, 0.01190477, 0.01190485, 0.01190527, 0.01190521,\n",
       "       0.01190529, 0.01190548])"
      ]
     },
     "execution_count": 639,
     "metadata": {},
     "output_type": "execute_result"
    }
   ],
   "source": [
    "q_vector"
   ]
  },
  {
   "cell_type": "code",
   "execution_count": 635,
   "metadata": {
    "ExecuteTime": {
     "end_time": "2020-01-09T23:46:00.326529Z",
     "start_time": "2020-01-09T23:46:00.321935Z"
    }
   },
   "outputs": [
    {
     "data": {
      "text/plain": [
       "array([0.90198459, 0.90198457, 0.90198459, 0.90198457, 0.9019846 ,\n",
       "       0.90198459, 0.90198458, 0.9019846 , 0.90198459, 0.90198458,\n",
       "       0.90198462, 0.90198461, 0.90198461, 0.90198461, 0.90198457,\n",
       "       0.90198461, 0.90198458, 0.90198461, 0.90198461, 0.90198461,\n",
       "       0.90198461, 0.90198458, 0.90198459, 0.90198459, 0.90198458,\n",
       "       0.9019846 , 0.90198459, 0.90198461, 0.90198462, 0.90198459,\n",
       "       0.90198463, 0.90198458, 0.90198458, 0.90198459, 0.90198459,\n",
       "       0.90198459, 0.90198459, 0.90198459, 0.90198459, 0.90198456,\n",
       "       0.90198456, 0.90198456, 0.90198456, 0.90198464, 0.90198457,\n",
       "       0.90198463, 0.9019846 , 0.90198461, 0.90198461, 0.90198463])"
      ]
     },
     "execution_count": 635,
     "metadata": {},
     "output_type": "execute_result"
    }
   ],
   "source": [
    "question_corr_grid[0, 0]"
   ]
  },
  {
   "cell_type": "code",
   "execution_count": null,
   "metadata": {
    "ExecuteTime": {
     "end_time": "2020-01-09T23:03:08.866390Z",
     "start_time": "2020-01-09T23:03:08.859221Z"
    }
   },
   "outputs": [],
   "source": []
  },
  {
   "cell_type": "code",
   "execution_count": null,
   "metadata": {
    "ExecuteTime": {
     "end_time": "2020-01-09T23:02:49.278991Z",
     "start_time": "2020-01-09T23:02:49.271124Z"
    }
   },
   "outputs": [],
   "source": []
  },
  {
   "cell_type": "code",
   "execution_count": 682,
   "metadata": {
    "ExecuteTime": {
     "end_time": "2020-01-10T00:05:50.689366Z",
     "start_time": "2020-01-10T00:05:50.568294Z"
    }
   },
   "outputs": [
    {
     "data": {
      "image/png": "[encoded data removed]",
      "text/plain": [
       "<Figure size 432x288 with 2 Axes>"
      ]
     },
     "metadata": {
      "needs_background": "light"
     },
     "output_type": "display_data"
    }
   ],
   "source": [
    "sns.heatmap(knowledge_grid, cmap=plt.cm.RdBu_r, xticklabels=[], yticklabels=[])\n",
    "plt.show()"
   ]
  },
  {
   "cell_type": "code",
   "execution_count": null,
   "metadata": {
    "ExecuteTime": {
     "end_time": "2020-01-09T22:47:31.821319Z",
     "start_time": "2020-01-09T22:47:31.817061Z"
    }
   },
   "outputs": [],
   "source": []
  },
  {
   "cell_type": "code",
   "execution_count": 335,
   "metadata": {
    "ExecuteTime": {
     "end_time": "2020-01-09T16:23:58.524075Z",
     "start_time": "2020-01-09T16:23:57.983567Z"
    }
   },
   "outputs": [
    {
     "data": {
      "image/png": "[encoded data removed]",
      "text/plain": [
       "<Figure size 432x288 with 1 Axes>"
      ]
     },
     "metadata": {
      "needs_background": "light"
     },
     "output_type": "display_data"
    }
   ],
   "source": [
    "plt.scatter(np.vstack(embeddings)[:, 0], np.vstack(embeddings)[:, 1], c='white')\n",
    "plt.scatter(all_zeros[:, 0], all_zeros[:, 1], c='orange')\n",
    "plt.show()"
   ]
  },
  {
   "cell_type": "code",
   "execution_count": null,
   "metadata": {},
   "outputs": [],
   "source": []
  }
 ],
 "metadata": {
  "kernelspec": {
   "display_name": "Python 3",
   "language": "python",
   "name": "python3"
  },
  "language_info": {
   "codemirror_mode": {
    "name": "ipython",
    "version": 3
   },
   "file_extension": ".py",
   "mimetype": "text/x-python",
   "name": "python",
   "nbconvert_exporter": "python",
   "pygments_lexer": "ipython3",
   "version": "3.7.4"
  },
  "pycharm": {
   "stem_cell": {
    "cell_type": "raw",
    "metadata": {
     "collapsed": false
    },
    "source": []
   }
  }
 },
 "nbformat": 4,
 "nbformat_minor": 2
}
