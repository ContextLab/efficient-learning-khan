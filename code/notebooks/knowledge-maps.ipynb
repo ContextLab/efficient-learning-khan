{
 "cells": [
  {
   "cell_type": "markdown",
   "metadata": {},
   "source": [
    "## Imports"
   ]
  },
  {
   "cell_type": "code",
   "execution_count": 355,
   "metadata": {
    "ExecuteTime": {
     "end_time": "2020-01-09T21:32:52.262216Z",
     "start_time": "2020-01-09T21:32:52.253035Z"
    }
   },
   "outputs": [],
   "source": [
    "import os\n",
    "import numpy as np\n",
    "import pandas as pd\n",
    "import hypertools as hyp\n",
    "from umap import UMAP\n",
    "from os.path import join as opj\n",
    "from scipy.interpolate import LinearNDInterpolator\n",
    "from scipy.stats import pearsonr\n",
    "from scipy.spatial.distance import cdist\n",
    "\n",
    "import matplotlib.pyplot as plt\n",
    "import seaborn as sns\n",
    "%matplotlib inline"
   ]
  },
  {
   "cell_type": "markdown",
   "metadata": {},
   "source": [
    "## Set paths"
   ]
  },
  {
   "cell_type": "code",
   "execution_count": 2,
   "metadata": {
    "ExecuteTime": {
     "end_time": "2020-01-09T03:24:23.775445Z",
     "start_time": "2020-01-09T03:24:23.771794Z"
    }
   },
   "outputs": [],
   "source": [
    "datadir = '../data-analysis/'\n",
    "traj_dir = opj(datadir, 'trajectories')\n",
    "fig_dir = '../../figures/'"
   ]
  },
  {
   "cell_type": "code",
   "execution_count": 668,
   "metadata": {
    "ExecuteTime": {
     "end_time": "2020-01-10T00:02:01.087513Z",
     "start_time": "2020-01-10T00:02:01.083044Z"
    }
   },
   "outputs": [],
   "source": [
    "def interp_inv_transform(xy_coords, topic_props):\n",
    "    \"\"\"\n",
    "    given a (n_xcoords, n_ycoords, xy_coords) grid of coordinates\n",
    "    and a (n_xcoords, n_ycoords, ndims) grid of topic vectors,\n",
    "    interpolate topic proportions at xy_coords where UMAP inverse\n",
    "    transform failed (i.e., returned a topic vector of all zeros)\n",
    "    \"\"\"\n",
    "    err_mask = np.all(np.equal(topic_props, 0), axis=2)\n",
    "    good_coords = xy_coords[~err_mask]\n",
    "    err_coords = xy_coords[err_mask]\n",
    "    good_vectors = topic_props[~err_mask]\n",
    "\n",
    "    interpolator = LinearNDInterpolator(good_coords, good_vectors)\n",
    "    fixed_vals = interpolator(err_coords)\n",
    "    topic_props[err_mask] = fixed_vals\n",
    "    \n",
    "    return topic_props"
   ]
  },
  {
   "cell_type": "markdown",
   "metadata": {},
   "source": [
    "## Load data"
   ]
  },
  {
   "cell_type": "code",
   "execution_count": 136,
   "metadata": {
    "ExecuteTime": {
     "end_time": "2020-01-09T06:04:32.800719Z",
     "start_time": "2020-01-09T06:04:32.724659Z"
    }
   },
   "outputs": [],
   "source": [
    "questions_df = pd.read_csv('../data-analysis/astronomyquestions.tsv', sep='\\t', \n",
    "            names=['index', 'video', 'question', 'ans_A', 'ans_B', 'ans_C', 'ans_D'], index_col='index') \n",
    "\n",
    "sub_data = dict()\n",
    "data_df = pd.read_csv('../graded-answers/Graded_results_19s.csv', index_col='Unnamed: 0')\n",
    "for sub in data_df.participantID.unique():\n",
    "    sub_data[sub] = data_df.loc[data_df.participantID == sub].drop('participantID', axis=1).reset_index(drop=True)\n",
    "\n",
    "forces_vid = np.load(opj(traj_dir, 'forces_v_traj.npy'))\n",
    "bos_vid = np.load(opj(traj_dir, 'bos_v_traj.npy'))\n",
    "forces_qs = np.load(opj(traj_dir, 'forces_q_traj.npy'))\n",
    "bos_qs = np.load(opj(traj_dir, 'bos_q_traj.npy'))\n",
    "\n",
    "qsets = ['qset1', 'qset2', 'qset3']\n",
    "forces_traces = dict.fromkeys(qsets)\n",
    "bos_traces = dict.fromkeys(qsets)\n",
    "for qset in range(1, 4):\n",
    "    fq_path = opj(traj_dir, f'forces_traces_set{qset - 1}.p')\n",
    "    bq_path = opj(traj_dir, f'bos_traces_set{qset - 1}.p')\n",
    "    forces_traces[f'qset{qset}'] = np.load(fq_path, allow_pickle=True)\n",
    "    bos_traces[f'qset{qset}'] = np.load(bq_path, allow_pickle=True)\n",
    "    \n",
    "CV = np.load(opj(datadir, 'fit_CV.npy'), allow_pickle=True).item()\n",
    "LDA = np.load(opj(datadir, 'fit_LDA.npy'), allow_pickle=True).item()"
   ]
  },
  {
   "cell_type": "markdown",
   "metadata": {
    "ExecuteTime": {
     "end_time": "2020-01-08T18:06:49.707086Z",
     "start_time": "2020-01-08T18:06:49.701143Z"
    }
   },
   "source": [
    "## Create 2D embeddings"
   ]
  },
  {
   "cell_type": "code",
   "execution_count": 4,
   "metadata": {
    "ExecuteTime": {
     "end_time": "2020-01-09T03:24:30.961582Z",
     "start_time": "2020-01-09T03:24:30.956918Z"
    }
   },
   "outputs": [],
   "source": [
    "seed = 0\n",
    "umap_params = {\n",
    "    'n_components': 2,\n",
    "    'n_neighbors': 15,\n",
    "    'spread': 1.0,\n",
    "    'min_dist': 0.1,\n",
    "    'metric': 'correlation',\n",
    "    'init': 'random',\n",
    "    'random_state': seed,\n",
    "}"
   ]
  },
  {
   "cell_type": "code",
   "execution_count": 5,
   "metadata": {
    "ExecuteTime": {
     "end_time": "2020-01-09T03:25:12.401448Z",
     "start_time": "2020-01-09T03:25:12.397554Z"
    }
   },
   "outputs": [],
   "source": [
    "# embedding all videos, questions, traces together\n",
    "to_reduce = [forces_vid] + [bos_vid] + [forces_qs] + [bos_qs]\n",
    "for vid_traces in [forces_traces, bos_traces]:\n",
    "    for qset_traces in vid_traces.values():\n",
    "        for sub in sorted(list(qset_traces.keys())):\n",
    "            to_reduce.append(qset_traces[sub])"
   ]
  },
  {
   "cell_type": "code",
   "execution_count": 6,
   "metadata": {
    "ExecuteTime": {
     "end_time": "2020-01-09T03:26:53.728972Z",
     "start_time": "2020-01-09T03:25:15.046923Z"
    },
    "scrolled": true
   },
   "outputs": [],
   "source": [
    "split = np.cumsum([len(traj) for traj in to_reduce])[:-1]\n",
    "stacked_trajs = np.vstack(to_reduce)\n",
    "\n",
    "np.random.seed(seed)\n",
    "reducer = UMAP(**umap_params).fit(stacked_trajs)\n",
    "stacked_embeddings = reducer.transform(stacked_trajs)\n",
    "embeddings = np.vsplit(stacked_embeddings, split)"
   ]
  },
  {
   "cell_type": "code",
   "execution_count": 7,
   "metadata": {
    "ExecuteTime": {
     "end_time": "2020-01-09T04:03:55.643552Z",
     "start_time": "2020-01-09T04:03:54.667035Z"
    }
   },
   "outputs": [],
   "source": [
    "# np.save(opj(datadir, 'embeddings.npy'), embeddings)\n",
    "# np.save(opj(datadir, 'UMAP_reducer.npy'), reducer)\n",
    "embeddings = np.load(opj(datadir, 'embeddings.npy'))\n",
    "reducer = np.load(opj(datadir, 'UMAP_reducer.npy'), allow_pickle=True).item()"
   ]
  },
  {
   "cell_type": "code",
   "execution_count": 8,
   "metadata": {
    "ExecuteTime": {
     "end_time": "2020-01-09T04:04:06.234852Z",
     "start_time": "2020-01-09T04:04:06.228229Z"
    }
   },
   "outputs": [],
   "source": [
    "forces_vid_emb, bos_vid_emb, forces_qs_emb, bos_qs_emb = embeddings[:4]\n",
    "forces_traces_embs = {qset: {sub: None for sub in range(1, 41)} for qset in qsets}\n",
    "bos_traces_embs = {qset: {sub: None for sub in range(1, 41)} for qset in qsets}\n",
    "\n",
    "ix = 4\n",
    "for trace_emb_dict in [forces_traces_embs, bos_traces_embs]:\n",
    "    for qset in qsets:\n",
    "        for sub in sorted(list(forces_traces[qset].keys())):\n",
    "            \n",
    "            trace_emb_dict[qset][sub] = embeddings[ix]\n",
    "            ix += 1"
   ]
  },
  {
   "cell_type": "markdown",
   "metadata": {},
   "source": [
    "## Create a 2D grid"
   ]
  },
  {
   "cell_type": "code",
   "execution_count": 657,
   "metadata": {
    "ExecuteTime": {
     "end_time": "2020-01-09T23:56:35.169637Z",
     "start_time": "2020-01-09T23:56:35.165716Z"
    }
   },
   "outputs": [
    {
     "data": {
      "text/plain": [
       "array([30.26924, 26.68682], dtype=float32)"
      ]
     },
     "execution_count": 657,
     "metadata": {},
     "output_type": "execute_result"
    }
   ],
   "source": [
    "bos_vid_emb.max(0)"
   ]
  },
  {
   "cell_type": "code",
   "execution_count": 669,
   "metadata": {
    "ExecuteTime": {
     "end_time": "2020-01-10T00:02:09.262610Z",
     "start_time": "2020-01-10T00:02:09.250968Z"
    }
   },
   "outputs": [],
   "source": [
    "# scale = np.max([np.abs(i) for i in [forces_vid_emb.min(), \n",
    "#                                     forces_vid_emb.max(), \n",
    "#                                     bos_vid_emb.min(), \n",
    "#                                     bos_vid_emb.max()]]) // 1 + 1\n",
    "\n",
    "[forces_vid_emb.min(), forces_vid_emb.max(), bos_vid_emb.min(), bos_vid_emb.max()]\n",
    "\n",
    "\n",
    "# step = scale / 25\n",
    "# print(f'scale: {scale}, step: {step}')\n",
    "\n",
    "X, Y = np.meshgrid(np.arange(-20, 31, (31+20)/50), np.arange(-20, 31, (31+20)/50))\n",
    "xy_grid = np.empty((50, 50, 2), dtype=np.float16)\n",
    "for (x_ix, y_ix), X_val in np.ndenumerate(X):\n",
    "    xy_grid[x_ix, y_ix] = (X_val, Y[x_ix, y_ix])"
   ]
  },
  {
   "cell_type": "code",
   "execution_count": 670,
   "metadata": {
    "ExecuteTime": {
     "end_time": "2020-01-10T00:02:56.346345Z",
     "start_time": "2020-01-10T00:02:10.624061Z"
    }
   },
   "outputs": [],
   "source": [
    "# compute original topic proportions at each vertex\n",
    "vertices = xy_grid.reshape(2500, 2)\n",
    "topic_space_grid = reducer.inverse_transform(vertices).reshape(50, 50, -1)\n",
    "\n",
    "# inverse transform fails for some gridpoints with little surrounding data \n",
    "# deal with these by interpolating topic vectors from surround successfully produced topic vectors\n",
    "if np.all(np.equal(topic_space_grid, 0), axis=2).any():\n",
    "    topic_space_grid = interp_inv_transform(xy_grid, topic_space_grid)"
   ]
  },
  {
   "cell_type": "code",
   "execution_count": 671,
   "metadata": {
    "ExecuteTime": {
     "end_time": "2020-01-10T00:02:56.354699Z",
     "start_time": "2020-01-10T00:02:56.348740Z"
    },
    "scrolled": true
   },
   "outputs": [],
   "source": [
    "n_questions = len(questions_df.loc[questions_df.video.isin([1, 2])])\n",
    "participant_IDs = sorted(data_df.participantID.unique())"
   ]
  },
  {
   "cell_type": "code",
   "execution_count": 672,
   "metadata": {
    "ExecuteTime": {
     "end_time": "2020-01-10T00:03:01.531279Z",
     "start_time": "2020-01-10T00:02:56.358375Z"
    }
   },
   "outputs": [],
   "source": [
    "question_corr_grid = np.empty((n_questions, X.shape[0], X.shape[1]))\n",
    "all_questions_vectors = list(forces_qs) + list(bos_qs)\n",
    "\n",
    "for q_n, q_vector in enumerate(all_questions_vectors):\n",
    "    for x_ix in range(X.shape[0]):\n",
    "        for y_ix in range(X.shape[1]):\n",
    "            question_corr_grid[q_n, x_ix, y_ix] = pearsonr(q_vector, topic_space_grid[x_ix, y_ix])[0]"
   ]
  },
  {
   "cell_type": "code",
   "execution_count": 681,
   "metadata": {
    "ExecuteTime": {
     "end_time": "2020-01-10T00:05:48.086157Z",
     "start_time": "2020-01-10T00:05:48.012535Z"
    },
    "scrolled": true
   },
   "outputs": [],
   "source": [
    "for set_n in range(3):\n",
    "    questions_pcorrect = np.empty(n_questions)\n",
    "    for question in range(n_questions):\n",
    "        # questions 1 - 30 pertain to lectures\n",
    "        set_views = data_df.loc[(data_df.qID == question + 1) & (data_df['set'] == set_n)]\n",
    "        p_correct = len(set_views.loc[set_views['correct?'] == 1]) / len(set_views)\n",
    "        questions_pcorrect[question] = p_correct\n",
    "        \n",
    "    # compute weighted proportion of correctly answered questions for ecah grid point\n",
    "    # weights are correlation between grid point topic vector and question vector\n",
    "    knowledge_grid = np.zeros_like(X)\n",
    "    weight_sum = question_corr_grid.sum(axis=0)\n",
    "    knowledge_grid = (questions_pcorrect * question_corr_grid.T).sum(axis=2) / weight_sum\n",
    "    break\n",
    "    "
   ]
  },
  {
   "cell_type": "code",
   "execution_count": 649,
   "metadata": {
    "ExecuteTime": {
     "end_time": "2020-01-09T23:50:07.136547Z",
     "start_time": "2020-01-09T23:50:06.797878Z"
    }
   },
   "outputs": [
    {
     "data": {
      "text/plain": [
       "<matplotlib.axes._subplots.AxesSubplot at 0x1a3e050e10>"
      ]
     },
     "execution_count": 649,
     "metadata": {},
     "output_type": "execute_result"
    },
    {
     "data": {
      "image/png": "[encoded data removed]",
      "text/plain": [
       "<Figure size 432x288 with 2 Axes>"
      ]
     },
     "metadata": {
      "needs_background": "light"
     },
     "output_type": "display_data"
    }
   ],
   "source": [
    "sns.heatmap(topic_space_grid.var(axis=2))"
   ]
  },
  {
   "cell_type": "code",
   "execution_count": 644,
   "metadata": {
    "ExecuteTime": {
     "end_time": "2020-01-09T23:49:01.381982Z",
     "start_time": "2020-01-09T23:49:01.377563Z"
    }
   },
   "outputs": [
    {
     "data": {
      "text/plain": [
       "array([0.00152635, 0.00152631, 0.0015263 , 0.00152632, 0.00152629,\n",
       "       0.0015263 , 0.0015263 , 0.00356824, 0.20046054, 0.00152631,\n",
       "       0.5624761 , 0.0015263 ], dtype=float32)"
      ]
     },
     "execution_count": 644,
     "metadata": {},
     "output_type": "execute_result"
    }
   ],
   "source": [
    "np.var"
   ]
  },
  {
   "cell_type": "code",
   "execution_count": 639,
   "metadata": {
    "ExecuteTime": {
     "end_time": "2020-01-09T23:48:31.577728Z",
     "start_time": "2020-01-09T23:48:31.573558Z"
    }
   },
   "outputs": [
    {
     "data": {
      "text/plain": [
       "array([0.86904477, 0.01190482, 0.01190477, 0.01190477, 0.0119048 ,\n",
       "       0.01190521, 0.01190477, 0.01190485, 0.01190527, 0.01190521,\n",
       "       0.01190529, 0.01190548])"
      ]
     },
     "execution_count": 639,
     "metadata": {},
     "output_type": "execute_result"
    }
   ],
   "source": [
    "q_vector"
   ]
  },
  {
   "cell_type": "code",
   "execution_count": 635,
   "metadata": {
    "ExecuteTime": {
     "end_time": "2020-01-09T23:46:00.326529Z",
     "start_time": "2020-01-09T23:46:00.321935Z"
    }
   },
   "outputs": [
    {
     "data": {
      "text/plain": [
       "array([0.90198459, 0.90198457, 0.90198459, 0.90198457, 0.9019846 ,\n",
       "       0.90198459, 0.90198458, 0.9019846 , 0.90198459, 0.90198458,\n",
       "       0.90198462, 0.90198461, 0.90198461, 0.90198461, 0.90198457,\n",
       "       0.90198461, 0.90198458, 0.90198461, 0.90198461, 0.90198461,\n",
       "       0.90198461, 0.90198458, 0.90198459, 0.90198459, 0.90198458,\n",
       "       0.9019846 , 0.90198459, 0.90198461, 0.90198462, 0.90198459,\n",
       "       0.90198463, 0.90198458, 0.90198458, 0.90198459, 0.90198459,\n",
       "       0.90198459, 0.90198459, 0.90198459, 0.90198459, 0.90198456,\n",
       "       0.90198456, 0.90198456, 0.90198456, 0.90198464, 0.90198457,\n",
       "       0.90198463, 0.9019846 , 0.90198461, 0.90198461, 0.90198463])"
      ]
     },
     "execution_count": 635,
     "metadata": {},
     "output_type": "execute_result"
    }
   ],
   "source": [
    "question_corr_grid[0, 0]"
   ]
  },
  {
   "cell_type": "code",
   "execution_count": null,
   "metadata": {
    "ExecuteTime": {
     "end_time": "2020-01-09T23:03:08.866390Z",
     "start_time": "2020-01-09T23:03:08.859221Z"
    }
   },
   "outputs": [],
   "source": []
  },
  {
   "cell_type": "code",
   "execution_count": null,
   "metadata": {
    "ExecuteTime": {
     "end_time": "2020-01-09T23:02:49.278991Z",
     "start_time": "2020-01-09T23:02:49.271124Z"
    }
   },
   "outputs": [],
   "source": []
  },
  {
   "cell_type": "code",
   "execution_count": 682,
   "metadata": {
    "ExecuteTime": {
     "end_time": "2020-01-10T00:05:50.689366Z",
     "start_time": "2020-01-10T00:05:50.568294Z"
    }
   },
   "outputs": [
    {
     "data": {
      "image/png": "[encoded data removed]",
      "text/plain": [
       "<Figure size 432x288 with 2 Axes>"
      ]
     },
     "metadata": {
      "needs_background": "light"
     },
     "output_type": "display_data"
    }
   ],
   "source": [
    "sns.heatmap(knowledge_grid, cmap=plt.cm.RdBu_r, xticklabels=[], yticklabels=[])\n",
    "plt.show()"
   ]
  },
  {
   "cell_type": "code",
   "execution_count": null,
   "metadata": {
    "ExecuteTime": {
     "end_time": "2020-01-09T22:47:31.821319Z",
     "start_time": "2020-01-09T22:47:31.817061Z"
    }
   },
   "outputs": [],
   "source": []
  },
  {
   "cell_type": "code",
   "execution_count": 335,
   "metadata": {
    "ExecuteTime": {
     "end_time": "2020-01-09T16:23:58.524075Z",
     "start_time": "2020-01-09T16:23:57.983567Z"
    }
   },
   "outputs": [
    {
     "data": {
      "image/png": "[encoded data removed]",
      "text/plain": [
       "<Figure size 432x288 with 1 Axes>"
      ]
     },
     "metadata": {
      "needs_background": "light"
     },
     "output_type": "display_data"
    }
   ],
   "source": [
    "plt.scatter(np.vstack(embeddings)[:, 0], np.vstack(embeddings)[:, 1], c='white')\n",
    "plt.scatter(all_zeros[:, 0], all_zeros[:, 1], c='orange')\n",
    "plt.show()"
   ]
  },
  {
   "cell_type": "code",
   "execution_count": null,
   "metadata": {},
   "outputs": [],
   "source": []
  }
 ],
 "metadata": {
  "kernelspec": {
   "display_name": "conda py37",
   "language": "python",
   "name": "py37"
  },
  "language_info": {
   "codemirror_mode": {
    "name": "ipython",
    "version": 3
   },
   "file_extension": ".py",
   "mimetype": "text/x-python",
   "name": "python",
   "nbconvert_exporter": "python",
   "pygments_lexer": "ipython3",
   "version": "3.7.3"
  }
 },
 "nbformat": 4,
 "nbformat_minor": 2
}
