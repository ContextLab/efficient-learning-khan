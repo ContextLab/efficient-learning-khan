{
 "cells": [
  {
   "cell_type": "code",
   "execution_count": 1,
   "metadata": {
    "collapsed": true
   },
   "outputs": [],
   "source": [
    "import hypertools as hyp\n",
    "import pandas as pd\n",
    "%matplotlib inline"
   ]
  },
  {
   "cell_type": "markdown",
   "metadata": {},
   "source": [
    "# load some text data"
   ]
  },
  {
   "cell_type": "code",
   "execution_count": 9,
   "metadata": {
    "collapsed": true
   },
   "outputs": [],
   "source": [
    "movie_text = pd.read_excel('../../sherlock_behavioral_data/Sherlock_Segments_1000_NN_2017.xlsx')"
   ]
  },
  {
   "cell_type": "markdown",
   "metadata": {},
   "source": [
    "# merge features together"
   ]
  },
  {
   "cell_type": "code",
   "execution_count": 10,
   "metadata": {},
   "outputs": [],
   "source": [
    "movie = movie_text.loc[:,'Scene Details - A Level ':'Words on Screen '].apply(lambda x: ', '.join(x.fillna('')), axis=1).values.tolist()"
   ]
  },
  {
   "cell_type": "code",
   "execution_count": 12,
   "metadata": {},
   "outputs": [
    {
     "data": {
      "text/plain": [
       "1000"
      ]
     },
     "execution_count": 12,
     "metadata": {},
     "output_type": "execute_result"
    }
   ],
   "source": [
    "movie_model = hyp.tools.format_data(movie50, vectorizer=vectorizer, semantic=semantic, corpus=movie50)[0]"
   ]
  },
  {
   "cell_type": "markdown",
   "metadata": {},
   "source": [
    "# train movie topic model on content of sherlock episode"
   ]
  },
  {
   "cell_type": "code",
   "execution_count": null,
   "metadata": {
    "collapsed": true
   },
   "outputs": [],
   "source": [
    "# will want to change n_components paramenter for my data.  Probably much lower.\n",
    "# vectorizer parameters\n",
    "vectorizer = {\n",
    "    'model' : 'CountVectorizer', \n",
    "    'params' : {\n",
    "        'stop_words' : 'english'\n",
    "    }\n",
    "}\n",
    "\n",
    "# topic model parameters\n",
    "semantic = {\n",
    "    'model' : 'LatentDirichletAllocation', \n",
    "    'params' : {\n",
    "        'n_components' : 100,\n",
    "        'learning_method' : 'batch',\n",
    "        'random_state' : 0\n",
    "    }\n",
    "}\n",
    "\n",
    "\n",
    "# create a list of overlapping text samples\n",
    "movie50 = []\n",
    "wsize=50\n",
    "for idx, sentence in enumerate(movie):\n",
    "    movie50.append(','.join(movie[idx:idx+wsize]))\n",
    "\n",
    "\n",
    "# create movie model with hypertools\n",
    "# change corpus argument to 'wiki' to use pretrained on wikipedia\n",
    "movie_model = hyp.tools.format_data(movie50, vectorizer=vectorizer, semantic=semantic, corpus=movie50)[0]"
   ]
  },
  {
   "cell_type": "markdown",
   "metadata": {},
   "source": [
    "# train recall topic model on content of episode"
   ]
  },
  {
   "cell_type": "code",
   "execution_count": 13,
   "metadata": {
    "collapsed": true
   },
   "outputs": [],
   "source": [
    "# possibility: search wikipedia for each word in recall and replace the word with the article. Allows for recognition of different but related words"
   ]
  },
  {
   "cell_type": "code",
   "execution_count": null,
   "metadata": {
    "collapsed": true
   },
   "outputs": [],
   "source": [
    "# loop over subjects\n",
    "recall5 = []\n",
    "wsize=10\n",
    "for sub in range(1, 18):\n",
    "    \n",
    "    # load subject data\n",
    "    recall = pd.read_csv('../data/NN'+str(sub)+' transcript.txt', header=None, sep='.', error_bad_lines=False).values.tolist()[0][:-1]\n",
    "    \n",
    "    rs = []  \n",
    "    # loop over sentences\n",
    "    for sentence in recall:\n",
    "        try:\n",
    "            rs.append(unicode(sentence, errors='ignore'))\n",
    "        except:\n",
    "            pass # skips over nans\n",
    "    \n",
    "    # create overlapping windows of n sentences\n",
    "    sub_recall5 = []\n",
    "    for idx, sentence in enumerate(rs):\n",
    "        sub_recall5.append(','.join(rs[idx:idx+wsize]))\n",
    "        \n",
    "    recall5.append(sub_recall5)\n",
    "\n",
    "# create recall models\n",
    "recall_models = hyp.tools.format_data(recall5, vectorizer=vectorizer, semantic=semantic, corpus=movie50)\n",
    "    \n",
    "recall_models_rs = list(map(lambda x: resample(x, 1976), recall_models))"
   ]
  }
 ],
 "metadata": {
  "kernelspec": {
   "display_name": "Python 2",
   "language": "python",
   "name": "python2"
  },
  "language_info": {
   "codemirror_mode": {
    "name": "ipython",
    "version": 2
   },
   "file_extension": ".py",
   "mimetype": "text/x-python",
   "name": "python",
   "nbconvert_exporter": "python",
   "pygments_lexer": "ipython2",
   "version": "2.7.13"
  }
 },
 "nbformat": 4,
 "nbformat_minor": 2
}
