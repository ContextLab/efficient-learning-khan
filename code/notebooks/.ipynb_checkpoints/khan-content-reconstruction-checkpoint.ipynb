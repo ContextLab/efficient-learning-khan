{
 "cells": [
  {
   "cell_type": "code",
   "execution_count": 18,
   "metadata": {
    "ExecuteTime": {
     "end_time": "2019-01-25T22:31:30.701708Z",
     "start_time": "2019-01-25T22:31:30.688134Z"
    },
    "collapsed": true
   },
   "outputs": [],
   "source": [
    "from __future__ import division\n",
    "import pandas as pd\n",
    "from string import digits\n",
    "from sklearn.decomposition import LatentDirichletAllocation\n",
    "from sklearn.feature_extraction.text import CountVectorizer\n",
    "from sklearn.feature_extraction.text import TfidfVectorizer\n",
    "from scipy.stats import entropy\n",
    "import seaborn as sns\n",
    "import matplotlib.pyplot as plt\n",
    "import hypertools as hyp\n",
    "import scipy\n",
    "import numpy as np\n",
    "import os\n",
    "\n",
    "%matplotlib inline"
   ]
  },
  {
   "cell_type": "markdown",
   "metadata": {},
   "source": [
    "# Import lesson and question data"
   ]
  },
  {
   "cell_type": "code",
   "execution_count": 2,
   "metadata": {
    "ExecuteTime": {
     "end_time": "2019-01-25T22:29:29.478221Z",
     "start_time": "2019-01-25T22:29:29.462554Z"
    },
    "collapsed": true,
    "scrolled": true
   },
   "outputs": [],
   "source": [
    "# Four forces\n",
    "forces_video_df = pd.read_csv('/Users/paxtonfitzpatrick/Documents/Dartmouth/CDL/efficient-learning-khan/code/video transcript analysis/fourforcesdiced.tsv', \n",
    "                            error_bad_lines=False, header=None, sep='\\t', usecols=[0])\n",
    "forces_video_samples = forces_video_df[0].tolist()"
   ]
  },
  {
   "cell_type": "code",
   "execution_count": 3,
   "metadata": {
    "ExecuteTime": {
     "end_time": "2019-01-25T22:29:30.048227Z",
     "start_time": "2019-01-25T22:29:30.038178Z"
    },
    "collapsed": true
   },
   "outputs": [],
   "source": [
    "# birth of stars\n",
    "bos_video_df = pd.read_csv('/Users/paxtonfitzpatrick/Documents/Dartmouth/CDL/efficient-learning-khan/code/video transcript analysis/birthofstarsdiced.tsv', \n",
    "                            error_bad_lines=False, header=None, sep='\\t', usecols=[0])\n",
    "bos_video_samples = pd.Series(bos_video_df[0]).tolist()"
   ]
  },
  {
   "cell_type": "code",
   "execution_count": 4,
   "metadata": {
    "ExecuteTime": {
     "end_time": "2019-01-25T22:29:30.586580Z",
     "start_time": "2019-01-25T22:29:30.577723Z"
    }
   },
   "outputs": [],
   "source": [
    "# questions\n",
    "questions_df = pd.read_csv('/Users/paxtonfitzpatrick/Documents/Dartmouth/CDL/efficient-learning-khan/code/data analysis/questions.tsv', \n",
    "                            error_bad_lines=False, header=None, sep='\\t', usecols=[2])\n",
    "forces_questions_samples = questions_df[2].tolist()[0:14]\n",
    "bos_questions_samples = questions_df[2].tolist()[15:30]"
   ]
  },
  {
   "cell_type": "code",
   "execution_count": 5,
   "metadata": {
    "ExecuteTime": {
     "end_time": "2019-01-25T22:29:31.166367Z",
     "start_time": "2019-01-25T22:29:31.162600Z"
    },
    "collapsed": true
   },
   "outputs": [],
   "source": [
    "answers_dir = '../graded_answers/'\n",
    "n_subjects = len(os.listdir(answers_dir))\n",
    "n_questions = 15 # 30 total, 15 per video"
   ]
  },
  {
   "cell_type": "markdown",
   "metadata": {},
   "source": [
    "# Model lessons and questions"
   ]
  },
  {
   "cell_type": "code",
   "execution_count": 13,
   "metadata": {
    "ExecuteTime": {
     "end_time": "2019-01-25T22:30:23.302844Z",
     "start_time": "2019-01-25T22:30:23.298401Z"
    },
    "collapsed": true
   },
   "outputs": [],
   "source": [
    "vec_params = {\n",
    "    'max_df': 0.95,\n",
    "    'min_df': 2,\n",
    "    'max_features': 500,\n",
    "    'stop_words': 'english'\n",
    "}\n",
    "\n",
    "lda_params = {\n",
    "    'n_topics': 20,\n",
    "    'max_iter': 10,\n",
    "    'learning_method': 'online',\n",
    "    'learning_offset':50.,\n",
    "    'random_state': 0\n",
    "}"
   ]
  },
  {
   "cell_type": "code",
   "execution_count": 7,
   "metadata": {
    "ExecuteTime": {
     "end_time": "2019-01-25T22:29:33.724660Z",
     "start_time": "2019-01-25T22:29:33.693072Z"
    },
    "collapsed": true
   },
   "outputs": [],
   "source": [
    "def model_lessons_questions(v_windows, q_windows, vec_params, lda_params):\n",
    "    \"\"\"\n",
    "    Function that fits a topic model to video content and uses it to transform video and question content\n",
    "    \"\"\"\n",
    "    \n",
    "    # initialize count vectorizer\n",
    "    tf_vectorizer = CountVectorizer(**vec_params)\n",
    "    # fit the model\n",
    "    tf_vectorizer.fit(v_windows+q_windows)\n",
    "\n",
    "    # transform video windows\n",
    "    video_tf = tf_vectorizer.transform(v_windows)\n",
    "\n",
    "    # transform question samples\n",
    "    questions_tf = tf_vectorizer.transform(q_windows)\n",
    "\n",
    "    both_tf = tf_vectorizer.transform(v_windows+q_windows)\n",
    "\n",
    "    # initialize topic model\n",
    "    lda = LatentDirichletAllocation(**lda_params)\n",
    "\n",
    "    # fit the topic model\n",
    "    lda.fit(both_tf)\n",
    "\n",
    "    # transform video topics\n",
    "    video_topics = lda.transform(video_tf)\n",
    "\n",
    "    # smooth model\n",
    "    video_topics = pd.DataFrame(video_topics).rolling(25).mean().loc[25:,:].as_matrix()\n",
    "\n",
    "    # transform question topics\n",
    "    questions_topics = lda.transform(questions_tf)\n",
    "    \n",
    "    return video_topics, questions_topics\n"
   ]
  },
  {
   "cell_type": "code",
   "execution_count": 8,
   "metadata": {
    "ExecuteTime": {
     "end_time": "2019-01-25T22:29:34.438574Z",
     "start_time": "2019-01-25T22:29:34.435567Z"
    },
    "collapsed": true
   },
   "outputs": [],
   "source": [
    "def get_acc_answers(answers_dir):\n",
    "    \"\"\"\n",
    "    Function that matches correct answers to corresponding question\n",
    "    \"\"\""
   ]
  },
  {
   "cell_type": "code",
   "execution_count": 9,
   "metadata": {
    "ExecuteTime": {
     "end_time": "2019-01-25T22:29:35.813380Z",
     "start_time": "2019-01-25T22:29:35.763839Z"
    },
    "collapsed": true
   },
   "outputs": [],
   "source": [
    "def reconstruct_trace(video_model, questions_model, acc):\n",
    "    \"\"\"\n",
    "    Function that reconstructs memory trajectory based on video model and a set of correctly answered questions\n",
    "    \"\"\"\n",
    "    \n",
    "    def normalize(x):\n",
    "        xs = x - np.min(x)\n",
    "        return np.divide(xs, np.max(xs))\n",
    "    \n",
    "    def z2r(z):\n",
    "        return (np.exp(2 * z) - 1) / (np.exp(2 * z) + 1)\n",
    "    \n",
    "    def r2z(r):\n",
    "        return 0.5 * (np.log(1 + r) - np.log(1 - r))\n",
    "    \n",
    "    def symmetric_KL(a, b, c=.00000000001):\n",
    "        return np.divide(entropy(a+c,b+c)+entropy(b+c,a+c), 2)\n",
    "\n",
    "    # compute timepoints by questions correlation matrix\n",
    "    wz = 1-scipy.spatial.distance.cdist(video_model, questions_model, symmetric_KL)\n",
    "    \n",
    "    # add the minimum value\n",
    "    wz-=np.min(wz)\n",
    "    \n",
    "    # divide by the max value\n",
    "    wz/=np.max(wz)\n",
    "    \n",
    "    # sum over columns\n",
    "    a = np.sum(wz, axis=1)\n",
    " \n",
    "    # sum over columns for correct answers\n",
    "    b = np.sum(wz[:, map(bool, acc)], axis=1)\n",
    "    \n",
    "    # divide b by a\n",
    "    ba = np.array(np.divide(b,a), ndmin=2)\n",
    "    \n",
    "    # weight the model\n",
    "    return model*ba.T"
   ]
  },
  {
   "cell_type": "code",
   "execution_count": 10,
   "metadata": {
    "ExecuteTime": {
     "end_time": "2019-01-25T22:29:36.866894Z",
     "start_time": "2019-01-25T22:29:36.855260Z"
    },
    "collapsed": true
   },
   "outputs": [],
   "source": [
    "def pcorrect_msd(subject, n_questions, n_perms):\n",
    "    \"\"\"\n",
    "    Function that computes the MSD between video and question models as a function of p(correct answer)\n",
    "    \"\"\"\n",
    "    \n",
    "    dist = []\n",
    "    for pc in p_correct:\n",
    "        dists = []\n",
    "        for perm in range(n_perms):\n",
    "            acc = np.random.binomial(1, pc, n_questions).astype(int)\n",
    "            recon = forces_traces_by_sub[subject]\n",
    "            dists.append(np.mean(video_topics-recon)**2)\n",
    "        dist.append(dists)\n",
    "    return dist"
   ]
  },
  {
   "cell_type": "code",
   "execution_count": null,
   "metadata": {
    "collapsed": true
   },
   "outputs": [],
   "source": []
  },
  {
   "cell_type": "code",
   "execution_count": null,
   "metadata": {
    "collapsed": true
   },
   "outputs": [],
   "source": []
  },
  {
   "cell_type": "markdown",
   "metadata": {},
   "source": [
    "# Run functions on video and question data"
   ]
  },
  {
   "cell_type": "markdown",
   "metadata": {},
   "source": [
    "## Four Forces"
   ]
  },
  {
   "cell_type": "code",
   "execution_count": 14,
   "metadata": {
    "ExecuteTime": {
     "end_time": "2019-01-25T22:30:27.798256Z",
     "start_time": "2019-01-25T22:30:27.168863Z"
    }
   },
   "outputs": [
    {
     "name": "stderr",
     "output_type": "stream",
     "text": [
      "/Users/paxtonfitzpatrick/anaconda/envs/py36/lib/python3.6/site-packages/sklearn/decomposition/online_lda.py:294: DeprecationWarning: n_topics has been renamed to n_components in version 0.19 and will be removed in 0.21\n",
      "  DeprecationWarning)\n",
      "/Users/paxtonfitzpatrick/anaconda/envs/py36/lib/python3.6/site-packages/ipykernel_launcher.py:29: FutureWarning: Method .as_matrix will be removed in a future version. Use .values instead.\n"
     ]
    }
   ],
   "source": [
    "forces_v_topics, forces_q_topics = model_lessons_questions(forces_video_samples, \n",
    "                                                           forces_questions_samples, vec_params, lda_params)"
   ]
  },
  {
   "cell_type": "code",
   "execution_count": 15,
   "metadata": {
    "ExecuteTime": {
     "end_time": "2019-01-25T22:30:30.736972Z",
     "start_time": "2019-01-25T22:30:30.734230Z"
    },
    "collapsed": true
   },
   "outputs": [],
   "source": [
    "forces_sub_correct = [get_acc_answers(answers_dir) for sub in range(n_subjects)]"
   ]
  },
  {
   "cell_type": "code",
   "execution_count": 17,
   "metadata": {
    "ExecuteTime": {
     "end_time": "2019-01-25T22:31:09.415743Z",
     "start_time": "2019-01-25T22:31:09.380317Z"
    }
   },
   "outputs": [
    {
     "ename": "NameError",
     "evalue": "name 'entropy' is not defined",
     "output_type": "error",
     "traceback": [
      "\u001b[0;31m---------------------------------------------------------------------------\u001b[0m",
      "\u001b[0;31mNameError\u001b[0m                                 Traceback (most recent call last)",
      "\u001b[0;32m<ipython-input-17-b0dc910d9c81>\u001b[0m in \u001b[0;36m<module>\u001b[0;34m()\u001b[0m\n\u001b[1;32m      1\u001b[0m forces_traces_by_sub = {sub : reconstruct_trace(forces_v_topics, forces_q_topics, forces_sub_correct[sub]) \n\u001b[0;32m----> 2\u001b[0;31m                         for sub in range(n_subjects)}\n\u001b[0m",
      "\u001b[0;32m<ipython-input-17-b0dc910d9c81>\u001b[0m in \u001b[0;36m<dictcomp>\u001b[0;34m(.0)\u001b[0m\n\u001b[1;32m      1\u001b[0m forces_traces_by_sub = {sub : reconstruct_trace(forces_v_topics, forces_q_topics, forces_sub_correct[sub]) \n\u001b[0;32m----> 2\u001b[0;31m                         for sub in range(n_subjects)}\n\u001b[0m",
      "\u001b[0;32m<ipython-input-9-75e0f5f5c47c>\u001b[0m in \u001b[0;36mreconstruct_trace\u001b[0;34m(video_model, questions_model, acc)\u001b[0m\n\u001b[1;32m     18\u001b[0m \u001b[0;34m\u001b[0m\u001b[0m\n\u001b[1;32m     19\u001b[0m     \u001b[0;31m# compute timepoints by questions correlation matrix\u001b[0m\u001b[0;34m\u001b[0m\u001b[0;34m\u001b[0m\u001b[0m\n\u001b[0;32m---> 20\u001b[0;31m     \u001b[0mwz\u001b[0m \u001b[0;34m=\u001b[0m \u001b[0;36m1\u001b[0m\u001b[0;34m-\u001b[0m\u001b[0mscipy\u001b[0m\u001b[0;34m.\u001b[0m\u001b[0mspatial\u001b[0m\u001b[0;34m.\u001b[0m\u001b[0mdistance\u001b[0m\u001b[0;34m.\u001b[0m\u001b[0mcdist\u001b[0m\u001b[0;34m(\u001b[0m\u001b[0mvideo_model\u001b[0m\u001b[0;34m,\u001b[0m \u001b[0mquestions_model\u001b[0m\u001b[0;34m,\u001b[0m \u001b[0msymmetric_KL\u001b[0m\u001b[0;34m)\u001b[0m\u001b[0;34m\u001b[0m\u001b[0m\n\u001b[0m\u001b[1;32m     21\u001b[0m \u001b[0;34m\u001b[0m\u001b[0m\n\u001b[1;32m     22\u001b[0m     \u001b[0;31m# add the minimum value\u001b[0m\u001b[0;34m\u001b[0m\u001b[0;34m\u001b[0m\u001b[0m\n",
      "\u001b[0;32m~/anaconda/envs/py36/lib/python3.6/site-packages/scipy/spatial/distance.py\u001b[0m in \u001b[0;36mcdist\u001b[0;34m(XA, XB, metric, *args, **kwargs)\u001b[0m\n\u001b[1;32m   2421\u001b[0m         \u001b[0;32mfor\u001b[0m \u001b[0mi\u001b[0m \u001b[0;32min\u001b[0m \u001b[0mxrange\u001b[0m\u001b[0;34m(\u001b[0m\u001b[0;36m0\u001b[0m\u001b[0;34m,\u001b[0m \u001b[0mmA\u001b[0m\u001b[0;34m)\u001b[0m\u001b[0;34m:\u001b[0m\u001b[0;34m\u001b[0m\u001b[0m\n\u001b[1;32m   2422\u001b[0m             \u001b[0;32mfor\u001b[0m \u001b[0mj\u001b[0m \u001b[0;32min\u001b[0m \u001b[0mxrange\u001b[0m\u001b[0;34m(\u001b[0m\u001b[0;36m0\u001b[0m\u001b[0;34m,\u001b[0m \u001b[0mmB\u001b[0m\u001b[0;34m)\u001b[0m\u001b[0;34m:\u001b[0m\u001b[0;34m\u001b[0m\u001b[0m\n\u001b[0;32m-> 2423\u001b[0;31m                 \u001b[0mdm\u001b[0m\u001b[0;34m[\u001b[0m\u001b[0mi\u001b[0m\u001b[0;34m,\u001b[0m \u001b[0mj\u001b[0m\u001b[0;34m]\u001b[0m \u001b[0;34m=\u001b[0m \u001b[0mmetric\u001b[0m\u001b[0;34m(\u001b[0m\u001b[0mXA\u001b[0m\u001b[0;34m[\u001b[0m\u001b[0mi\u001b[0m\u001b[0;34m]\u001b[0m\u001b[0;34m,\u001b[0m \u001b[0mXB\u001b[0m\u001b[0;34m[\u001b[0m\u001b[0mj\u001b[0m\u001b[0;34m]\u001b[0m\u001b[0;34m,\u001b[0m \u001b[0;34m**\u001b[0m\u001b[0mkwargs\u001b[0m\u001b[0;34m)\u001b[0m\u001b[0;34m\u001b[0m\u001b[0m\n\u001b[0m\u001b[1;32m   2424\u001b[0m \u001b[0;34m\u001b[0m\u001b[0m\n\u001b[1;32m   2425\u001b[0m     \u001b[0;32melif\u001b[0m \u001b[0misinstance\u001b[0m\u001b[0;34m(\u001b[0m\u001b[0mmetric\u001b[0m\u001b[0;34m,\u001b[0m \u001b[0mstring_types\u001b[0m\u001b[0;34m)\u001b[0m\u001b[0;34m:\u001b[0m\u001b[0;34m\u001b[0m\u001b[0m\n",
      "\u001b[0;32m<ipython-input-9-75e0f5f5c47c>\u001b[0m in \u001b[0;36msymmetric_KL\u001b[0;34m(a, b, c)\u001b[0m\n\u001b[1;32m     15\u001b[0m \u001b[0;34m\u001b[0m\u001b[0m\n\u001b[1;32m     16\u001b[0m     \u001b[0;32mdef\u001b[0m \u001b[0msymmetric_KL\u001b[0m\u001b[0;34m(\u001b[0m\u001b[0ma\u001b[0m\u001b[0;34m,\u001b[0m \u001b[0mb\u001b[0m\u001b[0;34m,\u001b[0m \u001b[0mc\u001b[0m\u001b[0;34m=\u001b[0m\u001b[0;36m.00000000001\u001b[0m\u001b[0;34m)\u001b[0m\u001b[0;34m:\u001b[0m\u001b[0;34m\u001b[0m\u001b[0m\n\u001b[0;32m---> 17\u001b[0;31m         \u001b[0;32mreturn\u001b[0m \u001b[0mnp\u001b[0m\u001b[0;34m.\u001b[0m\u001b[0mdivide\u001b[0m\u001b[0;34m(\u001b[0m\u001b[0mentropy\u001b[0m\u001b[0;34m(\u001b[0m\u001b[0ma\u001b[0m\u001b[0;34m+\u001b[0m\u001b[0mc\u001b[0m\u001b[0;34m,\u001b[0m\u001b[0mb\u001b[0m\u001b[0;34m+\u001b[0m\u001b[0mc\u001b[0m\u001b[0;34m)\u001b[0m\u001b[0;34m+\u001b[0m\u001b[0mentropy\u001b[0m\u001b[0;34m(\u001b[0m\u001b[0mb\u001b[0m\u001b[0;34m+\u001b[0m\u001b[0mc\u001b[0m\u001b[0;34m,\u001b[0m\u001b[0ma\u001b[0m\u001b[0;34m+\u001b[0m\u001b[0mc\u001b[0m\u001b[0;34m)\u001b[0m\u001b[0;34m,\u001b[0m \u001b[0;36m2\u001b[0m\u001b[0;34m)\u001b[0m\u001b[0;34m\u001b[0m\u001b[0m\n\u001b[0m\u001b[1;32m     18\u001b[0m \u001b[0;34m\u001b[0m\u001b[0m\n\u001b[1;32m     19\u001b[0m     \u001b[0;31m# compute timepoints by questions correlation matrix\u001b[0m\u001b[0;34m\u001b[0m\u001b[0;34m\u001b[0m\u001b[0m\n",
      "\u001b[0;31mNameError\u001b[0m: name 'entropy' is not defined"
     ]
    }
   ],
   "source": [
    "forces_traces_by_sub = {sub : reconstruct_trace(forces_v_topics, forces_q_topics, forces_sub_correct[sub]) \n",
    "                        for sub in range(n_subjects)}"
   ]
  },
  {
   "cell_type": "code",
   "execution_count": null,
   "metadata": {
    "collapsed": true
   },
   "outputs": [],
   "source": [
    "forces_msd_by_sub = {sub: pcorrect_msd(subject, n_questions, 1) for sub in range(n_subjects)}"
   ]
  },
  {
   "cell_type": "code",
   "execution_count": null,
   "metadata": {
    "collapsed": true
   },
   "outputs": [],
   "source": []
  },
  {
   "cell_type": "markdown",
   "metadata": {},
   "source": [
    "# Figures"
   ]
  },
  {
   "cell_type": "markdown",
   "metadata": {},
   "source": [
    "## Four Forces"
   ]
  },
  {
   "cell_type": "code",
   "execution_count": null,
   "metadata": {
    "collapsed": true
   },
   "outputs": [],
   "source": [
    "# video topic proportions matrix\n",
    "sns.set_style('ticks')\n",
    "sns.set(font_scale=2)\n",
    "\n",
    "ax = sns.heatmap(pd.DataFrame(forces_v_topics), yticklabels=False, xticklabels=False, vmin=0)#, cmap=sns.diverging_palette(300, 20, as_cmap=True))\n",
    "plt.xlabel('topics')\n",
    "plt.ylabel('time')\n",
    "plt.show()\n",
    "ax.get_figure().savefig('/Users/paxtonfitzpatrick/Documents/Dartmouth/CDL/efficient-learning-khan/figures/forces_video_top_props.pdf')\n"
   ]
  },
  {
   "cell_type": "code",
   "execution_count": null,
   "metadata": {
    "collapsed": true
   },
   "outputs": [],
   "source": [
    "# video model temporal structure\n",
    "ax = sns.heatmap(pd.DataFrame(forces_v_topics).T.corr(), yticklabels=False, xticklabels=False, vmin=0)#, cmap=sns.diverging_palette(220, 20, as_cmap=True))\n",
    "plt.show()\n",
    "ax.get_figure().savefig('/Users/paxtonfitzpatrick/Documents/Dartmouth/CDL/efficient-learning-khan/figures/forces_video_corrmat.pdf')\n"
   ]
  },
  {
   "cell_type": "code",
   "execution_count": null,
   "metadata": {
    "collapsed": true
   },
   "outputs": [],
   "source": [
    "# questions topic proportions matrix\n",
    "ax = sns.heatmap(pd.DataFrame(forces_q_topics), yticklabels=False, xticklabels=False, vmin=0, linewidths=.001, linecolor='gray')# cmap=sns.diverging_palette(220, 20, as_cmap=True),\n",
    "plt.xlabel('topics')\n",
    "plt.ylabel('questions')\n",
    "plt.show()\n",
    "ax2.get_figure().savefig('/Users/paxtonfitzpatrick/Documents/Dartmouth/CDL/efficient-learning-khan/figures/forces_questions_top_props.pdf')\n"
   ]
  },
  {
   "cell_type": "code",
   "execution_count": null,
   "metadata": {
    "collapsed": true
   },
   "outputs": [],
   "source": [
    "# questions model temporal structure\n",
    "ax = sns.heatmap(pd.DataFrame(forces_q_topics).T.corr(), yticklabels=False, xticklabels=False, vmin=0)#, cmap=sns.diverging_palette(220, 20, as_cmap=True))\n",
    "plt.show()\n",
    "ax.get_figure().savefig('/Users/paxtonfitzpatrick/Documents/Dartmouth/CDL/efficient-learning-khan/figures/forces_questions_corrmat.pdf')\n"
   ]
  },
  {
   "cell_type": "code",
   "execution_count": null,
   "metadata": {
    "collapsed": true
   },
   "outputs": [],
   "source": [
    "# 3D plot of video topic trajectory and question topics\n",
    "_ = hyp.plot([pd.DataFrame(forces_v_topics), pd.DataFrame(forces_q_topics)], ['-','o'], azim=90)\n"
   ]
  },
  {
   "cell_type": "code",
   "execution_count": null,
   "metadata": {
    "collapsed": true
   },
   "outputs": [],
   "source": [
    "# correlations between topic vectors for each sliding window of video and each question\n",
    "sns.set_palette('hls')\n",
    "sns.set_style('white')\n",
    "ax = plt.plot(1-scipy.spatial.distance.cdist(video_topics, questions_topics, 'correlation'))\n",
    "plt.ylabel('correlation')\n",
    "plt.xlabel('time')\n",
    "plt.show()\n",
    "ax.get_figure().savefig('/Users/paxtonfitzpatrick/Documents/Dartmouth/CDL/efficient-learning-khan/figures/forces_dynamic_v_q_corr.pdf')\n"
   ]
  },
  {
   "cell_type": "code",
   "execution_count": null,
   "metadata": {
    "collapsed": true
   },
   "outputs": [],
   "source": [
    "# reconstructed memory trace topics proportions matrix (by subject)\n",
    "for sub, trace in forces_traces_by_sub.items():\n",
    "    print(sub)\n",
    "    ax = sns.heatmap(trace, xticklabels=False, yticklabels=False)\n",
    "    plt.show()\n",
    "    ax.get_figure().savefig('/Users/paxtonfitzpatrick/Documents/Dartmouth/CDL/efficient-learning-khan/figures/\\\n",
    "    traces_by_subject/forces_mem_trace_%s.pdf' % sub)\n"
   ]
  },
  {
   "cell_type": "code",
   "execution_count": null,
   "metadata": {
    "collapsed": true
   },
   "outputs": [],
   "source": [
    "# MSD between video and question models as function of p(correct answer)\n",
    "sns.set_style('ticks')\n",
    "for sub, dist in forces_msd_by_sub.items():\n",
    "    print(sub)\n",
    "    ax = sns.plt.subplot()\n",
    "    sns.barplot(data=dist, color='black', ax=ax)\n",
    "    ax.set_xticklabels(p_correct)\n",
    "    ax.set_xlabel('p(correct)')\n",
    "    ax.set_ylabel('mean squared distance')\n",
    "    plt.tight_layout()\n",
    "    plt.show()\n",
    "    ax.get_figure().savefig('/Users/andyheusser/Documents/cdl/grants/EL/figures/\\\n",
    "    msd_pcorrect_by_sub/trace_msd_%s.pdf' % sub)\n"
   ]
  },
  {
   "cell_type": "code",
   "execution_count": null,
   "metadata": {
    "collapsed": true
   },
   "outputs": [],
   "source": []
  },
  {
   "cell_type": "code",
   "execution_count": null,
   "metadata": {
    "collapsed": true
   },
   "outputs": [],
   "source": []
  },
  {
   "cell_type": "code",
   "execution_count": null,
   "metadata": {
    "collapsed": true
   },
   "outputs": [],
   "source": []
  },
  {
   "cell_type": "code",
   "execution_count": null,
   "metadata": {
    "collapsed": true
   },
   "outputs": [],
   "source": []
  }
 ],
 "metadata": {
  "kernelspec": {
   "display_name": "Python 3",
   "language": "python",
   "name": "python3"
  },
  "language_info": {
   "codemirror_mode": {
    "name": "ipython",
    "version": 3
   },
   "file_extension": ".py",
   "mimetype": "text/x-python",
   "name": "python",
   "nbconvert_exporter": "python",
   "pygments_lexer": "ipython3",
   "version": "3.6.2"
  }
 },
 "nbformat": 4,
 "nbformat_minor": 2
}
