{
 "cells": [
  {
   "cell_type": "markdown",
   "metadata": {},
   "source": [
    "## Imports"
   ]
  },
  {
   "cell_type": "code",
   "execution_count": 6,
   "metadata": {
    "ExecuteTime": {
     "end_time": "2020-07-14T17:35:21.260158Z",
     "start_time": "2020-07-14T17:35:21.199126Z"
    }
   },
   "outputs": [],
   "source": [
    "import numpy as np\n",
    "import pandas as pd\n",
    "from scipy.spatial.distance import cdist, pdist\n",
    "from scipy.stats import pearsonr, ttest_ind, ttest_1samp, zscore\n",
    "from statsmodels.stats.proportion import proportions_ztest\n",
    "\n",
    "from khan_helpers import Experiment\n",
    "from khan_helpers.constants import FIG_DIR\n",
    "from khan_helpers.functions import symmetric_kl\n",
    "\n",
    "import matplotlib.pyplot as plt\n",
    "import seaborn as sns\n",
    "%matplotlib inline"
   ]
  },
  {
   "cell_type": "markdown",
   "metadata": {},
   "source": [
    "## Set plotting params"
   ]
  },
  {
   "cell_type": "code",
   "execution_count": 7,
   "metadata": {
    "ExecuteTime": {
     "end_time": "2020-07-14T17:35:22.302121Z",
     "start_time": "2020-07-14T17:35:22.288739Z"
    }
   },
   "outputs": [],
   "source": [
    "plt.rcParams['pdf.fonttype'] = 42\n",
    "sns.set_context('talk')\n",
    "sns.set_style('white')\n",
    "cmap = 'rocket_r'"
   ]
  },
  {
   "cell_type": "markdown",
   "metadata": {},
   "source": [
    "## Load data"
   ]
  },
  {
   "cell_type": "code",
   "execution_count": 8,
   "metadata": {
    "ExecuteTime": {
     "end_time": "2020-07-14T17:35:23.409924Z",
     "start_time": "2020-07-14T17:35:22.873049Z"
    }
   },
   "outputs": [],
   "source": [
    "exp = Experiment()\n",
    "forces_traj, bos_traj = exp.load_lecture_trajs()\n",
    "questions_all = exp.load_question_vectors()\n",
    "answers_all = exp.load_answer_vectors()\n",
    "participants, avg_participant = exp.load_participants(load_avg=True)"
   ]
  },
  {
   "cell_type": "code",
   "execution_count": 9,
   "metadata": {
    "ExecuteTime": {
     "end_time": "2020-07-14T17:35:24.658849Z",
     "start_time": "2020-07-14T17:35:24.651990Z"
    }
   },
   "outputs": [],
   "source": [
    "# exclude questions where any possible answers contained no words (all numeric),\n",
    "# yielding empty topic vectors (all topic weights == 1 / n_topics)\n",
    "include = ~np.any((answers_all == 1 / answers_all.shape[2]).all(axis=2), axis=1)\n",
    "qs_included =  np.where(include)[0]\n",
    "questions = questions_all[include]\n",
    "answers = answers_all[include]"
   ]
  },
  {
   "cell_type": "code",
   "execution_count": 10,
   "metadata": {
    "ExecuteTime": {
     "end_time": "2020-07-14T17:35:26.755064Z",
     "start_time": "2020-07-14T17:35:26.751395Z"
    },
    "code_folding": [
     0
    ]
   },
   "outputs": [],
   "source": [
    "# # sanity check: number of active topics for each question\n",
    "# from scipy.stats import mode\n",
    "# for question in questions:\n",
    "#     vecs = np.round(question, decimals=6)\n",
    "#     n_mode = mode(vecs).count[0]\n",
    "#     print(vecs.shape[0] - n_mode)"
   ]
  },
  {
   "cell_type": "markdown",
   "metadata": {
    "ExecuteTime": {
     "end_time": "2020-03-20T15:14:58.568146Z",
     "start_time": "2020-03-20T15:14:58.562230Z"
    }
   },
   "source": [
    "### Do correct answers tend to be \"closer\" to the question than incorrect answers?\n",
    "**no**"
   ]
  },
  {
   "cell_type": "code",
   "execution_count": 80,
   "metadata": {
    "ExecuteTime": {
     "end_time": "2020-07-13T20:31:08.576218Z",
     "start_time": "2020-07-13T20:31:08.559790Z"
    }
   },
   "outputs": [
    {
     "data": {
      "text/plain": [
       "Ttest_indResult(statistic=-0.8153949586285056, pvalue=0.4162118258892946)"
      ]
     },
     "execution_count": 80,
     "metadata": {},
     "output_type": "execute_result"
    }
   ],
   "source": [
    "qa_dists = np.empty((answers.shape[:2]))\n",
    "for q_ix in range(questions.shape[0]):\n",
    "    qa_dists[q_ix] = cdist(np.atleast_2d(questions[q_ix]), \n",
    "                           answers[q_ix], \n",
    "                           'correlation').ravel()\n",
    "\n",
    "# z-score within each answer set to normalize across questions\n",
    "norm_qa_dists = zscore(qa_dists, ddof=1, axis=1)\n",
    "\n",
    "# t-test for difference between correct and incorrect answers' distances\n",
    "ttest_ind(norm_qa_dists[:, 0], norm_qa_dists[:, 1:].ravel())"
   ]
  },
  {
   "cell_type": "markdown",
   "metadata": {},
   "source": [
    "### Do correct answers tend to be \"closer\" to the _lecture_ than incorrect answers?\n",
    "**no**"
   ]
  },
  {
   "cell_type": "code",
   "execution_count": 122,
   "metadata": {
    "ExecuteTime": {
     "end_time": "2020-07-13T21:42:58.897898Z",
     "start_time": "2020-07-13T21:42:58.874823Z"
    }
   },
   "outputs": [
    {
     "data": {
      "text/plain": [
       "Ttest_indResult(statistic=-0.8153949586285056, pvalue=0.4162118258892946)"
      ]
     },
     "execution_count": 122,
     "metadata": {},
     "output_type": "execute_result"
    }
   ],
   "source": [
    "# CONSIDER ONLY LECTURE-RELATED QUESTIONS\n",
    "forces_qs = questions_all[qs_included[qs_included < 15]]\n",
    "forces_ans = answers_all[qs_included[qs_included < 15]]\n",
    "bos_qs = questions_all[qs_included[(15 <= qs_included) & (qs_included < 30)]]\n",
    "bos_ans = answers_all[qs_included[(15 <= qs_included) & (qs_included < 30)]]\n",
    "\n",
    "lec_ans_dists = np.empty((forces_qs.shape[0] + bos_qs.shape[0], 4))\n",
    "# answers to Four Forces-related questions\n",
    "for q_ix in range(forces_ans.shape[0]):\n",
    "    lec_ans_dists[q_ix] = cdist(forces_traj, \n",
    "                                forces_ans[q_ix], \n",
    "                                'correlation').min(axis=0)\n",
    "    \n",
    "# answers to Birth of Stars-related questions\n",
    "for q_ix in range(bos_ans.shape[0]):\n",
    "    lec_ans_dists[q_ix + forces_ans.shape[0]] = cdist(bos_traj, \n",
    "                                                      bos_ans[q_ix], \n",
    "                                                      'correlation').min(axis=0)\n",
    "    \n",
    "# z-score within each answer set to normalize across questions\n",
    "norm_lec_ans_dists = zscore(lec_ans_dists, ddof=1, axis=1)\n",
    "\n",
    "# t-test for difference between correct and incorrect answers' distances\n",
    "ttest_ind(norm_qa_dists[:, 0], norm_qa_dists[:, 1:].ravel())"
   ]
  },
  {
   "cell_type": "markdown",
   "metadata": {},
   "source": [
    "### Do correct answers tend to be closest to corresponding question's closest point on lecture? (i.e., about the same lecture content)"
   ]
  },
  {
   "cell_type": "markdown",
   "metadata": {},
   "source": [
    "### Do correct answers tend to be in the same \"direction\" from the lecture as the question?"
   ]
  },
  {
   "cell_type": "markdown",
   "metadata": {},
   "source": [
    "### When answering incorrectly, do participants tend to choose the closest answer to the question?\n",
    "- including correct answer\n",
    "- excluding correct answer"
   ]
  },
  {
   "cell_type": "markdown",
   "metadata": {},
   "source": [
    "### When answering incorrectly, do participants tend to choose the closest answer to the just-watched lecture?"
   ]
  },
  {
   "cell_type": "markdown",
   "metadata": {},
   "source": [
    "### When answering incorrectly, do participants tend to choose the closest answer to the question's reference lecture?"
   ]
  },
  {
   "cell_type": "markdown",
   "metadata": {},
   "source": [
    "### When answering incorrectly, do participants tend to choose the closest answer to the correponding question's closest lecture point?"
   ]
  },
  {
   "cell_type": "markdown",
   "metadata": {},
   "source": [
    "### When answering incorrectly, do participants tend to choose an answer in the same direction from the reference lecture as the question?"
   ]
  },
  {
   "cell_type": "markdown",
   "metadata": {},
   "source": [
    "### When answering incorrectly, do participants tend to choose an answer in the same direction from the just-watched lecture as the question?"
   ]
  },
  {
   "cell_type": "markdown",
   "metadata": {},
   "source": [
    "### Are questions whose answers are closer to each other harder? -- no"
   ]
  },
  {
   "cell_type": "code",
   "execution_count": 8,
   "metadata": {
    "ExecuteTime": {
     "end_time": "2020-07-13T18:24:51.844275Z",
     "start_time": "2020-07-13T18:24:51.813559Z"
    }
   },
   "outputs": [],
   "source": [
    "# long dataframe with all participants' data\n",
    "all_data = pd.concat((p.get_data() for p in participants))"
   ]
  },
  {
   "cell_type": "code",
   "execution_count": 9,
   "metadata": {
    "ExecuteTime": {
     "end_time": "2020-07-13T18:24:54.692757Z",
     "start_time": "2020-07-13T18:24:54.616636Z"
    }
   },
   "outputs": [
    {
     "data": {
      "text/plain": [
       "(0.1278168865536449, 0.4575475310403252)"
      ]
     },
     "execution_count": 9,
     "metadata": {},
     "output_type": "execute_result"
    }
   ],
   "source": [
    "# proportion of participants who answered each question correctly.\n",
    "# Compute for lecture questions using only appearances after lecture has been \n",
    "# viewed; general knowledge questions from all qsets)\n",
    "prop_success = np.empty(include.sum(), dtype=np.float)\n",
    "for ix, q in enumerate(qs_included):\n",
    "    if q < 15:\n",
    "        qsets = [1, 2]\n",
    "    elif 15 <= q < 30:\n",
    "        qsets = [2]\n",
    "    else:\n",
    "        qsets = [0, 1, 2]\n",
    "    qid = q + 1\n",
    "    q_acc = all_data.loc[\n",
    "        (all_data['qID'] == qid) & (all_data['qset'].isin(qsets)), 'accuracy'\n",
    "    ]\n",
    "    prop_success[ix] = q_acc.sum() / q_acc.shape[0]\n",
    "    \n",
    "# mean pairwise distance between answers\n",
    "answer_spread = np.fromiter(\n",
    "    (pdist(ans, 'correlation').mean() for ans in answers), \n",
    "    dtype=np.float64, \n",
    "    count=answers.shape[0]\n",
    ")\n",
    "# correlate the two\n",
    "pearsonr(answer_spread, prop_success)"
   ]
  },
  {
   "cell_type": "markdown",
   "metadata": {
    "ExecuteTime": {
     "end_time": "2020-03-23T17:04:12.423190Z",
     "start_time": "2020-03-23T17:04:12.418667Z"
    }
   },
   "source": [
    "## Are questions whose correct answers are closer to the question easier? -- no"
   ]
  },
  {
   "cell_type": "code",
   "execution_count": 10,
   "metadata": {
    "ExecuteTime": {
     "end_time": "2020-07-13T18:27:35.579462Z",
     "start_time": "2020-07-13T18:27:35.572223Z"
    }
   },
   "outputs": [
    {
     "data": {
      "text/plain": [
       "(0.16087009943856934, 0.34861431613694777)"
      ]
     },
     "execution_count": 10,
     "metadata": {},
     "output_type": "execute_result"
    }
   ],
   "source": [
    "# mean distance from question to answers\n",
    "pearsonr(answer_dists[:, 0], prop_success)"
   ]
  },
  {
   "cell_type": "code",
   "execution_count": 11,
   "metadata": {
    "ExecuteTime": {
     "end_time": "2020-07-13T18:27:37.686723Z",
     "start_time": "2020-07-13T18:27:37.282273Z"
    }
   },
   "outputs": [
    {
     "data": {
      "text/plain": [
       "<matplotlib.axes._subplots.AxesSubplot at 0x7fd55d183a10>"
      ]
     },
     "execution_count": 11,
     "metadata": {},
     "output_type": "execute_result"
    },
    {
     "data": {
      "image/png": "[encoded data removed]",
      "text/plain": [
       "<Figure size 432x288 with 1 Axes>"
      ]
     },
     "metadata": {},
     "output_type": "display_data"
    }
   ],
   "source": [
    "sns.regplot(answer_dists[:, 0], prop_success)"
   ]
  },
  {
   "cell_type": "markdown",
   "metadata": {},
   "source": [
    "## Are questions where the closest answer is the correct one easier?"
   ]
  },
  {
   "cell_type": "code",
   "execution_count": null,
   "metadata": {
    "ExecuteTime": {
     "end_time": "2020-03-20T17:14:30.563409Z",
     "start_time": "2020-03-20T17:14:30.555650Z"
    }
   },
   "outputs": [],
   "source": []
  },
  {
   "cell_type": "markdown",
   "metadata": {},
   "source": [
    "## Are people \"tricked\" by questions where the correct answer is not the closest?"
   ]
  },
  {
   "cell_type": "code",
   "execution_count": null,
   "metadata": {},
   "outputs": [],
   "source": []
  },
  {
   "cell_type": "markdown",
   "metadata": {},
   "source": [
    "## Are questions closer to the lecture easier? -- no"
   ]
  },
  {
   "cell_type": "code",
   "execution_count": 12,
   "metadata": {
    "ExecuteTime": {
     "end_time": "2020-07-13T18:27:47.889798Z",
     "start_time": "2020-07-13T18:27:47.835733Z"
    }
   },
   "outputs": [
    {
     "data": {
      "text/plain": [
       "(0.08525763810791807, 0.6662070529319926)"
      ]
     },
     "execution_count": 12,
     "metadata": {},
     "output_type": "execute_result"
    }
   ],
   "source": [
    "# consider only lecture-related questions answered after viewing that lecture\n",
    "lec_qs_included = qs_included[qs_included < 30]\n",
    "lec_qs_data = all_data.loc[all_data['qID'].isin(lec_qs_included + 1)]\n",
    "data_after_viewing = lec_qs_data.loc[\n",
    "    # lecture 1 questions viewed in 2nd or 3rd qset\n",
    "    ((lec_qs_data['lecture'] == 1) & (lec_qs_data['qset'].isin([1, 2])))\n",
    "    # or lecture 2 questions viewed in 3rd qset\n",
    "    | ((lec_qs_data['lecture'] == 2) & (lec_qs_data['qset'] == 2))\n",
    "]\n",
    "\n",
    "# find proportion of participants who answered each question correctly\n",
    "acc_after_viewing = np.empty(lec_qs_included.shape[0], dtype=np.float)\n",
    "for ix, lq in enumerate(lec_qs_included + 1):\n",
    "    q_acc = data_after_viewing.loc[data_after_viewing['qID'] == lq, 'accuracy']\n",
    "    acc_after_viewing[ix] = q_acc.sum() / q_acc.shape[0]\n",
    "    \n",
    "# get topic vectors for included questions\n",
    "ff_qs_mask = lec_qs_included < 15\n",
    "lec_questions = questions_all[lec_qs_included]\n",
    "ff_questions = lec_questions[ff_qs_mask]\n",
    "bos_questions = lec_questions[~ff_qs_mask]\n",
    "\n",
    "# compute (correlation) distance to closest point along lecture trajectory\n",
    "ff_qs_dists = cdist(forces_traj, ff_questions, 'correlation').min(axis=0)\n",
    "bos_qs_dists = cdist(bos_traj, bos_questions, 'correlation').min(axis=0)\n",
    "lec_qs_dists = np.concatenate((ff_qs_dists, bos_qs_dists))\n",
    "\n",
    "# correlate distance with proportion of correct answers\n",
    "pearsonr(lec_qs_dists, acc_after_viewing)"
   ]
  },
  {
   "cell_type": "markdown",
   "metadata": {
    "ExecuteTime": {
     "end_time": "2020-03-21T18:59:34.498133Z",
     "start_time": "2020-03-21T18:59:34.481664Z"
    }
   },
   "source": [
    "## Do correct answers tend to be closer to the lecture than incorrect answers? -- yes?"
   ]
  },
  {
   "cell_type": "code",
   "execution_count": 15,
   "metadata": {
    "ExecuteTime": {
     "end_time": "2020-07-13T18:29:06.722641Z",
     "start_time": "2020-07-13T18:29:02.763282Z"
    }
   },
   "outputs": [
    {
     "data": {
      "text/plain": [
       "Ttest_1sampResult(statistic=3.2255791746327165, pvalue=0.0017992877674271558)"
      ]
     },
     "execution_count": 15,
     "metadata": {},
     "output_type": "execute_result"
    }
   ],
   "source": [
    "# consider lecture-related questions/answers\n",
    "lec_answers = answers_all[lec_qs_included]\n",
    "\n",
    "# separate forces and bos to compute distances to correct lecture;\n",
    "# flatten across answers to each quetsion\n",
    "ff_answers = lec_answers[ff_qs_mask].reshape(ff_qs_mask.sum() * 4, lec_answers.shape[2])\n",
    "bos_answers = lec_answers[~ff_qs_mask].reshape((~ff_qs_mask).sum() * 4, lec_answers.shape[2])\n",
    "\n",
    "# find distance to closest point on lecture trajectory\n",
    "# HAVE TO USE KL DIVERGENCE HERE, CORRELATION GIVES TOO MANY NANs & INFs\n",
    "ff_dists = cdist(forces_traj, ff_answers, symmetric_kl).min(axis=0).reshape(ff_qs_mask.sum(), 4)\n",
    "bos_dists = cdist(bos_traj, bos_answers, symmetric_kl).min(axis=0).reshape((~ff_qs_mask).sum(), 4)\n",
    "\n",
    "# recombine\n",
    "lec_dists = np.concatenate((ff_dists, bos_dists))\n",
    "\n",
    "# normalize across answers within each question (make distance to incorrect \n",
    "# answers a proportion of distance to correct answers)\n",
    "correct_dists, incorrect_dists = tuple(map(np.squeeze, np.hsplit(lec_dists, [1])))\n",
    "incorrect_dists_norm = (incorrect_dists / (correct_dists)[:, np.newaxis]).ravel()\n",
    "\n",
    "# t-test incorrect answers' distances to question against null \n",
    "# that mean is the same as distance to correct answer\n",
    "ttest_1samp(incorrect_dists_norm, popmean=1)"
   ]
  },
  {
   "cell_type": "markdown",
   "metadata": {},
   "source": [
    "## If you draw a line along the shortest path from the question to the lecture, are correct answers closer to that line than incorrect answers?"
   ]
  },
  {
   "cell_type": "code",
   "execution_count": null,
   "metadata": {},
   "outputs": [],
   "source": []
  },
  {
   "cell_type": "markdown",
   "metadata": {
    "ExecuteTime": {
     "end_time": "2020-03-20T17:26:11.523662Z",
     "start_time": "2020-03-20T17:26:11.516184Z"
    }
   },
   "source": [
    "##  When answering incorrectly, do people tend to pick the closest answer to the question? \n",
    "No -- they tend not to, significantly so"
   ]
  },
  {
   "cell_type": "code",
   "execution_count": 17,
   "metadata": {
    "ExecuteTime": {
     "end_time": "2020-07-13T18:30:18.828505Z",
     "start_time": "2020-07-13T18:30:18.742920Z"
    },
    "scrolled": true
   },
   "outputs": [
    {
     "data": {
      "text/plain": [
       "(-7.575738065800743, 3.570916358615618e-14)"
      ]
     },
     "execution_count": 17,
     "metadata": {},
     "output_type": "execute_result"
    }
   ],
   "source": [
    "# compute (correlation) distance from question to each answer\n",
    "question_answer_dists = np.empty((include.sum(), 4), dtype=np.float)\n",
    "for i in range(4):\n",
    "    d = np.diag(cdist(questions, answers[:, i], 'correlation'))\n",
    "    question_answer_dists[:, i] = d\n",
    "    \n",
    "# get letter of closest answer to each question\n",
    "closest_answers = np.array(list('ABCD'))[np.argmin(question_answer_dists, axis=1)]\n",
    "# get response data for incorrect answers to included questions\n",
    "qdata_incorrect = all_data.loc[\n",
    "    (all_data['qID'].isin(qs_included)) & (all_data['accuracy'] == 0)\n",
    "]\n",
    "\n",
    "# find number of times closest answer was chosen instead of correct answer\n",
    "n_chosen = 0\n",
    "for i, qid in enumerate(qs_included + 1):\n",
    "    qdata = qdata_incorrect.loc[qdata_incorrect['qID'] == qid]\n",
    "    closest_ans = closest_answers[i]\n",
    "    n_chosen += (qdata['response'] == closest_ans).sum()\n",
    "\n",
    "# null hypothesis is probability of randomly choosing any incorrect answer (1/3)\n",
    "proportions_ztest(n_chosen, qdata_incorrect.shape[0], value=1/3)"
   ]
  },
  {
   "cell_type": "markdown",
   "metadata": {
    "ExecuteTime": {
     "end_time": "2020-03-20T17:16:52.261497Z",
     "start_time": "2020-03-20T17:16:52.253858Z"
    }
   },
   "source": [
    "## When answering incorrectly, do people tend to pick the closest answer to the lecture?"
   ]
  },
  {
   "cell_type": "code",
   "execution_count": null,
   "metadata": {},
   "outputs": [],
   "source": [
    "# consider only lecture-related questions answered after viewing that lecture\n",
    "# `data_after_viewing` & `lec_answers` computed above\n",
    "\n",
    "# compute (correlation) distance from each answer to corresponding lecture\n",
    "question_answer_dists = np.empty((include.sum(), 4), dtype=np.float)"
   ]
  },
  {
   "cell_type": "code",
   "execution_count": 115,
   "metadata": {
    "ExecuteTime": {
     "end_time": "2020-03-23T16:22:14.327258Z",
     "start_time": "2020-03-23T16:22:14.320623Z"
    }
   },
   "outputs": [
    {
     "data": {
      "text/plain": [
       "(13, 4, 25)"
      ]
     },
     "execution_count": 115,
     "metadata": {},
     "output_type": "execute_result"
    }
   ],
   "source": [
    "lec_answers[ff_qs_mask]"
   ]
  },
  {
   "cell_type": "code",
   "execution_count": null,
   "metadata": {},
   "outputs": [],
   "source": []
  },
  {
   "cell_type": "code",
   "execution_count": null,
   "metadata": {},
   "outputs": [],
   "source": []
  },
  {
   "cell_type": "code",
   "execution_count": null,
   "metadata": {},
   "outputs": [],
   "source": []
  },
  {
   "cell_type": "code",
   "execution_count": 26,
   "metadata": {
    "ExecuteTime": {
     "end_time": "2020-07-13T18:36:34.943121Z",
     "start_time": "2020-07-13T18:36:34.868968Z"
    }
   },
   "outputs": [
    {
     "data": {
      "text/plain": [
       "(-7.575738065800743, 3.570916358615618e-14)"
      ]
     },
     "execution_count": 26,
     "metadata": {},
     "output_type": "execute_result"
    }
   ],
   "source": [
    "# compute (correlation) distance from question to each answer\n",
    "question_answer_dists = np.empty((include.sum(), 4), dtype=np.float)\n",
    "for i in range(4):\n",
    "    d = np.diag(cdist(questions, answers[:, i], 'correlation'))\n",
    "    question_answer_dists[:, i] = d\n",
    "    \n",
    "# get letter of closest answer to each question\n",
    "closest_answers = np.array(list('ABCD'))[np.argmin(question_answer_dists, axis=1)]\n",
    "# get response data for incorrect answers to included questions\n",
    "qdata_incorrect = all_data.loc[\n",
    "    (all_data['qID'].isin(qs_included)) & (all_data['accuracy'] == 0)\n",
    "]\n",
    "\n",
    "# find number of times closest answer was chosen instead of correct answer\n",
    "n_chosen = 0\n",
    "for i, qid in enumerate(qs_included + 1):\n",
    "    qdata = qdata_incorrect.loc[qdata_incorrect['qID'] == qid]\n",
    "    closest_ans = closest_answers[i]\n",
    "    n_chosen += (qdata['response'] == closest_ans).sum()\n",
    "\n",
    "# null hypothesis is probability of randomly choosing any incorrect answer (1/3)\n",
    "proportions_ztest(n_chosen, qdata_incorrect.shape[0], value=1/3)"
   ]
  },
  {
   "cell_type": "code",
   "execution_count": null,
   "metadata": {},
   "outputs": [],
   "source": []
  }
 ],
 "metadata": {
  "kernelspec": {
   "display_name": "Python 3",
   "language": "python",
   "name": "python3"
  },
  "language_info": {
   "codemirror_mode": {
    "name": "ipython",
    "version": 3
   },
   "file_extension": ".py",
   "mimetype": "text/x-python",
   "name": "python",
   "nbconvert_exporter": "python",
   "pygments_lexer": "ipython3",
   "version": "3.7.4"
  }
 },
 "nbformat": 4,
 "nbformat_minor": 2
}
