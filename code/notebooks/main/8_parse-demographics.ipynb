{
 "cells": [
  {
   "cell_type": "markdown",
   "metadata": {},
   "source": [
    "# Imports"
   ]
  },
  {
   "cell_type": "code",
   "execution_count": 1,
   "metadata": {},
   "outputs": [
    {
     "data": {
      "text/markdown": [
       "Experiment & Participant classes, helper functions, and variables used across multiple notebooks can be found in `/opt/conda/lib/python3.9/site-packages/khan_helpers`, or on GitHub, [here](https://github.com/contextlab/efficient-learning-khan/tree/master/code/khan_helpers).<br />You can also view source code directly from the notebook with:<br /><pre>    from khan_helpers.functions import show_source<br />    show_source(foo)</pre>"
      ],
      "text/plain": [
       "<IPython.core.display.Markdown object>"
      ]
     },
     "metadata": {},
     "output_type": "display_data"
    }
   ],
   "source": [
    "import warnings\n",
    "\n",
    "import numpy as np\n",
    "import pandas as pd\n",
    "from dateutil.parser import UnknownTimezoneWarning\n",
    "\n",
    "from khan_helpers.constants import RAW_DIR"
   ]
  },
  {
   "cell_type": "markdown",
   "metadata": {},
   "source": [
    "# Load & format data"
   ]
  },
  {
   "cell_type": "code",
   "execution_count": 2,
   "metadata": {},
   "outputs": [
    {
     "data": {
      "text/html": [
       "<div>\n",
       "<style scoped>\n",
       "    .dataframe tbody tr th:only-of-type {\n",
       "        vertical-align: middle;\n",
       "    }\n",
       "\n",
       "    .dataframe tbody tr th {\n",
       "        vertical-align: top;\n",
       "    }\n",
       "\n",
       "    .dataframe thead th {\n",
       "        text-align: right;\n",
       "    }\n",
       "</style>\n",
       "<table border=\"1\" class=\"dataframe\">\n",
       "  <thead>\n",
       "    <tr style=\"text-align: right;\">\n",
       "      <th></th>\n",
       "      <th>Unnamed: 0</th>\n",
       "      <th>posix_timestamp</th>\n",
       "      <th>Timestamp</th>\n",
       "      <th>Data share consent</th>\n",
       "      <th>Native English</th>\n",
       "      <th>Hearing impairments</th>\n",
       "      <th>Normal color vision</th>\n",
       "      <th>Impaired focus</th>\n",
       "      <th>Gender</th>\n",
       "      <th>Ethnicity</th>\n",
       "      <th>...</th>\n",
       "      <th>Khan Academy user</th>\n",
       "      <th>Khan courses watched</th>\n",
       "      <th>Khan subjects watched</th>\n",
       "      <th>Math courses</th>\n",
       "      <th>Science and engineering courses</th>\n",
       "      <th>Other platform subjects</th>\n",
       "      <th>In-person subjects</th>\n",
       "      <th>Watched Four Fundamental Fources</th>\n",
       "      <th>Watched Birth of Stars</th>\n",
       "      <th>Age</th>\n",
       "    </tr>\n",
       "  </thead>\n",
       "  <tbody>\n",
       "    <tr>\n",
       "      <th>0</th>\n",
       "      <td>0</td>\n",
       "      <td>1.556300e+12</td>\n",
       "      <td>2019/04/26 12:38:19 PM EST</td>\n",
       "      <td>Yes</td>\n",
       "      <td>Yes</td>\n",
       "      <td>No</td>\n",
       "      <td>Yes</td>\n",
       "      <td>No</td>\n",
       "      <td>Female</td>\n",
       "      <td>Not Hispanic or Latino</td>\n",
       "      <td>...</td>\n",
       "      <td>Yes</td>\n",
       "      <td>10+</td>\n",
       "      <td>Math</td>\n",
       "      <td>Algebra 1;Geometry;Algebra 2;Trigonometry;Prec...</td>\n",
       "      <td>None of the above</td>\n",
       "      <td>None of the above</td>\n",
       "      <td>Math;Science &amp; engineering;Arts &amp; humanities;E...</td>\n",
       "      <td>No</td>\n",
       "      <td>No</td>\n",
       "      <td>19</td>\n",
       "    </tr>\n",
       "    <tr>\n",
       "      <th>1</th>\n",
       "      <td>1</td>\n",
       "      <td>1.556560e+12</td>\n",
       "      <td>2019/04/29 1:24:02 PM EST</td>\n",
       "      <td>Yes</td>\n",
       "      <td>Yes</td>\n",
       "      <td>No</td>\n",
       "      <td>Yes</td>\n",
       "      <td>No</td>\n",
       "      <td>Female</td>\n",
       "      <td>Not Hispanic or Latino</td>\n",
       "      <td>...</td>\n",
       "      <td>Yes</td>\n",
       "      <td>1 -- 2</td>\n",
       "      <td>Math;Science &amp; engineering</td>\n",
       "      <td>AP Calculus AB</td>\n",
       "      <td>Physics</td>\n",
       "      <td>None of the above</td>\n",
       "      <td>Math;Science &amp; engineering;Arts &amp; humanities</td>\n",
       "      <td>No</td>\n",
       "      <td>No</td>\n",
       "      <td>22</td>\n",
       "    </tr>\n",
       "    <tr>\n",
       "      <th>2</th>\n",
       "      <td>2</td>\n",
       "      <td>1.556570e+12</td>\n",
       "      <td>2019/04/29 2:10:09 PM EST</td>\n",
       "      <td>Yes</td>\n",
       "      <td>Yes</td>\n",
       "      <td>No</td>\n",
       "      <td>Yes</td>\n",
       "      <td>No</td>\n",
       "      <td>Male</td>\n",
       "      <td>Not Hispanic or Latino</td>\n",
       "      <td>...</td>\n",
       "      <td>No</td>\n",
       "      <td>NaN</td>\n",
       "      <td>NaN</td>\n",
       "      <td>NaN</td>\n",
       "      <td>NaN</td>\n",
       "      <td>NaN</td>\n",
       "      <td>NaN</td>\n",
       "      <td>NaN</td>\n",
       "      <td>NaN</td>\n",
       "      <td>19</td>\n",
       "    </tr>\n",
       "    <tr>\n",
       "      <th>3</th>\n",
       "      <td>3</td>\n",
       "      <td>1.556740e+12</td>\n",
       "      <td>2019/05/01 2:12:46 PM EST</td>\n",
       "      <td>Yes</td>\n",
       "      <td>Yes</td>\n",
       "      <td>No</td>\n",
       "      <td>Yes</td>\n",
       "      <td>No</td>\n",
       "      <td>Female</td>\n",
       "      <td>Not Hispanic or Latino</td>\n",
       "      <td>...</td>\n",
       "      <td>Yes</td>\n",
       "      <td>3 -- 5</td>\n",
       "      <td>Math;Science &amp; engineering;Economics &amp; finance</td>\n",
       "      <td>AP Calculus AB;AP Calculus BC</td>\n",
       "      <td>AP Physics 1;Chemistry;AP Chemistry;Biology;Hi...</td>\n",
       "      <td>Economics &amp; finance</td>\n",
       "      <td>None of the above</td>\n",
       "      <td>No</td>\n",
       "      <td>No</td>\n",
       "      <td>20</td>\n",
       "    </tr>\n",
       "    <tr>\n",
       "      <th>4</th>\n",
       "      <td>4</td>\n",
       "      <td>1.556900e+12</td>\n",
       "      <td>2019/05/03 12:31:51 PM EST</td>\n",
       "      <td>Yes</td>\n",
       "      <td>Yes</td>\n",
       "      <td>No</td>\n",
       "      <td>Yes</td>\n",
       "      <td>No</td>\n",
       "      <td>Female</td>\n",
       "      <td>Not Hispanic or Latino</td>\n",
       "      <td>...</td>\n",
       "      <td>Yes</td>\n",
       "      <td>10+</td>\n",
       "      <td>Math;Science &amp; engineering;Economics &amp; finance...</td>\n",
       "      <td>Multivariable Calculus;Differential Equations</td>\n",
       "      <td>Chemistry;AP Chemistry;AP Biology</td>\n",
       "      <td>Test prep</td>\n",
       "      <td>Math;Science &amp; engineering;Computing;Arts &amp; hu...</td>\n",
       "      <td>No</td>\n",
       "      <td>No</td>\n",
       "      <td>19</td>\n",
       "    </tr>\n",
       "  </tbody>\n",
       "</table>\n",
       "<p>5 rows × 27 columns</p>\n",
       "</div>"
      ],
      "text/plain": [
       "   Unnamed: 0  posix_timestamp                   Timestamp Data share consent  \\\n",
       "0           0     1.556300e+12  2019/04/26 12:38:19 PM EST                Yes   \n",
       "1           1     1.556560e+12   2019/04/29 1:24:02 PM EST                Yes   \n",
       "2           2     1.556570e+12   2019/04/29 2:10:09 PM EST                Yes   \n",
       "3           3     1.556740e+12   2019/05/01 2:12:46 PM EST                Yes   \n",
       "4           4     1.556900e+12  2019/05/03 12:31:51 PM EST                Yes   \n",
       "\n",
       "  Native English Hearing impairments Normal color vision Impaired focus  \\\n",
       "0            Yes                  No                 Yes             No   \n",
       "1            Yes                  No                 Yes             No   \n",
       "2            Yes                  No                 Yes             No   \n",
       "3            Yes                  No                 Yes             No   \n",
       "4            Yes                  No                 Yes             No   \n",
       "\n",
       "   Gender               Ethnicity  ... Khan Academy user Khan courses watched  \\\n",
       "0  Female  Not Hispanic or Latino  ...               Yes                  10+   \n",
       "1  Female  Not Hispanic or Latino  ...               Yes               1 -- 2   \n",
       "2    Male  Not Hispanic or Latino  ...                No                  NaN   \n",
       "3  Female  Not Hispanic or Latino  ...               Yes               3 -- 5   \n",
       "4  Female  Not Hispanic or Latino  ...               Yes                  10+   \n",
       "\n",
       "                               Khan subjects watched  \\\n",
       "0                                               Math   \n",
       "1                         Math;Science & engineering   \n",
       "2                                                NaN   \n",
       "3     Math;Science & engineering;Economics & finance   \n",
       "4  Math;Science & engineering;Economics & finance...   \n",
       "\n",
       "                                        Math courses  \\\n",
       "0  Algebra 1;Geometry;Algebra 2;Trigonometry;Prec...   \n",
       "1                                     AP Calculus AB   \n",
       "2                                                NaN   \n",
       "3                      AP Calculus AB;AP Calculus BC   \n",
       "4      Multivariable Calculus;Differential Equations   \n",
       "\n",
       "                     Science and engineering courses Other platform subjects  \\\n",
       "0                                  None of the above       None of the above   \n",
       "1                                            Physics       None of the above   \n",
       "2                                                NaN                     NaN   \n",
       "3  AP Physics 1;Chemistry;AP Chemistry;Biology;Hi...     Economics & finance   \n",
       "4                  Chemistry;AP Chemistry;AP Biology               Test prep   \n",
       "\n",
       "                                  In-person subjects  \\\n",
       "0  Math;Science & engineering;Arts & humanities;E...   \n",
       "1       Math;Science & engineering;Arts & humanities   \n",
       "2                                                NaN   \n",
       "3                                  None of the above   \n",
       "4  Math;Science & engineering;Computing;Arts & hu...   \n",
       "\n",
       "  Watched Four Fundamental Fources Watched Birth of Stars Age  \n",
       "0                               No                     No  19  \n",
       "1                               No                     No  22  \n",
       "2                              NaN                    NaN  19  \n",
       "3                               No                     No  20  \n",
       "4                               No                     No  19  \n",
       "\n",
       "[5 rows x 27 columns]"
      ]
     },
     "execution_count": 2,
     "metadata": {},
     "output_type": "execute_result"
    }
   ],
   "source": [
    "demographics = pd.read_csv(RAW_DIR.joinpath('demographics.csv'))\n",
    "\n",
    "# convert \"Birth year\" to \"Age\"\n",
    "with warnings.catch_warnings():\n",
    "    # ignore UnknownTimezoneWarning due to local timezone not being \n",
    "    # defined in container\n",
    "    warnings.filterwarnings('ignore', category=UnknownTimezoneWarning)\n",
    "    demographics['Age'] = (demographics['Timestamp']\n",
    "                           .astype('datetime64[ns]')\n",
    "                           .apply(lambda x: x.year)) - demographics['Birth year']\n",
    "demographics.drop('Birth year', axis=1, inplace=True)\n",
    "\n",
    "# 1 participant responded \"Yes\" when asked whether they had viewed any\n",
    "# Khan Academy lectures in the past, but then repoted the total number\n",
    "# of lectures they had viewed as 0, and also reported having viewed 0\n",
    "# lectures from each individual category. For reporting demographic \n",
    "# data, we assume this initial \"Yes\" was a mistake that the participant\n",
    "# then attempted to correct with their answers to subsequent questions\n",
    "demographics.loc[10, 'Khan Academy user'] = 'No'\n",
    "demographics.loc[10, 'Khan courses watched':'Watched Birth of Stars'] = np.nan\n",
    "\n",
    "# encode alertness responses as numeric values\n",
    "demographics['Alertness'] = demographics['Alertness'].replace({\n",
    "    'Very sluggish': -2,\n",
    "    'A little sluggish': -1, \n",
    "    'Neutral': 0, \n",
    "    'Fairly alert': 1, \n",
    "    'Very alert': 2\n",
    "})\n",
    "\n",
    "# correct entries that Google Forms automatically converted to dates\n",
    "demographics['Hours of sleep'] = demographics['Hours of sleep'].replace({\n",
    "    '0-2': '0 -- 2', \n",
    "    '4-Feb': '2 -- 4',\n",
    "    '6-Apr': '4 -- 6', \n",
    "    '8-Jun': '6 -- 8', \n",
    "})\n",
    "demographics['Khan courses watched'] = demographics['Khan courses watched'].replace({\n",
    "    '2-Jan': '1 -- 2',\n",
    "    '5-Mar': '3 -- 5',\n",
    "    '10-May': '5 -- 10'\n",
    "})\n",
    "\n",
    "# combine \"undecided\" & \"Currently undecided\"; remove long \n",
    "# parentheticals from options. E.g.:\n",
    "#   \"Social sciences (e.g. psychology, sociology, economics, political \n",
    "#   science, linguistics, anthropology, archaeology, etc.)\" -->\n",
    "#   \"Social sciences\"\n",
    "demographics['Undergraduate major (category)'] = demographics['Undergraduate major (category)'].replace({\n",
    "    ' \\([^;]+\\)': '', \n",
    "    'Currently undecided': 'undecided'\n",
    "}, regex=True)\n",
    "\n",
    "demographics.head()"
   ]
  },
  {
   "cell_type": "markdown",
   "metadata": {},
   "source": [
    "# Native English speakers"
   ]
  },
  {
   "cell_type": "code",
   "execution_count": 3,
   "metadata": {},
   "outputs": [
    {
     "data": {
      "text/plain": [
       "Native English\n",
       "Yes    49\n",
       "No      1\n",
       "dtype: int64"
      ]
     },
     "execution_count": 3,
     "metadata": {},
     "output_type": "execute_result"
    }
   ],
   "source": [
    "demographics.value_counts('Native English')"
   ]
  },
  {
   "cell_type": "markdown",
   "metadata": {},
   "source": [
    "# Hearing impairments"
   ]
  },
  {
   "cell_type": "code",
   "execution_count": 4,
   "metadata": {},
   "outputs": [
    {
     "data": {
      "text/plain": [
       "No     49\n",
       "Yes     1\n",
       "Name: Hearing impairments, dtype: int64"
      ]
     },
     "execution_count": 4,
     "metadata": {},
     "output_type": "execute_result"
    }
   ],
   "source": [
    "demographics['Hearing impairments'].value_counts()"
   ]
  },
  {
   "cell_type": "markdown",
   "metadata": {},
   "source": [
    "# Normal color vision"
   ]
  },
  {
   "cell_type": "code",
   "execution_count": 5,
   "metadata": {},
   "outputs": [
    {
     "data": {
      "text/plain": [
       "Yes    49\n",
       "No      1\n",
       "Name: Normal color vision, dtype: int64"
      ]
     },
     "execution_count": 5,
     "metadata": {},
     "output_type": "execute_result"
    }
   ],
   "source": [
    "demographics['Normal color vision'].value_counts()"
   ]
  },
  {
   "cell_type": "markdown",
   "metadata": {},
   "source": [
    "# Impaired focus"
   ]
  },
  {
   "cell_type": "code",
   "execution_count": 6,
   "metadata": {},
   "outputs": [
    {
     "data": {
      "text/plain": [
       "No    50\n",
       "Name: Impaired focus, dtype: int64"
      ]
     },
     "execution_count": 6,
     "metadata": {},
     "output_type": "execute_result"
    }
   ],
   "source": [
    "demographics['Impaired focus'].value_counts()"
   ]
  },
  {
   "cell_type": "markdown",
   "metadata": {},
   "source": [
    "# Age"
   ]
  },
  {
   "cell_type": "code",
   "execution_count": 7,
   "metadata": {},
   "outputs": [
    {
     "data": {
      "text/plain": [
       "count    50.00000\n",
       "mean     19.52000\n",
       "std       1.09246\n",
       "min      18.00000\n",
       "25%      19.00000\n",
       "50%      19.00000\n",
       "75%      20.00000\n",
       "max      22.00000\n",
       "Name: Age, dtype: float64"
      ]
     },
     "execution_count": 7,
     "metadata": {},
     "output_type": "execute_result"
    }
   ],
   "source": [
    "demographics['Age'].describe()"
   ]
  },
  {
   "cell_type": "markdown",
   "metadata": {},
   "source": [
    "# Gender"
   ]
  },
  {
   "cell_type": "code",
   "execution_count": 8,
   "metadata": {},
   "outputs": [
    {
     "data": {
      "text/plain": [
       "Female    35\n",
       "Male      15\n",
       "Name: Gender, dtype: int64"
      ]
     },
     "execution_count": 8,
     "metadata": {},
     "output_type": "execute_result"
    }
   ],
   "source": [
    "demographics['Gender'].value_counts()"
   ]
  },
  {
   "cell_type": "markdown",
   "metadata": {},
   "source": [
    "# Ethnicity"
   ]
  },
  {
   "cell_type": "code",
   "execution_count": 9,
   "metadata": {},
   "outputs": [
    {
     "data": {
      "text/plain": [
       "Not Hispanic or Latino    47\n",
       "Hispanic or Latino         3\n",
       "Name: Ethnicity, dtype: int64"
      ]
     },
     "execution_count": 9,
     "metadata": {},
     "output_type": "execute_result"
    }
   ],
   "source": [
    "demographics['Ethnicity'].value_counts()"
   ]
  },
  {
   "cell_type": "markdown",
   "metadata": {},
   "source": [
    "# Race"
   ]
  },
  {
   "cell_type": "code",
   "execution_count": 10,
   "metadata": {
    "scrolled": true
   },
   "outputs": [
    {
     "data": {
      "text/plain": [
       "White                                        31\n",
       "Asian                                        14\n",
       "Black or African American                     5\n",
       "A mix: Indian and White                       1\n",
       "Native Hawaiian or Other Pacific Islander     1\n",
       "Prefer not to say                             1\n",
       "dtype: int64"
      ]
     },
     "execution_count": 10,
     "metadata": {},
     "output_type": "execute_result"
    }
   ],
   "source": [
    "demographics['Race'].str.split(';', expand=True).stack().value_counts()"
   ]
  },
  {
   "cell_type": "markdown",
   "metadata": {},
   "source": [
    "# Highest degree achieved"
   ]
  },
  {
   "cell_type": "code",
   "execution_count": 11,
   "metadata": {},
   "outputs": [
    {
     "data": {
      "text/plain": [
       "Some college            33\n",
       "High school graduate    16\n",
       "Bachelor's degree        1\n",
       "Name: Highest degree, dtype: int64"
      ]
     },
     "execution_count": 11,
     "metadata": {},
     "output_type": "execute_result"
    }
   ],
   "source": [
    "demographics['Highest degree'].value_counts()"
   ]
  },
  {
   "cell_type": "markdown",
   "metadata": {},
   "source": [
    "# Undergraduate major (category)"
   ]
  },
  {
   "cell_type": "code",
   "execution_count": 12,
   "metadata": {},
   "outputs": [
    {
     "data": {
      "text/plain": [
       "Social sciences                28\n",
       "Natural sciences               16\n",
       "Professional                    8\n",
       "Mathematics and engineering     7\n",
       "Humanities                      4\n",
       "undecided                       3\n",
       "dtype: int64"
      ]
     },
     "execution_count": 12,
     "metadata": {},
     "output_type": "execute_result"
    }
   ],
   "source": [
    "(demographics['Undergraduate major (category)']\n",
    " .str\n",
    " .split(';', expand=True)\n",
    " .stack()\n",
    " .value_counts())"
   ]
  },
  {
   "cell_type": "markdown",
   "metadata": {},
   "source": [
    "# Sleep"
   ]
  },
  {
   "cell_type": "code",
   "execution_count": 13,
   "metadata": {},
   "outputs": [
    {
     "data": {
      "text/plain": [
       "2 -- 4     1\n",
       "4 -- 6     9\n",
       "6 -- 8    35\n",
       "8+         5\n",
       "Name: Hours of sleep, dtype: int64"
      ]
     },
     "execution_count": 13,
     "metadata": {},
     "output_type": "execute_result"
    }
   ],
   "source": [
    "demographics['Hours of sleep'].value_counts().sort_index()"
   ]
  },
  {
   "cell_type": "markdown",
   "metadata": {},
   "source": [
    "# Coffee consumption"
   ]
  },
  {
   "cell_type": "code",
   "execution_count": 14,
   "metadata": {},
   "outputs": [
    {
     "data": {
      "text/plain": [
       "0     38\n",
       "1     10\n",
       "3      1\n",
       "4+     1\n",
       "Name: Cups of coffee, dtype: int64"
      ]
     },
     "execution_count": 14,
     "metadata": {},
     "output_type": "execute_result"
    }
   ],
   "source": [
    "demographics['Cups of coffee'].value_counts().sort_index()"
   ]
  },
  {
   "cell_type": "markdown",
   "metadata": {},
   "source": [
    "# Alertness"
   ]
  },
  {
   "cell_type": "code",
   "execution_count": 15,
   "metadata": {},
   "outputs": [
    {
     "data": {
      "text/plain": [
       "count    50.000000\n",
       "mean     -0.100000\n",
       "std       0.839096\n",
       "min      -2.000000\n",
       "25%      -1.000000\n",
       "50%       0.000000\n",
       "75%       1.000000\n",
       "max       1.000000\n",
       "Name: Alertness, dtype: float64"
      ]
     },
     "execution_count": 15,
     "metadata": {},
     "output_type": "execute_result"
    }
   ],
   "source": [
    "demographics['Alertness'].describe()"
   ]
  },
  {
   "cell_type": "markdown",
   "metadata": {},
   "source": [
    "# Khan academy exposure"
   ]
  },
  {
   "cell_type": "code",
   "execution_count": 16,
   "metadata": {},
   "outputs": [
    {
     "data": {
      "text/plain": [
       "Yes    45\n",
       "No      5\n",
       "Name: Khan Academy user, dtype: int64"
      ]
     },
     "execution_count": 16,
     "metadata": {},
     "output_type": "execute_result"
    }
   ],
   "source": [
    "demographics['Khan Academy user'].value_counts()"
   ]
  },
  {
   "cell_type": "code",
   "execution_count": 17,
   "metadata": {},
   "outputs": [
    {
     "data": {
      "text/plain": [
       "1 -- 2      7\n",
       "3 -- 5     11\n",
       "5 -- 10     8\n",
       "10+        19\n",
       "Name: Khan courses watched, dtype: int64"
      ]
     },
     "execution_count": 17,
     "metadata": {},
     "output_type": "execute_result"
    }
   ],
   "source": [
    "demographics['Khan courses watched'].value_counts()[[3, 1, 2, 0]]"
   ]
  },
  {
   "cell_type": "code",
   "execution_count": 18,
   "metadata": {},
   "outputs": [
    {
     "data": {
      "text/plain": [
       "AP Calculus AB              21\n",
       "Precalculus                 17\n",
       "Algebra 2                   14\n",
       "AP Calculus BC              12\n",
       "Trigonometry                11\n",
       "Algebra 1                   10\n",
       "Geometry                     8\n",
       "Pre-algebra                  7\n",
       "Multivariable Calculus       5\n",
       "Differential Equations       5\n",
       "None of the above            5\n",
       "Statistics & Probability     4\n",
       "AP Statistics                2\n",
       "Linear Algebra               2\n",
       "Early Math                   1\n",
       "Arithmetic                   1\n",
       "dtype: int64"
      ]
     },
     "execution_count": 18,
     "metadata": {},
     "output_type": "execute_result"
    }
   ],
   "source": [
    "# Khan Academy math subjects watched\n",
    "watched_any_math = (\n",
    "    demographics['Khan subjects watched']\n",
    "    .fillna('')\n",
    "    .str\n",
    "    .contains('Math')\n",
    ") | (demographics['Math courses'].dropna() != 'None of the above')\n",
    "\n",
    "(demographics.loc[watched_any_math, 'Math courses']\n",
    " .str\n",
    " .split(';', expand=True)\n",
    " .stack()\n",
    " .value_counts())"
   ]
  },
  {
   "cell_type": "code",
   "execution_count": 19,
   "metadata": {
    "scrolled": false
   },
   "outputs": [
    {
     "data": {
      "text/plain": [
       "Chemistry              12\n",
       "Physics                10\n",
       "AP Chemistry            8\n",
       "AP Biology              7\n",
       "AP Physics 1            5\n",
       "Biology                 5\n",
       "None of the above       5\n",
       "High school Biology     3\n",
       "AP Physics 2            3\n",
       "Organic Chemistry       1\n",
       "Health & Medicine       1\n",
       "dtype: int64"
      ]
     },
     "execution_count": 19,
     "metadata": {},
     "output_type": "execute_result"
    }
   ],
   "source": [
    "# Khan Academy science & engineering subjects watched\n",
    "watched_any_science = (\n",
    "    demographics['Khan subjects watched']\n",
    "    .fillna('')\n",
    "    .str\n",
    "    .contains('Science & engineering')\n",
    ") | (demographics['Science and engineering courses'].dropna() != 'None of the above')\n",
    "\n",
    "(demographics.loc[watched_any_science, 'Science and engineering courses']\n",
    " .str\n",
    " .split(';', expand=True)\n",
    " .stack()\n",
    " .value_counts())"
   ]
  },
  {
   "cell_type": "code",
   "execution_count": 20,
   "metadata": {},
   "outputs": [
    {
     "data": {
      "text/plain": [
       "No          44\n",
       "Not sure     1\n",
       "Name: Watched Four Fundamental Fources, dtype: int64"
      ]
     },
     "execution_count": 20,
     "metadata": {},
     "output_type": "execute_result"
    }
   ],
   "source": [
    "# Watched Four Fundemantal Fources?\n",
    "demographics['Watched Four Fundamental Fources'].value_counts()"
   ]
  },
  {
   "cell_type": "code",
   "execution_count": 21,
   "metadata": {},
   "outputs": [
    {
     "data": {
      "text/plain": [
       "No    45\n",
       "Name: Watched Birth of Stars, dtype: int64"
      ]
     },
     "execution_count": 21,
     "metadata": {},
     "output_type": "execute_result"
    }
   ],
   "source": [
    "# Watched Birth of Stars?\n",
    "demographics['Watched Birth of Stars'].value_counts()"
   ]
  },
  {
   "cell_type": "markdown",
   "metadata": {},
   "source": [
    "# Non-Khan academy courses (online)"
   ]
  },
  {
   "cell_type": "code",
   "execution_count": 22,
   "metadata": {},
   "outputs": [
    {
     "data": {
      "text/plain": [
       "None of the above        17\n",
       "Math                     15\n",
       "Science & engineering    11\n",
       "Test prep                 9\n",
       "Economics & finance       3\n",
       "Arts & humanities         2\n",
       "Computing                 2\n",
       "dtype: int64"
      ]
     },
     "execution_count": 22,
     "metadata": {},
     "output_type": "execute_result"
    }
   ],
   "source": [
    "(demographics['Other platform subjects']\n",
    " .str\n",
    " .split(';', expand=True)\n",
    " .stack()\n",
    " .value_counts())"
   ]
  },
  {
   "cell_type": "markdown",
   "metadata": {},
   "source": [
    "# In-person courses"
   ]
  },
  {
   "cell_type": "code",
   "execution_count": 23,
   "metadata": {},
   "outputs": [
    {
     "data": {
      "text/plain": [
       "Math                        38\n",
       "Science & engineering       37\n",
       "Arts & humanities           34\n",
       "Test prep                   27\n",
       "Economics & finance         26\n",
       "Computing                   14\n",
       "College, careers, & more     7\n",
       "None of the above            6\n",
       "dtype: int64"
      ]
     },
     "execution_count": 23,
     "metadata": {},
     "output_type": "execute_result"
    }
   ],
   "source": [
    "(demographics['In-person subjects']\n",
    " .str\n",
    " .split(';', expand=True)\n",
    " .stack()\n",
    " .value_counts())"
   ]
  }
 ],
 "metadata": {
  "kernelspec": {
   "display_name": "Python 3 (ipykernel)",
   "language": "python",
   "name": "python3"
  },
  "language_info": {
   "codemirror_mode": {
    "name": "ipython",
    "version": 3
   },
   "file_extension": ".py",
   "mimetype": "text/x-python",
   "name": "python",
   "nbconvert_exporter": "python",
   "pygments_lexer": "ipython3",
   "version": "3.9.7"
  },
  "toc": {
   "base_numbering": 1,
   "nav_menu": {},
   "number_sections": false,
   "sideBar": true,
   "skip_h1_title": false,
   "title_cell": "Table of Contents",
   "title_sidebar": "Contents",
   "toc_cell": false,
   "toc_position": {},
   "toc_section_display": true,
   "toc_window_display": false
  },
  "vscode": {
   "interpreter": {
    "hash": "498472b3d5ac8129a125bb0afac46d2815ee4a99dfd3fc9f4975bdeb8bc3af6b"
   }
  }
 },
 "nbformat": 4,
 "nbformat_minor": 2
}
