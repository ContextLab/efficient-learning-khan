{
 "cells": [
  {
   "cell_type": "markdown",
   "metadata": {},
   "source": [
    "# Imports"
   ]
  },
  {
   "cell_type": "code",
   "execution_count": null,
   "metadata": {},
   "outputs": [],
   "source": [
    "import warnings\n",
    "\n",
    "import numpy as np\n",
    "import pandas as pd\n",
    "from dateutil.parser import UnknownTimezoneWarning\n",
    "\n",
    "from khan_helpers.constants import RAW_DIR"
   ]
  },
  {
   "cell_type": "markdown",
   "metadata": {},
   "source": [
    "# Load & format data"
   ]
  },
  {
   "cell_type": "code",
   "execution_count": null,
   "metadata": {},
   "outputs": [],
   "source": [
    "demographics = pd.read_csv(RAW_DIR.joinpath('demographics.csv'))\n",
    "\n",
    "# convert \"Birth year\" to \"Age\"\n",
    "with warnings.catch_warnings():\n",
    "    # ignore UnknownTimezoneWarning due to local timezone not being \n",
    "    # defined in container\n",
    "    warnings.filterwarnings('ignore', category=UnknownTimezoneWarning)\n",
    "    demographics['Age'] = (demographics['Timestamp']\n",
    "                           .astype('datetime64[ns]')\n",
    "                           .apply(lambda x: x.year)) - demographics['Birth year']\n",
    "demographics.drop('Birth year', axis=1, inplace=True)\n",
    "\n",
    "# 1 participant responded \"Yes\" when asked whether they had viewed any\n",
    "# Khan Academy lectures in the past, but then repoted the total number\n",
    "# of lectures they had viewed as 0, and also reported having viewed 0\n",
    "# lectures from each individual category. For reporting demographic \n",
    "# data, we assume this initial \"Yes\" was a mistake that the participant\n",
    "# then attempted to correct with their answers to subsequent questions\n",
    "demographics.loc[10, 'Khan Academy user'] = 'No'\n",
    "demographics.loc[10, 'Khan courses watched':'Watched Birth of Stars'] = np.nan\n",
    "\n",
    "# encode alertness responses as numeric values\n",
    "demographics['Alertness'] = demographics['Alertness'].replace({\n",
    "    'Very sluggish': -2,\n",
    "    'A little sluggish': -1, \n",
    "    'Neutral': 0, \n",
    "    'Fairly alert': 1, \n",
    "    'Very alert': 2\n",
    "})\n",
    "\n",
    "# correct entries that Google Forms automatically converted to dates\n",
    "demographics['Hours of sleep'] = demographics['Hours of sleep'].replace({\n",
    "    '0-2': '0 -- 2', \n",
    "    '4-Feb': '2 -- 4',\n",
    "    '6-Apr': '4 -- 6', \n",
    "    '8-Jun': '6 -- 8', \n",
    "})\n",
    "demographics['Khan courses watched'] = demographics['Khan courses watched'].replace({\n",
    "    '2-Jan': '1 -- 2',\n",
    "    '5-Mar': '3 -- 5',\n",
    "    '10-May': '5 -- 10'\n",
    "})\n",
    "\n",
    "# combine \"undecided\" & \"Currently undecided\"; remove long \n",
    "# parentheticals from options. E.g.:\n",
    "#   \"Social sciences (e.g. psychology, sociology, economics, political \n",
    "#   science, linguistics, anthropology, archaeology, etc.)\" -->\n",
    "#   \"Social sciences\"\n",
    "demographics['Undergraduate major (category)'] = demographics['Undergraduate major (category)'].replace({\n",
    "    ' \\([^;]+\\)': '', \n",
    "    'Currently undecided': 'undecided'\n",
    "}, regex=True)\n",
    "\n",
    "demographics.head()"
   ]
  },
  {
   "cell_type": "markdown",
   "metadata": {},
   "source": [
    "# Native English speakers"
   ]
  },
  {
   "cell_type": "code",
   "execution_count": null,
   "metadata": {},
   "outputs": [],
   "source": [
    "demographics.value_counts('Native English')"
   ]
  },
  {
   "cell_type": "markdown",
   "metadata": {},
   "source": [
    "# Hearing impairments"
   ]
  },
  {
   "cell_type": "code",
   "execution_count": null,
   "metadata": {},
   "outputs": [],
   "source": [
    "demographics['Hearing impairments'].value_counts()"
   ]
  },
  {
   "cell_type": "markdown",
   "metadata": {},
   "source": [
    "# Normal color vision"
   ]
  },
  {
   "cell_type": "code",
   "execution_count": null,
   "metadata": {},
   "outputs": [],
   "source": [
    "demographics['Normal color vision'].value_counts()"
   ]
  },
  {
   "cell_type": "markdown",
   "metadata": {},
   "source": [
    "# Impaired focus"
   ]
  },
  {
   "cell_type": "code",
   "execution_count": null,
   "metadata": {},
   "outputs": [],
   "source": [
    "demographics['Impaired focus'].value_counts()"
   ]
  },
  {
   "cell_type": "markdown",
   "metadata": {},
   "source": [
    "# Age"
   ]
  },
  {
   "cell_type": "code",
   "execution_count": null,
   "metadata": {},
   "outputs": [],
   "source": [
    "demographics['Age'].describe()"
   ]
  },
  {
   "cell_type": "markdown",
   "metadata": {},
   "source": [
    "# Gender"
   ]
  },
  {
   "cell_type": "code",
   "execution_count": null,
   "metadata": {},
   "outputs": [],
   "source": [
    "demographics['Gender'].value_counts()"
   ]
  },
  {
   "cell_type": "markdown",
   "metadata": {},
   "source": [
    "# Ethnicity"
   ]
  },
  {
   "cell_type": "code",
   "execution_count": null,
   "metadata": {},
   "outputs": [],
   "source": [
    "demographics['Ethnicity'].value_counts()"
   ]
  },
  {
   "cell_type": "markdown",
   "metadata": {},
   "source": [
    "# Race"
   ]
  },
  {
   "cell_type": "code",
   "execution_count": null,
   "metadata": {
    "scrolled": true
   },
   "outputs": [],
   "source": [
    "demographics['Race'].str.split(';', expand=True).stack().value_counts()"
   ]
  },
  {
   "cell_type": "markdown",
   "metadata": {},
   "source": [
    "# Highest degree achieved"
   ]
  },
  {
   "cell_type": "code",
   "execution_count": null,
   "metadata": {},
   "outputs": [],
   "source": [
    "demographics['Highest degree'].value_counts()"
   ]
  },
  {
   "cell_type": "markdown",
   "metadata": {},
   "source": [
    "# Undergraduate major (category)"
   ]
  },
  {
   "cell_type": "code",
   "execution_count": null,
   "metadata": {},
   "outputs": [],
   "source": [
    "(demographics['Undergraduate major (category)']\n",
    " .str\n",
    " .split(';', expand=True)\n",
    " .stack()\n",
    " .value_counts())"
   ]
  },
  {
   "cell_type": "markdown",
   "metadata": {},
   "source": [
    "# Sleep"
   ]
  },
  {
   "cell_type": "code",
   "execution_count": null,
   "metadata": {},
   "outputs": [],
   "source": [
    "demographics['Hours of sleep'].value_counts().sort_index()"
   ]
  },
  {
   "cell_type": "markdown",
   "metadata": {},
   "source": [
    "# Coffee consumption"
   ]
  },
  {
   "cell_type": "code",
   "execution_count": null,
   "metadata": {},
   "outputs": [],
   "source": [
    "demographics['Cups of coffee'].value_counts().sort_index()"
   ]
  },
  {
   "cell_type": "markdown",
   "metadata": {},
   "source": [
    "# Alertness"
   ]
  },
  {
   "cell_type": "code",
   "execution_count": null,
   "metadata": {},
   "outputs": [],
   "source": [
    "demographics['Alertness'].describe()"
   ]
  },
  {
   "cell_type": "markdown",
   "metadata": {},
   "source": [
    "# Khan academy exposure"
   ]
  },
  {
   "cell_type": "code",
   "execution_count": null,
   "metadata": {},
   "outputs": [],
   "source": [
    "demographics['Khan Academy user'].value_counts()"
   ]
  },
  {
   "cell_type": "code",
   "execution_count": null,
   "metadata": {},
   "outputs": [],
   "source": [
    "demographics['Khan courses watched'].value_counts()[[3, 1, 2, 0]]"
   ]
  },
  {
   "cell_type": "code",
   "execution_count": null,
   "metadata": {},
   "outputs": [],
   "source": [
    "# Khan Academy math subjects watched\n",
    "watched_any_math = (\n",
    "    demographics['Khan subjects watched']\n",
    "    .fillna('')\n",
    "    .str\n",
    "    .contains('Math')\n",
    ") | (demographics['Math courses'].dropna() != 'None of the above')\n",
    "\n",
    "(demographics.loc[watched_any_math, 'Math courses']\n",
    " .str\n",
    " .split(';', expand=True)\n",
    " .stack()\n",
    " .value_counts())"
   ]
  },
  {
   "cell_type": "code",
   "execution_count": null,
   "metadata": {
    "scrolled": false
   },
   "outputs": [],
   "source": [
    "# Khan Academy science & engineering subjects watched\n",
    "watched_any_science = (\n",
    "    demographics['Khan subjects watched']\n",
    "    .fillna('')\n",
    "    .str\n",
    "    .contains('Science & engineering')\n",
    ") | (demographics['Science and engineering courses'].dropna() != 'None of the above')\n",
    "\n",
    "(demographics.loc[watched_any_science, 'Science and engineering courses']\n",
    " .str\n",
    " .split(';', expand=True)\n",
    " .stack()\n",
    " .value_counts())"
   ]
  },
  {
   "cell_type": "code",
   "execution_count": null,
   "metadata": {},
   "outputs": [],
   "source": [
    "# Watched Four Fundemantal Fources?\n",
    "demographics['Watched Four Fundamental Fources'].value_counts()"
   ]
  },
  {
   "cell_type": "code",
   "execution_count": null,
   "metadata": {},
   "outputs": [],
   "source": [
    "# Watched Birth of Stars?\n",
    "demographics['Watched Birth of Stars'].value_counts()"
   ]
  },
  {
   "cell_type": "markdown",
   "metadata": {},
   "source": [
    "# Non-Khan academy courses (online)"
   ]
  },
  {
   "cell_type": "code",
   "execution_count": null,
   "metadata": {},
   "outputs": [],
   "source": [
    "(demographics['Other platform subjects']\n",
    " .str\n",
    " .split(';', expand=True)\n",
    " .stack()\n",
    " .value_counts())"
   ]
  },
  {
   "cell_type": "markdown",
   "metadata": {},
   "source": [
    "# In-person courses"
   ]
  },
  {
   "cell_type": "code",
   "execution_count": null,
   "metadata": {},
   "outputs": [],
   "source": [
    "(demographics['In-person subjects']\n",
    " .str\n",
    " .split(';', expand=True)\n",
    " .stack()\n",
    " .value_counts())"
   ]
  }
 ],
 "metadata": {
  "kernelspec": {
   "display_name": "Python 3 (ipykernel)",
   "language": "python",
   "name": "python3"
  },
  "language_info": {
   "codemirror_mode": {
    "name": "ipython",
    "version": 3
   },
   "file_extension": ".py",
   "mimetype": "text/x-python",
   "name": "python",
   "nbconvert_exporter": "python",
   "pygments_lexer": "ipython3",
   "version": "3.9.7"
  },
  "toc": {
   "base_numbering": 1,
   "nav_menu": {},
   "number_sections": false,
   "sideBar": true,
   "skip_h1_title": false,
   "title_cell": "Table of Contents",
   "title_sidebar": "Contents",
   "toc_cell": false,
   "toc_position": {},
   "toc_section_display": true,
   "toc_window_display": false
  },
  "vscode": {
   "interpreter": {
    "hash": "498472b3d5ac8129a125bb0afac46d2815ee4a99dfd3fc9f4975bdeb8bc3af6b"
   }
  }
 },
 "nbformat": 4,
 "nbformat_minor": 2
}
