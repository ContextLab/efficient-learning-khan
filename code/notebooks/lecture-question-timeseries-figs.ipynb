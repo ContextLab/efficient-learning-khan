{
 "cells": [
  {
   "cell_type": "markdown",
   "metadata": {},
   "source": [
    "## Imports"
   ]
  },
  {
   "cell_type": "code",
   "execution_count": 17,
   "metadata": {
    "ExecuteTime": {
     "end_time": "2020-03-16T19:31:33.628608Z",
     "start_time": "2020-03-16T19:31:33.586785Z"
    }
   },
   "outputs": [],
   "source": [
    "import sys\n",
    "import numpy as np\n",
    "import pandas as pd\n",
    "from os.path import abspath, join as opj\n",
    "from scipy.spatial.distance import cdist\n",
    "\n",
    "sys.path.insert(0, abspath('../helpers/'))\n",
    "from participant import Participant\n",
    "from experiment import Experiment\n",
    "\n",
    "import matplotlib.pyplot as plt\n",
    "from matplotlib.patches import ConnectionPatch\n",
    "import seaborn as sns\n",
    "%matplotlib inline"
   ]
  },
  {
   "cell_type": "markdown",
   "metadata": {},
   "source": [
    "## Set paths & params"
   ]
  },
  {
   "cell_type": "code",
   "execution_count": 2,
   "metadata": {
    "ExecuteTime": {
     "end_time": "2020-03-16T18:59:37.814795Z",
     "start_time": "2020-03-16T18:59:37.802853Z"
    }
   },
   "outputs": [],
   "source": [
    "fig_dir = '../../paper/figs/'\n",
    "\n",
    "plt.rcParams['pdf.fonttype'] = 42\n",
    "sns.set_context('paper')\n",
    "cmap = 'rocket'"
   ]
  },
  {
   "cell_type": "markdown",
   "metadata": {},
   "source": [
    "## Load data"
   ]
  },
  {
   "cell_type": "code",
   "execution_count": 4,
   "metadata": {
    "ExecuteTime": {
     "end_time": "2020-03-16T19:07:28.499087Z",
     "start_time": "2020-03-16T19:07:28.457629Z"
    }
   },
   "outputs": [],
   "source": [
    "exp = Experiment()\n",
    "forces_lecture, bos_lecture = exp.load_lecture_trajs()\n",
    "exp.load_question_vectors()\n",
    "forces_qs = exp.get_question_vecs(lectures='forces')\n",
    "bos_qs = exp.get_question_vecs(lectures='bos')\n",
    "question_text = exp.load_questions()"
   ]
  },
  {
   "cell_type": "markdown",
   "metadata": {},
   "source": [
    "## Lecture & question content timeseries fig"
   ]
  },
  {
   "cell_type": "code",
   "execution_count": null,
   "metadata": {
    "ExecuteTime": {
     "start_time": "2020-03-16T20:23:42.973Z"
    }
   },
   "outputs": [],
   "source": [
    "gridspec_kws = {\n",
    "    'wspace': 0.1, \n",
    "    'hspace': 0.3, \n",
    "    'width_ratios': (1, 1, .3, 1)\n",
    "}\n",
    "cbar_kws = {'pad': 0.1}\n",
    "\n",
    "fig, axarr = plt.subplots(2, 4, gridspec_kw=gridspec_kws)\n",
    "fig.set_size_inches(12, 6)\n",
    "(\n",
    "    (a, b, sep1, c), \n",
    "    (d, e, sep2, f)\n",
    ") = axarr\n",
    "\n",
    "# ======== Four Forces ========\n",
    "# lecture topic proportions by timepoint\n",
    "sns.heatmap(forces_lecture, vmin=0, vmax=1, xticklabels=2, yticklabels=100, \n",
    "            cbar=False, cmap=cmap, ax=a)\n",
    "a.collections[0].remove()\n",
    "aspect = forces_lecture.shape[1] / forces_lecture.shape[0]\n",
    "a.imshow(forces_lecture, aspect=aspect, vmin=0, vmax=1, cmap=cmap)\n",
    "a.set_title('Lecture\\ntopic proportions', fontsize=12)\n",
    "a.set_ylabel('Timepoint (s)', fontsize=12)\n",
    "a.annotate('Four Forces', xy=(-.75, .5), xycoords=a.yaxis.label, \n",
    "           size='x-large', rotation=90, ha='right', va='center')\n",
    "\n",
    "# lecture timepoints x timepoints correlation matrix\n",
    "corrmat = np.corrcoef(forces_lecture)\n",
    "sns.heatmap(corrmat, vmin=0, vmax=1, xticklabels=100, yticklabels=100, \n",
    "            cbar=False, cmap=cmap, ax=b)\n",
    "b.collections[0].remove()\n",
    "b.imshow(corrmat, aspect='equal', vmin=0, vmax=1, cmap=cmap)\n",
    "b.set_title('Lecture\\ncorrelation matrix', fontsize=12)\n",
    "\n",
    "# question topic proportions\n",
    "sns.heatmap(forces_qs, vmin=0, vmax=1, xticklabels=2, yticklabels=2, \n",
    "            cmap=cmap, cbar=True, cbar_kws=cbar_kws, ax=c)\n",
    "c.collections[0].remove()\n",
    "aspect = forces_qs.shape[1] / forces_qs.shape[0]\n",
    "c.imshow(ff_qs, aspect=aspect, vmin=0, vmax=1, cmap=cmap)\n",
    "c.set_yticklabels(list(range(1, 16, 2)), rotation=0)\n",
    "c.set_title('Question\\ntopic proportions', fontsize=12)\n",
    "c.set_ylabel('Question', fontsize=12)\n",
    "\n",
    "# ======== Birth of Stars ========\n",
    "# lecture topic proportions by timepoint\n",
    "sns.heatmap(bos_lecture, vmin=0, vmax=1, xticklabels=2, yticklabels=100, \n",
    "            cbar=False, cmap=cmap, ax=d)\n",
    "d.collections[0].remove()\n",
    "aspect = bos_lecture.shape[1] / bos_lecture.shape[0]\n",
    "d.imshow(bos_lecture, aspect=aspect, vmin=0, vmax=1, cmap=cmap)\n",
    "d.set_xlabel('Topic', fontsize=12)\n",
    "d.set_ylabel('Timepoint (s)', fontsize=12)\n",
    "d.annotate('Birth of Stars', xy=(-.75, .5), xycoords=d.yaxis.label, \n",
    "           size='x-large', rotation=90, ha='right', va='center')\n",
    "\n",
    "# lecture timepoints x timepoints correlation matrix\n",
    "corrmat = np.corrcoef(bos_lecture)\n",
    "sns.heatmap(corrmat, vmin=0, vmax=1, xticklabels=100, yticklabels=100, \n",
    "            cbar=False, cmap=cmap, ax=e)\n",
    "e.collections[0].remove()\n",
    "e.imshow(corrmat, aspect='equal', vmin=0, vmax=1, cmap=cmap)\n",
    "e.set_xlabel('Timepoint (s)', fontsize=12)\n",
    "\n",
    "# question topic proportions\n",
    "sns.heatmap(bos_qs, vmin=0, vmax=1, xticklabels=2, yticklabels=2, \n",
    "            cmap=cmap, cbar=True, cbar_kws=cbar_kws, ax=f)\n",
    "f.collections[0].remove()\n",
    "aspect = bos_qs.shape[1] / bos_qs.shape[0]\n",
    "f.imshow(ff_qs, aspect=aspect, vmin=0, vmax=1, cmap=cmap)\n",
    "f.set_yticklabels(list(range(16, 31, 2)), rotation=0)\n",
    "f.set_xlabel('Topic', fontsize=12)\n",
    "f.set_ylabel('Question', fontsize=12)\n",
    "\n",
    "# separator line\n",
    "xyA = (0, 1)\n",
    "xyB = (0, 0)\n",
    "vline = ConnectionPatch(xyA, xyB, coordsA='axes fraction', \n",
    "                        coordsB='axes fraction', axesA=sep1, axesB=sep2, \n",
    "                        linestyle='--', linewidth=1.5, color='grey')\n",
    "sep2.add_artist(vline)\n",
    "sep1.axis('off')\n",
    "sep2.axis('off')\n",
    "\n",
    "labels = 'ABCDEF'\n",
    "for i, ax in enumerate((a, b, c, d, e, f)):\n",
    "    ax.text(-.1, 1.07, labels[i], horizontalalignment='center', \n",
    "            transform=ax.transAxes, fontsize=12)\n",
    "    \n",
    "plt.savefig(opj(fig_dir, 'content-timeseries.pdf'), dpi=1000)\n",
    "plt.show()"
   ]
  },
  {
   "cell_type": "markdown",
   "metadata": {},
   "source": [
    "## Lecture-question similarity timeseries fig"
   ]
  },
  {
   "cell_type": "code",
   "execution_count": 83,
   "metadata": {
    "ExecuteTime": {
     "end_time": "2020-03-16T20:18:11.245327Z",
     "start_time": "2020-03-16T20:18:10.840743Z"
    }
   },
   "outputs": [
    {
     "data": {
      "image/png": "[encoded data removed]",
      "text/plain": [
       "<Figure size 864x720 with 2 Axes>"
      ]
     },
     "metadata": {
      "needs_background": "light"
     },
     "output_type": "display_data"
    }
   ],
   "source": [
    "forces_qcorrs = 1 - cdist(forces_lecture, forces_qs, 'correlation')\n",
    "bos_qcorrs = 1 - cdist(bos_lecture, bos_qs, 'correlation')\n",
    "\n",
    "fig, axarr = plt.subplots(2, 1)\n",
    "fig.set_size_inches(12, 10)\n",
    "fax, bax = axarr\n",
    "\n",
    "fax.plot(forces_qcorrs)\n",
    "fax.set_title('Lecture-question content similarity', fontsize=12)\n",
    "fax.set_xlim(0, ff_lec.shape[0])\n",
    "fax.set_ylim(-.2, 1.05)\n",
    "fax.set_ylabel('Topic vector correlation', fontsize=12)\n",
    "fax.legend(labels=[f'Q {i}' for i in range(1, 16)], ncol=2, bbox_to_anchor=(1,.9))\n",
    "fax.grid(False)\n",
    "\n",
    "f.plot(1 - cdist(bos_lec, bos_qs, 'correlation'))\n",
    "f.set_xlim(0, bos_lec.shape[0])\n",
    "f.set_ylim(-.2, 1.05)\n",
    "f.set_xlabel('Lecture timepoint', fontsize=12)\n",
    "f.set_ylabel('Topic vector correlation', fontsize=12)\n",
    "f.legend(labels=[f'Q {i}' for i in range(16, 31)], ncol=2, bbox_to_anchor=(1, .9))\n",
    "f.grid(False)\n",
    "\n",
    "labels = 'ABCDEF'\n",
    "for i, ax in enumerate((a, b, c, d, e, f)):\n",
    "    ax.text(0, 1.02, labels[i], horizontalalignment='center', \n",
    "            transform=ax.transAxes, fontsize=12)\n",
    "\n",
    "# plt.tight_layout()\n",
    "# plt.savefig(opj(fig_dir, 'lecture-question-similarity.pdf'), dpi=1000)\n",
    "plt.show()"
   ]
  },
  {
   "cell_type": "code",
   "execution_count": 85,
   "metadata": {
    "ExecuteTime": {
     "end_time": "2020-03-16T20:18:17.436074Z",
     "start_time": "2020-03-16T20:18:17.425387Z"
    }
   },
   "outputs": [
    {
     "data": {
      "text/plain": [
       "(2,)"
      ]
     },
     "execution_count": 85,
     "metadata": {},
     "output_type": "execute_result"
    }
   ],
   "source": [
    "axarr.shape"
   ]
  },
  {
   "cell_type": "code",
   "execution_count": null,
   "metadata": {},
   "outputs": [],
   "source": []
  }
 ],
 "metadata": {
  "kernelspec": {
   "display_name": "Python 3",
   "language": "python",
   "name": "python3"
  },
  "language_info": {
   "codemirror_mode": {
    "name": "ipython",
    "version": 3
   },
   "file_extension": ".py",
   "mimetype": "text/x-python",
   "name": "python",
   "nbconvert_exporter": "python",
   "pygments_lexer": "ipython3",
   "version": "3.7.4"
  }
 },
 "nbformat": 4,
 "nbformat_minor": 2
}
