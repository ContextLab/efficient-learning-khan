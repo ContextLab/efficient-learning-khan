{
 "cells": [
  {
   "cell_type": "code",
   "execution_count": null,
   "metadata": {
    "ExecuteTime": {
     "end_time": "2019-01-23T00:05:14.278709Z",
     "start_time": "2019-01-23T00:05:13.707939Z"
    }
   },
   "outputs": [],
   "source": [
    "import pandas as pd\n",
    "import json\n",
    "import numpy as np\n",
    "from collections import OrderedDict"
   ]
  },
  {
   "cell_type": "code",
   "execution_count": null,
   "metadata": {
    "ExecuteTime": {
     "end_time": "2019-01-23T00:05:14.295190Z",
     "start_time": "2019-01-23T00:05:14.280619Z"
    }
   },
   "outputs": [],
   "source": [
    "fulldf = pd.read_csv('/Users/paxtonfitzpatrick/Downloads/efflearnkhan_data_tabsep.csv', sep='\\t')\n",
    "fulldf = fulldf[pd.notnull(fulldf['datastring'])]\n",
    "fulldf.reset_index(drop=True, inplace=True)\n",
    "for i, row in fulldf.iterrows():\n",
    "    fulldf.at[i,'datastring'] = json.loads(fulldf.loc[i]['datastring'])"
   ]
  },
  {
   "cell_type": "code",
   "execution_count": null,
   "metadata": {
    "ExecuteTime": {
     "end_time": "2019-01-23T00:05:16.398627Z",
     "start_time": "2019-01-23T00:05:16.395379Z"
    },
    "scrolled": true
   },
   "outputs": [],
   "source": [
    "data_series = pd.Series(fulldf['datastring'])"
   ]
  },
  {
   "cell_type": "code",
   "execution_count": null,
   "metadata": {
    "ExecuteTime": {
     "end_time": "2019-01-23T00:05:16.689164Z",
     "start_time": "2019-01-23T00:05:16.675435Z"
    },
    "code_folding": [
     0
    ],
    "collapsed": true
   },
   "outputs": [],
   "source": [
    "def readquestions(filename):\n",
    "    questiondict = {}\n",
    "\n",
    "    infile = open(filename, \"r\")\n",
    "    lines = infile.read().split(\"\\n\")\n",
    "    \n",
    "\n",
    "    for qv1 in range(15):   # for each question from video 1\n",
    "        questiondict[lines[6 + 8*qv1].strip(\" \")] = (qv1 + 1, lines[7 + 8*qv1].strip(\" \"))\n",
    "\n",
    "    for qv2 in range(15):   # for each question from video 2\n",
    "        questiondict[lines[129 + 8*qv2].strip(\" \")] = (qv2 + 16, lines[130 + 8 * qv2].strip(\" \"))\n",
    "\n",
    "    return questiondict"
   ]
  },
  {
   "cell_type": "code",
   "execution_count": null,
   "metadata": {
    "ExecuteTime": {
     "end_time": "2019-01-23T00:05:17.460798Z",
     "start_time": "2019-01-23T00:05:17.442636Z"
    },
    "code_folding": [
     0
    ],
    "collapsed": true
   },
   "outputs": [],
   "source": [
    "def grade(output, questiondict, qsets, asets):\n",
    "    outfile = open(output, \"w\")\n",
    "    for set in range(3):    # for each of the 3 sets\n",
    "        for question in range(10):\n",
    "            if qsets[set][question] in questiondict:    # check if we have the question\n",
    "                outfile.write(str(set) + \"\\t\" + str(questiondict[qsets[set][question]][0]) + \"\\t\")\n",
    "                if asets[set][question] == questiondict[qsets[set][question]][1]:   # check if the answer is right\n",
    "                    outfile.write(\"1\")\n",
    "                else:\n",
    "                    outfile.write(\"0\")\n",
    "                outfile.write(\"\\n\")\n",
    "            else:\n",
    "                outfile.write(\"error\" + \"/n\")\n",
    "    outfile.close()"
   ]
  },
  {
   "cell_type": "code",
   "execution_count": null,
   "metadata": {
    "ExecuteTime": {
     "end_time": "2019-01-23T00:10:20.567441Z",
     "start_time": "2019-01-23T00:10:20.554754Z"
    },
    "scrolled": false
   },
   "outputs": [],
   "source": [
    "qdict = readquestions('../data analysis/testvideoquestions')"
   ]
  },
  {
   "cell_type": "code",
   "execution_count": null,
   "metadata": {
    "ExecuteTime": {
     "end_time": "2019-01-23T00:12:45.466771Z",
     "start_time": "2019-01-23T00:12:45.438675Z"
    },
    "collapsed": true
   },
   "outputs": [],
   "source": [
    "for n, sub in enumerate(data_series):\n",
    "    subqs = []\n",
    "    subas = []\n",
    "    for trial in sub['data']:\n",
    "        \n",
    "        if 'responses' in trial['trialdata']:\n",
    "            subas.append([i.replace(\"&#8217;\",\"\\'\") for i in OrderedDict(json.loads(trial['trialdata']['responses'])).values()])\n",
    "               \n",
    "        elif type(trial['trialdata']) is list:\n",
    "            subqs.append([qset['prompt'].replace(\"&#8217;\",\"\\'\") for qset in trial['trialdata']])\n",
    "            \n",
    "    if n == 1:\n",
    "        print(subqs[0])\n",
    "        print('\\n\\n')\n",
    "        print(subas[0])\n",
    "        break\n",
    "    if n == 3:\n",
    "        subqs = subqs[1:]\n",
    "    if len(subqs) > 3:\n",
    "        print('problem with sub ' + str(n) + '. q length of ' + str(len(subqs)))\n",
    "    if len(subas) > 3:\n",
    "        print('problem with sub ' + str(n) + '. a length of ' + str(len(subas)))\n",
    "    grade(\"participant\" + str(n + 1) + \"data.tsv\", qdict, subqs, subas)\n",
    "    "
   ]
  }
 ],
 "metadata": {
  "kernelspec": {
   "display_name": "Python 3",
   "language": "python",
   "name": "python3"
  },
  "language_info": {
   "codemirror_mode": {
    "name": "ipython",
    "version": 3
   },
   "file_extension": ".py",
   "mimetype": "text/x-python",
   "name": "python",
   "nbconvert_exporter": "python",
   "pygments_lexer": "ipython3",
   "version": "3.6.2"
  }
 },
 "nbformat": 4,
 "nbformat_minor": 2
}
