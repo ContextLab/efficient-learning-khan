{
 "cells": [
  {
   "cell_type": "code",
   "execution_count": 3,
   "metadata": {
    "ExecuteTime": {
     "end_time": "2019-01-23T00:05:14.278709Z",
     "start_time": "2019-01-23T00:05:13.707939Z"
    }
   },
   "outputs": [],
   "source": [
    "import pandas as pd\n",
    "import json\n",
    "import numpy as np\n",
    "from collections import OrderedDict"
   ]
  },
  {
   "cell_type": "code",
   "execution_count": 73,
   "metadata": {
    "ExecuteTime": {
     "end_time": "2019-01-23T00:05:14.295190Z",
     "start_time": "2019-01-23T00:05:14.280619Z"
    }
   },
   "outputs": [],
   "source": [
    "fulldf = pd.read_csv('/Users/willb/Documents/GitHub/efficient-learning-khan/code/eff data/efflearnkhan_14.csv', sep='\\t')\n",
    "\n",
    "data = []\n",
    "fulldf\n",
    "for row in range(len(fulldf)):\n",
    "    data.append((fulldf.loc[row, 'uniqueid'], fulldf.loc[row, 'datastring']))\n",
    "\n",
    "d = json.loads(data[0][1])\n",
    "\n",
    "e = d['data']\n",
    "    \n",
    "for trial in e:\n",
    "    # if the json block contains answers, put the text in subas\n",
    "    if 'responses' in trial['trialdata']:\n",
    "        subas.append([i.replace(\"&#8217;\",\"\\'\") for i in OrderedDict(json.loads(trial['trialdata']['responses'])).values()])\n",
    "    \n",
    "    # if the json block contains questions, put the text in subqs\n",
    "    elif isinstance(trial['trialdata'], type(list)):\n",
    "        subqs.append([qset['prompt'].replace(\"&#8217;\",\"\\'\") for qset in trial['trialdata']])"
   ]
  },
  {
   "cell_type": "code",
   "execution_count": 9,
   "metadata": {
    "ExecuteTime": {
     "end_time": "2019-01-23T00:05:16.398627Z",
     "start_time": "2019-01-23T00:05:16.395379Z"
    },
    "scrolled": true
   },
   "outputs": [],
   "source": [
    "data_series = pd.Series(fulldf['datastring'])"
   ]
  },
  {
   "cell_type": "code",
   "execution_count": 75,
   "metadata": {
    "ExecuteTime": {
     "end_time": "2019-01-23T00:05:16.689164Z",
     "start_time": "2019-01-23T00:05:16.675435Z"
    },
    "code_folding": [
     0
    ]
   },
   "outputs": [
    {
     "data": {
      "text/html": [
       "<div>\n",
       "<style scoped>\n",
       "    .dataframe tbody tr th:only-of-type {\n",
       "        vertical-align: middle;\n",
       "    }\n",
       "\n",
       "    .dataframe tbody tr th {\n",
       "        vertical-align: top;\n",
       "    }\n",
       "\n",
       "    .dataframe thead th {\n",
       "        text-align: right;\n",
       "    }\n",
       "</style>\n",
       "<table border=\"1\" class=\"dataframe\">\n",
       "  <thead>\n",
       "    <tr style=\"text-align: right;\">\n",
       "      <th></th>\n",
       "      <th>one</th>\n",
       "      <th>three</th>\n",
       "      <th>two</th>\n",
       "    </tr>\n",
       "  </thead>\n",
       "  <tbody>\n",
       "    <tr>\n",
       "      <th>0</th>\n",
       "      <td>1</td>\n",
       "      <td>stuff1</td>\n",
       "      <td>2</td>\n",
       "    </tr>\n",
       "    <tr>\n",
       "      <th>1</th>\n",
       "      <td>1</td>\n",
       "      <td>stuff2</td>\n",
       "      <td>2</td>\n",
       "    </tr>\n",
       "  </tbody>\n",
       "</table>\n",
       "</div>"
      ],
      "text/plain": [
       "   one   three  two\n",
       "0    1  stuff1    2\n",
       "1    1  stuff2    2"
      ]
     },
     "execution_count": 75,
     "metadata": {},
     "output_type": "execute_result"
    }
   ],
   "source": [
    "# qdict = {}  # maps question => [answer, question ID, video number]\n",
    "\n",
    "# infile = open(\"../data analysis/astronomyquestions.tsv\", \"r\")\n",
    "\n",
    "# parts = []\n",
    "# for line in infile.read().split(\"\\n\"):\n",
    "#     parts.append(line.split(\"\\t\"))\n",
    "\n",
    "# for line in parts:\n",
    "#     qdict[line[2]] = [line[3], line[0], line[1]]\n",
    "    \n",
    "# for q in qdict:\n",
    "#     print(qdict[q][0])\n",
    "    \n",
    "dict1 = {}\n",
    "dict1[\"one\"] = 1\n",
    "dict1[\"two\"] = 2\n",
    "dict1[\"three\"] =  \"stuff1\"\n",
    "dict2 = {}\n",
    "dict2[\"one\"] = 1\n",
    "dict2[\"two\"] = 2\n",
    "dict2[\"three\"] = \"stuff2\"\n",
    "dict_list = [dict1, dict2]\n",
    "df1 = pd.DataFrame(dict_list)\n",
    "\n",
    "df1\n",
    "\n"
   ]
  },
  {
   "cell_type": "code",
   "execution_count": 11,
   "metadata": {
    "ExecuteTime": {
     "end_time": "2019-01-23T00:05:17.460798Z",
     "start_time": "2019-01-23T00:05:17.442636Z"
    },
    "code_folding": [
     0
    ]
   },
   "outputs": [],
   "source": [
    "def grade(output, questiondict, qsets, asets):\n",
    "    outfile = open(output, \"w\")\n",
    "    for set in range(3):    # for each of the 3 sets\n",
    "        for question in range(13):\n",
    "            if qsets[set][question] in questiondict:    # check if we have the question\n",
    "                outfile.write(str(set) + \"\\t\" + str(questiondict[qsets[set][question]][0]) + \"\\t\")\n",
    "                if asets[set][question] == questiondict[qsets[set][question]][1]:   # check if the answer is right\n",
    "                    outfile.write(\"1\")\n",
    "                else:\n",
    "                    outfile.write(\"0\")\n",
    "                outfile.write(\"\\n\")\n",
    "            else:\n",
    "                outfile.write(\"error\" + \"\\n\")\n",
    "    outfile.close()"
   ]
  },
  {
   "cell_type": "code",
   "execution_count": 12,
   "metadata": {
    "ExecuteTime": {
     "end_time": "2019-01-23T00:10:20.567441Z",
     "start_time": "2019-01-23T00:10:20.554754Z"
    },
    "scrolled": false
   },
   "outputs": [
    {
     "ename": "NameError",
     "evalue": "name 'readquestions' is not defined",
     "output_type": "error",
     "traceback": [
      "\u001b[1;31m---------------------------------------------------------------------------\u001b[0m",
      "\u001b[1;31mNameError\u001b[0m                                 Traceback (most recent call last)",
      "\u001b[1;32m<ipython-input-12-0ab5b6687cbe>\u001b[0m in \u001b[0;36m<module>\u001b[1;34m\u001b[0m\n\u001b[1;32m----> 1\u001b[1;33m \u001b[0mqdict\u001b[0m \u001b[1;33m=\u001b[0m \u001b[0mreadquestions\u001b[0m\u001b[1;33m(\u001b[0m\u001b[1;34m'../data analysis/testvideoquestions'\u001b[0m\u001b[1;33m)\u001b[0m\u001b[1;33m\u001b[0m\u001b[1;33m\u001b[0m\u001b[0m\n\u001b[0m",
      "\u001b[1;31mNameError\u001b[0m: name 'readquestions' is not defined"
     ]
    }
   ],
   "source": [
    "qdict = readquestions('../data analysis/testvideoquestions')"
   ]
  },
  {
   "cell_type": "code",
   "execution_count": 17,
   "metadata": {
    "ExecuteTime": {
     "end_time": "2019-01-23T00:12:45.466771Z",
     "start_time": "2019-01-23T00:12:45.438675Z"
    }
   },
   "outputs": [
    {
     "name": "stdout",
     "output_type": "stream",
     "text": [
      "13\n",
      " I did one\n",
      "[]\n"
     ]
    }
   ],
   "source": [
    "for n, sub in enumerate(data_series):\n",
    "    subqs = []\n",
    "    subas = []\n",
    "    for trial in sub['data']:\n",
    "        \n",
    "        if 'responses' in trial['trialdata']:\n",
    "            subas.append([i.replace(\"&#8217;\",\"\\'\") for i in OrderedDict(json.loads(trial['trialdata']['responses'])).values()])\n",
    "               \n",
    "        elif type(trial['trialdata']) is list:\n",
    "            subqs.append([qset['prompt'].replace(\"&#8217;\",\"\\'\") for qset in trial['trialdata']])\n",
    "            \n",
    "    if n == 1:\n",
    "        print(subqs[0])\n",
    "        print('\\n\\n')\n",
    "        print(subas[0])\n",
    "        break\n",
    "    if n == 3:\n",
    "        subqs = subqs[1:]\n",
    "    if len(subqs) > 3:\n",
    "        print('problem with sub ' + str(n) + '. q length of ' + str(len(subqs)))\n",
    "    if len(subas) > 3:\n",
    "        print('problem with sub ' + str(n) + '. a length of ' + str(len(subas)))\n",
    "    #grade(\"participant\" + str(n + 1) + \"data.tsv\", qdict, subqs, subas)  \n",
    "\n",
    "        \n",
    "    print(\" I did one\")"
   ]
  },
  {
   "cell_type": "code",
   "execution_count": null,
   "metadata": {},
   "outputs": [],
   "source": []
  }
 ],
 "metadata": {
  "kernelspec": {
   "display_name": "Python 3",
   "language": "python",
   "name": "python3"
  },
  "language_info": {
   "codemirror_mode": {
    "name": "ipython",
    "version": 3
   },
   "file_extension": ".py",
   "mimetype": "text/x-python",
   "name": "python",
   "nbconvert_exporter": "python",
   "pygments_lexer": "ipython3",
   "version": "3.7.1"
  }
 },
 "nbformat": 4,
 "nbformat_minor": 2
}
