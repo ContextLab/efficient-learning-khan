{
 "cells": [
  {
   "cell_type": "markdown",
   "metadata": {},
   "source": [
    "## Imports"
   ]
  },
  {
   "cell_type": "code",
   "execution_count": 1,
   "metadata": {
    "ExecuteTime": {
     "end_time": "2020-07-16T17:42:52.610776Z",
     "start_time": "2020-07-16T17:42:49.628419Z"
    }
   },
   "outputs": [
    {
     "data": {
      "text/markdown": [
       "Experiment & Participant classes, helper functions, and variables used across multiple notebooks can be found in `/mnt/code/khan_helpers/khan_helpers`, or on GitHub, [here](https://github.com/contextlab/efficient-learning-khan/tree/master/code/khan_helpers).<br />You can also view source code directly from the notebook with:<br /><pre>    from khan_helpers.functions import show_source<br />    show_source(foo)</pre>"
      ],
      "text/plain": [
       "<IPython.core.display.Markdown object>"
      ]
     },
     "metadata": {},
     "output_type": "display_data"
    }
   ],
   "source": [
    "import numpy as np\n",
    "\n",
    "from khan_helpers import Experiment\n",
    "\n",
    "import matplotlib.pyplot as plt\n",
    "import seaborn as sns\n",
    "%matplotlib inline"
   ]
  },
  {
   "cell_type": "markdown",
   "metadata": {},
   "source": [
    "## Define some functions"
   ]
  },
  {
   "cell_type": "code",
   "execution_count": 2,
   "metadata": {
    "ExecuteTime": {
     "end_time": "2020-07-16T16:10:34.640922Z",
     "start_time": "2020-07-16T16:10:34.626489Z"
    }
   },
   "outputs": [],
   "source": [
    "def RBF_interp(obs_coords, obs_vals, pred_coords, width=10):\n",
    "    def _weighted_average(weights, vals):\n",
    "        return np.divide(np.sum(weights * vals), np.sum(weights))\n",
    "    \n",
    "    weights = np.exp(-np.divide(np.power(cdist(obs_coords, pred_coords), 2), width))\n",
    "    pred_vals = np.zeros([pred_coords.shape[0]])\n",
    "    for i in range(pred_coords.shape[0]):\n",
    "        pred_vals[i] = _weighted_average(weights[:, i], obs_vals)\n",
    "        \n",
    "    return pred_vals"
   ]
  },
  {
   "cell_type": "markdown",
   "metadata": {},
   "source": [
    "## Load data"
   ]
  },
  {
   "cell_type": "code",
   "execution_count": 2,
   "metadata": {
    "ExecuteTime": {
     "end_time": "2020-07-16T17:42:53.741365Z",
     "start_time": "2020-07-16T17:42:53.477614Z"
    }
   },
   "outputs": [],
   "source": [
    "exp = Experiment()\n",
    "participants = exp.load_participants()\n",
    "reducer = exp.load_umap()\n",
    "embeddings = reducer.embedding_"
   ]
  },
  {
   "cell_type": "markdown",
   "metadata": {
    "ExecuteTime": {
     "end_time": "2020-07-16T16:16:49.837897Z",
     "start_time": "2020-07-16T16:16:49.829411Z"
    }
   },
   "source": [
    "## Recreate 2D embedding space grid"
   ]
  },
  {
   "cell_type": "code",
   "execution_count": 7,
   "metadata": {
    "ExecuteTime": {
     "end_time": "2020-07-16T16:55:44.950573Z",
     "start_time": "2020-07-16T16:55:44.898007Z"
    }
   },
   "outputs": [],
   "source": [
    "resolution = 100\n",
    "x_min, y_min = embeddings.min(axis=0) // 1 - 3\n",
    "x_max, y_max = embeddings.max(axis=0) // 1 + 3\n",
    "x_step = (x_max - x_min) / resolution\n",
    "y_step = (y_max - y_min) / resolution\n",
    "xs = np.arange(x_min, x_max, x_step)\n",
    "ys = np.arange(y_min, y_max, y_step)\n",
    "\n",
    "X, Y = np.meshgrid(xs, ys)\n",
    "xy_grid = np.empty((resolution, resolution, 2), dtype=np.float64)\n",
    "for (x_ix, y_ix), X_val in np.ndenumerate(X):\n",
    "    xy_grid[x_ix, y_ix] = (X_val, Y[x_ix, y_ix])\n",
    "    \n",
    "vertices = xy_grid.reshape(resolution**2, 2)"
   ]
  },
  {
   "cell_type": "code",
   "execution_count": 3,
   "metadata": {
    "ExecuteTime": {
     "end_time": "2020-07-16T17:42:58.502288Z",
     "start_time": "2020-07-16T17:42:58.495341Z"
    }
   },
   "outputs": [
    {
     "data": {
      "text/plain": [
       "dict_keys([])"
      ]
     },
     "execution_count": 3,
     "metadata": {},
     "output_type": "execute_result"
    }
   ],
   "source": [
    "participants[0].knowledge_maps.keys()"
   ]
  },
  {
   "cell_type": "code",
   "execution_count": 4,
   "metadata": {
    "ExecuteTime": {
     "end_time": "2020-07-16T17:43:17.984446Z",
     "start_time": "2020-07-16T17:43:17.974234Z"
    },
    "scrolled": true
   },
   "outputs": [
    {
     "name": "stdout",
     "output_type": "stream",
     "text": [
      "{}\n",
      "{}\n",
      "{}\n",
      "{}\n",
      "{}\n",
      "{}\n",
      "{}\n",
      "{}\n",
      "{}\n",
      "{}\n",
      "{}\n",
      "{}\n",
      "{}\n",
      "{}\n",
      "{}\n",
      "{}\n",
      "{}\n",
      "{}\n",
      "{}\n",
      "{}\n",
      "{}\n",
      "{}\n",
      "{}\n",
      "{}\n",
      "{}\n",
      "{}\n",
      "{}\n",
      "{}\n",
      "{}\n",
      "{}\n",
      "{}\n",
      "{}\n",
      "{}\n",
      "{}\n",
      "{}\n",
      "{}\n",
      "{}\n",
      "{}\n",
      "{}\n",
      "{}\n",
      "{}\n",
      "{}\n",
      "{}\n",
      "{}\n",
      "{}\n",
      "{}\n",
      "{}\n",
      "{}\n",
      "{}\n",
      "{}\n"
     ]
    }
   ],
   "source": [
    "for p in participants:\n",
    "    print(p.knowledge_maps)"
   ]
  },
  {
   "cell_type": "code",
   "execution_count": 13,
   "metadata": {
    "ExecuteTime": {
     "end_time": "2020-07-16T17:16:17.511320Z",
     "start_time": "2020-07-16T17:16:17.505920Z"
    }
   },
   "outputs": [],
   "source": [
    "for p in participants:\n",
    "    p.knowledge_maps = {}"
   ]
  },
  {
   "cell_type": "code",
   "execution_count": null,
   "metadata": {
    "ExecuteTime": {
     "end_time": "2020-07-16T17:16:22.401791Z",
     "start_time": "2020-07-16T17:16:22.392522Z"
    }
   },
   "outputs": [],
   "source": []
  },
  {
   "cell_type": "code",
   "execution_count": 5,
   "metadata": {
    "ExecuteTime": {
     "end_time": "2020-07-16T17:43:27.134964Z",
     "start_time": "2020-07-16T17:43:26.783351Z"
    }
   },
   "outputs": [],
   "source": [
    "exp.save_participants(allow_overwrite=True)"
   ]
  },
  {
   "cell_type": "code",
   "execution_count": 8,
   "metadata": {
    "ExecuteTime": {
     "end_time": "2020-07-16T17:43:54.864545Z",
     "start_time": "2020-07-16T17:43:54.848667Z"
    }
   },
   "outputs": [],
   "source": [
    "avg_p = exp.load_avg_participant()"
   ]
  },
  {
   "cell_type": "code",
   "execution_count": 10,
   "metadata": {
    "ExecuteTime": {
     "end_time": "2020-07-16T17:44:00.878754Z",
     "start_time": "2020-07-16T17:44:00.874354Z"
    }
   },
   "outputs": [],
   "source": [
    "avg_p.knowledge_maps = {}"
   ]
  },
  {
   "cell_type": "code",
   "execution_count": 11,
   "metadata": {
    "ExecuteTime": {
     "end_time": "2020-07-16T17:44:09.841826Z",
     "start_time": "2020-07-16T17:44:09.831058Z"
    }
   },
   "outputs": [],
   "source": [
    "avg_p.save(allow_overwrite=True)"
   ]
  },
  {
   "cell_type": "code",
   "execution_count": null,
   "metadata": {},
   "outputs": [],
   "source": [
    "ff_emb = exp.load_embeddings()"
   ]
  }
 ],
 "metadata": {
  "kernelspec": {
   "display_name": "Python 3",
   "language": "python",
   "name": "python3"
  },
  "language_info": {
   "codemirror_mode": {
    "name": "ipython",
    "version": 3
   },
   "file_extension": ".py",
   "mimetype": "text/x-python",
   "name": "python",
   "nbconvert_exporter": "python",
   "pygments_lexer": "ipython3",
   "version": "3.7.4"
  }
 },
 "nbformat": 4,
 "nbformat_minor": 2
}
