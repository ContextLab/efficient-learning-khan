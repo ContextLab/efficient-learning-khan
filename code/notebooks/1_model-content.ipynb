{
 "cells": [
  {
   "cell_type": "markdown",
   "metadata": {},
   "source": [
    "## Imports"
   ]
  },
  {
   "cell_type": "code",
   "execution_count": 26,
   "metadata": {
    "ExecuteTime": {
     "end_time": "2021-01-12T20:13:01.839583Z",
     "start_time": "2021-01-12T20:13:01.816821Z"
    }
   },
   "outputs": [],
   "source": [
    "from collections import defaultdict\n",
    "\n",
    "import numpy as np\n",
    "from sklearn.decomposition import LatentDirichletAllocation\n",
    "from sklearn.feature_extraction.text import CountVectorizer\n",
    "\n",
    "from khan_helpers import Experiment\n",
    "from khan_helpers.constants import (\n",
    "    CV_PARAMS,\n",
    "    FIG_DIR,\n",
    "    LECTURE_WSIZE,\n",
    "    LDA_PARAMS,\n",
    "    MODELS_DIR,\n",
    "    RAW_DIR, \n",
    "    STOP_WORDS,\n",
    "    TRAJS_DIR\n",
    ")\n",
    "from khan_helpers.functions import (\n",
    "    _ts_to_sec,\n",
    "    interp_lecture,\n",
    "    multicol_display,\n",
    "    parse_windows,\n",
    "    preprocess_text,\n",
    "    show_source,\n",
    "    synset_match\n",
    ")\n",
    "\n",
    "import matplotlib.pyplot as plt\n",
    "from mpl_toolkits.mplot3d import Axes3D\n",
    "import seaborn as sns\n",
    "%matplotlib inline"
   ]
  },
  {
   "cell_type": "markdown",
   "metadata": {
    "ExecuteTime": {
     "end_time": "2020-02-14T21:05:36.850899Z",
     "start_time": "2020-02-14T21:05:36.829500Z"
    }
   },
   "source": [
    "## Inspect some things defined in `khan_helpers`"
   ]
  },
  {
   "cell_type": "code",
   "execution_count": 27,
   "metadata": {
    "ExecuteTime": {
     "end_time": "2021-01-12T20:13:03.508513Z",
     "start_time": "2021-01-12T20:13:03.434380Z"
    },
    "scrolled": true
   },
   "outputs": [
    {
     "data": {
      "text/html": [
       "<div class=\"highlight\" style=\"background: #f8f8f8\"><pre style=\"line-height: 125%;\"><span></span><span style=\"color: #008000; font-weight: bold\">class</span> <span style=\"color: #0000FF; font-weight: bold\">Experiment</span>:\n",
       "    participants <span style=\"color: #666666\">=</span> LazyLoader(<span style=\"color: #BA2121\">&#39;_load_participants&#39;</span>)\n",
       "    avg_participant <span style=\"color: #666666\">=</span> LazyLoader(<span style=\"color: #BA2121\">&#39;_load_avg_participant&#39;</span>)\n",
       "\n",
       "    forces_transcript <span style=\"color: #666666\">=</span> LazyLoader(<span style=\"color: #BA2121\">&#39;_load_transcript&#39;</span>, <span style=\"color: #BA2121\">&#39;forces&#39;</span>)\n",
       "    bos_transcript <span style=\"color: #666666\">=</span> LazyLoader(<span style=\"color: #BA2121\">&#39;_load_transcript&#39;</span>, <span style=\"color: #BA2121\">&#39;bos&#39;</span>)\n",
       "    questions <span style=\"color: #666666\">=</span> LazyLoader(<span style=\"color: #BA2121\">&#39;_load_questions&#39;</span>)\n",
       "\n",
       "    forces_windows <span style=\"color: #666666\">=</span> LazyLoader(<span style=\"color: #BA2121\">&#39;_load_windows&#39;</span>, <span style=\"color: #BA2121\">&#39;forces&#39;</span>)\n",
       "    bos_windows <span style=\"color: #666666\">=</span> LazyLoader(<span style=\"color: #BA2121\">&#39;_load_windows&#39;</span>, <span style=\"color: #BA2121\">&#39;bos&#39;</span>)\n",
       "\n",
       "    forces_traj <span style=\"color: #666666\">=</span> LazyLoader(<span style=\"color: #BA2121\">&#39;_load_topic_vectors&#39;</span>, <span style=\"color: #BA2121\">&#39;forces&#39;</span>)\n",
       "    bos_traj <span style=\"color: #666666\">=</span> LazyLoader(<span style=\"color: #BA2121\">&#39;_load_topic_vectors&#39;</span>, <span style=\"color: #BA2121\">&#39;bos&#39;</span>)\n",
       "    question_vectors <span style=\"color: #666666\">=</span> LazyLoader(<span style=\"color: #BA2121\">&#39;_load_topic_vectors&#39;</span>, <span style=\"color: #BA2121\">&#39;questions&#39;</span>)\n",
       "    answer_vectors <span style=\"color: #666666\">=</span> LazyLoader(<span style=\"color: #BA2121\">&#39;_load_topic_vectors&#39;</span>, <span style=\"color: #BA2121\">&#39;answers&#39;</span>)\n",
       "\n",
       "    forces_embedding <span style=\"color: #666666\">=</span> LazyLoader(<span style=\"color: #BA2121\">&#39;_load_embedding&#39;</span>, <span style=\"color: #BA2121\">&#39;forces&#39;</span>)\n",
       "    bos_embedding <span style=\"color: #666666\">=</span> LazyLoader(<span style=\"color: #BA2121\">&#39;_load_embedding&#39;</span>, <span style=\"color: #BA2121\">&#39;bos&#39;</span>)\n",
       "    question_embeddings <span style=\"color: #666666\">=</span> LazyLoader(<span style=\"color: #BA2121\">&#39;_load_embedding&#39;</span>, <span style=\"color: #BA2121\">&#39;questions&#39;</span>)\n",
       "\n",
       "    fit_cv <span style=\"color: #666666\">=</span> LazyLoader(<span style=\"color: #BA2121\">&#39;_load_fit_model&#39;</span>, <span style=\"color: #BA2121\">&#39;CV&#39;</span>)\n",
       "    fit_lda <span style=\"color: #666666\">=</span> LazyLoader(<span style=\"color: #BA2121\">&#39;_load_fit_model&#39;</span>, <span style=\"color: #BA2121\">&#39;LDA&#39;</span>)\n",
       "    fit_umap <span style=\"color: #666666\">=</span> LazyLoader(<span style=\"color: #BA2121\">&#39;_load_fit_model&#39;</span>, <span style=\"color: #BA2121\">&#39;UMAP&#39;</span>)\n",
       "\n",
       "    wordle_mask <span style=\"color: #666666\">=</span> LazyLoader(<span style=\"color: #BA2121\">&#39;_load_wordle_mask&#39;</span>)\n",
       "\n",
       "    <span style=\"color: #AA22FF\">@property</span>\n",
       "    <span style=\"color: #008000; font-weight: bold\">def</span> <span style=\"color: #0000FF\">all_data</span>(<span style=\"color: #008000\">self</span>):\n",
       "        <span style=\"color: #008000; font-weight: bold\">return</span> pd<span style=\"color: #666666\">.</span>concat(<span style=\"color: #008000\">map</span>(<span style=\"color: #008000; font-weight: bold\">lambda</span> p: p<span style=\"color: #666666\">.</span>data, <span style=\"color: #008000\">self</span><span style=\"color: #666666\">.</span>participants),\n",
       "                         keys<span style=\"color: #666666\">=</span><span style=\"color: #008000\">map</span>(<span style=\"color: #008000\">str</span>, <span style=\"color: #008000\">self</span><span style=\"color: #666666\">.</span>participants))\n",
       "\n",
       "    <span style=\"color: #008000; font-weight: bold\">def</span> <span style=\"color: #0000FF\">get_lecture_traj</span>(<span style=\"color: #008000\">self</span>, lecture):\n",
       "        <span style=\"color: #008000; font-weight: bold\">if</span> <span style=\"color: #008000\">hasattr</span>(lecture, <span style=\"color: #BA2121\">&#39;__iter__&#39;</span>) <span style=\"color: #AA22FF; font-weight: bold\">and</span> <span style=\"color: #AA22FF; font-weight: bold\">not</span> <span style=\"color: #008000\">isinstance</span>(lecture, <span style=\"color: #008000\">str</span>):\n",
       "            <span style=\"color: #008000; font-weight: bold\">if</span> <span style=\"color: #008000\">len</span>(lecture) <span style=\"color: #666666\">&gt;</span> <span style=\"color: #666666\">1</span>:\n",
       "                <span style=\"color: #008000; font-weight: bold\">return</span> [<span style=\"color: #008000\">self</span><span style=\"color: #666666\">.</span>get_lecture_traj(l) <span style=\"color: #008000; font-weight: bold\">for</span> l <span style=\"color: #AA22FF; font-weight: bold\">in</span> lecture]\n",
       "            <span style=\"color: #008000; font-weight: bold\">else</span>:\n",
       "                <span style=\"color: #008000; font-weight: bold\">return</span> <span style=\"color: #008000\">self</span><span style=\"color: #666666\">.</span>get_lecture_traj(lecture[<span style=\"color: #666666\">0</span>])\n",
       "        <span style=\"color: #008000; font-weight: bold\">elif</span> lecture <span style=\"color: #AA22FF; font-weight: bold\">in</span> (<span style=\"color: #BA2121\">&#39;forces&#39;</span>, <span style=\"color: #666666\">1</span>):\n",
       "            <span style=\"color: #008000; font-weight: bold\">return</span> <span style=\"color: #008000\">self</span><span style=\"color: #666666\">.</span>forces_traj\n",
       "        <span style=\"color: #008000; font-weight: bold\">elif</span> lecture <span style=\"color: #AA22FF; font-weight: bold\">in</span> (<span style=\"color: #BA2121\">&#39;bos&#39;</span>, <span style=\"color: #666666\">2</span>):\n",
       "            <span style=\"color: #008000; font-weight: bold\">return</span> <span style=\"color: #008000\">self</span><span style=\"color: #666666\">.</span>bos_traj\n",
       "        <span style=\"color: #008000; font-weight: bold\">else</span>:\n",
       "            <span style=\"color: #008000; font-weight: bold\">raise</span> <span style=\"color: #D2413A; font-weight: bold\">ValueError</span>(<span style=\"color: #BA2121\">&#39;`lecture` should be either 1, &quot;forces&quot;, 2, or &quot;bos&quot;&#39;</span>)\n",
       "\n",
       "    <span style=\"color: #008000; font-weight: bold\">def</span> <span style=\"color: #0000FF\">get_question_vecs</span>(<span style=\"color: #008000\">self</span>, qids<span style=\"color: #666666\">=</span><span style=\"color: #008000; font-weight: bold\">None</span>, lectures<span style=\"color: #666666\">=</span><span style=\"color: #008000; font-weight: bold\">None</span>):\n",
       "        <span style=\"color: #408080; font-style: italic\"># get question topic vectors by question ID(s) or lecture(s)</span>\n",
       "        <span style=\"color: #008000; font-weight: bold\">if</span> (qids <span style=\"color: #AA22FF; font-weight: bold\">is</span> lectures <span style=\"color: #AA22FF; font-weight: bold\">is</span> <span style=\"color: #008000; font-weight: bold\">None</span>) <span style=\"color: #AA22FF; font-weight: bold\">or</span> (qids <span style=\"color: #AA22FF; font-weight: bold\">is</span> <span style=\"color: #AA22FF; font-weight: bold\">not</span> <span style=\"color: #008000; font-weight: bold\">None</span> <span style=\"color: #AA22FF; font-weight: bold\">and</span> lectures <span style=\"color: #AA22FF; font-weight: bold\">is</span> <span style=\"color: #AA22FF; font-weight: bold\">not</span> <span style=\"color: #008000; font-weight: bold\">None</span>):\n",
       "            <span style=\"color: #008000; font-weight: bold\">raise</span> <span style=\"color: #D2413A; font-weight: bold\">ValueError</span>(<span style=\"color: #BA2121\">&quot;must pass either `qids` or `lecture` (not both)&quot;</span>)\n",
       "        <span style=\"color: #008000; font-weight: bold\">if</span> lectures <span style=\"color: #AA22FF; font-weight: bold\">is</span> <span style=\"color: #AA22FF; font-weight: bold\">not</span> <span style=\"color: #008000; font-weight: bold\">None</span>:\n",
       "            qids <span style=\"color: #666666\">=</span> []\n",
       "            <span style=\"color: #008000; font-weight: bold\">if</span> <span style=\"color: #BA2121\">&#39;forces&#39;</span> <span style=\"color: #AA22FF; font-weight: bold\">in</span> lectures:\n",
       "                qids<span style=\"color: #666666\">.</span>extend(<span style=\"color: #008000\">range</span>(<span style=\"color: #666666\">15</span>))\n",
       "            <span style=\"color: #008000; font-weight: bold\">if</span> <span style=\"color: #BA2121\">&#39;bos&#39;</span> <span style=\"color: #AA22FF; font-weight: bold\">in</span> lectures:\n",
       "                qids<span style=\"color: #666666\">.</span>extend(<span style=\"color: #008000\">range</span>(<span style=\"color: #666666\">15</span>, <span style=\"color: #666666\">30</span>))\n",
       "            <span style=\"color: #008000; font-weight: bold\">if</span> <span style=\"color: #BA2121\">&#39;general&#39;</span> <span style=\"color: #AA22FF; font-weight: bold\">in</span> lectures:\n",
       "                qids<span style=\"color: #666666\">.</span>extend(<span style=\"color: #008000\">range</span>(<span style=\"color: #666666\">30</span>, <span style=\"color: #666666\">39</span>))\n",
       "        <span style=\"color: #008000; font-weight: bold\">else</span>:\n",
       "            qids <span style=\"color: #666666\">=</span> [qid <span style=\"color: #666666\">-</span> <span style=\"color: #666666\">1</span> <span style=\"color: #008000; font-weight: bold\">for</span> qid <span style=\"color: #AA22FF; font-weight: bold\">in</span> qids]\n",
       "        <span style=\"color: #008000; font-weight: bold\">return</span> <span style=\"color: #008000\">self</span><span style=\"color: #666666\">.</span>question_vectors[qids]\n",
       "\n",
       "    <span style=\"color: #008000; font-weight: bold\">def</span> <span style=\"color: #0000FF\">get_timepoint_text</span>(<span style=\"color: #008000\">self</span>, lecture, timepoint, buffer<span style=\"color: #666666\">=15</span>):\n",
       "        <span style=\"color: #008000; font-weight: bold\">if</span> lecture <span style=\"color: #666666\">==</span> <span style=\"color: #BA2121\">&#39;forces&#39;</span>:\n",
       "            transcript <span style=\"color: #666666\">=</span> <span style=\"color: #008000\">self</span><span style=\"color: #666666\">.</span>forces_transcript\n",
       "        <span style=\"color: #008000; font-weight: bold\">elif</span> lecture <span style=\"color: #666666\">==</span> <span style=\"color: #BA2121\">&#39;bos&#39;</span>:\n",
       "            transcript <span style=\"color: #666666\">=</span> <span style=\"color: #008000\">self</span><span style=\"color: #666666\">.</span>bos_transcript\n",
       "        <span style=\"color: #008000; font-weight: bold\">else</span>:\n",
       "            <span style=\"color: #008000; font-weight: bold\">raise</span> <span style=\"color: #D2413A; font-weight: bold\">ValueError</span>(<span style=\"color: #BA2121\">&quot;Lecture must be either &#39;forces&#39; or &#39;bos&#39;&quot;</span>)\n",
       "\n",
       "        <span style=\"color: #408080; font-style: italic\"># get timestamps and text from transcript</span>\n",
       "        transcript <span style=\"color: #666666\">=</span> transcript<span style=\"color: #666666\">.</span>splitlines()\n",
       "        timestamps <span style=\"color: #666666\">=</span> np<span style=\"color: #666666\">.</span>fromiter(<span style=\"color: #008000\">map</span>(_ts_to_sec, transcript[::<span style=\"color: #666666\">2</span>]), dtype<span style=\"color: #666666\">=</span>np<span style=\"color: #666666\">.</span>int)\n",
       "        text <span style=\"color: #666666\">=</span> np<span style=\"color: #666666\">.</span>array(transcript[<span style=\"color: #666666\">1</span>::<span style=\"color: #666666\">2</span>])\n",
       "        <span style=\"color: #408080; font-style: italic\"># compute start and end time from timeoint and buffer</span>\n",
       "        onset, offset <span style=\"color: #666666\">=</span> timepoint <span style=\"color: #666666\">-</span> buffer, timepoint <span style=\"color: #666666\">+</span> buffer\n",
       "        <span style=\"color: #408080; font-style: italic\"># make sure times are within bounds</span>\n",
       "        <span style=\"color: #008000; font-weight: bold\">if</span> onset <span style=\"color: #666666\">&lt;</span> <span style=\"color: #666666\">0</span>:\n",
       "            onset <span style=\"color: #666666\">=</span> <span style=\"color: #666666\">0</span>\n",
       "        <span style=\"color: #008000; font-weight: bold\">if</span> offset <span style=\"color: #666666\">&gt;</span> timestamps[<span style=\"color: #666666\">-1</span>]:\n",
       "            offset <span style=\"color: #666666\">=</span> timestamps[<span style=\"color: #666666\">-1</span>]\n",
       "        <span style=\"color: #408080; font-style: italic\"># get timestamps of text between those times</span>\n",
       "        text_ixs <span style=\"color: #666666\">=</span> np<span style=\"color: #666666\">.</span>where((timestamps <span style=\"color: #666666\">&gt;=</span> onset) <span style=\"color: #666666\">&amp;</span> (timestamps <span style=\"color: #666666\">&lt;</span> offset))[<span style=\"color: #666666\">0</span>]\n",
       "        <span style=\"color: #008000; font-weight: bold\">return</span> <span style=\"color: #BA2121\">&#39; &#39;</span><span style=\"color: #666666\">.</span>join(text[text_ixs])\n",
       "\n",
       "    <span style=\"color: #008000; font-weight: bold\">def</span> <span style=\"color: #0000FF\">plot</span>(\n",
       "            <span style=\"color: #008000\">self</span>,\n",
       "            lectures<span style=\"color: #666666\">=</span><span style=\"color: #008000; font-weight: bold\">None</span>,\n",
       "            questions<span style=\"color: #666666\">=</span><span style=\"color: #008000; font-weight: bold\">None</span>,\n",
       "            participants<span style=\"color: #666666\">=</span><span style=\"color: #008000; font-weight: bold\">None</span>,\n",
       "            keys<span style=\"color: #666666\">=</span><span style=\"color: #008000; font-weight: bold\">None</span>,\n",
       "            <span style=\"color: #666666\">**</span>kwargs\n",
       "    ):\n",
       "        <span style=\"color: #BA2121; font-style: italic\">&quot;&quot;&quot;</span>\n",
       "<span style=\"color: #BA2121; font-style: italic\">        Wraps hypertools.plot for multi-subject plots and plotting</span>\n",
       "<span style=\"color: #BA2121; font-style: italic\">        lectures/questions. Plotting order is:</span>\n",
       "<span style=\"color: #BA2121; font-style: italic\">            1. lectures (if multiple, plotted in order passed)</span>\n",
       "<span style=\"color: #BA2121; font-style: italic\">            2. questions (plotted in order passed)</span>\n",
       "<span style=\"color: #BA2121; font-style: italic\">            3. traces (for each participant, in order passed, the trace given by</span>\n",
       "<span style=\"color: #BA2121; font-style: italic\">                each key, in order passed)</span>\n",
       "<span style=\"color: #BA2121; font-style: italic\">        :param lectures: str, int, or iterable of strs/ints (optional)</span>\n",
       "<span style=\"color: #BA2121; font-style: italic\">                Lecture topic trajectories to plot</span>\n",
       "<span style=\"color: #BA2121; font-style: italic\">        :param questions: str, int, or iterable of str/int (optional)</span>\n",
       "<span style=\"color: #BA2121; font-style: italic\">                If str or iterable of strs, the category of questions (&quot;forces&quot;,</span>\n",
       "<span style=\"color: #BA2121; font-style: italic\">                &quot;bos&quot;, &quot;general&quot;) to plot. If int or iterable of ints, the IDs</span>\n",
       "<span style=\"color: #BA2121; font-style: italic\">                of questions to plot</span>\n",
       "<span style=\"color: #BA2121; font-style: italic\">        :param participants: str, int or iterable of strs/ints (optional)</span>\n",
       "<span style=\"color: #BA2121; font-style: italic\">                The participant(s) in `self.participants` whose reconstructed</span>\n",
       "<span style=\"color: #BA2121; font-style: italic\">                traces (given by keys arg) to plot.  May also be &quot;all&quot; for all</span>\n",
       "<span style=\"color: #BA2121; font-style: italic\">                participants or &quot;avg&quot; for `self.avg_participant`</span>\n",
       "<span style=\"color: #BA2121; font-style: italic\">        :param keys: str or iterable of str (required if passing `participants`)</span>\n",
       "<span style=\"color: #BA2121; font-style: italic\">                The keys of reconstructed traces to plot for each participant</span>\n",
       "<span style=\"color: #BA2121; font-style: italic\">        :param kwargs: various types</span>\n",
       "<span style=\"color: #BA2121; font-style: italic\">                Keyword arguments passed to `hypertools.plot`, then forwarded to</span>\n",
       "<span style=\"color: #BA2121; font-style: italic\">                matplotlib</span>\n",
       "<span style=\"color: #BA2121; font-style: italic\">        :return: plot: hypertools.DataGeometry</span>\n",
       "<span style=\"color: #BA2121; font-style: italic\">                A plot of the specified data</span>\n",
       "<span style=\"color: #BA2121; font-style: italic\">        &quot;&quot;&quot;</span>\n",
       "        <span style=\"color: #008000; font-weight: bold\">if</span> (participants <span style=\"color: #AA22FF; font-weight: bold\">is</span> <span style=\"color: #AA22FF; font-weight: bold\">not</span> <span style=\"color: #008000; font-weight: bold\">None</span>) <span style=\"color: #AA22FF; font-weight: bold\">and</span> (keys <span style=\"color: #AA22FF; font-weight: bold\">is</span> <span style=\"color: #008000; font-weight: bold\">None</span>):\n",
       "            <span style=\"color: #008000; font-weight: bold\">raise</span> <span style=\"color: #D2413A; font-weight: bold\">ValueError</span>(<span style=\"color: #BA2121\">&quot;Must pass `keys` if passing `participants`&quot;</span>)\n",
       "        <span style=\"color: #408080; font-style: italic\"># funnel args into iterables</span>\n",
       "        <span style=\"color: #008000; font-weight: bold\">if</span> lectures <span style=\"color: #AA22FF; font-weight: bold\">is</span> <span style=\"color: #008000; font-weight: bold\">None</span>:\n",
       "            lectures <span style=\"color: #666666\">=</span> []\n",
       "        <span style=\"color: #008000; font-weight: bold\">elif</span> <span style=\"color: #008000\">isinstance</span>(lectures, <span style=\"color: #008000\">str</span>):\n",
       "            lectures <span style=\"color: #666666\">=</span> [lectures]\n",
       "        <span style=\"color: #008000; font-weight: bold\">if</span> questions <span style=\"color: #AA22FF; font-weight: bold\">is</span> <span style=\"color: #008000; font-weight: bold\">None</span>:\n",
       "            questions <span style=\"color: #666666\">=</span> []\n",
       "        <span style=\"color: #008000; font-weight: bold\">elif</span> <span style=\"color: #008000\">isinstance</span>(questions, (<span style=\"color: #008000\">str</span>, <span style=\"color: #008000\">int</span>)):\n",
       "            questions <span style=\"color: #666666\">=</span> [questions]\n",
       "        <span style=\"color: #008000; font-weight: bold\">if</span> participants <span style=\"color: #AA22FF; font-weight: bold\">is</span> <span style=\"color: #008000; font-weight: bold\">None</span>:\n",
       "            participants <span style=\"color: #666666\">=</span> []\n",
       "            keys <span style=\"color: #666666\">=</span> []\n",
       "        <span style=\"color: #008000; font-weight: bold\">elif</span> <span style=\"color: #008000\">isinstance</span>(participants, <span style=\"color: #008000\">str</span>):\n",
       "            <span style=\"color: #008000; font-weight: bold\">if</span> participants <span style=\"color: #666666\">==</span> <span style=\"color: #BA2121\">&#39;all&#39;</span>:\n",
       "                participants <span style=\"color: #666666\">=</span> <span style=\"color: #008000\">self</span><span style=\"color: #666666\">.</span>participants\n",
       "            <span style=\"color: #008000; font-weight: bold\">elif</span> participants <span style=\"color: #666666\">==</span> <span style=\"color: #BA2121\">&#39;avg&#39;</span>:\n",
       "                participants <span style=\"color: #666666\">=</span> [<span style=\"color: #008000\">self</span><span style=\"color: #666666\">.</span>avg_participant]\n",
       "            <span style=\"color: #008000; font-weight: bold\">else</span>:\n",
       "                participants <span style=\"color: #666666\">=</span> [participants]\n",
       "        <span style=\"color: #008000; font-weight: bold\">elif</span> <span style=\"color: #008000\">isinstance</span>(participants, <span style=\"color: #008000\">int</span>):\n",
       "            participants <span style=\"color: #666666\">=</span> [<span style=\"color: #BA2121\">f&#39;P</span><span style=\"color: #BB6688; font-weight: bold\">{</span>participants<span style=\"color: #BB6688; font-weight: bold\">}</span><span style=\"color: #BA2121\">&#39;</span>]\n",
       "        <span style=\"color: #008000; font-weight: bold\">if</span> <span style=\"color: #008000\">isinstance</span>(keys, <span style=\"color: #008000\">str</span>):\n",
       "            keys <span style=\"color: #666666\">=</span> [keys]\n",
       "        skip_keys <span style=\"color: #666666\">=</span> []\n",
       "        <span style=\"color: #008000; font-weight: bold\">for</span> key <span style=\"color: #AA22FF; font-weight: bold\">in</span> keys:\n",
       "            <span style=\"color: #008000; font-weight: bold\">if</span> <span style=\"color: #AA22FF; font-weight: bold\">not</span> (<span style=\"color: #BA2121\">&#39;forces&#39;</span> <span style=\"color: #AA22FF; font-weight: bold\">in</span> key <span style=\"color: #AA22FF; font-weight: bold\">or</span> <span style=\"color: #BA2121\">&#39;bos&#39;</span> <span style=\"color: #AA22FF; font-weight: bold\">in</span> key):\n",
       "                warn(<span style=\"color: #BA2121\">f&quot;couldn&#39;t determine corresponding lecture for trace key &quot;</span>\n",
       "                     <span style=\"color: #BA2121\">f&#39;&quot;</span><span style=\"color: #BB6688; font-weight: bold\">{</span>key<span style=\"color: #BB6688; font-weight: bold\">}</span><span style=\"color: #BA2121\">&quot;. Trace will be excluded from plot&#39;</span>)\n",
       "        keys <span style=\"color: #666666\">=</span> [k <span style=\"color: #008000; font-weight: bold\">for</span> k <span style=\"color: #AA22FF; font-weight: bold\">in</span> keys <span style=\"color: #008000; font-weight: bold\">if</span> k <span style=\"color: #AA22FF; font-weight: bold\">not</span> <span style=\"color: #AA22FF; font-weight: bold\">in</span> skip_keys]\n",
       "\n",
       "        to_plot <span style=\"color: #666666\">=</span> [<span style=\"color: #008000\">self</span><span style=\"color: #666666\">.</span>get_lecture_traj(l) <span style=\"color: #008000; font-weight: bold\">for</span> l <span style=\"color: #AA22FF; font-weight: bold\">in</span> lectures]\n",
       "        <span style=\"color: #008000; font-weight: bold\">for</span> q <span style=\"color: #AA22FF; font-weight: bold\">in</span> questions:\n",
       "            <span style=\"color: #008000; font-weight: bold\">if</span> <span style=\"color: #008000\">isinstance</span>(q, <span style=\"color: #008000\">str</span>):\n",
       "                to_plot<span style=\"color: #666666\">.</span>append(<span style=\"color: #008000\">self</span><span style=\"color: #666666\">.</span>get_question_vecs(lectures<span style=\"color: #666666\">=</span>q))\n",
       "            <span style=\"color: #008000; font-weight: bold\">else</span>:\n",
       "                to_plot<span style=\"color: #666666\">.</span>append(<span style=\"color: #008000\">self</span><span style=\"color: #666666\">.</span>get_question_vecs(qids<span style=\"color: #666666\">=</span>q))\n",
       "\n",
       "        <span style=\"color: #008000; font-weight: bold\">for</span> p <span style=\"color: #AA22FF; font-weight: bold\">in</span> participants:\n",
       "            <span style=\"color: #008000; font-weight: bold\">if</span> <span style=\"color: #008000\">isinstance</span>(p, <span style=\"color: #008000\">int</span>):\n",
       "                p <span style=\"color: #666666\">=</span> <span style=\"color: #BA2121\">f&quot;P</span><span style=\"color: #BB6688; font-weight: bold\">{</span>p<span style=\"color: #BB6688; font-weight: bold\">}</span><span style=\"color: #BA2121\">&quot;</span>\n",
       "            <span style=\"color: #008000; font-weight: bold\">if</span> <span style=\"color: #008000\">isinstance</span>(p, <span style=\"color: #008000\">str</span>):\n",
       "                p <span style=\"color: #666666\">=</span> <span style=\"color: #008000\">self</span><span style=\"color: #666666\">.</span>participants[<span style=\"color: #008000\">self</span><span style=\"color: #666666\">.</span>participants <span style=\"color: #666666\">==</span> p][<span style=\"color: #666666\">0</span>]\n",
       "            <span style=\"color: #008000; font-weight: bold\">for</span> key <span style=\"color: #AA22FF; font-weight: bold\">in</span> keys:\n",
       "                lec <span style=\"color: #666666\">=</span> <span style=\"color: #BA2121\">&#39;forces&#39;</span> <span style=\"color: #008000; font-weight: bold\">if</span> <span style=\"color: #BA2121\">&#39;forces&#39;</span> <span style=\"color: #AA22FF; font-weight: bold\">in</span> key <span style=\"color: #008000; font-weight: bold\">else</span> <span style=\"color: #BA2121\">&#39;bos&#39;</span>\n",
       "                lec_traj <span style=\"color: #666666\">=</span> <span style=\"color: #008000\">self</span><span style=\"color: #666666\">.</span>get_lecture_traj(lec)\n",
       "                trace <span style=\"color: #666666\">=</span> p<span style=\"color: #666666\">.</span>get_trace(key)\n",
       "                <span style=\"color: #408080; font-style: italic\"># weight each timepoint of lecture by knowledge</span>\n",
       "                to_plot<span style=\"color: #666666\">.</span>append(lec_traj <span style=\"color: #666666\">*</span> trace[:, np<span style=\"color: #666666\">.</span>newaxis])\n",
       "\n",
       "        <span style=\"color: #008000; font-weight: bold\">return</span> hyp<span style=\"color: #666666\">.</span>plot(to_plot, <span style=\"color: #666666\">**</span>kwargs)\n",
       "\n",
       "    <span style=\"color: #008000; font-weight: bold\">def</span> <span style=\"color: #0000FF\">save_participants</span>(<span style=\"color: #008000\">self</span>, filepaths<span style=\"color: #666666\">=</span><span style=\"color: #008000; font-weight: bold\">None</span>, allow_overwrite<span style=\"color: #666666\">=</span><span style=\"color: #008000; font-weight: bold\">False</span>):\n",
       "        to_save <span style=\"color: #666666\">=</span> <span style=\"color: #008000\">list</span>(<span style=\"color: #008000\">self</span><span style=\"color: #666666\">.</span>participants)\n",
       "        <span style=\"color: #008000; font-weight: bold\">if</span> <span style=\"color: #BA2121\">&#39;avg_participant&#39;</span> <span style=\"color: #AA22FF; font-weight: bold\">in</span> <span style=\"color: #008000\">self</span><span style=\"color: #666666\">.</span><span style=\"color: #19177C\">__dict__</span>:\n",
       "            to_save <span style=\"color: #666666\">=</span> np<span style=\"color: #666666\">.</span>append(to_save, <span style=\"color: #008000\">self</span><span style=\"color: #666666\">.</span>avg_participant)\n",
       "        <span style=\"color: #008000; font-weight: bold\">if</span> filepaths <span style=\"color: #AA22FF; font-weight: bold\">is</span> <span style=\"color: #008000; font-weight: bold\">None</span>:\n",
       "            filepaths <span style=\"color: #666666\">=</span> [<span style=\"color: #008000; font-weight: bold\">None</span>] <span style=\"color: #666666\">*</span> <span style=\"color: #008000\">len</span>(to_save)\n",
       "        <span style=\"color: #008000; font-weight: bold\">elif</span> <span style=\"color: #008000\">len</span>(filepaths) <span style=\"color: #666666\">!=</span> <span style=\"color: #008000\">len</span>(to_save):\n",
       "            msg <span style=\"color: #666666\">=</span> <span style=\"color: #BA2121\">&quot;`filepaths` must contain one path per participant&quot;</span>\n",
       "            <span style=\"color: #008000; font-weight: bold\">if</span> <span style=\"color: #008000\">self</span><span style=\"color: #666666\">.</span>avg_participant <span style=\"color: #AA22FF; font-weight: bold\">is</span> <span style=\"color: #AA22FF; font-weight: bold\">not</span> <span style=\"color: #008000; font-weight: bold\">None</span>:\n",
       "                msg <span style=\"color: #666666\">+=</span> <span style=\"color: #BA2121\">&quot; (including average participant, last)&quot;</span>\n",
       "            <span style=\"color: #008000; font-weight: bold\">raise</span> <span style=\"color: #D2413A; font-weight: bold\">ValueError</span>(msg)\n",
       "        <span style=\"color: #008000; font-weight: bold\">for</span> p, fpath <span style=\"color: #AA22FF; font-weight: bold\">in</span> <span style=\"color: #008000\">zip</span>(to_save, filepaths):\n",
       "            p<span style=\"color: #666666\">.</span>save(filepath<span style=\"color: #666666\">=</span>fpath, allow_overwrite<span style=\"color: #666666\">=</span>allow_overwrite)\n",
       "\n",
       "    <span style=\"color: #408080; font-style: italic\">##########################################</span>\n",
       "    <span style=\"color: #408080; font-style: italic\">#              DATA LOADERS              #</span>\n",
       "    <span style=\"color: #408080; font-style: italic\">##########################################</span>\n",
       "    <span style=\"color: #008000; font-weight: bold\">def</span> <span style=\"color: #0000FF\">_load_participants</span>(<span style=\"color: #008000\">self</span>):\n",
       "        participants <span style=\"color: #666666\">=</span> []\n",
       "        <span style=\"color: #008000; font-weight: bold\">for</span> pid <span style=\"color: #AA22FF; font-weight: bold\">in</span> <span style=\"color: #008000\">range</span>(<span style=\"color: #666666\">1</span>, N_PARTICIPANTS <span style=\"color: #666666\">+</span> <span style=\"color: #666666\">1</span>):\n",
       "            path <span style=\"color: #666666\">=</span> PARTICIPANTS_DIR<span style=\"color: #666666\">.</span>joinpath(<span style=\"color: #BA2121\">f&#39;P</span><span style=\"color: #BB6688; font-weight: bold\">{</span>pid<span style=\"color: #BB6688; font-weight: bold\">}</span><span style=\"color: #BA2121\">.npy&#39;</span>)\n",
       "            p <span style=\"color: #666666\">=</span> np<span style=\"color: #666666\">.</span>load(path, allow_pickle<span style=\"color: #666666\">=</span><span style=\"color: #008000; font-weight: bold\">True</span>)<span style=\"color: #666666\">.</span>item()\n",
       "            participants<span style=\"color: #666666\">.</span>append(p)\n",
       "        <span style=\"color: #008000; font-weight: bold\">return</span> np<span style=\"color: #666666\">.</span>array(participants)\n",
       "\n",
       "    <span style=\"color: #008000; font-weight: bold\">def</span> <span style=\"color: #0000FF\">_load_avg_participant</span>(<span style=\"color: #008000\">self</span>):\n",
       "        path <span style=\"color: #666666\">=</span> PARTICIPANTS_DIR<span style=\"color: #666666\">.</span>joinpath(<span style=\"color: #BA2121\">&#39;avg.npy&#39;</span>)\n",
       "        <span style=\"color: #008000; font-weight: bold\">return</span> np<span style=\"color: #666666\">.</span>load(path, allow_pickle<span style=\"color: #666666\">=</span><span style=\"color: #008000; font-weight: bold\">True</span>)<span style=\"color: #666666\">.</span>item()\n",
       "\n",
       "    <span style=\"color: #008000; font-weight: bold\">def</span> <span style=\"color: #0000FF\">_load_transcript</span>(<span style=\"color: #008000\">self</span>, lecture):\n",
       "        path <span style=\"color: #666666\">=</span> RAW_DIR<span style=\"color: #666666\">.</span>joinpath(<span style=\"color: #BA2121\">f&#39;</span><span style=\"color: #BB6688; font-weight: bold\">{</span>lecture<span style=\"color: #BB6688; font-weight: bold\">}</span><span style=\"color: #BA2121\">_transcript_timestamped.txt&#39;</span>)\n",
       "        <span style=\"color: #008000; font-weight: bold\">with</span> path<span style=\"color: #666666\">.</span>open() <span style=\"color: #008000; font-weight: bold\">as</span> f:\n",
       "            <span style=\"color: #008000; font-weight: bold\">return</span> f<span style=\"color: #666666\">.</span>read()\n",
       "\n",
       "    <span style=\"color: #008000; font-weight: bold\">def</span> <span style=\"color: #0000FF\">_load_questions</span>(<span style=\"color: #008000\">self</span>):\n",
       "        path <span style=\"color: #666666\">=</span> RAW_DIR<span style=\"color: #666666\">.</span>joinpath(<span style=\"color: #BA2121\">&#39;questions.tsv&#39;</span>)\n",
       "        <span style=\"color: #008000; font-weight: bold\">return</span> pd<span style=\"color: #666666\">.</span>read_csv(path,\n",
       "                           sep<span style=\"color: #666666\">=</span><span style=\"color: #BA2121\">&#39;</span><span style=\"color: #BB6622; font-weight: bold\">\\t</span><span style=\"color: #BA2121\">&#39;</span>,\n",
       "                           names<span style=\"color: #666666\">=</span>[<span style=\"color: #BA2121\">&#39;index&#39;</span>, <span style=\"color: #BA2121\">&#39;lecture&#39;</span>, <span style=\"color: #BA2121\">&#39;question&#39;</span>, <span style=\"color: #BA2121\">&#39;A&#39;</span>, <span style=\"color: #BA2121\">&#39;B&#39;</span>, <span style=\"color: #BA2121\">&#39;C&#39;</span>, <span style=\"color: #BA2121\">&#39;D&#39;</span>],\n",
       "                           index_col<span style=\"color: #666666\">=</span><span style=\"color: #BA2121\">&#39;index&#39;</span>)\n",
       "\n",
       "    <span style=\"color: #008000; font-weight: bold\">def</span> <span style=\"color: #0000FF\">_load_windows</span>(<span style=\"color: #008000\">self</span>, lecture):\n",
       "        <span style=\"color: #008000; font-weight: bold\">return</span> np<span style=\"color: #666666\">.</span>load(RAW_DIR<span style=\"color: #666666\">.</span>joinpath(<span style=\"color: #BA2121\">f&#39;</span><span style=\"color: #BB6688; font-weight: bold\">{</span>lecture<span style=\"color: #BB6688; font-weight: bold\">}</span><span style=\"color: #BA2121\">_windows.npy&#39;</span>))\n",
       "\n",
       "    <span style=\"color: #008000; font-weight: bold\">def</span> <span style=\"color: #0000FF\">_load_topic_vectors</span>(<span style=\"color: #008000\">self</span>, file_key):\n",
       "        filename_map <span style=\"color: #666666\">=</span> {\n",
       "            <span style=\"color: #BA2121\">&#39;forces&#39;</span>: <span style=\"color: #BA2121\">&#39;forces_lecture&#39;</span>,\n",
       "            <span style=\"color: #BA2121\">&#39;bos&#39;</span>: <span style=\"color: #BA2121\">&#39;bos_lecture&#39;</span>,\n",
       "            <span style=\"color: #BA2121\">&#39;questions&#39;</span>: <span style=\"color: #BA2121\">&#39;all_questions&#39;</span>,\n",
       "            <span style=\"color: #BA2121\">&#39;answers&#39;</span>: <span style=\"color: #BA2121\">&#39;all_answers&#39;</span>\n",
       "        }\n",
       "        <span style=\"color: #008000; font-weight: bold\">return</span> np<span style=\"color: #666666\">.</span>load(TRAJS_DIR<span style=\"color: #666666\">.</span>joinpath(<span style=\"color: #BA2121\">f&#39;</span><span style=\"color: #BB6688; font-weight: bold\">{</span>filename_map[file_key]<span style=\"color: #BB6688; font-weight: bold\">}</span><span style=\"color: #BA2121\">.npy&#39;</span>))\n",
       "\n",
       "    <span style=\"color: #008000; font-weight: bold\">def</span> <span style=\"color: #0000FF\">_load_embedding</span>(<span style=\"color: #008000\">self</span>, file_key):\n",
       "        filename_map <span style=\"color: #666666\">=</span> {\n",
       "            <span style=\"color: #BA2121\">&#39;forces&#39;</span>: <span style=\"color: #BA2121\">&#39;forces_lecture&#39;</span>,\n",
       "            <span style=\"color: #BA2121\">&#39;bos&#39;</span>: <span style=\"color: #BA2121\">&#39;bos_lecture&#39;</span>,\n",
       "            <span style=\"color: #BA2121\">&#39;questions&#39;</span>: <span style=\"color: #BA2121\">&#39;questions&#39;</span>,\n",
       "        }\n",
       "        <span style=\"color: #008000; font-weight: bold\">return</span> np<span style=\"color: #666666\">.</span>load(EMBS_DIR<span style=\"color: #666666\">.</span>joinpath(<span style=\"color: #BA2121\">f&#39;</span><span style=\"color: #BB6688; font-weight: bold\">{</span>filename_map[file_key]<span style=\"color: #BB6688; font-weight: bold\">}</span><span style=\"color: #BA2121\">.npy&#39;</span>))\n",
       "\n",
       "    <span style=\"color: #008000; font-weight: bold\">def</span> <span style=\"color: #0000FF\">_load_fit_model</span>(<span style=\"color: #008000\">self</span>, model):\n",
       "        <span style=\"color: #008000; font-weight: bold\">return</span> np<span style=\"color: #666666\">.</span>load(MODELS_DIR<span style=\"color: #666666\">.</span>joinpath(<span style=\"color: #BA2121\">f&#39;fit_</span><span style=\"color: #BB6688; font-weight: bold\">{</span>model<span style=\"color: #BB6688; font-weight: bold\">}</span><span style=\"color: #BA2121\">.npy&#39;</span>), allow_pickle<span style=\"color: #666666\">=</span><span style=\"color: #008000; font-weight: bold\">True</span>)<span style=\"color: #666666\">.</span>item()\n",
       "\n",
       "    <span style=\"color: #008000; font-weight: bold\">def</span> <span style=\"color: #0000FF\">_load_wordle_mask</span>(<span style=\"color: #008000\">self</span>):\n",
       "        <span style=\"color: #008000; font-weight: bold\">return</span> np<span style=\"color: #666666\">.</span>array(open_image(DATA_DIR<span style=\"color: #666666\">.</span>joinpath(<span style=\"color: #BA2121\">&#39;wordle-mask.jpg&#39;</span>)))\n",
       "</pre></div>\n"
      ],
      "text/plain": [
       "<IPython.core.display.HTML object>"
      ]
     },
     "execution_count": 27,
     "metadata": {},
     "output_type": "execute_result"
    }
   ],
   "source": [
    "show_source(Experiment)"
   ]
  },
  {
   "cell_type": "code",
   "execution_count": 28,
   "metadata": {
    "ExecuteTime": {
     "end_time": "2021-01-12T20:13:04.121033Z",
     "start_time": "2021-01-12T20:13:04.064960Z"
    },
    "scrolled": true
   },
   "outputs": [
    {
     "data": {
      "text/html": [
       "<div class=\"highlight\" style=\"background: #f8f8f8\"><pre style=\"line-height: 125%;\"><span></span><span style=\"color: #008000; font-weight: bold\">def</span> <span style=\"color: #0000FF\">preprocess_text</span>(textlist, man_changes<span style=\"color: #666666\">=</span><span style=\"color: #008000; font-weight: bold\">None</span>):\n",
       "    <span style=\"color: #BA2121; font-style: italic\">&quot;&quot;&quot;</span>\n",
       "<span style=\"color: #BA2121; font-style: italic\">    Handles text preprocessing of lecture transcripts and quiz questions</span>\n",
       "<span style=\"color: #BA2121; font-style: italic\">    &amp; answers.  Performs case and whitespace normalization, punctuation</span>\n",
       "<span style=\"color: #BA2121; font-style: italic\">    and non-alphabetic character removal, stop word removal,</span>\n",
       "<span style=\"color: #BA2121; font-style: italic\">    POS tagging, and lemmatization.</span>\n",
       "\n",
       "<span style=\"color: #BA2121; font-style: italic\">    Occasionally, the Treebank POS tagger mis-tags a word, which causes</span>\n",
       "<span style=\"color: #BA2121; font-style: italic\">    WordNet&#39;s &quot;Morphy&quot; to apply the morphologocal transformations and</span>\n",
       "<span style=\"color: #BA2121; font-style: italic\">    detachment rules for the wrong syntactic category, and fail to</span>\n",
       "<span style=\"color: #BA2121; font-style: italic\">    lemmatize the word.  The function attempts to handle these</span>\n",
       "<span style=\"color: #BA2121; font-style: italic\">    instances and can optionally record corrections made this way for</span>\n",
       "<span style=\"color: #BA2121; font-style: italic\">    visual inspection to ensure no improper substitutions were made.</span>\n",
       "\n",
       "<span style=\"color: #BA2121; font-style: italic\">    Parameters</span>\n",
       "<span style=\"color: #BA2121; font-style: italic\">    ----------</span>\n",
       "<span style=\"color: #BA2121; font-style: italic\">    textlist : list of str</span>\n",
       "<span style=\"color: #BA2121; font-style: italic\">        List of text samples (lecture transcript lines, quiz questions,</span>\n",
       "<span style=\"color: #BA2121; font-style: italic\">        or quiz answers) to be processed.</span>\n",
       "<span style=\"color: #BA2121; font-style: italic\">    man_changes : collections.defaultdict, optional</span>\n",
       "<span style=\"color: #BA2121; font-style: italic\">        A `collections.defaultdict` instance with `default_factory=int`,</span>\n",
       "<span style=\"color: #BA2121; font-style: italic\">        used for recording instances where lemmatization was performed</span>\n",
       "<span style=\"color: #BA2121; font-style: italic\">        manually. If provided, keys of (word, lemma) will be added or</span>\n",
       "<span style=\"color: #BA2121; font-style: italic\">        incremented for each manual replacement.</span>\n",
       "\n",
       "<span style=\"color: #BA2121; font-style: italic\">    Returns</span>\n",
       "<span style=\"color: #BA2121; font-style: italic\">    -------</span>\n",
       "<span style=\"color: #BA2121; font-style: italic\">    processed_textlist : list of str</span>\n",
       "<span style=\"color: #BA2121; font-style: italic\">        The original `textlist` with preprocessing steps applied to each</span>\n",
       "<span style=\"color: #BA2121; font-style: italic\">        element.</span>\n",
       "\n",
       "<span style=\"color: #BA2121; font-style: italic\">    &quot;&quot;&quot;</span>\n",
       "    <span style=\"color: #008000; font-weight: bold\">if</span> man_changes <span style=\"color: #AA22FF; font-weight: bold\">is</span> <span style=\"color: #AA22FF; font-weight: bold\">not</span> <span style=\"color: #008000; font-weight: bold\">None</span>:\n",
       "        <span style=\"color: #008000; font-weight: bold\">assert</span> <span style=\"color: #008000\">isinstance</span>(man_changes, defaultdict)\n",
       "\n",
       "    <span style=\"color: #408080; font-style: italic\"># define some constants only used in this function:</span>\n",
       "    lemmatizer <span style=\"color: #666666\">=</span> WordNetLemmatizer()\n",
       "    <span style=\"color: #408080; font-style: italic\"># suffixes to detect for manual lemmatization</span>\n",
       "    man_lemmatize_sfxs <span style=\"color: #666666\">=</span> (<span style=\"color: #BA2121\">&#39;s&#39;</span>, <span style=\"color: #BA2121\">&#39;ing&#39;</span>, <span style=\"color: #BA2121\">&#39;ly&#39;</span>, <span style=\"color: #BA2121\">&#39;ed&#39;</span>, <span style=\"color: #BA2121\">&#39;er&#39;</span>, <span style=\"color: #BA2121\">&#39;est&#39;</span>)\n",
       "    <span style=\"color: #408080; font-style: italic\"># mapping between Treebank and WordNet POS tags</span>\n",
       "    tagset_mapping <span style=\"color: #666666\">=</span> defaultdict(<span style=\"color: #008000; font-weight: bold\">lambda</span>: <span style=\"color: #BA2121\">&#39;n&#39;</span>)\n",
       "    <span style=\"color: #008000; font-weight: bold\">for</span> tb_tag, wn_tag <span style=\"color: #AA22FF; font-weight: bold\">in</span> <span style=\"color: #008000\">zip</span>([<span style=\"color: #BA2121\">&#39;N&#39;</span>, <span style=\"color: #BA2121\">&#39;P&#39;</span>, <span style=\"color: #BA2121\">&#39;V&#39;</span>, <span style=\"color: #BA2121\">&#39;J&#39;</span>, <span style=\"color: #BA2121\">&#39;D&#39;</span>, <span style=\"color: #BA2121\">&#39;R&#39;</span>],\n",
       "                              [<span style=\"color: #BA2121\">&#39;n&#39;</span>, <span style=\"color: #BA2121\">&#39;n&#39;</span>, <span style=\"color: #BA2121\">&#39;v&#39;</span>, <span style=\"color: #BA2121\">&#39;a&#39;</span>, <span style=\"color: #BA2121\">&#39;a&#39;</span>, <span style=\"color: #BA2121\">&#39;r&#39;</span>]):\n",
       "        tagset_mapping[tb_tag] <span style=\"color: #666666\">=</span> wn_tag\n",
       "\n",
       "    <span style=\"color: #408080; font-style: italic\"># indices to map processed words back to correct textlist item</span>\n",
       "    chunk_ix <span style=\"color: #666666\">=</span> [ix <span style=\"color: #008000; font-weight: bold\">for</span> ix, chunk <span style=\"color: #AA22FF; font-weight: bold\">in</span> <span style=\"color: #008000\">enumerate</span>(textlist) <span style=\"color: #008000; font-weight: bold\">for</span> _ <span style=\"color: #AA22FF; font-weight: bold\">in</span> chunk<span style=\"color: #666666\">.</span>split()]\n",
       "    processed_chunks <span style=\"color: #666666\">=</span> [[] <span style=\"color: #008000; font-weight: bold\">for</span> i <span style=\"color: #AA22FF; font-weight: bold\">in</span> textlist]\n",
       "    <span style=\"color: #408080; font-style: italic\"># clean spacing, normalize case, strip puncutation</span>\n",
       "    <span style=\"color: #408080; font-style: italic\"># (temporarily leave punctuation useful for POS tagging)</span>\n",
       "    full_text <span style=\"color: #666666\">=</span> <span style=\"color: #BA2121\">&#39; &#39;</span><span style=\"color: #666666\">.</span>join(textlist)<span style=\"color: #666666\">.</span>lower()\n",
       "    punc_stripped <span style=\"color: #666666\">=</span> re<span style=\"color: #666666\">.</span>sub(<span style=\"color: #BA2121\">&quot;[^a-zA-Z\\s&#39;-]+&quot;</span>, <span style=\"color: #BA2121\">&#39;&#39;</span>, full_text)\n",
       "    <span style=\"color: #408080; font-style: italic\"># POS tagging (works better on full transcript, more context provided)</span>\n",
       "    words_tags <span style=\"color: #666666\">=</span> pos_tag(punc_stripped<span style=\"color: #666666\">.</span>split())\n",
       "\n",
       "    <span style=\"color: #008000; font-weight: bold\">for</span> i, (word, tag) <span style=\"color: #AA22FF; font-weight: bold\">in</span> <span style=\"color: #008000\">enumerate</span>(words_tags):\n",
       "        <span style=\"color: #408080; font-style: italic\"># discard contraction clitics (always stop words) post-tagging</span>\n",
       "        <span style=\"color: #408080; font-style: italic\"># irregular stems (don, isn, etc.) handled by stop word removal</span>\n",
       "        <span style=\"color: #008000; font-weight: bold\">if</span> <span style=\"color: #BA2121\">&quot;&#39;&quot;</span> <span style=\"color: #AA22FF; font-weight: bold\">in</span> word:\n",
       "            word <span style=\"color: #666666\">=</span> word<span style=\"color: #666666\">.</span>split(<span style=\"color: #BA2121\">&quot;&#39;&quot;</span>)[<span style=\"color: #666666\">0</span>]\n",
       "\n",
       "        <span style=\"color: #408080; font-style: italic\"># remove stop words &amp; digits</span>\n",
       "        <span style=\"color: #008000; font-weight: bold\">if</span> word <span style=\"color: #AA22FF; font-weight: bold\">in</span> STOP_WORDS <span style=\"color: #AA22FF; font-weight: bold\">or</span> word[<span style=\"color: #666666\">0</span>]<span style=\"color: #666666\">.</span>isdigit():\n",
       "            <span style=\"color: #008000; font-weight: bold\">continue</span>\n",
       "\n",
       "        <span style=\"color: #408080; font-style: italic\"># convert Treebank POS tags to WordNet POS tags</span>\n",
       "        tag <span style=\"color: #666666\">=</span> tagset_mapping[tag[<span style=\"color: #666666\">0</span>]]\n",
       "        <span style=\"color: #408080; font-style: italic\"># lemmatize</span>\n",
       "        lemma <span style=\"color: #666666\">=</span> lemmatizer<span style=\"color: #666666\">.</span>lemmatize(word, tag)\n",
       "\n",
       "        <span style=\"color: #408080; font-style: italic\"># handles most cases where POS tagger misidentifies a word, causing</span>\n",
       "        <span style=\"color: #408080; font-style: italic\"># WordNet Morphy to use the wrong syntactic transformation and fail</span>\n",
       "        <span style=\"color: #008000; font-weight: bold\">if</span> (\n",
       "                lemma <span style=\"color: #666666\">==</span> word\n",
       "                <span style=\"color: #AA22FF; font-weight: bold\">and</span> <span style=\"color: #008000\">any</span>(word<span style=\"color: #666666\">.</span>endswith(sfx) <span style=\"color: #008000; font-weight: bold\">for</span> sfx <span style=\"color: #AA22FF; font-weight: bold\">in</span> man_lemmatize_sfxs)\n",
       "                <span style=\"color: #AA22FF; font-weight: bold\">and</span> <span style=\"color: #008000\">len</span>(word) <span style=\"color: #666666\">&gt;</span> <span style=\"color: #666666\">4</span>\n",
       "        ):\n",
       "            lemma <span style=\"color: #666666\">=</span> synset_match(word)\n",
       "            <span style=\"color: #008000; font-weight: bold\">if</span> lemma <span style=\"color: #666666\">!=</span> word <span style=\"color: #AA22FF; font-weight: bold\">and</span> man_changes <span style=\"color: #AA22FF; font-weight: bold\">is</span> <span style=\"color: #AA22FF; font-weight: bold\">not</span> <span style=\"color: #008000; font-weight: bold\">None</span>:\n",
       "                <span style=\"color: #408080; font-style: italic\"># record changes made this way to spot-check later</span>\n",
       "                man_changes[(word, lemma)] <span style=\"color: #666666\">+=</span> <span style=\"color: #666666\">1</span>\n",
       "\n",
       "        <span style=\"color: #408080; font-style: italic\"># split on hyphens, place back in correct text chunk</span>\n",
       "        processed_chunks[chunk_ix[i]]<span style=\"color: #666666\">.</span>append(lemma<span style=\"color: #666666\">.</span>replace(<span style=\"color: #BA2121\">&#39;-&#39;</span>, <span style=\"color: #BA2121\">&#39; &#39;</span>))\n",
       "\n",
       "    <span style=\"color: #408080; font-style: italic\"># join words within each chunk</span>\n",
       "    <span style=\"color: #008000; font-weight: bold\">return</span> [<span style=\"color: #BA2121\">&#39; &#39;</span><span style=\"color: #666666\">.</span>join(c) <span style=\"color: #008000; font-weight: bold\">for</span> c <span style=\"color: #AA22FF; font-weight: bold\">in</span> processed_chunks]\n",
       "</pre></div>\n"
      ],
      "text/plain": [
       "<IPython.core.display.HTML object>"
      ]
     },
     "execution_count": 28,
     "metadata": {},
     "output_type": "execute_result"
    }
   ],
   "source": [
    "show_source(preprocess_text)"
   ]
  },
  {
   "cell_type": "code",
   "execution_count": 29,
   "metadata": {
    "ExecuteTime": {
     "end_time": "2021-01-12T20:13:07.188534Z",
     "start_time": "2021-01-12T20:13:07.158016Z"
    },
    "scrolled": true
   },
   "outputs": [
    {
     "data": {
      "text/html": [
       "<div class=\"highlight\" style=\"background: #f8f8f8\"><pre style=\"line-height: 125%;\"><span></span><span style=\"color: #008000; font-weight: bold\">def</span> <span style=\"color: #0000FF\">synset_match</span>(word, min_similarity<span style=\"color: #666666\">=0.6</span>):\n",
       "    <span style=\"color: #BA2121; font-style: italic\">&quot;&quot;&quot;</span>\n",
       "<span style=\"color: #BA2121; font-style: italic\">    Attempts to manually identify the proper lemma for a given `word`.</span>\n",
       "<span style=\"color: #BA2121; font-style: italic\">    Searches WordNet&#39;s database of cognitive synonyms for the provided</span>\n",
       "<span style=\"color: #BA2121; font-style: italic\">    `word` (its &quot;synset&quot;) as well as the pertainyms of each word in the</span>\n",
       "<span style=\"color: #BA2121; font-style: italic\">    synset (to handle adverb-adjective relationships).</span>\n",
       "\n",
       "<span style=\"color: #BA2121; font-style: italic\">    Works based on the assumption that the correct lemma is the most</span>\n",
       "<span style=\"color: #BA2121; font-style: italic\">    similar choice (via `difflib.SequenceMatcher`) to the original word</span>\n",
       "<span style=\"color: #BA2121; font-style: italic\">    *that is also shorter than the original word*.</span>\n",
       "\n",
       "<span style=\"color: #BA2121; font-style: italic\">    Parameters</span>\n",
       "<span style=\"color: #BA2121; font-style: italic\">    ----------</span>\n",
       "<span style=\"color: #BA2121; font-style: italic\">    word : str</span>\n",
       "<span style=\"color: #BA2121; font-style: italic\">        The word to be lemmatized.</span>\n",
       "<span style=\"color: #BA2121; font-style: italic\">    min_similarity : float, optional</span>\n",
       "<span style=\"color: #BA2121; font-style: italic\">        The minimum similarity to the provided word for a possible lemma</span>\n",
       "<span style=\"color: #BA2121; font-style: italic\">        to be considered correct (default: 0.6).</span>\n",
       "\n",
       "<span style=\"color: #BA2121; font-style: italic\">    Returns</span>\n",
       "<span style=\"color: #BA2121; font-style: italic\">    -------</span>\n",
       "<span style=\"color: #BA2121; font-style: italic\">    lemma : str</span>\n",
       "<span style=\"color: #BA2121; font-style: italic\">        If a lemma for the provided word was identified, it is returned.</span>\n",
       "<span style=\"color: #BA2121; font-style: italic\">        Otherwise, the original word is returned.</span>\n",
       "\n",
       "<span style=\"color: #BA2121; font-style: italic\">    &quot;&quot;&quot;</span>\n",
       "    possible_matches <span style=\"color: #666666\">=</span> []\n",
       "    <span style=\"color: #008000; font-weight: bold\">for</span> synset <span style=\"color: #AA22FF; font-weight: bold\">in</span> wordnet<span style=\"color: #666666\">.</span>synsets(word):\n",
       "        <span style=\"color: #008000; font-weight: bold\">for</span> lemma <span style=\"color: #AA22FF; font-weight: bold\">in</span> synset<span style=\"color: #666666\">.</span>lemmas():\n",
       "            possible_matches<span style=\"color: #666666\">.</span>append(lemma<span style=\"color: #666666\">.</span>name())\n",
       "            <span style=\"color: #008000; font-weight: bold\">for</span> pert <span style=\"color: #AA22FF; font-weight: bold\">in</span> lemma<span style=\"color: #666666\">.</span>pertainyms():\n",
       "                possible_matches<span style=\"color: #666666\">.</span>append(pert<span style=\"color: #666666\">.</span>name())\n",
       "\n",
       "    possible_matches <span style=\"color: #666666\">=</span> <span style=\"color: #008000\">list</span>(<span style=\"color: #008000\">set</span>(possible_matches))\n",
       "    possible_matches <span style=\"color: #666666\">=</span> [m<span style=\"color: #666666\">.</span>lower() <span style=\"color: #008000; font-weight: bold\">for</span> m <span style=\"color: #AA22FF; font-weight: bold\">in</span> possible_matches <span style=\"color: #008000; font-weight: bold\">if</span> <span style=\"color: #008000\">len</span>(m) <span style=\"color: #666666\">&lt;=</span> <span style=\"color: #008000\">len</span>(word)]\n",
       "    <span style=\"color: #408080; font-style: italic\"># sort by similarity to word</span>\n",
       "    close_matches <span style=\"color: #666666\">=</span> get_close_matches(word, possible_matches, n<span style=\"color: #666666\">=2</span>, cutoff<span style=\"color: #666666\">=</span>min_similarity)\n",
       "    <span style=\"color: #008000; font-weight: bold\">if</span> <span style=\"color: #008000\">len</span>(close_matches) <span style=\"color: #666666\">==</span> <span style=\"color: #666666\">0</span>:\n",
       "        <span style=\"color: #008000; font-weight: bold\">return</span> word\n",
       "    <span style=\"color: #408080; font-style: italic\"># if original word was in synset lemmas and the second closest possibility is shorter, use that</span>\n",
       "    <span style=\"color: #008000; font-weight: bold\">elif</span> (close_matches[<span style=\"color: #666666\">0</span>] <span style=\"color: #666666\">==</span> word) <span style=\"color: #AA22FF; font-weight: bold\">and</span> (<span style=\"color: #008000\">len</span>(close_matches) <span style=\"color: #666666\">&gt;</span> <span style=\"color: #666666\">1</span>) <span style=\"color: #AA22FF; font-weight: bold\">and</span> (<span style=\"color: #008000\">len</span>(close_matches[<span style=\"color: #666666\">1</span>]) <span style=\"color: #666666\">&lt;</span> <span style=\"color: #008000\">len</span>(word)):\n",
       "        <span style=\"color: #008000; font-weight: bold\">return</span> close_matches[<span style=\"color: #666666\">1</span>]\n",
       "    <span style=\"color: #008000; font-weight: bold\">else</span>:\n",
       "        <span style=\"color: #008000; font-weight: bold\">return</span> close_matches[<span style=\"color: #666666\">0</span>]\n",
       "</pre></div>\n"
      ],
      "text/plain": [
       "<IPython.core.display.HTML object>"
      ]
     },
     "execution_count": 29,
     "metadata": {},
     "output_type": "execute_result"
    }
   ],
   "source": [
    "show_source(synset_match)"
   ]
  },
  {
   "cell_type": "code",
   "execution_count": 30,
   "metadata": {
    "ExecuteTime": {
     "end_time": "2021-01-12T20:13:07.897675Z",
     "start_time": "2021-01-12T20:13:07.872789Z"
    },
    "scrolled": true
   },
   "outputs": [
    {
     "data": {
      "text/html": [
       "<div class=\"highlight\" style=\"background: #f8f8f8\"><pre style=\"line-height: 125%;\"><span></span><span style=\"color: #008000; font-weight: bold\">def</span> <span style=\"color: #0000FF\">parse_windows</span>(transcript, wsize<span style=\"color: #666666\">=</span>LECTURE_WSIZE):\n",
       "    <span style=\"color: #BA2121; font-style: italic\">&quot;&quot;&quot;</span>\n",
       "<span style=\"color: #BA2121; font-style: italic\">    Formats lecture transcripts as overlapping sliding windows to feed</span>\n",
       "<span style=\"color: #BA2121; font-style: italic\">    as documents to topic model.  Also assigns a timestamp to each</span>\n",
       "<span style=\"color: #BA2121; font-style: italic\">    window used for interpolating the topic trajectory.</span>\n",
       "\n",
       "<span style=\"color: #BA2121; font-style: italic\">    Parameters</span>\n",
       "<span style=\"color: #BA2121; font-style: italic\">    ----------</span>\n",
       "<span style=\"color: #BA2121; font-style: italic\">    transcript : str</span>\n",
       "<span style=\"color: #BA2121; font-style: italic\">        The lecture transcript as a single string, with alternating,</span>\n",
       "<span style=\"color: #BA2121; font-style: italic\">        `\\n`-separated lines of timestamps and transcribed speech.</span>\n",
       "<span style=\"color: #BA2121; font-style: italic\">    wsize : int, optional</span>\n",
       "<span style=\"color: #BA2121; font-style: italic\">        The number of text lines comprising each sliding window (with</span>\n",
       "<span style=\"color: #BA2121; font-style: italic\">        tapering window sizes at the beginning and end).  Defaults to</span>\n",
       "<span style=\"color: #BA2121; font-style: italic\">        the window size chosen by the parameter optimization.</span>\n",
       "\n",
       "<span style=\"color: #BA2121; font-style: italic\">    Returns</span>\n",
       "<span style=\"color: #BA2121; font-style: italic\">    -------</span>\n",
       "<span style=\"color: #BA2121; font-style: italic\">    windows : list of str</span>\n",
       "<span style=\"color: #BA2121; font-style: italic\">        The overlapping sliding windows.</span>\n",
       "<span style=\"color: #BA2121; font-style: italic\">    timestamps : list of int</span>\n",
       "<span style=\"color: #BA2121; font-style: italic\">        The timestamps corresponding to each window.</span>\n",
       "\n",
       "<span style=\"color: #BA2121; font-style: italic\">    &quot;&quot;&quot;</span>\n",
       "    lines <span style=\"color: #666666\">=</span> transcript<span style=\"color: #666666\">.</span>splitlines()\n",
       "    text_lines <span style=\"color: #666666\">=</span> lines[<span style=\"color: #666666\">1</span>::<span style=\"color: #666666\">2</span>]\n",
       "    ts_lines <span style=\"color: #666666\">=</span> <span style=\"color: #008000\">list</span>(<span style=\"color: #008000\">map</span>(_ts_to_sec, lines[::<span style=\"color: #666666\">2</span>]))\n",
       "    windows <span style=\"color: #666666\">=</span> []\n",
       "    timestamps <span style=\"color: #666666\">=</span> []\n",
       "    <span style=\"color: #008000; font-weight: bold\">for</span> ix <span style=\"color: #AA22FF; font-weight: bold\">in</span> <span style=\"color: #008000\">range</span>(<span style=\"color: #666666\">1</span>, wsize):\n",
       "        start, end <span style=\"color: #666666\">=</span> <span style=\"color: #666666\">0</span>, ix\n",
       "        windows<span style=\"color: #666666\">.</span>append(<span style=\"color: #BA2121\">&#39; &#39;</span><span style=\"color: #666666\">.</span>join(text_lines[start:end]))\n",
       "        timestamps<span style=\"color: #666666\">.</span>append((ts_lines[start] <span style=\"color: #666666\">+</span> ts_lines[end <span style=\"color: #666666\">-</span> <span style=\"color: #666666\">1</span>]) <span style=\"color: #666666\">/</span> <span style=\"color: #666666\">2</span>)\n",
       "\n",
       "    <span style=\"color: #008000; font-weight: bold\">for</span> ix <span style=\"color: #AA22FF; font-weight: bold\">in</span> <span style=\"color: #008000\">range</span>(<span style=\"color: #008000\">len</span>(ts_lines)):\n",
       "        start <span style=\"color: #666666\">=</span> ix\n",
       "        end <span style=\"color: #666666\">=</span> ix <span style=\"color: #666666\">+</span> wsize <span style=\"color: #008000; font-weight: bold\">if</span> ix <span style=\"color: #666666\">+</span> wsize <span style=\"color: #666666\">&lt;=</span> <span style=\"color: #008000\">len</span>(text_lines) <span style=\"color: #008000; font-weight: bold\">else</span> <span style=\"color: #008000\">len</span>(text_lines)\n",
       "        windows<span style=\"color: #666666\">.</span>append(<span style=\"color: #BA2121\">&#39; &#39;</span><span style=\"color: #666666\">.</span>join(text_lines[start:end]))\n",
       "        timestamps<span style=\"color: #666666\">.</span>append((ts_lines[start] <span style=\"color: #666666\">+</span> ts_lines[end <span style=\"color: #666666\">-</span> <span style=\"color: #666666\">1</span>]) <span style=\"color: #666666\">/</span> <span style=\"color: #666666\">2</span>)\n",
       "\n",
       "    <span style=\"color: #008000; font-weight: bold\">return</span> windows, timestamps\n",
       "</pre></div>\n"
      ],
      "text/plain": [
       "<IPython.core.display.HTML object>"
      ]
     },
     "execution_count": 30,
     "metadata": {},
     "output_type": "execute_result"
    }
   ],
   "source": [
    "show_source(parse_windows)"
   ]
  },
  {
   "cell_type": "code",
   "execution_count": 31,
   "metadata": {
    "ExecuteTime": {
     "end_time": "2021-01-12T20:13:08.941549Z",
     "start_time": "2021-01-12T20:13:08.922651Z"
    }
   },
   "outputs": [
    {
     "data": {
      "text/html": [
       "<div class=\"highlight\" style=\"background: #f8f8f8\"><pre style=\"line-height: 125%;\"><span></span><span style=\"color: #008000; font-weight: bold\">def</span> <span style=\"color: #0000FF\">_ts_to_sec</span>(ts):\n",
       "    <span style=\"color: #408080; font-style: italic\"># converts timestamp of elapsed time from &quot;MM:SS&quot; format to scalar</span>\n",
       "    mins, secs <span style=\"color: #666666\">=</span> ts<span style=\"color: #666666\">.</span>split(<span style=\"color: #BA2121\">&#39;:&#39;</span>)\n",
       "    <span style=\"color: #008000; font-weight: bold\">return</span> timedelta(minutes<span style=\"color: #666666\">=</span><span style=\"color: #008000\">int</span>(mins), seconds<span style=\"color: #666666\">=</span><span style=\"color: #008000\">int</span>(secs))<span style=\"color: #666666\">.</span>total_seconds()\n",
       "</pre></div>\n"
      ],
      "text/plain": [
       "<IPython.core.display.HTML object>"
      ]
     },
     "execution_count": 31,
     "metadata": {},
     "output_type": "execute_result"
    }
   ],
   "source": [
    "show_source(_ts_to_sec)"
   ]
  },
  {
   "cell_type": "code",
   "execution_count": 32,
   "metadata": {
    "ExecuteTime": {
     "end_time": "2021-01-12T20:13:10.926543Z",
     "start_time": "2021-01-12T20:13:10.905654Z"
    },
    "scrolled": true
   },
   "outputs": [
    {
     "data": {
      "text/html": [
       "<div class=\"highlight\" style=\"background: #f8f8f8\"><pre style=\"line-height: 125%;\"><span></span><span style=\"color: #008000; font-weight: bold\">def</span> <span style=\"color: #0000FF\">interp_lecture</span>(lec_traj, timestamps):\n",
       "    <span style=\"color: #BA2121; font-style: italic\">&quot;&quot;&quot;</span>\n",
       "<span style=\"color: #BA2121; font-style: italic\">    Interpolates a lecture&#39;s topic trajectory to a resolution of 1</span>\n",
       "<span style=\"color: #BA2121; font-style: italic\">    vector per second.</span>\n",
       "\n",
       "<span style=\"color: #BA2121; font-style: italic\">    Parameters</span>\n",
       "<span style=\"color: #BA2121; font-style: italic\">    ----------</span>\n",
       "<span style=\"color: #BA2121; font-style: italic\">    lec_traj : numpy.ndarray</span>\n",
       "<span style=\"color: #BA2121; font-style: italic\">        A (timepoints, topics) array with a topic vector for each</span>\n",
       "<span style=\"color: #BA2121; font-style: italic\">        sliding window.</span>\n",
       "<span style=\"color: #BA2121; font-style: italic\">    timestamps : array_like</span>\n",
       "<span style=\"color: #BA2121; font-style: italic\">        A 1-D array of timestamps for each sliding window.</span>\n",
       "\n",
       "<span style=\"color: #BA2121; font-style: italic\">    Returns</span>\n",
       "<span style=\"color: #BA2121; font-style: italic\">    -------</span>\n",
       "<span style=\"color: #BA2121; font-style: italic\">    traj_interp : numpy.ndarray</span>\n",
       "<span style=\"color: #BA2121; font-style: italic\">        A (timepoints, topics) array with a topic vector for each second.</span>\n",
       "\n",
       "<span style=\"color: #BA2121; font-style: italic\">    &quot;&quot;&quot;</span>\n",
       "    new_tpts <span style=\"color: #666666\">=</span> np<span style=\"color: #666666\">.</span>arange(timestamps[<span style=\"color: #666666\">-1</span>])\n",
       "    interp_func <span style=\"color: #666666\">=</span> interp1d(timestamps, lec_traj, axis<span style=\"color: #666666\">=0</span>)\n",
       "    <span style=\"color: #008000; font-weight: bold\">return</span> interp_func(new_tpts)\n",
       "</pre></div>\n"
      ],
      "text/plain": [
       "<IPython.core.display.HTML object>"
      ]
     },
     "execution_count": 32,
     "metadata": {},
     "output_type": "execute_result"
    }
   ],
   "source": [
    "show_source(interp_lecture)"
   ]
  },
  {
   "cell_type": "code",
   "execution_count": 33,
   "metadata": {
    "ExecuteTime": {
     "end_time": "2021-01-12T20:13:15.439554Z",
     "start_time": "2021-01-12T20:13:15.388873Z"
    },
    "scrolled": true
   },
   "outputs": [
    {
     "data": {
      "text/html": [
       "<div class=\"highlight\" style=\"background: #f8f8f8\"><pre style=\"line-height: 125%;\"><span></span><span style=\"color: #008000; font-weight: bold\">def</span> <span style=\"color: #0000FF\">multicol_display</span>(<span style=\"color: #666666\">*</span>outputs,\n",
       "                     ncols<span style=\"color: #666666\">=2</span>,\n",
       "                     caption<span style=\"color: #666666\">=</span><span style=\"color: #008000; font-weight: bold\">None</span>,\n",
       "                     col_headers<span style=\"color: #666666\">=</span><span style=\"color: #008000; font-weight: bold\">None</span>,\n",
       "                     table_css<span style=\"color: #666666\">=</span><span style=\"color: #008000; font-weight: bold\">None</span>,\n",
       "                     caption_css<span style=\"color: #666666\">=</span><span style=\"color: #008000; font-weight: bold\">None</span>,\n",
       "                     header_css<span style=\"color: #666666\">=</span><span style=\"color: #008000; font-weight: bold\">None</span>,\n",
       "                     row_css<span style=\"color: #666666\">=</span><span style=\"color: #008000; font-weight: bold\">None</span>,\n",
       "                     cell_css<span style=\"color: #666666\">=</span><span style=\"color: #008000; font-weight: bold\">None</span>):\n",
       "    <span style=\"color: #BA2121; font-style: italic\">&quot;&quot;&quot;</span>\n",
       "<span style=\"color: #BA2121; font-style: italic\">    Renders notebook cell output in multiple side-by-side columns using</span>\n",
       "<span style=\"color: #BA2121; font-style: italic\">    an HTML table.  Accepts a variable number of output items and</span>\n",
       "<span style=\"color: #BA2121; font-style: italic\">    &quot;wraps&quot; the columns into multiple rows if `len(outputs) &gt; ncols`</span>\n",
       "\n",
       "<span style=\"color: #BA2121; font-style: italic\">    Parameters</span>\n",
       "<span style=\"color: #BA2121; font-style: italic\">    ----------</span>\n",
       "<span style=\"color: #BA2121; font-style: italic\">    outputs : Objects</span>\n",
       "<span style=\"color: #BA2121; font-style: italic\">        Objects to be placed in each table cell, passed as positional</span>\n",
       "<span style=\"color: #BA2121; font-style: italic\">        arguments.  May be any Python class that defines a `__str__`</span>\n",
       "<span style=\"color: #BA2121; font-style: italic\">        and/or `__repr__` method.</span>\n",
       "<span style=\"color: #BA2121; font-style: italic\">    ncols : int, optional</span>\n",
       "<span style=\"color: #BA2121; font-style: italic\">        The number of columns for the display (default: 2).  If less</span>\n",
       "<span style=\"color: #BA2121; font-style: italic\">        than the number of outputs passed, the display will include</span>\n",
       "<span style=\"color: #BA2121; font-style: italic\">        multiple rows.</span>\n",
       "<span style=\"color: #BA2121; font-style: italic\">    caption : str, optional</span>\n",
       "<span style=\"color: #BA2121; font-style: italic\">        Text passed to the table&#39;s `&lt;caption&gt;` tag, displayed above the</span>\n",
       "<span style=\"color: #BA2121; font-style: italic\">        table.</span>\n",
       "<span style=\"color: #BA2121; font-style: italic\">    col_headers : list-like of str, optional</span>\n",
       "<span style=\"color: #BA2121; font-style: italic\">        Contents of table header (`&lt;th&gt;`) elements for each column.  If</span>\n",
       "<span style=\"color: #BA2121; font-style: italic\">        passed, must have length equal `ncols`.  If `None` (default),</span>\n",
       "<span style=\"color: #BA2121; font-style: italic\">        table header elements are not created.</span>\n",
       "<span style=\"color: #BA2121; font-style: italic\">    table_css : dict, optional</span>\n",
       "<span style=\"color: #BA2121; font-style: italic\">        Additional CSS properties to be applied to the outermost</span>\n",
       "<span style=\"color: #BA2121; font-style: italic\">        (`&lt;table&gt;`) element.</span>\n",
       "<span style=\"color: #BA2121; font-style: italic\">    caption_css : dict, optional</span>\n",
       "<span style=\"color: #BA2121; font-style: italic\">        Additional CSS properties to be applied to the table *caption*</span>\n",
       "<span style=\"color: #BA2121; font-style: italic\">        (`&lt;caption&gt;`) element.</span>\n",
       "<span style=\"color: #BA2121; font-style: italic\">    header_css : dict, optional</span>\n",
       "<span style=\"color: #BA2121; font-style: italic\">        Additional CSS properties to be applied to each table *header*</span>\n",
       "<span style=\"color: #BA2121; font-style: italic\">        (`&lt;th&gt;`) element.</span>\n",
       "<span style=\"color: #BA2121; font-style: italic\">    row_css : dict, optional</span>\n",
       "<span style=\"color: #BA2121; font-style: italic\">        Additional CSS properties to be applied to each table *row*</span>\n",
       "<span style=\"color: #BA2121; font-style: italic\">        (`&lt;tr&gt;`) element.</span>\n",
       "<span style=\"color: #BA2121; font-style: italic\">    cell_css : dict, optional</span>\n",
       "<span style=\"color: #BA2121; font-style: italic\">        Additional CSS properties to be applied to each table *cell*</span>\n",
       "<span style=\"color: #BA2121; font-style: italic\">        (`&lt;td&gt;`) element.</span>\n",
       "\n",
       "<span style=\"color: #BA2121; font-style: italic\">    Returns</span>\n",
       "<span style=\"color: #BA2121; font-style: italic\">    -------</span>\n",
       "<span style=\"color: #BA2121; font-style: italic\">    None</span>\n",
       "<span style=\"color: #BA2121; font-style: italic\">        The HTML table is displayed inline in the notebook.</span>\n",
       "\n",
       "<span style=\"color: #BA2121; font-style: italic\">    &quot;&quot;&quot;</span>\n",
       "    <span style=\"color: #008000; font-weight: bold\">def</span> <span style=\"color: #0000FF\">_fmt_python_types</span>(obj):\n",
       "        <span style=\"color: #408080; font-style: italic\"># formats some common Python objects for display</span>\n",
       "        <span style=\"color: #008000; font-weight: bold\">if</span> <span style=\"color: #008000\">isinstance</span>(obj, <span style=\"color: #008000\">str</span>):\n",
       "            <span style=\"color: #008000; font-weight: bold\">return</span> obj<span style=\"color: #666666\">.</span>replace(<span style=\"color: #BA2121\">&#39;</span><span style=\"color: #BB6622; font-weight: bold\">\\n</span><span style=\"color: #BA2121\">&#39;</span>, <span style=\"color: #BA2121\">&#39;&lt;br&gt;&#39;</span>)\n",
       "        <span style=\"color: #008000; font-weight: bold\">elif</span> <span style=\"color: #008000\">isinstance</span>(obj, (<span style=\"color: #008000\">int</span>, <span style=\"color: #008000\">float</span>)):\n",
       "            <span style=\"color: #008000; font-weight: bold\">return</span> <span style=\"color: #008000\">str</span>(obj)\n",
       "        <span style=\"color: #008000; font-weight: bold\">elif</span> (<span style=\"color: #008000\">isinstance</span>(obj, (<span style=\"color: #008000\">list</span>, <span style=\"color: #008000\">tuple</span>, <span style=\"color: #008000\">set</span>, Iterator))\n",
       "              <span style=\"color: #AA22FF; font-weight: bold\">or</span> <span style=\"color: #008000\">type</span>(obj)<span style=\"color: #666666\">.</span><span style=\"color: #19177C\">__module__</span> <span style=\"color: #666666\">==</span> <span style=\"color: #BA2121\">&#39;numpy&#39;</span>):\n",
       "            <span style=\"color: #008000; font-weight: bold\">return</span> <span style=\"color: #BA2121\">&#39;, &#39;</span><span style=\"color: #666666\">.</span>join(obj)\n",
       "        <span style=\"color: #008000; font-weight: bold\">elif</span> <span style=\"color: #008000\">isinstance</span>(obj, <span style=\"color: #008000\">dict</span>):\n",
       "            <span style=\"color: #008000; font-weight: bold\">return</span> <span style=\"color: #BA2121\">&#39;&lt;br&gt;&lt;br&gt;&#39;</span><span style=\"color: #666666\">.</span>join(<span style=\"color: #BA2121\">f&#39;&lt;b&gt;</span><span style=\"color: #BB6688; font-weight: bold\">{</span>k<span style=\"color: #BB6688; font-weight: bold\">}</span><span style=\"color: #BA2121\">&lt;/b&gt;:&amp;emsp;</span><span style=\"color: #BB6688; font-weight: bold\">{</span>_fmt_python_types(v)<span style=\"color: #BB6688; font-weight: bold\">}</span><span style=\"color: #BA2121\">&#39;</span>\n",
       "                                   <span style=\"color: #008000; font-weight: bold\">for</span> k, v <span style=\"color: #AA22FF; font-weight: bold\">in</span> obj<span style=\"color: #666666\">.</span>items())\n",
       "        <span style=\"color: #008000; font-weight: bold\">elif</span> <span style=\"color: #008000\">isinstance</span>(obj, pd<span style=\"color: #666666\">.</span>DataFrame):\n",
       "            <span style=\"color: #008000; font-weight: bold\">return</span> obj<span style=\"color: #666666\">.</span>to_html()\n",
       "        <span style=\"color: #008000; font-weight: bold\">else</span>:\n",
       "            <span style=\"color: #008000; font-weight: bold\">return</span> obj\n",
       "\n",
       "    <span style=\"color: #008000; font-weight: bold\">if</span> col_headers <span style=\"color: #AA22FF; font-weight: bold\">is</span> <span style=\"color: #008000; font-weight: bold\">None</span>:\n",
       "        col_headers <span style=\"color: #666666\">=</span> []\n",
       "    <span style=\"color: #008000; font-weight: bold\">else</span>:\n",
       "        <span style=\"color: #008000; font-weight: bold\">assert</span> <span style=\"color: #008000\">hasattr</span>(col_headers, <span style=\"color: #BA2121\">&#39;__iter__&#39;</span>) <span style=\"color: #AA22FF; font-weight: bold\">and</span> <span style=\"color: #008000\">len</span>(col_headers) <span style=\"color: #666666\">==</span> ncols\n",
       "\n",
       "    outs_fmt <span style=\"color: #666666\">=</span> []\n",
       "    <span style=\"color: #008000; font-weight: bold\">for</span> out <span style=\"color: #AA22FF; font-weight: bold\">in</span> outputs:\n",
       "        outs_fmt<span style=\"color: #666666\">.</span>append(_fmt_python_types(out))\n",
       "\n",
       "    table_css <span style=\"color: #666666\">=</span> {} <span style=\"color: #008000; font-weight: bold\">if</span> table_css <span style=\"color: #AA22FF; font-weight: bold\">is</span> <span style=\"color: #008000; font-weight: bold\">None</span> <span style=\"color: #008000; font-weight: bold\">else</span> table_css\n",
       "    caption_css <span style=\"color: #666666\">=</span> {} <span style=\"color: #008000; font-weight: bold\">if</span> caption_css <span style=\"color: #AA22FF; font-weight: bold\">is</span> <span style=\"color: #008000; font-weight: bold\">None</span> <span style=\"color: #008000; font-weight: bold\">else</span> caption_css\n",
       "    header_css <span style=\"color: #666666\">=</span> {} <span style=\"color: #008000; font-weight: bold\">if</span> header_css <span style=\"color: #AA22FF; font-weight: bold\">is</span> <span style=\"color: #008000; font-weight: bold\">None</span> <span style=\"color: #008000; font-weight: bold\">else</span> header_css\n",
       "    row_css <span style=\"color: #666666\">=</span> {} <span style=\"color: #008000; font-weight: bold\">if</span> row_css <span style=\"color: #AA22FF; font-weight: bold\">is</span> <span style=\"color: #008000; font-weight: bold\">None</span> <span style=\"color: #008000; font-weight: bold\">else</span> row_css\n",
       "    cell_css <span style=\"color: #666666\">=</span> {} <span style=\"color: #008000; font-weight: bold\">if</span> cell_css <span style=\"color: #AA22FF; font-weight: bold\">is</span> <span style=\"color: #008000; font-weight: bold\">None</span> <span style=\"color: #008000; font-weight: bold\">else</span> cell_css\n",
       "\n",
       "    <span style=\"color: #408080; font-style: italic\"># set some reasonable default style properties</span>\n",
       "    table_css_defaults <span style=\"color: #666666\">=</span> {\n",
       "        <span style=\"color: #BA2121\">&#39;width&#39;</span>: <span style=\"color: #BA2121\">&#39;100%&#39;</span>,\n",
       "        <span style=\"color: #BA2121\">&#39;border&#39;</span>: <span style=\"color: #BA2121\">&#39;0px&#39;</span>,\n",
       "        <span style=\"color: #BA2121\">&#39;margin-left&#39;</span>: <span style=\"color: #BA2121\">&#39;auto&#39;</span>,\n",
       "        <span style=\"color: #BA2121\">&#39;margin-right&#39;</span>: <span style=\"color: #BA2121\">&#39;auto&#39;</span>\n",
       "    }\n",
       "    caption_css_defaults <span style=\"color: #666666\">=</span> {\n",
       "        <span style=\"color: #BA2121\">&#39;color&#39;</span>: <span style=\"color: #BA2121\">&#39;unset&#39;</span>,\n",
       "        <span style=\"color: #BA2121\">&#39;text-align&#39;</span>: <span style=\"color: #BA2121\">&#39;center&#39;</span>,\n",
       "        <span style=\"color: #BA2121\">&#39;font-size&#39;</span>: <span style=\"color: #BA2121\">&#39;2em&#39;</span>,\n",
       "        <span style=\"color: #BA2121\">&#39;font-weight&#39;</span>: <span style=\"color: #BA2121\">&#39;bold&#39;</span>\n",
       "    }\n",
       "    header_css_defaults <span style=\"color: #666666\">=</span> {\n",
       "        <span style=\"color: #BA2121\">&#39;border&#39;</span>: <span style=\"color: #BA2121\">&#39;0px&#39;</span>,\n",
       "        <span style=\"color: #BA2121\">&#39;font-size&#39;</span>: <span style=\"color: #BA2121\">&#39;16px&#39;</span>,\n",
       "        <span style=\"color: #BA2121\">&#39;text-align&#39;</span>: <span style=\"color: #BA2121\">&#39;center&#39;</span>\n",
       "    }\n",
       "    row_css_defaults <span style=\"color: #666666\">=</span> {<span style=\"color: #BA2121\">&#39;border&#39;</span>: <span style=\"color: #BA2121\">&#39;0px&#39;</span>}\n",
       "    cell_css_defaults <span style=\"color: #666666\">=</span> {\n",
       "        <span style=\"color: #BA2121\">&#39;border&#39;</span>: <span style=\"color: #BA2121\">&#39;0px&#39;</span>,\n",
       "        <span style=\"color: #BA2121\">&#39;width&#39;</span>: <span style=\"color: #BA2121\">f&#39;</span><span style=\"color: #BB6688; font-weight: bold\">{</span><span style=\"color: #666666\">100</span> <span style=\"color: #666666\">/</span> ncols<span style=\"color: #BB6688; font-weight: bold\">}</span><span style=\"color: #BA2121\">%&#39;</span>,\n",
       "        <span style=\"color: #BA2121\">&#39;vertical-align&#39;</span>: <span style=\"color: #BA2121\">&#39;top&#39;</span>,\n",
       "        <span style=\"color: #BA2121\">&#39;font-size&#39;</span>: <span style=\"color: #BA2121\">&#39;14px&#39;</span>,\n",
       "        <span style=\"color: #BA2121\">&#39;text-align&#39;</span>: <span style=\"color: #BA2121\">&#39;center&#39;</span>\n",
       "    }\n",
       "\n",
       "    <span style=\"color: #408080; font-style: italic\"># update/overwrite style defaults with passed properties</span>\n",
       "    table_css <span style=\"color: #666666\">=</span> <span style=\"color: #008000\">dict</span>(table_css_defaults, <span style=\"color: #666666\">**</span>table_css)\n",
       "    caption_css <span style=\"color: #666666\">=</span> <span style=\"color: #008000\">dict</span>(caption_css_defaults, <span style=\"color: #666666\">**</span>caption_css)\n",
       "    header_css <span style=\"color: #666666\">=</span> <span style=\"color: #008000\">dict</span>(header_css_defaults, <span style=\"color: #666666\">**</span>header_css)\n",
       "    row_css <span style=\"color: #666666\">=</span> <span style=\"color: #008000\">dict</span>(row_css_defaults, <span style=\"color: #666666\">**</span>row_css)\n",
       "    cell_css <span style=\"color: #666666\">=</span> <span style=\"color: #008000\">dict</span>(cell_css_defaults, <span style=\"color: #666666\">**</span>cell_css)\n",
       "\n",
       "    <span style=\"color: #408080; font-style: italic\"># format for string replacement in style tag</span>\n",
       "    table_style <span style=\"color: #666666\">=</span> <span style=\"color: #BA2121\">&quot;;&quot;</span><span style=\"color: #666666\">.</span>join(<span style=\"color: #BA2121\">f&quot;</span><span style=\"color: #BB6688; font-weight: bold\">{</span>prop<span style=\"color: #BB6688; font-weight: bold\">}</span><span style=\"color: #BA2121\">:</span><span style=\"color: #BB6688; font-weight: bold\">{</span>val<span style=\"color: #BB6688; font-weight: bold\">}</span><span style=\"color: #BA2121\">&quot;</span> <span style=\"color: #008000; font-weight: bold\">for</span> prop, val <span style=\"color: #AA22FF; font-weight: bold\">in</span> table_css<span style=\"color: #666666\">.</span>items())\n",
       "    caption_style <span style=\"color: #666666\">=</span> <span style=\"color: #BA2121\">&quot;;&quot;</span><span style=\"color: #666666\">.</span>join(<span style=\"color: #BA2121\">f&quot;</span><span style=\"color: #BB6688; font-weight: bold\">{</span>prop<span style=\"color: #BB6688; font-weight: bold\">}</span><span style=\"color: #BA2121\">:</span><span style=\"color: #BB6688; font-weight: bold\">{</span>val<span style=\"color: #BB6688; font-weight: bold\">}</span><span style=\"color: #BA2121\">&quot;</span> <span style=\"color: #008000; font-weight: bold\">for</span> prop, val <span style=\"color: #AA22FF; font-weight: bold\">in</span> caption_css<span style=\"color: #666666\">.</span>items())\n",
       "    header_style <span style=\"color: #666666\">=</span> <span style=\"color: #BA2121\">&quot;;&quot;</span><span style=\"color: #666666\">.</span>join(<span style=\"color: #BA2121\">f&quot;</span><span style=\"color: #BB6688; font-weight: bold\">{</span>prop<span style=\"color: #BB6688; font-weight: bold\">}</span><span style=\"color: #BA2121\">:</span><span style=\"color: #BB6688; font-weight: bold\">{</span>val<span style=\"color: #BB6688; font-weight: bold\">}</span><span style=\"color: #BA2121\">&quot;</span> <span style=\"color: #008000; font-weight: bold\">for</span> prop, val <span style=\"color: #AA22FF; font-weight: bold\">in</span> header_css<span style=\"color: #666666\">.</span>items())\n",
       "    row_style <span style=\"color: #666666\">=</span> <span style=\"color: #BA2121\">&quot;;&quot;</span><span style=\"color: #666666\">.</span>join(<span style=\"color: #BA2121\">f&quot;</span><span style=\"color: #BB6688; font-weight: bold\">{</span>prop<span style=\"color: #BB6688; font-weight: bold\">}</span><span style=\"color: #BA2121\">:</span><span style=\"color: #BB6688; font-weight: bold\">{</span>val<span style=\"color: #BB6688; font-weight: bold\">}</span><span style=\"color: #BA2121\">&quot;</span> <span style=\"color: #008000; font-weight: bold\">for</span> prop, val <span style=\"color: #AA22FF; font-weight: bold\">in</span> row_css<span style=\"color: #666666\">.</span>items())\n",
       "    cell_style <span style=\"color: #666666\">=</span> <span style=\"color: #BA2121\">&quot;;&quot;</span><span style=\"color: #666666\">.</span>join(<span style=\"color: #BA2121\">f&quot;</span><span style=\"color: #BB6688; font-weight: bold\">{</span>prop<span style=\"color: #BB6688; font-weight: bold\">}</span><span style=\"color: #BA2121\">:</span><span style=\"color: #BB6688; font-weight: bold\">{</span>val<span style=\"color: #BB6688; font-weight: bold\">}</span><span style=\"color: #BA2121\">&quot;</span> <span style=\"color: #008000; font-weight: bold\">for</span> prop, val <span style=\"color: #AA22FF; font-weight: bold\">in</span> cell_css<span style=\"color: #666666\">.</span>items())\n",
       "\n",
       "    <span style=\"color: #408080; font-style: italic\"># string templates for individual elements</span>\n",
       "    html_table <span style=\"color: #666666\">=</span> <span style=\"color: #BA2121\">f&quot;&lt;table style=</span><span style=\"color: #BB6688; font-weight: bold\">{</span>table_style<span style=\"color: #BB6688; font-weight: bold\">}</span><span style=\"color: #BA2121\">&gt;</span><span style=\"color: #BB6622; font-weight: bold\">{{</span><span style=\"color: #BA2121\">caption</span><span style=\"color: #BB6622; font-weight: bold\">}}{{</span><span style=\"color: #BA2121\">header</span><span style=\"color: #BB6622; font-weight: bold\">}}{{</span><span style=\"color: #BA2121\">content</span><span style=\"color: #BB6622; font-weight: bold\">}}</span><span style=\"color: #BA2121\">&lt;/table&gt;&quot;</span>\n",
       "    html_caption <span style=\"color: #666666\">=</span> <span style=\"color: #BA2121\">f&quot;&lt;caption style=</span><span style=\"color: #BB6688; font-weight: bold\">{</span>caption_style<span style=\"color: #BB6688; font-weight: bold\">}</span><span style=\"color: #BA2121\">&gt;</span><span style=\"color: #BB6622; font-weight: bold\">{{</span><span style=\"color: #BA2121\">content</span><span style=\"color: #BB6622; font-weight: bold\">}}</span><span style=\"color: #BA2121\">&lt;/caption&gt;&quot;</span>\n",
       "    html_header <span style=\"color: #666666\">=</span> <span style=\"color: #BA2121\">f&quot;&lt;th style=</span><span style=\"color: #BB6688; font-weight: bold\">{</span>header_style<span style=\"color: #BB6688; font-weight: bold\">}</span><span style=\"color: #BA2121\">&gt;</span><span style=\"color: #BB6622; font-weight: bold\">{{</span><span style=\"color: #BA2121\">content</span><span style=\"color: #BB6622; font-weight: bold\">}}</span><span style=\"color: #BA2121\">&lt;/th&gt;&quot;</span>\n",
       "    html_row <span style=\"color: #666666\">=</span> <span style=\"color: #BA2121\">f&quot;&lt;tr style=</span><span style=\"color: #BB6688; font-weight: bold\">{</span>row_style<span style=\"color: #BB6688; font-weight: bold\">}</span><span style=\"color: #BA2121\">&gt;</span><span style=\"color: #BB6622; font-weight: bold\">{{</span><span style=\"color: #BA2121\">content</span><span style=\"color: #BB6622; font-weight: bold\">}}</span><span style=\"color: #BA2121\">&lt;/tr&gt;&quot;</span>\n",
       "    html_cell <span style=\"color: #666666\">=</span> <span style=\"color: #BA2121\">f&quot;&lt;td style=</span><span style=\"color: #BB6688; font-weight: bold\">{</span>cell_style<span style=\"color: #BB6688; font-weight: bold\">}</span><span style=\"color: #BA2121\">&gt;</span><span style=\"color: #BB6622; font-weight: bold\">{{</span><span style=\"color: #BA2121\">content</span><span style=\"color: #BB6622; font-weight: bold\">}}</span><span style=\"color: #BA2121\">&lt;/td&gt;&quot;</span>\n",
       "\n",
       "    <span style=\"color: #408080; font-style: italic\"># fill element templates with content</span>\n",
       "    cap <span style=\"color: #666666\">=</span> html_caption<span style=\"color: #666666\">.</span>format(content<span style=\"color: #666666\">=</span>caption) <span style=\"color: #008000; font-weight: bold\">if</span> caption <span style=\"color: #AA22FF; font-weight: bold\">is</span> <span style=\"color: #AA22FF; font-weight: bold\">not</span> <span style=\"color: #008000; font-weight: bold\">None</span> <span style=\"color: #008000; font-weight: bold\">else</span> <span style=\"color: #BA2121\">&#39;&#39;</span>\n",
       "    headers <span style=\"color: #666666\">=</span> [html_header<span style=\"color: #666666\">.</span>format(content<span style=\"color: #666666\">=</span>h) <span style=\"color: #008000; font-weight: bold\">for</span> h <span style=\"color: #AA22FF; font-weight: bold\">in</span> col_headers]\n",
       "    cells <span style=\"color: #666666\">=</span> [html_cell<span style=\"color: #666666\">.</span>format(content<span style=\"color: #666666\">=</span>out) <span style=\"color: #008000; font-weight: bold\">for</span> out <span style=\"color: #AA22FF; font-weight: bold\">in</span> outs_fmt]\n",
       "    rows <span style=\"color: #666666\">=</span> [html_row<span style=\"color: #666666\">.</span>format(content<span style=\"color: #666666\">=</span><span style=\"color: #BA2121\">&quot;&quot;</span><span style=\"color: #666666\">.</span>join(cells[i:i<span style=\"color: #666666\">+</span>ncols])) <span style=\"color: #008000; font-weight: bold\">for</span> i <span style=\"color: #AA22FF; font-weight: bold\">in</span> <span style=\"color: #008000\">range</span>(<span style=\"color: #666666\">0</span>, <span style=\"color: #008000\">len</span>(cells), ncols)]\n",
       "    <span style=\"color: #408080; font-style: italic\"># render notebook display cell</span>\n",
       "    display(HTML(html_table<span style=\"color: #666666\">.</span>format(caption<span style=\"color: #666666\">=</span>cap,\n",
       "                                   header<span style=\"color: #666666\">=</span><span style=\"color: #BA2121\">&quot;&quot;</span><span style=\"color: #666666\">.</span>join(headers),\n",
       "                                   content<span style=\"color: #666666\">=</span><span style=\"color: #BA2121\">&quot;&quot;</span><span style=\"color: #666666\">.</span>join(rows))))\n",
       "</pre></div>\n"
      ],
      "text/plain": [
       "<IPython.core.display.HTML object>"
      ]
     },
     "execution_count": 33,
     "metadata": {},
     "output_type": "execute_result"
    }
   ],
   "source": [
    "show_source(multicol_display)"
   ]
  },
  {
   "cell_type": "code",
   "execution_count": 34,
   "metadata": {
    "ExecuteTime": {
     "end_time": "2021-01-12T20:13:18.364907Z",
     "start_time": "2021-01-12T20:13:18.351663Z"
    },
    "scrolled": true
   },
   "outputs": [
    {
     "data": {
      "text/html": [
       "<div class=\"highlight\" style=\"background: #f8f8f8\"><pre style=\"line-height: 125%;\"><span></span><span style=\"color: #008000; font-weight: bold\">def</span> <span style=\"color: #0000FF\">show_source</span>(obj):\n",
       "    <span style=\"color: #BA2121; font-style: italic\">&quot;&quot;&quot;</span>\n",
       "<span style=\"color: #BA2121; font-style: italic\">    Displays the source code for an object defined outside the current notebook.</span>\n",
       "\n",
       "<span style=\"color: #BA2121; font-style: italic\">    Parameters</span>\n",
       "<span style=\"color: #BA2121; font-style: italic\">    ----------</span>\n",
       "<span style=\"color: #BA2121; font-style: italic\">    obj : Object</span>\n",
       "<span style=\"color: #BA2121; font-style: italic\">        The object to display.  If `obj` is a module, class, method,</span>\n",
       "<span style=\"color: #BA2121; font-style: italic\">        function, traceback, frame, or other code object, its source</span>\n",
       "<span style=\"color: #BA2121; font-style: italic\">        code will be displayed inline with syntax highlighting.</span>\n",
       "<span style=\"color: #BA2121; font-style: italic\">        Otherwise, a string representation of the object will be</span>\n",
       "<span style=\"color: #BA2121; font-style: italic\">        displayed, if available.</span>\n",
       "\n",
       "<span style=\"color: #BA2121; font-style: italic\">    Returns</span>\n",
       "<span style=\"color: #BA2121; font-style: italic\">    -------</span>\n",
       "<span style=\"color: #BA2121; font-style: italic\">    None</span>\n",
       "<span style=\"color: #BA2121; font-style: italic\">        The source code or object is displayed inline in the notebook.</span>\n",
       "\n",
       "<span style=\"color: #BA2121; font-style: italic\">    &quot;&quot;&quot;</span>\n",
       "    <span style=\"color: #008000; font-weight: bold\">try</span>:\n",
       "        src <span style=\"color: #666666\">=</span> getsource(obj)\n",
       "    <span style=\"color: #008000; font-weight: bold\">except</span> <span style=\"color: #D2413A; font-weight: bold\">TypeError</span> <span style=\"color: #008000; font-weight: bold\">as</span> e:\n",
       "        <span style=\"color: #408080; font-style: italic\"># if called on variable, just show its value</span>\n",
       "        src <span style=\"color: #666666\">=</span> obj\n",
       "    <span style=\"color: #008000; font-weight: bold\">try</span>:\n",
       "        <span style=\"color: #008000; font-weight: bold\">return</span> HTML(pylight(src))\n",
       "    <span style=\"color: #008000; font-weight: bold\">except</span> <span style=\"color: #D2413A; font-weight: bold\">AttributeError</span>:\n",
       "        <span style=\"color: #408080; font-style: italic\"># pylight just doesn&#39;t work on certain types</span>\n",
       "        <span style=\"color: #008000; font-weight: bold\">return</span> src\n",
       "</pre></div>\n"
      ],
      "text/plain": [
       "<IPython.core.display.HTML object>"
      ]
     },
     "execution_count": 34,
     "metadata": {},
     "output_type": "execute_result"
    }
   ],
   "source": [
    "show_source(show_source)"
   ]
  },
  {
   "cell_type": "code",
   "execution_count": 35,
   "metadata": {
    "ExecuteTime": {
     "end_time": "2021-01-12T20:13:20.248269Z",
     "start_time": "2021-01-12T20:13:20.209032Z"
    }
   },
   "outputs": [],
   "source": [
    "def get_top_words(cv, lda, n_words=10):\n",
    "    topic_words = {}\n",
    "    vocab = cv.get_feature_names()\n",
    "    for topic, component in enumerate(lda.components_):\n",
    "        word_ix = np.argsort(component)[::-1][:n_words]\n",
    "        topic_words[topic] = [vocab[i] for i in word_ix]\n",
    "    return topic_words"
   ]
  },
  {
   "cell_type": "markdown",
   "metadata": {},
   "source": [
    "## Inspect some raw data we're working with"
   ]
  },
  {
   "cell_type": "code",
   "execution_count": 44,
   "metadata": {
    "ExecuteTime": {
     "end_time": "2021-01-12T20:14:31.363071Z",
     "start_time": "2021-01-12T20:14:31.346242Z"
    }
   },
   "outputs": [
    {
     "data": {
      "text/html": [
       "<table style=width:100%;border:0px;margin-left:auto;margin-right:auto><th style=border:0px;font-size:16px;text-align:center>Four Fundamental Forces</th><th style=border:0px;font-size:16px;text-align:center>Birth of Stars</th><tr style=border:0px><td style=border:0px;width:50.0%;vertical-align:top;font-size:14px;text-align:left;background-color:white;padding-left:10%>00:00.294<br>What I want to do in this video is<br>00:01.71<br>give a very high-level overview of the four fundamental forces<br>00:08.16<br>of the universe.<br>00:09.28<br>And I'm going to start with gravity.<br>00:14.21<br>And it might surprise some of you that gravity is actually<br>00:17.31<br>the weakest of the four fundamental forces.<br></td><td style=border:0px;width:50.0%;vertical-align:top;font-size:14px;text-align:left;background-color:white;padding-left:10%>00:00.52<br>Let's imagine we have a huge cloud<br>00:02.65<br>of hydrogen atoms floating in space.<br>00:05.47<br>Huge, and when I say huge cloud, huge both in distance<br>00:08.24<br>and in mass.<br>00:09.36<br>If you were to combine all of the hydrogen atoms,<br>00:11.72<br>it would just be this really, really massive thing.<br></td></tr></table>"
      ],
      "text/plain": [
       "<IPython.core.display.HTML object>"
      ]
     },
     "metadata": {},
     "output_type": "display_data"
    }
   ],
   "source": [
    "exp = Experiment()\n",
    "multicol_display(exp.forces_transcript[:310], \n",
    "                 exp.bos_transcript[:296], \n",
    "                 ncols=2, \n",
    "                 col_headers=['Four Fundamental Forces', 'Birth of Stars'],\n",
    "                 cell_css={'text-align': 'left', \n",
    "                           'background-color': 'white', \n",
    "                           'padding-left': '10%'})"
   ]
  },
  {
   "cell_type": "code",
   "execution_count": 45,
   "metadata": {
    "ExecuteTime": {
     "end_time": "2021-01-12T20:14:46.787317Z",
     "start_time": "2021-01-12T20:14:46.189709Z"
    }
   },
   "outputs": [
    {
     "data": {
      "text/html": [
       "<div>\n",
       "<style scoped>\n",
       "    .dataframe tbody tr th:only-of-type {\n",
       "        vertical-align: middle;\n",
       "    }\n",
       "\n",
       "    .dataframe tbody tr th {\n",
       "        vertical-align: top;\n",
       "    }\n",
       "\n",
       "    .dataframe thead th {\n",
       "        text-align: right;\n",
       "    }\n",
       "</style>\n",
       "<table border=\"1\" class=\"dataframe\">\n",
       "  <thead>\n",
       "    <tr style=\"text-align: right;\">\n",
       "      <th></th>\n",
       "      <th>lecture</th>\n",
       "      <th>question</th>\n",
       "      <th>A</th>\n",
       "      <th>B</th>\n",
       "      <th>C</th>\n",
       "      <th>D</th>\n",
       "    </tr>\n",
       "    <tr>\n",
       "      <th>index</th>\n",
       "      <th></th>\n",
       "      <th></th>\n",
       "      <th></th>\n",
       "      <th></th>\n",
       "      <th></th>\n",
       "      <th></th>\n",
       "    </tr>\n",
       "  </thead>\n",
       "  <tbody>\n",
       "    <tr>\n",
       "      <th>1</th>\n",
       "      <td>1</td>\n",
       "      <td>Why is the gravitational attraction between yo...</td>\n",
       "      <td>Neither you nor your computer has enough mass ...</td>\n",
       "      <td>You and your computer are too close for the gr...</td>\n",
       "      <td>Humans are too small to detect the force of gr...</td>\n",
       "      <td>The gravitational attraction between you and y...</td>\n",
       "    </tr>\n",
       "    <tr>\n",
       "      <th>2</th>\n",
       "      <td>1</td>\n",
       "      <td>Which of the following is an example of the We...</td>\n",
       "      <td>A neutron in a radioactive Cesium atom is conv...</td>\n",
       "      <td>Light from the sun collides with a satellite o...</td>\n",
       "      <td>Two protons bound together in a Helium nucleus...</td>\n",
       "      <td>A distant galaxy exerts a small but detectable...</td>\n",
       "    </tr>\n",
       "    <tr>\n",
       "      <th>3</th>\n",
       "      <td>1</td>\n",
       "      <td>Roughly how many times stronger is the Weak In...</td>\n",
       "      <td>10,000,000,000,000,000,000,000,000</td>\n",
       "      <td>10</td>\n",
       "      <td>1,000,000</td>\n",
       "      <td>The Weak Interaction is less strong than gravity</td>\n",
       "    </tr>\n",
       "    <tr>\n",
       "      <th>4</th>\n",
       "      <td>1</td>\n",
       "      <td>Why don't you and your computer experience any...</td>\n",
       "      <td>The weak interaction only acts over extremely ...</td>\n",
       "      <td>The weak interaction between you and your comp...</td>\n",
       "      <td>You and your computer have no net charge</td>\n",
       "      <td>Neither you nor your computer has enough mass ...</td>\n",
       "    </tr>\n",
       "    <tr>\n",
       "      <th>5</th>\n",
       "      <td>1</td>\n",
       "      <td>Which of the following is a difference between...</td>\n",
       "      <td>Gravity is only ever attractive while the elec...</td>\n",
       "      <td>Gravity is a much more powerful force than ele...</td>\n",
       "      <td>Gravity can only act over large distances whil...</td>\n",
       "      <td>The electromagnetic force can only act over sm...</td>\n",
       "    </tr>\n",
       "  </tbody>\n",
       "</table>\n",
       "</div>"
      ],
      "text/plain": [
       "       lecture                                           question  \\\n",
       "index                                                               \n",
       "1            1  Why is the gravitational attraction between yo...   \n",
       "2            1  Which of the following is an example of the We...   \n",
       "3            1  Roughly how many times stronger is the Weak In...   \n",
       "4            1  Why don't you and your computer experience any...   \n",
       "5            1  Which of the following is a difference between...   \n",
       "\n",
       "                                                       A  \\\n",
       "index                                                      \n",
       "1      Neither you nor your computer has enough mass ...   \n",
       "2      A neutron in a radioactive Cesium atom is conv...   \n",
       "3                     10,000,000,000,000,000,000,000,000   \n",
       "4      The weak interaction only acts over extremely ...   \n",
       "5      Gravity is only ever attractive while the elec...   \n",
       "\n",
       "                                                       B  \\\n",
       "index                                                      \n",
       "1      You and your computer are too close for the gr...   \n",
       "2      Light from the sun collides with a satellite o...   \n",
       "3                                                     10   \n",
       "4      The weak interaction between you and your comp...   \n",
       "5      Gravity is a much more powerful force than ele...   \n",
       "\n",
       "                                                       C  \\\n",
       "index                                                      \n",
       "1      Humans are too small to detect the force of gr...   \n",
       "2      Two protons bound together in a Helium nucleus...   \n",
       "3                                              1,000,000   \n",
       "4               You and your computer have no net charge   \n",
       "5      Gravity can only act over large distances whil...   \n",
       "\n",
       "                                                       D  \n",
       "index                                                     \n",
       "1      The gravitational attraction between you and y...  \n",
       "2      A distant galaxy exerts a small but detectable...  \n",
       "3       The Weak Interaction is less strong than gravity  \n",
       "4      Neither you nor your computer has enough mass ...  \n",
       "5      The electromagnetic force can only act over sm...  "
      ]
     },
     "execution_count": 45,
     "metadata": {},
     "output_type": "execute_result"
    }
   ],
   "source": [
    "exp.questions.head()"
   ]
  },
  {
   "cell_type": "markdown",
   "metadata": {},
   "source": [
    "## Modeling parameters"
   ]
  },
  {
   "cell_type": "code",
   "execution_count": 46,
   "metadata": {
    "ExecuteTime": {
     "end_time": "2021-01-12T20:14:58.810437Z",
     "start_time": "2021-01-12T20:14:58.781487Z"
    }
   },
   "outputs": [
    {
     "data": {
      "text/html": [
       "<table style=width:100%;border:0px;margin-left:auto;margin-right:auto><th style=border:0px;font-size:16px;text-align:center>Stop words</th><th style=border:0px;font-size:16px;text-align:center>Lecture transcript sliding window length</th><th style=border:0px;font-size:16px;text-align:center>CountVectorizer params</th><th style=border:0px;font-size:16px;text-align:center>LatentDirichletAllocation params</th><tr style=border:0px><td style=border:0px;width:25.0%;vertical-align:top;font-size:14px;text-align:center>i, me, my, myself, we, our, ours, ourselves, you, you're, you've, you'll, you'd, your, yours, yourself, yourselves, he, him, his, himself, she, she's, her, hers, herself, it, it's, its, itself, they, them, their, theirs, themselves, what, which, who, whom, this, that, that'll, these, those, am, is, are, was, were, be, been, being, have, has, had, having, do, does, did, doing, a, an, the, and, but, if, or, because, as, until, while, of, at, by, for, with, about, against, between, into, through, during, before, after, above, below, to, from, up, down, in, out, on, off, over, under, again, further, then, once, here, there, when, where, why, how, all, any, both, each, few, more, most, other, some, such, no, nor, not, only, own, same, so, than, too, very, s, t, can, will, just, don, don't, should, should've, now, d, ll, m, o, re, ve, y, ain, aren, aren't, couldn, couldn't, didn, didn't, doesn, doesn't, hadn, hadn't, hasn, hasn't, haven, haven't, isn, isn't, ma, mightn, mightn't, mustn, mustn't, needn, needn't, shan, shan't, shouldn, shouldn't, wasn, wasn't, weren, weren't, won, won't, wouldn, wouldn't, actual, actually, also, billion, bit, could, e, even, first, four, hugh, hundred, let, like, mc, million, one, really, saw, see, seen, ten, thing, things, two, us, would</td><td style=border:0px;width:25.0%;vertical-align:top;font-size:14px;text-align:center>30</td><td style=border:0px;width:25.0%;vertical-align:top;font-size:14px;text-align:center><b>strip_accents</b>:&emsp;unicode<br><br><b>stop_words</b>:&emsp;None</td><td style=border:0px;width:25.0%;vertical-align:top;font-size:14px;text-align:center><b>n_components</b>:&emsp;15<br><br><b>learning_method</b>:&emsp;batch<br><br><b>random_state</b>:&emsp;0</td></tr></table>"
      ],
      "text/plain": [
       "<IPython.core.display.HTML object>"
      ]
     },
     "metadata": {},
     "output_type": "display_data"
    }
   ],
   "source": [
    "# stop words removed during preprocessing, so no need to pass to CountVectorizer\n",
    "multicol_display(STOP_WORDS, LECTURE_WSIZE, CV_PARAMS, LDA_PARAMS, \n",
    "                 col_headers=(\"Stop words\", \n",
    "                              \"Lecture transcript sliding window length\", \n",
    "                              \"CountVectorizer params\", \n",
    "                              \"LatentDirichletAllocation params\"), \n",
    "                 ncols=4)"
   ]
  },
  {
   "cell_type": "code",
   "execution_count": 48,
   "metadata": {
    "ExecuteTime": {
     "end_time": "2021-01-12T20:24:01.699383Z",
     "start_time": "2021-01-12T20:24:01.684009Z"
    }
   },
   "outputs": [
    {
     "data": {
      "text/plain": [
       "['What I want to do in this video is',\n",
       " 'give a very high-level overview of the four fundamental forces',\n",
       " 'of the universe.',\n",
       " \"And I'm going to start with gravity.\",\n",
       " 'And it might surprise some of you that gravity is actually',\n",
       " 'the weakest of the four fundamental forces.',\n",
       " \"And that's surprising because you say, wow,\",\n",
       " \"that's what keeps us glued-- not glued-- but it keeps us\",\n",
       " 'from jumping off the planet.',\n",
       " \"It's what keeps the Moon in orbit around the Earth,\",\n",
       " 'the Earth in orbit around the Sun, the Sun in orbit',\n",
       " 'around the center of the Milky Way galaxy.',\n",
       " \"So if it's a little bit surprising\",\n",
       " \"that it's actually the weakest of the forces.\",\n",
       " 'And that starts to make sense when you actually',\n",
       " 'think about things on maybe more of a human scale,',\n",
       " 'or a molecular scale, or even atomic scale.',\n",
       " 'Even on a human scale, your computer monitor and you,',\n",
       " 'have some type of gravitational attraction.',\n",
       " \"But you don't notice it.\",\n",
       " \"Or your cell phone and your wallet, there's\",\n",
       " 'gravitational attraction.',\n",
       " \"But you don't see them being drawn to each other the way\",\n",
       " 'you might see two magnets drawn to each other',\n",
       " 'or repelled from each other.',\n",
       " 'And if you go to even a smaller scale,',\n",
       " \"you'll see the it matters even less.\",\n",
       " 'We never even talk about gravity in chemistry,',\n",
       " 'although the gravity is there.',\n",
       " 'But at those scales, the other forces really,',\n",
       " 'really, really start to dominate.',\n",
       " 'So gravity is our weakest.',\n",
       " 'So if we move up a little bit from that,',\n",
       " 'we get-- and this is maybe the hardest force for us',\n",
       " 'to visualize.',\n",
       " \"Or it's, at least, the least intuitive force for me--\",\n",
       " 'is actually the weak force, sometimes called',\n",
       " 'the weak interaction.',\n",
       " \"And it's what's responsible for radioactive decay,\",\n",
       " 'in particular beta minus and beta plus decay.',\n",
       " 'And just to give you an example of the actual weak interaction,',\n",
       " 'if I had some cesium-137-- 137 means it has 137 nucleons.',\n",
       " 'A nucleon is either a proton or a neutron.',\n",
       " 'You add up the protons and neutrons of cesium,',\n",
       " 'you get 137.',\n",
       " 'And it is cesium, because it has exactly 55 protons.',\n",
       " \"Now, the weak interaction is what's\",\n",
       " 'responsible for one of the neutrons-- essentially',\n",
       " 'one of its quarks flipping and turning into a proton.',\n",
       " \"And I'm not going to go into detail of what a quark is\",\n",
       " 'and all of that.',\n",
       " 'And the math can get pretty hairy.',\n",
       " 'But I just want to give you an example',\n",
       " 'of what the weak interaction does.',\n",
       " 'So if one of these neutrons turns into a proton,',\n",
       " \"then we're going to have one extra proton.\",\n",
       " \"But we're going to have the same number of nucleons.\",\n",
       " 'Instead of an extra neutron here,',\n",
       " 'you now have an extra proton here.',\n",
       " 'And so now this is a different atom.',\n",
       " 'It is now barium.',\n",
       " 'And in that flipping, it will actually',\n",
       " 'emit an electron and an anti-electron neutrino.',\n",
       " \"And I'm not going to go into the details of what\",\n",
       " 'an anti-electron neutrino is.',\n",
       " 'These are fundamental particles.',\n",
       " 'But this is just what the weak interaction is.',\n",
       " \"It's not something that's completely obvious to us.\",\n",
       " \"It's not the kind of this traditional things pulling\",\n",
       " 'or pushing away from each other, like we',\n",
       " 'associate with the other forces.',\n",
       " 'Now, the next strongest force-- and just',\n",
       " 'to give a sense of how weak gravity',\n",
       " 'is even relative to the weak interaction,',\n",
       " 'the weak interaction is 10 to the 25th times',\n",
       " 'the strength of gravity.',\n",
       " 'And you might be saying, if this is so strong, how',\n",
       " 'come this does it operate on planets',\n",
       " 'or us relative to the Earth?',\n",
       " \"Why doesn't this apply to intergalactic distances\",\n",
       " 'the way gravity does?',\n",
       " 'And the reason is the weak interaction really applies',\n",
       " 'to very small distances, very, very small distances.',\n",
       " 'So it can be much stronger than gravity,',\n",
       " 'but only over very, very-- and it really',\n",
       " 'only applies on the subatomic scale.',\n",
       " 'You go anything beyond that, it kind of',\n",
       " 'disappears as an actual force, as an actual interaction.',\n",
       " 'Now, the next force up the hierarchy,',\n",
       " 'which is one that we are more familiar with,',\n",
       " \"it's what actually dominates most of the chemistry\",\n",
       " 'that we deal with and electromagnetism',\n",
       " \"that we deal with, and that's the electromagnetic force.\",\n",
       " 'Let me write it in magenta, electromagnetic force.',\n",
       " 'And just to give a sense, this is 10 to the 36 times',\n",
       " 'the strength of gravity.',\n",
       " 'So it kind of puts the weak force in its place.',\n",
       " \"It's 10 to the 12th times stronger than the weak force.\",\n",
       " \"So these are huge numbers that we're\",\n",
       " 'talking about, either this relative to that',\n",
       " 'or even this relative to gravity.',\n",
       " 'And so you might be saying, well, you',\n",
       " \"know the electromagnetic force, that's unbelievably strong.\",\n",
       " \"Why doesn't that apply over these kind of macro scales\",\n",
       " 'like gravity?',\n",
       " 'Let me write it there, macro scales.',\n",
       " \"Why doesn't it apply to macro scales?\",\n",
       " \"And there's nothing about the electromagnetic force, why\",\n",
       " \"it can't, or it actually does apply over large distances.\",\n",
       " \"The reality though, is you don't have these huge concentrations\",\n",
       " 'of either Coulomb charges or magnetism the way you do mass.',\n",
       " 'So the mass that you have such huge concentrations,',\n",
       " 'it can operate over huge, huge distances,',\n",
       " \"even though it's way, way, way weaker\",\n",
       " 'than the electromagnetic force.',\n",
       " 'The electromagnetic force, what happens',\n",
       " \"is because it's both attractive and repulsive,\",\n",
       " 'it tends to kind of sort itself out.',\n",
       " \"So you don't have these huge, huge, huge concentrations\",\n",
       " 'of charge.',\n",
       " 'Now, the other thing you might be wondering about',\n",
       " 'is, why is it called the electromagnetic force?',\n",
       " \"In our everyday life, there's things like the Coulomb force\",\n",
       " \"or the electrostatic force, which we're familiar with.\",\n",
       " 'Positive charges or like charges want',\n",
       " 'to repel-- if both of these were negative,',\n",
       " 'the same thing would be happening--',\n",
       " 'and different charges like to attract.',\n",
       " \"We've seen this multiple times.\",\n",
       " 'This is the Coulomb force or the electrostatic force.',\n",
       " 'And then on the other side of the word, I guess,',\n",
       " 'you have the magnetic part.',\n",
       " \"And magnets, you've played with magnets on your fridge.\",\n",
       " \"If they're the same side of the magnet,\",\n",
       " \"they're going to repel each other.\",\n",
       " \"If they're the opposite sides, opposite poles,\",\n",
       " \"they're going to attract each other.\",\n",
       " 'So why is it called one force?',\n",
       " \"And it's called one force-- and once again, I'm\",\n",
       " \"not going to go into detail here-- it's\",\n",
       " 'called one force because it turns out,',\n",
       " 'that the Coulomb force, the electrostatic force',\n",
       " 'and magnetic force are actually the same thing viewed',\n",
       " 'in different frames of references.',\n",
       " \"So I won't go into a lot of detail.\",\n",
       " 'But just keep that in the back of your mind, that they',\n",
       " 'are connected.',\n",
       " \"And in a future video, I'll go more\",\n",
       " 'into the intuition of how they are connected.',\n",
       " \"And it's more apparent when the charges are moving\",\n",
       " 'at relativistic frames and you have-- well,',\n",
       " \"I won't go into a lot of detail there.\",\n",
       " 'But just keep in mind that they really',\n",
       " 'are the same force, just viewed from different frames',\n",
       " 'of reference.',\n",
       " 'Now, the strongest of the force is probably',\n",
       " 'the best named of them all.',\n",
       " \"And that's the strong force.\",\n",
       " 'That is the strong force.',\n",
       " \"And although you probably haven't seen this yet\",\n",
       " 'in chemistry classes, it actually',\n",
       " 'applies very strongly in chemistry.',\n",
       " 'Because from the get-go, when you first learn about atoms--',\n",
       " 'let me draw a helium atom.',\n",
       " 'A helium atom has two protons in its nucleus',\n",
       " 'and it has two neutrons.',\n",
       " 'And then it also has two electrons circulating around.',\n",
       " 'So it has an electron.',\n",
       " 'And I could draw the electron as much smaller.',\n",
       " \"Well, I won't try to do anything in relative size.\",\n",
       " 'But it has two electrons floating around.',\n",
       " 'And one question that may or may not have jumped into your mind',\n",
       " 'when you first saw this model of an atom',\n",
       " 'is like, well, I see why the electrons are',\n",
       " 'attracted to the nucleus.',\n",
       " 'It has a negative Coulomb charge.',\n",
       " 'The nucleus has a net positive Coulomb charge.',\n",
       " \"But what's not so obvious and what\",\n",
       " 'tends not to sometimes be explained in chemistry class',\n",
       " 'is these two positive charges are',\n",
       " 'sitting right next to each other.',\n",
       " 'If the electromagnetic force was the only force in play,',\n",
       " 'if the Coulomb force was the only thing happening,',\n",
       " 'these guys would just run away from each other.',\n",
       " 'They could repel each other.',\n",
       " \"And so the only reason why they're\",\n",
       " \"able to stick to each other is that there's\",\n",
       " 'an even stronger force than the electromagnetic force',\n",
       " 'operating at these very, very, very small distances.',\n",
       " 'So if you get two of these protons close enough together,',\n",
       " 'and the strong force only applies over very, very, very',\n",
       " 'small distances, subatomic or I should even',\n",
       " 'say subnucleic distances, then the strong interaction',\n",
       " 'comes into play.',\n",
       " 'So then you have the strong interaction actually keeping',\n",
       " 'these charges together.',\n",
       " 'And once again, just to keep it in mind relative to gravity,',\n",
       " 'it is 10 to the 38th times the strength of gravity.',\n",
       " \"Or it's about 100 times stronger than the electromagnetic force.\",\n",
       " 'So once again, the reason why you',\n",
       " \"don't see the strong force, which\",\n",
       " 'is the strongest of all the forces,',\n",
       " 'or the weak interaction, applying over huge scales',\n",
       " 'is that their strength dies off super, super fast.',\n",
       " 'Even when you start going to a larger radius nucleuses',\n",
       " 'of atoms, the strength starts to die off,',\n",
       " 'especially for the strong force.',\n",
       " \"The reason why you don't see the electromagnetic force operating\",\n",
       " 'over large distances, even though in theory it can,',\n",
       " \"like gravity, is that you don't see\",\n",
       " 'the type of charge concentrations the way',\n",
       " 'you see mass concentrations in the universe.',\n",
       " 'Because the charge concentrations',\n",
       " 'tend to sort them out.',\n",
       " 'They start to equalize.',\n",
       " 'If I have a huge positive charge there',\n",
       " 'and a huge negative charge there,',\n",
       " 'they will attract each other and then become',\n",
       " 'essentially a big lump of neutral charge.',\n",
       " \"And once they're a big lump of neutral charge,\",\n",
       " \"they won't interact with anything else.\",\n",
       " 'And gravity, if you have one mass and another mass,',\n",
       " 'and they attract each other, then you',\n",
       " \"have another mass that's even better\",\n",
       " 'to attracting at other masses.',\n",
       " \"And so it'll keep attracting things to it.\",\n",
       " 'So it kind of snowballs the process.',\n",
       " \"And that's why gravity operates on these really, really\",\n",
       " 'large, large objects in our universe',\n",
       " 'and on the universe as a whole.']"
      ]
     },
     "execution_count": 48,
     "metadata": {},
     "output_type": "execute_result"
    }
   ],
   "source": [
    "exp.forces_transcript.splitlines()[1::2]"
   ]
  },
  {
   "cell_type": "markdown",
   "metadata": {},
   "source": [
    "## preprocess lecture, question, and answer text"
   ]
  },
  {
   "cell_type": "code",
   "execution_count": 49,
   "metadata": {
    "ExecuteTime": {
     "end_time": "2021-01-12T20:26:42.733507Z",
     "start_time": "2021-01-12T20:26:42.709866Z"
    }
   },
   "outputs": [],
   "source": [
    "# keep track of manual lemmatizations to spot-check below\n",
    "manual_changes = defaultdict(int)"
   ]
  },
  {
   "cell_type": "code",
   "execution_count": null,
   "metadata": {
    "ExecuteTime": {
     "end_time": "2021-01-12T20:50:24.817578Z",
     "start_time": "2021-01-12T20:50:24.808297Z"
    }
   },
   "outputs": [],
   "source": []
  },
  {
   "cell_type": "code",
   "execution_count": 50,
   "metadata": {
    "ExecuteTime": {
     "end_time": "2021-01-12T20:26:44.378198Z",
     "start_time": "2021-01-12T20:26:43.599278Z"
    }
   },
   "outputs": [],
   "source": [
    "ff_lines = exp.forces_transcript.splitlines()\n",
    "ff_timestamps = ff_lines[::2]\n",
    "ff_text_lines = ff_lines[1::2]\n",
    "ff_lines_processed = preprocess_text(ff_text_lines, man_changes=manual_changes)\n",
    "\n",
    "ff_transcript_processed = []\n",
    "for ts_line, txt_line in zip(ff_timestamps, ff_lines_processed):\n",
    "    ff_transcript_processed.append(f'{ts_line}\\n{txt_line}')\n",
    "ff_transcript_processed = '\\n'.join(ff_transcript_processed)"
   ]
  },
  {
   "cell_type": "code",
   "execution_count": 51,
   "metadata": {
    "ExecuteTime": {
     "end_time": "2021-01-12T20:26:50.513851Z",
     "start_time": "2021-01-12T20:26:50.264417Z"
    }
   },
   "outputs": [],
   "source": [
    "bos_lines = exp.bos_transcript.splitlines()\n",
    "bos_timestamps = bos_lines[::2]\n",
    "bos_text_lines = bos_lines[1::2]\n",
    "bos_lines_processed = preprocess_text(bos_text_lines, man_changes=manual_changes)\n",
    "\n",
    "bos_transcript_processed = []\n",
    "for ts_line, txt_line in zip(bos_timestamps, bos_lines_processed):\n",
    "    bos_transcript_processed.append(f'{ts_line}\\n{txt_line}')\n",
    "bos_transcript_processed = '\\n'.join(bos_transcript_processed)"
   ]
  },
  {
   "cell_type": "code",
   "execution_count": 52,
   "metadata": {
    "ExecuteTime": {
     "end_time": "2021-01-12T20:26:54.012143Z",
     "start_time": "2021-01-12T20:26:53.777592Z"
    }
   },
   "outputs": [],
   "source": [
    "quiz_text = exp.questions.values[:, 1:]\n",
    "quiz_text_processed = preprocess_text(quiz_text.ravel(), man_changes=manual_changes)\n",
    "quiz_text_processed = np.reshape(quiz_text_processed, quiz_text.shape)\n",
    "question_text = quiz_text_processed[:, 0]\n",
    "correct_answer_text = quiz_text_processed[:, 1]"
   ]
  },
  {
   "cell_type": "code",
   "execution_count": 76,
   "metadata": {
    "ExecuteTime": {
     "end_time": "2021-01-12T20:37:05.628928Z",
     "start_time": "2021-01-12T20:37:05.617062Z"
    },
    "scrolled": false
   },
   "outputs": [
    {
     "data": {
      "text/html": [
       "<table style=width:30%;border:0px;margin-left:auto;margin-right:auto><caption style=color:unset;text-align:center;font-size:2em;font-weight:bold>Manual lemmatizations</caption><th style=border:0px;font-size:16px;text-align:center>Word</th><th style=border:0px;font-size:16px;text-align:center>Lemma</th><th style=border:0px;font-size:16px;text-align:center>Count</th><tr style=border:0px><td style=border:0px;width:33.333333333333336%;vertical-align:top;font-size:14px;text-align:center>following</td><td style=border:0px;width:33.333333333333336%;vertical-align:top;font-size:14px;text-align:center>follow</td><td style=border:0px;width:33.333333333333336%;vertical-align:top;font-size:14px;text-align:center>19</td></tr><tr style=border:0px><td style=border:0px;width:33.333333333333336%;vertical-align:top;font-size:14px;text-align:center>denser</td><td style=border:0px;width:33.333333333333336%;vertical-align:top;font-size:14px;text-align:center>dense</td><td style=border:0px;width:33.333333333333336%;vertical-align:top;font-size:14px;text-align:center>6</td></tr><tr style=border:0px><td style=border:0px;width:33.333333333333336%;vertical-align:top;font-size:14px;text-align:center>slowly</td><td style=border:0px;width:33.333333333333336%;vertical-align:top;font-size:14px;text-align:center>slow</td><td style=border:0px;width:33.333333333333336%;vertical-align:top;font-size:14px;text-align:center>5</td></tr><tr style=border:0px><td style=border:0px;width:33.333333333333336%;vertical-align:top;font-size:14px;text-align:center>combined</td><td style=border:0px;width:33.333333333333336%;vertical-align:top;font-size:14px;text-align:center>combine</td><td style=border:0px;width:33.333333333333336%;vertical-align:top;font-size:14px;text-align:center>5</td></tr><tr style=border:0px><td style=border:0px;width:33.333333333333336%;vertical-align:top;font-size:14px;text-align:center>extremely</td><td style=border:0px;width:33.333333333333336%;vertical-align:top;font-size:14px;text-align:center>extreme</td><td style=border:0px;width:33.333333333333336%;vertical-align:top;font-size:14px;text-align:center>3</td></tr><tr style=border:0px><td style=border:0px;width:33.333333333333336%;vertical-align:top;font-size:14px;text-align:center>surprising</td><td style=border:0px;width:33.333333333333336%;vertical-align:top;font-size:14px;text-align:center>surprise</td><td style=border:0px;width:33.333333333333336%;vertical-align:top;font-size:14px;text-align:center>2</td></tr><tr style=border:0px><td style=border:0px;width:33.333333333333336%;vertical-align:top;font-size:14px;text-align:center>essentially</td><td style=border:0px;width:33.333333333333336%;vertical-align:top;font-size:14px;text-align:center>essential</td><td style=border:0px;width:33.333333333333336%;vertical-align:top;font-size:14px;text-align:center>2</td></tr><tr style=border:0px><td style=border:0px;width:33.333333333333336%;vertical-align:top;font-size:14px;text-align:center>applies</td><td style=border:0px;width:33.333333333333336%;vertical-align:top;font-size:14px;text-align:center>apply</td><td style=border:0px;width:33.333333333333336%;vertical-align:top;font-size:14px;text-align:center>2</td></tr><tr style=border:0px><td style=border:0px;width:33.333333333333336%;vertical-align:top;font-size:14px;text-align:center>condensing</td><td style=border:0px;width:33.333333333333336%;vertical-align:top;font-size:14px;text-align:center>condense</td><td style=border:0px;width:33.333333333333336%;vertical-align:top;font-size:14px;text-align:center>2</td></tr><tr style=border:0px><td style=border:0px;width:33.333333333333336%;vertical-align:top;font-size:14px;text-align:center>obviously</td><td style=border:0px;width:33.333333333333336%;vertical-align:top;font-size:14px;text-align:center>obvious</td><td style=border:0px;width:33.333333333333336%;vertical-align:top;font-size:14px;text-align:center>2</td></tr><tr style=border:0px><td style=border:0px;width:33.333333333333336%;vertical-align:top;font-size:14px;text-align:center>positively</td><td style=border:0px;width:33.333333333333336%;vertical-align:top;font-size:14px;text-align:center>positive</td><td style=border:0px;width:33.333333333333336%;vertical-align:top;font-size:14px;text-align:center>2</td></tr><tr style=border:0px><td style=border:0px;width:33.333333333333336%;vertical-align:top;font-size:14px;text-align:center>slightly</td><td style=border:0px;width:33.333333333333336%;vertical-align:top;font-size:14px;text-align:center>slight</td><td style=border:0px;width:33.333333333333336%;vertical-align:top;font-size:14px;text-align:center>2</td></tr><tr style=border:0px><td style=border:0px;width:33.333333333333336%;vertical-align:top;font-size:14px;text-align:center>eventually</td><td style=border:0px;width:33.333333333333336%;vertical-align:top;font-size:14px;text-align:center>eventual</td><td style=border:0px;width:33.333333333333336%;vertical-align:top;font-size:14px;text-align:center>2</td></tr><tr style=border:0px><td style=border:0px;width:33.333333333333336%;vertical-align:top;font-size:14px;text-align:center>roughly</td><td style=border:0px;width:33.333333333333336%;vertical-align:top;font-size:14px;text-align:center>rough</td><td style=border:0px;width:33.333333333333336%;vertical-align:top;font-size:14px;text-align:center>2</td></tr><tr style=border:0px><td style=border:0px;width:33.333333333333336%;vertical-align:top;font-size:14px;text-align:center>stronger</td><td style=border:0px;width:33.333333333333336%;vertical-align:top;font-size:14px;text-align:center>strong</td><td style=border:0px;width:33.333333333333336%;vertical-align:top;font-size:14px;text-align:center>2</td></tr><tr style=border:0px><td style=border:0px;width:33.333333333333336%;vertical-align:top;font-size:14px;text-align:center>negatively</td><td style=border:0px;width:33.333333333333336%;vertical-align:top;font-size:14px;text-align:center>negative</td><td style=border:0px;width:33.333333333333336%;vertical-align:top;font-size:14px;text-align:center>2</td></tr><tr style=border:0px><td style=border:0px;width:33.333333333333336%;vertical-align:top;font-size:14px;text-align:center>occurs</td><td style=border:0px;width:33.333333333333336%;vertical-align:top;font-size:14px;text-align:center>occur</td><td style=border:0px;width:33.333333333333336%;vertical-align:top;font-size:14px;text-align:center>2</td></tr><tr style=border:0px><td style=border:0px;width:33.333333333333336%;vertical-align:top;font-size:14px;text-align:center>exactly</td><td style=border:0px;width:33.333333333333336%;vertical-align:top;font-size:14px;text-align:center>exact</td><td style=border:0px;width:33.333333333333336%;vertical-align:top;font-size:14px;text-align:center>1</td></tr><tr style=border:0px><td style=border:0px;width:33.333333333333336%;vertical-align:top;font-size:14px;text-align:center>completely</td><td style=border:0px;width:33.333333333333336%;vertical-align:top;font-size:14px;text-align:center>complete</td><td style=border:0px;width:33.333333333333336%;vertical-align:top;font-size:14px;text-align:center>1</td></tr><tr style=border:0px><td style=border:0px;width:33.333333333333336%;vertical-align:top;font-size:14px;text-align:center>strongest</td><td style=border:0px;width:33.333333333333336%;vertical-align:top;font-size:14px;text-align:center>strong</td><td style=border:0px;width:33.333333333333336%;vertical-align:top;font-size:14px;text-align:center>1</td></tr><tr style=border:0px><td style=border:0px;width:33.333333333333336%;vertical-align:top;font-size:14px;text-align:center>disappears</td><td style=border:0px;width:33.333333333333336%;vertical-align:top;font-size:14px;text-align:center>disappear</td><td style=border:0px;width:33.333333333333336%;vertical-align:top;font-size:14px;text-align:center>1</td></tr><tr style=border:0px><td style=border:0px;width:33.333333333333336%;vertical-align:top;font-size:14px;text-align:center>strongly</td><td style=border:0px;width:33.333333333333336%;vertical-align:top;font-size:14px;text-align:center>strong</td><td style=border:0px;width:33.333333333333336%;vertical-align:top;font-size:14px;text-align:center>1</td></tr><tr style=border:0px><td style=border:0px;width:33.333333333333336%;vertical-align:top;font-size:14px;text-align:center>especially</td><td style=border:0px;width:33.333333333333336%;vertical-align:top;font-size:14px;text-align:center>specially</td><td style=border:0px;width:33.333333333333336%;vertical-align:top;font-size:14px;text-align:center>1</td></tr><tr style=border:0px><td style=border:0px;width:33.333333333333336%;vertical-align:top;font-size:14px;text-align:center>interesting</td><td style=border:0px;width:33.333333333333336%;vertical-align:top;font-size:14px;text-align:center>interest</td><td style=border:0px;width:33.333333333333336%;vertical-align:top;font-size:14px;text-align:center>1</td></tr><tr style=border:0px><td style=border:0px;width:33.333333333333336%;vertical-align:top;font-size:14px;text-align:center>happens</td><td style=border:0px;width:33.333333333333336%;vertical-align:top;font-size:14px;text-align:center>happen</td><td style=border:0px;width:33.333333333333336%;vertical-align:top;font-size:14px;text-align:center>1</td></tr><tr style=border:0px><td style=border:0px;width:33.333333333333336%;vertical-align:top;font-size:14px;text-align:center>degrades</td><td style=border:0px;width:33.333333333333336%;vertical-align:top;font-size:14px;text-align:center>degrade</td><td style=border:0px;width:33.333333333333336%;vertical-align:top;font-size:14px;text-align:center>1</td></tr><tr style=border:0px><td style=border:0px;width:33.333333333333336%;vertical-align:top;font-size:14px;text-align:center>fused</td><td style=border:0px;width:33.333333333333336%;vertical-align:top;font-size:14px;text-align:center>fuse</td><td style=border:0px;width:33.333333333333336%;vertical-align:top;font-size:14px;text-align:center>1</td></tr><tr style=border:0px><td style=border:0px;width:33.333333333333336%;vertical-align:top;font-size:14px;text-align:center>hydrogens</td><td style=border:0px;width:33.333333333333336%;vertical-align:top;font-size:14px;text-align:center>hydrogen</td><td style=border:0px;width:33.333333333333336%;vertical-align:top;font-size:14px;text-align:center>1</td></tr><tr style=border:0px><td style=border:0px;width:33.333333333333336%;vertical-align:top;font-size:14px;text-align:center>collides</td><td style=border:0px;width:33.333333333333336%;vertical-align:top;font-size:14px;text-align:center>collide</td><td style=border:0px;width:33.333333333333336%;vertical-align:top;font-size:14px;text-align:center>1</td></tr><tr style=border:0px><td style=border:0px;width:33.333333333333336%;vertical-align:top;font-size:14px;text-align:center>relatively</td><td style=border:0px;width:33.333333333333336%;vertical-align:top;font-size:14px;text-align:center>relative</td><td style=border:0px;width:33.333333333333336%;vertical-align:top;font-size:14px;text-align:center>1</td></tr><tr style=border:0px><td style=border:0px;width:33.333333333333336%;vertical-align:top;font-size:14px;text-align:center>explains</td><td style=border:0px;width:33.333333333333336%;vertical-align:top;font-size:14px;text-align:center>explain</td><td style=border:0px;width:33.333333333333336%;vertical-align:top;font-size:14px;text-align:center>1</td></tr><tr style=border:0px><td style=border:0px;width:33.333333333333336%;vertical-align:top;font-size:14px;text-align:center>prevents</td><td style=border:0px;width:33.333333333333336%;vertical-align:top;font-size:14px;text-align:center>prevent</td><td style=border:0px;width:33.333333333333336%;vertical-align:top;font-size:14px;text-align:center>1</td></tr><tr style=border:0px><td style=border:0px;width:33.333333333333336%;vertical-align:top;font-size:14px;text-align:center>accurately</td><td style=border:0px;width:33.333333333333336%;vertical-align:top;font-size:14px;text-align:center>accurate</td><td style=border:0px;width:33.333333333333336%;vertical-align:top;font-size:14px;text-align:center>1</td></tr><tr style=border:0px><td style=border:0px;width:33.333333333333336%;vertical-align:top;font-size:14px;text-align:center>defines</td><td style=border:0px;width:33.333333333333336%;vertical-align:top;font-size:14px;text-align:center>define</td><td style=border:0px;width:33.333333333333336%;vertical-align:top;font-size:14px;text-align:center>1</td></tr><tr style=border:0px><td style=border:0px;width:33.333333333333336%;vertical-align:top;font-size:14px;text-align:center>inflated</td><td style=border:0px;width:33.333333333333336%;vertical-align:top;font-size:14px;text-align:center>inflate</td><td style=border:0px;width:33.333333333333336%;vertical-align:top;font-size:14px;text-align:center>1</td></tr></table>"
      ],
      "text/plain": [
       "<IPython.core.display.HTML object>"
      ]
     },
     "metadata": {},
     "output_type": "display_data"
    }
   ],
   "source": [
    "man_changes_ordered = sorted(manual_changes.items(), key=lambda item: item[1], reverse=True)\n",
    "multicol_display(*np.ravel([[*k, v] for k, v in man_changes_ordered]),\n",
    "                 ncols=3,\n",
    "                 caption=\"Manual lemmatizations\",\n",
    "                 col_headers=('Word', 'Lemma', 'Count'),\n",
    "                 table_css={'width': '30%'})"
   ]
  },
  {
   "cell_type": "markdown",
   "metadata": {},
   "source": [
    "## Parse lecture transcripts into overlapping sliding windows"
   ]
  },
  {
   "cell_type": "code",
   "execution_count": 19,
   "metadata": {
    "ExecuteTime": {
     "end_time": "2020-08-09T06:54:52.845670Z",
     "start_time": "2020-08-09T06:54:52.831556Z"
    }
   },
   "outputs": [],
   "source": [
    "forces_windows, forces_timestamps = parse_windows(ff_transcript_processed, \n",
    "                                                  LECTURE_WSIZE)\n",
    "bos_windows, bos_timestamps = parse_windows(bos_transcript_processed, \n",
    "                                            LECTURE_WSIZE)"
   ]
  },
  {
   "cell_type": "markdown",
   "metadata": {
    "ExecuteTime": {
     "end_time": "2020-02-14T23:30:58.886025Z",
     "start_time": "2020-02-14T23:30:58.880720Z"
    }
   },
   "source": [
    "## Model lectures and quiz questions"
   ]
  },
  {
   "cell_type": "code",
   "execution_count": 20,
   "metadata": {
    "ExecuteTime": {
     "end_time": "2020-08-09T06:54:55.218024Z",
     "start_time": "2020-08-09T06:54:52.850869Z"
    },
    "scrolled": true
   },
   "outputs": [],
   "source": [
    "# create corpus from lecture windows, question text, and correct answer text\n",
    "corpus = np.concatenate((forces_windows, \n",
    "                         bos_windows, \n",
    "                         question_text, \n",
    "                         correct_answer_text))\n",
    "\n",
    "# fit CountVectorizer and LatentDirichletAllocation models to full corpus\n",
    "cv = CountVectorizer(**CV_PARAMS)\n",
    "lda = LatentDirichletAllocation(**LDA_PARAMS)\n",
    "lda.fit(cv.fit_transform(corpus))\n",
    "\n",
    "\n",
    "# transform lecture windows\n",
    "forces_traj = lda.transform(cv.transform(forces_windows))\n",
    "bos_traj = lda.transform(cv.transform(bos_windows))\n",
    "\n",
    "# transform questions\n",
    "all_questions = lda.transform(cv.transform(question_text))\n",
    "\n",
    "# transform answers\n",
    "all_answers = lda.transform(cv.transform(quiz_text_processed[:, 1:].ravel()))\n",
    "all_answers = all_answers.reshape(39, 4, 15)\n",
    "\n",
    "# interpolate lecture trajectories to 1 topic vector per second\n",
    "forces_traj = interp_lecture(forces_traj, forces_timestamps)\n",
    "bos_traj = interp_lecture(bos_traj, bos_timestamps)"
   ]
  },
  {
   "cell_type": "markdown",
   "metadata": {},
   "source": [
    "## Concat question vectors, transform answers"
   ]
  },
  {
   "cell_type": "code",
   "execution_count": 21,
   "metadata": {
    "ExecuteTime": {
     "end_time": "2020-08-09T06:54:55.227213Z",
     "start_time": "2020-08-09T06:54:55.221036Z"
    }
   },
   "outputs": [],
   "source": [
    "exp.forces_traj = forces_traj\n",
    "exp.bos_traj = bos_traj\n",
    "exp.question_vectors = all_questions\n",
    "exp.answer_vectors = all_answers"
   ]
  },
  {
   "cell_type": "code",
   "execution_count": 22,
   "metadata": {
    "ExecuteTime": {
     "end_time": "2020-08-09T06:54:55.240997Z",
     "start_time": "2020-08-09T06:54:55.230821Z"
    },
    "scrolled": false
   },
   "outputs": [
    {
     "name": "stdout",
     "output_type": "stream",
     "text": [
      "topic 1:\n",
      "\tfundamental, go, force, surprise, gravity, start, keep, video, high, level\n",
      "topic 2:\n",
      "\thydrogen, helium, fuse, atomic, mass, get, star, main, deuterium, energy\n",
      "topic 3:\n",
      "\tforce, gravity, strong, time, distance, apply, interaction, weak, actual, strength\n",
      "topic 4:\n",
      "\tforce, go, call, charge, know, magnet, side, electrostatic, different, magnetic\n",
      "topic 5:\n",
      "\tdense, slow, atom, go, get, condense, mass, move, fast, forward\n",
      "topic 6:\n",
      "\tweak, proton, interaction, neutron, go, electron, cesium, nucleon, extra, actual\n",
      "topic 7:\n",
      "\tignition, enough, pressure, actual, proton, fusion, energy, mass, result, get\n",
      "topic 8:\n",
      "\tfusion, get, threshold, mass, occur, star, temperature, core, pressure, actual\n",
      "topic 9:\n",
      "\thydrogen, atom, temperature, dense, get, happen, go, center, neat, want\n",
      "topic 10:\n",
      "\tforce, strong, electron, nucleus, atom, charge, mind, coulomb, well, chemistry\n",
      "topic 11:\n",
      "\tmass, attract, charge, universe, large, gravity, another, neutral, lump, big\n",
      "topic 12:\n",
      "\thuge, force, concentration, charge, electromagnetic, way, strong, mass, though, start\n",
      "topic 13:\n",
      "\thuge, atom, cloud, hydrogen, space, hugh, float, say, combine, distance\n",
      "topic 14:\n",
      "\tscale, force, gravity, weak, actual, around, orbit, start, attraction, gravitational\n",
      "topic 15:\n",
      "\tforce, actual, much, get, nucleus, enough, close, coulomb, atom, huge\n"
     ]
    }
   ],
   "source": [
    "topic_words = get_top_words(cv, lda)\n",
    "for topic, words in topic_words.items():\n",
    "    print(f'topic {topic + 1}:\\n\\t{\", \".join(words)}')"
   ]
  },
  {
   "cell_type": "code",
   "execution_count": 23,
   "metadata": {
    "ExecuteTime": {
     "end_time": "2020-08-09T06:54:56.535196Z",
     "start_time": "2020-08-09T06:54:55.248051Z"
    },
    "scrolled": false
   },
   "outputs": [
    {
     "data": {
      "image/png": "[encoded data removed]",
      "text/plain": [
       "<Figure size 1080x720 with 6 Axes>"
      ]
     },
     "metadata": {},
     "output_type": "display_data"
    }
   ],
   "source": [
    "sns.set_style('ticks')\n",
    "fig, axarr = plt.subplots(2, 3)\n",
    "fig.set_size_inches(15, 10)\n",
    "axarr = axarr.flatten()\n",
    "\n",
    "for i, traj in enumerate([forces_traj, \n",
    "                          bos_traj, \n",
    "                          None, \n",
    "                          all_questions[:15], \n",
    "                          all_questions[15:30], \n",
    "                          all_questions[30:]]):\n",
    "    ax = axarr[i]\n",
    "    if traj is None:\n",
    "        ax.axis('off')\n",
    "        continue\n",
    "        \n",
    "    topic_vars = np.var(traj, axis=0)\n",
    "    bars = ax.bar(x=list(range(1, 16)), height=topic_vars, color=sns.color_palette('hls', 15))\n",
    "    ax.set_ylim(0, .175)\n",
    "    ax.set_xlim(.5, 15.5)\n",
    "    ax.set_xticks(list(range(2, 16, 2)))\n",
    "    \n",
    "    if i == 0:\n",
    "        ax.set_ylabel('Mean topic activation', fontsize='x-large')\n",
    "        ax.set_title('Four Forces', fontsize='xx-large')\n",
    "        ax.annotate('Lectures', xy=(-.5, .5), xycoords=ax.yaxis.label, \n",
    "                    size='xx-large', rotation=90, ha='right', va='center')\n",
    "    elif i == 1:\n",
    "        ax.set_title('Birth of Stars', fontsize='xx-large')\n",
    "    elif i == 3:\n",
    "        ax.set_ylabel('Mean topic activation', fontsize='x-large')\n",
    "        ax.annotate('Questions', xy=(-.5, .5), xycoords=ax.yaxis.label, \n",
    "                    size='xx-large', rotation=90, ha='right', va='center')\n",
    "    elif i == 5:\n",
    "        ax.set_title('General Knowledge', fontsize='xx-large')\n",
    "        \n",
    "    if i > 2:\n",
    "        ax.set_xlabel('Topic dimension', fontsize='x-large')\n",
    "        \n",
    "\n",
    "plt.tight_layout()\n",
    "# plt.savefig(FIG_DIR.joinpath('topics-bars.pdf'), bbox_inches='tight')\n",
    "plt.show()"
   ]
  },
  {
   "cell_type": "markdown",
   "metadata": {
    "ExecuteTime": {
     "end_time": "2020-02-16T17:52:54.494287Z",
     "start_time": "2020-02-16T17:52:54.387881Z"
    }
   },
   "source": [
    "## Save trajectories and fit models"
   ]
  },
  {
   "cell_type": "code",
   "execution_count": 24,
   "metadata": {
    "ExecuteTime": {
     "end_time": "2020-08-09T06:54:56.639698Z",
     "start_time": "2020-08-09T06:54:56.537962Z"
    }
   },
   "outputs": [],
   "source": [
    "# np.save(TRAJS_DIR.joinpath('forces_lecture'), forces_traj)\n",
    "# np.save(TRAJS_DIR.joinpath('bos_lecture'), bos_traj)\n",
    "# np.save(TRAJS_DIR.joinpath('all_questions'), all_questions)\n",
    "# np.save(TRAJS_DIR.joinpath('all_answers'), all_answers)\n",
    "# np.save(RAW_DIR.joinpath('forces_windows'), forces_windows)\n",
    "# np.save(RAW_DIR.joinpath('bos_windows'), bos_windows)\n",
    "# np.save(MODELS_DIR.joinpath('fit_CV'), cv)\n",
    "# np.save(MODELS_DIR.joinpath('fit_LDA'), lda)"
   ]
  }
 ],
 "metadata": {
  "kernelspec": {
   "display_name": "Python 3",
   "language": "python",
   "name": "python3"
  },
  "language_info": {
   "codemirror_mode": {
    "name": "ipython",
    "version": 3
   },
   "file_extension": ".py",
   "mimetype": "text/x-python",
   "name": "python",
   "nbconvert_exporter": "python",
   "pygments_lexer": "ipython3",
   "version": "3.8.6"
  }
 },
 "nbformat": 4,
 "nbformat_minor": 2
}
