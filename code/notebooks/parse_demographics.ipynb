{
 "cells": [
  {
   "cell_type": "code",
   "execution_count": 1,
   "metadata": {},
   "outputs": [
    {
     "name": "stdout",
     "output_type": "stream",
     "text": [
      "Requirement already satisfied: davos in /Users/jmanning/opt/anaconda3/envs/el-khan/lib/python3.10/site-packages (0.1.1)\n",
      "Requirement already satisfied: packaging in /Users/jmanning/opt/anaconda3/envs/el-khan/lib/python3.10/site-packages (from davos) (23.0)\n",
      "Requirement already satisfied: setuptools in /Users/jmanning/opt/anaconda3/envs/el-khan/lib/python3.10/site-packages (from davos) (66.0.0)\n"
     ]
    }
   ],
   "source": [
    "!pip install davos\n",
    "import davos"
   ]
  },
  {
   "cell_type": "code",
   "execution_count": 2,
   "metadata": {},
   "outputs": [],
   "source": [
    "smuggle pandas as pd # pip: pandas==1.5.1\n",
    "smuggle numpy as np # pip: numpy==1.23.4\n",
    "\n",
    "smuggle os"
   ]
  },
  {
   "cell_type": "code",
   "execution_count": 3,
   "metadata": {},
   "outputs": [],
   "source": [
    "fname = os.path.join(os.path.split(os.path.split(os.getcwd())[0])[0], 'data', 'raw', 'demographics.csv')\n",
    "demographics = pd.read_csv(fname)"
   ]
  },
  {
   "attachments": {},
   "cell_type": "markdown",
   "metadata": {},
   "source": [
    "Add some useful information"
   ]
  },
  {
   "cell_type": "code",
   "execution_count": 4,
   "metadata": {},
   "outputs": [],
   "source": [
    "demographics['Age'] = demographics['Timestamp'].astype('datetime64[ns]').apply(lambda x: x.year) - demographics['Birth year']\n",
    "demographics.drop('Birth year', axis=1, inplace=True)\n",
    "\n",
    "alertness_dict = {'Very alert': 2, 'Fairly alert': 1, 'Neutral': 0, 'A little sluggish': -1, 'Very sluggish': -2}\n",
    "demographics['Alertness'] = demographics['Alertness'].map(alertness_dict)\n",
    "\n",
    "# ranges of hours were converted to dates!  correct this...\n",
    "sleep_map = {'8-Jun': '6 -- 8', '6-Apr': '4 -- 6', '8+': '8+', '0-2': '0 -- 2', '4-Feb': '2 -- 4'}\n",
    "demographics['Hours of sleep'] = demographics['Hours of sleep'].map(sleep_map)\n",
    "\n",
    "# numbers of khan courses watched were converted to dates; correct this...\n",
    "khan_map = {'2-Jan': '1 -- 2', '5-Mar': '3 -- 5', np.nan: 0, '0': '0', '10+': '10+', '10-May': '5 -- 10'}\n",
    "demographics['Khan courses watched'] = demographics['Khan courses watched'].map(khan_map)\n",
    "\n",
    "major_category_map = {\n",
    "    'Business': 'Social sciences',\n",
    "    'Mathematics and engineering (mathematics, electrical engineering, mechanical engineering, computer science, software engineering, human-computer-interactions, etc.)': 'Mathematics and engineering',\n",
    "    'BA': 'Undecided',\n",
    "    'Social sciences (e.g. psychology, sociology, economics, political science, linguistics, anthropology, archaeology, etc.)': 'Social sciences',\n",
    "    'Natural sciences (e.g. physics, chemistry, biology, neuroscience)': 'Natural sciences',\n",
    "    'Humanities (history, foreign language, literature, writing, communications, film, etc.)': 'Humanities',\n",
    "    'Creative arts (music, dance, theater, painting, sculpture, graphic design, etc.)': 'Creative arts',\n",
    "    'Professional (pre-medical, pre-law, nursing, etc.)': 'Professional',\n",
    "    'information management': 'Mathematics and engineering',\n",
    "    'none': 'Undecided',\n",
    "    'education': 'Social sciences',\n",
    "    'Undeclared': 'Undecided',\n",
    "    'Speech Therapy': 'Professional',\n",
    "    'Business Administration': 'Social sciences',\n",
    "    'Information Technology': 'Mathematics and engineering',\n",
    "    None: 'Undecided',\n",
    "    'undecided': 'Undecided',\n",
    "    'Currently undecided': 'Undecided'\n",
    "}\n",
    "demographics['Undergraduate major (category)'] = demographics['Undergraduate major (category)'].apply(lambda x: ';'.join([major_category_map[m] for m in x.split(';')]))"
   ]
  },
  {
   "cell_type": "code",
   "execution_count": 5,
   "metadata": {},
   "outputs": [
    {
     "data": {
      "text/html": [
       "<div>\n",
       "<style scoped>\n",
       "    .dataframe tbody tr th:only-of-type {\n",
       "        vertical-align: middle;\n",
       "    }\n",
       "\n",
       "    .dataframe tbody tr th {\n",
       "        vertical-align: top;\n",
       "    }\n",
       "\n",
       "    .dataframe thead th {\n",
       "        text-align: right;\n",
       "    }\n",
       "</style>\n",
       "<table border=\"1\" class=\"dataframe\">\n",
       "  <thead>\n",
       "    <tr style=\"text-align: right;\">\n",
       "      <th></th>\n",
       "      <th>Unnamed: 0</th>\n",
       "      <th>posix_timestamp</th>\n",
       "      <th>Timestamp</th>\n",
       "      <th>Data share consent</th>\n",
       "      <th>Native English</th>\n",
       "      <th>Hearing impairments</th>\n",
       "      <th>Normal color vision</th>\n",
       "      <th>Impaired focus</th>\n",
       "      <th>Gender</th>\n",
       "      <th>Ethnicity</th>\n",
       "      <th>...</th>\n",
       "      <th>Khan Academy user</th>\n",
       "      <th>Khan courses watched</th>\n",
       "      <th>Khan subjects watched</th>\n",
       "      <th>Math courses</th>\n",
       "      <th>Science and engineering courses</th>\n",
       "      <th>Other platform subjects</th>\n",
       "      <th>In-person subjects</th>\n",
       "      <th>Watched Four Fundamental Fources</th>\n",
       "      <th>Watched Birth of Stars</th>\n",
       "      <th>Age</th>\n",
       "    </tr>\n",
       "  </thead>\n",
       "  <tbody>\n",
       "    <tr>\n",
       "      <th>0</th>\n",
       "      <td>0</td>\n",
       "      <td>1.556300e+12</td>\n",
       "      <td>2019/04/26 12:38:19 PM EST</td>\n",
       "      <td>Yes</td>\n",
       "      <td>Yes</td>\n",
       "      <td>No</td>\n",
       "      <td>Yes</td>\n",
       "      <td>No</td>\n",
       "      <td>Female</td>\n",
       "      <td>Not Hispanic or Latino</td>\n",
       "      <td>...</td>\n",
       "      <td>Yes</td>\n",
       "      <td>10+</td>\n",
       "      <td>Math</td>\n",
       "      <td>Algebra 1;Geometry;Algebra 2;Trigonometry;Prec...</td>\n",
       "      <td>None of the above</td>\n",
       "      <td>None of the above</td>\n",
       "      <td>Math;Science &amp; engineering;Arts &amp; humanities;E...</td>\n",
       "      <td>No</td>\n",
       "      <td>No</td>\n",
       "      <td>19</td>\n",
       "    </tr>\n",
       "    <tr>\n",
       "      <th>1</th>\n",
       "      <td>1</td>\n",
       "      <td>1.556560e+12</td>\n",
       "      <td>2019/04/29 1:24:02 PM EST</td>\n",
       "      <td>Yes</td>\n",
       "      <td>Yes</td>\n",
       "      <td>No</td>\n",
       "      <td>Yes</td>\n",
       "      <td>No</td>\n",
       "      <td>Female</td>\n",
       "      <td>Not Hispanic or Latino</td>\n",
       "      <td>...</td>\n",
       "      <td>Yes</td>\n",
       "      <td>1 -- 2</td>\n",
       "      <td>Math;Science &amp; engineering</td>\n",
       "      <td>AP Calculus AB</td>\n",
       "      <td>Physics</td>\n",
       "      <td>None of the above</td>\n",
       "      <td>Math;Science &amp; engineering;Arts &amp; humanities</td>\n",
       "      <td>No</td>\n",
       "      <td>No</td>\n",
       "      <td>22</td>\n",
       "    </tr>\n",
       "    <tr>\n",
       "      <th>2</th>\n",
       "      <td>2</td>\n",
       "      <td>1.556570e+12</td>\n",
       "      <td>2019/04/29 2:10:09 PM EST</td>\n",
       "      <td>Yes</td>\n",
       "      <td>Yes</td>\n",
       "      <td>No</td>\n",
       "      <td>Yes</td>\n",
       "      <td>No</td>\n",
       "      <td>Male</td>\n",
       "      <td>Not Hispanic or Latino</td>\n",
       "      <td>...</td>\n",
       "      <td>No</td>\n",
       "      <td>0</td>\n",
       "      <td>NaN</td>\n",
       "      <td>NaN</td>\n",
       "      <td>NaN</td>\n",
       "      <td>NaN</td>\n",
       "      <td>NaN</td>\n",
       "      <td>NaN</td>\n",
       "      <td>NaN</td>\n",
       "      <td>19</td>\n",
       "    </tr>\n",
       "    <tr>\n",
       "      <th>3</th>\n",
       "      <td>3</td>\n",
       "      <td>1.556740e+12</td>\n",
       "      <td>2019/05/01 2:12:46 PM EST</td>\n",
       "      <td>Yes</td>\n",
       "      <td>Yes</td>\n",
       "      <td>No</td>\n",
       "      <td>Yes</td>\n",
       "      <td>No</td>\n",
       "      <td>Female</td>\n",
       "      <td>Not Hispanic or Latino</td>\n",
       "      <td>...</td>\n",
       "      <td>Yes</td>\n",
       "      <td>3 -- 5</td>\n",
       "      <td>Math;Science &amp; engineering;Economics &amp; finance</td>\n",
       "      <td>AP Calculus AB;AP Calculus BC</td>\n",
       "      <td>AP Physics 1;Chemistry;AP Chemistry;Biology;Hi...</td>\n",
       "      <td>Economics &amp; finance</td>\n",
       "      <td>None of the above</td>\n",
       "      <td>No</td>\n",
       "      <td>No</td>\n",
       "      <td>20</td>\n",
       "    </tr>\n",
       "    <tr>\n",
       "      <th>4</th>\n",
       "      <td>4</td>\n",
       "      <td>1.556900e+12</td>\n",
       "      <td>2019/05/03 12:31:51 PM EST</td>\n",
       "      <td>Yes</td>\n",
       "      <td>Yes</td>\n",
       "      <td>No</td>\n",
       "      <td>Yes</td>\n",
       "      <td>No</td>\n",
       "      <td>Female</td>\n",
       "      <td>Not Hispanic or Latino</td>\n",
       "      <td>...</td>\n",
       "      <td>Yes</td>\n",
       "      <td>10+</td>\n",
       "      <td>Math;Science &amp; engineering;Economics &amp; finance...</td>\n",
       "      <td>Multivariable Calculus;Differential Equations</td>\n",
       "      <td>Chemistry;AP Chemistry;AP Biology</td>\n",
       "      <td>Test prep</td>\n",
       "      <td>Math;Science &amp; engineering;Computing;Arts &amp; hu...</td>\n",
       "      <td>No</td>\n",
       "      <td>No</td>\n",
       "      <td>19</td>\n",
       "    </tr>\n",
       "  </tbody>\n",
       "</table>\n",
       "<p>5 rows × 27 columns</p>\n",
       "</div>"
      ],
      "text/plain": [
       "   Unnamed: 0  posix_timestamp                   Timestamp Data share consent  \\\n",
       "0           0     1.556300e+12  2019/04/26 12:38:19 PM EST                Yes   \n",
       "1           1     1.556560e+12   2019/04/29 1:24:02 PM EST                Yes   \n",
       "2           2     1.556570e+12   2019/04/29 2:10:09 PM EST                Yes   \n",
       "3           3     1.556740e+12   2019/05/01 2:12:46 PM EST                Yes   \n",
       "4           4     1.556900e+12  2019/05/03 12:31:51 PM EST                Yes   \n",
       "\n",
       "  Native English Hearing impairments Normal color vision Impaired focus  \\\n",
       "0            Yes                  No                 Yes             No   \n",
       "1            Yes                  No                 Yes             No   \n",
       "2            Yes                  No                 Yes             No   \n",
       "3            Yes                  No                 Yes             No   \n",
       "4            Yes                  No                 Yes             No   \n",
       "\n",
       "   Gender               Ethnicity  ... Khan Academy user Khan courses watched  \\\n",
       "0  Female  Not Hispanic or Latino  ...               Yes                  10+   \n",
       "1  Female  Not Hispanic or Latino  ...               Yes               1 -- 2   \n",
       "2    Male  Not Hispanic or Latino  ...                No                    0   \n",
       "3  Female  Not Hispanic or Latino  ...               Yes               3 -- 5   \n",
       "4  Female  Not Hispanic or Latino  ...               Yes                  10+   \n",
       "\n",
       "                               Khan subjects watched  \\\n",
       "0                                               Math   \n",
       "1                         Math;Science & engineering   \n",
       "2                                                NaN   \n",
       "3     Math;Science & engineering;Economics & finance   \n",
       "4  Math;Science & engineering;Economics & finance...   \n",
       "\n",
       "                                        Math courses  \\\n",
       "0  Algebra 1;Geometry;Algebra 2;Trigonometry;Prec...   \n",
       "1                                     AP Calculus AB   \n",
       "2                                                NaN   \n",
       "3                      AP Calculus AB;AP Calculus BC   \n",
       "4      Multivariable Calculus;Differential Equations   \n",
       "\n",
       "                     Science and engineering courses Other platform subjects  \\\n",
       "0                                  None of the above       None of the above   \n",
       "1                                            Physics       None of the above   \n",
       "2                                                NaN                     NaN   \n",
       "3  AP Physics 1;Chemistry;AP Chemistry;Biology;Hi...     Economics & finance   \n",
       "4                  Chemistry;AP Chemistry;AP Biology               Test prep   \n",
       "\n",
       "                                  In-person subjects  \\\n",
       "0  Math;Science & engineering;Arts & humanities;E...   \n",
       "1       Math;Science & engineering;Arts & humanities   \n",
       "2                                                NaN   \n",
       "3                                  None of the above   \n",
       "4  Math;Science & engineering;Computing;Arts & hu...   \n",
       "\n",
       "  Watched Four Fundamental Fources Watched Birth of Stars Age  \n",
       "0                               No                     No  19  \n",
       "1                               No                     No  22  \n",
       "2                              NaN                    NaN  19  \n",
       "3                               No                     No  20  \n",
       "4                               No                     No  19  \n",
       "\n",
       "[5 rows x 27 columns]"
      ]
     },
     "execution_count": 5,
     "metadata": {},
     "output_type": "execute_result"
    }
   ],
   "source": [
    "demographics.head()"
   ]
  },
  {
   "cell_type": "code",
   "execution_count": 6,
   "metadata": {},
   "outputs": [],
   "source": [
    "def summarize_counts(df, col):\n",
    "    print('Raw counts:')\n",
    "    print(df[col].value_counts())"
   ]
  },
  {
   "cell_type": "code",
   "execution_count": 7,
   "metadata": {},
   "outputs": [],
   "source": [
    "def summarize_multicounts(df, col):\n",
    "    counts = {}\n",
    "    for val in df[col].values:\n",
    "        try:\n",
    "            for x in val.split(';'):\n",
    "                if x in counts:\n",
    "                    counts[x] += 1\n",
    "                else:\n",
    "                    counts[x] = 1\n",
    "        except:\n",
    "            pass  # ignore NaNs and empty cells\n",
    "    \n",
    "    print('Raw counts:')\n",
    "    counts = [(key, counts[key]) for key in counts]\n",
    "    counts.sort(key=lambda x: x[1], reverse=True)\n",
    "\n",
    "    for k, c in counts:\n",
    "        print(f'{k}: {c}')"
   ]
  },
  {
   "cell_type": "code",
   "execution_count": 8,
   "metadata": {},
   "outputs": [],
   "source": [
    "def summarize_vals(df, col):\n",
    "    return df[col].describe()"
   ]
  },
  {
   "attachments": {},
   "cell_type": "markdown",
   "metadata": {},
   "source": [
    "# Native English speakers"
   ]
  },
  {
   "cell_type": "code",
   "execution_count": 9,
   "metadata": {},
   "outputs": [
    {
     "name": "stdout",
     "output_type": "stream",
     "text": [
      "Raw counts:\n",
      "Yes    49\n",
      "No      1\n",
      "Name: Native English, dtype: int64\n"
     ]
    }
   ],
   "source": [
    "summarize_counts(demographics, 'Native English')"
   ]
  },
  {
   "attachments": {},
   "cell_type": "markdown",
   "metadata": {},
   "source": [
    "# Hearing impairments"
   ]
  },
  {
   "cell_type": "code",
   "execution_count": 10,
   "metadata": {},
   "outputs": [
    {
     "name": "stdout",
     "output_type": "stream",
     "text": [
      "Raw counts:\n",
      "No     49\n",
      "Yes     1\n",
      "Name: Hearing impairments, dtype: int64\n"
     ]
    }
   ],
   "source": [
    "summarize_counts(demographics, 'Hearing impairments')"
   ]
  },
  {
   "attachments": {},
   "cell_type": "markdown",
   "metadata": {},
   "source": [
    "# Normal color vision"
   ]
  },
  {
   "cell_type": "code",
   "execution_count": 11,
   "metadata": {},
   "outputs": [
    {
     "name": "stdout",
     "output_type": "stream",
     "text": [
      "Raw counts:\n",
      "Yes    49\n",
      "No      1\n",
      "Name: Normal color vision, dtype: int64\n"
     ]
    }
   ],
   "source": [
    "summarize_counts(demographics, 'Normal color vision')"
   ]
  },
  {
   "attachments": {},
   "cell_type": "markdown",
   "metadata": {},
   "source": [
    "# Impaired focus"
   ]
  },
  {
   "cell_type": "code",
   "execution_count": 12,
   "metadata": {},
   "outputs": [
    {
     "name": "stdout",
     "output_type": "stream",
     "text": [
      "Raw counts:\n",
      "No    50\n",
      "Name: Impaired focus, dtype: int64\n"
     ]
    }
   ],
   "source": [
    "summarize_counts(demographics, 'Impaired focus')"
   ]
  },
  {
   "attachments": {},
   "cell_type": "markdown",
   "metadata": {},
   "source": [
    "# Age"
   ]
  },
  {
   "cell_type": "code",
   "execution_count": 13,
   "metadata": {},
   "outputs": [
    {
     "data": {
      "text/plain": [
       "count    50.00000\n",
       "mean     19.52000\n",
       "std       1.09246\n",
       "min      18.00000\n",
       "25%      19.00000\n",
       "50%      19.00000\n",
       "75%      20.00000\n",
       "max      22.00000\n",
       "Name: Age, dtype: float64"
      ]
     },
     "execution_count": 13,
     "metadata": {},
     "output_type": "execute_result"
    }
   ],
   "source": [
    "summarize_vals(demographics, 'Age')"
   ]
  },
  {
   "attachments": {},
   "cell_type": "markdown",
   "metadata": {},
   "source": [
    "# Gender"
   ]
  },
  {
   "cell_type": "code",
   "execution_count": 14,
   "metadata": {},
   "outputs": [
    {
     "name": "stdout",
     "output_type": "stream",
     "text": [
      "Raw counts:\n",
      "Female    35\n",
      "Male      15\n",
      "Name: Gender, dtype: int64\n"
     ]
    }
   ],
   "source": [
    "summarize_counts(demographics, 'Gender')"
   ]
  },
  {
   "attachments": {},
   "cell_type": "markdown",
   "metadata": {},
   "source": [
    "# Ethnicity"
   ]
  },
  {
   "cell_type": "code",
   "execution_count": 15,
   "metadata": {},
   "outputs": [
    {
     "name": "stdout",
     "output_type": "stream",
     "text": [
      "Raw counts:\n",
      "Not Hispanic or Latino    47\n",
      "Hispanic or Latino         3\n",
      "Name: Ethnicity, dtype: int64\n"
     ]
    }
   ],
   "source": [
    "summarize_counts(demographics, 'Ethnicity')"
   ]
  },
  {
   "cell_type": "markdown",
   "metadata": {},
   "source": []
  },
  {
   "attachments": {},
   "cell_type": "markdown",
   "metadata": {},
   "source": [
    "# Race"
   ]
  },
  {
   "cell_type": "code",
   "execution_count": 16,
   "metadata": {},
   "outputs": [
    {
     "name": "stdout",
     "output_type": "stream",
     "text": [
      "Raw counts:\n",
      "White: 31\n",
      "Asian: 14\n",
      "Black or African American: 5\n",
      "A mix: Indian and White: 1\n",
      "Native Hawaiian or Other Pacific Islander: 1\n",
      "Prefer not to say: 1\n"
     ]
    }
   ],
   "source": [
    "summarize_multicounts(demographics, 'Race')"
   ]
  },
  {
   "attachments": {},
   "cell_type": "markdown",
   "metadata": {},
   "source": [
    "# Highest degree achieved"
   ]
  },
  {
   "cell_type": "code",
   "execution_count": 17,
   "metadata": {},
   "outputs": [
    {
     "name": "stdout",
     "output_type": "stream",
     "text": [
      "Raw counts:\n",
      "Some college            33\n",
      "High school graduate    16\n",
      "Bachelor's degree        1\n",
      "Name: Highest degree, dtype: int64\n"
     ]
    }
   ],
   "source": [
    "summarize_counts(demographics, 'Highest degree')"
   ]
  },
  {
   "attachments": {},
   "cell_type": "markdown",
   "metadata": {},
   "source": [
    "# Undergraduate major (category)"
   ]
  },
  {
   "cell_type": "code",
   "execution_count": 18,
   "metadata": {},
   "outputs": [
    {
     "name": "stdout",
     "output_type": "stream",
     "text": [
      "Raw counts:\n",
      "Social sciences: 28\n",
      "Natural sciences: 16\n",
      "Professional: 8\n",
      "Mathematics and engineering: 7\n",
      "Humanities: 4\n",
      "Undecided: 3\n"
     ]
    }
   ],
   "source": [
    "summarize_multicounts(demographics, 'Undergraduate major (category)')"
   ]
  },
  {
   "attachments": {},
   "cell_type": "markdown",
   "metadata": {},
   "source": [
    "# Sleep"
   ]
  },
  {
   "cell_type": "code",
   "execution_count": 19,
   "metadata": {},
   "outputs": [
    {
     "name": "stdout",
     "output_type": "stream",
     "text": [
      "Raw counts:\n",
      "6 -- 8    35\n",
      "4 -- 6     9\n",
      "8+         5\n",
      "2 -- 4     1\n",
      "Name: Hours of sleep, dtype: int64\n"
     ]
    }
   ],
   "source": [
    "summarize_counts(demographics, 'Hours of sleep')"
   ]
  },
  {
   "attachments": {},
   "cell_type": "markdown",
   "metadata": {},
   "source": [
    "# Coffee consumption"
   ]
  },
  {
   "cell_type": "code",
   "execution_count": 20,
   "metadata": {},
   "outputs": [
    {
     "name": "stdout",
     "output_type": "stream",
     "text": [
      "Raw counts:\n",
      "0     38\n",
      "1     10\n",
      "4+     1\n",
      "3      1\n",
      "Name: Cups of coffee, dtype: int64\n"
     ]
    }
   ],
   "source": [
    "summarize_counts(demographics, 'Cups of coffee')"
   ]
  },
  {
   "attachments": {},
   "cell_type": "markdown",
   "metadata": {},
   "source": [
    "# Alertness"
   ]
  },
  {
   "cell_type": "code",
   "execution_count": 21,
   "metadata": {},
   "outputs": [
    {
     "data": {
      "text/plain": [
       "count    50.000000\n",
       "mean     -0.100000\n",
       "std       0.839096\n",
       "min      -2.000000\n",
       "25%      -1.000000\n",
       "50%       0.000000\n",
       "75%       1.000000\n",
       "max       1.000000\n",
       "Name: Alertness, dtype: float64"
      ]
     },
     "execution_count": 21,
     "metadata": {},
     "output_type": "execute_result"
    }
   ],
   "source": [
    "summarize_vals(demographics, 'Alertness')"
   ]
  },
  {
   "attachments": {},
   "cell_type": "markdown",
   "metadata": {},
   "source": [
    "# Khan academy exposure"
   ]
  },
  {
   "cell_type": "code",
   "execution_count": 22,
   "metadata": {},
   "outputs": [
    {
     "name": "stdout",
     "output_type": "stream",
     "text": [
      "Raw counts:\n",
      "Yes    46\n",
      "No      4\n",
      "Name: Khan Academy user, dtype: int64\n"
     ]
    }
   ],
   "source": [
    "# ever used khan academy?\n",
    "summarize_counts(demographics, 'Khan Academy user')"
   ]
  },
  {
   "cell_type": "code",
   "execution_count": 23,
   "metadata": {},
   "outputs": [
    {
     "name": "stdout",
     "output_type": "stream",
     "text": [
      "Raw counts:\n",
      "10+        19\n",
      "3 -- 5     11\n",
      "5 -- 10     8\n",
      "1 -- 2      7\n",
      "0           4\n",
      "0           1\n",
      "Name: Khan courses watched, dtype: int64\n"
     ]
    }
   ],
   "source": [
    "# number of khan courses watched\n",
    "summarize_counts(demographics, 'Khan courses watched')"
   ]
  },
  {
   "cell_type": "code",
   "execution_count": 24,
   "metadata": {},
   "outputs": [
    {
     "name": "stdout",
     "output_type": "stream",
     "text": [
      "Raw counts:\n",
      "AP Calculus AB: 21\n",
      "Precalculus: 17\n",
      "Algebra 2: 14\n",
      "AP Calculus BC: 12\n",
      "Trigonometry: 11\n",
      "Algebra 1: 10\n",
      "Geometry: 8\n",
      "Pre-algebra: 7\n",
      "None of the above: 6\n",
      "Multivariable Calculus: 5\n",
      "Differential Equations: 5\n",
      "Statistics & Probability: 4\n",
      "AP Statistics: 2\n",
      "Linear Algebra: 2\n",
      "Early Math: 1\n",
      "Arithmetic: 1\n"
     ]
    }
   ],
   "source": [
    "# khan math subjects watched\n",
    "summarize_multicounts(demographics, 'Math courses')"
   ]
  },
  {
   "cell_type": "code",
   "execution_count": 25,
   "metadata": {},
   "outputs": [
    {
     "name": "stdout",
     "output_type": "stream",
     "text": [
      "Raw counts:\n",
      "None of the above: 20\n",
      "Chemistry: 12\n",
      "Physics: 10\n",
      "AP Chemistry: 8\n",
      "AP Biology: 7\n",
      "AP Physics 1: 5\n",
      "Biology: 5\n",
      "High school Biology: 3\n",
      "AP Physics 2: 3\n",
      "Organic Chemistry: 1\n",
      "Health & Medicine: 1\n"
     ]
    }
   ],
   "source": [
    "# khan science and engineering courses watched\n",
    "summarize_multicounts(demographics, 'Science and engineering courses')"
   ]
  },
  {
   "cell_type": "code",
   "execution_count": 26,
   "metadata": {},
   "outputs": [
    {
     "name": "stdout",
     "output_type": "stream",
     "text": [
      "Raw counts:\n",
      "No          45\n",
      "Not sure     1\n",
      "Name: Watched Four Fundamental Fources, dtype: int64\n"
     ]
    }
   ],
   "source": [
    "# Watched Four Fundemantal Fources?\n",
    "summarize_counts(demographics, 'Watched Four Fundamental Fources')"
   ]
  },
  {
   "cell_type": "code",
   "execution_count": 27,
   "metadata": {},
   "outputs": [
    {
     "name": "stdout",
     "output_type": "stream",
     "text": [
      "Raw counts:\n",
      "No    46\n",
      "Name: Watched Birth of Stars, dtype: int64\n"
     ]
    }
   ],
   "source": [
    "# Watched Birth of Stars?\n",
    "summarize_counts(demographics, 'Watched Birth of Stars')"
   ]
  },
  {
   "attachments": {},
   "cell_type": "markdown",
   "metadata": {},
   "source": [
    "# Non-Khan academy courses (online)"
   ]
  },
  {
   "cell_type": "code",
   "execution_count": 28,
   "metadata": {},
   "outputs": [
    {
     "name": "stdout",
     "output_type": "stream",
     "text": [
      "Raw counts:\n",
      "None of the above: 18\n",
      "Math: 15\n",
      "Science & engineering: 11\n",
      "Test prep: 9\n",
      "Economics & finance: 3\n",
      "Arts & humanities: 2\n",
      "Computing: 2\n"
     ]
    }
   ],
   "source": [
    "summarize_multicounts(demographics, 'Other platform subjects')"
   ]
  },
  {
   "attachments": {},
   "cell_type": "markdown",
   "metadata": {},
   "source": [
    "# In-person courses"
   ]
  },
  {
   "cell_type": "code",
   "execution_count": 29,
   "metadata": {},
   "outputs": [
    {
     "name": "stdout",
     "output_type": "stream",
     "text": [
      "Raw counts:\n",
      "Math: 39\n",
      "Science & engineering: 38\n",
      "Arts & humanities: 35\n",
      "Test prep: 27\n",
      "Economics & finance: 26\n",
      "Computing: 15\n",
      "College, careers, & more: 7\n",
      "None of the above: 6\n"
     ]
    }
   ],
   "source": [
    "summarize_multicounts(demographics, 'In-person subjects')"
   ]
  }
 ],
 "metadata": {
  "kernelspec": {
   "display_name": "el-khan",
   "language": "python",
   "name": "python3"
  },
  "language_info": {
   "codemirror_mode": {
    "name": "ipython",
    "version": 3
   },
   "file_extension": ".py",
   "mimetype": "text/x-python",
   "name": "python",
   "nbconvert_exporter": "python",
   "pygments_lexer": "ipython3",
   "version": "3.10.8"
  },
  "orig_nbformat": 4,
  "vscode": {
   "interpreter": {
    "hash": "498472b3d5ac8129a125bb0afac46d2815ee4a99dfd3fc9f4975bdeb8bc3af6b"
   }
  }
 },
 "nbformat": 4,
 "nbformat_minor": 2
}
