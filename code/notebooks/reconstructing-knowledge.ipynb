{
 "cells": [
  {
   "cell_type": "markdown",
   "metadata": {},
   "source": [
    "## Imports"
   ]
  },
  {
   "cell_type": "code",
   "execution_count": 3,
   "metadata": {
    "ExecuteTime": {
     "end_time": "2020-02-18T00:46:12.651052Z",
     "start_time": "2020-02-18T00:46:12.639918Z"
    }
   },
   "outputs": [],
   "source": [
    "import sys\n",
    "import pandas as pd\n",
    "from os.path import abspath, join as opj\n",
    "\n",
    "sys.path.insert(0, abspath('../helpers/'))\n",
    "from participant import Participant\n",
    "from experiment import Experiment\n",
    "\n",
    "import matplotlib.pyplot as plt\n",
    "import seaborn as sns\n",
    "%matplotlib inline"
   ]
  },
  {
   "cell_type": "markdown",
   "metadata": {},
   "source": [
    "## Load data"
   ]
  },
  {
   "cell_type": "code",
   "execution_count": 5,
   "metadata": {
    "ExecuteTime": {
     "end_time": "2020-02-18T00:50:16.225774Z",
     "start_time": "2020-02-18T00:50:16.189175Z"
    }
   },
   "outputs": [],
   "source": [
    "raw_path = '../../data/raw/psiturk-data-raw.tsv'\n",
    "raw_data = pd.read_csv(raw_path, sep='\\t', index_col='Unnamed: 0')\n",
    "exp = Experiment()\n",
    "exp.load_questions()\n",
    "exp.load_lecture_trajs()\n",
    "exp.load_question_vectors()"
   ]
  },
  {
   "cell_type": "code",
   "execution_count": null,
   "metadata": {
    "ExecuteTime": {
     "end_time": "2020-02-18T00:50:38.289216Z",
     "start_time": "2020-02-18T00:50:38.284225Z"
    }
   },
   "outputs": [],
   "source": []
  },
  {
   "cell_type": "markdown",
   "metadata": {},
   "source": [
    "## Define experiment class"
   ]
  },
  {
   "cell_type": "code",
   "execution_count": 104,
   "metadata": {
    "ExecuteTime": {
     "end_time": "2020-02-17T15:48:56.868155Z",
     "start_time": "2020-02-17T15:48:56.850713Z"
    }
   },
   "outputs": [],
   "source": [
    "data_df = pd.read_csv(opj('../../data/raw', 'Graded_results_19f_49.csv'), index_col='Unnamed: 0')"
   ]
  },
  {
   "cell_type": "code",
   "execution_count": 108,
   "metadata": {
    "ExecuteTime": {
     "end_time": "2020-02-17T16:00:39.596628Z",
     "start_time": "2020-02-17T16:00:39.591024Z"
    },
    "scrolled": true
   },
   "outputs": [],
   "source": [
    "subdata = data_df.loc[data_df.participantID == 1]"
   ]
  },
  {
   "cell_type": "code",
   "execution_count": 113,
   "metadata": {
    "ExecuteTime": {
     "end_time": "2020-02-17T16:04:11.812637Z",
     "start_time": "2020-02-17T16:04:11.793004Z"
    },
    "scrolled": true
   },
   "outputs": [
    {
     "data": {
      "text/html": [
       "<div>\n",
       "<style scoped>\n",
       "    .dataframe tbody tr th:only-of-type {\n",
       "        vertical-align: middle;\n",
       "    }\n",
       "\n",
       "    .dataframe tbody tr th {\n",
       "        vertical-align: top;\n",
       "    }\n",
       "\n",
       "    .dataframe thead th {\n",
       "        text-align: right;\n",
       "    }\n",
       "</style>\n",
       "<table border=\"1\" class=\"dataframe\">\n",
       "  <thead>\n",
       "    <tr style=\"text-align: right;\">\n",
       "      <th></th>\n",
       "      <th>correct?</th>\n",
       "      <th>participantID</th>\n",
       "      <th>qID</th>\n",
       "      <th>set</th>\n",
       "      <th>video</th>\n",
       "    </tr>\n",
       "  </thead>\n",
       "  <tbody>\n",
       "    <tr>\n",
       "      <th>1378</th>\n",
       "      <td>1</td>\n",
       "      <td>1</td>\n",
       "      <td>15</td>\n",
       "      <td>1</td>\n",
       "      <td>1</td>\n",
       "    </tr>\n",
       "    <tr>\n",
       "      <th>1379</th>\n",
       "      <td>1</td>\n",
       "      <td>1</td>\n",
       "      <td>29</td>\n",
       "      <td>1</td>\n",
       "      <td>2</td>\n",
       "    </tr>\n",
       "    <tr>\n",
       "      <th>1380</th>\n",
       "      <td>0</td>\n",
       "      <td>1</td>\n",
       "      <td>17</td>\n",
       "      <td>1</td>\n",
       "      <td>2</td>\n",
       "    </tr>\n",
       "    <tr>\n",
       "      <th>1381</th>\n",
       "      <td>1</td>\n",
       "      <td>1</td>\n",
       "      <td>11</td>\n",
       "      <td>1</td>\n",
       "      <td>1</td>\n",
       "    </tr>\n",
       "    <tr>\n",
       "      <th>1382</th>\n",
       "      <td>1</td>\n",
       "      <td>1</td>\n",
       "      <td>18</td>\n",
       "      <td>1</td>\n",
       "      <td>2</td>\n",
       "    </tr>\n",
       "    <tr>\n",
       "      <th>1383</th>\n",
       "      <td>1</td>\n",
       "      <td>1</td>\n",
       "      <td>39</td>\n",
       "      <td>1</td>\n",
       "      <td>0</td>\n",
       "    </tr>\n",
       "    <tr>\n",
       "      <th>1384</th>\n",
       "      <td>1</td>\n",
       "      <td>1</td>\n",
       "      <td>10</td>\n",
       "      <td>1</td>\n",
       "      <td>1</td>\n",
       "    </tr>\n",
       "    <tr>\n",
       "      <th>1385</th>\n",
       "      <td>1</td>\n",
       "      <td>1</td>\n",
       "      <td>3</td>\n",
       "      <td>1</td>\n",
       "      <td>1</td>\n",
       "    </tr>\n",
       "    <tr>\n",
       "      <th>1386</th>\n",
       "      <td>1</td>\n",
       "      <td>1</td>\n",
       "      <td>31</td>\n",
       "      <td>1</td>\n",
       "      <td>0</td>\n",
       "    </tr>\n",
       "    <tr>\n",
       "      <th>1387</th>\n",
       "      <td>1</td>\n",
       "      <td>1</td>\n",
       "      <td>7</td>\n",
       "      <td>1</td>\n",
       "      <td>1</td>\n",
       "    </tr>\n",
       "    <tr>\n",
       "      <th>1388</th>\n",
       "      <td>1</td>\n",
       "      <td>1</td>\n",
       "      <td>38</td>\n",
       "      <td>1</td>\n",
       "      <td>0</td>\n",
       "    </tr>\n",
       "    <tr>\n",
       "      <th>1389</th>\n",
       "      <td>1</td>\n",
       "      <td>1</td>\n",
       "      <td>20</td>\n",
       "      <td>1</td>\n",
       "      <td>2</td>\n",
       "    </tr>\n",
       "    <tr>\n",
       "      <th>1390</th>\n",
       "      <td>0</td>\n",
       "      <td>1</td>\n",
       "      <td>24</td>\n",
       "      <td>1</td>\n",
       "      <td>2</td>\n",
       "    </tr>\n",
       "    <tr>\n",
       "      <th>1391</th>\n",
       "      <td>1</td>\n",
       "      <td>1</td>\n",
       "      <td>22</td>\n",
       "      <td>2</td>\n",
       "      <td>2</td>\n",
       "    </tr>\n",
       "    <tr>\n",
       "      <th>1392</th>\n",
       "      <td>1</td>\n",
       "      <td>1</td>\n",
       "      <td>6</td>\n",
       "      <td>2</td>\n",
       "      <td>1</td>\n",
       "    </tr>\n",
       "    <tr>\n",
       "      <th>1393</th>\n",
       "      <td>1</td>\n",
       "      <td>1</td>\n",
       "      <td>14</td>\n",
       "      <td>2</td>\n",
       "      <td>1</td>\n",
       "    </tr>\n",
       "    <tr>\n",
       "      <th>1394</th>\n",
       "      <td>1</td>\n",
       "      <td>1</td>\n",
       "      <td>36</td>\n",
       "      <td>2</td>\n",
       "      <td>0</td>\n",
       "    </tr>\n",
       "    <tr>\n",
       "      <th>1395</th>\n",
       "      <td>1</td>\n",
       "      <td>1</td>\n",
       "      <td>4</td>\n",
       "      <td>2</td>\n",
       "      <td>1</td>\n",
       "    </tr>\n",
       "    <tr>\n",
       "      <th>1396</th>\n",
       "      <td>1</td>\n",
       "      <td>1</td>\n",
       "      <td>1</td>\n",
       "      <td>2</td>\n",
       "      <td>1</td>\n",
       "    </tr>\n",
       "    <tr>\n",
       "      <th>1397</th>\n",
       "      <td>1</td>\n",
       "      <td>1</td>\n",
       "      <td>33</td>\n",
       "      <td>2</td>\n",
       "      <td>0</td>\n",
       "    </tr>\n",
       "    <tr>\n",
       "      <th>1398</th>\n",
       "      <td>1</td>\n",
       "      <td>1</td>\n",
       "      <td>23</td>\n",
       "      <td>2</td>\n",
       "      <td>2</td>\n",
       "    </tr>\n",
       "    <tr>\n",
       "      <th>1399</th>\n",
       "      <td>1</td>\n",
       "      <td>1</td>\n",
       "      <td>19</td>\n",
       "      <td>2</td>\n",
       "      <td>2</td>\n",
       "    </tr>\n",
       "    <tr>\n",
       "      <th>1400</th>\n",
       "      <td>1</td>\n",
       "      <td>1</td>\n",
       "      <td>34</td>\n",
       "      <td>2</td>\n",
       "      <td>0</td>\n",
       "    </tr>\n",
       "    <tr>\n",
       "      <th>1401</th>\n",
       "      <td>1</td>\n",
       "      <td>1</td>\n",
       "      <td>25</td>\n",
       "      <td>2</td>\n",
       "      <td>2</td>\n",
       "    </tr>\n",
       "    <tr>\n",
       "      <th>1402</th>\n",
       "      <td>1</td>\n",
       "      <td>1</td>\n",
       "      <td>30</td>\n",
       "      <td>2</td>\n",
       "      <td>2</td>\n",
       "    </tr>\n",
       "    <tr>\n",
       "      <th>1403</th>\n",
       "      <td>1</td>\n",
       "      <td>1</td>\n",
       "      <td>8</td>\n",
       "      <td>2</td>\n",
       "      <td>1</td>\n",
       "    </tr>\n",
       "  </tbody>\n",
       "</table>\n",
       "</div>"
      ],
      "text/plain": [
       "      correct?  participantID  qID  set  video\n",
       "1378         1              1   15    1      1\n",
       "1379         1              1   29    1      2\n",
       "1380         0              1   17    1      2\n",
       "1381         1              1   11    1      1\n",
       "1382         1              1   18    1      2\n",
       "1383         1              1   39    1      0\n",
       "1384         1              1   10    1      1\n",
       "1385         1              1    3    1      1\n",
       "1386         1              1   31    1      0\n",
       "1387         1              1    7    1      1\n",
       "1388         1              1   38    1      0\n",
       "1389         1              1   20    1      2\n",
       "1390         0              1   24    1      2\n",
       "1391         1              1   22    2      2\n",
       "1392         1              1    6    2      1\n",
       "1393         1              1   14    2      1\n",
       "1394         1              1   36    2      0\n",
       "1395         1              1    4    2      1\n",
       "1396         1              1    1    2      1\n",
       "1397         1              1   33    2      0\n",
       "1398         1              1   23    2      2\n",
       "1399         1              1   19    2      2\n",
       "1400         1              1   34    2      0\n",
       "1401         1              1   25    2      2\n",
       "1402         1              1   30    2      2\n",
       "1403         1              1    8    2      1"
      ]
     },
     "execution_count": 113,
     "metadata": {},
     "output_type": "execute_result"
    }
   ],
   "source": [
    "subdata.loc[subdata['set'].isin([1, 2])]"
   ]
  },
  {
   "cell_type": "code",
   "execution_count": 43,
   "metadata": {
    "ExecuteTime": {
     "end_time": "2020-02-17T02:28:32.660805Z",
     "start_time": "2020-02-17T02:28:32.612163Z"
    }
   },
   "outputs": [],
   "source": [
    "raw_data = pd.read_csv('../../data/raw/psiturk-data-raw.tsv', sep='\\t', index_col='Unnamed: 0')"
   ]
  },
  {
   "cell_type": "code",
   "execution_count": 302,
   "metadata": {
    "ExecuteTime": {
     "end_time": "2020-02-17T17:53:14.607228Z",
     "start_time": "2020-02-17T17:53:14.601681Z"
    }
   },
   "outputs": [],
   "source": [
    "test = ast.literal_eval(raw_data.loc[0, 'datastring'])"
   ]
  },
  {
   "cell_type": "code",
   "execution_count": 152,
   "metadata": {
    "ExecuteTime": {
     "end_time": "2020-02-17T16:28:28.171717Z",
     "start_time": "2020-02-17T16:28:28.167549Z"
    }
   },
   "outputs": [
    {
     "data": {
      "text/plain": [
       "True"
      ]
     },
     "execution_count": 152,
     "metadata": {},
     "output_type": "execute_result"
    }
   ],
   "source": [
    "z == decode_unicode_references(test['data'][i]['trialdata'][j]['prompt'])"
   ]
  },
  {
   "cell_type": "code",
   "execution_count": 252,
   "metadata": {
    "ExecuteTime": {
     "end_time": "2020-02-17T17:32:28.720371Z",
     "start_time": "2020-02-17T17:32:28.713789Z"
    },
    "scrolled": true
   },
   "outputs": [
    {
     "name": "stdout",
     "output_type": "stream",
     "text": [
      "Which of the following would have to be true for the Weak Interaction to cause repulsion or attraction between two objects?\n"
     ]
    }
   ],
   "source": [
    "for i in (3, 8, 13):\n",
    "    for j in range(13):\n",
    "#         print(test['data'][i]['trialdata'][j]['prompt'])\n",
    "#         print(decode_unicode_references(test['data'][i]['trialdata'][j]['prompt']))\n",
    "        print(unescape(test['data'][i]['trialdata'][j]['prompt']))\n",
    "#         print(questions_df.loc[questions_df.question == test['data'][i]['trialdata'][j]['prompt']])\n",
    "        x = questions_df.loc[questions_df.question == test['data'][i]['trialdata'][j]['prompt']]\n",
    "        break\n",
    "    break"
   ]
  },
  {
   "cell_type": "code",
   "execution_count": 315,
   "metadata": {
    "ExecuteTime": {
     "end_time": "2020-02-17T18:00:08.196334Z",
     "start_time": "2020-02-17T18:00:08.191346Z"
    }
   },
   "outputs": [
    {
     "data": {
      "text/plain": [
       "uniqueid                          debugdebug0dr3r6:debugdebugtjipdu\n",
       "assignmentid                                            debugTJIPDU\n",
       "workerid                                                debug0DR3R6\n",
       "hitid                                                   debugL0H5X4\n",
       "ipaddress                                                172.22.0.2\n",
       "browser                                                      chrome\n",
       "platform                                                      macos\n",
       "language                                                    UNKNOWN\n",
       "cond                                                              0\n",
       "counterbalance                                                    0\n",
       "codeversion                                                       1\n",
       "beginhit                                        2019-10-25 15:22:36\n",
       "beginexp                                                        NaN\n",
       "endhit                                                          NaN\n",
       "bonus                                                             0\n",
       "status                                                            1\n",
       "mode                                                          debug\n",
       "datastring        {'condition': 0, 'counterbalance': 0, 'assignm...\n",
       "Name: 49, dtype: object"
      ]
     },
     "execution_count": 315,
     "metadata": {},
     "output_type": "execute_result"
    }
   ],
   "source": [
    "row"
   ]
  },
  {
   "cell_type": "code",
   "execution_count": 255,
   "metadata": {
    "ExecuteTime": {
     "end_time": "2020-02-17T17:32:58.100951Z",
     "start_time": "2020-02-17T17:32:58.097985Z"
    }
   },
   "outputs": [],
   "source": [
    "ans_text = ast.literal_eval(test['data'][i+1]['trialdata']['responses'])['Q0']"
   ]
  },
  {
   "cell_type": "code",
   "execution_count": 291,
   "metadata": {
    "ExecuteTime": {
     "end_time": "2020-02-17T17:43:46.126904Z",
     "start_time": "2020-02-17T17:43:46.121568Z"
    }
   },
   "outputs": [],
   "source": [
    "try:\n",
    "    a = x.squeeze()[x.squeeze() == ans_text].index[0]\n",
    "    assert a in 'ABCD'\n",
    "except (IndexError, AssertionError) as e:\n",
    "    raise ValueError('test message') from e"
   ]
  },
  {
   "cell_type": "code",
   "execution_count": 286,
   "metadata": {
    "ExecuteTime": {
     "end_time": "2020-02-17T17:41:18.392088Z",
     "start_time": "2020-02-17T17:41:18.368738Z"
    }
   },
   "outputs": [
    {
     "ename": "ValueError",
     "evalue": "test message",
     "output_type": "error",
     "traceback": [
      "\u001b[0;31m---------------------------------------------------------------------------\u001b[0m",
      "\u001b[0;31mIndexError\u001b[0m                                Traceback (most recent call last)",
      "\u001b[0;32m<ipython-input-286-98f9adfe6fc5>\u001b[0m in \u001b[0;36m<module>\u001b[0;34m\u001b[0m\n\u001b[1;32m      1\u001b[0m \u001b[0;32mtry\u001b[0m\u001b[0;34m:\u001b[0m\u001b[0;34m\u001b[0m\u001b[0;34m\u001b[0m\u001b[0m\n\u001b[0;32m----> 2\u001b[0;31m     \u001b[0mx\u001b[0m\u001b[0;34m.\u001b[0m\u001b[0msqueeze\u001b[0m\u001b[0;34m(\u001b[0m\u001b[0;34m)\u001b[0m\u001b[0;34m[\u001b[0m\u001b[0mx\u001b[0m\u001b[0;34m.\u001b[0m\u001b[0msqueeze\u001b[0m\u001b[0;34m(\u001b[0m\u001b[0;34m)\u001b[0m \u001b[0;34m==\u001b[0m \u001b[0mans_text\u001b[0m\u001b[0;34m+\u001b[0m\u001b[0;34m'a'\u001b[0m\u001b[0;34m]\u001b[0m\u001b[0;34m.\u001b[0m\u001b[0mindex\u001b[0m\u001b[0;34m[\u001b[0m\u001b[0;36m0\u001b[0m\u001b[0;34m]\u001b[0m\u001b[0;34m\u001b[0m\u001b[0;34m\u001b[0m\u001b[0m\n\u001b[0m\u001b[1;32m      3\u001b[0m \u001b[0;32mexcept\u001b[0m \u001b[0mIndexError\u001b[0m \u001b[0;32mas\u001b[0m \u001b[0me\u001b[0m\u001b[0;34m:\u001b[0m\u001b[0;34m\u001b[0m\u001b[0;34m\u001b[0m\u001b[0m\n",
      "\u001b[0;32m~/opt/anaconda3/envs/py37/lib/python3.7/site-packages/pandas/core/indexes/base.py\u001b[0m in \u001b[0;36m__getitem__\u001b[0;34m(self, key)\u001b[0m\n\u001b[1;32m   4279\u001b[0m             \u001b[0mkey\u001b[0m \u001b[0;34m=\u001b[0m \u001b[0mcom\u001b[0m\u001b[0;34m.\u001b[0m\u001b[0mcast_scalar_indexer\u001b[0m\u001b[0;34m(\u001b[0m\u001b[0mkey\u001b[0m\u001b[0;34m)\u001b[0m\u001b[0;34m\u001b[0m\u001b[0;34m\u001b[0m\u001b[0m\n\u001b[0;32m-> 4280\u001b[0;31m             \u001b[0;32mreturn\u001b[0m \u001b[0mgetitem\u001b[0m\u001b[0;34m(\u001b[0m\u001b[0mkey\u001b[0m\u001b[0;34m)\u001b[0m\u001b[0;34m\u001b[0m\u001b[0;34m\u001b[0m\u001b[0m\n\u001b[0m\u001b[1;32m   4281\u001b[0m \u001b[0;34m\u001b[0m\u001b[0m\n",
      "\u001b[0;31mIndexError\u001b[0m: index 0 is out of bounds for axis 0 with size 0",
      "\nThe above exception was the direct cause of the following exception:\n",
      "\u001b[0;31mValueError\u001b[0m                                Traceback (most recent call last)",
      "\u001b[0;32m<ipython-input-286-98f9adfe6fc5>\u001b[0m in \u001b[0;36m<module>\u001b[0;34m\u001b[0m\n\u001b[1;32m      2\u001b[0m     \u001b[0mx\u001b[0m\u001b[0;34m.\u001b[0m\u001b[0msqueeze\u001b[0m\u001b[0;34m(\u001b[0m\u001b[0;34m)\u001b[0m\u001b[0;34m[\u001b[0m\u001b[0mx\u001b[0m\u001b[0;34m.\u001b[0m\u001b[0msqueeze\u001b[0m\u001b[0;34m(\u001b[0m\u001b[0;34m)\u001b[0m \u001b[0;34m==\u001b[0m \u001b[0mans_text\u001b[0m\u001b[0;34m+\u001b[0m\u001b[0;34m'a'\u001b[0m\u001b[0;34m]\u001b[0m\u001b[0;34m.\u001b[0m\u001b[0mindex\u001b[0m\u001b[0;34m[\u001b[0m\u001b[0;36m0\u001b[0m\u001b[0;34m]\u001b[0m\u001b[0;34m\u001b[0m\u001b[0;34m\u001b[0m\u001b[0m\n\u001b[1;32m      3\u001b[0m \u001b[0;32mexcept\u001b[0m \u001b[0mIndexError\u001b[0m \u001b[0;32mas\u001b[0m \u001b[0me\u001b[0m\u001b[0;34m:\u001b[0m\u001b[0;34m\u001b[0m\u001b[0;34m\u001b[0m\u001b[0m\n\u001b[0;32m----> 4\u001b[0;31m     \u001b[0;32mraise\u001b[0m \u001b[0mValueError\u001b[0m\u001b[0;34m(\u001b[0m\u001b[0;34m'test message'\u001b[0m\u001b[0;34m)\u001b[0m \u001b[0;32mfrom\u001b[0m \u001b[0me\u001b[0m\u001b[0;34m\u001b[0m\u001b[0;34m\u001b[0m\u001b[0m\n\u001b[0m",
      "\u001b[0;31mValueError\u001b[0m: test message"
     ]
    }
   ],
   "source": [
    "try:\n",
    "    x.squeeze()[x.squeeze() == ans_text+'a'].index[0]\n",
    "except IndexError as e:\n",
    "    raise ValueError('test message') from e"
   ]
  },
  {
   "cell_type": "code",
   "execution_count": 180,
   "metadata": {
    "ExecuteTime": {
     "end_time": "2020-02-17T16:45:23.299298Z",
     "start_time": "2020-02-17T16:45:23.294966Z"
    }
   },
   "outputs": [],
   "source": [
    "x = questions_df.loc[questions_df.question == test['data'][i]['trialdata'][j]['prompt'] + 'a']"
   ]
  },
  {
   "cell_type": "code",
   "execution_count": 347,
   "metadata": {
    "ExecuteTime": {
     "end_time": "2020-02-17T19:58:51.219789Z",
     "start_time": "2020-02-17T19:58:51.215209Z"
    }
   },
   "outputs": [],
   "source": [
    "class Test:\n",
    "    def __init__(self, num):\n",
    "        self.num = num\n",
    "        self.d = {'a': 1, 'b': 2, 'c': 3}\n",
    "        \n",
    "    @property\n",
    "    def prop_test(self):\n",
    "        return self.num * 100\n",
    "    \n",
    "    \n",
    "    def internal_teset(self, adding_num):\n",
    "        return self.prop_test + adding_num"
   ]
  },
  {
   "cell_type": "code",
   "execution_count": 368,
   "metadata": {
    "ExecuteTime": {
     "end_time": "2020-02-17T21:25:50.090554Z",
     "start_time": "2020-02-17T21:25:50.075706Z"
    }
   },
   "outputs": [
    {
     "data": {
      "text/plain": [
       "LatentDirichletAllocation(batch_size=128, doc_topic_prior=None,\n",
       "                          evaluate_every=-1, learning_decay=0.7,\n",
       "                          learning_method='batch', learning_offset=10.0,\n",
       "                          max_doc_update_iter=100, max_iter=10,\n",
       "                          mean_change_tol=0.001, n_components=20, n_jobs=None,\n",
       "                          perp_tol=0.1, random_state=0, topic_word_prior=None,\n",
       "                          total_samples=1000000.0, verbose=0)"
      ]
     },
     "execution_count": 368,
     "metadata": {},
     "output_type": "execute_result"
    }
   ],
   "source": [
    "np.load('../../data/models/fit_LDA.npy', allow_pickle=True).item()"
   ]
  },
  {
   "cell_type": "code",
   "execution_count": 361,
   "metadata": {
    "ExecuteTime": {
     "end_time": "2020-02-17T20:54:59.772040Z",
     "start_time": "2020-02-17T20:54:59.759738Z"
    }
   },
   "outputs": [
    {
     "ename": "AttributeError",
     "evalue": "'Test' object has no attribute 'internal_tesetad'",
     "output_type": "error",
     "traceback": [
      "\u001b[0;31m---------------------------------------------------------------------------\u001b[0m",
      "\u001b[0;31mAttributeError\u001b[0m                            Traceback (most recent call last)",
      "\u001b[0;32m<ipython-input-361-8ddfb2e44ff0>\u001b[0m in \u001b[0;36m<module>\u001b[0;34m\u001b[0m\n\u001b[0;32m----> 1\u001b[0;31m \u001b[0mgetattr\u001b[0m\u001b[0;34m(\u001b[0m\u001b[0mtestobj\u001b[0m\u001b[0;34m,\u001b[0m \u001b[0;34m'internal_tesetad'\u001b[0m\u001b[0;34m)\u001b[0m\u001b[0;34m\u001b[0m\u001b[0;34m\u001b[0m\u001b[0m\n\u001b[0m",
      "\u001b[0;31mAttributeError\u001b[0m: 'Test' object has no attribute 'internal_tesetad'"
     ]
    }
   ],
   "source": [
    "getattr(testobj, 'internal_tesetad')"
   ]
  },
  {
   "cell_type": "code",
   "execution_count": 323,
   "metadata": {
    "ExecuteTime": {
     "end_time": "2020-02-17T18:17:34.187877Z",
     "start_time": "2020-02-17T18:17:34.185064Z"
    }
   },
   "outputs": [],
   "source": [
    "del testobj.d['b']"
   ]
  },
  {
   "cell_type": "code",
   "execution_count": 325,
   "metadata": {
    "ExecuteTime": {
     "end_time": "2020-02-17T18:17:39.655679Z",
     "start_time": "2020-02-17T18:17:39.651702Z"
    }
   },
   "outputs": [
    {
     "data": {
      "text/plain": [
       "{'a': 1, 'c': 3, 'd': 4}"
      ]
     },
     "execution_count": 325,
     "metadata": {},
     "output_type": "execute_result"
    }
   ],
   "source": []
  },
  {
   "cell_type": "code",
   "execution_count": 19,
   "metadata": {
    "ExecuteTime": {
     "end_time": "2020-02-17T01:50:06.355116Z",
     "start_time": "2020-02-17T01:50:06.347035Z"
    }
   },
   "outputs": [],
   "source": [
    "questions_df = pd.read_csv('../../data/raw/questions.tsv', sep='\\t', \n",
    "            names=['index', 'video', 'question', 'A', 'B', 'C', 'D'], index_col='index') "
   ]
  },
  {
   "cell_type": "code",
   "execution_count": 20,
   "metadata": {
    "ExecuteTime": {
     "end_time": "2020-02-17T01:50:06.570358Z",
     "start_time": "2020-02-17T01:50:06.550573Z"
    },
    "scrolled": true
   },
   "outputs": [
    {
     "data": {
      "text/html": [
       "<div>\n",
       "<style scoped>\n",
       "    .dataframe tbody tr th:only-of-type {\n",
       "        vertical-align: middle;\n",
       "    }\n",
       "\n",
       "    .dataframe tbody tr th {\n",
       "        vertical-align: top;\n",
       "    }\n",
       "\n",
       "    .dataframe thead th {\n",
       "        text-align: right;\n",
       "    }\n",
       "</style>\n",
       "<table border=\"1\" class=\"dataframe\">\n",
       "  <thead>\n",
       "    <tr style=\"text-align: right;\">\n",
       "      <th></th>\n",
       "      <th>video</th>\n",
       "      <th>question</th>\n",
       "      <th>A</th>\n",
       "      <th>B</th>\n",
       "      <th>C</th>\n",
       "      <th>D</th>\n",
       "    </tr>\n",
       "    <tr>\n",
       "      <th>index</th>\n",
       "      <th></th>\n",
       "      <th></th>\n",
       "      <th></th>\n",
       "      <th></th>\n",
       "      <th></th>\n",
       "      <th></th>\n",
       "    </tr>\n",
       "  </thead>\n",
       "  <tbody>\n",
       "    <tr>\n",
       "      <th>1</th>\n",
       "      <td>1</td>\n",
       "      <td>Why is the gravitational attraction between yo...</td>\n",
       "      <td>Neither you nor your computer has enough mass ...</td>\n",
       "      <td>You and your computer are too close for the gr...</td>\n",
       "      <td>Humans are too small to detect the force of gr...</td>\n",
       "      <td>The gravitational attraction between you and y...</td>\n",
       "    </tr>\n",
       "    <tr>\n",
       "      <th>2</th>\n",
       "      <td>1</td>\n",
       "      <td>Which of the following is an example of the We...</td>\n",
       "      <td>A neutron in a radioactive Cesium atom is conv...</td>\n",
       "      <td>Light from the sun collides with a satellite o...</td>\n",
       "      <td>Two protons bound together in a Helium nucleus...</td>\n",
       "      <td>A distant galaxy exerts a small but detectable...</td>\n",
       "    </tr>\n",
       "    <tr>\n",
       "      <th>3</th>\n",
       "      <td>1</td>\n",
       "      <td>Roughly how many times stronger is the Weak In...</td>\n",
       "      <td>10,000,000,000,000,000,000,000,000</td>\n",
       "      <td>10</td>\n",
       "      <td>1,000,000</td>\n",
       "      <td>The Weak Interaction is less strong than gravity</td>\n",
       "    </tr>\n",
       "    <tr>\n",
       "      <th>4</th>\n",
       "      <td>1</td>\n",
       "      <td>Why don't you and your computer experience any...</td>\n",
       "      <td>The weak interaction only acts over extremely ...</td>\n",
       "      <td>The weak interaction between you and your comp...</td>\n",
       "      <td>You and your computer have no net charge</td>\n",
       "      <td>Neither you nor your computer has enough mass ...</td>\n",
       "    </tr>\n",
       "    <tr>\n",
       "      <th>5</th>\n",
       "      <td>1</td>\n",
       "      <td>Which of the following is a difference between...</td>\n",
       "      <td>Gravity is only ever attractive while the elec...</td>\n",
       "      <td>Gravity is a much more powerful force than ele...</td>\n",
       "      <td>Gravity can only act over large distances whil...</td>\n",
       "      <td>The electromagnetic force can only act over sm...</td>\n",
       "    </tr>\n",
       "    <tr>\n",
       "      <th>6</th>\n",
       "      <td>1</td>\n",
       "      <td>Electricity and magnetism can be shown to be t...</td>\n",
       "      <td>View them in different frames of reference</td>\n",
       "      <td>Switch which charges we call positive and whic...</td>\n",
       "      <td>Consider both the effects over small distances...</td>\n",
       "      <td>Consider both the attractive and repulsive pro...</td>\n",
       "    </tr>\n",
       "    <tr>\n",
       "      <th>7</th>\n",
       "      <td>1</td>\n",
       "      <td>Which of the following are the primary two fun...</td>\n",
       "      <td>The Strong Force and the Electromagnetic Force</td>\n",
       "      <td>Gravity and the Weak Interaction</td>\n",
       "      <td>Gravity and the Electromagnetic Force</td>\n",
       "      <td>The Strong Force and the Weak Interaction</td>\n",
       "    </tr>\n",
       "    <tr>\n",
       "      <th>8</th>\n",
       "      <td>1</td>\n",
       "      <td>Why does the universe have a very uneven distr...</td>\n",
       "      <td>Positive and negative charges cancel out and b...</td>\n",
       "      <td>Masses tend to repel while charges tend to att...</td>\n",
       "      <td>Masses tend to attract while charges tend to r...</td>\n",
       "      <td>The gravitational interaction acting between m...</td>\n",
       "    </tr>\n",
       "    <tr>\n",
       "      <th>9</th>\n",
       "      <td>1</td>\n",
       "      <td>In your body, there are a tremendous amount of...</td>\n",
       "      <td>The electrons' negative charges are balanced b...</td>\n",
       "      <td>An attractive gravitational force balances out...</td>\n",
       "      <td>The electromagnetic force only acts over very ...</td>\n",
       "      <td>The Electromagnetic force only acts over very ...</td>\n",
       "    </tr>\n",
       "    <tr>\n",
       "      <th>10</th>\n",
       "      <td>1</td>\n",
       "      <td>Which of the following is a similarity between...</td>\n",
       "      <td>Both act only over very small distances</td>\n",
       "      <td>Both are stronger than the Electromagnetic force</td>\n",
       "      <td>Both are weaker than Gravity</td>\n",
       "      <td>Both are responsible for attractions between d...</td>\n",
       "    </tr>\n",
       "    <tr>\n",
       "      <th>11</th>\n",
       "      <td>1</td>\n",
       "      <td>Which force is stronger than the Electromagnet...</td>\n",
       "      <td>Strong Force</td>\n",
       "      <td>Gravity</td>\n",
       "      <td>Weak Interaction</td>\n",
       "      <td>Electromagnetic Force is the strongest</td>\n",
       "    </tr>\n",
       "    <tr>\n",
       "      <th>12</th>\n",
       "      <td>1</td>\n",
       "      <td>Roughly how many times stronger is the Strong ...</td>\n",
       "      <td>10^38</td>\n",
       "      <td>100</td>\n",
       "      <td>10^18</td>\n",
       "      <td>The Strong Force is weaker than gravity</td>\n",
       "    </tr>\n",
       "    <tr>\n",
       "      <th>13</th>\n",
       "      <td>1</td>\n",
       "      <td>Which of the following would have to be true f...</td>\n",
       "      <td>The objects would have to be extremely close t...</td>\n",
       "      <td>The objects would have to have the same mass</td>\n",
       "      <td>The objects would have to be extremely far awa...</td>\n",
       "      <td>The objects would have to have different masses</td>\n",
       "    </tr>\n",
       "    <tr>\n",
       "      <th>14</th>\n",
       "      <td>1</td>\n",
       "      <td>Which force keeps us from jumping off of Earth?</td>\n",
       "      <td>Gravity</td>\n",
       "      <td>Strong Force</td>\n",
       "      <td>Weak Interaction</td>\n",
       "      <td>Electromagnetic Force</td>\n",
       "    </tr>\n",
       "    <tr>\n",
       "      <th>15</th>\n",
       "      <td>1</td>\n",
       "      <td>What does the Coulomb Force refer to?</td>\n",
       "      <td>The repulsion of objects with similar charge a...</td>\n",
       "      <td>The repulsion of objects with similar mass and...</td>\n",
       "      <td>The repulsion of objects with similar temperat...</td>\n",
       "      <td>The repulsion of objects with similar density ...</td>\n",
       "    </tr>\n",
       "    <tr>\n",
       "      <th>16</th>\n",
       "      <td>2</td>\n",
       "      <td>Which of the following describes the effect of...</td>\n",
       "      <td>The atoms move to the center of the mass of th...</td>\n",
       "      <td>The atoms move away from the center of the mas...</td>\n",
       "      <td>The atoms spin around the center of the mass o...</td>\n",
       "      <td>Gravity has no effect on a cloud of atoms</td>\n",
       "    </tr>\n",
       "    <tr>\n",
       "      <th>17</th>\n",
       "      <td>2</td>\n",
       "      <td>Which of the following occurs as a cloud of at...</td>\n",
       "      <td>Temperature increases</td>\n",
       "      <td>Temperature decreases</td>\n",
       "      <td>Mass increases</td>\n",
       "      <td>Mass decreases</td>\n",
       "    </tr>\n",
       "    <tr>\n",
       "      <th>18</th>\n",
       "      <td>2</td>\n",
       "      <td>Which temperature does a cloud of hydrogen ato...</td>\n",
       "      <td>10 Million Kelvin</td>\n",
       "      <td>0 Kelvin</td>\n",
       "      <td>10,000 Kelvin</td>\n",
       "      <td>10 Billion Kelvin</td>\n",
       "    </tr>\n",
       "    <tr>\n",
       "      <th>19</th>\n",
       "      <td>2</td>\n",
       "      <td>Which of the following can overcome the Coulom...</td>\n",
       "      <td>High temperature and high pressure</td>\n",
       "      <td>Low temperature and high pressure</td>\n",
       "      <td>High temperature and low pressure</td>\n",
       "      <td>Low temperature and low pressure</td>\n",
       "    </tr>\n",
       "    <tr>\n",
       "      <th>20</th>\n",
       "      <td>2</td>\n",
       "      <td>Which of the following prevents a star from co...</td>\n",
       "      <td>Energy released from the fusion of hydrogen at...</td>\n",
       "      <td>The fusion of hydrogen atoms decreases the tem...</td>\n",
       "      <td>The gravitational pull of other stars nearby</td>\n",
       "      <td>The Weak Interaction</td>\n",
       "    </tr>\n",
       "    <tr>\n",
       "      <th>21</th>\n",
       "      <td>2</td>\n",
       "      <td>How are supermassive stars different from othe...</td>\n",
       "      <td>Fusion occurs very fast</td>\n",
       "      <td>Fusion occurs very slow</td>\n",
       "      <td>Fusion occurs in the reverse order</td>\n",
       "      <td>Fusion does not occur at all</td>\n",
       "    </tr>\n",
       "    <tr>\n",
       "      <th>22</th>\n",
       "      <td>2</td>\n",
       "      <td>Which of the following is the FIRST product of...</td>\n",
       "      <td>Deuterium</td>\n",
       "      <td>Oxygen</td>\n",
       "      <td>Helium</td>\n",
       "      <td>Beryllium</td>\n",
       "    </tr>\n",
       "    <tr>\n",
       "      <th>23</th>\n",
       "      <td>2</td>\n",
       "      <td>Once hydrogen atoms get close enough together,...</td>\n",
       "      <td>The Strong Force</td>\n",
       "      <td>The Electromagnetic Force</td>\n",
       "      <td>Gravity</td>\n",
       "      <td>The Weak Interaction</td>\n",
       "    </tr>\n",
       "    <tr>\n",
       "      <th>24</th>\n",
       "      <td>2</td>\n",
       "      <td>When two nuclei fuse together, how does the ma...</td>\n",
       "      <td>The mass of the combined nucleus is smaller</td>\n",
       "      <td>The mass of the combined nucleus is larger</td>\n",
       "      <td>The mass of the combined nucleus is the same</td>\n",
       "      <td>It is not possible for two nuclei to fuse toge...</td>\n",
       "    </tr>\n",
       "    <tr>\n",
       "      <th>25</th>\n",
       "      <td>2</td>\n",
       "      <td>If we say that our Sun is a main sequence star...</td>\n",
       "      <td>Hydrogen atoms in the Sun are fusing together ...</td>\n",
       "      <td>The Sun is a supermassive star</td>\n",
       "      <td>The Sun does not experience the force of Gravi...</td>\n",
       "      <td>The Sun is comprised of 10 million Hydrogen atoms</td>\n",
       "    </tr>\n",
       "    <tr>\n",
       "      <th>26</th>\n",
       "      <td>2</td>\n",
       "      <td>Which force would cause a massive cloud of hyd...</td>\n",
       "      <td>Gravity</td>\n",
       "      <td>Strong Force</td>\n",
       "      <td>Weak Interaction</td>\n",
       "      <td>Electromagnetic Force</td>\n",
       "    </tr>\n",
       "    <tr>\n",
       "      <th>27</th>\n",
       "      <td>2</td>\n",
       "      <td>Which of the following occurs as density incre...</td>\n",
       "      <td>Temperature increases</td>\n",
       "      <td>Volume increases</td>\n",
       "      <td>Mass increases</td>\n",
       "      <td>None of these are correct</td>\n",
       "    </tr>\n",
       "    <tr>\n",
       "      <th>28</th>\n",
       "      <td>2</td>\n",
       "      <td>Which of the following is a product of Hydroge...</td>\n",
       "      <td>Helium</td>\n",
       "      <td>Oxygen</td>\n",
       "      <td>Cesium</td>\n",
       "      <td>Carbon</td>\n",
       "    </tr>\n",
       "    <tr>\n",
       "      <th>29</th>\n",
       "      <td>2</td>\n",
       "      <td>Which of the following terms accurately descri...</td>\n",
       "      <td>Main sequence star</td>\n",
       "      <td>Supermassive star</td>\n",
       "      <td>Alternative sequence star</td>\n",
       "      <td>None of the above</td>\n",
       "    </tr>\n",
       "    <tr>\n",
       "      <th>30</th>\n",
       "      <td>2</td>\n",
       "      <td>Which of the following terms best describes a ...</td>\n",
       "      <td>Ignition</td>\n",
       "      <td>Combustion</td>\n",
       "      <td>Decomposition</td>\n",
       "      <td>Displacement</td>\n",
       "    </tr>\n",
       "    <tr>\n",
       "      <th>31</th>\n",
       "      <td>0</td>\n",
       "      <td>Which of the following lists of particles is o...</td>\n",
       "      <td>Electron, proton, nucleus, atom</td>\n",
       "      <td>Atom, electron, proton, nucleus</td>\n",
       "      <td>Electron, nucleus, atom, neutron</td>\n",
       "      <td>Neutron, nucleus, electrom, atom</td>\n",
       "    </tr>\n",
       "    <tr>\n",
       "      <th>32</th>\n",
       "      <td>0</td>\n",
       "      <td>Which of the following defines what element an...</td>\n",
       "      <td>Its number of protons</td>\n",
       "      <td>Its number of neutrons</td>\n",
       "      <td>Its number of electrons</td>\n",
       "      <td>Its mass</td>\n",
       "    </tr>\n",
       "    <tr>\n",
       "      <th>33</th>\n",
       "      <td>0</td>\n",
       "      <td>Suppose that in some atom, a proton is convert...</td>\n",
       "      <td>The atom's element</td>\n",
       "      <td>The atom's mass (in atomic mass units)</td>\n",
       "      <td>The atom's velocity</td>\n",
       "      <td>None of these are correct</td>\n",
       "    </tr>\n",
       "    <tr>\n",
       "      <th>34</th>\n",
       "      <td>0</td>\n",
       "      <td>Which of the following lists is ordered from s...</td>\n",
       "      <td>Star, solar system, galaxy, universe</td>\n",
       "      <td>Galaxy, solar system, Milky Way, universe</td>\n",
       "      <td>Planet, galaxy, star, solar system</td>\n",
       "      <td>Earth, solar system, universe, galaxy</td>\n",
       "    </tr>\n",
       "    <tr>\n",
       "      <th>35</th>\n",
       "      <td>0</td>\n",
       "      <td>Which of the following are located in the nucl...</td>\n",
       "      <td>Protons and neutrons</td>\n",
       "      <td>Only protons</td>\n",
       "      <td>Only electrons</td>\n",
       "      <td>Neutrons and electrons</td>\n",
       "    </tr>\n",
       "    <tr>\n",
       "      <th>36</th>\n",
       "      <td>0</td>\n",
       "      <td>Which of the following has the least mass?</td>\n",
       "      <td>An electron</td>\n",
       "      <td>A proton</td>\n",
       "      <td>A neutron</td>\n",
       "      <td>A hydrogen atom</td>\n",
       "    </tr>\n",
       "    <tr>\n",
       "      <th>37</th>\n",
       "      <td>0</td>\n",
       "      <td>What percent of an atom's space does its nucle...</td>\n",
       "      <td>Less than 1%</td>\n",
       "      <td>10%</td>\n",
       "      <td>50%</td>\n",
       "      <td>More than 90%</td>\n",
       "    </tr>\n",
       "    <tr>\n",
       "      <th>38</th>\n",
       "      <td>0</td>\n",
       "      <td>In the famous equation attributed to Albert Ei...</td>\n",
       "      <td>Mass</td>\n",
       "      <td>Momentum</td>\n",
       "      <td>Moment of inertia</td>\n",
       "      <td>Moles</td>\n",
       "    </tr>\n",
       "    <tr>\n",
       "      <th>39</th>\n",
       "      <td>0</td>\n",
       "      <td>If I were to heat up an inflated balloon, whic...</td>\n",
       "      <td>The balloon would expand</td>\n",
       "      <td>The balloon would shrink</td>\n",
       "      <td>None of these answers are correct</td>\n",
       "      <td>The balloon could expand or shrink depending o...</td>\n",
       "    </tr>\n",
       "  </tbody>\n",
       "</table>\n",
       "</div>"
      ],
      "text/plain": [
       "       video                                           question  \\\n",
       "index                                                             \n",
       "1          1  Why is the gravitational attraction between yo...   \n",
       "2          1  Which of the following is an example of the We...   \n",
       "3          1  Roughly how many times stronger is the Weak In...   \n",
       "4          1  Why don't you and your computer experience any...   \n",
       "5          1  Which of the following is a difference between...   \n",
       "6          1  Electricity and magnetism can be shown to be t...   \n",
       "7          1  Which of the following are the primary two fun...   \n",
       "8          1  Why does the universe have a very uneven distr...   \n",
       "9          1  In your body, there are a tremendous amount of...   \n",
       "10         1  Which of the following is a similarity between...   \n",
       "11         1  Which force is stronger than the Electromagnet...   \n",
       "12         1  Roughly how many times stronger is the Strong ...   \n",
       "13         1  Which of the following would have to be true f...   \n",
       "14         1    Which force keeps us from jumping off of Earth?   \n",
       "15         1              What does the Coulomb Force refer to?   \n",
       "16         2  Which of the following describes the effect of...   \n",
       "17         2  Which of the following occurs as a cloud of at...   \n",
       "18         2  Which temperature does a cloud of hydrogen ato...   \n",
       "19         2  Which of the following can overcome the Coulom...   \n",
       "20         2  Which of the following prevents a star from co...   \n",
       "21         2  How are supermassive stars different from othe...   \n",
       "22         2  Which of the following is the FIRST product of...   \n",
       "23         2  Once hydrogen atoms get close enough together,...   \n",
       "24         2  When two nuclei fuse together, how does the ma...   \n",
       "25         2  If we say that our Sun is a main sequence star...   \n",
       "26         2  Which force would cause a massive cloud of hyd...   \n",
       "27         2  Which of the following occurs as density incre...   \n",
       "28         2  Which of the following is a product of Hydroge...   \n",
       "29         2  Which of the following terms accurately descri...   \n",
       "30         2  Which of the following terms best describes a ...   \n",
       "31         0  Which of the following lists of particles is o...   \n",
       "32         0  Which of the following defines what element an...   \n",
       "33         0  Suppose that in some atom, a proton is convert...   \n",
       "34         0  Which of the following lists is ordered from s...   \n",
       "35         0  Which of the following are located in the nucl...   \n",
       "36         0         Which of the following has the least mass?   \n",
       "37         0  What percent of an atom's space does its nucle...   \n",
       "38         0  In the famous equation attributed to Albert Ei...   \n",
       "39         0  If I were to heat up an inflated balloon, whic...   \n",
       "\n",
       "                                                       A  \\\n",
       "index                                                      \n",
       "1      Neither you nor your computer has enough mass ...   \n",
       "2      A neutron in a radioactive Cesium atom is conv...   \n",
       "3                     10,000,000,000,000,000,000,000,000   \n",
       "4      The weak interaction only acts over extremely ...   \n",
       "5      Gravity is only ever attractive while the elec...   \n",
       "6             View them in different frames of reference   \n",
       "7         The Strong Force and the Electromagnetic Force   \n",
       "8      Positive and negative charges cancel out and b...   \n",
       "9      The electrons' negative charges are balanced b...   \n",
       "10               Both act only over very small distances   \n",
       "11                                          Strong Force   \n",
       "12                                                 10^38   \n",
       "13     The objects would have to be extremely close t...   \n",
       "14                                               Gravity   \n",
       "15     The repulsion of objects with similar charge a...   \n",
       "16     The atoms move to the center of the mass of th...   \n",
       "17                                 Temperature increases   \n",
       "18                                     10 Million Kelvin   \n",
       "19                    High temperature and high pressure   \n",
       "20     Energy released from the fusion of hydrogen at...   \n",
       "21                               Fusion occurs very fast   \n",
       "22                                             Deuterium   \n",
       "23                                      The Strong Force   \n",
       "24           The mass of the combined nucleus is smaller   \n",
       "25     Hydrogen atoms in the Sun are fusing together ...   \n",
       "26                                               Gravity   \n",
       "27                                 Temperature increases   \n",
       "28                                                Helium   \n",
       "29                                    Main sequence star   \n",
       "30                                              Ignition   \n",
       "31                       Electron, proton, nucleus, atom   \n",
       "32                                 Its number of protons   \n",
       "33                                    The atom's element   \n",
       "34                  Star, solar system, galaxy, universe   \n",
       "35                                  Protons and neutrons   \n",
       "36                                           An electron   \n",
       "37                                          Less than 1%   \n",
       "38                                                  Mass   \n",
       "39                              The balloon would expand   \n",
       "\n",
       "                                                       B  \\\n",
       "index                                                      \n",
       "1      You and your computer are too close for the gr...   \n",
       "2      Light from the sun collides with a satellite o...   \n",
       "3                                                     10   \n",
       "4      The weak interaction between you and your comp...   \n",
       "5      Gravity is a much more powerful force than ele...   \n",
       "6      Switch which charges we call positive and whic...   \n",
       "7                       Gravity and the Weak Interaction   \n",
       "8      Masses tend to repel while charges tend to att...   \n",
       "9      An attractive gravitational force balances out...   \n",
       "10      Both are stronger than the Electromagnetic force   \n",
       "11                                               Gravity   \n",
       "12                                                   100   \n",
       "13          The objects would have to have the same mass   \n",
       "14                                          Strong Force   \n",
       "15     The repulsion of objects with similar mass and...   \n",
       "16     The atoms move away from the center of the mas...   \n",
       "17                                 Temperature decreases   \n",
       "18                                              0 Kelvin   \n",
       "19                     Low temperature and high pressure   \n",
       "20     The fusion of hydrogen atoms decreases the tem...   \n",
       "21                               Fusion occurs very slow   \n",
       "22                                                Oxygen   \n",
       "23                             The Electromagnetic Force   \n",
       "24            The mass of the combined nucleus is larger   \n",
       "25                        The Sun is a supermassive star   \n",
       "26                                          Strong Force   \n",
       "27                                      Volume increases   \n",
       "28                                                Oxygen   \n",
       "29                                     Supermassive star   \n",
       "30                                            Combustion   \n",
       "31                       Atom, electron, proton, nucleus   \n",
       "32                                Its number of neutrons   \n",
       "33                The atom's mass (in atomic mass units)   \n",
       "34             Galaxy, solar system, Milky Way, universe   \n",
       "35                                          Only protons   \n",
       "36                                              A proton   \n",
       "37                                                   10%   \n",
       "38                                              Momentum   \n",
       "39                              The balloon would shrink   \n",
       "\n",
       "                                                       C  \\\n",
       "index                                                      \n",
       "1      Humans are too small to detect the force of gr...   \n",
       "2      Two protons bound together in a Helium nucleus...   \n",
       "3                                              1,000,000   \n",
       "4               You and your computer have no net charge   \n",
       "5      Gravity can only act over large distances whil...   \n",
       "6      Consider both the effects over small distances...   \n",
       "7                  Gravity and the Electromagnetic Force   \n",
       "8      Masses tend to attract while charges tend to r...   \n",
       "9      The electromagnetic force only acts over very ...   \n",
       "10                          Both are weaker than Gravity   \n",
       "11                                      Weak Interaction   \n",
       "12                                                 10^18   \n",
       "13     The objects would have to be extremely far awa...   \n",
       "14                                      Weak Interaction   \n",
       "15     The repulsion of objects with similar temperat...   \n",
       "16     The atoms spin around the center of the mass o...   \n",
       "17                                        Mass increases   \n",
       "18                                         10,000 Kelvin   \n",
       "19                     High temperature and low pressure   \n",
       "20          The gravitational pull of other stars nearby   \n",
       "21                    Fusion occurs in the reverse order   \n",
       "22                                                Helium   \n",
       "23                                               Gravity   \n",
       "24          The mass of the combined nucleus is the same   \n",
       "25     The Sun does not experience the force of Gravi...   \n",
       "26                                      Weak Interaction   \n",
       "27                                        Mass increases   \n",
       "28                                                Cesium   \n",
       "29                             Alternative sequence star   \n",
       "30                                         Decomposition   \n",
       "31                      Electron, nucleus, atom, neutron   \n",
       "32                               Its number of electrons   \n",
       "33                                   The atom's velocity   \n",
       "34                    Planet, galaxy, star, solar system   \n",
       "35                                        Only electrons   \n",
       "36                                             A neutron   \n",
       "37                                                   50%   \n",
       "38                                     Moment of inertia   \n",
       "39                     None of these answers are correct   \n",
       "\n",
       "                                                       D  \n",
       "index                                                     \n",
       "1      The gravitational attraction between you and y...  \n",
       "2      A distant galaxy exerts a small but detectable...  \n",
       "3       The Weak Interaction is less strong than gravity  \n",
       "4      Neither you nor your computer has enough mass ...  \n",
       "5      The electromagnetic force can only act over sm...  \n",
       "6      Consider both the attractive and repulsive pro...  \n",
       "7              The Strong Force and the Weak Interaction  \n",
       "8      The gravitational interaction acting between m...  \n",
       "9      The Electromagnetic force only acts over very ...  \n",
       "10     Both are responsible for attractions between d...  \n",
       "11                Electromagnetic Force is the strongest  \n",
       "12               The Strong Force is weaker than gravity  \n",
       "13       The objects would have to have different masses  \n",
       "14                                 Electromagnetic Force  \n",
       "15     The repulsion of objects with similar density ...  \n",
       "16             Gravity has no effect on a cloud of atoms  \n",
       "17                                        Mass decreases  \n",
       "18                                     10 Billion Kelvin  \n",
       "19                      Low temperature and low pressure  \n",
       "20                                  The Weak Interaction  \n",
       "21                          Fusion does not occur at all  \n",
       "22                                             Beryllium  \n",
       "23                                  The Weak Interaction  \n",
       "24     It is not possible for two nuclei to fuse toge...  \n",
       "25     The Sun is comprised of 10 million Hydrogen atoms  \n",
       "26                                 Electromagnetic Force  \n",
       "27                             None of these are correct  \n",
       "28                                                Carbon  \n",
       "29                                     None of the above  \n",
       "30                                          Displacement  \n",
       "31                      Neutron, nucleus, electrom, atom  \n",
       "32                                              Its mass  \n",
       "33                             None of these are correct  \n",
       "34                 Earth, solar system, universe, galaxy  \n",
       "35                                Neutrons and electrons  \n",
       "36                                       A hydrogen atom  \n",
       "37                                         More than 90%  \n",
       "38                                                 Moles  \n",
       "39     The balloon could expand or shrink depending o...  "
      ]
     },
     "execution_count": 20,
     "metadata": {},
     "output_type": "execute_result"
    }
   ],
   "source": [
    "questions_df"
   ]
  },
  {
   "cell_type": "code",
   "execution_count": 129,
   "metadata": {
    "ExecuteTime": {
     "end_time": "2020-02-17T16:15:11.502269Z",
     "start_time": "2020-02-17T16:15:11.499131Z"
    },
    "scrolled": true
   },
   "outputs": [],
   "source": []
  },
  {
   "cell_type": "code",
   "execution_count": 228,
   "metadata": {
    "ExecuteTime": {
     "end_time": "2020-02-17T17:02:32.616169Z",
     "start_time": "2020-02-17T17:02:32.591700Z"
    },
    "scrolled": true
   },
   "outputs": [
    {
     "data": {
      "text/html": [
       "<div>\n",
       "<style scoped>\n",
       "    .dataframe tbody tr th:only-of-type {\n",
       "        vertical-align: middle;\n",
       "    }\n",
       "\n",
       "    .dataframe tbody tr th {\n",
       "        vertical-align: top;\n",
       "    }\n",
       "\n",
       "    .dataframe thead th {\n",
       "        text-align: right;\n",
       "    }\n",
       "</style>\n",
       "<table border=\"1\" class=\"dataframe\">\n",
       "  <thead>\n",
       "    <tr style=\"text-align: right;\">\n",
       "      <th></th>\n",
       "      <th>question</th>\n",
       "      <th>A</th>\n",
       "      <th>B</th>\n",
       "      <th>C</th>\n",
       "      <th>D</th>\n",
       "    </tr>\n",
       "    <tr>\n",
       "      <th>index</th>\n",
       "      <th></th>\n",
       "      <th></th>\n",
       "      <th></th>\n",
       "      <th></th>\n",
       "      <th></th>\n",
       "    </tr>\n",
       "  </thead>\n",
       "  <tbody>\n",
       "    <tr>\n",
       "      <th>1</th>\n",
       "      <td>Why is the gravitational attraction between yo...</td>\n",
       "      <td>Neither you nor your computer has enough mass ...</td>\n",
       "      <td>You and your computer are too close for the gr...</td>\n",
       "      <td>Humans are too small to detect the force of gr...</td>\n",
       "      <td>The gravitational attraction between you and y...</td>\n",
       "    </tr>\n",
       "    <tr>\n",
       "      <th>2</th>\n",
       "      <td>Which of the following is an example of the We...</td>\n",
       "      <td>A neutron in a radioactive Cesium atom is conv...</td>\n",
       "      <td>Light from the sun collides with a satellite o...</td>\n",
       "      <td>Two protons bound together in a Helium nucleus...</td>\n",
       "      <td>A distant galaxy exerts a small but detectable...</td>\n",
       "    </tr>\n",
       "    <tr>\n",
       "      <th>3</th>\n",
       "      <td>Roughly how many times stronger is the Weak In...</td>\n",
       "      <td>10,000,000,000,000,000,000,000,000</td>\n",
       "      <td>10</td>\n",
       "      <td>1,000,000</td>\n",
       "      <td>The Weak Interaction is less strong than gravity</td>\n",
       "    </tr>\n",
       "    <tr>\n",
       "      <th>4</th>\n",
       "      <td>Why don't you and your computer experience any...</td>\n",
       "      <td>The weak interaction only acts over extremely ...</td>\n",
       "      <td>The weak interaction between you and your comp...</td>\n",
       "      <td>You and your computer have no net charge</td>\n",
       "      <td>Neither you nor your computer has enough mass ...</td>\n",
       "    </tr>\n",
       "    <tr>\n",
       "      <th>5</th>\n",
       "      <td>Which of the following is a difference between...</td>\n",
       "      <td>Gravity is only ever attractive while the elec...</td>\n",
       "      <td>Gravity is a much more powerful force than ele...</td>\n",
       "      <td>Gravity can only act over large distances whil...</td>\n",
       "      <td>The electromagnetic force can only act over sm...</td>\n",
       "    </tr>\n",
       "    <tr>\n",
       "      <th>6</th>\n",
       "      <td>Electricity and magnetism can be shown to be t...</td>\n",
       "      <td>View them in different frames of reference</td>\n",
       "      <td>Switch which charges we call positive and whic...</td>\n",
       "      <td>Consider both the effects over small distances...</td>\n",
       "      <td>Consider both the attractive and repulsive pro...</td>\n",
       "    </tr>\n",
       "    <tr>\n",
       "      <th>7</th>\n",
       "      <td>Which of the following are the primary two fun...</td>\n",
       "      <td>The Strong Force and the Electromagnetic Force</td>\n",
       "      <td>Gravity and the Weak Interaction</td>\n",
       "      <td>Gravity and the Electromagnetic Force</td>\n",
       "      <td>The Strong Force and the Weak Interaction</td>\n",
       "    </tr>\n",
       "    <tr>\n",
       "      <th>8</th>\n",
       "      <td>Why does the universe have a very uneven distr...</td>\n",
       "      <td>Positive and negative charges cancel out and b...</td>\n",
       "      <td>Masses tend to repel while charges tend to att...</td>\n",
       "      <td>Masses tend to attract while charges tend to r...</td>\n",
       "      <td>The gravitational interaction acting between m...</td>\n",
       "    </tr>\n",
       "    <tr>\n",
       "      <th>9</th>\n",
       "      <td>In your body, there are a tremendous amount of...</td>\n",
       "      <td>The electrons' negative charges are balanced b...</td>\n",
       "      <td>An attractive gravitational force balances out...</td>\n",
       "      <td>The electromagnetic force only acts over very ...</td>\n",
       "      <td>The Electromagnetic force only acts over very ...</td>\n",
       "    </tr>\n",
       "    <tr>\n",
       "      <th>10</th>\n",
       "      <td>Which of the following is a similarity between...</td>\n",
       "      <td>Both act only over very small distances</td>\n",
       "      <td>Both are stronger than the Electromagnetic force</td>\n",
       "      <td>Both are weaker than Gravity</td>\n",
       "      <td>Both are responsible for attractions between d...</td>\n",
       "    </tr>\n",
       "    <tr>\n",
       "      <th>11</th>\n",
       "      <td>Which force is stronger than the Electromagnet...</td>\n",
       "      <td>Strong Force</td>\n",
       "      <td>Gravity</td>\n",
       "      <td>Weak Interaction</td>\n",
       "      <td>Electromagnetic Force is the strongest</td>\n",
       "    </tr>\n",
       "    <tr>\n",
       "      <th>12</th>\n",
       "      <td>Roughly how many times stronger is the Strong ...</td>\n",
       "      <td>10^38</td>\n",
       "      <td>100</td>\n",
       "      <td>10^18</td>\n",
       "      <td>The Strong Force is weaker than gravity</td>\n",
       "    </tr>\n",
       "    <tr>\n",
       "      <th>13</th>\n",
       "      <td>Which of the following would have to be true f...</td>\n",
       "      <td>The objects would have to be extremely close t...</td>\n",
       "      <td>The objects would have to have the same mass</td>\n",
       "      <td>The objects would have to be extremely far awa...</td>\n",
       "      <td>The objects would have to have different masses</td>\n",
       "    </tr>\n",
       "    <tr>\n",
       "      <th>14</th>\n",
       "      <td>Which force keeps us from jumping off of Earth?</td>\n",
       "      <td>Gravity</td>\n",
       "      <td>Strong Force</td>\n",
       "      <td>Weak Interaction</td>\n",
       "      <td>Electromagnetic Force</td>\n",
       "    </tr>\n",
       "    <tr>\n",
       "      <th>15</th>\n",
       "      <td>What does the Coulomb Force refer to?</td>\n",
       "      <td>The repulsion of objects with similar charge a...</td>\n",
       "      <td>The repulsion of objects with similar mass and...</td>\n",
       "      <td>The repulsion of objects with similar temperat...</td>\n",
       "      <td>The repulsion of objects with similar density ...</td>\n",
       "    </tr>\n",
       "    <tr>\n",
       "      <th>16</th>\n",
       "      <td>Which of the following describes the effect of...</td>\n",
       "      <td>The atoms move to the center of the mass of th...</td>\n",
       "      <td>The atoms move away from the center of the mas...</td>\n",
       "      <td>The atoms spin around the center of the mass o...</td>\n",
       "      <td>Gravity has no effect on a cloud of atoms</td>\n",
       "    </tr>\n",
       "    <tr>\n",
       "      <th>17</th>\n",
       "      <td>Which of the following occurs as a cloud of at...</td>\n",
       "      <td>Temperature increases</td>\n",
       "      <td>Temperature decreases</td>\n",
       "      <td>Mass increases</td>\n",
       "      <td>Mass decreases</td>\n",
       "    </tr>\n",
       "    <tr>\n",
       "      <th>18</th>\n",
       "      <td>Which temperature does a cloud of hydrogen ato...</td>\n",
       "      <td>10 Million Kelvin</td>\n",
       "      <td>0 Kelvin</td>\n",
       "      <td>10,000 Kelvin</td>\n",
       "      <td>10 Billion Kelvin</td>\n",
       "    </tr>\n",
       "    <tr>\n",
       "      <th>19</th>\n",
       "      <td>Which of the following can overcome the Coulom...</td>\n",
       "      <td>High temperature and high pressure</td>\n",
       "      <td>Low temperature and high pressure</td>\n",
       "      <td>High temperature and low pressure</td>\n",
       "      <td>Low temperature and low pressure</td>\n",
       "    </tr>\n",
       "    <tr>\n",
       "      <th>20</th>\n",
       "      <td>Which of the following prevents a star from co...</td>\n",
       "      <td>Energy released from the fusion of hydrogen at...</td>\n",
       "      <td>The fusion of hydrogen atoms decreases the tem...</td>\n",
       "      <td>The gravitational pull of other stars nearby</td>\n",
       "      <td>The Weak Interaction</td>\n",
       "    </tr>\n",
       "    <tr>\n",
       "      <th>21</th>\n",
       "      <td>How are supermassive stars different from othe...</td>\n",
       "      <td>Fusion occurs very fast</td>\n",
       "      <td>Fusion occurs very slow</td>\n",
       "      <td>Fusion occurs in the reverse order</td>\n",
       "      <td>Fusion does not occur at all</td>\n",
       "    </tr>\n",
       "    <tr>\n",
       "      <th>22</th>\n",
       "      <td>Which of the following is the FIRST product of...</td>\n",
       "      <td>Deuterium</td>\n",
       "      <td>Oxygen</td>\n",
       "      <td>Helium</td>\n",
       "      <td>Beryllium</td>\n",
       "    </tr>\n",
       "    <tr>\n",
       "      <th>23</th>\n",
       "      <td>Once hydrogen atoms get close enough together,...</td>\n",
       "      <td>The Strong Force</td>\n",
       "      <td>The Electromagnetic Force</td>\n",
       "      <td>Gravity</td>\n",
       "      <td>The Weak Interaction</td>\n",
       "    </tr>\n",
       "    <tr>\n",
       "      <th>24</th>\n",
       "      <td>When two nuclei fuse together, how does the ma...</td>\n",
       "      <td>The mass of the combined nucleus is smaller</td>\n",
       "      <td>The mass of the combined nucleus is larger</td>\n",
       "      <td>The mass of the combined nucleus is the same</td>\n",
       "      <td>It is not possible for two nuclei to fuse toge...</td>\n",
       "    </tr>\n",
       "    <tr>\n",
       "      <th>25</th>\n",
       "      <td>If we say that our Sun is a main sequence star...</td>\n",
       "      <td>Hydrogen atoms in the Sun are fusing together ...</td>\n",
       "      <td>The Sun is a supermassive star</td>\n",
       "      <td>The Sun does not experience the force of Gravi...</td>\n",
       "      <td>The Sun is comprised of 10 million Hydrogen atoms</td>\n",
       "    </tr>\n",
       "    <tr>\n",
       "      <th>26</th>\n",
       "      <td>Which force would cause a massive cloud of hyd...</td>\n",
       "      <td>Gravity</td>\n",
       "      <td>Strong Force</td>\n",
       "      <td>Weak Interaction</td>\n",
       "      <td>Electromagnetic Force</td>\n",
       "    </tr>\n",
       "    <tr>\n",
       "      <th>27</th>\n",
       "      <td>Which of the following occurs as density incre...</td>\n",
       "      <td>Temperature increases</td>\n",
       "      <td>Volume increases</td>\n",
       "      <td>Mass increases</td>\n",
       "      <td>None of these are correct</td>\n",
       "    </tr>\n",
       "    <tr>\n",
       "      <th>28</th>\n",
       "      <td>Which of the following is a product of Hydroge...</td>\n",
       "      <td>Helium</td>\n",
       "      <td>Oxygen</td>\n",
       "      <td>Cesium</td>\n",
       "      <td>Carbon</td>\n",
       "    </tr>\n",
       "    <tr>\n",
       "      <th>29</th>\n",
       "      <td>Which of the following terms accurately descri...</td>\n",
       "      <td>Main sequence star</td>\n",
       "      <td>Supermassive star</td>\n",
       "      <td>Alternative sequence star</td>\n",
       "      <td>None of the above</td>\n",
       "    </tr>\n",
       "    <tr>\n",
       "      <th>30</th>\n",
       "      <td>Which of the following terms best describes a ...</td>\n",
       "      <td>Ignition</td>\n",
       "      <td>Combustion</td>\n",
       "      <td>Decomposition</td>\n",
       "      <td>Displacement</td>\n",
       "    </tr>\n",
       "    <tr>\n",
       "      <th>31</th>\n",
       "      <td>Which of the following lists of particles is o...</td>\n",
       "      <td>Electron, proton, nucleus, atom</td>\n",
       "      <td>Atom, electron, proton, nucleus</td>\n",
       "      <td>Electron, nucleus, atom, neutron</td>\n",
       "      <td>Neutron, nucleus, electrom, atom</td>\n",
       "    </tr>\n",
       "    <tr>\n",
       "      <th>32</th>\n",
       "      <td>Which of the following defines what element an...</td>\n",
       "      <td>Its number of protons</td>\n",
       "      <td>Its number of neutrons</td>\n",
       "      <td>Its number of electrons</td>\n",
       "      <td>Its mass</td>\n",
       "    </tr>\n",
       "    <tr>\n",
       "      <th>33</th>\n",
       "      <td>Suppose that in some atom, a proton is convert...</td>\n",
       "      <td>The atom's element</td>\n",
       "      <td>The atom's mass (in atomic mass units)</td>\n",
       "      <td>The atom's velocity</td>\n",
       "      <td>None of these are correct</td>\n",
       "    </tr>\n",
       "    <tr>\n",
       "      <th>34</th>\n",
       "      <td>Which of the following lists is ordered from s...</td>\n",
       "      <td>Star, solar system, galaxy, universe</td>\n",
       "      <td>Galaxy, solar system, Milky Way, universe</td>\n",
       "      <td>Planet, galaxy, star, solar system</td>\n",
       "      <td>Earth, solar system, universe, galaxy</td>\n",
       "    </tr>\n",
       "    <tr>\n",
       "      <th>35</th>\n",
       "      <td>Which of the following are located in the nucl...</td>\n",
       "      <td>Protons and neutrons</td>\n",
       "      <td>Only protons</td>\n",
       "      <td>Only electrons</td>\n",
       "      <td>Neutrons and electrons</td>\n",
       "    </tr>\n",
       "    <tr>\n",
       "      <th>36</th>\n",
       "      <td>Which of the following has the least mass?</td>\n",
       "      <td>An electron</td>\n",
       "      <td>A proton</td>\n",
       "      <td>A neutron</td>\n",
       "      <td>A hydrogen atom</td>\n",
       "    </tr>\n",
       "    <tr>\n",
       "      <th>37</th>\n",
       "      <td>What percent of an atom's space does its nucle...</td>\n",
       "      <td>Less than 1%</td>\n",
       "      <td>10%</td>\n",
       "      <td>50%</td>\n",
       "      <td>More than 90%</td>\n",
       "    </tr>\n",
       "    <tr>\n",
       "      <th>38</th>\n",
       "      <td>In the famous equation attributed to Albert Ei...</td>\n",
       "      <td>Mass</td>\n",
       "      <td>Momentum</td>\n",
       "      <td>Moment of inertia</td>\n",
       "      <td>Moles</td>\n",
       "    </tr>\n",
       "    <tr>\n",
       "      <th>39</th>\n",
       "      <td>If I were to heat up an inflated balloon, whic...</td>\n",
       "      <td>The balloon would expand</td>\n",
       "      <td>The balloon would shrink</td>\n",
       "      <td>None of these answers are correct</td>\n",
       "      <td>The balloon could expand or shrink depending o...</td>\n",
       "    </tr>\n",
       "  </tbody>\n",
       "</table>\n",
       "</div>"
      ],
      "text/plain": [
       "                                                question  \\\n",
       "index                                                      \n",
       "1      Why is the gravitational attraction between yo...   \n",
       "2      Which of the following is an example of the We...   \n",
       "3      Roughly how many times stronger is the Weak In...   \n",
       "4      Why don't you and your computer experience any...   \n",
       "5      Which of the following is a difference between...   \n",
       "6      Electricity and magnetism can be shown to be t...   \n",
       "7      Which of the following are the primary two fun...   \n",
       "8      Why does the universe have a very uneven distr...   \n",
       "9      In your body, there are a tremendous amount of...   \n",
       "10     Which of the following is a similarity between...   \n",
       "11     Which force is stronger than the Electromagnet...   \n",
       "12     Roughly how many times stronger is the Strong ...   \n",
       "13     Which of the following would have to be true f...   \n",
       "14       Which force keeps us from jumping off of Earth?   \n",
       "15                 What does the Coulomb Force refer to?   \n",
       "16     Which of the following describes the effect of...   \n",
       "17     Which of the following occurs as a cloud of at...   \n",
       "18     Which temperature does a cloud of hydrogen ato...   \n",
       "19     Which of the following can overcome the Coulom...   \n",
       "20     Which of the following prevents a star from co...   \n",
       "21     How are supermassive stars different from othe...   \n",
       "22     Which of the following is the FIRST product of...   \n",
       "23     Once hydrogen atoms get close enough together,...   \n",
       "24     When two nuclei fuse together, how does the ma...   \n",
       "25     If we say that our Sun is a main sequence star...   \n",
       "26     Which force would cause a massive cloud of hyd...   \n",
       "27     Which of the following occurs as density incre...   \n",
       "28     Which of the following is a product of Hydroge...   \n",
       "29     Which of the following terms accurately descri...   \n",
       "30     Which of the following terms best describes a ...   \n",
       "31     Which of the following lists of particles is o...   \n",
       "32     Which of the following defines what element an...   \n",
       "33     Suppose that in some atom, a proton is convert...   \n",
       "34     Which of the following lists is ordered from s...   \n",
       "35     Which of the following are located in the nucl...   \n",
       "36            Which of the following has the least mass?   \n",
       "37     What percent of an atom's space does its nucle...   \n",
       "38     In the famous equation attributed to Albert Ei...   \n",
       "39     If I were to heat up an inflated balloon, whic...   \n",
       "\n",
       "                                                       A  \\\n",
       "index                                                      \n",
       "1      Neither you nor your computer has enough mass ...   \n",
       "2      A neutron in a radioactive Cesium atom is conv...   \n",
       "3                     10,000,000,000,000,000,000,000,000   \n",
       "4      The weak interaction only acts over extremely ...   \n",
       "5      Gravity is only ever attractive while the elec...   \n",
       "6             View them in different frames of reference   \n",
       "7         The Strong Force and the Electromagnetic Force   \n",
       "8      Positive and negative charges cancel out and b...   \n",
       "9      The electrons' negative charges are balanced b...   \n",
       "10               Both act only over very small distances   \n",
       "11                                          Strong Force   \n",
       "12                                                 10^38   \n",
       "13     The objects would have to be extremely close t...   \n",
       "14                                               Gravity   \n",
       "15     The repulsion of objects with similar charge a...   \n",
       "16     The atoms move to the center of the mass of th...   \n",
       "17                                 Temperature increases   \n",
       "18                                     10 Million Kelvin   \n",
       "19                    High temperature and high pressure   \n",
       "20     Energy released from the fusion of hydrogen at...   \n",
       "21                               Fusion occurs very fast   \n",
       "22                                             Deuterium   \n",
       "23                                      The Strong Force   \n",
       "24           The mass of the combined nucleus is smaller   \n",
       "25     Hydrogen atoms in the Sun are fusing together ...   \n",
       "26                                               Gravity   \n",
       "27                                 Temperature increases   \n",
       "28                                                Helium   \n",
       "29                                    Main sequence star   \n",
       "30                                              Ignition   \n",
       "31                       Electron, proton, nucleus, atom   \n",
       "32                                 Its number of protons   \n",
       "33                                    The atom's element   \n",
       "34                  Star, solar system, galaxy, universe   \n",
       "35                                  Protons and neutrons   \n",
       "36                                           An electron   \n",
       "37                                          Less than 1%   \n",
       "38                                                  Mass   \n",
       "39                              The balloon would expand   \n",
       "\n",
       "                                                       B  \\\n",
       "index                                                      \n",
       "1      You and your computer are too close for the gr...   \n",
       "2      Light from the sun collides with a satellite o...   \n",
       "3                                                     10   \n",
       "4      The weak interaction between you and your comp...   \n",
       "5      Gravity is a much more powerful force than ele...   \n",
       "6      Switch which charges we call positive and whic...   \n",
       "7                       Gravity and the Weak Interaction   \n",
       "8      Masses tend to repel while charges tend to att...   \n",
       "9      An attractive gravitational force balances out...   \n",
       "10      Both are stronger than the Electromagnetic force   \n",
       "11                                               Gravity   \n",
       "12                                                   100   \n",
       "13          The objects would have to have the same mass   \n",
       "14                                          Strong Force   \n",
       "15     The repulsion of objects with similar mass and...   \n",
       "16     The atoms move away from the center of the mas...   \n",
       "17                                 Temperature decreases   \n",
       "18                                              0 Kelvin   \n",
       "19                     Low temperature and high pressure   \n",
       "20     The fusion of hydrogen atoms decreases the tem...   \n",
       "21                               Fusion occurs very slow   \n",
       "22                                                Oxygen   \n",
       "23                             The Electromagnetic Force   \n",
       "24            The mass of the combined nucleus is larger   \n",
       "25                        The Sun is a supermassive star   \n",
       "26                                          Strong Force   \n",
       "27                                      Volume increases   \n",
       "28                                                Oxygen   \n",
       "29                                     Supermassive star   \n",
       "30                                            Combustion   \n",
       "31                       Atom, electron, proton, nucleus   \n",
       "32                                Its number of neutrons   \n",
       "33                The atom's mass (in atomic mass units)   \n",
       "34             Galaxy, solar system, Milky Way, universe   \n",
       "35                                          Only protons   \n",
       "36                                              A proton   \n",
       "37                                                   10%   \n",
       "38                                              Momentum   \n",
       "39                              The balloon would shrink   \n",
       "\n",
       "                                                       C  \\\n",
       "index                                                      \n",
       "1      Humans are too small to detect the force of gr...   \n",
       "2      Two protons bound together in a Helium nucleus...   \n",
       "3                                              1,000,000   \n",
       "4               You and your computer have no net charge   \n",
       "5      Gravity can only act over large distances whil...   \n",
       "6      Consider both the effects over small distances...   \n",
       "7                  Gravity and the Electromagnetic Force   \n",
       "8      Masses tend to attract while charges tend to r...   \n",
       "9      The electromagnetic force only acts over very ...   \n",
       "10                          Both are weaker than Gravity   \n",
       "11                                      Weak Interaction   \n",
       "12                                                 10^18   \n",
       "13     The objects would have to be extremely far awa...   \n",
       "14                                      Weak Interaction   \n",
       "15     The repulsion of objects with similar temperat...   \n",
       "16     The atoms spin around the center of the mass o...   \n",
       "17                                        Mass increases   \n",
       "18                                         10,000 Kelvin   \n",
       "19                     High temperature and low pressure   \n",
       "20          The gravitational pull of other stars nearby   \n",
       "21                    Fusion occurs in the reverse order   \n",
       "22                                                Helium   \n",
       "23                                               Gravity   \n",
       "24          The mass of the combined nucleus is the same   \n",
       "25     The Sun does not experience the force of Gravi...   \n",
       "26                                      Weak Interaction   \n",
       "27                                        Mass increases   \n",
       "28                                                Cesium   \n",
       "29                             Alternative sequence star   \n",
       "30                                         Decomposition   \n",
       "31                      Electron, nucleus, atom, neutron   \n",
       "32                               Its number of electrons   \n",
       "33                                   The atom's velocity   \n",
       "34                    Planet, galaxy, star, solar system   \n",
       "35                                        Only electrons   \n",
       "36                                             A neutron   \n",
       "37                                                   50%   \n",
       "38                                     Moment of inertia   \n",
       "39                     None of these answers are correct   \n",
       "\n",
       "                                                       D  \n",
       "index                                                     \n",
       "1      The gravitational attraction between you and y...  \n",
       "2      A distant galaxy exerts a small but detectable...  \n",
       "3       The Weak Interaction is less strong than gravity  \n",
       "4      Neither you nor your computer has enough mass ...  \n",
       "5      The electromagnetic force can only act over sm...  \n",
       "6      Consider both the attractive and repulsive pro...  \n",
       "7              The Strong Force and the Weak Interaction  \n",
       "8      The gravitational interaction acting between m...  \n",
       "9      The Electromagnetic force only acts over very ...  \n",
       "10     Both are responsible for attractions between d...  \n",
       "11                Electromagnetic Force is the strongest  \n",
       "12               The Strong Force is weaker than gravity  \n",
       "13       The objects would have to have different masses  \n",
       "14                                 Electromagnetic Force  \n",
       "15     The repulsion of objects with similar density ...  \n",
       "16             Gravity has no effect on a cloud of atoms  \n",
       "17                                        Mass decreases  \n",
       "18                                     10 Billion Kelvin  \n",
       "19                      Low temperature and low pressure  \n",
       "20                                  The Weak Interaction  \n",
       "21                          Fusion does not occur at all  \n",
       "22                                             Beryllium  \n",
       "23                                  The Weak Interaction  \n",
       "24     It is not possible for two nuclei to fuse toge...  \n",
       "25     The Sun is comprised of 10 million Hydrogen atoms  \n",
       "26                                 Electromagnetic Force  \n",
       "27                             None of these are correct  \n",
       "28                                                Carbon  \n",
       "29                                     None of the above  \n",
       "30                                          Displacement  \n",
       "31                      Neutron, nucleus, electrom, atom  \n",
       "32                                              Its mass  \n",
       "33                             None of these are correct  \n",
       "34                 Earth, solar system, universe, galaxy  \n",
       "35                                Neutrons and electrons  \n",
       "36                                       A hydrogen atom  \n",
       "37                                         More than 90%  \n",
       "38                                                 Moles  \n",
       "39     The balloon could expand or shrink depending o...  "
      ]
     },
     "execution_count": 228,
     "metadata": {},
     "output_type": "execute_result"
    }
   ],
   "source": [
    "questions_df.loc[:, 'question':].applymap(unescape)"
   ]
  },
  {
   "cell_type": "markdown",
   "metadata": {},
   "source": [
    "## Define some functions"
   ]
  },
  {
   "cell_type": "code",
   "execution_count": 1,
   "metadata": {
    "ExecuteTime": {
     "end_time": "2020-02-16T18:04:06.953951Z",
     "start_time": "2020-02-16T18:04:06.946447Z"
    }
   },
   "outputs": [],
   "source": [
    "def symmetric_KL(a, b, c=.00000000001):\n",
    "    # symmetrized KL divergence\n",
    "    return np.divide(entropy(a + c, b + c) + entropy(b + c, a + c), 2)\n",
    "    \n",
    "def reconstruct_trace(video_model, questions_model, acc):\n",
    "    # compute timepoints by questions correlation matrix\n",
    "    wz = 1 - cdist(video_model, questions_model, metric=symmetric_KL)\n",
    "    # normalize\n",
    "    wz -= np.min(wz)\n",
    "    wz /= np.max(wz)\n",
    "    # sum over questions\n",
    "    a = np.sum(wz, axis=1)\n",
    "    # sum over correctly answered questions\n",
    "    b = np.sum(wz[:, list(map(bool, acc))], axis=1)\n",
    "    # divide b by a\n",
    "    b_a = np.array(np.divide(b, a), ndmin=2)\n",
    "    # weight the model\n",
    "    return video_model * b_a.T"
   ]
  },
  {
   "cell_type": "code",
   "execution_count": 331,
   "metadata": {
    "ExecuteTime": {
     "end_time": "2020-02-17T18:20:35.946632Z",
     "start_time": "2020-02-17T18:20:35.943398Z"
    }
   },
   "outputs": [],
   "source": [
    "test = []\n",
    "for i in range(5):\n",
    "    test.append(['a', 'b', 'c', 'd'])"
   ]
  },
  {
   "cell_type": "code",
   "execution_count": 333,
   "metadata": {
    "ExecuteTime": {
     "end_time": "2020-02-17T18:20:39.704750Z",
     "start_time": "2020-02-17T18:20:39.700423Z"
    }
   },
   "outputs": [],
   "source": [
    "test = pd.DataFrame(test, columns=['qID', 'accuracy', 'block', 'lecture'])"
   ]
  },
  {
   "cell_type": "code",
   "execution_count": 344,
   "metadata": {
    "ExecuteTime": {
     "end_time": "2020-02-17T19:17:59.764042Z",
     "start_time": "2020-02-17T19:17:59.760945Z"
    }
   },
   "outputs": [],
   "source": [
    "d = {'a':1, 'b':2, 'c':3}"
   ]
  },
  {
   "cell_type": "code",
   "execution_count": 371,
   "metadata": {
    "ExecuteTime": {
     "end_time": "2020-02-17T22:48:51.271096Z",
     "start_time": "2020-02-17T22:48:51.259534Z"
    }
   },
   "outputs": [
    {
     "data": {
      "text/plain": [
       "[1,\n",
       " 0,\n",
       " 0,\n",
       " 1,\n",
       " 1,\n",
       " 1,\n",
       " 0,\n",
       " 1,\n",
       " 0,\n",
       " 1,\n",
       " 0,\n",
       " 1,\n",
       " 0,\n",
       " 1,\n",
       " 1,\n",
       " 0,\n",
       " 1,\n",
       " 1,\n",
       " 1,\n",
       " 1,\n",
       " 1,\n",
       " 1,\n",
       " 1,\n",
       " 1,\n",
       " 1,\n",
       " 0,\n",
       " 1,\n",
       " 1,\n",
       " 1,\n",
       " 1,\n",
       " 1,\n",
       " 1,\n",
       " 1,\n",
       " 1,\n",
       " 1,\n",
       " 1,\n",
       " 1,\n",
       " 1,\n",
       " 1]"
      ]
     },
     "execution_count": 371,
     "metadata": {},
     "output_type": "execute_result"
    }
   ],
   "source": [
    "subdata['correct?'].tolist()"
   ]
  },
  {
   "cell_type": "code",
   "execution_count": 373,
   "metadata": {
    "ExecuteTime": {
     "end_time": "2020-02-17T23:07:47.586494Z",
     "start_time": "2020-02-17T23:07:47.574944Z"
    }
   },
   "outputs": [],
   "source": [
    "x = np.load('../../data/trajectories/forces_lecture.npy')"
   ]
  },
  {
   "cell_type": "code",
   "execution_count": 375,
   "metadata": {
    "ExecuteTime": {
     "end_time": "2020-02-17T23:07:55.011167Z",
     "start_time": "2020-02-17T23:07:54.930889Z"
    }
   },
   "outputs": [
    {
     "data": {
      "image/png": "[encoded data removed]",
      "text/plain": [
       "<Figure size 432x288 with 1 Axes>"
      ]
     },
     "metadata": {},
     "output_type": "display_data"
    },
    {
     "data": {
      "text/plain": [
       "<hypertools.datageometry.DataGeometry at 0x1a33d33550>"
      ]
     },
     "execution_count": 375,
     "metadata": {},
     "output_type": "execute_result"
    }
   ],
   "source": [
    "hyp.plot([x])"
   ]
  },
  {
   "cell_type": "code",
   "execution_count": 376,
   "metadata": {
    "ExecuteTime": {
     "end_time": "2020-02-17T23:08:01.105964Z",
     "start_time": "2020-02-17T23:08:01.040905Z"
    }
   },
   "outputs": [
    {
     "data": {
      "image/png": "[encoded data removed]",
      "text/plain": [
       "<Figure size 432x288 with 1 Axes>"
      ]
     },
     "metadata": {},
     "output_type": "display_data"
    },
    {
     "data": {
      "text/plain": [
       "<hypertools.datageometry.DataGeometry at 0x1a33ba5d30>"
      ]
     },
     "execution_count": 376,
     "metadata": {},
     "output_type": "execute_result"
    }
   ],
   "source": [
    "hyp.plot(x)"
   ]
  },
  {
   "cell_type": "code",
   "execution_count": 378,
   "metadata": {
    "ExecuteTime": {
     "end_time": "2020-02-17T23:09:49.305571Z",
     "start_time": "2020-02-17T23:09:49.301059Z"
    }
   },
   "outputs": [
    {
     "data": {
      "text/plain": [
       "[1, 2, 3]"
      ]
     },
     "execution_count": 378,
     "metadata": {},
     "output_type": "execute_result"
    }
   ],
   "source": [
    "y = [1, 2, 3]\n",
    "y += [i for i in []]\n",
    "y"
   ]
  },
  {
   "cell_type": "code",
   "execution_count": 382,
   "metadata": {
    "ExecuteTime": {
     "end_time": "2020-02-17T23:16:21.845152Z",
     "start_time": "2020-02-17T23:16:21.840558Z"
    }
   },
   "outputs": [
    {
     "data": {
      "text/plain": [
       "True"
      ]
     },
     "execution_count": 382,
     "metadata": {},
     "output_type": "execute_result"
    }
   ],
   "source": [
    "isinstance('a', (str, int))"
   ]
  },
  {
   "cell_type": "code",
   "execution_count": 383,
   "metadata": {
    "ExecuteTime": {
     "end_time": "2020-02-17T23:18:55.995416Z",
     "start_time": "2020-02-17T23:18:55.990941Z"
    }
   },
   "outputs": [
    {
     "data": {
      "text/plain": [
       "False"
      ]
     },
     "execution_count": 383,
     "metadata": {},
     "output_type": "execute_result"
    }
   ],
   "source": [
    "'bos' in 'basdoadfjs'"
   ]
  },
  {
   "cell_type": "code",
   "execution_count": 388,
   "metadata": {
    "ExecuteTime": {
     "end_time": "2020-02-17T23:22:28.453709Z",
     "start_time": "2020-02-17T23:22:28.450067Z"
    }
   },
   "outputs": [],
   "source": [
    "x = {'a': 1, 'b': 2, 'c': 3}\n",
    "y = {'a': 4, 'b': 5, 'c': 6}\n",
    "z = {'a': 7, 'b': 8, 'c': 9}"
   ]
  },
  {
   "cell_type": "code",
   "execution_count": 390,
   "metadata": {
    "ExecuteTime": {
     "end_time": "2020-02-17T23:22:38.363393Z",
     "start_time": "2020-02-17T23:22:38.360318Z"
    }
   },
   "outputs": [],
   "source": [
    "participants = [x, y, z]\n",
    "keys = ['a', 'b']"
   ]
  },
  {
   "cell_type": "code",
   "execution_count": 395,
   "metadata": {
    "ExecuteTime": {
     "end_time": "2020-02-17T23:24:54.244308Z",
     "start_time": "2020-02-17T23:24:54.241441Z"
    }
   },
   "outputs": [],
   "source": [
    "test = []\n",
    "test += [val[key] for val in participants for key in keys]"
   ]
  },
  {
   "cell_type": "code",
   "execution_count": 397,
   "metadata": {
    "ExecuteTime": {
     "end_time": "2020-02-17T23:27:14.511899Z",
     "start_time": "2020-02-17T23:27:14.507783Z"
    }
   },
   "outputs": [
    {
     "data": {
      "text/plain": [
       "[]"
      ]
     },
     "execution_count": 397,
     "metadata": {},
     "output_type": "execute_result"
    }
   ],
   "source": [
    "[i for i in []]"
   ]
  },
  {
   "cell_type": "code",
   "execution_count": null,
   "metadata": {
    "ExecuteTime": {
     "end_time": "2020-02-17T23:27:53.635737Z",
     "start_time": "2020-02-17T23:27:53.632204Z"
    }
   },
   "outputs": [],
   "source": []
  },
  {
   "cell_type": "code",
   "execution_count": null,
   "metadata": {
    "ExecuteTime": {
     "end_time": "2020-02-17T23:27:54.780242Z",
     "start_time": "2020-02-17T23:27:54.776073Z"
    }
   },
   "outputs": [],
   "source": []
  },
  {
   "cell_type": "code",
   "execution_count": null,
   "metadata": {},
   "outputs": [],
   "source": []
  }
 ],
 "metadata": {
  "kernelspec": {
   "display_name": "conda py37",
   "language": "python",
   "name": "py37"
  }
 },
 "nbformat": 4,
 "nbformat_minor": 2
}
