{
 "cells": [
  {
   "cell_type": "markdown",
   "metadata": {},
   "source": [
    "## Imports"
   ]
  },
  {
   "cell_type": "code",
   "execution_count": 1,
   "metadata": {
    "ExecuteTime": {
     "end_time": "2020-08-09T00:36:20.320582Z",
     "start_time": "2020-08-09T00:36:17.136309Z"
    }
   },
   "outputs": [
    {
     "data": {
      "text/markdown": [
       "Experiment & Participant classes, helper functions, and variables used across multiple notebooks can be found in `/mnt/code/khan_helpers/khan_helpers`, or on GitHub, [here](https://github.com/contextlab/efficient-learning-khan/tree/master/code/khan_helpers).<br />You can also view source code directly from the notebook with:<br /><pre>    from khan_helpers.functions import show_source<br />    show_source(foo)</pre>"
      ],
      "text/plain": [
       "<IPython.core.display.Markdown object>"
      ]
     },
     "metadata": {},
     "output_type": "display_data"
    }
   ],
   "source": [
    "import re\n",
    "from collections import defaultdict\n",
    "from difflib import get_close_matches\n",
    "\n",
    "import numpy as np\n",
    "import pandas as pd\n",
    "from nltk import pos_tag\n",
    "from nltk.corpus import stopwords, wordnet\n",
    "from nltk.stem import WordNetLemmatizer\n",
    "from scipy.spatial.distance import cdist\n",
    "from scipy.stats import pearsonr\n",
    "from sklearn.decomposition import LatentDirichletAllocation\n",
    "from sklearn.feature_extraction.text import CountVectorizer\n",
    "from tqdm.notebook import tqdm\n",
    "\n",
    "from khan_helpers import Experiment, Participant\n",
    "from khan_helpers.constants import DATA_DIR, FIG_DIR, RAW_DIR\n",
    "from khan_helpers.functions import (\n",
    "    interp_lecture, \n",
    "    parse_windows,\n",
    "    preprocess_text,\n",
    "    synset_match\n",
    ")\n",
    "\n",
    "from matplotlib.patches import Rectangle\n",
    "import seaborn as sns\n",
    "%matplotlib inline"
   ]
  },
  {
   "cell_type": "markdown",
   "metadata": {
    "ExecuteTime": {
     "end_time": "2020-02-10T21:37:05.188741Z",
     "start_time": "2020-02-10T21:37:05.169091Z"
    }
   },
   "source": [
    "## Define some functions"
   ]
  },
  {
   "cell_type": "code",
   "execution_count": 2,
   "metadata": {
    "ExecuteTime": {
     "end_time": "2020-08-09T00:36:20.354260Z",
     "start_time": "2020-08-09T00:36:20.323273Z"
    },
    "code_folding": [
     0
    ]
   },
   "outputs": [],
   "source": [
    "class ParamData:\n",
    "    def __init__(self, n_topics, window_size, corpus_key):\n",
    "        self.n_topics = n_topics\n",
    "        self.window_size = window_size\n",
    "        self.corpus_key = corpus_key\n",
    "        \n",
    "        self.forces_traj = None\n",
    "        self.bos_traj = None\n",
    "        self.forces_questions = None\n",
    "        self.bos_questions = None\n",
    "        self.cv = None\n",
    "        self.lda = None\n",
    "        self.score = None\n",
    "        \n",
    "    def __repr__(self):\n",
    "        params = f\"(n_topics: {self.n_topics}, window_size: {self.window_size}, corpus_key: {self.corpus_key})\"\n",
    "        score = f\"score: {self.score}\"\n",
    "        return f\"{params}\\n{score}\"\n",
    "    \n",
    "    def __str__(self):\n",
    "        return repr(self)\n",
    "    \n",
    "    def __eq__(self, other):\n",
    "        return self.score == other.score\n",
    "    \n",
    "    def __ne__(self, other):\n",
    "        return self.score != other.score\n",
    "    \n",
    "    def __gt__(self, other):\n",
    "        return self.score > other.score\n",
    "    \n",
    "    def __ge__(self, other):\n",
    "        return self.score >= other.score\n",
    "    \n",
    "    def __lt__(self, other):\n",
    "        return self.score < other.score\n",
    "    \n",
    "    def __le__(self, other):\n",
    "        return self.score <= other.score\n",
    "\n",
    "    def fit_transform_data(self):\n",
    "        forces_windows, forces_timestamps = parse_windows(ff_transcript_processed, \n",
    "                                                          self.window_size)\n",
    "        bos_windows, bos_timestamps = parse_windows(bos_transcript_processed, \n",
    "                                                    self.window_size)\n",
    "        forces_question_text = list(quiz_text_processed[:15, 0])\n",
    "        bos_question_text = list(quiz_text_processed[15:30, 0])\n",
    "        \n",
    "        corpus = forces_windows + bos_windows + create_qa_corpus(self.corpus_key)\n",
    "        self.cv = CountVectorizer(**CV_PARAMS)\n",
    "        self.lda = LatentDirichletAllocation(n_components=self.n_topics, **LDA_PARAMS)\n",
    "        self.lda.fit(self.cv.fit_transform(corpus))\n",
    "        \n",
    "        forces_traj = self.lda.transform(self.cv.transform(forces_windows))\n",
    "        bos_traj = self.lda.transform(self.cv.transform(bos_windows))\n",
    "        \n",
    "        self.forces_traj = interp_lecture(forces_traj, forces_timestamps)\n",
    "        self.bos_traj = interp_lecture(bos_traj, bos_timestamps)\n",
    "        self.forces_questions = self.lda.transform(self.cv.transform(forces_question_text))\n",
    "        self.bos_questions = self.lda.transform(self.cv.transform(bos_question_text))\n",
    "\n",
    "    def score_models(self):\n",
    "        forces_score = self._score_single_lec(self.forces_traj, self.forces_questions)\n",
    "        bos_score = self._score_single_lec(self.bos_traj, self.bos_questions)\n",
    "        self.score = (forces_score + bos_score) / 2\n",
    "        return self.score\n",
    "        \n",
    "    def _score_single_lec(self, lec_traj, questions):\n",
    "        qq_corrmat = np.corrcoef(questions)\n",
    "        qq_corrs = qq_corrmat[np.triu_indices_from(qq_corrmat, k=1)]\n",
    "        \n",
    "        lq_corrs = 1 - cdist(lec_traj, questions, 'correlation')\n",
    "        max_tpts = lq_corrs.argmax(axis=0)\n",
    "        max_tpt_distmat = np.abs(max_tpts[:, np.newaxis] - max_tpts)\n",
    "        max_tpt_dists = max_tpt_distmat[np.triu_indices_from(max_tpt_distmat, k=1)]\n",
    "        \n",
    "        return -pearsonr(max_tpt_dists, qq_corrs)[0]"
   ]
  },
  {
   "cell_type": "code",
   "execution_count": 3,
   "metadata": {
    "ExecuteTime": {
     "end_time": "2020-08-09T00:36:20.366490Z",
     "start_time": "2020-08-09T00:36:20.358987Z"
    },
    "code_folding": [
     0
    ]
   },
   "outputs": [],
   "source": [
    "def create_qa_corpus(corpus_key):\n",
    "    qa_corpus = []\n",
    "    if 'Q' in corpus_key:\n",
    "        # include all questions\n",
    "        q_rows = quiz_text_processed[:]\n",
    "    elif 'q' in corpus_key:\n",
    "        # include lecture-related questions\n",
    "        q_rows = quiz_text_processed[:30]\n",
    "    else:\n",
    "        # no questions (or answers) included\n",
    "        return []\n",
    "    \n",
    "    qa_corpus.extend(q_rows[:, 0])\n",
    "    if 'A' in corpus_key:\n",
    "        # all answer choices\n",
    "        qa_corpus.extend(q_rows[:, 1:].ravel())\n",
    "    elif 'a' in corpus_key:\n",
    "        # correct answers only\n",
    "        qa_corpus.extend(q_rows[:, 1])\n",
    "        \n",
    "    return qa_corpus"
   ]
  },
  {
   "cell_type": "code",
   "execution_count": 4,
   "metadata": {
    "ExecuteTime": {
     "end_time": "2020-08-09T00:36:20.381357Z",
     "start_time": "2020-08-09T00:36:20.371671Z"
    },
    "code_folding": [
     0
    ]
   },
   "outputs": [],
   "source": [
    "def model_params(n_topics, window_size, corpus_key, objs_list):\n",
    "    # if param combination has already been run, return object\n",
    "    for obj in objs_list:\n",
    "        if (obj.n_topics == n_topics and \n",
    "            obj.window_size == window_size and \n",
    "            obj.corpus_key == corpus_key):\n",
    "            return obj\n",
    "        \n",
    "    new_obj = ParamData(n_topics, window_size, corpus_key)\n",
    "    new_obj.fit_transform_data()\n",
    "    new_obj.score_models()\n",
    "    objs_list.append(new_obj)\n",
    "    return new_obj"
   ]
  },
  {
   "cell_type": "code",
   "execution_count": 5,
   "metadata": {
    "ExecuteTime": {
     "end_time": "2020-08-09T00:36:20.394676Z",
     "start_time": "2020-08-09T00:36:20.385226Z"
    },
    "code_folding": [
     0
    ]
   },
   "outputs": [],
   "source": [
    "def corpus_heatmap(x_dim, y_dim, max_val, **sns_kwargs):\n",
    "    facet_data = sns_kwargs.pop('data')\n",
    "    wide_data = facet_data.pivot(index=y_dim, columns=x_dim, values='score')\n",
    "    ax = sns.heatmap(wide_data, **sns_kwargs)\n",
    "    \n",
    "    if (wide_data == max_val).any(axis=None):\n",
    "        max_ix = np.unravel_index(wide_data.T.values.argmax(), wide_data.shape)\n",
    "        rect = Rectangle(max_ix, 1, 1, fill=False, edgecolor='#FFF9AE', lw=3)\n",
    "        ax.add_patch(rect)"
   ]
  },
  {
   "cell_type": "markdown",
   "metadata": {},
   "source": [
    "## Set static params"
   ]
  },
  {
   "cell_type": "code",
   "execution_count": 6,
   "metadata": {
    "ExecuteTime": {
     "end_time": "2020-08-09T00:36:20.405184Z",
     "start_time": "2020-08-09T00:36:20.398369Z"
    }
   },
   "outputs": [],
   "source": [
    "exp = Experiment()\n",
    "\n",
    "# CountVectorizer params\n",
    "CV_PARAMS = {\n",
    "    'strip_accents': 'unicode',\n",
    "    'stop_words': None,  # stop words already removed during preprocessing\n",
    "}\n",
    "\n",
    "# LatentDirichletAllocation params\n",
    "LDA_PARAMS = {\n",
    "    'learning_method': 'batch',\n",
    "    'random_state': 0\n",
    "}"
   ]
  },
  {
   "cell_type": "markdown",
   "metadata": {},
   "source": [
    "## Load participant data"
   ]
  },
  {
   "cell_type": "code",
   "execution_count": 7,
   "metadata": {
    "ExecuteTime": {
     "end_time": "2020-08-09T00:36:24.493059Z",
     "start_time": "2020-08-09T00:36:20.408424Z"
    }
   },
   "outputs": [],
   "source": [
    "PARTICIPANTS = []\n",
    "raw_data = pd.read_csv(RAW_DIR.joinpath('psiturk-data-raw.tsv'), \n",
    "                       sep='\\t', \n",
    "                       index_col='Unnamed: 0')\n",
    "for ix, row in raw_data.iterrows():\n",
    "    p = Participant.from_psiturk(row, subid=f\"P{ix + 1}\")\n",
    "    PARTICIPANTS.append(p)"
   ]
  },
  {
   "cell_type": "markdown",
   "metadata": {},
   "source": [
    "## Preprocess lecture, question, and answer text"
   ]
  },
  {
   "cell_type": "code",
   "execution_count": 8,
   "metadata": {
    "ExecuteTime": {
     "end_time": "2020-08-09T00:36:26.706352Z",
     "start_time": "2020-08-09T00:36:24.497446Z"
    }
   },
   "outputs": [],
   "source": [
    "ff_lines = exp.forces_transcript.splitlines()\n",
    "ff_timestamps = ff_lines[::2]\n",
    "ff_text_lines = ff_lines[1::2]\n",
    "ff_lines_processed = preprocess_text(ff_text_lines)\n",
    "\n",
    "ff_transcript_processed = []\n",
    "for ts_line, txt_line in zip(ff_timestamps, ff_lines_processed):\n",
    "    ff_transcript_processed.append(f'{ts_line}\\n{txt_line}')\n",
    "ff_transcript_processed = '\\n'.join(ff_transcript_processed)\n",
    "\n",
    "\n",
    "bos_lines = exp.bos_transcript.splitlines()\n",
    "bos_timestamps = bos_lines[::2]\n",
    "bos_text_lines = bos_lines[1::2]\n",
    "bos_lines_processed = preprocess_text(bos_text_lines)\n",
    "\n",
    "bos_transcript_processed = []\n",
    "for ts_line, txt_line in zip(bos_timestamps, bos_lines_processed):\n",
    "    bos_transcript_processed.append(f'{ts_line}\\n{txt_line}')\n",
    "bos_transcript_processed = '\\n'.join(bos_transcript_processed)"
   ]
  },
  {
   "cell_type": "code",
   "execution_count": 9,
   "metadata": {
    "ExecuteTime": {
     "end_time": "2020-08-09T00:36:26.830415Z",
     "start_time": "2020-08-09T00:36:26.708878Z"
    }
   },
   "outputs": [],
   "source": [
    "quiz_text = exp.questions.values[:, 1:]\n",
    "quiz_text_processed = preprocess_text(quiz_text.ravel())\n",
    "quiz_text_processed = np.reshape(quiz_text_processed, quiz_text.shape)\n",
    "question_text = quiz_text_processed[:, 0]"
   ]
  },
  {
   "cell_type": "markdown",
   "metadata": {
    "ExecuteTime": {
     "end_time": "2020-02-10T23:18:37.228403Z",
     "start_time": "2020-02-10T23:18:37.223650Z"
    }
   },
   "source": [
    "## Grid search params"
   ]
  },
  {
   "cell_type": "code",
   "execution_count": 10,
   "metadata": {
    "ExecuteTime": {
     "end_time": "2020-08-09T00:36:26.839898Z",
     "start_time": "2020-08-09T00:36:26.833190Z"
    }
   },
   "outputs": [],
   "source": [
    "# number of topics to fit the topic model\n",
    "n_topics = [10, 15, 20, 25, 30, 40, 50]\n",
    "\n",
    "# length of lecture transcript sliding window\n",
    "lecture_wsize = [10, 15, 20, 25, 30, 40, 50]\n",
    "\n",
    "# training corpus for topic model\n",
    "# - l: lecture sliding windows\n",
    "# - q: lecture-related multiple choice questions' text\n",
    "# - Q: all multiple choice questions' text\n",
    "# - a: correct responses to multiple choice questions\n",
    "# - A: all options for responses to multiple choice questions\n",
    "corpora = ['l', 'lq', 'lQ', 'lqa', 'lQa', 'lqA', 'lQA']\n",
    "\n",
    "param_grid = [(t, w, c) for t in n_topics for w in lecture_wsize for c in corpora]"
   ]
  },
  {
   "cell_type": "code",
   "execution_count": 11,
   "metadata": {
    "ExecuteTime": {
     "end_time": "2020-08-09T00:50:00.617939Z",
     "start_time": "2020-08-09T00:36:27.729921Z"
    },
    "scrolled": true
   },
   "outputs": [
    {
     "data": {
      "application/vnd.jupyter.widget-view+json": {
       "model_id": "211f46d38441486bb44321ec3200e6e0",
       "version_major": 2,
       "version_minor": 0
      },
      "text/plain": [
       "HBox(children=(IntProgress(value=0, max=343), HTML(value='')))"
      ]
     },
     "metadata": {},
     "output_type": "display_data"
    },
    {
     "name": "stdout",
     "output_type": "stream",
     "text": [
      "\n"
     ]
    }
   ],
   "source": [
    "PARAM_MODELS = []\n",
    "for params in tqdm(param_grid):\n",
    "    param_model = model_params(*params, objs_list=PARAM_MODELS)"
   ]
  },
  {
   "cell_type": "code",
   "execution_count": 12,
   "metadata": {
    "ExecuteTime": {
     "end_time": "2020-08-09T00:50:00.625802Z",
     "start_time": "2020-08-09T00:50:00.620379Z"
    },
    "scrolled": true
   },
   "outputs": [
    {
     "data": {
      "text/plain": [
       "(n_topics: 15, window_size: 30, corpus_key: lQa)\n",
       "score: 0.5222274832496006"
      ]
     },
     "execution_count": 12,
     "metadata": {},
     "output_type": "execute_result"
    }
   ],
   "source": [
    "# optimal number of topics, lecture window size, training corpus:\n",
    "max(PARAM_MODELS)"
   ]
  },
  {
   "cell_type": "code",
   "execution_count": 13,
   "metadata": {
    "ExecuteTime": {
     "end_time": "2020-08-09T00:50:01.553447Z",
     "start_time": "2020-08-09T00:50:00.628132Z"
    }
   },
   "outputs": [],
   "source": [
    "cols = ['Number of topics', 'Lecture window length', 'Corpus', 'score']\n",
    "gs_results = pd.DataFrame(columns=cols)\n",
    "for ix, obj in enumerate(PARAM_MODELS):\n",
    "    gs_results.loc[ix] = [obj.n_topics, obj.window_size, obj.corpus_key, obj.score]\n",
    "    \n",
    "# gs_results.to_pickle(DATA_DIR.joinpath('grid_search_results.p'))\n",
    "# gs_results = pd.read_pickle(DATA_DIR.joinpath('grid_search_results.p'))"
   ]
  },
  {
   "cell_type": "code",
   "execution_count": 14,
   "metadata": {
    "ExecuteTime": {
     "end_time": "2020-08-09T00:50:03.955532Z",
     "start_time": "2020-08-09T00:50:01.556025Z"
    },
    "scrolled": false
   },
   "outputs": [
    {
     "data": {
      "text/plain": [
       "<seaborn.axisgrid.FacetGrid at 0x7fd8ed449210>"
      ]
     },
     "execution_count": 14,
     "metadata": {},
     "output_type": "execute_result"
    },
    {
     "data": {
      "image/png": "[encoded data removed]",
      "text/plain": [
       "<Figure size 864x432 with 14 Axes>"
      ]
     },
     "metadata": {
      "needs_background": "light"
     },
     "output_type": "display_data"
    }
   ],
   "source": [
    "max_score = gs_results['score'].max()\n",
    "g = sns.FacetGrid(gs_results, col='Corpus', col_wrap=4)\n",
    "g.map_dataframe(corpus_heatmap, \n",
    "                'Number of topics', \n",
    "                'Lecture window length', \n",
    "                max_score, \n",
    "                vmin=0, \n",
    "                vmax=0.6)\n",
    "\n",
    "g.set_titles('{col_var}: {col_name}', size='x-large')\n",
    "g.set_xlabels(size='large')\n",
    "g.set_ylabels(size='large')\n",
    "\n",
    "# g.savefig(FIG_DIR.joinpath('parameter_search.pdf'), bbox_inches='tight')"
   ]
  }
 ],
 "metadata": {
  "kernelspec": {
   "display_name": "Python 3",
   "language": "python",
   "name": "python3"
  },
  "language_info": {
   "codemirror_mode": {
    "name": "ipython",
    "version": 3
   },
   "file_extension": ".py",
   "mimetype": "text/x-python",
   "name": "python",
   "nbconvert_exporter": "python",
   "pygments_lexer": "ipython3",
   "version": "3.7.4"
  }
 },
 "nbformat": 4,
 "nbformat_minor": 2
}
