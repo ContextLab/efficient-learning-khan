{
 "cells": [
  {
   "cell_type": "markdown",
   "metadata": {},
   "source": [
    "## Imports"
   ]
  },
  {
   "cell_type": "code",
   "execution_count": 1,
   "metadata": {
    "ExecuteTime": {
     "end_time": "2020-07-10T04:02:00.944758Z",
     "start_time": "2020-07-10T04:01:57.644136Z"
    }
   },
   "outputs": [
    {
     "data": {
      "text/markdown": [
       "Experiment & Participant classes, helper functions, and variables used across multiple notebooks can be found in `/mnt/code/khan_helpers/khan_helpers`, or on GitHub, [here](https://github.com/contextlab/efficient-learning-khan/tree/master/code/khan_helpers).<br />You can also view source code directly from the notebook with:<br /><pre>    from khan_helpers.helpers import show_source<br />    show_source(foo)</pre>"
      ],
      "text/plain": [
       "<IPython.core.display.Markdown object>"
      ]
     },
     "metadata": {},
     "output_type": "display_data"
    }
   ],
   "source": [
    "import numpy as np\n",
    "import pandas as pd\n",
    "from scipy.spatial.distance import cdist\n",
    "from scipy.stats import pearsonr\n",
    "from sklearn.decomposition import LatentDirichletAllocation\n",
    "from sklearn.feature_extraction.text import CountVectorizer\n",
    "from tqdm.notebook import tqdm\n",
    "\n",
    "from khan_helpers import Experiment, Participant\n",
    "from khan_helpers.constants import DATA_DIR, FIG_DIR, RAW_DIR, STOP_WORDS\n",
    "from khan_helpers.functions import (\n",
    "    corr_mean,\n",
    "    format_text, \n",
    "    interp_lecture, \n",
    "    parse_windows,\n",
    "    r2z,\n",
    "    show_source,\n",
    "    symmetric_kl,\n",
    "    z2r,\n",
    "    _ts_to_sec\n",
    ")\n",
    "\n",
    "import matplotlib.pyplot as plt\n",
    "from matplotlib.patches import Rectangle\n",
    "import seaborn as sns\n",
    "%matplotlib inline"
   ]
  },
  {
   "cell_type": "markdown",
   "metadata": {},
   "source": [
    "## Load data"
   ]
  },
  {
   "cell_type": "code",
   "execution_count": 2,
   "metadata": {
    "ExecuteTime": {
     "end_time": "2020-07-10T04:02:04.997689Z",
     "start_time": "2020-07-10T04:02:00.955840Z"
    }
   },
   "outputs": [],
   "source": [
    "exp = Experiment()\n",
    "\n",
    "# lecture transcripts\n",
    "ff_transcript, bos_transcript = exp.load_transcript(('forces', 'bos'))\n",
    "\n",
    "# questions\n",
    "questions_df = exp.load_questions()\n",
    "\n",
    "# participants' quiz scores\n",
    "participants = []\n",
    "raw_data = pd.read_csv(RAW_DIR.joinpath('psiturk-data-raw.tsv'), sep='\\t', index_col='Unnamed: 0')\n",
    "for ix, row in raw_data.iterrows():\n",
    "    p = Participant.from_psiturk(row, subid=f\"P{ix + 1}\")\n",
    "    participants.append(p)"
   ]
  },
  {
   "cell_type": "markdown",
   "metadata": {
    "ExecuteTime": {
     "end_time": "2020-02-10T21:37:05.188741Z",
     "start_time": "2020-02-10T21:37:05.169091Z"
    }
   },
   "source": [
    "## Define/inspect some functions"
   ]
  },
  {
   "cell_type": "code",
   "execution_count": 3,
   "metadata": {
    "ExecuteTime": {
     "end_time": "2020-07-10T04:02:05.044066Z",
     "start_time": "2020-07-10T04:02:04.999597Z"
    }
   },
   "outputs": [
    {
     "data": {
      "text/html": [
       "<div class=\"highlight\" style=\"background: #f8f8f8\"><pre style=\"line-height: 125%\"><span></span><span style=\"color: #008000; font-weight: bold\">def</span> <span style=\"color: #0000FF\">format_text</span>(textlist, sw<span style=\"color: #666666\">=</span>STOP_WORDS):\n",
       "    <span style=\"color: #408080; font-style: italic\"># some simple text preprocessing:</span>\n",
       "    <span style=\"color: #408080; font-style: italic\"># - removes punctuation &amp; symbols</span>\n",
       "    <span style=\"color: #408080; font-style: italic\"># - normalizes everything to lowercase,</span>\n",
       "    <span style=\"color: #408080; font-style: italic\"># - splits hyphenated words, removes apostrophes</span>\n",
       "    clean_textlist <span style=\"color: #666666\">=</span> []\n",
       "    <span style=\"color: #008000; font-weight: bold\">for</span> chunk <span style=\"color: #AA22FF; font-weight: bold\">in</span> textlist:\n",
       "        no_punc <span style=\"color: #666666\">=</span> re<span style=\"color: #666666\">.</span>sub(<span style=\"color: #BA2121\">&quot;[^a-zA-Z\\s&#39;-]+&quot;</span>, <span style=\"color: #BA2121\">&#39;&#39;</span>, chunk<span style=\"color: #666666\">.</span>lower())<span style=\"color: #666666\">.</span>replace(<span style=\"color: #BA2121\">&#39;-&#39;</span>, <span style=\"color: #BA2121\">&#39; &#39;</span>)\n",
       "        no_stop <span style=\"color: #666666\">=</span> <span style=\"color: #BA2121\">&#39; &#39;</span><span style=\"color: #666666\">.</span>join([word <span style=\"color: #008000; font-weight: bold\">for</span> word <span style=\"color: #AA22FF; font-weight: bold\">in</span> no_punc<span style=\"color: #666666\">.</span>split() <span style=\"color: #008000; font-weight: bold\">if</span> word <span style=\"color: #AA22FF; font-weight: bold\">not</span> <span style=\"color: #AA22FF; font-weight: bold\">in</span> sw])\n",
       "        clean_text <span style=\"color: #666666\">=</span> re<span style=\"color: #666666\">.</span>sub(<span style=\"color: #BA2121\">&quot;&#39;+&quot;</span>, <span style=\"color: #BA2121\">&#39;&#39;</span>, no_stop)\n",
       "        clean_textlist<span style=\"color: #666666\">.</span>append(clean_text)\n",
       "\n",
       "    <span style=\"color: #008000; font-weight: bold\">return</span> clean_textlist\n",
       "</pre></div>\n"
      ],
      "text/plain": [
       "<IPython.core.display.HTML object>"
      ]
     },
     "execution_count": 3,
     "metadata": {},
     "output_type": "execute_result"
    }
   ],
   "source": [
    "show_source(format_text)"
   ]
  },
  {
   "cell_type": "code",
   "execution_count": 4,
   "metadata": {
    "ExecuteTime": {
     "end_time": "2020-07-10T04:02:07.584995Z",
     "start_time": "2020-07-10T04:02:07.565724Z"
    }
   },
   "outputs": [
    {
     "data": {
      "text/html": [
       "<div class=\"highlight\" style=\"background: #f8f8f8\"><pre style=\"line-height: 125%\"><span></span><span style=\"color: #008000; font-weight: bold\">def</span> <span style=\"color: #0000FF\">parse_windows</span>(transcript, wsize):\n",
       "    <span style=\"color: #408080; font-style: italic\"># formats lecture transcripts as overlapping sliding windows</span>\n",
       "    <span style=\"color: #408080; font-style: italic\"># to feed as documents to topic model</span>\n",
       "    <span style=\"color: #408080; font-style: italic\"># also returns timestamps of transcribed speech for interpolation</span>\n",
       "    lines <span style=\"color: #666666\">=</span> transcript<span style=\"color: #666666\">.</span>splitlines()\n",
       "    text_lines <span style=\"color: #666666\">=</span> [l <span style=\"color: #008000; font-weight: bold\">for</span> ix, l <span style=\"color: #AA22FF; font-weight: bold\">in</span> <span style=\"color: #008000\">enumerate</span>(lines) <span style=\"color: #008000; font-weight: bold\">if</span> ix <span style=\"color: #666666\">%</span> <span style=\"color: #666666\">2</span>]\n",
       "    ts_lines <span style=\"color: #666666\">=</span> [_ts_to_sec(l) <span style=\"color: #008000; font-weight: bold\">for</span> ix, l <span style=\"color: #AA22FF; font-weight: bold\">in</span> <span style=\"color: #008000\">enumerate</span>(lines) <span style=\"color: #008000; font-weight: bold\">if</span> <span style=\"color: #AA22FF; font-weight: bold\">not</span> ix <span style=\"color: #666666\">%</span> <span style=\"color: #666666\">2</span>]\n",
       "    windows <span style=\"color: #666666\">=</span> []\n",
       "    timestamps <span style=\"color: #666666\">=</span> []\n",
       "    <span style=\"color: #008000; font-weight: bold\">for</span> ix <span style=\"color: #AA22FF; font-weight: bold\">in</span> <span style=\"color: #008000\">range</span>(<span style=\"color: #666666\">1</span>, wsize):\n",
       "        start, end <span style=\"color: #666666\">=</span> <span style=\"color: #666666\">0</span>, ix\n",
       "        windows<span style=\"color: #666666\">.</span>append(<span style=\"color: #BA2121\">&#39; &#39;</span><span style=\"color: #666666\">.</span>join(text_lines[start: end]))\n",
       "        timestamps<span style=\"color: #666666\">.</span>append((ts_lines[start] <span style=\"color: #666666\">+</span> ts_lines[end <span style=\"color: #666666\">-</span> <span style=\"color: #666666\">1</span>]) <span style=\"color: #666666\">/</span> <span style=\"color: #666666\">2</span>)\n",
       "\n",
       "    <span style=\"color: #008000; font-weight: bold\">for</span> ix <span style=\"color: #AA22FF; font-weight: bold\">in</span> <span style=\"color: #008000\">range</span>(<span style=\"color: #008000\">len</span>(ts_lines)):\n",
       "        start <span style=\"color: #666666\">=</span> ix\n",
       "        end <span style=\"color: #666666\">=</span> ix <span style=\"color: #666666\">+</span> wsize <span style=\"color: #008000; font-weight: bold\">if</span> ix <span style=\"color: #666666\">+</span> wsize <span style=\"color: #666666\">&lt;=</span> <span style=\"color: #008000\">len</span>(text_lines) <span style=\"color: #008000; font-weight: bold\">else</span> <span style=\"color: #008000\">len</span>(text_lines)\n",
       "        windows<span style=\"color: #666666\">.</span>append(<span style=\"color: #BA2121\">&#39; &#39;</span><span style=\"color: #666666\">.</span>join(text_lines[start: end]))\n",
       "        timestamps<span style=\"color: #666666\">.</span>append((ts_lines[start] <span style=\"color: #666666\">+</span> ts_lines[end <span style=\"color: #666666\">-</span> <span style=\"color: #666666\">1</span>]) <span style=\"color: #666666\">/</span> <span style=\"color: #666666\">2</span>)\n",
       "\n",
       "    <span style=\"color: #008000; font-weight: bold\">return</span> windows, timestamps\n",
       "</pre></div>\n"
      ],
      "text/plain": [
       "<IPython.core.display.HTML object>"
      ]
     },
     "execution_count": 4,
     "metadata": {},
     "output_type": "execute_result"
    }
   ],
   "source": [
    "show_source(parse_windows)"
   ]
  },
  {
   "cell_type": "code",
   "execution_count": 5,
   "metadata": {
    "ExecuteTime": {
     "end_time": "2020-07-10T04:02:12.999059Z",
     "start_time": "2020-07-10T04:02:12.988758Z"
    }
   },
   "outputs": [
    {
     "data": {
      "text/html": [
       "<div class=\"highlight\" style=\"background: #f8f8f8\"><pre style=\"line-height: 125%\"><span></span><span style=\"color: #008000; font-weight: bold\">def</span> <span style=\"color: #0000FF\">_ts_to_sec</span>(ts):\n",
       "    <span style=\"color: #408080; font-style: italic\"># converts timestamp of elapsed time from &quot;MM:SS&quot; format to scalar</span>\n",
       "    mins, secs <span style=\"color: #666666\">=</span> ts<span style=\"color: #666666\">.</span>split(<span style=\"color: #BA2121\">&#39;:&#39;</span>)\n",
       "    <span style=\"color: #008000; font-weight: bold\">return</span> timedelta(minutes<span style=\"color: #666666\">=</span><span style=\"color: #008000\">int</span>(mins), seconds<span style=\"color: #666666\">=</span><span style=\"color: #008000\">int</span>(secs))<span style=\"color: #666666\">.</span>total_seconds()\n",
       "</pre></div>\n"
      ],
      "text/plain": [
       "<IPython.core.display.HTML object>"
      ]
     },
     "execution_count": 5,
     "metadata": {},
     "output_type": "execute_result"
    }
   ],
   "source": [
    "show_source(_ts_to_sec)"
   ]
  },
  {
   "cell_type": "code",
   "execution_count": 6,
   "metadata": {
    "ExecuteTime": {
     "end_time": "2020-07-10T04:02:13.888855Z",
     "start_time": "2020-07-10T04:02:13.877404Z"
    }
   },
   "outputs": [
    {
     "data": {
      "text/html": [
       "<div class=\"highlight\" style=\"background: #f8f8f8\"><pre style=\"line-height: 125%\"><span></span><span style=\"color: #008000; font-weight: bold\">def</span> <span style=\"color: #0000FF\">interp_lecture</span>(lec_traj, timestamps):\n",
       "    <span style=\"color: #408080; font-style: italic\"># interpolates lecture trajectories to 1 vector per second</span>\n",
       "    new_tpts <span style=\"color: #666666\">=</span> np<span style=\"color: #666666\">.</span>arange(timestamps[<span style=\"color: #666666\">-1</span>])\n",
       "    interp_func <span style=\"color: #666666\">=</span> interp1d(timestamps, lec_traj, axis<span style=\"color: #666666\">=0</span>)\n",
       "    <span style=\"color: #008000; font-weight: bold\">return</span> interp_func(new_tpts)\n",
       "</pre></div>\n"
      ],
      "text/plain": [
       "<IPython.core.display.HTML object>"
      ]
     },
     "execution_count": 6,
     "metadata": {},
     "output_type": "execute_result"
    }
   ],
   "source": [
    "show_source(interp_lecture)"
   ]
  },
  {
   "cell_type": "code",
   "execution_count": 7,
   "metadata": {
    "ExecuteTime": {
     "end_time": "2020-07-10T04:02:14.332060Z",
     "start_time": "2020-07-10T04:02:14.324538Z"
    }
   },
   "outputs": [],
   "source": [
    "def create_qa_corpus(corpus_key):\n",
    "    # subset of text used to fit model\n",
    "    corpus_text = qa_text.copy()\n",
    "    \n",
    "    if 'q' in corpus_key:\n",
    "        corpus_text['gen_qs'] = []\n",
    "        corpus_text['gen_ans'] = []\n",
    "    elif 'q' not in corpus_key.lower():\n",
    "        corpus_text['ff_qs'] = []\n",
    "        corpus_text['bos_qs'] = []\n",
    "        corpus_text['gen_qs'] = []\n",
    "    \n",
    "    if 'a' in corpus_key:\n",
    "        corpus_text['ff_ans'] = ff_correct\n",
    "        corpus_text['bos_ans'] = bos_correct\n",
    "        if 'Q' in corpus_key:\n",
    "            corpus_text['gen_ans'] = gen_correct\n",
    "    elif 'a' not in corpus_key.lower():\n",
    "        corpus_text['ff_ans'] = []\n",
    "        corpus_text['bos_ans'] = []\n",
    "        corpus_text['gen_ans'] = []\n",
    "        \n",
    "    return corpus_text"
   ]
  },
  {
   "cell_type": "code",
   "execution_count": 8,
   "metadata": {
    "ExecuteTime": {
     "end_time": "2020-07-10T04:02:15.365320Z",
     "start_time": "2020-07-10T04:02:15.351574Z"
    }
   },
   "outputs": [],
   "source": [
    "def model_content(n_top, wsize, corpus_key):\n",
    "    # get text windows, timestamps\n",
    "    ff_windows, ff_timestamps = parse_windows(ff_transcript, wsize)\n",
    "    bos_windows, bos_timestamps = parse_windows(bos_transcript, wsize)\n",
    "    \n",
    "    # local copy of text corpus for adding param-dependent lecture windows\n",
    "    all_text = qa_text.copy()\n",
    "    \n",
    "    # format lecture, question, answer text\n",
    "    ff_lec = format_text(ff_windows)\n",
    "    bos_lec = format_text(bos_windows)\n",
    "    corpus_text = create_qa_corpus(corpus_key)\n",
    "    corpus_text['ff_lec'] = all_text['ff_lec'] = ff_lec\n",
    "    corpus_text['bos_lec'] = all_text['bos_lec'] = bos_lec\n",
    "\n",
    "    # set topic model params\n",
    "    tm_params = lda_params.copy()\n",
    "    tm_params['n_components'] = n_top\n",
    "    \n",
    "    full_corpus = [doc for samples in corpus_text.values() for doc in samples]\n",
    "    \n",
    "    # only bother transforming data used for scoring models\n",
    "    vecs = dict.fromkeys(('ff_lec', 'bos_lec', 'ff_qs', 'bos_qs'))\n",
    "    \n",
    "    # fit CountVectorizer model\n",
    "    tf_vectorizer = CountVectorizer(**cv_params)\n",
    "    tf_vectorizer.fit(full_corpus)\n",
    "    \n",
    "    # transform lectures, questions, answers\n",
    "    for samples in vecs.keys():\n",
    "        vecs[samples] = tf_vectorizer.transform(all_text[samples])\n",
    "        \n",
    "    vecs['full_corpus'] = tf_vectorizer.transform(full_corpus)\n",
    "\n",
    "    trajs = {}\n",
    "    # fit LDA model\n",
    "    topic_model = LatentDirichletAllocation(**tm_params)\n",
    "    topic_model.fit(vecs['full_corpus'])\n",
    "    \n",
    "    # transform word count matrices\n",
    "    for samples, doc_vecs in vecs.items():\n",
    "        trajs[samples] = topic_model.transform(doc_vecs)\n",
    "            \n",
    "    # interpolate lectures to 1 sample per second\n",
    "    trajs['ff_lec'] = interp_lecture(trajs['ff_lec'], ff_timestamps)\n",
    "    trajs['bos_lec'] = interp_lecture(trajs['bos_lec'], bos_timestamps)\n",
    "\n",
    "    return trajs"
   ]
  },
  {
   "cell_type": "code",
   "execution_count": 9,
   "metadata": {
    "ExecuteTime": {
     "end_time": "2020-07-10T04:02:16.305404Z",
     "start_time": "2020-07-10T04:02:16.295091Z"
    }
   },
   "outputs": [
    {
     "data": {
      "text/html": [
       "<div class=\"highlight\" style=\"background: #f8f8f8\"><pre style=\"line-height: 125%\"><span></span><span style=\"color: #008000; font-weight: bold\">def</span> <span style=\"color: #0000FF\">r2z</span>(r):\n",
       "    <span style=\"color: #408080; font-style: italic\"># computes the Fisher z-transformation</span>\n",
       "    <span style=\"color: #008000; font-weight: bold\">with</span> np<span style=\"color: #666666\">.</span>errstate(invalid<span style=\"color: #666666\">=</span><span style=\"color: #BA2121\">&#39;ignore&#39;</span>, divide<span style=\"color: #666666\">=</span><span style=\"color: #BA2121\">&#39;ignore&#39;</span>):\n",
       "        <span style=\"color: #008000; font-weight: bold\">return</span> <span style=\"color: #666666\">0.5</span> <span style=\"color: #666666\">*</span> (np<span style=\"color: #666666\">.</span>log(<span style=\"color: #666666\">1</span> <span style=\"color: #666666\">+</span> r) <span style=\"color: #666666\">-</span> np<span style=\"color: #666666\">.</span>log(<span style=\"color: #666666\">1</span> <span style=\"color: #666666\">-</span> r))\n",
       "</pre></div>\n"
      ],
      "text/plain": [
       "<IPython.core.display.HTML object>"
      ]
     },
     "execution_count": 9,
     "metadata": {},
     "output_type": "execute_result"
    }
   ],
   "source": [
    "show_source(r2z)"
   ]
  },
  {
   "cell_type": "code",
   "execution_count": 10,
   "metadata": {
    "ExecuteTime": {
     "end_time": "2020-07-10T04:02:16.829221Z",
     "start_time": "2020-07-10T04:02:16.817100Z"
    }
   },
   "outputs": [
    {
     "data": {
      "text/html": [
       "<div class=\"highlight\" style=\"background: #f8f8f8\"><pre style=\"line-height: 125%\"><span></span><span style=\"color: #008000; font-weight: bold\">def</span> <span style=\"color: #0000FF\">z2r</span>(z):\n",
       "    <span style=\"color: #408080; font-style: italic\"># computes the inverse Fisher z-transformation</span>\n",
       "    <span style=\"color: #008000; font-weight: bold\">with</span> np<span style=\"color: #666666\">.</span>errstate(invalid<span style=\"color: #666666\">=</span><span style=\"color: #BA2121\">&#39;ignore&#39;</span>, divide<span style=\"color: #666666\">=</span><span style=\"color: #BA2121\">&#39;ignore&#39;</span>):\n",
       "        <span style=\"color: #008000; font-weight: bold\">return</span> (np<span style=\"color: #666666\">.</span>exp(<span style=\"color: #666666\">2</span> <span style=\"color: #666666\">*</span> z) <span style=\"color: #666666\">-</span> <span style=\"color: #666666\">1</span>) <span style=\"color: #666666\">/</span> (np<span style=\"color: #666666\">.</span>exp(<span style=\"color: #666666\">2</span> <span style=\"color: #666666\">*</span> z) <span style=\"color: #666666\">+</span> <span style=\"color: #666666\">1</span>)\n",
       "</pre></div>\n"
      ],
      "text/plain": [
       "<IPython.core.display.HTML object>"
      ]
     },
     "execution_count": 10,
     "metadata": {},
     "output_type": "execute_result"
    }
   ],
   "source": [
    "show_source(z2r)"
   ]
  },
  {
   "cell_type": "code",
   "execution_count": 11,
   "metadata": {
    "ExecuteTime": {
     "end_time": "2020-07-10T04:02:17.837412Z",
     "start_time": "2020-07-10T04:02:17.826667Z"
    }
   },
   "outputs": [
    {
     "data": {
      "text/html": [
       "<div class=\"highlight\" style=\"background: #f8f8f8\"><pre style=\"line-height: 125%\"><span></span><span style=\"color: #008000; font-weight: bold\">def</span> <span style=\"color: #0000FF\">corr_mean</span>(rs, axis<span style=\"color: #666666\">=0</span>):\n",
       "    <span style=\"color: #408080; font-style: italic\"># computes the mean of correlation coefficients, performing the</span>\n",
       "    <span style=\"color: #408080; font-style: italic\"># Fisher z-transformation &amp; inverse z-transformation before &amp; after</span>\n",
       "    <span style=\"color: #008000; font-weight: bold\">return</span> z2r(np<span style=\"color: #666666\">.</span>nanmean([r2z(r) <span style=\"color: #008000; font-weight: bold\">for</span> r <span style=\"color: #AA22FF; font-weight: bold\">in</span> rs], axis<span style=\"color: #666666\">=</span>axis))\n",
       "</pre></div>\n"
      ],
      "text/plain": [
       "<IPython.core.display.HTML object>"
      ]
     },
     "execution_count": 11,
     "metadata": {},
     "output_type": "execute_result"
    }
   ],
   "source": [
    "show_source(corr_mean)"
   ]
  },
  {
   "cell_type": "code",
   "execution_count": 12,
   "metadata": {
    "ExecuteTime": {
     "end_time": "2020-07-10T04:02:18.354342Z",
     "start_time": "2020-07-10T04:02:18.344077Z"
    }
   },
   "outputs": [
    {
     "data": {
      "text/html": [
       "<div class=\"highlight\" style=\"background: #f8f8f8\"><pre style=\"line-height: 125%\"><span></span><span style=\"color: #008000; font-weight: bold\">def</span> <span style=\"color: #0000FF\">symmetric_kl</span>(a, b, c<span style=\"color: #666666\">=1e-11</span>):\n",
       "    <span style=\"color: #408080; font-style: italic\"># symmetrized KL divergence</span>\n",
       "    <span style=\"color: #008000; font-weight: bold\">return</span> np<span style=\"color: #666666\">.</span>divide(entropy(a <span style=\"color: #666666\">+</span> c, b <span style=\"color: #666666\">+</span> c) <span style=\"color: #666666\">+</span> entropy(b <span style=\"color: #666666\">+</span> c, a <span style=\"color: #666666\">+</span> c), <span style=\"color: #666666\">2</span>)\n",
       "</pre></div>\n"
      ],
      "text/plain": [
       "<IPython.core.display.HTML object>"
      ]
     },
     "execution_count": 12,
     "metadata": {},
     "output_type": "execute_result"
    }
   ],
   "source": [
    "show_source(symmetric_kl)"
   ]
  },
  {
   "cell_type": "code",
   "execution_count": 13,
   "metadata": {
    "ExecuteTime": {
     "end_time": "2020-07-10T04:02:20.084613Z",
     "start_time": "2020-07-10T04:02:20.076040Z"
    }
   },
   "outputs": [],
   "source": [
    "def reconstruct_trace(video_model, questions_model, acc):\n",
    "    acc = np.array(acc, dtype=bool)\n",
    "    wz = 1 - cdist(video_model, questions_model, metric=symmetric_kl)\n",
    "    wz -= np.min(wz)\n",
    "    wz /= np.max(wz)\n",
    "    a = wz.sum(axis=1)\n",
    "    b = wz[:, acc].sum(axis=1)\n",
    "    return b / a"
   ]
  },
  {
   "cell_type": "code",
   "execution_count": 14,
   "metadata": {
    "ExecuteTime": {
     "end_time": "2020-07-10T04:02:21.886674Z",
     "start_time": "2020-07-10T04:02:21.876289Z"
    }
   },
   "outputs": [],
   "source": [
    "def score_params(traj_dict):\n",
    "    ff_lec = traj_dict['ff_lec']\n",
    "    bos_lec = traj_dict['bos_lec']\n",
    "    ff_bos_questions = np.concatenate((traj_dict['ff_qs'], traj_dict['bos_qs']))\n",
    "    corrs = []\n",
    "    for lec_ix, lec in enumerate([ff_lec, bos_lec], start=1):\n",
    "        p_correct = []\n",
    "        trace_sums = []\n",
    "        for sub in participants:\n",
    "            sub_scores = sub.get_data(qset=lec_ix, lecture=lec_ix)\n",
    "            # compute proportion correct\n",
    "            sub_acc = sub_scores['accuracy'].tolist()\n",
    "            sub_pc = sum(sub_acc) / len(sub_acc)\n",
    "            p_correct.append(sub_pc)\n",
    "            # reconstruct trace\n",
    "            qs_ix = sub_scores['qID'] - 1\n",
    "            q_vecs = ff_bos_questions[qs_ix]\n",
    "            sub_trace = reconstruct_trace(lec, q_vecs, sub_acc)\n",
    "            trace_sums.append(sub_trace.sum())\n",
    "\n",
    "        corrs.append(pearsonr(p_correct, trace_sums)[0])\n",
    "    return corr_mean(corrs)"
   ]
  },
  {
   "cell_type": "code",
   "execution_count": 15,
   "metadata": {
    "ExecuteTime": {
     "end_time": "2020-07-10T04:02:22.942630Z",
     "start_time": "2020-07-10T04:02:22.937480Z"
    }
   },
   "outputs": [],
   "source": [
    "def grid_search(gs_params):\n",
    "    n_top, wsize, corpus = gs_params\n",
    "    trajs = model_content(n_top, wsize, corpus)\n",
    "    corr = score_params(trajs)\n",
    "    print(f'\\t{gs_params} : {corr}')\n",
    "    return corr"
   ]
  },
  {
   "cell_type": "markdown",
   "metadata": {},
   "source": [
    "## Set static params"
   ]
  },
  {
   "cell_type": "code",
   "execution_count": 16,
   "metadata": {
    "ExecuteTime": {
     "end_time": "2020-07-10T04:02:24.185642Z",
     "start_time": "2020-07-10T04:02:24.180082Z"
    }
   },
   "outputs": [
    {
     "name": "stdout",
     "output_type": "stream",
     "text": [
      "i, me, my, myself, we, our, ours, ourselves, you, you're, you've, you'll, you'd, your, yours, yourself, yourselves, he, him, his, himself, she, she's, her, hers, herself, it, it's, its, itself, they, them, their, theirs, themselves, what, which, who, whom, this, that, that'll, these, those, am, is, are, was, were, be, been, being, have, has, had, having, do, does, did, doing, a, an, the, and, but, if, or, because, as, until, while, of, at, by, for, with, about, against, between, into, through, during, before, after, above, below, to, from, up, down, in, out, on, off, over, under, again, further, then, once, here, there, when, where, why, how, all, any, both, each, few, more, most, other, some, such, no, nor, not, only, own, same, so, than, too, very, s, t, can, will, just, don, don't, should, should've, now, d, ll, m, o, re, ve, y, ain, aren, aren't, couldn, couldn't, didn, didn't, doesn, doesn't, hadn, hadn't, hasn, hasn't, haven, haven't, isn, isn't, ma, mightn, mightn't, mustn, mustn't, needn, needn't, shan, shan't, shouldn, shouldn't, wasn, wasn't, weren, weren't, won, won't, wouldn, wouldn't, even, i'll, i'm, let, let's, really, they'd, they're, they've, they'll, that's\n"
     ]
    }
   ],
   "source": [
    "# CountVectorizer params\n",
    "cv_params = {\n",
    "    'strip_accents': 'unicode',\n",
    "    'stop_words': STOP_WORDS,\n",
    "}\n",
    "\n",
    "# LatentDirichletAllocation params\n",
    "lda_params = {\n",
    "    'learning_method': 'batch',\n",
    "    'random_state': 0\n",
    "}\n",
    "\n",
    "print(', '.join(STOP_WORDS))"
   ]
  },
  {
   "cell_type": "markdown",
   "metadata": {},
   "source": [
    "## Pre-format question & answer text to save time"
   ]
  },
  {
   "cell_type": "code",
   "execution_count": 17,
   "metadata": {
    "ExecuteTime": {
     "end_time": "2020-07-10T04:02:26.099586Z",
     "start_time": "2020-07-10T04:02:26.061490Z"
    }
   },
   "outputs": [],
   "source": [
    "grouped_qs = questions_df.groupby('lecture')\n",
    "gen_qs, ff_qs, bos_qs = grouped_qs['question'].apply(format_text)\n",
    "answers_fmt = grouped_qs['A', 'B', 'C', 'D'].agg(format_text)\n",
    "gen_correct, ff_correct, bos_correct = answers_fmt['A']\n",
    "gen_ans, ff_ans, bos_ans = answers_fmt.apply(np.concatenate, axis=1).apply(list)\n",
    "qa_text = {\n",
    "    'ff_qs': ff_qs,\n",
    "    'bos_qs': bos_qs,\n",
    "    'gen_qs': gen_qs,\n",
    "    'ff_ans': ff_ans,\n",
    "    'bos_ans': bos_ans,\n",
    "    'gen_ans': gen_ans\n",
    "}"
   ]
  },
  {
   "cell_type": "markdown",
   "metadata": {
    "ExecuteTime": {
     "end_time": "2020-02-10T23:18:37.228403Z",
     "start_time": "2020-02-10T23:18:37.223650Z"
    }
   },
   "source": [
    "## Grid search params"
   ]
  },
  {
   "cell_type": "code",
   "execution_count": 18,
   "metadata": {
    "ExecuteTime": {
     "end_time": "2020-07-10T04:03:07.941070Z",
     "start_time": "2020-07-10T04:03:07.934371Z"
    }
   },
   "outputs": [],
   "source": [
    "# (maximum) number of topics to fit the topic model\n",
    "n_topics = [5, 10, 15, 20, 30, 40, 50]\n",
    "\n",
    "# length of lecture transcript sliding window\n",
    "lecture_wsize = [5, 10, 15, 20, 30, 40, 50]\n",
    "\n",
    "# training corpus for topic model\n",
    "# - l: lecture sliding windows\n",
    "# - q: lecture-related multiple choice questions' text\n",
    "# - Q: all multiple choice questions' text\n",
    "# - a: correct responses to multiple choice questions\n",
    "# - A: all options for responses to multiple choice questions\n",
    "corpora = ['l', 'lq', 'lQ', 'lqa', 'lQa', 'lqA', 'lQA']\n",
    "\n",
    "param_grid = [(t, w, c) for t in n_topics for w in lecture_wsize for c in corpora]"
   ]
  },
  {
   "cell_type": "code",
   "execution_count": 19,
   "metadata": {
    "ExecuteTime": {
     "end_time": "2020-07-10T06:00:26.356044Z",
     "start_time": "2020-07-10T04:03:10.971675Z"
    },
    "scrolled": true
   },
   "outputs": [
    {
     "data": {
      "application/vnd.jupyter.widget-view+json": {
       "model_id": "ce019f70eb6a47a79a67b46d75373a07",
       "version_major": 2,
       "version_minor": 0
      },
      "text/plain": [
       "HBox(children=(IntProgress(value=0, description='params', max=343, style=ProgressStyle(description_width='init…"
      ]
     },
     "metadata": {},
     "output_type": "display_data"
    },
    {
     "name": "stdout",
     "output_type": "stream",
     "text": [
      "\t(5, 5, 'l') : 0.991381627591752\n",
      "\t(5, 5, 'lq') : 0.9754302779881192\n",
      "\t(5, 5, 'lQ') : 0.9765994310694067\n",
      "\t(5, 5, 'lqa') : 0.9677030631353389\n",
      "\t(5, 5, 'lQa') : 0.9834872576000208\n",
      "\t(5, 5, 'lqA') : 0.9893736186130351\n",
      "\t(5, 5, 'lQA') : 0.9902638603058046\n",
      "\t(5, 10, 'l') : 0.9830752540647034\n",
      "\t(5, 10, 'lq') : 0.9730200494584019\n",
      "\t(5, 10, 'lQ') : 0.9805664802058897\n",
      "\t(5, 10, 'lqa') : 0.9825356707460257\n",
      "\t(5, 10, 'lQa') : 0.9857022466623733\n",
      "\t(5, 10, 'lqA') : 0.9819936223235821\n",
      "\t(5, 10, 'lQA') : 0.9850597582473231\n",
      "\t(5, 15, 'l') : 0.9851190045681844\n",
      "\t(5, 15, 'lq') : 0.9780044637338254\n",
      "\t(5, 15, 'lQ') : 0.9899118563873568\n",
      "\t(5, 15, 'lqa') : 0.9774278313992246\n",
      "\t(5, 15, 'lQa') : 0.9856446744369622\n",
      "\t(5, 15, 'lqA') : 0.9650556788194133\n",
      "\t(5, 15, 'lQA') : 0.9887401413040158\n",
      "\t(5, 20, 'l') : 0.9856255150714655\n",
      "\t(5, 20, 'lq') : 0.9794934037210253\n",
      "\t(5, 20, 'lQ') : 0.9868222465505974\n",
      "\t(5, 20, 'lqa') : 0.9770727211836706\n",
      "\t(5, 20, 'lQa') : 0.972227675086737\n",
      "\t(5, 20, 'lqA') : 0.9721891970970092\n",
      "\t(5, 20, 'lQA') : 0.9910813699249122\n",
      "\t(5, 30, 'l') : 0.9765880056648504\n",
      "\t(5, 30, 'lq') : 0.9790742802948948\n",
      "\t(5, 30, 'lQ') : 0.9832964180311643\n",
      "\t(5, 30, 'lqa') : 0.9640886635145096\n",
      "\t(5, 30, 'lQa') : 0.9680558697583166\n",
      "\t(5, 30, 'lqA') : 0.9773184307788042\n",
      "\t(5, 30, 'lQA') : 0.983627787942031\n",
      "\t(5, 40, 'l') : 0.9739438387726193\n",
      "\t(5, 40, 'lq') : 0.9777104324788454\n",
      "\t(5, 40, 'lQ') : 0.987612239171754\n",
      "\t(5, 40, 'lqa') : 0.9475435290766079\n",
      "\t(5, 40, 'lQa') : 0.9722791230099338\n",
      "\t(5, 40, 'lqA') : 0.9688726227348132\n",
      "\t(5, 40, 'lQA') : 0.9812163861862194\n",
      "\t(5, 50, 'l') : 0.9755236962946073\n",
      "\t(5, 50, 'lq') : 0.9804397143442174\n",
      "\t(5, 50, 'lQ') : 0.9817841461808879\n",
      "\t(5, 50, 'lqa') : 0.9512163591483551\n",
      "\t(5, 50, 'lQa') : 0.9707659365283735\n",
      "\t(5, 50, 'lqA') : 0.9699364960520269\n",
      "\t(5, 50, 'lQA') : 0.9826122437152983\n",
      "\t(10, 5, 'l') : 0.9883579394242021\n",
      "\t(10, 5, 'lq') : 0.9680807353493317\n",
      "\t(10, 5, 'lQ') : 0.9862023803085828\n",
      "\t(10, 5, 'lqa') : 0.9716495246042047\n",
      "\t(10, 5, 'lQa') : 0.9706922764314732\n",
      "\t(10, 5, 'lqA') : 0.9855094139460274\n",
      "\t(10, 5, 'lQA') : 0.9830726795856336\n",
      "\t(10, 10, 'l') : 0.9808895053433709\n",
      "\t(10, 10, 'lq') : 0.9739725723577238\n",
      "\t(10, 10, 'lQ') : 0.9844248111789152\n",
      "\t(10, 10, 'lqa') : 0.9568362376952624\n",
      "\t(10, 10, 'lQa') : 0.9711750288462796\n",
      "\t(10, 10, 'lqA') : 0.9731902763715151\n",
      "\t(10, 10, 'lQA') : 0.9816952575626146\n",
      "\t(10, 15, 'l') : 0.9823011860274787\n",
      "\t(10, 15, 'lq') : 0.9752334270842665\n",
      "\t(10, 15, 'lQ') : 0.979148144320563\n",
      "\t(10, 15, 'lqa') : 0.9636414648240516\n",
      "\t(10, 15, 'lQa') : 0.979300012177068\n",
      "\t(10, 15, 'lqA') : 0.9826755725257782\n",
      "\t(10, 15, 'lQA') : 0.9918242576167232\n",
      "\t(10, 20, 'l') : 0.9733769053111002\n",
      "\t(10, 20, 'lq') : 0.9814961525049745\n",
      "\t(10, 20, 'lQ') : 0.982567432784263\n",
      "\t(10, 20, 'lqa') : 0.9688382408194381\n",
      "\t(10, 20, 'lQa') : 0.9731710230793236\n",
      "\t(10, 20, 'lqA') : 0.9871257186356193\n",
      "\t(10, 20, 'lQA') : 0.9941550552410673\n",
      "\t(10, 30, 'l') : 0.9800953765076338\n",
      "\t(10, 30, 'lq') : 0.9764854753496683\n",
      "\t(10, 30, 'lQ') : 0.9781256327547739\n",
      "\t(10, 30, 'lqa') : 0.9739381918611515\n",
      "\t(10, 30, 'lQa') : 0.9767687524139196\n",
      "\t(10, 30, 'lqA') : 0.9858681505077416\n",
      "\t(10, 30, 'lQA') : 0.9866031067867953\n",
      "\t(10, 40, 'l') : 0.9795402294236137\n",
      "\t(10, 40, 'lq') : 0.9761561110528798\n",
      "\t(10, 40, 'lQ') : 0.9493936874041206\n",
      "\t(10, 40, 'lqa') : 0.9547269785259147\n",
      "\t(10, 40, 'lQa') : 0.9709983603549599\n",
      "\t(10, 40, 'lqA') : 0.9724360758055697\n",
      "\t(10, 40, 'lQA') : 0.9873721828253808\n",
      "\t(10, 50, 'l') : 0.9766461385722411\n",
      "\t(10, 50, 'lq') : 0.9721185549445994\n",
      "\t(10, 50, 'lQ') : 0.9546345528513022\n",
      "\t(10, 50, 'lqa') : 0.9563584027087225\n",
      "\t(10, 50, 'lQa') : 0.9676806933316692\n",
      "\t(10, 50, 'lqA') : 0.9668858289832256\n",
      "\t(10, 50, 'lQA') : 0.9814022732635606\n",
      "\t(15, 5, 'l') : 0.9762151431959013\n",
      "\t(15, 5, 'lq') : 0.9712648484817911\n",
      "\t(15, 5, 'lQ') : 0.9785686096992503\n",
      "\t(15, 5, 'lqa') : 0.9799784824656369\n",
      "\t(15, 5, 'lQa') : 0.9709716309448324\n",
      "\t(15, 5, 'lqA') : 0.9750261824664943\n",
      "\t(15, 5, 'lQA') : 0.9816955201221543\n",
      "\t(15, 10, 'l') : 0.9884111612740251\n",
      "\t(15, 10, 'lq') : 0.980933567642685\n",
      "\t(15, 10, 'lQ') : 0.9845709948449547\n",
      "\t(15, 10, 'lqa') : 0.9750822942033263\n",
      "\t(15, 10, 'lQa') : 0.9832403929052871\n",
      "\t(15, 10, 'lqA') : 0.9848093379276945\n",
      "\t(15, 10, 'lQA') : 0.9720590946467428\n",
      "\t(15, 15, 'l') : 0.9787298152689649\n",
      "\t(15, 15, 'lq') : 0.9801245383516967\n",
      "\t(15, 15, 'lQ') : 0.9830208471414517\n",
      "\t(15, 15, 'lqa') : 0.9755933319640102\n",
      "\t(15, 15, 'lQa') : 0.9786808230846703\n",
      "\t(15, 15, 'lqA') : 0.9856749364098196\n",
      "\t(15, 15, 'lQA') : 0.9647533109218992\n",
      "\t(15, 20, 'l') : 0.9759540369451717\n",
      "\t(15, 20, 'lq') : 0.9697745931322085\n",
      "\t(15, 20, 'lQ') : 0.9764239757247203\n",
      "\t(15, 20, 'lqa') : 0.9739082802330378\n",
      "\t(15, 20, 'lQa') : 0.9801124252088224\n",
      "\t(15, 20, 'lqA') : 0.9779728421531008\n",
      "\t(15, 20, 'lQA') : 0.9664706890177658\n",
      "\t(15, 30, 'l') : 0.9759463401735265\n",
      "\t(15, 30, 'lq') : 0.9769986151301036\n",
      "\t(15, 30, 'lQ') : 0.967625684453461\n",
      "\t(15, 30, 'lqa') : 0.9741932576279035\n",
      "\t(15, 30, 'lQa') : 0.9585027723704458\n",
      "\t(15, 30, 'lqA') : 0.9665338504318421\n",
      "\t(15, 30, 'lQA') : 0.9696549737719161\n",
      "\t(15, 40, 'l') : 0.9786179369383804\n",
      "\t(15, 40, 'lq') : 0.9825475837625655\n",
      "\t(15, 40, 'lQ') : 0.9690674392878842\n",
      "\t(15, 40, 'lqa') : 0.9657191407159175\n",
      "\t(15, 40, 'lQa') : 0.96213450973311\n",
      "\t(15, 40, 'lqA') : 0.9165442609769273\n",
      "\t(15, 40, 'lQA') : 0.9715881137508088\n",
      "\t(15, 50, 'l') : 0.9797727826735981\n",
      "\t(15, 50, 'lq') : 0.9721867870996146\n",
      "\t(15, 50, 'lQ') : 0.9575636446450492\n",
      "\t(15, 50, 'lqa') : 0.9716331239614959\n",
      "\t(15, 50, 'lQa') : 0.9631556774964865\n",
      "\t(15, 50, 'lqA') : 0.9288019002081828\n",
      "\t(15, 50, 'lQA') : 0.9768449785644846\n",
      "\t(20, 5, 'l') : 0.9848778517838456\n",
      "\t(20, 5, 'lq') : 0.9785367071691831\n",
      "\t(20, 5, 'lQ') : 0.9773309047464587\n",
      "\t(20, 5, 'lqa') : 0.9706711199536113\n",
      "\t(20, 5, 'lQa') : 0.9660910673091827\n",
      "\t(20, 5, 'lqA') : 0.9654559952881953\n",
      "\t(20, 5, 'lQA') : 0.9792655539053644\n",
      "\t(20, 10, 'l') : 0.9787792805363996\n",
      "\t(20, 10, 'lq') : 0.9782131602089177\n",
      "\t(20, 10, 'lQ') : 0.9830574383206583\n",
      "\t(20, 10, 'lqa') : 0.9775500849977662\n",
      "\t(20, 10, 'lQa') : 0.9780791784839925\n",
      "\t(20, 10, 'lqA') : 0.9686551702581871\n",
      "\t(20, 10, 'lQA') : 0.9762359726091868\n",
      "\t(20, 15, 'l') : 0.9814653651755642\n",
      "\t(20, 15, 'lq') : 0.9775103083200518\n",
      "\t(20, 15, 'lQ') : 0.9888663814151346\n",
      "\t(20, 15, 'lqa') : 0.9757305717863983\n",
      "\t(20, 15, 'lQa') : 0.9581327696009764\n",
      "\t(20, 15, 'lqA') : 0.969156676137822\n",
      "\t(20, 15, 'lQA') : 0.9753016169833115\n",
      "\t(20, 20, 'l') : 0.9758409515128468\n",
      "\t(20, 20, 'lq') : 0.9741164157305037\n",
      "\t(20, 20, 'lQ') : 0.9799045538686281\n",
      "\t(20, 20, 'lqa') : 0.9519218392394792\n",
      "\t(20, 20, 'lQa') : 0.9629821363134743\n",
      "\t(20, 20, 'lqA') : 0.9667504337846289\n",
      "\t(20, 20, 'lQA') : 0.9630635179135166\n",
      "\t(20, 30, 'l') : 0.9726847891455274\n",
      "\t(20, 30, 'lq') : 0.9708693972290071\n",
      "\t(20, 30, 'lQ') : 0.9769224446271744\n",
      "\t(20, 30, 'lqa') : 0.9701692481247307\n",
      "\t(20, 30, 'lQa') : 0.9607249638395283\n",
      "\t(20, 30, 'lqA') : 0.9491838752687372\n",
      "\t(20, 30, 'lQA') : 0.9638254077718826\n",
      "\t(20, 40, 'l') : 0.9792185421409244\n",
      "\t(20, 40, 'lq') : 0.9662814857609768\n",
      "\t(20, 40, 'lQ') : 0.9727885363291751\n",
      "\t(20, 40, 'lqa') : 0.9425417056520414\n",
      "\t(20, 40, 'lQa') : 0.9629082642987259\n",
      "\t(20, 40, 'lqA') : 0.9584615297492701\n",
      "\t(20, 40, 'lQA') : 0.9878573566926868\n",
      "\t(20, 50, 'l') : 0.9775009794387327\n",
      "\t(20, 50, 'lq') : 0.9558910992918229\n",
      "\t(20, 50, 'lQ') : 0.9695498635853109\n",
      "\t(20, 50, 'lqa') : 0.9619976369650127\n",
      "\t(20, 50, 'lQa') : 0.9443552417223783\n",
      "\t(20, 50, 'lqA') : 0.9621903047225974\n",
      "\t(20, 50, 'lQA') : 0.981109435326262\n",
      "\t(30, 5, 'l') : 0.9846494252600986\n",
      "\t(30, 5, 'lq') : 0.9742523766494773\n",
      "\t(30, 5, 'lQ') : 0.9729721639348428\n",
      "\t(30, 5, 'lqa') : 0.9664926135102613\n",
      "\t(30, 5, 'lQa') : 0.9695673468419719\n",
      "\t(30, 5, 'lqA') : 0.9766311698149154\n",
      "\t(30, 5, 'lQA') : 0.9621435812522895\n",
      "\t(30, 10, 'l') : 0.9807204284184968\n",
      "\t(30, 10, 'lq') : 0.9769114963308783\n",
      "\t(30, 10, 'lQ') : 0.9744855765697816\n",
      "\t(30, 10, 'lqa') : 0.9790010359937483\n",
      "\t(30, 10, 'lQa') : 0.9710103833302606\n",
      "\t(30, 10, 'lqA') : 0.977326986055105\n",
      "\t(30, 10, 'lQA') : 0.9696270334551879\n",
      "\t(30, 15, 'l') : 0.9760408778142693\n",
      "\t(30, 15, 'lq') : 0.9774644486916668\n",
      "\t(30, 15, 'lQ') : 0.9714617937292975\n",
      "\t(30, 15, 'lqa') : 0.9819577615179244\n",
      "\t(30, 15, 'lQa') : 0.9814884801842566\n",
      "\t(30, 15, 'lqA') : 0.9710885852317709\n",
      "\t(30, 15, 'lQA') : 0.9715536955974601\n",
      "\t(30, 20, 'l') : 0.977508333225701\n",
      "\t(30, 20, 'lq') : 0.9598488672027086\n",
      "\t(30, 20, 'lQ') : 0.9654829863743437\n",
      "\t(30, 20, 'lqa') : 0.9801048739081518\n",
      "\t(30, 20, 'lQa') : 0.9710442972712715\n"
     ]
    },
    {
     "name": "stdout",
     "output_type": "stream",
     "text": [
      "\t(30, 20, 'lqA') : 0.9479006504747096\n",
      "\t(30, 20, 'lQA') : 0.9811204364409937\n",
      "\t(30, 30, 'l') : 0.9765434946226581\n",
      "\t(30, 30, 'lq') : 0.9653374246690112\n",
      "\t(30, 30, 'lQ') : 0.9601715799274403\n",
      "\t(30, 30, 'lqa') : 0.9628692287264112\n",
      "\t(30, 30, 'lQa') : 0.9389315791237541\n",
      "\t(30, 30, 'lqA') : 0.9504525838977369\n",
      "\t(30, 30, 'lQA') : 0.9783181956565754\n",
      "\t(30, 40, 'l') : 0.9772380439824084\n",
      "\t(30, 40, 'lq') : 0.959351596473264\n",
      "\t(30, 40, 'lQ') : 0.9321349817565441\n",
      "\t(30, 40, 'lqa') : 0.9533010985360593\n",
      "\t(30, 40, 'lQa') : 0.9569793375525429\n",
      "\t(30, 40, 'lqA') : 0.9634727120334843\n",
      "\t(30, 40, 'lQA') : 0.9709595543146031\n",
      "\t(30, 50, 'l') : 0.9787007126787807\n",
      "\t(30, 50, 'lq') : 0.9726770614803224\n",
      "\t(30, 50, 'lQ') : 0.9386798057677446\n",
      "\t(30, 50, 'lqa') : 0.9606610448883901\n",
      "\t(30, 50, 'lQa') : 0.9524167198795733\n",
      "\t(30, 50, 'lqA') : 0.9500470777301574\n",
      "\t(30, 50, 'lQA') : 0.950106822153431\n",
      "\t(40, 5, 'l') : 0.9789700893356467\n",
      "\t(40, 5, 'lq') : 0.9686619406625555\n",
      "\t(40, 5, 'lQ') : 0.9589253706474317\n",
      "\t(40, 5, 'lqa') : 0.9661559565528913\n",
      "\t(40, 5, 'lQa') : 0.9770096314594604\n",
      "\t(40, 5, 'lqA') : 0.9765286457057336\n",
      "\t(40, 5, 'lQA') : 0.9627549597340572\n",
      "\t(40, 10, 'l') : 0.9747117545716931\n",
      "\t(40, 10, 'lq') : 0.97130496583501\n",
      "\t(40, 10, 'lQ') : 0.9709018604547957\n",
      "\t(40, 10, 'lqa') : 0.9583215203846511\n",
      "\t(40, 10, 'lQa') : 0.9807938406938047\n",
      "\t(40, 10, 'lqA') : 0.9603860644430342\n",
      "\t(40, 10, 'lQA') : 0.9779524043907343\n",
      "\t(40, 15, 'l') : 0.9716050839281495\n",
      "\t(40, 15, 'lq') : 0.9597705374004549\n",
      "\t(40, 15, 'lQ') : 0.9681845378636664\n",
      "\t(40, 15, 'lqa') : 0.9481933658410137\n",
      "\t(40, 15, 'lQa') : 0.9746191988213506\n",
      "\t(40, 15, 'lqA') : 0.9627863053123898\n",
      "\t(40, 15, 'lQA') : 0.9752897699056795\n",
      "\t(40, 20, 'l') : 0.9677485744276884\n",
      "\t(40, 20, 'lq') : 0.9659045091590738\n",
      "\t(40, 20, 'lQ') : 0.9695026359752151\n",
      "\t(40, 20, 'lqa') : 0.9595929633675796\n",
      "\t(40, 20, 'lQa') : 0.964860861131524\n",
      "\t(40, 20, 'lqA') : 0.9573597818749304\n",
      "\t(40, 20, 'lQA') : 0.9680232063118333\n",
      "\t(40, 30, 'l') : 0.9713509497498838\n",
      "\t(40, 30, 'lq') : 0.9563383183899986\n",
      "\t(40, 30, 'lQ') : 0.9540247281164259\n",
      "\t(40, 30, 'lqa') : 0.9542876361835607\n",
      "\t(40, 30, 'lQa') : 0.9505971764001123\n",
      "\t(40, 30, 'lqA') : 0.9485600318068472\n",
      "\t(40, 30, 'lQA') : 0.9600476294427926\n",
      "\t(40, 40, 'l') : 0.9728677674215274\n",
      "\t(40, 40, 'lq') : 0.9670082652249329\n",
      "\t(40, 40, 'lQ') : 0.9511203440357127\n",
      "\t(40, 40, 'lqa') : 0.937781151067663\n",
      "\t(40, 40, 'lQa') : 0.9518563921841326\n",
      "\t(40, 40, 'lqA') : 0.9644985109452905\n",
      "\t(40, 40, 'lQA') : 0.9635666985060972\n",
      "\t(40, 50, 'l') : 0.9693960314470007\n",
      "\t(40, 50, 'lq') : 0.9613610664552136\n",
      "\t(40, 50, 'lQ') : 0.9368363692576743\n",
      "\t(40, 50, 'lqa') : 0.9619339458885278\n",
      "\t(40, 50, 'lQa') : 0.9592554895088536\n",
      "\t(40, 50, 'lqA') : 0.9699751715952194\n",
      "\t(40, 50, 'lQA') : 0.9478107653860575\n",
      "\t(50, 5, 'l') : 0.9707271889419608\n",
      "\t(50, 5, 'lq') : 0.9705944250441134\n",
      "\t(50, 5, 'lQ') : 0.9745331613980598\n",
      "\t(50, 5, 'lqa') : 0.9745775729680917\n",
      "\t(50, 5, 'lQa') : 0.9715175376825375\n",
      "\t(50, 5, 'lqA') : 0.9613827076205911\n",
      "\t(50, 5, 'lQA') : 0.9714728827505482\n",
      "\t(50, 10, 'l') : 0.9780483521781477\n",
      "\t(50, 10, 'lq') : 0.9745890707250153\n",
      "\t(50, 10, 'lQ') : 0.966945478637436\n",
      "\t(50, 10, 'lqa') : 0.9606106780600523\n",
      "\t(50, 10, 'lQa') : 0.9604098983706929\n",
      "\t(50, 10, 'lqA') : 0.954836912059709\n",
      "\t(50, 10, 'lQA') : 0.9721155361825776\n",
      "\t(50, 15, 'l') : 0.9736854400058207\n",
      "\t(50, 15, 'lq') : 0.9692907999664965\n",
      "\t(50, 15, 'lQ') : 0.9646573159716906\n",
      "\t(50, 15, 'lqa') : 0.9712017774264544\n",
      "\t(50, 15, 'lQa') : 0.9621351953459993\n",
      "\t(50, 15, 'lqA') : 0.9603095860002734\n",
      "\t(50, 15, 'lQA') : 0.9659853552966355\n",
      "\t(50, 20, 'l') : 0.9719988970298822\n",
      "\t(50, 20, 'lq') : 0.9723093825374113\n",
      "\t(50, 20, 'lQ') : 0.9648391058760819\n",
      "\t(50, 20, 'lqa') : 0.9656527662744674\n",
      "\t(50, 20, 'lQa') : 0.959025754794747\n",
      "\t(50, 20, 'lqA') : 0.9591962287509668\n",
      "\t(50, 20, 'lQA') : 0.9721010590195744\n",
      "\t(50, 30, 'l') : 0.9743208511269331\n",
      "\t(50, 30, 'lq') : 0.9754726637731187\n",
      "\t(50, 30, 'lQ') : 0.9629941484678483\n",
      "\t(50, 30, 'lqa') : 0.9732537649722725\n",
      "\t(50, 30, 'lQa') : 0.9564254355015173\n",
      "\t(50, 30, 'lqA') : 0.9433693050320967\n",
      "\t(50, 30, 'lQA') : 0.9591059174986876\n",
      "\t(50, 40, 'l') : 0.9661486103446666\n",
      "\t(50, 40, 'lq') : 0.9598288089809612\n",
      "\t(50, 40, 'lQ') : 0.9761580306449554\n",
      "\t(50, 40, 'lqa') : 0.9387709719782649\n",
      "\t(50, 40, 'lQa') : 0.9517727447497029\n",
      "\t(50, 40, 'lqA') : 0.9487768977993457\n",
      "\t(50, 40, 'lQA') : 0.9599485980657687\n",
      "\t(50, 50, 'l') : 0.9704243334930149\n",
      "\t(50, 50, 'lq') : 0.9596410453019372\n",
      "\t(50, 50, 'lQ') : 0.980131280343875\n",
      "\t(50, 50, 'lqa') : 0.9383656355260434\n",
      "\t(50, 50, 'lQa') : 0.9453165655211702\n",
      "\t(50, 50, 'lqA') : 0.9527535667136874\n",
      "\t(50, 50, 'lQA') : 0.9582032929620019\n",
      "\n"
     ]
    }
   ],
   "source": [
    "param_scores = []\n",
    "for params in tqdm(param_grid, desc='params', leave=True):\n",
    "    result = grid_search(params)\n",
    "    param_scores.append(result)"
   ]
  },
  {
   "cell_type": "code",
   "execution_count": 20,
   "metadata": {
    "ExecuteTime": {
     "end_time": "2020-07-10T06:00:26.367130Z",
     "start_time": "2020-07-10T06:00:26.359189Z"
    },
    "scrolled": true
   },
   "outputs": [
    {
     "data": {
      "text/plain": [
       "array(['10', '20', 'lQA'], dtype='<U21')"
      ]
     },
     "execution_count": 20,
     "metadata": {},
     "output_type": "execute_result"
    }
   ],
   "source": [
    "# optimal number of topics, lecture window size, training corpus:\n",
    "np.array(param_grid)[np.argmax(param_scores)]"
   ]
  },
  {
   "cell_type": "code",
   "execution_count": 21,
   "metadata": {
    "ExecuteTime": {
     "end_time": "2020-07-10T06:00:26.388838Z",
     "start_time": "2020-07-10T06:00:26.370115Z"
    }
   },
   "outputs": [],
   "source": [
    "gs_results = pd.DataFrame(param_grid, columns=['topics', 'wsize', 'corpus'])\n",
    "gs_results['correlation'] = param_scores\n",
    "gs_results.to_pickle(DATA_DIR.joinpath('grid_search_results.p'))\n",
    "\n",
    "# gs_results = pd.read_pickle(DATA_DIR.joinpath('grid_search_results.p'))\n",
    "# param_scores = gs_results['correlation'].tolist()"
   ]
  },
  {
   "cell_type": "code",
   "execution_count": 24,
   "metadata": {
    "ExecuteTime": {
     "end_time": "2020-04-14T23:50:22.062868Z",
     "start_time": "2020-04-14T23:50:18.724306Z"
    },
    "scrolled": false
   },
   "outputs": [
    {
     "data": {
      "image/png": "[encoded data removed]",
      "text/plain": [
       "<Figure size 1008x432 with 15 Axes>"
      ]
     },
     "metadata": {
      "needs_background": "light"
     },
     "output_type": "display_data"
    }
   ],
   "source": [
    "fig, axarr = plt.subplots(2, 4)\n",
    "fig.set_size_inches(14, 6)\n",
    "axarr = axarr.flatten()\n",
    "\n",
    "param_arr = np.moveaxis(np.reshape(param_scores, (7, 7, 7)), 2, 0)\n",
    "opt_params = np.unravel_index(param_arr.argmax(), param_arr.shape)\n",
    "opt_corpus, opt_ntopics, opt_wsize = opt_params\n",
    "\n",
    "for i, (ax, arr) in enumerate(zip(axarr, param_arr)):\n",
    "    \n",
    "    cb = True\n",
    "    yt = lecture_wsize if i in [0, 4] else []\n",
    "    ax = sns.heatmap(arr.T, vmin=.94, vmax=1, xticklabels=n_topics, yticklabels=yt, \n",
    "                     ax=ax, cbar=cb)\n",
    "    ax.set_title(f'Corpus: {corpora[i]}')\n",
    "    if i >= 3:\n",
    "        ax.set_xlabel('Number of topics')\n",
    "    if i in [0, 4]:\n",
    "        ax.set_ylabel('Lecture window size')\n",
    "        \n",
    "    if i == opt_corpus:\n",
    "        ax.add_patch(Rectangle((opt_ntopics, opt_wsize), 1, 1, fill=False, \n",
    "                               edgecolor='#FFF9AE', lw=3))\n",
    "        \n",
    "    \n",
    "    \n",
    "axarr[-1].axis('off')\n",
    "plt.tight_layout()\n",
    "# plt.savefig(FIG_DIR.joinpath('parameter_search.pdf'), bbox_inches='tight')\n",
    "plt.show()"
   ]
  }
 ],
 "metadata": {
  "kernelspec": {
   "display_name": "Python 3",
   "language": "python",
   "name": "python3"
  },
  "language_info": {
   "codemirror_mode": {
    "name": "ipython",
    "version": 3
   },
   "file_extension": ".py",
   "mimetype": "text/x-python",
   "name": "python",
   "nbconvert_exporter": "python",
   "pygments_lexer": "ipython3",
   "version": "3.7.4"
  }
 },
 "nbformat": 4,
 "nbformat_minor": 2
}
