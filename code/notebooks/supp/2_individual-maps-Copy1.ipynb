{
 "cells": [
  {
   "cell_type": "markdown",
   "metadata": {},
   "source": [
    "## Imports"
   ]
  },
  {
   "cell_type": "code",
   "execution_count": 1,
   "metadata": {
    "ExecuteTime": {
     "end_time": "2020-07-20T23:21:11.519048Z",
     "start_time": "2020-07-20T23:21:07.740017Z"
    }
   },
   "outputs": [
    {
     "data": {
      "text/markdown": [
       "Experiment & Participant classes, helper functions, and variables used across multiple notebooks can be found in `/mnt/code/khan_helpers/khan_helpers`, or on GitHub, [here](https://github.com/contextlab/efficient-learning-khan/tree/master/code/khan_helpers).<br />You can also view source code directly from the notebook with:<br /><pre>    from khan_helpers.functions import show_source<br />    show_source(foo)</pre>"
      ],
      "text/plain": [
       "<IPython.core.display.Markdown object>"
      ]
     },
     "metadata": {},
     "output_type": "display_data"
    }
   ],
   "source": [
    "import numpy as np\n",
    "from tqdm.notebook import trange\n",
    "\n",
    "from khan_helpers import Experiment\n",
    "from khan_helpers.constants import FIG_DIR, N_PARTICIPANTS\n",
    "\n",
    "import matplotlib.pyplot as plt\n",
    "import seaborn as sns\n",
    "%matplotlib inline"
   ]
  },
  {
   "cell_type": "code",
   "execution_count": 2,
   "metadata": {
    "ExecuteTime": {
     "end_time": "2020-07-20T23:21:11.533574Z",
     "start_time": "2020-07-20T23:21:11.522054Z"
    }
   },
   "outputs": [],
   "source": [
    "exp = Experiment()"
   ]
  },
  {
   "cell_type": "markdown",
   "metadata": {},
   "source": [
    "## Set plotting params"
   ]
  },
  {
   "cell_type": "code",
   "execution_count": 3,
   "metadata": {
    "ExecuteTime": {
     "end_time": "2020-07-20T23:21:11.549595Z",
     "start_time": "2020-07-20T23:21:11.541850Z"
    }
   },
   "outputs": [],
   "source": [
    "plt.rcParams['pdf.fonttype'] = 42\n",
    "sns.set_context('paper')\n",
    "cmap = 'bone'"
   ]
  },
  {
   "cell_type": "markdown",
   "metadata": {},
   "source": [
    "## Uniformly shift data for plotting over heatmap"
   ]
  },
  {
   "cell_type": "code",
   "execution_count": 4,
   "metadata": {
    "ExecuteTime": {
     "end_time": "2020-07-20T23:21:11.602560Z",
     "start_time": "2020-07-20T23:21:11.555338Z"
    }
   },
   "outputs": [],
   "source": [
    "resolution = 100\n",
    "embeddings = np.vstack((exp.forces_embedding, \n",
    "                        exp.bos_embedding, \n",
    "                        exp.question_embeddings))\n",
    "x_min, y_min = embeddings.min(axis=0) // 1 - 3\n",
    "x_max, y_max = embeddings.max(axis=0) // 1 + 3\n",
    "x_step = (x_max - x_min) / resolution\n",
    "y_step = (y_max - y_min) / resolution\n",
    "xs = np.arange(x_min, x_max, x_step)\n",
    "ys = np.arange(y_min, y_max, y_step)\n",
    "vertices = np.array([(x_coord, y_coord) for y_coord in ys for x_coord in xs])\n",
    "\n",
    "all_coords = [exp.forces_embedding, exp.bos_embedding, exp.question_embeddings, vertices]\n",
    "split_inds = np.cumsum([arr.shape[0] for arr in all_coords])[:-1]\n",
    "shifted = np.vstack(all_coords)\n",
    "shifted -= shifted.min(axis=0)\n",
    "shifted /= (shifted.max(axis=0) / resolution)\n",
    "\n",
    "forces, bos, questions = np.vsplit(shifted, split_inds)[:-1]"
   ]
  },
  {
   "cell_type": "markdown",
   "metadata": {
    "ExecuteTime": {
     "end_time": "2020-03-16T01:58:52.252979Z",
     "start_time": "2020-03-16T01:58:52.242956Z"
    }
   },
   "source": [
    "## Plot individual knowledge & learning maps\n",
    "\n",
    "*NOTE: PLOT TAKES ~20 MINUTES TO GENERATE*"
   ]
  },
  {
   "cell_type": "code",
   "execution_count": 10,
   "metadata": {
    "ExecuteTime": {
     "end_time": "2020-07-20T23:51:52.074954Z",
     "start_time": "2020-07-20T23:27:37.831162Z"
    },
    "scrolled": true
   },
   "outputs": [
    {
     "data": {
      "application/vnd.jupyter.widget-view+json": {
       "model_id": "1bf4893a8517408d932daa7f673e3432",
       "version_major": 2,
       "version_minor": 0
      },
      "text/plain": [
       "HBox(children=(IntProgress(value=0, max=50), HTML(value='')))"
      ]
     },
     "metadata": {},
     "output_type": "display_data"
    },
    {
     "name": "stdout",
     "output_type": "stream",
     "text": [
      "\n"
     ]
    }
   ],
   "source": [
    "# NOTE: plot takes ~20 minutes to generate\n",
    "n_rows = N_PARTICIPANTS * 4\n",
    "n_cols = 6\n",
    "\n",
    "fig = plt.figure(figsize=(14, 8 * N_PARTICIPANTS))\n",
    "# set up subplot layout\n",
    "axarr = []\n",
    "for sub_n in range(N_PARTICIPANTS):\n",
    "    row_ix = sub_n * 4\n",
    "    # row of 3 knowledge maps\n",
    "    kmap1 = plt.subplot2grid((n_rows, n_cols), (row_ix, 0), colspan=2, rowspan=2)\n",
    "    kmap2 = plt.subplot2grid((n_rows, n_cols), (row_ix, 2), colspan=2, rowspan=2)\n",
    "    kmap3 = plt.subplot2grid((n_rows, n_cols), (row_ix, 4), colspan=2, rowspan=2)\n",
    "    # row of 2 learning maps\n",
    "    lmap1 = plt.subplot2grid((n_rows, n_cols), (row_ix + 2, 1), colspan=2, rowspan=2)\n",
    "    lmap2 = plt.subplot2grid((n_rows, n_cols), (row_ix + 2, 3), colspan=2, rowspan=2)\n",
    "    axarr.append([kmap1, kmap2, kmap3, lmap1, lmap2])\n",
    "    \n",
    "# call tight_layout before adding colorbar axes so bounding boxes are set properly\n",
    "plt.tight_layout()\n",
    "\n",
    "# hack to add colorbar axes to each row without cutting into rightmost heatmap\n",
    "cbar_axarr = []\n",
    "for sub_axes in axarr:\n",
    "    kmap3_bbox = sub_axes[2].get_position()\n",
    "    lmap2_bbox = sub_axes[4].get_position()\n",
    "    kmap_cax = fig.add_axes([\n",
    "        kmap3_bbox.xmax * 1.01, \n",
    "        kmap3_bbox.y0, \n",
    "        kmap3_bbox.width * 0.05, \n",
    "        kmap3_bbox.height\n",
    "    ])\n",
    "    lmap_cax = fig.add_axes([\n",
    "        lmap2_bbox.xmax * 1.01, \n",
    "        lmap2_bbox.y0, \n",
    "        lmap2_bbox.width * 0.05, \n",
    "        lmap2_bbox.height\n",
    "    ])\n",
    "    cbar_axarr.append([kmap_cax, lmap_cax])\n",
    "\n",
    "# loop over participants/axes/colorbar axes\n",
    "for sub_n in trange(N_PARTICIPANTS):\n",
    "    sub = exp.participants[sub_n]\n",
    "    sub_axes = axarr[sub_n]\n",
    "    sub_kmap_axes, sub_lmap_axes = sub_axes[:3], sub_axes[3:]\n",
    "    kmap_cbar_ax, lmap_cbar_ax = cbar_axarr[sub_n]\n",
    "    kmaps = [sub.get_kmap(f'forces_bos_qset{qset}') for qset in range(3)]\n",
    "    lmaps = [kmaps[qset + 1] - kmaps[qset] for qset in range(2)]\n",
    "    \n",
    "    # plot knowledge map\n",
    "    for i, kmap in enumerate(kmaps):\n",
    "        ax = sub_kmap_axes[i]\n",
    "        # turn colorbar on for last plot in row\n",
    "        cbar = True if i == 2 else False\n",
    "        cbar_ax = kmap_cbar_ax if cbar else None\n",
    "        # create background heatmap\n",
    "        sns.heatmap(kmap, \n",
    "                    vmin=0, \n",
    "                    vmax=1, \n",
    "                    xticklabels=[], \n",
    "                    yticklabels=[], \n",
    "                    cmap=cmap, \n",
    "                    cbar=cbar, \n",
    "                    ax=ax, \n",
    "                    cbar_ax=cbar_ax)\n",
    "        # rasterize\n",
    "        ax.collections[0].remove()\n",
    "        ax.imshow(kmap, \n",
    "                  vmin=0, \n",
    "                  vmax=1, \n",
    "                  aspect='auto', \n",
    "                  cmap=cmap)\n",
    "        \n",
    "        # plot questions from current question set\n",
    "        qset_data = sub.get_data(qset=i)\n",
    "        g_qIDs, f_qIDs, b_qIDs = qset_data.groupby('lecture')['qID'].groups.values()\n",
    "        \n",
    "        ax.scatter(questions[f_qIDs - 1, 0], questions[f_qIDs - 1, 1], \n",
    "                   c='r', marker='o', s=50, alpha=.7)\n",
    "        ax.scatter(questions[b_qIDs - 1, 0], questions[b_qIDs - 1, 1], \n",
    "                   c='g', marker='o', s=50, alpha=.7)\n",
    "        ax.scatter(questions[g_qIDs - 1, 0], questions[g_qIDs - 1, 1], \n",
    "                   c='b', marker='o', s=50, alpha=.7)\n",
    "        \n",
    "        # overlay previously viewed lectures\n",
    "        if i > 0:\n",
    "            ax.plot(forces[:, 0], forces[:, 1], 'r--', alpha=.7, linewidth=2)\n",
    "        if i == 2:\n",
    "            ax.plot(bos[:, 0], bos[:, 1],'g--', alpha=.7, linewidth=2)\n",
    "        \n",
    "        ax.set_title(f'P{sub_n + 1} knowledge: question block {i + 1}', \n",
    "                     fontsize='large')\n",
    "        \n",
    "        # undo automatic y-axis inversion from sns.heatmap\n",
    "        ax.invert_yaxis()\n",
    "        \n",
    "    # plot learning maps\n",
    "    for i, lmap in enumerate(lmaps):\n",
    "        ax = sub_lmap_axes[i]\n",
    "        cbar = True if i == 1 else False\n",
    "        cbar_ax = lmap_cbar_ax if cbar else None\n",
    "        sns.heatmap(lmap, vmin=-1, vmax=1, xticklabels=[], \n",
    "                    yticklabels=[], cmap=cmap, cbar=cbar, ax=ax, cbar_ax=cbar_ax)\n",
    "        ax.collections[0].remove()\n",
    "        ax.imshow(lmap, vmin=-1, vmax=1, aspect='auto', cmap=cmap)\n",
    "        \n",
    "        # plot questions from \"before\" and \"after\" question sets\n",
    "        qset_data = sub.get_data(qset=i)\n",
    "        qset_data = sub.get_data(qset=range(i, i + 2))\n",
    "        g_qIDs, f_qIDs, b_qIDs = qset_data.groupby('lecture')['qID'].groups.values()\n",
    "        ax.scatter(questions[f_qIDs - 1, 0], \n",
    "                   questions[f_qIDs - 1, 1], \n",
    "                   c='r', \n",
    "                   marker='o', \n",
    "                   s=50, \n",
    "                   alpha=.7)\n",
    "        ax.scatter(questions[b_qIDs - 1, 0], \n",
    "                   questions[b_qIDs - 1, 1], \n",
    "                   c='g', \n",
    "                   marker='o', \n",
    "                   s=50, \n",
    "                   alpha=.7)\n",
    "        ax.scatter(questions[g_qIDs - 1, 0], \n",
    "                   questions[g_qIDs - 1, 1], \n",
    "                   c='b', \n",
    "                   marker='o', \n",
    "                   s=50, \n",
    "                   alpha=.7)\n",
    "        \n",
    "        # overlay lecture viewed viewed between the two question sets\n",
    "        if i == 0:\n",
    "            ax.plot(forces[:, 0], forces[:, 1], 'r--', alpha=.7, linewidth=2)\n",
    "        else:\n",
    "            ax.plot(bos[:, 0], bos[:, 1],'g--', alpha=.7, linewidth=2)\n",
    "        \n",
    "        ax.set_title(fr'P{sub_n + 1} learning: question block {i + 1} $\\rightarrow$ {i + 2}', \n",
    "                     fontsize='large')\n",
    "        ax.invert_yaxis()\n",
    "    \n",
    "# NOTE: DPI must be <= (2 ** 16) / 400 for matplotlib to save file\n",
    "plt.savefig(FIG_DIR.joinpath('individual_maps_equal_scale.pdf'), bbox_inches='tight', dpi=150)\n",
    "# figure is too large to display in notebook without crashing Jupyter kernel\n",
    "plt.close()"
   ]
  }
 ],
 "metadata": {
  "kernelspec": {
   "display_name": "Python 3",
   "language": "python",
   "name": "python3"
  },
  "language_info": {
   "codemirror_mode": {
    "name": "ipython",
    "version": 3
   },
   "file_extension": ".py",
   "mimetype": "text/x-python",
   "name": "python",
   "nbconvert_exporter": "python",
   "pygments_lexer": "ipython3",
   "version": "3.7.4"
  }
 },
 "nbformat": 4,
 "nbformat_minor": 2
}
