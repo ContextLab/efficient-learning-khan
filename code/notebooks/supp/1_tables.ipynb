{
 "cells": [
  {
   "cell_type": "markdown",
   "id": "bf085c35",
   "metadata": {},
   "source": [
    "# Imports"
   ]
  },
  {
   "cell_type": "code",
   "execution_count": 1,
   "id": "af98c2f8",
   "metadata": {
    "ExecuteTime": {
     "end_time": "2023-02-01T02:47:31.802093Z",
     "start_time": "2023-02-01T02:47:30.894969Z"
    }
   },
   "outputs": [
    {
     "data": {
      "text/markdown": [
       "Experiment & Participant classes, helper functions, and variables used across multiple notebooks can be found in `/opt/conda/lib/python3.9/site-packages/khan_helpers`, or on GitHub, [here](https://github.com/contextlab/efficient-learning-khan/tree/master/code/khan_helpers).<br />You can also view source code directly from the notebook with:<br /><pre>    from khan_helpers.functions import show_source<br />    show_source(foo)</pre>"
      ],
      "text/plain": [
       "<IPython.core.display.Markdown object>"
      ]
     },
     "metadata": {},
     "output_type": "display_data"
    }
   ],
   "source": [
    "import pandas as pd\n",
    "\n",
    "from khan_helpers import Experiment\n",
    "from khan_helpers.functions import get_top_words, show_source"
   ]
  },
  {
   "cell_type": "markdown",
   "id": "968a98ca",
   "metadata": {},
   "source": [
    "# Show function defined in `khan_helpers`"
   ]
  },
  {
   "cell_type": "code",
   "execution_count": 2,
   "id": "9be880dd",
   "metadata": {
    "ExecuteTime": {
     "end_time": "2023-02-01T02:47:31.833043Z",
     "start_time": "2023-02-01T02:47:31.803323Z"
    }
   },
   "outputs": [
    {
     "data": {
      "text/html": [
       "<div class=\"highlight\" style=\"background: #f8f8f8\"><pre style=\"line-height: 125%;\"><span></span><span style=\"color: #008000; font-weight: bold\">def</span> <span style=\"color: #0000FF\">get_top_words</span>(cv, lda, n_words<span style=\"color: #666666\">=10</span>):\n",
       "    <span style=\"color: #BA2121; font-style: italic\">&quot;&quot;&quot;</span>\n",
       "<span style=\"color: #BA2121; font-style: italic\">    Returns the top-weighted `n_words` words from each topic learned by</span>\n",
       "<span style=\"color: #BA2121; font-style: italic\">    a fit Latent Dirichlet Allocation model.</span>\n",
       "\n",
       "<span style=\"color: #BA2121; font-style: italic\">    Parameters</span>\n",
       "<span style=\"color: #BA2121; font-style: italic\">    ----------</span>\n",
       "<span style=\"color: #BA2121; font-style: italic\">    cv : sklearn.feature_extraction.text.CountVectorizer</span>\n",
       "<span style=\"color: #BA2121; font-style: italic\">        Fit Count Vectorizer model used to tokenize the corpus.</span>\n",
       "<span style=\"color: #BA2121; font-style: italic\">    lda : sklearn.decomposition.LatentDirichletAllocation</span>\n",
       "<span style=\"color: #BA2121; font-style: italic\">        Fit Latent Dirichlet Allocation model.</span>\n",
       "<span style=\"color: #BA2121; font-style: italic\">    n_words : int, optional</span>\n",
       "<span style=\"color: #BA2121; font-style: italic\">        Number of top-weighted words to return for each topic (default:</span>\n",
       "<span style=\"color: #BA2121; font-style: italic\">        10).</span>\n",
       "\n",
       "<span style=\"color: #BA2121; font-style: italic\">    Returns</span>\n",
       "<span style=\"color: #BA2121; font-style: italic\">    -------</span>\n",
       "<span style=\"color: #BA2121; font-style: italic\">    topic_words : {int: list of str}</span>\n",
       "<span style=\"color: #BA2121; font-style: italic\">        Dictionary of top-weighted words for each topic. Keys are topic</span>\n",
       "<span style=\"color: #BA2121; font-style: italic\">        indices; values are lists of `n_words` top words, in order.</span>\n",
       "<span style=\"color: #BA2121; font-style: italic\">    &quot;&quot;&quot;</span>\n",
       "    topic_words <span style=\"color: #666666\">=</span> {}\n",
       "    vocab <span style=\"color: #666666\">=</span> cv<span style=\"color: #666666\">.</span>get_feature_names_out()\n",
       "    <span style=\"color: #008000; font-weight: bold\">for</span> topic, component <span style=\"color: #AA22FF; font-weight: bold\">in</span> <span style=\"color: #008000\">enumerate</span>(lda<span style=\"color: #666666\">.</span>components_):\n",
       "        word_ix <span style=\"color: #666666\">=</span> np<span style=\"color: #666666\">.</span>argsort(component)[::<span style=\"color: #666666\">-1</span>][:n_words]\n",
       "        topic_words[topic] <span style=\"color: #666666\">=</span> [vocab[i] <span style=\"color: #008000; font-weight: bold\">for</span> i <span style=\"color: #AA22FF; font-weight: bold\">in</span> word_ix]\n",
       "    <span style=\"color: #008000; font-weight: bold\">return</span> topic_words\n",
       "</pre></div>\n"
      ],
      "text/plain": [
       "<IPython.core.display.HTML object>"
      ]
     },
     "execution_count": 2,
     "metadata": {},
     "output_type": "execute_result"
    }
   ],
   "source": [
    "show_source(get_top_words)"
   ]
  },
  {
   "cell_type": "code",
   "execution_count": 3,
   "id": "d9e5d7c7",
   "metadata": {
    "ExecuteTime": {
     "end_time": "2023-02-01T02:47:31.840419Z",
     "start_time": "2023-02-01T02:47:31.834087Z"
    }
   },
   "outputs": [],
   "source": [
    "exp = Experiment()\n",
    "questions = exp.questions"
   ]
  },
  {
   "cell_type": "markdown",
   "id": "deddb524",
   "metadata": {},
   "source": [
    "# Table S1"
   ]
  },
  {
   "cell_type": "code",
   "execution_count": 4,
   "id": "d7dad5d5",
   "metadata": {
    "ExecuteTime": {
     "end_time": "2023-02-01T02:47:31.850078Z",
     "start_time": "2023-02-01T02:47:31.841573Z"
    },
    "scrolled": true
   },
   "outputs": [
    {
     "data": {
      "text/html": [
       "<div>\n",
       "<style scoped>\n",
       "    .dataframe tbody tr th:only-of-type {\n",
       "        vertical-align: middle;\n",
       "    }\n",
       "\n",
       "    .dataframe tbody tr th {\n",
       "        vertical-align: top;\n",
       "    }\n",
       "\n",
       "    .dataframe thead th {\n",
       "        text-align: right;\n",
       "    }\n",
       "</style>\n",
       "<table border=\"1\" class=\"dataframe\">\n",
       "  <thead>\n",
       "    <tr style=\"text-align: right;\">\n",
       "      <th></th>\n",
       "      <th>Question set</th>\n",
       "      <th>Question</th>\n",
       "      <th>Correct response</th>\n",
       "      <th>Alternative 1</th>\n",
       "      <th>Alternative 2</th>\n",
       "      <th>Alternative 3</th>\n",
       "    </tr>\n",
       "    <tr>\n",
       "      <th>ID</th>\n",
       "      <th></th>\n",
       "      <th></th>\n",
       "      <th></th>\n",
       "      <th></th>\n",
       "      <th></th>\n",
       "      <th></th>\n",
       "    </tr>\n",
       "  </thead>\n",
       "  <tbody>\n",
       "    <tr>\n",
       "      <th>1</th>\n",
       "      <td>FFF</td>\n",
       "      <td>Why is the gravitational attraction between yo...</td>\n",
       "      <td>Neither you nor your computer has enough mass ...</td>\n",
       "      <td>You and your computer are too close for the gr...</td>\n",
       "      <td>Humans are too small to detect the force of gr...</td>\n",
       "      <td>The gravitational attraction between you and y...</td>\n",
       "    </tr>\n",
       "    <tr>\n",
       "      <th>2</th>\n",
       "      <td>FFF</td>\n",
       "      <td>Which of the following is an example of the We...</td>\n",
       "      <td>A neutron in a radioactive Cesium atom is conv...</td>\n",
       "      <td>Light from the sun collides with a satellite o...</td>\n",
       "      <td>Two protons bound together in a Helium nucleus...</td>\n",
       "      <td>A distant galaxy exerts a small but detectable...</td>\n",
       "    </tr>\n",
       "    <tr>\n",
       "      <th>3</th>\n",
       "      <td>FFF</td>\n",
       "      <td>Roughly how many times stronger is the Weak In...</td>\n",
       "      <td>10,000,000,000,000,000,000,000,000</td>\n",
       "      <td>10</td>\n",
       "      <td>1,000,000</td>\n",
       "      <td>The Weak Interaction is less strong than gravity</td>\n",
       "    </tr>\n",
       "    <tr>\n",
       "      <th>4</th>\n",
       "      <td>FFF</td>\n",
       "      <td>Why don't you and your computer experience any...</td>\n",
       "      <td>The weak interaction only acts over extremely ...</td>\n",
       "      <td>The weak interaction between you and your comp...</td>\n",
       "      <td>You and your computer have no net charge</td>\n",
       "      <td>Neither you nor your computer has enough mass ...</td>\n",
       "    </tr>\n",
       "    <tr>\n",
       "      <th>5</th>\n",
       "      <td>FFF</td>\n",
       "      <td>Which of the following is a difference between...</td>\n",
       "      <td>Gravity is only ever attractive while the elec...</td>\n",
       "      <td>Gravity is a much more powerful force than ele...</td>\n",
       "      <td>Gravity can only act over large distances whil...</td>\n",
       "      <td>The electromagnetic force can only act over sm...</td>\n",
       "    </tr>\n",
       "  </tbody>\n",
       "</table>\n",
       "</div>"
      ],
      "text/plain": [
       "   Question set                                           Question  \\\n",
       "ID                                                                   \n",
       "1           FFF  Why is the gravitational attraction between yo...   \n",
       "2           FFF  Which of the following is an example of the We...   \n",
       "3           FFF  Roughly how many times stronger is the Weak In...   \n",
       "4           FFF  Why don't you and your computer experience any...   \n",
       "5           FFF  Which of the following is a difference between...   \n",
       "\n",
       "                                     Correct response  \\\n",
       "ID                                                      \n",
       "1   Neither you nor your computer has enough mass ...   \n",
       "2   A neutron in a radioactive Cesium atom is conv...   \n",
       "3                  10,000,000,000,000,000,000,000,000   \n",
       "4   The weak interaction only acts over extremely ...   \n",
       "5   Gravity is only ever attractive while the elec...   \n",
       "\n",
       "                                        Alternative 1  \\\n",
       "ID                                                      \n",
       "1   You and your computer are too close for the gr...   \n",
       "2   Light from the sun collides with a satellite o...   \n",
       "3                                                  10   \n",
       "4   The weak interaction between you and your comp...   \n",
       "5   Gravity is a much more powerful force than ele...   \n",
       "\n",
       "                                        Alternative 2  \\\n",
       "ID                                                      \n",
       "1   Humans are too small to detect the force of gr...   \n",
       "2   Two protons bound together in a Helium nucleus...   \n",
       "3                                           1,000,000   \n",
       "4            You and your computer have no net charge   \n",
       "5   Gravity can only act over large distances whil...   \n",
       "\n",
       "                                        Alternative 3  \n",
       "ID                                                     \n",
       "1   The gravitational attraction between you and y...  \n",
       "2   A distant galaxy exerts a small but detectable...  \n",
       "3    The Weak Interaction is less strong than gravity  \n",
       "4   Neither you nor your computer has enough mass ...  \n",
       "5   The electromagnetic force can only act over sm...  "
      ]
     },
     "execution_count": 4,
     "metadata": {},
     "output_type": "execute_result"
    }
   ],
   "source": [
    "questions.index.name = 'ID'\n",
    "questions.columns = ['Question set', \n",
    "                     'Question', \n",
    "                     'Correct response', \n",
    "                     'Alternative 1', \n",
    "                     'Alternative 2', \n",
    "                     'Alternative 3']\n",
    "questions['Question set'] = questions['Question set'].replace({1: 'FFF', \n",
    "                                                               2: 'BoS', \n",
    "                                                               0: 'GPK'})\n",
    "\n",
    "col_format = 'r|p{0.375in}|p{1.275in}|p{0.75in}|p{0.75in}|p{0.75in}|p{0.75in}'\n",
    "questions.head()"
   ]
  },
  {
   "cell_type": "code",
   "execution_count": 5,
   "id": "ba5f8f5f",
   "metadata": {
    "ExecuteTime": {
     "end_time": "2023-02-01T02:47:31.864314Z",
     "start_time": "2023-02-01T02:47:31.851057Z"
    }
   },
   "outputs": [
    {
     "name": "stdout",
     "output_type": "stream",
     "text": [
      "\\begin{longtable}{r|p{0.375in}|p{1.275in}|p{0.75in}|p{0.75in}|p{0.75in}|p{0.75in}}\n",
      "\\toprule\n",
      "{} & Question set &                                                                                                                                                                                                                                                                         Question &                                                                                                                      Correct response &                                                                                         Alternative 1 &                                                                                                              Alternative 2 &                                                                                                                     Alternative 3 \\\\\\hline\n",
      "ID &              &                                                                                                                                                                                                                                                                                  &                                                                                                                                       &                                                                                                       &                                                                                                                            &                                                                                                                                   \\\\\\hline\n",
      "\\midrule\n",
      "\\endfirsthead\n",
      "\n",
      "\\toprule\n",
      "{} & Question set &                                                                                                                                                                                                                                                                         Question &                                                                                                                      Correct response &                                                                                         Alternative 1 &                                                                                                              Alternative 2 &                                                                                                                     Alternative 3 \\\\\\hline\n",
      "ID &              &                                                                                                                                                                                                                                                                                  &                                                                                                                                       &                                                                                                       &                                                                                                                            &                                                                                                                                   \\\\\\hline\n",
      "\\midrule\n",
      "\\endhead\n",
      "\\midrule\n",
      "\\multicolumn{7}{r}{{Continued on next page}} \\\\\\hline\n",
      "\\midrule\n",
      "\\endfoot\n",
      "\n",
      "\\bottomrule\n",
      "\\endlastfoot\n",
      "1  &          FFF &                                                                                                                                                                                   Why is the gravitational attraction between you and your computer too small for you to notice? &                                           Neither you nor your computer has enough mass to cause a noticable gravitational attraction &                You and your computer are too close for the gravitational attraction to be significant &                                                                        Humans are too small to detect the force of gravity &  The gravitational attraction between you and your computer is disrupted by the larger gravitational field generated by the earth \\\\\\hline\n",
      "2  &          FFF &                                                                                                                                                                                                                    Which of the following is an example of the Weak Interaction? &                          A neutron in a radioactive Cesium atom is converted into a proton, leading to the release of a few particles &  Light from the sun collides with a satellite orbiting Earth and exerts a small push on the satellite &  Two protons bound together in a Helium nucleus resist separation despite a repulsive electromagnetic force acting on them &                                                   A distant galaxy exerts a small but detectable gravitational pull on the  Earth \\\\\\hline\n",
      "3  &          FFF &                                                                                                                                                                                                            Roughly how many times stronger is the Weak Interaction than gravity? &                                                                                                    10,000,000,000,000,000,000,000,000 &                                                                                                    10 &                                                                                                                  1,000,000 &                                                                                  The Weak Interaction is less strong than gravity \\\\\\hline\n",
      "4  &          FFF &                                                                                                                                                                              Why don't you and your computer experience any attraction or repulsion due to the Weak Interaction? &                                                                         The weak interaction only acts over extremely small distances &                The weak interaction between you and your computer is counteracted by the other forces &                                                                                   You and your computer have no net charge &                                            Neither you nor your computer has enough mass to induce a significant Weak Interaction \\\\\\hline\n",
      "5  &          FFF &                                                                                                                                                                                            Which of the following is a difference between gravity and the electromagnetic force? &                                            Gravity is only ever attractive while the electromagnetic force can both attract and repel &                                           Gravity is a much more powerful force than electromagnetism &           Gravity can only act over large distances while the electromagnetic force can act over large and small distances &                   The electromagnetic force can only act over small distances while gravity can act over small or large distances \\\\\\hline\n",
      "6  &          FFF &                                                                                                                                                                                                  Electricity and magnetism can be shown to be two cases of the same force if we: &                                                                                            View them in different frames of reference &                              Switch which charges we call positive and which charges we call negative &                                        Consider both the effects over small distances and the effects over large distances &                                                           Consider both the attractive and repulsive properties of the two forces \\\\\\hline\n",
      "7  &          FFF &                                                                                                                                  Which of the following are the primary two fundamental forces acting in opposition between the positively-charged protons in an atom's nucleus? &                                                                                        The Strong Force and the Electromagnetic Force &                                                                      Gravity and the Weak Interaction &                                                                                      Gravity and the Electromagnetic Force &                                                                                         The Strong Force and the Weak Interaction \\\\\\hline\n",
      "8  &          FFF &                                                                                                                                                                     Why does the universe have a very uneven distribution of mass but a relatively equal distribution of charge? &  Positive and negative charges cancel out and become a neutral charge when they combine while masses only grow larger as they combine &                                                    Masses tend to repel while charges tend to attract &                                                                         Masses tend to attract while charges tend to repel &       The gravitational interaction acting between masses is stronger than the electromagnetic interaction acting between charges \\\\\\hline\n",
      "9  &          FFF &  In your body, there are a tremendous amount of negatively-charged electrons. Your computer also contains a huge number of negatively-charged electrons. We know that like charges repel, but you and your computer are not repelled apart. Which of the following explains why? &                                    The electrons' negative charges are balanced by the positive charges of an equal number of protons &                                         An attractive gravitational force balances out this repulsion &                                                              The Electromagnetic force only acts over very small distances &                                                                     The Electromagnetic force only acts over very large distances \\\\\\hline\n",
      "10 &          FFF &                                                                                                                                                                                        Which of the following is a similarity between the Weak Interaction and the Strong Force? &                                                                                               Both act only over very small distances &                                                      Both are stronger than the Electromagnetic force &                                                                                               Both are weaker than Gravity &                                                                     Both are responsible for attractions between distant galaxies \\\\\\hline\n",
      "11 &          FFF &                                                                                                                                                                                                                          Which force is stronger than the Electromagnetic Force? &                                                                                                                          Strong Force &                                                                                               Gravity &                                                                                                           Weak Interaction &                                                                                            Electromagnetic Force is the strongest \\\\\\hline\n",
      "12 &          FFF &                                                                                                                                                                                                                Roughly how many times stronger is the Strong Force than gravity? &                                                                                                                                 10\\textasciicircum 38 &                                                                                                   100 &                                                                                                                      10\\textasciicircum 18 &                                                                                           The Strong Force is weaker than gravity \\\\\\hline\n",
      "13 &          FFF &                                                                                                                                                      Which of the following would have to be true for the Weak Interaction to cause repulsion or attraction between two objects? &                                                                            The objects would have to be extremely close to each other &                                                          The objects would have to have the same mass &                                                            The objects would have to be extremely far away from each other &                                                                                   The objects would have to have different masses \\\\\\hline\n",
      "14 &          FFF &                                                                                                                                                                                                                                  Which force keeps us from jumping off of Earth? &                                                                                                                               Gravity &                                                                                          Strong Force &                                                                                                           Weak Interaction &                                                                                                             Electromagnetic Force \\\\\\hline\n",
      "15 &          FFF &                                                                                                                                                                                                                                            What does the Coulomb Force refer to? &                                      The repulsion of objects with similar charge and the attraction of objects with different charge &          The repulsion of objects with similar mass and the attraction of objects with different mass &                 The repulsion of objects with similar temperature and the attraction of objects with different temperature &                                The repulsion of objects with similar density and the attraction of objects with different density \\\\\\hline\n",
      "16 &          BoS &                                                                                                                                                                                                      Which of the following describes the effect of gravity on a cloud of atoms? &                                                                                 The atoms move to the center of the mass of the atoms &                                          The atoms move away from the center of the mass of the atoms &                                                                  The atoms spin around the center of the mass of the atoms &                                                                                         Gravity has no effect on a cloud of atoms \\\\\\hline\n",
      "17 &          BoS &                                                                                                                                                                                                               Which of the following occurs as a cloud of atoms gets more dense? &                                                                                                                 Temperature increases &                                                                                 Temperature decreases &                                                                                                             Mass increases &                                                                                                                    Mass decreases \\\\\\hline\n",
      "18 &          BoS &                                                                                                                                                                   Which temperature does a cloud of hydrogen atoms approach as it gets denser in the process of becoming a star? &                                                                                                                     10 Million Kelvin &                                                                                              0 Kelvin &                                                                                                              10,000 Kelvin &                                                                                                                 10 Billion Kelvin \\\\\\hline\n",
      "19 &          BoS &                                                                                                                                                                                                                           Which of the following can overcome the Coulomb Force? &                                                                                                    High temperature and high pressure &                                                                     Low temperature and high pressure &                                                                                          High temperature and low pressure &                                                                                                  Low temperature and low pressure \\\\\\hline\n",
      "20 &          BoS &                                                                                                                                                                                                   Which of the following prevents a star from collapsing as a result of gravity? &                                                           Energy released from the fusion of hydrogen atoms provides outward pressure &                                    The fusion of hydrogen atoms decreases the temperature of the star &                                                                               The gravitational pull of other stars nearby &                                                                                                              The Weak Interaction \\\\\\hline\n",
      "21 &          BoS &                                                                                                                                                                                                                           How are supermassive stars different from other stars? &                                                                                                               Fusion occurs very fast &                                                                               Fusion occurs very slow &                                                                                         Fusion occurs in the reverse order &                                                                                                      Fusion does not occur at all \\\\\\hline\n",
      "22 &          BoS &                                                                                                                                                                                               Which of the following is the FIRST product of two hydrogen atoms fusing together? &                                                                                                                             Deuterium &                                                                                                Oxygen &                                                                                                                     Helium &                                                                                                                         Beryllium \\\\\\hline\n",
      "23 &          BoS &                                                                                                                                                                                       Once hydrogen atoms get close enough together, which of the following keeps them together? &                                                                                                                      The Strong Force &                                                                             The Electromagnetic Force &                                                                                                                    Gravity &                                                                                                              The Weak Interaction \\\\\\hline\n",
      "24 &          BoS &                                                                                                                                                    When two nuclei fuse together, how does the mass of the combined nucleus compare to the mass of each of the original nucleus? &                                                                                           The mass of the combined nucleus is smaller &                                                            The mass of the combined nucleus is larger &                                                                               The mass of the combined nucleus is the same &                                                                                It is not possible for two nuclei to fuse together \\\\\\hline\n",
      "25 &          BoS &                                                                                                                                                                                            If we say that our Sun is a main sequence star, what does that tell us about the Sun? &                                                                     Hydrogen atoms in the Sun are fusing together and becoming Helium &                                                                        The Sun is a supermassive star &                                     The Sun does not experience the force of Gravity but does experience the Coulomb Force &                                                                                 The Sun is comprised of 10 million Hydrogen atoms \\\\\\hline\n",
      "26 &          BoS &                                                                                                                                                                                                      Which force would cause a massive cloud of hydrogen atoms to move together? &                                                                                                                               Gravity &                                                                                          Strong Force &                                                                                                           Weak Interaction &                                                                                                             Electromagnetic Force \\\\\\hline\n",
      "27 &          BoS &                                                                                                                                                                                                                              Which of the following occurs as density increases? &                                                                                                                 Temperature increases &                                                                                      Volume increases &                                                                                                             Mass increases &                                                                                                                 None of the above \\\\\\hline\n",
      "28 &          BoS &                                                                                                                                                                                                                          Which of the following is a product of Hydrogen fusion? &                                                                                                                                Helium &                                                                                                Oxygen &                                                                                                                     Cesium &                                                                                                                            Carbon \\\\\\hline\n",
      "29 &          BoS &                                                                                                                                                                                                                       Which of the following terms accurately describes the Sun? &                                                                                                                    Main sequence star &                                                                                     Supermassive star &                                                                                                  Alternative sequence star &                                                                                                                 None of the above \\\\\\hline\n",
      "30 &          BoS &                                                                                                                                                                                                                   Which of the following terms best describes a fusion reaction? &                                                                                                                              Ignition &                                                                                            Combustion &                                                                                                              Decomposition &                                                                                                                      Displacement \\\\\\hline\n",
      "31 &          GPK &                                                                                                                                                                                                   Which of the following lists of particles is ordered from smallest to largest? &                                                                                                       Electron, proton, nucleus, atom &                                                                       Atom, electron, proton, nucleus &                                                                                           Electron, nucleus, atom, neutron &                                                                                                  Neutron, nucleus, electrom, atom \\\\\\hline\n",
      "32 &          GPK &                                                                                                                                                                                                                          Which of the following defines what element an atom is? &                                                                                                                 Its number of protons &                                                                                Its number of neutrons &                                                                                                    Its number of electrons &                                                                                                                          Its mass \\\\\\hline\n",
      "33 &          GPK &                                                                                                                                                                    Suppose that in some atom, a proton is converted into a neutron. What changes as a result of this conversion? &                                                                                                                    The atom's element &                                                                The atom's mass (in atomic mass units) &                                                                                                        The atom's velocity &                                                                                                                The atom's density \\\\\\hline\n",
      "34 &          GPK &                                                                                                                                                                                                                Which of the following lists is ordered from smallest to largest? &                                                                                                  Star, solar system, galaxy, universe &                                                             Galaxy, solar system, Milky Way, universe &                                                                                         Planet, galaxy, star, solar system &                                                                                             Earth, solar system, universe, galaxy \\\\\\hline\n",
      "35 &          GPK &                                                                                                                                                                                                                    Which of the following are located in the nucleus of an atom? &                                                                                                                  Protons and neutrons &                                                                                          Only protons &                                                                                                             Only electrons &                                                                                                            Neutrons and electrons \\\\\\hline\n",
      "36 &          GPK &                                                                                                                                                                                                                                       Which of the following has the least mass? &                                                                                                                           An electron &                                                                                              A proton &                                                                                                                  A neutron &                                                                                                                   A hydrogen atom \\\\\\hline\n",
      "37 &          GPK &                                                                                                                                                                                                                         What percent of an atom's space does its nucleus occupy? &                                                                                                                          Less than 1\\% &                                                                                                   10\\% &                                                                                                                        50\\% &                                                                                                                     More than 90\\% \\\\\\hline\n",
      "38 &          GPK &                                                                                                                                                                              In the famous equation attributed to Albert Einstein, E = mc\\textasciicircum 2, what does the letter \"m\" represent? &                                                                                                                                  Mass &                                                                                              Momentum &                                                                                                          Moment of inertia &                                                                                                                             Moles \\\\\\hline\n",
      "39 &          GPK &                                                                                                                                                                                                If I were to heat up an inflated balloon, which of the the following would occur? &                                                                                                              The balloon would expand &                                                                              The balloon would shrink &                                                                                          None of these answers are correct &                                        The balloon could expand or shrink depending on whether it's filled with air or helium gas \\\\\\hline\n",
      "\\end{longtable}\n",
      "\n"
     ]
    }
   ],
   "source": [
    "with pd.option_context(\"max_colwidth\", 300):\n",
    "    latex_code = questions.to_latex(longtable=True, column_format=col_format)\n",
    "    print(latex_code.replace(r'\\\\', r'\\\\\\hline'))"
   ]
  },
  {
   "cell_type": "markdown",
   "id": "ba1738e1",
   "metadata": {},
   "source": [
    "# Table S2"
   ]
  },
  {
   "cell_type": "code",
   "execution_count": 6,
   "id": "3aa1b25b",
   "metadata": {
    "ExecuteTime": {
     "end_time": "2023-02-01T02:47:31.878945Z",
     "start_time": "2023-02-01T02:47:31.865589Z"
    }
   },
   "outputs": [
    {
     "data": {
      "text/html": [
       "<div>\n",
       "<style scoped>\n",
       "    .dataframe tbody tr th:only-of-type {\n",
       "        vertical-align: middle;\n",
       "    }\n",
       "\n",
       "    .dataframe tbody tr th {\n",
       "        vertical-align: top;\n",
       "    }\n",
       "\n",
       "    .dataframe thead th {\n",
       "        text-align: right;\n",
       "    }\n",
       "</style>\n",
       "<table border=\"1\" class=\"dataframe\">\n",
       "  <thead>\n",
       "    <tr style=\"text-align: right;\">\n",
       "      <th>Topic</th>\n",
       "      <th>1</th>\n",
       "      <th>2</th>\n",
       "      <th>3</th>\n",
       "      <th>4</th>\n",
       "      <th>5</th>\n",
       "      <th>6</th>\n",
       "      <th>7</th>\n",
       "      <th>8</th>\n",
       "      <th>9</th>\n",
       "      <th>10</th>\n",
       "    </tr>\n",
       "  </thead>\n",
       "  <tbody>\n",
       "    <tr>\n",
       "      <th>1</th>\n",
       "      <td>star</td>\n",
       "      <td>helium</td>\n",
       "      <td>main</td>\n",
       "      <td>mass</td>\n",
       "      <td>atomic</td>\n",
       "      <td>sequence</td>\n",
       "      <td>get</td>\n",
       "      <td>energy</td>\n",
       "      <td>fuse</td>\n",
       "      <td>hydrogen</td>\n",
       "    </tr>\n",
       "    <tr>\n",
       "      <th>2</th>\n",
       "      <td>charge</td>\n",
       "      <td>force</td>\n",
       "      <td>mass</td>\n",
       "      <td>gravity</td>\n",
       "      <td>strong</td>\n",
       "      <td>attract</td>\n",
       "      <td>large</td>\n",
       "      <td>strength</td>\n",
       "      <td>distance</td>\n",
       "      <td>electromagnetic</td>\n",
       "    </tr>\n",
       "    <tr>\n",
       "      <th>3</th>\n",
       "      <td>huge</td>\n",
       "      <td>force</td>\n",
       "      <td>electromagnetic</td>\n",
       "      <td>macro</td>\n",
       "      <td>way</td>\n",
       "      <td>scale</td>\n",
       "      <td>concentration</td>\n",
       "      <td>apply</td>\n",
       "      <td>kind</td>\n",
       "      <td>charge</td>\n",
       "    </tr>\n",
       "    <tr>\n",
       "      <th>4</th>\n",
       "      <td>atom</td>\n",
       "      <td>dense</td>\n",
       "      <td>go</td>\n",
       "      <td>hydrogen</td>\n",
       "      <td>slow</td>\n",
       "      <td>get</td>\n",
       "      <td>huge</td>\n",
       "      <td>condense</td>\n",
       "      <td>mass</td>\n",
       "      <td>would</td>\n",
       "    </tr>\n",
       "    <tr>\n",
       "      <th>5</th>\n",
       "      <td>fusion</td>\n",
       "      <td>get</td>\n",
       "      <td>threshold</td>\n",
       "      <td>core</td>\n",
       "      <td>occur</td>\n",
       "      <td>mass</td>\n",
       "      <td>something</td>\n",
       "      <td>start</td>\n",
       "      <td>several</td>\n",
       "      <td>jupiter</td>\n",
       "    </tr>\n",
       "  </tbody>\n",
       "</table>\n",
       "</div>"
      ],
      "text/plain": [
       "Topic      1       2                3         4       5         6   \\\n",
       "1        star  helium             main      mass  atomic  sequence   \n",
       "2      charge   force             mass   gravity  strong   attract   \n",
       "3        huge   force  electromagnetic     macro     way     scale   \n",
       "4        atom   dense               go  hydrogen    slow       get   \n",
       "5      fusion     get        threshold      core   occur      mass   \n",
       "\n",
       "Topic             7         8         9                10  \n",
       "1                get    energy      fuse         hydrogen  \n",
       "2              large  strength  distance  electromagnetic  \n",
       "3      concentration     apply      kind           charge  \n",
       "4               huge  condense      mass            would  \n",
       "5          something     start   several          jupiter  "
      ]
     },
     "execution_count": 6,
     "metadata": {},
     "output_type": "execute_result"
    }
   ],
   "source": [
    "top_words = pd.DataFrame(get_top_words(exp.fit_cv, exp.fit_lda)).T\n",
    "top_words.columns = range(1, len(top_words.columns) + 1)\n",
    "top_words.index = range(1, len(top_words.index) + 1)\n",
    "top_words.columns.name = 'Topic'\n",
    "top_words.head()"
   ]
  },
  {
   "cell_type": "code",
   "execution_count": 7,
   "id": "f2f1a328",
   "metadata": {
    "ExecuteTime": {
     "end_time": "2023-02-01T02:47:31.888808Z",
     "start_time": "2023-02-01T02:47:31.879816Z"
    }
   },
   "outputs": [
    {
     "name": "stdout",
     "output_type": "stream",
     "text": [
      "\\begin{tabular}{lllllllllll}\n",
      "\\toprule\n",
      "Topic &       1  &        2  &               3  &           4  &       5  &        6  &             7  &           8  &        9  &               10 \\\\\\hline\n",
      "\\midrule\n",
      "1  &     star &    helium &             main &         mass &   atomic &  sequence &            get &       energy &      fuse &         hydrogen \\\\\\hline\n",
      "2  &   charge &     force &             mass &      gravity &   strong &   attract &          large &     strength &  distance &  electromagnetic \\\\\\hline\n",
      "3  &     huge &     force &  electromagnetic &        macro &      way &     scale &  concentration &        apply &      kind &           charge \\\\\\hline\n",
      "4  &     atom &     dense &               go &     hydrogen &     slow &       get &           huge &     condense &      mass &            would \\\\\\hline\n",
      "5  &   fusion &       get &        threshold &         core &    occur &      mass &      something &        start &   several &          jupiter \\\\\\hline\n",
      "6  &   enough &  ignition &           proton &        force &      get &     close &        nucleus &      coulomb &    fusion &            would \\\\\\hline\n",
      "7  &   energy &  pressure &         ignition &         mass &   little &      keep &        provide &       fusion &       get &         hydrogen \\\\\\hline\n",
      "8  &   proton &      weak &          neutron &  interaction &      one &        go &        nucleon &       cesium &     extra &              get \\\\\\hline\n",
      "9  &      run &      kind &              say &           go &     want &     would &            get &         well &      give &         although \\\\\\hline\n",
      "10 &     huge &     cloud &            space &        float &  imagine &  hydrogen &           atom &          say &  distance &          combine \\\\\\hline\n",
      "11 &      one &  hydrogen &           helium &           go &   proton &   neutron &           keep &       atomic &    detail &             fuse \\\\\\hline\n",
      "12 &  gravity &     force &             weak &  interaction &    apply &  strength &       distance &          ten &  relative &             next \\\\\\hline\n",
      "13 &    force &        go &    electrostatic &         call &   charge &    magnet &           side &      coulomb &      know &        different \\\\\\hline\n",
      "14 &    force &      atom &          nucleus &     electron &     much &  hydrogen &            get &       around &   coulomb &           charge \\\\\\hline\n",
      "15 &    force &     scale &          gravity &        start &     weak &     orbit &           keep &  fundamental &    around &         surprise \\\\\\hline\n",
      "\\bottomrule\n",
      "\\end{tabular}\n",
      "\n"
     ]
    }
   ],
   "source": [
    "print(top_words.to_latex().replace(r'\\\\', r'\\\\\\hline'))"
   ]
  }
 ],
 "metadata": {
  "kernelspec": {
   "display_name": "Python 3 (ipykernel)",
   "language": "python",
   "name": "python3"
  },
  "language_info": {
   "codemirror_mode": {
    "name": "ipython",
    "version": 3
   },
   "file_extension": ".py",
   "mimetype": "text/x-python",
   "name": "python",
   "nbconvert_exporter": "python",
   "pygments_lexer": "ipython3",
   "version": "3.9.7"
  },
  "toc": {
   "base_numbering": 1,
   "nav_menu": {},
   "number_sections": false,
   "sideBar": true,
   "skip_h1_title": false,
   "title_cell": "Table of Contents",
   "title_sidebar": "Contents",
   "toc_cell": false,
   "toc_position": {},
   "toc_section_display": true,
   "toc_window_display": false
  }
 },
 "nbformat": 4,
 "nbformat_minor": 5
}
