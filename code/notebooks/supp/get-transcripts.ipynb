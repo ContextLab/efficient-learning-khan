{
 "cells": [
  {
   "cell_type": "code",
   "execution_count": 1,
   "metadata": {
    "ExecuteTime": {
     "end_time": "2020-08-11T18:58:29.824084Z",
     "start_time": "2020-08-11T18:58:26.825312Z"
    }
   },
   "outputs": [
    {
     "data": {
      "text/markdown": [
       "Experiment & Participant classes, helper functions, and variables used across multiple notebooks can be found in `/mnt/code/khan_helpers/khan_helpers`, or on GitHub, [here](https://github.com/contextlab/efficient-learning-khan/tree/master/code/khan_helpers).<br />You can also view source code directly from the notebook with:<br /><pre>    from khan_helpers.functions import show_source<br />    show_source(foo)</pre>"
      ],
      "text/plain": [
       "<IPython.core.display.Markdown object>"
      ]
     },
     "metadata": {},
     "output_type": "display_data"
    }
   ],
   "source": [
    "from datetime import datetime as dt\n",
    "from youtube_transcript_api import YouTubeTranscriptApi as youtube\n",
    "\n",
    "from khan_helpers.constants import RAW_DIR"
   ]
  },
  {
   "cell_type": "code",
   "execution_count": 2,
   "metadata": {
    "ExecuteTime": {
     "end_time": "2020-08-11T18:58:29.838705Z",
     "start_time": "2020-08-11T18:58:29.826645Z"
    }
   },
   "outputs": [],
   "source": [
    "def transcript_to_str(transcript_data):\n",
    "    transcript_lines = []\n",
    "    for chunk in transcript_data:\n",
    "        timestamp = chunk['start']\n",
    "        ts_str = dt.fromtimestamp(timestamp).strftime(\"%M:%S.%f\").rstrip('0')\n",
    "        text = chunk['text'].replace('\\n', ' ')\n",
    "        \n",
    "        transcript_lines.append(ts_str)\n",
    "        transcript_lines.append(text)\n",
    "        \n",
    "    # timestamp resolution is ms, rounding just deals with floating point errors\n",
    "    end_time = round(chunk['start'] + chunk['duration'], 3)\n",
    "    end_time_str = dt.fromtimestamp(end_time).strftime(\"%M:%S.%f\").rstrip('0')\n",
    "    transcript_lines.append(end_time_str)\n",
    "    return '\\n'.join(transcript_lines)"
   ]
  },
  {
   "cell_type": "code",
   "execution_count": 3,
   "metadata": {
    "ExecuteTime": {
     "end_time": "2020-08-11T18:58:29.845480Z",
     "start_time": "2020-08-11T18:58:29.841387Z"
    }
   },
   "outputs": [],
   "source": [
    "forces_video_id = 'FEF6PxWOvsk'\n",
    "bos_video_id = 'i-NNWI8Ccas'"
   ]
  },
  {
   "cell_type": "code",
   "execution_count": 4,
   "metadata": {
    "ExecuteTime": {
     "end_time": "2020-08-11T18:58:31.460629Z",
     "start_time": "2020-08-11T18:58:29.847611Z"
    }
   },
   "outputs": [],
   "source": [
    "forces_transcript = transcript_to_str(youtube.get_transcript(forces_video_id))\n",
    "bos_transcript = transcript_to_str(youtube.get_transcript(bos_video_id))"
   ]
  },
  {
   "cell_type": "code",
   "execution_count": 5,
   "metadata": {
    "ExecuteTime": {
     "end_time": "2020-08-11T18:58:31.471187Z",
     "start_time": "2020-08-11T18:58:31.462889Z"
    },
    "scrolled": true
   },
   "outputs": [
    {
     "data": {
      "text/plain": [
       "['00:00.294',\n",
       " 'What I want to do in this video is',\n",
       " '00:01.71',\n",
       " 'give a very high-level overview of the four fundamental forces',\n",
       " '00:08.16',\n",
       " 'of the universe.',\n",
       " '00:09.28',\n",
       " \"And I'm going to start with gravity.\"]"
      ]
     },
     "execution_count": 5,
     "metadata": {},
     "output_type": "execute_result"
    }
   ],
   "source": [
    "forces_transcript.splitlines()[:8]"
   ]
  },
  {
   "cell_type": "code",
   "execution_count": 6,
   "metadata": {
    "ExecuteTime": {
     "end_time": "2020-08-11T18:58:31.481236Z",
     "start_time": "2020-08-11T18:58:31.473626Z"
    }
   },
   "outputs": [
    {
     "data": {
      "text/plain": [
       "['00:00.52',\n",
       " \"Let's imagine we have a huge cloud\",\n",
       " '00:02.65',\n",
       " 'of hydrogen atoms floating in space.',\n",
       " '00:05.47',\n",
       " 'Huge, and when I say huge cloud, huge both in distance',\n",
       " '00:08.24',\n",
       " 'and in mass.']"
      ]
     },
     "execution_count": 6,
     "metadata": {},
     "output_type": "execute_result"
    }
   ],
   "source": [
    "bos_transcript.splitlines()[:8]"
   ]
  },
  {
   "cell_type": "code",
   "execution_count": 7,
   "metadata": {
    "ExecuteTime": {
     "end_time": "2020-08-11T18:58:31.499060Z",
     "start_time": "2020-08-11T18:58:31.483631Z"
    }
   },
   "outputs": [
    {
     "data": {
      "text/plain": [
       "9074"
      ]
     },
     "execution_count": 7,
     "metadata": {},
     "output_type": "execute_result"
    }
   ],
   "source": [
    "RAW_DIR.joinpath('forces_transcript_timestamped.txt').write_text(forces_transcript)\n",
    "RAW_DIR.joinpath('bos_transcript_timestamped.txt').write_text(bos_transcript)"
   ]
  }
 ],
 "metadata": {
  "kernelspec": {
   "display_name": "Python 3",
   "language": "python",
   "name": "python3"
  },
  "language_info": {
   "codemirror_mode": {
    "name": "ipython",
    "version": 3
   },
   "file_extension": ".py",
   "mimetype": "text/x-python",
   "name": "python",
   "nbconvert_exporter": "python",
   "pygments_lexer": "ipython3",
   "version": "3.7.4"
  }
 },
 "nbformat": 4,
 "nbformat_minor": 2
}
