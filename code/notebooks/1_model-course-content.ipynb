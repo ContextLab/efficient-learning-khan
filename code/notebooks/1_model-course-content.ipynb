{
 "cells": [
  {
   "cell_type": "markdown",
   "metadata": {},
   "source": [
    "# Imports"
   ]
  },
  {
   "cell_type": "code",
   "execution_count": 1,
   "metadata": {
    "ExecuteTime": {
     "end_time": "2023-01-26T06:31:45.941386Z",
     "start_time": "2023-01-26T06:31:43.263396Z"
    }
   },
   "outputs": [
    {
     "data": {
      "text/markdown": [
       "Experiment & Participant classes, helper functions, and variables used across multiple notebooks can be found in `/mnt/code/khan_helpers/khan_helpers`, or on GitHub, [here](https://github.com/contextlab/efficient-learning-khan/tree/master/code/khan_helpers).<br />You can also view source code directly from the notebook with:<br /><pre>    from khan_helpers.functions import show_source<br />    show_source(foo)</pre>"
      ],
      "text/plain": [
       "<IPython.core.display.Markdown object>"
      ]
     },
     "metadata": {},
     "output_type": "display_data"
    }
   ],
   "source": [
    "from collections import defaultdict\n",
    "\n",
    "import hypertools as hyp\n",
    "import numpy as np\n",
    "import pandas as pd\n",
    "from scipy.signal import resample\n",
    "from sklearn.decomposition import LatentDirichletAllocation\n",
    "from sklearn.feature_extraction.text import CountVectorizer\n",
    "\n",
    "from khan_helpers import Experiment\n",
    "from khan_helpers.constants import (\n",
    "    BOS_LECTURE_COLOR,\n",
    "    BOS_QUESTION_COLOR,\n",
    "    FIG_DIR,\n",
    "    FORCES_LECTURE_COLOR,\n",
    "    FORCES_QUESTION_COLOR,\n",
    "    GENERAL_QUESTION_COLOR,\n",
    "    LECTURE_WSIZE,\n",
    "    MODELS_DIR,\n",
    "    RAW_DIR, \n",
    "    STOP_WORDS,\n",
    "    TRAJS_DIR\n",
    ")\n",
    "from khan_helpers.functions import (\n",
    "    _ts_to_sec,\n",
    "    interp_lecture,\n",
    "    multicol_display,\n",
    "    parse_windows,\n",
    "    preprocess_text,\n",
    "    set_figure_style,\n",
    "    show_source,\n",
    "    synset_match\n",
    ")\n",
    "\n",
    "import matplotlib.pyplot as plt\n",
    "from mpl_toolkits.mplot3d import Axes3D\n",
    "import seaborn as sns\n",
    "%matplotlib inline"
   ]
  },
  {
   "cell_type": "markdown",
   "metadata": {
    "ExecuteTime": {
     "end_time": "2020-02-14T21:05:36.850899Z",
     "start_time": "2020-02-14T21:05:36.829500Z"
    }
   },
   "source": [
    "# Inspect some things defined in `khan_helpers`"
   ]
  },
  {
   "cell_type": "code",
   "execution_count": 2,
   "metadata": {
    "ExecuteTime": {
     "end_time": "2023-01-26T06:31:45.980781Z",
     "start_time": "2023-01-26T06:31:45.942538Z"
    },
    "scrolled": true
   },
   "outputs": [
    {
     "data": {
      "text/html": [
       "<div class=\"highlight\" style=\"background: #f8f8f8\"><pre style=\"line-height: 125%;\"><span></span><span style=\"color: #008000; font-weight: bold\">class</span> <span style=\"color: #0000FF; font-weight: bold\">Experiment</span>:\n",
       "    participants <span style=\"color: #666666\">=</span> LazyLoader(<span style=\"color: #BA2121\">&#39;_load_participants&#39;</span>)\n",
       "    avg_participant <span style=\"color: #666666\">=</span> LazyLoader(<span style=\"color: #BA2121\">&#39;_load_avg_participant&#39;</span>)\n",
       "\n",
       "    forces_transcript <span style=\"color: #666666\">=</span> LazyLoader(<span style=\"color: #BA2121\">&#39;_load_transcript&#39;</span>, <span style=\"color: #BA2121\">&#39;forces&#39;</span>)\n",
       "    bos_transcript <span style=\"color: #666666\">=</span> LazyLoader(<span style=\"color: #BA2121\">&#39;_load_transcript&#39;</span>, <span style=\"color: #BA2121\">&#39;bos&#39;</span>)\n",
       "    questions <span style=\"color: #666666\">=</span> LazyLoader(<span style=\"color: #BA2121\">&#39;_load_questions&#39;</span>)\n",
       "\n",
       "    forces_windows <span style=\"color: #666666\">=</span> LazyLoader(<span style=\"color: #BA2121\">&#39;_load_windows&#39;</span>, <span style=\"color: #BA2121\">&#39;forces&#39;</span>)\n",
       "    bos_windows <span style=\"color: #666666\">=</span> LazyLoader(<span style=\"color: #BA2121\">&#39;_load_windows&#39;</span>, <span style=\"color: #BA2121\">&#39;bos&#39;</span>)\n",
       "\n",
       "    forces_timestamps <span style=\"color: #666666\">=</span> LazyLoader(<span style=\"color: #BA2121\">&#39;_load_timestamps&#39;</span>, <span style=\"color: #BA2121\">&#39;forces&#39;</span>)\n",
       "    bos_timestamps <span style=\"color: #666666\">=</span> LazyLoader(<span style=\"color: #BA2121\">&#39;_load_timestamps&#39;</span>, <span style=\"color: #BA2121\">&#39;bos&#39;</span>)\n",
       "\n",
       "    forces_traj <span style=\"color: #666666\">=</span> LazyLoader(<span style=\"color: #BA2121\">&#39;_load_topic_vectors&#39;</span>, <span style=\"color: #BA2121\">&#39;forces&#39;</span>)\n",
       "    bos_traj <span style=\"color: #666666\">=</span> LazyLoader(<span style=\"color: #BA2121\">&#39;_load_topic_vectors&#39;</span>, <span style=\"color: #BA2121\">&#39;bos&#39;</span>)\n",
       "    question_vectors <span style=\"color: #666666\">=</span> LazyLoader(<span style=\"color: #BA2121\">&#39;_load_topic_vectors&#39;</span>, <span style=\"color: #BA2121\">&#39;questions&#39;</span>)\n",
       "    answer_vectors <span style=\"color: #666666\">=</span> LazyLoader(<span style=\"color: #BA2121\">&#39;_load_topic_vectors&#39;</span>, <span style=\"color: #BA2121\">&#39;answers&#39;</span>)\n",
       "\n",
       "    forces_embedding <span style=\"color: #666666\">=</span> LazyLoader(<span style=\"color: #BA2121\">&#39;_load_embedding&#39;</span>, <span style=\"color: #BA2121\">&#39;forces&#39;</span>)\n",
       "    bos_embedding <span style=\"color: #666666\">=</span> LazyLoader(<span style=\"color: #BA2121\">&#39;_load_embedding&#39;</span>, <span style=\"color: #BA2121\">&#39;bos&#39;</span>)\n",
       "    question_embeddings <span style=\"color: #666666\">=</span> LazyLoader(<span style=\"color: #BA2121\">&#39;_load_embedding&#39;</span>, <span style=\"color: #BA2121\">&#39;questions&#39;</span>)\n",
       "\n",
       "    fit_cv <span style=\"color: #666666\">=</span> LazyLoader(<span style=\"color: #BA2121\">&#39;_load_fit_model&#39;</span>, <span style=\"color: #BA2121\">&#39;CV&#39;</span>)\n",
       "    fit_lda <span style=\"color: #666666\">=</span> LazyLoader(<span style=\"color: #BA2121\">&#39;_load_fit_model&#39;</span>, <span style=\"color: #BA2121\">&#39;LDA&#39;</span>)\n",
       "    fit_umap <span style=\"color: #666666\">=</span> LazyLoader(<span style=\"color: #BA2121\">&#39;_load_fit_model&#39;</span>, <span style=\"color: #BA2121\">&#39;UMAP&#39;</span>)\n",
       "\n",
       "    wordle_mask <span style=\"color: #666666\">=</span> LazyLoader(<span style=\"color: #BA2121\">&#39;_load_wordle_mask&#39;</span>)\n",
       "\n",
       "    <span style=\"color: #AA22FF\">@property</span>\n",
       "    <span style=\"color: #008000; font-weight: bold\">def</span> <span style=\"color: #0000FF\">all_data</span>(<span style=\"color: #008000\">self</span>):\n",
       "        <span style=\"color: #008000; font-weight: bold\">return</span> pd<span style=\"color: #666666\">.</span>concat(<span style=\"color: #008000\">map</span>(<span style=\"color: #008000; font-weight: bold\">lambda</span> p: p<span style=\"color: #666666\">.</span>data, <span style=\"color: #008000\">self</span><span style=\"color: #666666\">.</span>participants),\n",
       "                         keys<span style=\"color: #666666\">=</span><span style=\"color: #008000\">map</span>(<span style=\"color: #008000\">str</span>, <span style=\"color: #008000\">self</span><span style=\"color: #666666\">.</span>participants))\n",
       "\n",
       "    <span style=\"color: #008000; font-weight: bold\">def</span> <span style=\"color: #0000FF\">get_lecture_traj</span>(<span style=\"color: #008000\">self</span>, lecture):\n",
       "        <span style=\"color: #008000; font-weight: bold\">if</span> <span style=\"color: #008000\">hasattr</span>(lecture, <span style=\"color: #BA2121\">&#39;__iter__&#39;</span>) <span style=\"color: #AA22FF; font-weight: bold\">and</span> <span style=\"color: #AA22FF; font-weight: bold\">not</span> <span style=\"color: #008000\">isinstance</span>(lecture, <span style=\"color: #008000\">str</span>):\n",
       "            <span style=\"color: #008000; font-weight: bold\">if</span> <span style=\"color: #008000\">len</span>(lecture) <span style=\"color: #666666\">&gt;</span> <span style=\"color: #666666\">1</span>:\n",
       "                <span style=\"color: #008000; font-weight: bold\">return</span> [<span style=\"color: #008000\">self</span><span style=\"color: #666666\">.</span>get_lecture_traj(l) <span style=\"color: #008000; font-weight: bold\">for</span> l <span style=\"color: #AA22FF; font-weight: bold\">in</span> lecture]\n",
       "            <span style=\"color: #008000; font-weight: bold\">else</span>:\n",
       "                <span style=\"color: #008000; font-weight: bold\">return</span> <span style=\"color: #008000\">self</span><span style=\"color: #666666\">.</span>get_lecture_traj(lecture[<span style=\"color: #666666\">0</span>])\n",
       "        <span style=\"color: #008000; font-weight: bold\">elif</span> lecture <span style=\"color: #AA22FF; font-weight: bold\">in</span> (<span style=\"color: #BA2121\">&#39;forces&#39;</span>, <span style=\"color: #666666\">1</span>):\n",
       "            <span style=\"color: #008000; font-weight: bold\">return</span> <span style=\"color: #008000\">self</span><span style=\"color: #666666\">.</span>forces_traj\n",
       "        <span style=\"color: #008000; font-weight: bold\">elif</span> lecture <span style=\"color: #AA22FF; font-weight: bold\">in</span> (<span style=\"color: #BA2121\">&#39;bos&#39;</span>, <span style=\"color: #666666\">2</span>):\n",
       "            <span style=\"color: #008000; font-weight: bold\">return</span> <span style=\"color: #008000\">self</span><span style=\"color: #666666\">.</span>bos_traj\n",
       "        <span style=\"color: #008000; font-weight: bold\">else</span>:\n",
       "            <span style=\"color: #008000; font-weight: bold\">raise</span> <span style=\"color: #CB3F38; font-weight: bold\">ValueError</span>(<span style=\"color: #BA2121\">&#39;`lecture` should be either 1, &quot;forces&quot;, 2, or &quot;bos&quot;&#39;</span>)\n",
       "\n",
       "    <span style=\"color: #008000; font-weight: bold\">def</span> <span style=\"color: #0000FF\">get_question_vecs</span>(<span style=\"color: #008000\">self</span>, qids<span style=\"color: #666666\">=</span><span style=\"color: #008000; font-weight: bold\">None</span>, lectures<span style=\"color: #666666\">=</span><span style=\"color: #008000; font-weight: bold\">None</span>):\n",
       "        <span style=\"color: #3D7B7B; font-style: italic\"># get question topic vectors by question ID(s) or lecture(s)</span>\n",
       "        <span style=\"color: #008000; font-weight: bold\">if</span> (qids <span style=\"color: #AA22FF; font-weight: bold\">is</span> lectures <span style=\"color: #AA22FF; font-weight: bold\">is</span> <span style=\"color: #008000; font-weight: bold\">None</span>) <span style=\"color: #AA22FF; font-weight: bold\">or</span> (qids <span style=\"color: #AA22FF; font-weight: bold\">is</span> <span style=\"color: #AA22FF; font-weight: bold\">not</span> <span style=\"color: #008000; font-weight: bold\">None</span> <span style=\"color: #AA22FF; font-weight: bold\">and</span> lectures <span style=\"color: #AA22FF; font-weight: bold\">is</span> <span style=\"color: #AA22FF; font-weight: bold\">not</span> <span style=\"color: #008000; font-weight: bold\">None</span>):\n",
       "            <span style=\"color: #008000; font-weight: bold\">raise</span> <span style=\"color: #CB3F38; font-weight: bold\">ValueError</span>(<span style=\"color: #BA2121\">&quot;must pass either `qids` or `lecture` (not both)&quot;</span>)\n",
       "        <span style=\"color: #008000; font-weight: bold\">if</span> lectures <span style=\"color: #AA22FF; font-weight: bold\">is</span> <span style=\"color: #AA22FF; font-weight: bold\">not</span> <span style=\"color: #008000; font-weight: bold\">None</span>:\n",
       "            qids <span style=\"color: #666666\">=</span> []\n",
       "            <span style=\"color: #008000; font-weight: bold\">if</span> <span style=\"color: #BA2121\">&#39;forces&#39;</span> <span style=\"color: #AA22FF; font-weight: bold\">in</span> lectures:\n",
       "                qids<span style=\"color: #666666\">.</span>extend(<span style=\"color: #008000\">range</span>(<span style=\"color: #666666\">15</span>))\n",
       "            <span style=\"color: #008000; font-weight: bold\">if</span> <span style=\"color: #BA2121\">&#39;bos&#39;</span> <span style=\"color: #AA22FF; font-weight: bold\">in</span> lectures:\n",
       "                qids<span style=\"color: #666666\">.</span>extend(<span style=\"color: #008000\">range</span>(<span style=\"color: #666666\">15</span>, <span style=\"color: #666666\">30</span>))\n",
       "            <span style=\"color: #008000; font-weight: bold\">if</span> <span style=\"color: #BA2121\">&#39;general&#39;</span> <span style=\"color: #AA22FF; font-weight: bold\">in</span> lectures:\n",
       "                qids<span style=\"color: #666666\">.</span>extend(<span style=\"color: #008000\">range</span>(<span style=\"color: #666666\">30</span>, <span style=\"color: #666666\">39</span>))\n",
       "        <span style=\"color: #008000; font-weight: bold\">else</span>:\n",
       "            qids <span style=\"color: #666666\">=</span> [qid <span style=\"color: #666666\">-</span> <span style=\"color: #666666\">1</span> <span style=\"color: #008000; font-weight: bold\">for</span> qid <span style=\"color: #AA22FF; font-weight: bold\">in</span> qids]\n",
       "        <span style=\"color: #008000; font-weight: bold\">return</span> <span style=\"color: #008000\">self</span><span style=\"color: #666666\">.</span>question_vectors[qids]\n",
       "\n",
       "    <span style=\"color: #008000; font-weight: bold\">def</span> <span style=\"color: #0000FF\">get_timepoint_text</span>(<span style=\"color: #008000\">self</span>, lecture, timepoint, buffer<span style=\"color: #666666\">=15</span>):\n",
       "        <span style=\"color: #3D7B7B; font-style: italic\"># TODO: map backwards through window timepoints rather than</span>\n",
       "        <span style=\"color: #3D7B7B; font-style: italic\">#  directly to transcript for more accuracy?</span>\n",
       "        <span style=\"color: #008000; font-weight: bold\">if</span> lecture <span style=\"color: #666666\">==</span> <span style=\"color: #BA2121\">&#39;forces&#39;</span>:\n",
       "            transcript <span style=\"color: #666666\">=</span> <span style=\"color: #008000\">self</span><span style=\"color: #666666\">.</span>forces_transcript\n",
       "        <span style=\"color: #008000; font-weight: bold\">elif</span> lecture <span style=\"color: #666666\">==</span> <span style=\"color: #BA2121\">&#39;bos&#39;</span>:\n",
       "            transcript <span style=\"color: #666666\">=</span> <span style=\"color: #008000\">self</span><span style=\"color: #666666\">.</span>bos_transcript\n",
       "        <span style=\"color: #008000; font-weight: bold\">else</span>:\n",
       "            <span style=\"color: #008000; font-weight: bold\">raise</span> <span style=\"color: #CB3F38; font-weight: bold\">ValueError</span>(<span style=\"color: #BA2121\">&quot;Lecture must be either &#39;forces&#39; or &#39;bos&#39;&quot;</span>)\n",
       "\n",
       "        <span style=\"color: #3D7B7B; font-style: italic\"># get timestamps and text from transcript</span>\n",
       "        transcript <span style=\"color: #666666\">=</span> transcript<span style=\"color: #666666\">.</span>splitlines()\n",
       "        timestamps <span style=\"color: #666666\">=</span> np<span style=\"color: #666666\">.</span>fromiter(<span style=\"color: #008000\">map</span>(_ts_to_sec, transcript[::<span style=\"color: #666666\">2</span>]), dtype<span style=\"color: #666666\">=</span>np<span style=\"color: #666666\">.</span>int16)\n",
       "        text <span style=\"color: #666666\">=</span> np<span style=\"color: #666666\">.</span>array(transcript[<span style=\"color: #666666\">1</span>::<span style=\"color: #666666\">2</span>])\n",
       "        <span style=\"color: #3D7B7B; font-style: italic\"># compute start and end time from timepoint and buffer</span>\n",
       "        onset, offset <span style=\"color: #666666\">=</span> timepoint <span style=\"color: #666666\">-</span> buffer, timepoint <span style=\"color: #666666\">+</span> buffer\n",
       "        <span style=\"color: #3D7B7B; font-style: italic\"># make sure times are within bounds</span>\n",
       "        <span style=\"color: #008000; font-weight: bold\">if</span> onset <span style=\"color: #666666\">&lt;</span> <span style=\"color: #666666\">0</span>:\n",
       "            onset <span style=\"color: #666666\">=</span> <span style=\"color: #666666\">0</span>\n",
       "        <span style=\"color: #008000; font-weight: bold\">if</span> offset <span style=\"color: #666666\">&gt;</span> timestamps[<span style=\"color: #666666\">-1</span>]:\n",
       "            offset <span style=\"color: #666666\">=</span> timestamps[<span style=\"color: #666666\">-1</span>]\n",
       "        <span style=\"color: #3D7B7B; font-style: italic\"># get timestamps of text between those times</span>\n",
       "        text_ixs <span style=\"color: #666666\">=</span> np<span style=\"color: #666666\">.</span>where((timestamps <span style=\"color: #666666\">&gt;=</span> onset) <span style=\"color: #666666\">&amp;</span> (timestamps <span style=\"color: #666666\">&lt;</span> offset))[<span style=\"color: #666666\">0</span>]\n",
       "        <span style=\"color: #008000; font-weight: bold\">return</span> <span style=\"color: #BA2121\">&#39; &#39;</span><span style=\"color: #666666\">.</span>join(text[text_ixs])\n",
       "\n",
       "    <span style=\"color: #3D7B7B; font-style: italic\"># TODO: delete if not used</span>\n",
       "    <span style=\"color: #008000; font-weight: bold\">def</span> <span style=\"color: #0000FF\">save_participants</span>(<span style=\"color: #008000\">self</span>, filepaths<span style=\"color: #666666\">=</span><span style=\"color: #008000; font-weight: bold\">None</span>, allow_overwrite<span style=\"color: #666666\">=</span><span style=\"color: #008000; font-weight: bold\">False</span>):\n",
       "        to_save <span style=\"color: #666666\">=</span> <span style=\"color: #008000\">list</span>(<span style=\"color: #008000\">self</span><span style=\"color: #666666\">.</span>participants)\n",
       "        <span style=\"color: #008000; font-weight: bold\">if</span> <span style=\"color: #BA2121\">&#39;avg_participant&#39;</span> <span style=\"color: #AA22FF; font-weight: bold\">in</span> <span style=\"color: #008000\">self</span><span style=\"color: #666666\">.</span><span style=\"color: #19177C\">__dict__</span>:\n",
       "            to_save<span style=\"color: #666666\">.</span>append(<span style=\"color: #008000\">self</span><span style=\"color: #666666\">.</span>avg_participant)\n",
       "        <span style=\"color: #008000; font-weight: bold\">if</span> filepaths <span style=\"color: #AA22FF; font-weight: bold\">is</span> <span style=\"color: #008000; font-weight: bold\">None</span>:\n",
       "            filepaths <span style=\"color: #666666\">=</span> [<span style=\"color: #008000; font-weight: bold\">None</span>] <span style=\"color: #666666\">*</span> <span style=\"color: #008000\">len</span>(to_save)\n",
       "        <span style=\"color: #008000; font-weight: bold\">elif</span> <span style=\"color: #008000\">len</span>(filepaths) <span style=\"color: #666666\">!=</span> <span style=\"color: #008000\">len</span>(to_save):\n",
       "            msg <span style=\"color: #666666\">=</span> <span style=\"color: #BA2121\">&quot;`filepaths` must contain one path per participant&quot;</span>\n",
       "            <span style=\"color: #008000; font-weight: bold\">if</span> <span style=\"color: #008000\">self</span><span style=\"color: #666666\">.</span>avg_participant <span style=\"color: #AA22FF; font-weight: bold\">is</span> <span style=\"color: #AA22FF; font-weight: bold\">not</span> <span style=\"color: #008000; font-weight: bold\">None</span>:\n",
       "                msg <span style=\"color: #666666\">+=</span> <span style=\"color: #BA2121\">&quot; (including average participant, last)&quot;</span>\n",
       "            <span style=\"color: #008000; font-weight: bold\">raise</span> <span style=\"color: #CB3F38; font-weight: bold\">ValueError</span>(msg)\n",
       "        <span style=\"color: #008000; font-weight: bold\">for</span> p, fpath <span style=\"color: #AA22FF; font-weight: bold\">in</span> <span style=\"color: #008000\">zip</span>(to_save, filepaths):\n",
       "            p<span style=\"color: #666666\">.</span>save(filepath<span style=\"color: #666666\">=</span>fpath, allow_overwrite<span style=\"color: #666666\">=</span>allow_overwrite)\n",
       "\n",
       "    <span style=\"color: #3D7B7B; font-style: italic\">##########################################</span>\n",
       "    <span style=\"color: #3D7B7B; font-style: italic\">#              DATA LOADERS              #</span>\n",
       "    <span style=\"color: #3D7B7B; font-style: italic\">##########################################</span>\n",
       "    <span style=\"color: #008000; font-weight: bold\">def</span> <span style=\"color: #0000FF\">_load_participants</span>(<span style=\"color: #008000\">self</span>):\n",
       "        participants <span style=\"color: #666666\">=</span> []\n",
       "        <span style=\"color: #008000; font-weight: bold\">for</span> pid <span style=\"color: #AA22FF; font-weight: bold\">in</span> <span style=\"color: #008000\">range</span>(<span style=\"color: #666666\">1</span>, <span style=\"color: #666666\">51</span>):\n",
       "            path <span style=\"color: #666666\">=</span> PARTICIPANTS_DIR<span style=\"color: #666666\">.</span>joinpath(<span style=\"color: #BA2121\">f&#39;P</span><span style=\"color: #A45A77; font-weight: bold\">{</span>pid<span style=\"color: #A45A77; font-weight: bold\">}</span><span style=\"color: #BA2121\">.p&#39;</span>)\n",
       "            participants<span style=\"color: #666666\">.</span>append(pickle<span style=\"color: #666666\">.</span>loads(path<span style=\"color: #666666\">.</span>read_bytes()))\n",
       "        <span style=\"color: #008000; font-weight: bold\">return</span> np<span style=\"color: #666666\">.</span>array(participants)\n",
       "\n",
       "    <span style=\"color: #008000; font-weight: bold\">def</span> <span style=\"color: #0000FF\">_load_avg_participant</span>(<span style=\"color: #008000\">self</span>):\n",
       "        path <span style=\"color: #666666\">=</span> PARTICIPANTS_DIR<span style=\"color: #666666\">.</span>joinpath(<span style=\"color: #BA2121\">&#39;avg.p&#39;</span>)\n",
       "        <span style=\"color: #008000; font-weight: bold\">return</span> pickle<span style=\"color: #666666\">.</span>loads(path<span style=\"color: #666666\">.</span>read_bytes())\n",
       "\n",
       "    <span style=\"color: #008000; font-weight: bold\">def</span> <span style=\"color: #0000FF\">_load_transcript</span>(<span style=\"color: #008000\">self</span>, lecture):\n",
       "        path <span style=\"color: #666666\">=</span> RAW_DIR<span style=\"color: #666666\">.</span>joinpath(<span style=\"color: #BA2121\">f&#39;</span><span style=\"color: #A45A77; font-weight: bold\">{</span>lecture<span style=\"color: #A45A77; font-weight: bold\">}</span><span style=\"color: #BA2121\">_transcript_timestamped.txt&#39;</span>)\n",
       "        <span style=\"color: #008000; font-weight: bold\">with</span> path<span style=\"color: #666666\">.</span>open() <span style=\"color: #008000; font-weight: bold\">as</span> f:\n",
       "            <span style=\"color: #008000; font-weight: bold\">return</span> f<span style=\"color: #666666\">.</span>read()\n",
       "\n",
       "    <span style=\"color: #008000; font-weight: bold\">def</span> <span style=\"color: #0000FF\">_load_questions</span>(<span style=\"color: #008000\">self</span>):\n",
       "        path <span style=\"color: #666666\">=</span> RAW_DIR<span style=\"color: #666666\">.</span>joinpath(<span style=\"color: #BA2121\">&#39;questions.tsv&#39;</span>)\n",
       "        <span style=\"color: #008000; font-weight: bold\">return</span> pd<span style=\"color: #666666\">.</span>read_csv(path,\n",
       "                           sep<span style=\"color: #666666\">=</span><span style=\"color: #BA2121\">&#39;</span><span style=\"color: #AA5D1F; font-weight: bold\">\\t</span><span style=\"color: #BA2121\">&#39;</span>,\n",
       "                           names<span style=\"color: #666666\">=</span>[<span style=\"color: #BA2121\">&#39;index&#39;</span>, <span style=\"color: #BA2121\">&#39;lecture&#39;</span>, <span style=\"color: #BA2121\">&#39;question&#39;</span>, <span style=\"color: #BA2121\">&#39;A&#39;</span>, <span style=\"color: #BA2121\">&#39;B&#39;</span>, <span style=\"color: #BA2121\">&#39;C&#39;</span>, <span style=\"color: #BA2121\">&#39;D&#39;</span>],\n",
       "                           index_col<span style=\"color: #666666\">=</span><span style=\"color: #BA2121\">&#39;index&#39;</span>)\n",
       "\n",
       "    <span style=\"color: #008000; font-weight: bold\">def</span> <span style=\"color: #0000FF\">_load_windows</span>(<span style=\"color: #008000\">self</span>, lecture):\n",
       "        <span style=\"color: #008000; font-weight: bold\">return</span> np<span style=\"color: #666666\">.</span>load(RAW_DIR<span style=\"color: #666666\">.</span>joinpath(<span style=\"color: #BA2121\">f&#39;</span><span style=\"color: #A45A77; font-weight: bold\">{</span>lecture<span style=\"color: #A45A77; font-weight: bold\">}</span><span style=\"color: #BA2121\">_windows.npy&#39;</span>))\n",
       "\n",
       "    <span style=\"color: #008000; font-weight: bold\">def</span> <span style=\"color: #0000FF\">_load_timestamps</span>(<span style=\"color: #008000\">self</span>, lecture):\n",
       "        <span style=\"color: #008000; font-weight: bold\">return</span> np<span style=\"color: #666666\">.</span>load(RAW_DIR<span style=\"color: #666666\">.</span>joinpath(<span style=\"color: #BA2121\">f&#39;</span><span style=\"color: #A45A77; font-weight: bold\">{</span>lecture<span style=\"color: #A45A77; font-weight: bold\">}</span><span style=\"color: #BA2121\">_timestamps.npy&#39;</span>))\n",
       "\n",
       "    <span style=\"color: #008000; font-weight: bold\">def</span> <span style=\"color: #0000FF\">_load_topic_vectors</span>(<span style=\"color: #008000\">self</span>, file_key):\n",
       "        filename_map <span style=\"color: #666666\">=</span> {\n",
       "            <span style=\"color: #BA2121\">&#39;forces&#39;</span>: <span style=\"color: #BA2121\">&#39;forces_lecture&#39;</span>,\n",
       "            <span style=\"color: #BA2121\">&#39;bos&#39;</span>: <span style=\"color: #BA2121\">&#39;bos_lecture&#39;</span>,\n",
       "            <span style=\"color: #BA2121\">&#39;questions&#39;</span>: <span style=\"color: #BA2121\">&#39;all_questions&#39;</span>,\n",
       "            <span style=\"color: #BA2121\">&#39;answers&#39;</span>: <span style=\"color: #BA2121\">&#39;all_answers&#39;</span>\n",
       "        }\n",
       "        <span style=\"color: #008000; font-weight: bold\">return</span> np<span style=\"color: #666666\">.</span>load(TRAJS_DIR<span style=\"color: #666666\">.</span>joinpath(<span style=\"color: #BA2121\">f&#39;</span><span style=\"color: #A45A77; font-weight: bold\">{</span>filename_map[file_key]<span style=\"color: #A45A77; font-weight: bold\">}</span><span style=\"color: #BA2121\">.npy&#39;</span>))\n",
       "\n",
       "    <span style=\"color: #008000; font-weight: bold\">def</span> <span style=\"color: #0000FF\">_load_embedding</span>(<span style=\"color: #008000\">self</span>, file_key):\n",
       "        filename_map <span style=\"color: #666666\">=</span> {\n",
       "            <span style=\"color: #BA2121\">&#39;forces&#39;</span>: <span style=\"color: #BA2121\">&#39;forces_lecture&#39;</span>,\n",
       "            <span style=\"color: #BA2121\">&#39;bos&#39;</span>: <span style=\"color: #BA2121\">&#39;bos_lecture&#39;</span>,\n",
       "            <span style=\"color: #BA2121\">&#39;questions&#39;</span>: <span style=\"color: #BA2121\">&#39;questions&#39;</span>,\n",
       "        }\n",
       "        <span style=\"color: #008000; font-weight: bold\">return</span> np<span style=\"color: #666666\">.</span>load(EMBS_DIR<span style=\"color: #666666\">.</span>joinpath(<span style=\"color: #BA2121\">f&#39;</span><span style=\"color: #A45A77; font-weight: bold\">{</span>filename_map[file_key]<span style=\"color: #A45A77; font-weight: bold\">}</span><span style=\"color: #BA2121\">.npy&#39;</span>))\n",
       "\n",
       "    <span style=\"color: #008000; font-weight: bold\">def</span> <span style=\"color: #0000FF\">_load_fit_model</span>(<span style=\"color: #008000\">self</span>, model):\n",
       "        <span style=\"color: #008000; font-weight: bold\">return</span> np<span style=\"color: #666666\">.</span>load(MODELS_DIR<span style=\"color: #666666\">.</span>joinpath(<span style=\"color: #BA2121\">f&#39;fit_</span><span style=\"color: #A45A77; font-weight: bold\">{</span>model<span style=\"color: #A45A77; font-weight: bold\">}</span><span style=\"color: #BA2121\">.npy&#39;</span>), allow_pickle<span style=\"color: #666666\">=</span><span style=\"color: #008000; font-weight: bold\">True</span>)<span style=\"color: #666666\">.</span>item()\n",
       "\n",
       "    <span style=\"color: #008000; font-weight: bold\">def</span> <span style=\"color: #0000FF\">_load_wordle_mask</span>(<span style=\"color: #008000\">self</span>):\n",
       "        <span style=\"color: #008000; font-weight: bold\">return</span> np<span style=\"color: #666666\">.</span>array(open_image(DATA_DIR<span style=\"color: #666666\">.</span>joinpath(<span style=\"color: #BA2121\">&#39;wordle-mask.jpg&#39;</span>)))\n",
       "</pre></div>\n"
      ],
      "text/plain": [
       "<IPython.core.display.HTML object>"
      ]
     },
     "execution_count": 2,
     "metadata": {},
     "output_type": "execute_result"
    }
   ],
   "source": [
    "show_source(Experiment)"
   ]
  },
  {
   "cell_type": "code",
   "execution_count": 3,
   "metadata": {
    "ExecuteTime": {
     "end_time": "2023-01-26T06:31:45.989373Z",
     "start_time": "2023-01-26T06:31:45.981738Z"
    },
    "scrolled": true
   },
   "outputs": [
    {
     "data": {
      "text/html": [
       "<div class=\"highlight\" style=\"background: #f8f8f8\"><pre style=\"line-height: 125%;\"><span></span><span style=\"color: #008000; font-weight: bold\">def</span> <span style=\"color: #0000FF\">preprocess_text</span>(textlist, correction_counter<span style=\"color: #666666\">=</span><span style=\"color: #008000; font-weight: bold\">None</span>):\n",
       "    <span style=\"color: #BA2121; font-style: italic\">&quot;&quot;&quot;</span>\n",
       "<span style=\"color: #BA2121; font-style: italic\">    Handles text preprocessing of lecture transcripts and quiz questions</span>\n",
       "<span style=\"color: #BA2121; font-style: italic\">    &amp; answers.  Performs case and whitespace normalization, punctuation</span>\n",
       "<span style=\"color: #BA2121; font-style: italic\">    and non-alphabetic character removal, stop word removal,</span>\n",
       "<span style=\"color: #BA2121; font-style: italic\">    POS tagging, and lemmatization.</span>\n",
       "\n",
       "<span style=\"color: #BA2121; font-style: italic\">    Occasionally, the Treebank POS tagger mis-tags a word, which causes</span>\n",
       "<span style=\"color: #BA2121; font-style: italic\">    WordNet&#39;s &quot;Morphy&quot; to apply the morphologocal transformations and</span>\n",
       "<span style=\"color: #BA2121; font-style: italic\">    detachment rules for the wrong syntactic category, and fail to</span>\n",
       "<span style=\"color: #BA2121; font-style: italic\">    lemmatize the word.  The function attempts to handle these</span>\n",
       "<span style=\"color: #BA2121; font-style: italic\">    instances and can optionally record corrections made this way for</span>\n",
       "<span style=\"color: #BA2121; font-style: italic\">    visual inspection to ensure no improper substitutions were made.</span>\n",
       "\n",
       "<span style=\"color: #BA2121; font-style: italic\">    Parameters</span>\n",
       "<span style=\"color: #BA2121; font-style: italic\">    ----------</span>\n",
       "<span style=\"color: #BA2121; font-style: italic\">    textlist : sequence of str</span>\n",
       "<span style=\"color: #BA2121; font-style: italic\">        List of text samples (lecture transcript lines, quiz questions,</span>\n",
       "<span style=\"color: #BA2121; font-style: italic\">        or quiz answers) to be processed.</span>\n",
       "<span style=\"color: #BA2121; font-style: italic\">    correction_counter : collections.defaultdict, optional</span>\n",
       "<span style=\"color: #BA2121; font-style: italic\">        A &#39;collections.defaultdict&#39; instance with &#39;default_factory=int&#39;.</span>\n",
       "<span style=\"color: #BA2121; font-style: italic\">        Records detected &quot;misses&quot; by the &#39;WordNetLemmatizer&#39; (usually</span>\n",
       "<span style=\"color: #BA2121; font-style: italic\">        caused by the POS tagger mis-labeling a word) corrected by</span>\n",
       "<span style=\"color: #BA2121; font-style: italic\">        parsing the word&#39;s synset directly (via the &#39;synset_match&#39;</span>\n",
       "<span style=\"color: #BA2121; font-style: italic\">        function). If provided, keys of (word, lemma) will be added or</span>\n",
       "<span style=\"color: #BA2121; font-style: italic\">        incremented for each correction. Useful for spot-checking</span>\n",
       "<span style=\"color: #BA2121; font-style: italic\">        corrections to ensure only proper substitutions were made.</span>\n",
       "\n",
       "<span style=\"color: #BA2121; font-style: italic\">    Returns</span>\n",
       "<span style=\"color: #BA2121; font-style: italic\">    -------</span>\n",
       "<span style=\"color: #BA2121; font-style: italic\">    processed_textlist : list of str</span>\n",
       "<span style=\"color: #BA2121; font-style: italic\">        The original &#39;textlist&#39; with preprocessing steps applied to each</span>\n",
       "<span style=\"color: #BA2121; font-style: italic\">        element.</span>\n",
       "\n",
       "<span style=\"color: #BA2121; font-style: italic\">    &quot;&quot;&quot;</span>\n",
       "    <span style=\"color: #008000; font-weight: bold\">if</span> correction_counter <span style=\"color: #AA22FF; font-weight: bold\">is</span> <span style=\"color: #AA22FF; font-weight: bold\">not</span> <span style=\"color: #008000; font-weight: bold\">None</span>:\n",
       "        <span style=\"color: #008000; font-weight: bold\">if</span> <span style=\"color: #008000\">isinstance</span>(correction_counter, defaultdict):\n",
       "            <span style=\"color: #008000; font-weight: bold\">if</span> <span style=\"color: #AA22FF; font-weight: bold\">not</span> correction_counter<span style=\"color: #666666\">.</span>default_factory <span style=\"color: #AA22FF; font-weight: bold\">is</span> <span style=\"color: #008000\">int</span>:\n",
       "                <span style=\"color: #008000; font-weight: bold\">raise</span> <span style=\"color: #CB3F38; font-weight: bold\">ValueError</span>(\n",
       "                    <span style=\"color: #BA2121\">&quot;&#39;default_factory for &#39;correction_counter&#39; must be &#39;int&#39;&#39;&quot;</span>\n",
       "                )\n",
       "        <span style=\"color: #008000; font-weight: bold\">else</span>:\n",
       "            <span style=\"color: #008000; font-weight: bold\">raise</span> <span style=\"color: #CB3F38; font-weight: bold\">TypeError</span>(\n",
       "                <span style=\"color: #BA2121\">&quot;&#39;correction_counter&#39; must be a &#39;collections.defaultdict&#39; &quot;</span>\n",
       "                <span style=\"color: #BA2121\">&quot;with &#39;default_factory=int&#39;&quot;</span>\n",
       "            )\n",
       "\n",
       "    <span style=\"color: #3D7B7B; font-style: italic\"># define some constants only used in this function:</span>\n",
       "    lemmatizer <span style=\"color: #666666\">=</span> WordNetLemmatizer()\n",
       "    <span style=\"color: #3D7B7B; font-style: italic\"># suffixes to look for when correcting lemmatization errors</span>\n",
       "    correctable_sfxs <span style=\"color: #666666\">=</span> (<span style=\"color: #BA2121\">&#39;s&#39;</span>, <span style=\"color: #BA2121\">&#39;ing&#39;</span>, <span style=\"color: #BA2121\">&#39;ly&#39;</span>, <span style=\"color: #BA2121\">&#39;ed&#39;</span>, <span style=\"color: #BA2121\">&#39;er&#39;</span>, <span style=\"color: #BA2121\">&#39;est&#39;</span>)\n",
       "    <span style=\"color: #3D7B7B; font-style: italic\"># corpus-specific words to exclude from lemma correction</span>\n",
       "    dont_lemmatize <span style=\"color: #666666\">=</span> [<span style=\"color: #BA2121\">&#39;stronger&#39;</span>, <span style=\"color: #BA2121\">&#39;strongest&#39;</span>, <span style=\"color: #BA2121\">&#39;strongly&#39;</span>, <span style=\"color: #BA2121\">&#39;especially&#39;</span>]\n",
       "    <span style=\"color: #3D7B7B; font-style: italic\"># POS tag mapping, format: {Treebank tag (1st letter only): Wordnet}</span>\n",
       "    tagset_mapping <span style=\"color: #666666\">=</span> defaultdict(\n",
       "        <span style=\"color: #008000; font-weight: bold\">lambda</span>: <span style=\"color: #BA2121\">&#39;n&#39;</span>,   <span style=\"color: #3D7B7B; font-style: italic\"># defaults to noun</span>\n",
       "        {\n",
       "            <span style=\"color: #BA2121\">&#39;N&#39;</span>: <span style=\"color: #BA2121\">&#39;n&#39;</span>,  <span style=\"color: #3D7B7B; font-style: italic\"># noun types</span>\n",
       "            <span style=\"color: #BA2121\">&#39;P&#39;</span>: <span style=\"color: #BA2121\">&#39;n&#39;</span>,  <span style=\"color: #3D7B7B; font-style: italic\"># pronoun types, predeterminers</span>\n",
       "            <span style=\"color: #BA2121\">&#39;V&#39;</span>: <span style=\"color: #BA2121\">&#39;v&#39;</span>,  <span style=\"color: #3D7B7B; font-style: italic\"># verb types</span>\n",
       "            <span style=\"color: #BA2121\">&#39;J&#39;</span>: <span style=\"color: #BA2121\">&#39;a&#39;</span>,  <span style=\"color: #3D7B7B; font-style: italic\"># adjective types</span>\n",
       "            <span style=\"color: #BA2121\">&#39;D&#39;</span>: <span style=\"color: #BA2121\">&#39;a&#39;</span>,  <span style=\"color: #3D7B7B; font-style: italic\"># determiner</span>\n",
       "            <span style=\"color: #BA2121\">&#39;R&#39;</span>: <span style=\"color: #BA2121\">&#39;r&#39;</span>   <span style=\"color: #3D7B7B; font-style: italic\"># adverb types</span>\n",
       "        })\n",
       "\n",
       "    <span style=\"color: #3D7B7B; font-style: italic\"># insert delimiters between text samples to map processed text back</span>\n",
       "    <span style=\"color: #3D7B7B; font-style: italic\"># to original chunk</span>\n",
       "    chunk_delimiter <span style=\"color: #666666\">=</span> <span style=\"color: #BA2121\">&#39;chunkdelimiter&#39;</span>\n",
       "    processed_chunks <span style=\"color: #666666\">=</span> [[] <span style=\"color: #008000; font-weight: bold\">for</span> _ <span style=\"color: #AA22FF; font-weight: bold\">in</span> textlist]\n",
       "    <span style=\"color: #3D7B7B; font-style: italic\"># clean spacing, normalize case, strip puncutation</span>\n",
       "    <span style=\"color: #3D7B7B; font-style: italic\"># (temporarily leave punctuation useful for POS tagging)</span>\n",
       "    full_text <span style=\"color: #666666\">=</span> <span style=\"color: #BA2121\">f&#39; </span><span style=\"color: #A45A77; font-weight: bold\">{</span>chunk_delimiter<span style=\"color: #A45A77; font-weight: bold\">}</span><span style=\"color: #BA2121\"> &#39;</span><span style=\"color: #666666\">.</span>join(textlist)<span style=\"color: #666666\">.</span>lower()\n",
       "    punc_stripped <span style=\"color: #666666\">=</span> re<span style=\"color: #666666\">.</span>sub(<span style=\"color: #BA2121\">&quot;[^a-zA-Z\\s&#39;]+&quot;</span>, <span style=\"color: #BA2121\">&#39;&#39;</span>, full_text<span style=\"color: #666666\">.</span>replace(<span style=\"color: #BA2121\">&#39;-&#39;</span>, <span style=\"color: #BA2121\">&#39; &#39;</span>))\n",
       "    <span style=\"color: #3D7B7B; font-style: italic\"># POS tagging (works better on full transcript, more context provided)</span>\n",
       "    words_tags <span style=\"color: #666666\">=</span> pos_tag(punc_stripped<span style=\"color: #666666\">.</span>split())\n",
       "\n",
       "    chunk_ix <span style=\"color: #666666\">=</span> <span style=\"color: #666666\">0</span>\n",
       "    <span style=\"color: #008000; font-weight: bold\">for</span> word, tag <span style=\"color: #AA22FF; font-weight: bold\">in</span> words_tags:\n",
       "        <span style=\"color: #008000; font-weight: bold\">if</span> word <span style=\"color: #666666\">==</span> chunk_delimiter:\n",
       "            <span style=\"color: #3D7B7B; font-style: italic\"># denotes end of a text chunk</span>\n",
       "            chunk_ix <span style=\"color: #666666\">+=</span> <span style=\"color: #666666\">1</span>\n",
       "            <span style=\"color: #008000; font-weight: bold\">continue</span>\n",
       "\n",
       "        <span style=\"color: #3D7B7B; font-style: italic\"># discard contraction clitics (always stop words or possessive)</span>\n",
       "        <span style=\"color: #3D7B7B; font-style: italic\"># irregular stems (don, isn, etc.) handled by stop word removal</span>\n",
       "        <span style=\"color: #008000; font-weight: bold\">elif</span> <span style=\"color: #BA2121\">&quot;&#39;&quot;</span> <span style=\"color: #AA22FF; font-weight: bold\">in</span> word:\n",
       "            word <span style=\"color: #666666\">=</span> word<span style=\"color: #666666\">.</span>split(<span style=\"color: #BA2121\">&quot;&#39;&quot;</span>)[<span style=\"color: #666666\">0</span>]\n",
       "        <span style=\"color: #3D7B7B; font-style: italic\"># remove stop words &amp; digits</span>\n",
       "        <span style=\"color: #008000; font-weight: bold\">if</span> word <span style=\"color: #AA22FF; font-weight: bold\">in</span> STOP_WORDS <span style=\"color: #AA22FF; font-weight: bold\">or</span> word[<span style=\"color: #666666\">0</span>]<span style=\"color: #666666\">.</span>isdigit():\n",
       "            <span style=\"color: #008000; font-weight: bold\">continue</span>\n",
       "\n",
       "        <span style=\"color: #008000; font-weight: bold\">if</span> word <span style=\"color: #AA22FF; font-weight: bold\">not</span> <span style=\"color: #AA22FF; font-weight: bold\">in</span> dont_lemmatize:\n",
       "            <span style=\"color: #3D7B7B; font-style: italic\"># convert Treebank POS tags to WordNet POS tags; lemmatize</span>\n",
       "            tag <span style=\"color: #666666\">=</span> tagset_mapping[tag[<span style=\"color: #666666\">0</span>]]\n",
       "            lemma <span style=\"color: #666666\">=</span> lemmatizer<span style=\"color: #666666\">.</span>lemmatize(word, tag)\n",
       "\n",
       "            <span style=\"color: #3D7B7B; font-style: italic\"># handles most cases where POS tagger misidentifies a word,</span>\n",
       "            <span style=\"color: #3D7B7B; font-style: italic\"># causing WordNet Morphy to use the wrong syntactic</span>\n",
       "            <span style=\"color: #3D7B7B; font-style: italic\"># transformation and fail</span>\n",
       "            <span style=\"color: #008000; font-weight: bold\">if</span> (\n",
       "                    lemma <span style=\"color: #666666\">==</span> word <span style=\"color: #AA22FF; font-weight: bold\">and</span>\n",
       "                    <span style=\"color: #008000\">any</span>(word<span style=\"color: #666666\">.</span>endswith(sfx) <span style=\"color: #008000; font-weight: bold\">for</span> sfx <span style=\"color: #AA22FF; font-weight: bold\">in</span> correctable_sfxs) <span style=\"color: #AA22FF; font-weight: bold\">and</span>\n",
       "                    <span style=\"color: #008000\">len</span>(word) <span style=\"color: #666666\">&gt;</span> <span style=\"color: #666666\">4</span>\n",
       "            ):\n",
       "                lemma <span style=\"color: #666666\">=</span> synset_match(word)\n",
       "                <span style=\"color: #008000; font-weight: bold\">if</span> lemma <span style=\"color: #666666\">!=</span> word <span style=\"color: #AA22FF; font-weight: bold\">and</span> correction_counter <span style=\"color: #AA22FF; font-weight: bold\">is</span> <span style=\"color: #AA22FF; font-weight: bold\">not</span> <span style=\"color: #008000; font-weight: bold\">None</span>:\n",
       "                    <span style=\"color: #3D7B7B; font-style: italic\"># record changes made this way to spot-check later</span>\n",
       "                    correction_counter[(word, lemma)] <span style=\"color: #666666\">+=</span> <span style=\"color: #666666\">1</span>\n",
       "        <span style=\"color: #008000; font-weight: bold\">else</span>:\n",
       "            lemma <span style=\"color: #666666\">=</span> word\n",
       "\n",
       "        <span style=\"color: #3D7B7B; font-style: italic\"># place back in correct text chunk</span>\n",
       "        processed_chunks[chunk_ix]<span style=\"color: #666666\">.</span>append(lemma)\n",
       "\n",
       "    <span style=\"color: #3D7B7B; font-style: italic\"># join words within each chunk</span>\n",
       "    <span style=\"color: #008000; font-weight: bold\">return</span> [<span style=\"color: #BA2121\">&#39; &#39;</span><span style=\"color: #666666\">.</span>join(c) <span style=\"color: #008000; font-weight: bold\">for</span> c <span style=\"color: #AA22FF; font-weight: bold\">in</span> processed_chunks]\n",
       "</pre></div>\n"
      ],
      "text/plain": [
       "<IPython.core.display.HTML object>"
      ]
     },
     "execution_count": 3,
     "metadata": {},
     "output_type": "execute_result"
    }
   ],
   "source": [
    "show_source(preprocess_text)"
   ]
  },
  {
   "cell_type": "code",
   "execution_count": 4,
   "metadata": {
    "ExecuteTime": {
     "end_time": "2023-01-26T06:31:45.995047Z",
     "start_time": "2023-01-26T06:31:45.990236Z"
    },
    "scrolled": true
   },
   "outputs": [
    {
     "data": {
      "text/html": [
       "<div class=\"highlight\" style=\"background: #f8f8f8\"><pre style=\"line-height: 125%;\"><span></span><span style=\"color: #008000; font-weight: bold\">def</span> <span style=\"color: #0000FF\">synset_match</span>(word, min_similarity<span style=\"color: #666666\">=0.6</span>):\n",
       "    <span style=\"color: #BA2121; font-style: italic\">&quot;&quot;&quot;</span>\n",
       "<span style=\"color: #BA2121; font-style: italic\">    Attempts to identify the proper lemma for a given `word`. Searches</span>\n",
       "<span style=\"color: #BA2121; font-style: italic\">    WordNet&#39;s database of cognitive synonyms for the provided `word`</span>\n",
       "<span style=\"color: #BA2121; font-style: italic\">    (its &quot;synset&quot;) as well as the pertainyms of each word in the synset</span>\n",
       "<span style=\"color: #BA2121; font-style: italic\">    (to handle adverb-adjective relationships).</span>\n",
       "\n",
       "<span style=\"color: #BA2121; font-style: italic\">    Works based on the assumption that the correct lemma is the most</span>\n",
       "<span style=\"color: #BA2121; font-style: italic\">    similar choice (via `difflib.SequenceMatcher`) to the original word</span>\n",
       "<span style=\"color: #BA2121; font-style: italic\">    *that is also shorter than the original word*.</span>\n",
       "\n",
       "<span style=\"color: #BA2121; font-style: italic\">    Parameters</span>\n",
       "<span style=\"color: #BA2121; font-style: italic\">    ----------</span>\n",
       "<span style=\"color: #BA2121; font-style: italic\">    word : str</span>\n",
       "<span style=\"color: #BA2121; font-style: italic\">        The word to be lemmatized.</span>\n",
       "<span style=\"color: #BA2121; font-style: italic\">    min_similarity : float, optional</span>\n",
       "<span style=\"color: #BA2121; font-style: italic\">        The minimum similarity to the provided word for a possible lemma</span>\n",
       "<span style=\"color: #BA2121; font-style: italic\">        to be considered correct (default: 0.6, inherited from default</span>\n",
       "<span style=\"color: #BA2121; font-style: italic\">        &quot;cutoff&quot; for `difflib.get_close_matches()`).</span>\n",
       "\n",
       "<span style=\"color: #BA2121; font-style: italic\">    Returns</span>\n",
       "<span style=\"color: #BA2121; font-style: italic\">    -------</span>\n",
       "<span style=\"color: #BA2121; font-style: italic\">    lemma : str</span>\n",
       "<span style=\"color: #BA2121; font-style: italic\">        If a lemma for the provided word was identified, it is returned.</span>\n",
       "<span style=\"color: #BA2121; font-style: italic\">        Otherwise, the original word is returned.</span>\n",
       "\n",
       "<span style=\"color: #BA2121; font-style: italic\">    &quot;&quot;&quot;</span>\n",
       "    possible_matches <span style=\"color: #666666\">=</span> []\n",
       "    <span style=\"color: #008000; font-weight: bold\">for</span> synset <span style=\"color: #AA22FF; font-weight: bold\">in</span> wordnet<span style=\"color: #666666\">.</span>synsets(word):\n",
       "        <span style=\"color: #008000; font-weight: bold\">for</span> lemma <span style=\"color: #AA22FF; font-weight: bold\">in</span> synset<span style=\"color: #666666\">.</span>lemmas():\n",
       "            possible_matches<span style=\"color: #666666\">.</span>append(lemma<span style=\"color: #666666\">.</span>name())\n",
       "            <span style=\"color: #008000; font-weight: bold\">for</span> pert <span style=\"color: #AA22FF; font-weight: bold\">in</span> lemma<span style=\"color: #666666\">.</span>pertainyms():\n",
       "                possible_matches<span style=\"color: #666666\">.</span>append(pert<span style=\"color: #666666\">.</span>name())\n",
       "\n",
       "    possible_matches <span style=\"color: #666666\">=</span> <span style=\"color: #008000\">list</span>(<span style=\"color: #008000\">set</span>(possible_matches))\n",
       "    possible_matches <span style=\"color: #666666\">=</span> [m<span style=\"color: #666666\">.</span>lower() <span style=\"color: #008000; font-weight: bold\">for</span> m <span style=\"color: #AA22FF; font-weight: bold\">in</span> possible_matches <span style=\"color: #008000; font-weight: bold\">if</span> <span style=\"color: #008000\">len</span>(m) <span style=\"color: #666666\">&lt;=</span> <span style=\"color: #008000\">len</span>(word)]\n",
       "    <span style=\"color: #3D7B7B; font-style: italic\"># sort by similarity to word</span>\n",
       "    close_matches <span style=\"color: #666666\">=</span> get_close_matches(word, possible_matches, n<span style=\"color: #666666\">=2</span>, cutoff<span style=\"color: #666666\">=</span>min_similarity)\n",
       "    <span style=\"color: #008000; font-weight: bold\">if</span> <span style=\"color: #008000\">len</span>(close_matches) <span style=\"color: #666666\">==</span> <span style=\"color: #666666\">0</span>:\n",
       "        <span style=\"color: #008000; font-weight: bold\">return</span> word\n",
       "    <span style=\"color: #3D7B7B; font-style: italic\"># if original word was in synset lemmas and the second closest possibility is shorter, use that</span>\n",
       "    <span style=\"color: #008000; font-weight: bold\">elif</span> (close_matches[<span style=\"color: #666666\">0</span>] <span style=\"color: #666666\">==</span> word) <span style=\"color: #AA22FF; font-weight: bold\">and</span> (<span style=\"color: #008000\">len</span>(close_matches) <span style=\"color: #666666\">&gt;</span> <span style=\"color: #666666\">1</span>) <span style=\"color: #AA22FF; font-weight: bold\">and</span> (<span style=\"color: #008000\">len</span>(close_matches[<span style=\"color: #666666\">1</span>]) <span style=\"color: #666666\">&lt;</span> <span style=\"color: #008000\">len</span>(word)):\n",
       "        <span style=\"color: #008000; font-weight: bold\">return</span> close_matches[<span style=\"color: #666666\">1</span>]\n",
       "    <span style=\"color: #008000; font-weight: bold\">else</span>:\n",
       "        <span style=\"color: #008000; font-weight: bold\">return</span> close_matches[<span style=\"color: #666666\">0</span>]\n",
       "</pre></div>\n"
      ],
      "text/plain": [
       "<IPython.core.display.HTML object>"
      ]
     },
     "execution_count": 4,
     "metadata": {},
     "output_type": "execute_result"
    }
   ],
   "source": [
    "show_source(synset_match)"
   ]
  },
  {
   "cell_type": "code",
   "execution_count": 5,
   "metadata": {
    "ExecuteTime": {
     "end_time": "2023-01-26T06:31:46.002653Z",
     "start_time": "2023-01-26T06:31:45.996883Z"
    },
    "scrolled": true
   },
   "outputs": [
    {
     "data": {
      "text/html": [
       "<div class=\"highlight\" style=\"background: #f8f8f8\"><pre style=\"line-height: 125%;\"><span></span><span style=\"color: #008000; font-weight: bold\">def</span> <span style=\"color: #0000FF\">parse_windows</span>(transcript, wsize<span style=\"color: #666666\">=</span>LECTURE_WSIZE):\n",
       "    <span style=\"color: #BA2121; font-style: italic\">&quot;&quot;&quot;</span>\n",
       "<span style=\"color: #BA2121; font-style: italic\">    Formats lecture transcripts as overlapping sliding windows to feed</span>\n",
       "<span style=\"color: #BA2121; font-style: italic\">    as documents to topic model.  Also assigns a timestamp to each</span>\n",
       "<span style=\"color: #BA2121; font-style: italic\">    window used for interpolating the topic trajectory.</span>\n",
       "\n",
       "<span style=\"color: #BA2121; font-style: italic\">    Parameters</span>\n",
       "<span style=\"color: #BA2121; font-style: italic\">    ----------</span>\n",
       "<span style=\"color: #BA2121; font-style: italic\">    transcript : str</span>\n",
       "<span style=\"color: #BA2121; font-style: italic\">        The lecture transcript as a single string, with alternating,</span>\n",
       "<span style=\"color: #BA2121; font-style: italic\">        &#39;\\n&#39;-separated lines of timestamps and transcribed speech.</span>\n",
       "<span style=\"color: #BA2121; font-style: italic\">    wsize : int, optional</span>\n",
       "<span style=\"color: #BA2121; font-style: italic\">        The number of text lines comprising each sliding window (with</span>\n",
       "<span style=\"color: #BA2121; font-style: italic\">        tapering window sizes at the beginning and end).  Defaults to</span>\n",
       "<span style=\"color: #BA2121; font-style: italic\">        the window size chosen by the parameter optimization.</span>\n",
       "\n",
       "<span style=\"color: #BA2121; font-style: italic\">    Returns</span>\n",
       "<span style=\"color: #BA2121; font-style: italic\">    -------</span>\n",
       "<span style=\"color: #BA2121; font-style: italic\">    windows : list of str</span>\n",
       "<span style=\"color: #BA2121; font-style: italic\">        The overlapping sliding windows.</span>\n",
       "<span style=\"color: #BA2121; font-style: italic\">    timestamps : list of int</span>\n",
       "<span style=\"color: #BA2121; font-style: italic\">        The timestamps corresponding to each window.</span>\n",
       "\n",
       "<span style=\"color: #BA2121; font-style: italic\">    &quot;&quot;&quot;</span>\n",
       "    lines <span style=\"color: #666666\">=</span> transcript<span style=\"color: #666666\">.</span>splitlines()\n",
       "    text_lines <span style=\"color: #666666\">=</span> lines[<span style=\"color: #666666\">1</span>::<span style=\"color: #666666\">2</span>]\n",
       "    ts_lines <span style=\"color: #666666\">=</span> <span style=\"color: #008000\">list</span>(<span style=\"color: #008000\">map</span>(_ts_to_sec, lines[::<span style=\"color: #666666\">2</span>]))\n",
       "    <span style=\"color: #3D7B7B; font-style: italic\"># linearly shift all timestamps so the first one is 0s</span>\n",
       "    ts_lines <span style=\"color: #666666\">=</span> [ts <span style=\"color: #666666\">-</span> ts_lines[<span style=\"color: #666666\">0</span>] <span style=\"color: #008000; font-weight: bold\">for</span> ts <span style=\"color: #AA22FF; font-weight: bold\">in</span> ts_lines]\n",
       "\n",
       "    windows <span style=\"color: #666666\">=</span> []\n",
       "    timestamps <span style=\"color: #666666\">=</span> []\n",
       "    <span style=\"color: #008000; font-weight: bold\">for</span> ix <span style=\"color: #AA22FF; font-weight: bold\">in</span> <span style=\"color: #008000\">range</span>(<span style=\"color: #666666\">1</span>, wsize):\n",
       "        start, end <span style=\"color: #666666\">=</span> <span style=\"color: #666666\">0</span>, ix\n",
       "        windows<span style=\"color: #666666\">.</span>append(<span style=\"color: #BA2121\">&#39; &#39;</span><span style=\"color: #666666\">.</span>join(text_lines[start:end]))\n",
       "        <span style=\"color: #3D7B7B; font-style: italic\"># each window assigned to midpoint between onset of first line and ONSET of last line</span>\n",
       "        timestamps<span style=\"color: #666666\">.</span>append((ts_lines[start] <span style=\"color: #666666\">+</span> ts_lines[end <span style=\"color: #666666\">-</span> <span style=\"color: #666666\">1</span>]) <span style=\"color: #666666\">/</span> <span style=\"color: #666666\">2</span>)\n",
       "\n",
       "        <span style=\"color: #3D7B7B; font-style: italic\"># TODO: remove if unused. Keeping for memory for now</span>\n",
       "        <span style=\"color: #3D7B7B; font-style: italic\"># each window assigned to midpoint between onset of first line and OFFSET of last line</span>\n",
       "        <span style=\"color: #3D7B7B; font-style: italic\"># timestamps.append((ts_lines[start] + ts_lines[end]) / 2)</span>\n",
       "\n",
       "    <span style=\"color: #008000; font-weight: bold\">for</span> ix <span style=\"color: #AA22FF; font-weight: bold\">in</span> <span style=\"color: #008000\">range</span>(<span style=\"color: #008000\">len</span>(ts_lines)):\n",
       "        start <span style=\"color: #666666\">=</span> ix\n",
       "        end <span style=\"color: #666666\">=</span> ix <span style=\"color: #666666\">+</span> wsize <span style=\"color: #008000; font-weight: bold\">if</span> ix <span style=\"color: #666666\">+</span> wsize <span style=\"color: #666666\">&lt;=</span> <span style=\"color: #008000\">len</span>(text_lines) <span style=\"color: #008000; font-weight: bold\">else</span> <span style=\"color: #008000\">len</span>(text_lines)\n",
       "        windows<span style=\"color: #666666\">.</span>append(<span style=\"color: #BA2121\">&#39; &#39;</span><span style=\"color: #666666\">.</span>join(text_lines[start:end]))\n",
       "        timestamps<span style=\"color: #666666\">.</span>append((ts_lines[start] <span style=\"color: #666666\">+</span> ts_lines[end <span style=\"color: #666666\">-</span> <span style=\"color: #666666\">1</span>]) <span style=\"color: #666666\">/</span> <span style=\"color: #666666\">2</span>)\n",
       "\n",
       "    <span style=\"color: #008000; font-weight: bold\">return</span> windows, timestamps\n",
       "</pre></div>\n"
      ],
      "text/plain": [
       "<IPython.core.display.HTML object>"
      ]
     },
     "execution_count": 5,
     "metadata": {},
     "output_type": "execute_result"
    }
   ],
   "source": [
    "show_source(parse_windows)"
   ]
  },
  {
   "cell_type": "code",
   "execution_count": 6,
   "metadata": {
    "ExecuteTime": {
     "end_time": "2023-01-26T06:31:46.007585Z",
     "start_time": "2023-01-26T06:31:46.003748Z"
    }
   },
   "outputs": [
    {
     "data": {
      "text/html": [
       "<div class=\"highlight\" style=\"background: #f8f8f8\"><pre style=\"line-height: 125%;\"><span></span><span style=\"color: #008000; font-weight: bold\">def</span> <span style=\"color: #0000FF\">_ts_to_sec</span>(ts):\n",
       "    <span style=\"color: #3D7B7B; font-style: italic\"># converts timestamp of elapsed time from &quot;MM:SS&quot; format to scalar</span>\n",
       "    mins, secs <span style=\"color: #666666\">=</span> ts<span style=\"color: #666666\">.</span>split(<span style=\"color: #BA2121\">&#39;:&#39;</span>)\n",
       "    <span style=\"color: #008000; font-weight: bold\">return</span> timedelta(minutes<span style=\"color: #666666\">=</span><span style=\"color: #008000\">int</span>(mins), seconds<span style=\"color: #666666\">=</span><span style=\"color: #008000\">float</span>(secs))<span style=\"color: #666666\">.</span>total_seconds()\n",
       "</pre></div>\n"
      ],
      "text/plain": [
       "<IPython.core.display.HTML object>"
      ]
     },
     "execution_count": 6,
     "metadata": {},
     "output_type": "execute_result"
    }
   ],
   "source": [
    "show_source(_ts_to_sec)"
   ]
  },
  {
   "cell_type": "code",
   "execution_count": 7,
   "metadata": {
    "ExecuteTime": {
     "end_time": "2023-01-26T06:31:46.012097Z",
     "start_time": "2023-01-26T06:31:46.008373Z"
    },
    "scrolled": true
   },
   "outputs": [
    {
     "data": {
      "text/html": [
       "<div class=\"highlight\" style=\"background: #f8f8f8\"><pre style=\"line-height: 125%;\"><span></span><span style=\"color: #008000; font-weight: bold\">def</span> <span style=\"color: #0000FF\">interp_lecture</span>(lec_traj, timestamps):\n",
       "    <span style=\"color: #BA2121; font-style: italic\">&quot;&quot;&quot;</span>\n",
       "<span style=\"color: #BA2121; font-style: italic\">    Interpolates a lecture&#39;s topic trajectory to a resolution of 1</span>\n",
       "<span style=\"color: #BA2121; font-style: italic\">    vector per second.</span>\n",
       "\n",
       "<span style=\"color: #BA2121; font-style: italic\">    Parameters</span>\n",
       "<span style=\"color: #BA2121; font-style: italic\">    ----------</span>\n",
       "<span style=\"color: #BA2121; font-style: italic\">    lec_traj : numpy.ndarray</span>\n",
       "<span style=\"color: #BA2121; font-style: italic\">        A (timepoints, topics) array with a topic vector for each</span>\n",
       "<span style=\"color: #BA2121; font-style: italic\">        sliding window.</span>\n",
       "<span style=\"color: #BA2121; font-style: italic\">    timestamps : array_like</span>\n",
       "<span style=\"color: #BA2121; font-style: italic\">        A 1-D array of timestamps for each sliding window.</span>\n",
       "\n",
       "<span style=\"color: #BA2121; font-style: italic\">    Returns</span>\n",
       "<span style=\"color: #BA2121; font-style: italic\">    -------</span>\n",
       "<span style=\"color: #BA2121; font-style: italic\">    traj_interp : numpy.ndarray</span>\n",
       "<span style=\"color: #BA2121; font-style: italic\">        A (timepoints, topics) array with a topic vector for each second.</span>\n",
       "\n",
       "<span style=\"color: #BA2121; font-style: italic\">    &quot;&quot;&quot;</span>\n",
       "    new_tpts <span style=\"color: #666666\">=</span> np<span style=\"color: #666666\">.</span>arange(timestamps[<span style=\"color: #666666\">-1</span>])\n",
       "    interp_func <span style=\"color: #666666\">=</span> interp1d(timestamps, lec_traj, axis<span style=\"color: #666666\">=0</span>, fill_value<span style=\"color: #666666\">=</span><span style=\"color: #BA2121\">&#39;extrapolate&#39;</span>)\n",
       "    <span style=\"color: #008000; font-weight: bold\">return</span> interp_func(new_tpts)\n",
       "</pre></div>\n"
      ],
      "text/plain": [
       "<IPython.core.display.HTML object>"
      ]
     },
     "execution_count": 7,
     "metadata": {},
     "output_type": "execute_result"
    }
   ],
   "source": [
    "show_source(interp_lecture)"
   ]
  },
  {
   "cell_type": "code",
   "execution_count": 8,
   "metadata": {
    "ExecuteTime": {
     "end_time": "2023-01-26T06:31:46.023183Z",
     "start_time": "2023-01-26T06:31:46.012984Z"
    },
    "code_folding": [],
    "scrolled": true
   },
   "outputs": [
    {
     "data": {
      "text/html": [
       "<div class=\"highlight\" style=\"background: #f8f8f8\"><pre style=\"line-height: 125%;\"><span></span><span style=\"color: #008000; font-weight: bold\">def</span> <span style=\"color: #0000FF\">multicol_display</span>(<span style=\"color: #666666\">*</span>outputs,\n",
       "                     ncols<span style=\"color: #666666\">=2</span>,\n",
       "                     caption<span style=\"color: #666666\">=</span><span style=\"color: #008000; font-weight: bold\">None</span>,\n",
       "                     col_headers<span style=\"color: #666666\">=</span><span style=\"color: #008000; font-weight: bold\">None</span>,\n",
       "                     table_css<span style=\"color: #666666\">=</span><span style=\"color: #008000; font-weight: bold\">None</span>,\n",
       "                     caption_css<span style=\"color: #666666\">=</span><span style=\"color: #008000; font-weight: bold\">None</span>,\n",
       "                     header_css<span style=\"color: #666666\">=</span><span style=\"color: #008000; font-weight: bold\">None</span>,\n",
       "                     row_css<span style=\"color: #666666\">=</span><span style=\"color: #008000; font-weight: bold\">None</span>,\n",
       "                     cell_css<span style=\"color: #666666\">=</span><span style=\"color: #008000; font-weight: bold\">None</span>):\n",
       "    <span style=\"color: #BA2121; font-style: italic\">&quot;&quot;&quot;</span>\n",
       "<span style=\"color: #BA2121; font-style: italic\">    Renders notebook cell output in multiple side-by-side columns using</span>\n",
       "<span style=\"color: #BA2121; font-style: italic\">    an HTML table.  Accepts a variable number of output items and</span>\n",
       "<span style=\"color: #BA2121; font-style: italic\">    &quot;wraps&quot; the columns into multiple rows if &#39;len(outputs) &gt; ncols&#39;</span>\n",
       "\n",
       "<span style=\"color: #BA2121; font-style: italic\">    Parameters</span>\n",
       "<span style=\"color: #BA2121; font-style: italic\">    ----------</span>\n",
       "<span style=\"color: #BA2121; font-style: italic\">    outputs : Objects</span>\n",
       "<span style=\"color: #BA2121; font-style: italic\">        Objects to be placed in each table cell, passed as positional</span>\n",
       "<span style=\"color: #BA2121; font-style: italic\">        arguments.  May be any Python class that defines a &#39;__str__&#39;</span>\n",
       "<span style=\"color: #BA2121; font-style: italic\">        and/or &#39;__repr__&#39; method.</span>\n",
       "<span style=\"color: #BA2121; font-style: italic\">    ncols : int, optional</span>\n",
       "<span style=\"color: #BA2121; font-style: italic\">        The number of columns for the display (default: 2).  If less</span>\n",
       "<span style=\"color: #BA2121; font-style: italic\">        than the number of outputs passed, the display will include</span>\n",
       "<span style=\"color: #BA2121; font-style: italic\">        multiple rows.</span>\n",
       "<span style=\"color: #BA2121; font-style: italic\">    caption : str, optional</span>\n",
       "<span style=\"color: #BA2121; font-style: italic\">        Text passed to the table&#39;s &#39;&lt;caption&gt;&#39; tag, displayed above the</span>\n",
       "<span style=\"color: #BA2121; font-style: italic\">        table.</span>\n",
       "<span style=\"color: #BA2121; font-style: italic\">    col_headers : list-like of str, optional</span>\n",
       "<span style=\"color: #BA2121; font-style: italic\">        Contents of table header (&#39;&lt;th&gt;&#39;) elements for each column.  If</span>\n",
       "<span style=\"color: #BA2121; font-style: italic\">        passed, must have length equal &#39;ncols&#39;.  If &#39;None&#39; (default),</span>\n",
       "<span style=\"color: #BA2121; font-style: italic\">        table header elements are not created.</span>\n",
       "<span style=\"color: #BA2121; font-style: italic\">    table_css : dict, optional</span>\n",
       "<span style=\"color: #BA2121; font-style: italic\">        Additional CSS properties to be applied to the outermost</span>\n",
       "<span style=\"color: #BA2121; font-style: italic\">        (&#39;&lt;table&gt;&#39;) element.</span>\n",
       "<span style=\"color: #BA2121; font-style: italic\">    caption_css : dict, optional</span>\n",
       "<span style=\"color: #BA2121; font-style: italic\">        Additional CSS properties to be applied to the table *caption*</span>\n",
       "<span style=\"color: #BA2121; font-style: italic\">        (&#39;&lt;caption&gt;&#39;) element.</span>\n",
       "<span style=\"color: #BA2121; font-style: italic\">    header_css : dict, optional</span>\n",
       "<span style=\"color: #BA2121; font-style: italic\">        Additional CSS properties to be applied to each table *header*</span>\n",
       "<span style=\"color: #BA2121; font-style: italic\">        (&#39;&lt;th&gt;&#39;) element.</span>\n",
       "<span style=\"color: #BA2121; font-style: italic\">    row_css : dict, optional</span>\n",
       "<span style=\"color: #BA2121; font-style: italic\">        Additional CSS properties to be applied to each table *row*</span>\n",
       "<span style=\"color: #BA2121; font-style: italic\">        (&#39;&lt;tr&gt;&#39;) element.</span>\n",
       "<span style=\"color: #BA2121; font-style: italic\">    cell_css : dict, optional</span>\n",
       "<span style=\"color: #BA2121; font-style: italic\">        Additional CSS properties to be applied to each table *cell*</span>\n",
       "<span style=\"color: #BA2121; font-style: italic\">        (&#39;&lt;td&gt;&#39;) element.</span>\n",
       "\n",
       "<span style=\"color: #BA2121; font-style: italic\">    Returns</span>\n",
       "<span style=\"color: #BA2121; font-style: italic\">    -------</span>\n",
       "<span style=\"color: #BA2121; font-style: italic\">    None</span>\n",
       "<span style=\"color: #BA2121; font-style: italic\">        The HTML table is displayed inline in the notebook.</span>\n",
       "\n",
       "<span style=\"color: #BA2121; font-style: italic\">    &quot;&quot;&quot;</span>\n",
       "    <span style=\"color: #008000; font-weight: bold\">def</span> <span style=\"color: #0000FF\">_fmt_python_types</span>(obj):\n",
       "        <span style=\"color: #3D7B7B; font-style: italic\"># formats some common Python objects for display</span>\n",
       "        <span style=\"color: #008000; font-weight: bold\">if</span> <span style=\"color: #008000\">isinstance</span>(obj, <span style=\"color: #008000\">str</span>):\n",
       "            <span style=\"color: #008000; font-weight: bold\">return</span> obj<span style=\"color: #666666\">.</span>replace(<span style=\"color: #BA2121\">&#39;</span><span style=\"color: #AA5D1F; font-weight: bold\">\\n</span><span style=\"color: #BA2121\">&#39;</span>, <span style=\"color: #BA2121\">&#39;&lt;br&gt;&#39;</span>)\n",
       "        <span style=\"color: #008000; font-weight: bold\">elif</span> <span style=\"color: #008000\">isinstance</span>(obj, (<span style=\"color: #008000\">int</span>, <span style=\"color: #008000\">float</span>)):\n",
       "            <span style=\"color: #008000; font-weight: bold\">return</span> <span style=\"color: #008000\">str</span>(obj)\n",
       "        <span style=\"color: #008000; font-weight: bold\">elif</span> (<span style=\"color: #008000\">isinstance</span>(obj, (<span style=\"color: #008000\">list</span>, <span style=\"color: #008000\">tuple</span>, <span style=\"color: #008000\">set</span>, Iterator))\n",
       "              <span style=\"color: #AA22FF; font-weight: bold\">or</span> <span style=\"color: #008000\">type</span>(obj)<span style=\"color: #666666\">.</span><span style=\"color: #19177C\">__module__</span> <span style=\"color: #666666\">==</span> <span style=\"color: #BA2121\">&#39;numpy&#39;</span>):\n",
       "            <span style=\"color: #008000; font-weight: bold\">return</span> <span style=\"color: #BA2121\">&#39;, &#39;</span><span style=\"color: #666666\">.</span>join(obj)\n",
       "        <span style=\"color: #008000; font-weight: bold\">elif</span> <span style=\"color: #008000\">isinstance</span>(obj, <span style=\"color: #008000\">dict</span>):\n",
       "            <span style=\"color: #008000; font-weight: bold\">return</span> <span style=\"color: #BA2121\">&#39;&lt;br&gt;&lt;br&gt;&#39;</span><span style=\"color: #666666\">.</span>join(<span style=\"color: #BA2121\">f&#39;&lt;b&gt;</span><span style=\"color: #A45A77; font-weight: bold\">{</span>k<span style=\"color: #A45A77; font-weight: bold\">}</span><span style=\"color: #BA2121\">&lt;/b&gt;:&amp;emsp;</span><span style=\"color: #A45A77; font-weight: bold\">{</span>_fmt_python_types(v)<span style=\"color: #A45A77; font-weight: bold\">}</span><span style=\"color: #BA2121\">&#39;</span>\n",
       "                                   <span style=\"color: #008000; font-weight: bold\">for</span> k, v <span style=\"color: #AA22FF; font-weight: bold\">in</span> obj<span style=\"color: #666666\">.</span>items())\n",
       "        <span style=\"color: #008000; font-weight: bold\">elif</span> <span style=\"color: #008000\">isinstance</span>(obj, pd<span style=\"color: #666666\">.</span>DataFrame):\n",
       "            <span style=\"color: #008000; font-weight: bold\">return</span> obj<span style=\"color: #666666\">.</span>to_html()\n",
       "        <span style=\"color: #008000; font-weight: bold\">else</span>:\n",
       "            <span style=\"color: #008000; font-weight: bold\">return</span> obj\n",
       "\n",
       "    <span style=\"color: #008000; font-weight: bold\">if</span> col_headers <span style=\"color: #AA22FF; font-weight: bold\">is</span> <span style=\"color: #008000; font-weight: bold\">None</span>:\n",
       "        col_headers <span style=\"color: #666666\">=</span> []\n",
       "    <span style=\"color: #008000; font-weight: bold\">else</span>:\n",
       "        <span style=\"color: #008000; font-weight: bold\">assert</span> <span style=\"color: #008000\">hasattr</span>(col_headers, <span style=\"color: #BA2121\">&#39;__iter__&#39;</span>) <span style=\"color: #AA22FF; font-weight: bold\">and</span> <span style=\"color: #008000\">len</span>(col_headers) <span style=\"color: #666666\">==</span> ncols\n",
       "\n",
       "    outs_fmt <span style=\"color: #666666\">=</span> []\n",
       "    <span style=\"color: #008000; font-weight: bold\">for</span> out <span style=\"color: #AA22FF; font-weight: bold\">in</span> outputs:\n",
       "        outs_fmt<span style=\"color: #666666\">.</span>append(_fmt_python_types(out))\n",
       "\n",
       "    table_css <span style=\"color: #666666\">=</span> {} <span style=\"color: #008000; font-weight: bold\">if</span> table_css <span style=\"color: #AA22FF; font-weight: bold\">is</span> <span style=\"color: #008000; font-weight: bold\">None</span> <span style=\"color: #008000; font-weight: bold\">else</span> table_css\n",
       "    caption_css <span style=\"color: #666666\">=</span> {} <span style=\"color: #008000; font-weight: bold\">if</span> caption_css <span style=\"color: #AA22FF; font-weight: bold\">is</span> <span style=\"color: #008000; font-weight: bold\">None</span> <span style=\"color: #008000; font-weight: bold\">else</span> caption_css\n",
       "    header_css <span style=\"color: #666666\">=</span> {} <span style=\"color: #008000; font-weight: bold\">if</span> header_css <span style=\"color: #AA22FF; font-weight: bold\">is</span> <span style=\"color: #008000; font-weight: bold\">None</span> <span style=\"color: #008000; font-weight: bold\">else</span> header_css\n",
       "    row_css <span style=\"color: #666666\">=</span> {} <span style=\"color: #008000; font-weight: bold\">if</span> row_css <span style=\"color: #AA22FF; font-weight: bold\">is</span> <span style=\"color: #008000; font-weight: bold\">None</span> <span style=\"color: #008000; font-weight: bold\">else</span> row_css\n",
       "    cell_css <span style=\"color: #666666\">=</span> {} <span style=\"color: #008000; font-weight: bold\">if</span> cell_css <span style=\"color: #AA22FF; font-weight: bold\">is</span> <span style=\"color: #008000; font-weight: bold\">None</span> <span style=\"color: #008000; font-weight: bold\">else</span> cell_css\n",
       "\n",
       "    <span style=\"color: #3D7B7B; font-style: italic\"># set some reasonable default style properties</span>\n",
       "    table_css_defaults <span style=\"color: #666666\">=</span> {\n",
       "        <span style=\"color: #BA2121\">&#39;width&#39;</span>: <span style=\"color: #BA2121\">&#39;100%&#39;</span>,\n",
       "        <span style=\"color: #BA2121\">&#39;border&#39;</span>: <span style=\"color: #BA2121\">&#39;0px&#39;</span>,\n",
       "        <span style=\"color: #BA2121\">&#39;margin-left&#39;</span>: <span style=\"color: #BA2121\">&#39;auto&#39;</span>,\n",
       "        <span style=\"color: #BA2121\">&#39;margin-right&#39;</span>: <span style=\"color: #BA2121\">&#39;auto&#39;</span>\n",
       "    }\n",
       "    caption_css_defaults <span style=\"color: #666666\">=</span> {\n",
       "        <span style=\"color: #BA2121\">&#39;color&#39;</span>: <span style=\"color: #BA2121\">&#39;unset&#39;</span>,\n",
       "        <span style=\"color: #BA2121\">&#39;text-align&#39;</span>: <span style=\"color: #BA2121\">&#39;center&#39;</span>,\n",
       "        <span style=\"color: #BA2121\">&#39;font-size&#39;</span>: <span style=\"color: #BA2121\">&#39;2em&#39;</span>,\n",
       "        <span style=\"color: #BA2121\">&#39;font-weight&#39;</span>: <span style=\"color: #BA2121\">&#39;bold&#39;</span>\n",
       "    }\n",
       "    header_css_defaults <span style=\"color: #666666\">=</span> {\n",
       "        <span style=\"color: #BA2121\">&#39;border&#39;</span>: <span style=\"color: #BA2121\">&#39;0px&#39;</span>,\n",
       "        <span style=\"color: #BA2121\">&#39;font-size&#39;</span>: <span style=\"color: #BA2121\">&#39;16px&#39;</span>,\n",
       "        <span style=\"color: #BA2121\">&#39;text-align&#39;</span>: <span style=\"color: #BA2121\">&#39;center&#39;</span>\n",
       "    }\n",
       "    row_css_defaults <span style=\"color: #666666\">=</span> {<span style=\"color: #BA2121\">&#39;border&#39;</span>: <span style=\"color: #BA2121\">&#39;0px&#39;</span>}\n",
       "    cell_css_defaults <span style=\"color: #666666\">=</span> {\n",
       "        <span style=\"color: #BA2121\">&#39;border&#39;</span>: <span style=\"color: #BA2121\">&#39;0px&#39;</span>,\n",
       "        <span style=\"color: #BA2121\">&#39;width&#39;</span>: <span style=\"color: #BA2121\">f&#39;</span><span style=\"color: #A45A77; font-weight: bold\">{</span><span style=\"color: #666666\">100</span> <span style=\"color: #666666\">/</span> ncols<span style=\"color: #A45A77; font-weight: bold\">}</span><span style=\"color: #BA2121\">%&#39;</span>,\n",
       "        <span style=\"color: #BA2121\">&#39;vertical-align&#39;</span>: <span style=\"color: #BA2121\">&#39;top&#39;</span>,\n",
       "        <span style=\"color: #BA2121\">&#39;font-size&#39;</span>: <span style=\"color: #BA2121\">&#39;14px&#39;</span>,\n",
       "        <span style=\"color: #BA2121\">&#39;text-align&#39;</span>: <span style=\"color: #BA2121\">&#39;center&#39;</span>\n",
       "    }\n",
       "\n",
       "    <span style=\"color: #3D7B7B; font-style: italic\"># update/overwrite style defaults with passed properties</span>\n",
       "    table_css <span style=\"color: #666666\">=</span> <span style=\"color: #008000\">dict</span>(table_css_defaults, <span style=\"color: #666666\">**</span>table_css)\n",
       "    caption_css <span style=\"color: #666666\">=</span> <span style=\"color: #008000\">dict</span>(caption_css_defaults, <span style=\"color: #666666\">**</span>caption_css)\n",
       "    header_css <span style=\"color: #666666\">=</span> <span style=\"color: #008000\">dict</span>(header_css_defaults, <span style=\"color: #666666\">**</span>header_css)\n",
       "    row_css <span style=\"color: #666666\">=</span> <span style=\"color: #008000\">dict</span>(row_css_defaults, <span style=\"color: #666666\">**</span>row_css)\n",
       "    cell_css <span style=\"color: #666666\">=</span> <span style=\"color: #008000\">dict</span>(cell_css_defaults, <span style=\"color: #666666\">**</span>cell_css)\n",
       "\n",
       "    <span style=\"color: #3D7B7B; font-style: italic\"># format for string replacement in style tag</span>\n",
       "    table_style <span style=\"color: #666666\">=</span> <span style=\"color: #BA2121\">&quot;;&quot;</span><span style=\"color: #666666\">.</span>join(<span style=\"color: #BA2121\">f&quot;</span><span style=\"color: #A45A77; font-weight: bold\">{</span>prop<span style=\"color: #A45A77; font-weight: bold\">}</span><span style=\"color: #BA2121\">:</span><span style=\"color: #A45A77; font-weight: bold\">{</span>val<span style=\"color: #A45A77; font-weight: bold\">}</span><span style=\"color: #BA2121\">&quot;</span> <span style=\"color: #008000; font-weight: bold\">for</span> prop, val <span style=\"color: #AA22FF; font-weight: bold\">in</span> table_css<span style=\"color: #666666\">.</span>items())\n",
       "    caption_style <span style=\"color: #666666\">=</span> <span style=\"color: #BA2121\">&quot;;&quot;</span><span style=\"color: #666666\">.</span>join(<span style=\"color: #BA2121\">f&quot;</span><span style=\"color: #A45A77; font-weight: bold\">{</span>prop<span style=\"color: #A45A77; font-weight: bold\">}</span><span style=\"color: #BA2121\">:</span><span style=\"color: #A45A77; font-weight: bold\">{</span>val<span style=\"color: #A45A77; font-weight: bold\">}</span><span style=\"color: #BA2121\">&quot;</span> <span style=\"color: #008000; font-weight: bold\">for</span> prop, val <span style=\"color: #AA22FF; font-weight: bold\">in</span> caption_css<span style=\"color: #666666\">.</span>items())\n",
       "    header_style <span style=\"color: #666666\">=</span> <span style=\"color: #BA2121\">&quot;;&quot;</span><span style=\"color: #666666\">.</span>join(<span style=\"color: #BA2121\">f&quot;</span><span style=\"color: #A45A77; font-weight: bold\">{</span>prop<span style=\"color: #A45A77; font-weight: bold\">}</span><span style=\"color: #BA2121\">:</span><span style=\"color: #A45A77; font-weight: bold\">{</span>val<span style=\"color: #A45A77; font-weight: bold\">}</span><span style=\"color: #BA2121\">&quot;</span> <span style=\"color: #008000; font-weight: bold\">for</span> prop, val <span style=\"color: #AA22FF; font-weight: bold\">in</span> header_css<span style=\"color: #666666\">.</span>items())\n",
       "    row_style <span style=\"color: #666666\">=</span> <span style=\"color: #BA2121\">&quot;;&quot;</span><span style=\"color: #666666\">.</span>join(<span style=\"color: #BA2121\">f&quot;</span><span style=\"color: #A45A77; font-weight: bold\">{</span>prop<span style=\"color: #A45A77; font-weight: bold\">}</span><span style=\"color: #BA2121\">:</span><span style=\"color: #A45A77; font-weight: bold\">{</span>val<span style=\"color: #A45A77; font-weight: bold\">}</span><span style=\"color: #BA2121\">&quot;</span> <span style=\"color: #008000; font-weight: bold\">for</span> prop, val <span style=\"color: #AA22FF; font-weight: bold\">in</span> row_css<span style=\"color: #666666\">.</span>items())\n",
       "    cell_style <span style=\"color: #666666\">=</span> <span style=\"color: #BA2121\">&quot;;&quot;</span><span style=\"color: #666666\">.</span>join(<span style=\"color: #BA2121\">f&quot;</span><span style=\"color: #A45A77; font-weight: bold\">{</span>prop<span style=\"color: #A45A77; font-weight: bold\">}</span><span style=\"color: #BA2121\">:</span><span style=\"color: #A45A77; font-weight: bold\">{</span>val<span style=\"color: #A45A77; font-weight: bold\">}</span><span style=\"color: #BA2121\">&quot;</span> <span style=\"color: #008000; font-weight: bold\">for</span> prop, val <span style=\"color: #AA22FF; font-weight: bold\">in</span> cell_css<span style=\"color: #666666\">.</span>items())\n",
       "\n",
       "    <span style=\"color: #3D7B7B; font-style: italic\"># string templates for individual elements</span>\n",
       "    html_table <span style=\"color: #666666\">=</span> <span style=\"color: #BA2121\">f&quot;&lt;table style=</span><span style=\"color: #A45A77; font-weight: bold\">{</span>table_style<span style=\"color: #A45A77; font-weight: bold\">}</span><span style=\"color: #BA2121\">&gt;</span><span style=\"color: #AA5D1F; font-weight: bold\">{{</span><span style=\"color: #BA2121\">caption</span><span style=\"color: #AA5D1F; font-weight: bold\">}}{{</span><span style=\"color: #BA2121\">header</span><span style=\"color: #AA5D1F; font-weight: bold\">}}{{</span><span style=\"color: #BA2121\">content</span><span style=\"color: #AA5D1F; font-weight: bold\">}}</span><span style=\"color: #BA2121\">&lt;/table&gt;&quot;</span>\n",
       "    html_caption <span style=\"color: #666666\">=</span> <span style=\"color: #BA2121\">f&quot;&lt;caption style=</span><span style=\"color: #A45A77; font-weight: bold\">{</span>caption_style<span style=\"color: #A45A77; font-weight: bold\">}</span><span style=\"color: #BA2121\">&gt;</span><span style=\"color: #AA5D1F; font-weight: bold\">{{</span><span style=\"color: #BA2121\">content</span><span style=\"color: #AA5D1F; font-weight: bold\">}}</span><span style=\"color: #BA2121\">&lt;/caption&gt;&quot;</span>\n",
       "    html_header <span style=\"color: #666666\">=</span> <span style=\"color: #BA2121\">f&quot;&lt;th style=</span><span style=\"color: #A45A77; font-weight: bold\">{</span>header_style<span style=\"color: #A45A77; font-weight: bold\">}</span><span style=\"color: #BA2121\">&gt;</span><span style=\"color: #AA5D1F; font-weight: bold\">{{</span><span style=\"color: #BA2121\">content</span><span style=\"color: #AA5D1F; font-weight: bold\">}}</span><span style=\"color: #BA2121\">&lt;/th&gt;&quot;</span>\n",
       "    html_row <span style=\"color: #666666\">=</span> <span style=\"color: #BA2121\">f&quot;&lt;tr style=</span><span style=\"color: #A45A77; font-weight: bold\">{</span>row_style<span style=\"color: #A45A77; font-weight: bold\">}</span><span style=\"color: #BA2121\">&gt;</span><span style=\"color: #AA5D1F; font-weight: bold\">{{</span><span style=\"color: #BA2121\">content</span><span style=\"color: #AA5D1F; font-weight: bold\">}}</span><span style=\"color: #BA2121\">&lt;/tr&gt;&quot;</span>\n",
       "    html_cell <span style=\"color: #666666\">=</span> <span style=\"color: #BA2121\">f&quot;&lt;td style=</span><span style=\"color: #A45A77; font-weight: bold\">{</span>cell_style<span style=\"color: #A45A77; font-weight: bold\">}</span><span style=\"color: #BA2121\">&gt;</span><span style=\"color: #AA5D1F; font-weight: bold\">{{</span><span style=\"color: #BA2121\">content</span><span style=\"color: #AA5D1F; font-weight: bold\">}}</span><span style=\"color: #BA2121\">&lt;/td&gt;&quot;</span>\n",
       "\n",
       "    <span style=\"color: #3D7B7B; font-style: italic\"># fill element templates with content</span>\n",
       "    cap <span style=\"color: #666666\">=</span> html_caption<span style=\"color: #666666\">.</span>format(content<span style=\"color: #666666\">=</span>caption) <span style=\"color: #008000; font-weight: bold\">if</span> caption <span style=\"color: #AA22FF; font-weight: bold\">is</span> <span style=\"color: #AA22FF; font-weight: bold\">not</span> <span style=\"color: #008000; font-weight: bold\">None</span> <span style=\"color: #008000; font-weight: bold\">else</span> <span style=\"color: #BA2121\">&#39;&#39;</span>\n",
       "    headers <span style=\"color: #666666\">=</span> [html_header<span style=\"color: #666666\">.</span>format(content<span style=\"color: #666666\">=</span>h) <span style=\"color: #008000; font-weight: bold\">for</span> h <span style=\"color: #AA22FF; font-weight: bold\">in</span> col_headers]\n",
       "    cells <span style=\"color: #666666\">=</span> [html_cell<span style=\"color: #666666\">.</span>format(content<span style=\"color: #666666\">=</span>out) <span style=\"color: #008000; font-weight: bold\">for</span> out <span style=\"color: #AA22FF; font-weight: bold\">in</span> outs_fmt]\n",
       "    rows <span style=\"color: #666666\">=</span> [html_row<span style=\"color: #666666\">.</span>format(content<span style=\"color: #666666\">=</span><span style=\"color: #BA2121\">&quot;&quot;</span><span style=\"color: #666666\">.</span>join(cells[i:i<span style=\"color: #666666\">+</span>ncols])) <span style=\"color: #008000; font-weight: bold\">for</span> i <span style=\"color: #AA22FF; font-weight: bold\">in</span> <span style=\"color: #008000\">range</span>(<span style=\"color: #666666\">0</span>, <span style=\"color: #008000\">len</span>(cells), ncols)]\n",
       "    <span style=\"color: #3D7B7B; font-style: italic\"># render notebook display cell</span>\n",
       "    display(HTML(html_table<span style=\"color: #666666\">.</span>format(caption<span style=\"color: #666666\">=</span>cap,\n",
       "                                   header<span style=\"color: #666666\">=</span><span style=\"color: #BA2121\">&quot;&quot;</span><span style=\"color: #666666\">.</span>join(headers),\n",
       "                                   content<span style=\"color: #666666\">=</span><span style=\"color: #BA2121\">&quot;&quot;</span><span style=\"color: #666666\">.</span>join(rows))))\n",
       "</pre></div>\n"
      ],
      "text/plain": [
       "<IPython.core.display.HTML object>"
      ]
     },
     "execution_count": 8,
     "metadata": {},
     "output_type": "execute_result"
    }
   ],
   "source": [
    "show_source(multicol_display)"
   ]
  },
  {
   "cell_type": "code",
   "execution_count": 9,
   "metadata": {
    "ExecuteTime": {
     "end_time": "2023-01-26T06:31:46.029294Z",
     "start_time": "2023-01-26T06:31:46.024694Z"
    }
   },
   "outputs": [
    {
     "data": {
      "text/html": [
       "<div class=\"highlight\" style=\"background: #f8f8f8\"><pre style=\"line-height: 125%;\"><span></span><span style=\"color: #008000; font-weight: bold\">def</span> <span style=\"color: #0000FF\">set_figure_style</span>():\n",
       "    <span style=\"color: #3D7B7B; font-style: italic\"># embed text in PDFs for illustrator</span>\n",
       "    plt<span style=\"color: #666666\">.</span>rcParams[<span style=\"color: #BA2121\">&#39;pdf.fonttype&#39;</span>] <span style=\"color: #666666\">=</span> <span style=\"color: #666666\">42</span>\n",
       "\n",
       "    <span style=\"color: #3D7B7B; font-style: italic\"># use Myriad Pro font, if available</span>\n",
       "    <span style=\"color: #008000; font-weight: bold\">if</span> FONTS_DIR<span style=\"color: #666666\">.</span>is_dir() <span style=\"color: #AA22FF; font-weight: bold\">and</span> <span style=\"color: #008000\">next</span>(FONTS_DIR<span style=\"color: #666666\">.</span>iterdir(), <span style=\"color: #008000; font-weight: bold\">None</span>) <span style=\"color: #AA22FF; font-weight: bold\">is</span> <span style=\"color: #AA22FF; font-weight: bold\">not</span> <span style=\"color: #008000; font-weight: bold\">None</span>:\n",
       "        myriad_pro_fonts <span style=\"color: #666666\">=</span> [f <span style=\"color: #008000; font-weight: bold\">for</span> f <span style=\"color: #AA22FF; font-weight: bold\">in</span> font_manager<span style=\"color: #666666\">.</span>fontManager<span style=\"color: #666666\">.</span>ttflist\n",
       "                            <span style=\"color: #008000; font-weight: bold\">if</span> f<span style=\"color: #666666\">.</span>name <span style=\"color: #666666\">==</span> <span style=\"color: #BA2121\">&#39;Myriad Pro&#39;</span>]\n",
       "        <span style=\"color: #008000; font-weight: bold\">if</span> <span style=\"color: #008000\">len</span>(myriad_pro_fonts) <span style=\"color: #666666\">==</span> <span style=\"color: #666666\">0</span>:\n",
       "            <span style=\"color: #008000; font-weight: bold\">for</span> font_file <span style=\"color: #AA22FF; font-weight: bold\">in</span> font_manager<span style=\"color: #666666\">.</span>findSystemFonts(fontpaths<span style=\"color: #666666\">=</span>[FONTS_DIR]):\n",
       "                font_manager<span style=\"color: #666666\">.</span>fontManager<span style=\"color: #666666\">.</span>addfont(font_file)\n",
       "\n",
       "        plt<span style=\"color: #666666\">.</span>rcParams[<span style=\"color: #BA2121\">&#39;font.family&#39;</span>] <span style=\"color: #666666\">=</span> <span style=\"color: #BA2121\">&#39;sans-serif&#39;</span>\n",
       "        plt<span style=\"color: #666666\">.</span>rcParams[<span style=\"color: #BA2121\">&#39;font.sans-serif&#39;</span>] <span style=\"color: #666666\">=</span> ([<span style=\"color: #BA2121\">&#39;Myriad Pro&#39;</span>]\n",
       "                                           <span style=\"color: #666666\">+</span> plt<span style=\"color: #666666\">.</span>rcParams[<span style=\"color: #BA2121\">&#39;font.sans-serif&#39;</span>])\n",
       "</pre></div>\n"
      ],
      "text/plain": [
       "<IPython.core.display.HTML object>"
      ]
     },
     "execution_count": 9,
     "metadata": {},
     "output_type": "execute_result"
    }
   ],
   "source": [
    "show_source(set_figure_style)"
   ]
  },
  {
   "cell_type": "code",
   "execution_count": 10,
   "metadata": {
    "ExecuteTime": {
     "end_time": "2023-01-26T06:31:46.034190Z",
     "start_time": "2023-01-26T06:31:46.030301Z"
    },
    "scrolled": true
   },
   "outputs": [
    {
     "data": {
      "text/html": [
       "<div class=\"highlight\" style=\"background: #f8f8f8\"><pre style=\"line-height: 125%;\"><span></span><span style=\"color: #008000; font-weight: bold\">def</span> <span style=\"color: #0000FF\">show_source</span>(obj):\n",
       "    <span style=\"color: #BA2121; font-style: italic\">&quot;&quot;&quot;</span>\n",
       "<span style=\"color: #BA2121; font-style: italic\">    Displays the source code for an object defined outside the current notebook.</span>\n",
       "\n",
       "<span style=\"color: #BA2121; font-style: italic\">    Parameters</span>\n",
       "<span style=\"color: #BA2121; font-style: italic\">    ----------</span>\n",
       "<span style=\"color: #BA2121; font-style: italic\">    obj : Object</span>\n",
       "<span style=\"color: #BA2121; font-style: italic\">        The object to display.  If &#39;obj&#39; is a module, class, method,</span>\n",
       "<span style=\"color: #BA2121; font-style: italic\">        function, traceback, frame, or other code object, its source</span>\n",
       "<span style=\"color: #BA2121; font-style: italic\">        code will be displayed inline with syntax highlighting.</span>\n",
       "<span style=\"color: #BA2121; font-style: italic\">        Otherwise, a string representation of the object will be</span>\n",
       "<span style=\"color: #BA2121; font-style: italic\">        displayed, if available.</span>\n",
       "\n",
       "<span style=\"color: #BA2121; font-style: italic\">    Returns</span>\n",
       "<span style=\"color: #BA2121; font-style: italic\">    -------</span>\n",
       "<span style=\"color: #BA2121; font-style: italic\">    None</span>\n",
       "<span style=\"color: #BA2121; font-style: italic\">        The source code or object is displayed inline in the notebook.</span>\n",
       "\n",
       "<span style=\"color: #BA2121; font-style: italic\">    &quot;&quot;&quot;</span>\n",
       "    <span style=\"color: #008000; font-weight: bold\">try</span>:\n",
       "        src <span style=\"color: #666666\">=</span> getsource(obj)\n",
       "    <span style=\"color: #008000; font-weight: bold\">except</span> <span style=\"color: #CB3F38; font-weight: bold\">TypeError</span> <span style=\"color: #008000; font-weight: bold\">as</span> e:\n",
       "        <span style=\"color: #3D7B7B; font-style: italic\"># if called on variable, just show its value</span>\n",
       "        src <span style=\"color: #666666\">=</span> obj\n",
       "    <span style=\"color: #008000; font-weight: bold\">try</span>:\n",
       "        <span style=\"color: #008000; font-weight: bold\">return</span> HTML(pylight(src))\n",
       "    <span style=\"color: #008000; font-weight: bold\">except</span> <span style=\"color: #CB3F38; font-weight: bold\">AttributeError</span>:\n",
       "        <span style=\"color: #3D7B7B; font-style: italic\"># pylight just doesn&#39;t work on certain types</span>\n",
       "        <span style=\"color: #008000; font-weight: bold\">return</span> src\n",
       "</pre></div>\n"
      ],
      "text/plain": [
       "<IPython.core.display.HTML object>"
      ]
     },
     "execution_count": 10,
     "metadata": {},
     "output_type": "execute_result"
    }
   ],
   "source": [
    "show_source(show_source)"
   ]
  },
  {
   "cell_type": "code",
   "execution_count": 11,
   "metadata": {
    "ExecuteTime": {
     "end_time": "2023-01-26T06:31:46.038277Z",
     "start_time": "2023-01-26T06:31:46.035573Z"
    }
   },
   "outputs": [],
   "source": [
    "def get_top_words(cv, lda, n_words=10):\n",
    "    topic_words = {}\n",
    "    vocab = cv.get_feature_names_out()\n",
    "    for topic, component in enumerate(lda.components_):\n",
    "        word_ix = np.argsort(component)[::-1][:n_words]\n",
    "        topic_words[topic] = [vocab[i] for i in word_ix]\n",
    "    return topic_words"
   ]
  },
  {
   "cell_type": "code",
   "execution_count": 12,
   "metadata": {
    "ExecuteTime": {
     "end_time": "2023-01-26T06:31:46.042270Z",
     "start_time": "2023-01-26T06:31:46.039337Z"
    }
   },
   "outputs": [
    {
     "data": {
      "text/html": [
       "<table style=width:100%;border:0px;margin-left:auto;margin-right:auto><caption style=color:unset;text-align:center;font-size:2em;font-weight:bold>Stop words</caption><tr style=border:0px><td style=border:0px;width:10.0%;vertical-align:top;font-size:14px;text-align:center>a</td><td style=border:0px;width:10.0%;vertical-align:top;font-size:14px;text-align:center>about</td><td style=border:0px;width:10.0%;vertical-align:top;font-size:14px;text-align:center>above</td><td style=border:0px;width:10.0%;vertical-align:top;font-size:14px;text-align:center>actual</td><td style=border:0px;width:10.0%;vertical-align:top;font-size:14px;text-align:center>actually</td><td style=border:0px;width:10.0%;vertical-align:top;font-size:14px;text-align:center>after</td><td style=border:0px;width:10.0%;vertical-align:top;font-size:14px;text-align:center>again</td><td style=border:0px;width:10.0%;vertical-align:top;font-size:14px;text-align:center>against</td><td style=border:0px;width:10.0%;vertical-align:top;font-size:14px;text-align:center>ain</td><td style=border:0px;width:10.0%;vertical-align:top;font-size:14px;text-align:center>all</td></tr><tr style=border:0px><td style=border:0px;width:10.0%;vertical-align:top;font-size:14px;text-align:center>also</td><td style=border:0px;width:10.0%;vertical-align:top;font-size:14px;text-align:center>am</td><td style=border:0px;width:10.0%;vertical-align:top;font-size:14px;text-align:center>an</td><td style=border:0px;width:10.0%;vertical-align:top;font-size:14px;text-align:center>and</td><td style=border:0px;width:10.0%;vertical-align:top;font-size:14px;text-align:center>any</td><td style=border:0px;width:10.0%;vertical-align:top;font-size:14px;text-align:center>are</td><td style=border:0px;width:10.0%;vertical-align:top;font-size:14px;text-align:center>aren</td><td style=border:0px;width:10.0%;vertical-align:top;font-size:14px;text-align:center>aren't</td><td style=border:0px;width:10.0%;vertical-align:top;font-size:14px;text-align:center>as</td><td style=border:0px;width:10.0%;vertical-align:top;font-size:14px;text-align:center>at</td></tr><tr style=border:0px><td style=border:0px;width:10.0%;vertical-align:top;font-size:14px;text-align:center>be</td><td style=border:0px;width:10.0%;vertical-align:top;font-size:14px;text-align:center>because</td><td style=border:0px;width:10.0%;vertical-align:top;font-size:14px;text-align:center>been</td><td style=border:0px;width:10.0%;vertical-align:top;font-size:14px;text-align:center>before</td><td style=border:0px;width:10.0%;vertical-align:top;font-size:14px;text-align:center>being</td><td style=border:0px;width:10.0%;vertical-align:top;font-size:14px;text-align:center>below</td><td style=border:0px;width:10.0%;vertical-align:top;font-size:14px;text-align:center>between</td><td style=border:0px;width:10.0%;vertical-align:top;font-size:14px;text-align:center>bit</td><td style=border:0px;width:10.0%;vertical-align:top;font-size:14px;text-align:center>both</td><td style=border:0px;width:10.0%;vertical-align:top;font-size:14px;text-align:center>but</td></tr><tr style=border:0px><td style=border:0px;width:10.0%;vertical-align:top;font-size:14px;text-align:center>by</td><td style=border:0px;width:10.0%;vertical-align:top;font-size:14px;text-align:center>can</td><td style=border:0px;width:10.0%;vertical-align:top;font-size:14px;text-align:center>could</td><td style=border:0px;width:10.0%;vertical-align:top;font-size:14px;text-align:center>couldn</td><td style=border:0px;width:10.0%;vertical-align:top;font-size:14px;text-align:center>couldn't</td><td style=border:0px;width:10.0%;vertical-align:top;font-size:14px;text-align:center>d</td><td style=border:0px;width:10.0%;vertical-align:top;font-size:14px;text-align:center>did</td><td style=border:0px;width:10.0%;vertical-align:top;font-size:14px;text-align:center>didn</td><td style=border:0px;width:10.0%;vertical-align:top;font-size:14px;text-align:center>didn't</td><td style=border:0px;width:10.0%;vertical-align:top;font-size:14px;text-align:center>do</td></tr><tr style=border:0px><td style=border:0px;width:10.0%;vertical-align:top;font-size:14px;text-align:center>does</td><td style=border:0px;width:10.0%;vertical-align:top;font-size:14px;text-align:center>doesn</td><td style=border:0px;width:10.0%;vertical-align:top;font-size:14px;text-align:center>doesn't</td><td style=border:0px;width:10.0%;vertical-align:top;font-size:14px;text-align:center>doing</td><td style=border:0px;width:10.0%;vertical-align:top;font-size:14px;text-align:center>don</td><td style=border:0px;width:10.0%;vertical-align:top;font-size:14px;text-align:center>don't</td><td style=border:0px;width:10.0%;vertical-align:top;font-size:14px;text-align:center>down</td><td style=border:0px;width:10.0%;vertical-align:top;font-size:14px;text-align:center>during</td><td style=border:0px;width:10.0%;vertical-align:top;font-size:14px;text-align:center>e</td><td style=border:0px;width:10.0%;vertical-align:top;font-size:14px;text-align:center>each</td></tr><tr style=border:0px><td style=border:0px;width:10.0%;vertical-align:top;font-size:14px;text-align:center>even</td><td style=border:0px;width:10.0%;vertical-align:top;font-size:14px;text-align:center>few</td><td style=border:0px;width:10.0%;vertical-align:top;font-size:14px;text-align:center>first</td><td style=border:0px;width:10.0%;vertical-align:top;font-size:14px;text-align:center>follow</td><td style=border:0px;width:10.0%;vertical-align:top;font-size:14px;text-align:center>following</td><td style=border:0px;width:10.0%;vertical-align:top;font-size:14px;text-align:center>for</td><td style=border:0px;width:10.0%;vertical-align:top;font-size:14px;text-align:center>four</td><td style=border:0px;width:10.0%;vertical-align:top;font-size:14px;text-align:center>from</td><td style=border:0px;width:10.0%;vertical-align:top;font-size:14px;text-align:center>further</td><td style=border:0px;width:10.0%;vertical-align:top;font-size:14px;text-align:center>had</td></tr><tr style=border:0px><td style=border:0px;width:10.0%;vertical-align:top;font-size:14px;text-align:center>hadn</td><td style=border:0px;width:10.0%;vertical-align:top;font-size:14px;text-align:center>hadn't</td><td style=border:0px;width:10.0%;vertical-align:top;font-size:14px;text-align:center>has</td><td style=border:0px;width:10.0%;vertical-align:top;font-size:14px;text-align:center>hasn</td><td style=border:0px;width:10.0%;vertical-align:top;font-size:14px;text-align:center>hasn't</td><td style=border:0px;width:10.0%;vertical-align:top;font-size:14px;text-align:center>have</td><td style=border:0px;width:10.0%;vertical-align:top;font-size:14px;text-align:center>haven</td><td style=border:0px;width:10.0%;vertical-align:top;font-size:14px;text-align:center>haven't</td><td style=border:0px;width:10.0%;vertical-align:top;font-size:14px;text-align:center>having</td><td style=border:0px;width:10.0%;vertical-align:top;font-size:14px;text-align:center>he</td></tr><tr style=border:0px><td style=border:0px;width:10.0%;vertical-align:top;font-size:14px;text-align:center>her</td><td style=border:0px;width:10.0%;vertical-align:top;font-size:14px;text-align:center>here</td><td style=border:0px;width:10.0%;vertical-align:top;font-size:14px;text-align:center>hers</td><td style=border:0px;width:10.0%;vertical-align:top;font-size:14px;text-align:center>herself</td><td style=border:0px;width:10.0%;vertical-align:top;font-size:14px;text-align:center>him</td><td style=border:0px;width:10.0%;vertical-align:top;font-size:14px;text-align:center>himself</td><td style=border:0px;width:10.0%;vertical-align:top;font-size:14px;text-align:center>his</td><td style=border:0px;width:10.0%;vertical-align:top;font-size:14px;text-align:center>how</td><td style=border:0px;width:10.0%;vertical-align:top;font-size:14px;text-align:center>i</td><td style=border:0px;width:10.0%;vertical-align:top;font-size:14px;text-align:center>if</td></tr><tr style=border:0px><td style=border:0px;width:10.0%;vertical-align:top;font-size:14px;text-align:center>in</td><td style=border:0px;width:10.0%;vertical-align:top;font-size:14px;text-align:center>into</td><td style=border:0px;width:10.0%;vertical-align:top;font-size:14px;text-align:center>is</td><td style=border:0px;width:10.0%;vertical-align:top;font-size:14px;text-align:center>isn</td><td style=border:0px;width:10.0%;vertical-align:top;font-size:14px;text-align:center>isn't</td><td style=border:0px;width:10.0%;vertical-align:top;font-size:14px;text-align:center>it</td><td style=border:0px;width:10.0%;vertical-align:top;font-size:14px;text-align:center>it's</td><td style=border:0px;width:10.0%;vertical-align:top;font-size:14px;text-align:center>its</td><td style=border:0px;width:10.0%;vertical-align:top;font-size:14px;text-align:center>itself</td><td style=border:0px;width:10.0%;vertical-align:top;font-size:14px;text-align:center>just</td></tr><tr style=border:0px><td style=border:0px;width:10.0%;vertical-align:top;font-size:14px;text-align:center>let</td><td style=border:0px;width:10.0%;vertical-align:top;font-size:14px;text-align:center>like</td><td style=border:0px;width:10.0%;vertical-align:top;font-size:14px;text-align:center>ll</td><td style=border:0px;width:10.0%;vertical-align:top;font-size:14px;text-align:center>m</td><td style=border:0px;width:10.0%;vertical-align:top;font-size:14px;text-align:center>ma</td><td style=border:0px;width:10.0%;vertical-align:top;font-size:14px;text-align:center>mc</td><td style=border:0px;width:10.0%;vertical-align:top;font-size:14px;text-align:center>me</td><td style=border:0px;width:10.0%;vertical-align:top;font-size:14px;text-align:center>mightn</td><td style=border:0px;width:10.0%;vertical-align:top;font-size:14px;text-align:center>mightn't</td><td style=border:0px;width:10.0%;vertical-align:top;font-size:14px;text-align:center>more</td></tr><tr style=border:0px><td style=border:0px;width:10.0%;vertical-align:top;font-size:14px;text-align:center>most</td><td style=border:0px;width:10.0%;vertical-align:top;font-size:14px;text-align:center>mustn</td><td style=border:0px;width:10.0%;vertical-align:top;font-size:14px;text-align:center>mustn't</td><td style=border:0px;width:10.0%;vertical-align:top;font-size:14px;text-align:center>my</td><td style=border:0px;width:10.0%;vertical-align:top;font-size:14px;text-align:center>myself</td><td style=border:0px;width:10.0%;vertical-align:top;font-size:14px;text-align:center>needn</td><td style=border:0px;width:10.0%;vertical-align:top;font-size:14px;text-align:center>needn't</td><td style=border:0px;width:10.0%;vertical-align:top;font-size:14px;text-align:center>no</td><td style=border:0px;width:10.0%;vertical-align:top;font-size:14px;text-align:center>nor</td><td style=border:0px;width:10.0%;vertical-align:top;font-size:14px;text-align:center>not</td></tr><tr style=border:0px><td style=border:0px;width:10.0%;vertical-align:top;font-size:14px;text-align:center>now</td><td style=border:0px;width:10.0%;vertical-align:top;font-size:14px;text-align:center>o</td><td style=border:0px;width:10.0%;vertical-align:top;font-size:14px;text-align:center>of</td><td style=border:0px;width:10.0%;vertical-align:top;font-size:14px;text-align:center>off</td><td style=border:0px;width:10.0%;vertical-align:top;font-size:14px;text-align:center>on</td><td style=border:0px;width:10.0%;vertical-align:top;font-size:14px;text-align:center>once</td><td style=border:0px;width:10.0%;vertical-align:top;font-size:14px;text-align:center>only</td><td style=border:0px;width:10.0%;vertical-align:top;font-size:14px;text-align:center>or</td><td style=border:0px;width:10.0%;vertical-align:top;font-size:14px;text-align:center>other</td><td style=border:0px;width:10.0%;vertical-align:top;font-size:14px;text-align:center>our</td></tr><tr style=border:0px><td style=border:0px;width:10.0%;vertical-align:top;font-size:14px;text-align:center>ours</td><td style=border:0px;width:10.0%;vertical-align:top;font-size:14px;text-align:center>ourselves</td><td style=border:0px;width:10.0%;vertical-align:top;font-size:14px;text-align:center>out</td><td style=border:0px;width:10.0%;vertical-align:top;font-size:14px;text-align:center>over</td><td style=border:0px;width:10.0%;vertical-align:top;font-size:14px;text-align:center>own</td><td style=border:0px;width:10.0%;vertical-align:top;font-size:14px;text-align:center>re</td><td style=border:0px;width:10.0%;vertical-align:top;font-size:14px;text-align:center>really</td><td style=border:0px;width:10.0%;vertical-align:top;font-size:14px;text-align:center>s</td><td style=border:0px;width:10.0%;vertical-align:top;font-size:14px;text-align:center>same</td><td style=border:0px;width:10.0%;vertical-align:top;font-size:14px;text-align:center>saw</td></tr><tr style=border:0px><td style=border:0px;width:10.0%;vertical-align:top;font-size:14px;text-align:center>see</td><td style=border:0px;width:10.0%;vertical-align:top;font-size:14px;text-align:center>seen</td><td style=border:0px;width:10.0%;vertical-align:top;font-size:14px;text-align:center>shan</td><td style=border:0px;width:10.0%;vertical-align:top;font-size:14px;text-align:center>shan't</td><td style=border:0px;width:10.0%;vertical-align:top;font-size:14px;text-align:center>she</td><td style=border:0px;width:10.0%;vertical-align:top;font-size:14px;text-align:center>she's</td><td style=border:0px;width:10.0%;vertical-align:top;font-size:14px;text-align:center>should</td><td style=border:0px;width:10.0%;vertical-align:top;font-size:14px;text-align:center>should've</td><td style=border:0px;width:10.0%;vertical-align:top;font-size:14px;text-align:center>shouldn</td><td style=border:0px;width:10.0%;vertical-align:top;font-size:14px;text-align:center>shouldn't</td></tr><tr style=border:0px><td style=border:0px;width:10.0%;vertical-align:top;font-size:14px;text-align:center>so</td><td style=border:0px;width:10.0%;vertical-align:top;font-size:14px;text-align:center>some</td><td style=border:0px;width:10.0%;vertical-align:top;font-size:14px;text-align:center>such</td><td style=border:0px;width:10.0%;vertical-align:top;font-size:14px;text-align:center>t</td><td style=border:0px;width:10.0%;vertical-align:top;font-size:14px;text-align:center>than</td><td style=border:0px;width:10.0%;vertical-align:top;font-size:14px;text-align:center>that</td><td style=border:0px;width:10.0%;vertical-align:top;font-size:14px;text-align:center>that'll</td><td style=border:0px;width:10.0%;vertical-align:top;font-size:14px;text-align:center>the</td><td style=border:0px;width:10.0%;vertical-align:top;font-size:14px;text-align:center>their</td><td style=border:0px;width:10.0%;vertical-align:top;font-size:14px;text-align:center>theirs</td></tr><tr style=border:0px><td style=border:0px;width:10.0%;vertical-align:top;font-size:14px;text-align:center>them</td><td style=border:0px;width:10.0%;vertical-align:top;font-size:14px;text-align:center>themselves</td><td style=border:0px;width:10.0%;vertical-align:top;font-size:14px;text-align:center>then</td><td style=border:0px;width:10.0%;vertical-align:top;font-size:14px;text-align:center>there</td><td style=border:0px;width:10.0%;vertical-align:top;font-size:14px;text-align:center>these</td><td style=border:0px;width:10.0%;vertical-align:top;font-size:14px;text-align:center>they</td><td style=border:0px;width:10.0%;vertical-align:top;font-size:14px;text-align:center>thing</td><td style=border:0px;width:10.0%;vertical-align:top;font-size:14px;text-align:center>things</td><td style=border:0px;width:10.0%;vertical-align:top;font-size:14px;text-align:center>this</td><td style=border:0px;width:10.0%;vertical-align:top;font-size:14px;text-align:center>those</td></tr><tr style=border:0px><td style=border:0px;width:10.0%;vertical-align:top;font-size:14px;text-align:center>through</td><td style=border:0px;width:10.0%;vertical-align:top;font-size:14px;text-align:center>to</td><td style=border:0px;width:10.0%;vertical-align:top;font-size:14px;text-align:center>too</td><td style=border:0px;width:10.0%;vertical-align:top;font-size:14px;text-align:center>two</td><td style=border:0px;width:10.0%;vertical-align:top;font-size:14px;text-align:center>under</td><td style=border:0px;width:10.0%;vertical-align:top;font-size:14px;text-align:center>until</td><td style=border:0px;width:10.0%;vertical-align:top;font-size:14px;text-align:center>up</td><td style=border:0px;width:10.0%;vertical-align:top;font-size:14px;text-align:center>ve</td><td style=border:0px;width:10.0%;vertical-align:top;font-size:14px;text-align:center>very</td><td style=border:0px;width:10.0%;vertical-align:top;font-size:14px;text-align:center>was</td></tr><tr style=border:0px><td style=border:0px;width:10.0%;vertical-align:top;font-size:14px;text-align:center>wasn</td><td style=border:0px;width:10.0%;vertical-align:top;font-size:14px;text-align:center>wasn't</td><td style=border:0px;width:10.0%;vertical-align:top;font-size:14px;text-align:center>we</td><td style=border:0px;width:10.0%;vertical-align:top;font-size:14px;text-align:center>were</td><td style=border:0px;width:10.0%;vertical-align:top;font-size:14px;text-align:center>weren</td><td style=border:0px;width:10.0%;vertical-align:top;font-size:14px;text-align:center>weren't</td><td style=border:0px;width:10.0%;vertical-align:top;font-size:14px;text-align:center>what</td><td style=border:0px;width:10.0%;vertical-align:top;font-size:14px;text-align:center>when</td><td style=border:0px;width:10.0%;vertical-align:top;font-size:14px;text-align:center>where</td><td style=border:0px;width:10.0%;vertical-align:top;font-size:14px;text-align:center>which</td></tr><tr style=border:0px><td style=border:0px;width:10.0%;vertical-align:top;font-size:14px;text-align:center>while</td><td style=border:0px;width:10.0%;vertical-align:top;font-size:14px;text-align:center>who</td><td style=border:0px;width:10.0%;vertical-align:top;font-size:14px;text-align:center>whom</td><td style=border:0px;width:10.0%;vertical-align:top;font-size:14px;text-align:center>why</td><td style=border:0px;width:10.0%;vertical-align:top;font-size:14px;text-align:center>will</td><td style=border:0px;width:10.0%;vertical-align:top;font-size:14px;text-align:center>with</td><td style=border:0px;width:10.0%;vertical-align:top;font-size:14px;text-align:center>won</td><td style=border:0px;width:10.0%;vertical-align:top;font-size:14px;text-align:center>won't</td><td style=border:0px;width:10.0%;vertical-align:top;font-size:14px;text-align:center>wouldn</td><td style=border:0px;width:10.0%;vertical-align:top;font-size:14px;text-align:center>wouldn't</td></tr><tr style=border:0px><td style=border:0px;width:10.0%;vertical-align:top;font-size:14px;text-align:center>y</td><td style=border:0px;width:10.0%;vertical-align:top;font-size:14px;text-align:center>you</td><td style=border:0px;width:10.0%;vertical-align:top;font-size:14px;text-align:center>you'd</td><td style=border:0px;width:10.0%;vertical-align:top;font-size:14px;text-align:center>you'll</td><td style=border:0px;width:10.0%;vertical-align:top;font-size:14px;text-align:center>you're</td><td style=border:0px;width:10.0%;vertical-align:top;font-size:14px;text-align:center>you've</td><td style=border:0px;width:10.0%;vertical-align:top;font-size:14px;text-align:center>your</td><td style=border:0px;width:10.0%;vertical-align:top;font-size:14px;text-align:center>yours</td><td style=border:0px;width:10.0%;vertical-align:top;font-size:14px;text-align:center>yourself</td><td style=border:0px;width:10.0%;vertical-align:top;font-size:14px;text-align:center>yourselves</td></tr></table>"
      ],
      "text/plain": [
       "<IPython.core.display.HTML object>"
      ]
     },
     "metadata": {},
     "output_type": "display_data"
    }
   ],
   "source": [
    "multicol_display(*sorted(STOP_WORDS), ncols=10, caption='Stop words')"
   ]
  },
  {
   "cell_type": "markdown",
   "metadata": {},
   "source": [
    "# Inspect some of the raw data we're working with"
   ]
  },
  {
   "cell_type": "code",
   "execution_count": 13,
   "metadata": {
    "ExecuteTime": {
     "end_time": "2023-01-26T06:31:46.048298Z",
     "start_time": "2023-01-26T06:31:46.043225Z"
    }
   },
   "outputs": [
    {
     "data": {
      "text/html": [
       "<table style=width:100%;border:0px;margin-left:auto;margin-right:auto><th style=border:0px;font-size:16px;text-align:center>Four Fundamental Forces</th><th style=border:0px;font-size:16px;text-align:center>Birth of Stars</th><tr style=border:0px><td style=border:0px;width:50.0%;vertical-align:top;font-size:14px;text-align:left;background-color:white;padding-left:10%>00:00.03<br>what I want to do in this video is give<br>00:01.829<br>a very high-level overview of the four<br>00:04.02<br>fundamental forces four fundamental<br>00:07.62<br>forces of the universe and I'm going to<br>00:09.54<br>start with gravity I'm going to start<br>00:12.719<br>with gravity and it might surprise some<br>00:15.57<br>of you that gravity is actually the<br></td><td style=border:0px;width:50.0%;vertical-align:top;font-size:14px;text-align:left;background-color:white;padding-left:10%>00:00.03<br>let's imagine we have a huge cloud of<br>00:02.399<br>hydrogen atoms floating in space Hugh<br>00:05.67<br>and I say huge cloud huge both in<br>00:07.44<br>distance and in mass if you were to<br>00:09.69<br>combine all of the hydrogen atoms it<br>00:11.79<br>would just be this really really massive<br>00:14.549<br>thing so you have this huge cloud well<br></td></tr></table>"
      ],
      "text/plain": [
       "<IPython.core.display.HTML object>"
      ]
     },
     "metadata": {},
     "output_type": "display_data"
    }
   ],
   "source": [
    "exp = Experiment()\n",
    "multicol_display(exp.forces_transcript[:334], \n",
    "                 exp.bos_transcript[:328], \n",
    "                 ncols=2, \n",
    "                 col_headers=['Four Fundamental Forces', 'Birth of Stars'],\n",
    "                 cell_css={'text-align': 'left', \n",
    "                           'background-color': 'white', \n",
    "                           'padding-left': '10%'})"
   ]
  },
  {
   "cell_type": "code",
   "execution_count": 14,
   "metadata": {
    "ExecuteTime": {
     "end_time": "2023-01-26T06:31:46.058939Z",
     "start_time": "2023-01-26T06:31:46.050098Z"
    }
   },
   "outputs": [
    {
     "data": {
      "text/html": [
       "<div>\n",
       "<style scoped>\n",
       "    .dataframe tbody tr th:only-of-type {\n",
       "        vertical-align: middle;\n",
       "    }\n",
       "\n",
       "    .dataframe tbody tr th {\n",
       "        vertical-align: top;\n",
       "    }\n",
       "\n",
       "    .dataframe thead th {\n",
       "        text-align: right;\n",
       "    }\n",
       "</style>\n",
       "<table border=\"1\" class=\"dataframe\">\n",
       "  <thead>\n",
       "    <tr style=\"text-align: right;\">\n",
       "      <th></th>\n",
       "      <th>lecture</th>\n",
       "      <th>question</th>\n",
       "      <th>A</th>\n",
       "      <th>B</th>\n",
       "      <th>C</th>\n",
       "      <th>D</th>\n",
       "    </tr>\n",
       "    <tr>\n",
       "      <th>index</th>\n",
       "      <th></th>\n",
       "      <th></th>\n",
       "      <th></th>\n",
       "      <th></th>\n",
       "      <th></th>\n",
       "      <th></th>\n",
       "    </tr>\n",
       "  </thead>\n",
       "  <tbody>\n",
       "    <tr>\n",
       "      <th>1</th>\n",
       "      <td>1</td>\n",
       "      <td>Why is the gravitational attraction between yo...</td>\n",
       "      <td>Neither you nor your computer has enough mass ...</td>\n",
       "      <td>You and your computer are too close for the gr...</td>\n",
       "      <td>Humans are too small to detect the force of gr...</td>\n",
       "      <td>The gravitational attraction between you and y...</td>\n",
       "    </tr>\n",
       "    <tr>\n",
       "      <th>2</th>\n",
       "      <td>1</td>\n",
       "      <td>Which of the following is an example of the We...</td>\n",
       "      <td>A neutron in a radioactive Cesium atom is conv...</td>\n",
       "      <td>Light from the sun collides with a satellite o...</td>\n",
       "      <td>Two protons bound together in a Helium nucleus...</td>\n",
       "      <td>A distant galaxy exerts a small but detectable...</td>\n",
       "    </tr>\n",
       "    <tr>\n",
       "      <th>3</th>\n",
       "      <td>1</td>\n",
       "      <td>Roughly how many times stronger is the Weak In...</td>\n",
       "      <td>10,000,000,000,000,000,000,000,000</td>\n",
       "      <td>10</td>\n",
       "      <td>1,000,000</td>\n",
       "      <td>The Weak Interaction is less strong than gravity</td>\n",
       "    </tr>\n",
       "    <tr>\n",
       "      <th>4</th>\n",
       "      <td>1</td>\n",
       "      <td>Why don't you and your computer experience any...</td>\n",
       "      <td>The weak interaction only acts over extremely ...</td>\n",
       "      <td>The weak interaction between you and your comp...</td>\n",
       "      <td>You and your computer have no net charge</td>\n",
       "      <td>Neither you nor your computer has enough mass ...</td>\n",
       "    </tr>\n",
       "    <tr>\n",
       "      <th>5</th>\n",
       "      <td>1</td>\n",
       "      <td>Which of the following is a difference between...</td>\n",
       "      <td>Gravity is only ever attractive while the elec...</td>\n",
       "      <td>Gravity is a much more powerful force than ele...</td>\n",
       "      <td>Gravity can only act over large distances whil...</td>\n",
       "      <td>The electromagnetic force can only act over sm...</td>\n",
       "    </tr>\n",
       "  </tbody>\n",
       "</table>\n",
       "</div>"
      ],
      "text/plain": [
       "       lecture                                           question  \\\n",
       "index                                                               \n",
       "1            1  Why is the gravitational attraction between yo...   \n",
       "2            1  Which of the following is an example of the We...   \n",
       "3            1  Roughly how many times stronger is the Weak In...   \n",
       "4            1  Why don't you and your computer experience any...   \n",
       "5            1  Which of the following is a difference between...   \n",
       "\n",
       "                                                       A  \\\n",
       "index                                                      \n",
       "1      Neither you nor your computer has enough mass ...   \n",
       "2      A neutron in a radioactive Cesium atom is conv...   \n",
       "3                     10,000,000,000,000,000,000,000,000   \n",
       "4      The weak interaction only acts over extremely ...   \n",
       "5      Gravity is only ever attractive while the elec...   \n",
       "\n",
       "                                                       B  \\\n",
       "index                                                      \n",
       "1      You and your computer are too close for the gr...   \n",
       "2      Light from the sun collides with a satellite o...   \n",
       "3                                                     10   \n",
       "4      The weak interaction between you and your comp...   \n",
       "5      Gravity is a much more powerful force than ele...   \n",
       "\n",
       "                                                       C  \\\n",
       "index                                                      \n",
       "1      Humans are too small to detect the force of gr...   \n",
       "2      Two protons bound together in a Helium nucleus...   \n",
       "3                                              1,000,000   \n",
       "4               You and your computer have no net charge   \n",
       "5      Gravity can only act over large distances whil...   \n",
       "\n",
       "                                                       D  \n",
       "index                                                     \n",
       "1      The gravitational attraction between you and y...  \n",
       "2      A distant galaxy exerts a small but detectable...  \n",
       "3       The Weak Interaction is less strong than gravity  \n",
       "4      Neither you nor your computer has enough mass ...  \n",
       "5      The electromagnetic force can only act over sm...  "
      ]
     },
     "execution_count": 14,
     "metadata": {},
     "output_type": "execute_result"
    }
   ],
   "source": [
    "exp.questions.head()"
   ]
  },
  {
   "cell_type": "markdown",
   "metadata": {},
   "source": [
    "# Preprocess lecture, question, and answer text"
   ]
  },
  {
   "cell_type": "code",
   "execution_count": 15,
   "metadata": {
    "ExecuteTime": {
     "end_time": "2023-01-26T06:31:46.063362Z",
     "start_time": "2023-01-26T06:31:46.060134Z"
    }
   },
   "outputs": [],
   "source": [
    "forces_transcript = exp.forces_transcript\n",
    "bos_transcript = exp.bos_transcript\n",
    "questions = exp.questions\n",
    "\n",
    "# make a few minor tweaks to the automatically generated lecture \n",
    "# transcripts -- fix some minor typos, combine prefixes with base word, \n",
    "# convert digits to words.\n",
    "transcription_tweaks = {\n",
    "    'cork': 'quark',\n",
    "    'sub atomic': 'subatomic',\n",
    "    'sub nucleic': 'subnucleic',\n",
    "    'electro magnetic': 'electromagnetic',\n",
    "    'electro static': 'electrostatic',\n",
    "    'Ullom': 'coulomb',\n",
    "    'cool': 'coulomb',\n",
    "    'Hugh': 'huge',\n",
    "    'hydrogen too': 'hydrogen two',\n",
    "    ' eat': ' heat',\n",
    "    ' cure ': ' core ',\n",
    "    '10 ': 'ten ',\n",
    "    '38 ': 'thirtyeight ',\n",
    "    '38th ': 'thirtyeight ',\n",
    "    '36 ': 'thirtysix',\n",
    "    '25 ': 'twentyfive',\n",
    "    '25th ': 'twentyfive'\n",
    "}\n",
    "\n",
    "for old, new in transcription_tweaks.items():\n",
    "    forces_transcript = forces_transcript.replace(old, new)\n",
    "    bos_transcript = bos_transcript.replace(old, new)"
   ]
  },
  {
   "cell_type": "code",
   "execution_count": 16,
   "metadata": {
    "ExecuteTime": {
     "end_time": "2023-01-26T06:31:46.070678Z",
     "start_time": "2023-01-26T06:31:46.064637Z"
    }
   },
   "outputs": [],
   "source": [
    "# convert digits to words in quiz answer text for model\n",
    "questions.loc[3, ['A', 'B', 'C']] = ['ten to the twentyfive', \n",
    "                                     'ten', \n",
    "                                     'one million']\n",
    "questions.loc[12, ['A', 'B', 'C']] = ['ten to the thirtyeight', \n",
    "                                      'one hundred', \n",
    "                                      'ten to the eighteen']\n",
    "questions.loc[18, ['A', 'B', 'C', 'D']] = ['ten million kelvin', \n",
    "                                           'zero kelvin', \n",
    "                                           'ten thousand kelvin', \n",
    "                                           'ten billion kelvin']\n",
    "questions.loc[37, ['A', 'B', 'C', 'D']] = ['less than one percent', \n",
    "                                           'ten percent', \n",
    "                                           'fifty percent', \n",
    "                                           'more than ninety percent']"
   ]
  },
  {
   "cell_type": "code",
   "execution_count": 17,
   "metadata": {
    "ExecuteTime": {
     "end_time": "2023-01-26T06:31:46.074306Z",
     "start_time": "2023-01-26T06:31:46.072215Z"
    }
   },
   "outputs": [],
   "source": [
    "# keep track of lemmatizations performed via WordNet workaround to \n",
    "# spot-check below (see preprocess_text docstring)\n",
    "lemma_counter = defaultdict(int)"
   ]
  },
  {
   "cell_type": "code",
   "execution_count": 18,
   "metadata": {
    "ExecuteTime": {
     "end_time": "2023-01-26T06:31:46.987579Z",
     "start_time": "2023-01-26T06:31:46.075798Z"
    }
   },
   "outputs": [],
   "source": [
    "ff_lines = forces_transcript.splitlines()\n",
    "ff_timestamps = ff_lines[::2]\n",
    "ff_text_lines = ff_lines[1::2]\n",
    "ff_lines_processed = preprocess_text(ff_text_lines, \n",
    "                                     correction_counter=lemma_counter)\n",
    "\n",
    "ff_transcript_processed = []\n",
    "for ts_line, txt_line in zip(ff_timestamps, ff_lines_processed):\n",
    "    ff_transcript_processed.append(f'{ts_line}\\n{txt_line}')\n",
    "ff_transcript_processed = '\\n'.join(ff_transcript_processed)"
   ]
  },
  {
   "cell_type": "code",
   "execution_count": 19,
   "metadata": {
    "ExecuteTime": {
     "end_time": "2023-01-26T06:31:47.041096Z",
     "start_time": "2023-01-26T06:31:46.988596Z"
    }
   },
   "outputs": [],
   "source": [
    "bos_lines = bos_transcript.splitlines()\n",
    "bos_timestamps = bos_lines[::2]\n",
    "bos_text_lines = bos_lines[1::2]\n",
    "bos_lines_processed = preprocess_text(bos_text_lines, \n",
    "                                      correction_counter=lemma_counter)\n",
    "\n",
    "bos_transcript_processed = []\n",
    "for ts_line, txt_line in zip(bos_timestamps, bos_lines_processed):\n",
    "    bos_transcript_processed.append(f'{ts_line}\\n{txt_line}')\n",
    "bos_transcript_processed = '\\n'.join(bos_transcript_processed)"
   ]
  },
  {
   "cell_type": "code",
   "execution_count": 20,
   "metadata": {
    "ExecuteTime": {
     "end_time": "2023-01-26T06:31:47.097702Z",
     "start_time": "2023-01-26T06:31:47.042124Z"
    }
   },
   "outputs": [],
   "source": [
    "quiz_text = questions.values[:, 1:]\n",
    "quiz_text_processed = preprocess_text(quiz_text.ravel(), \n",
    "                                      correction_counter=lemma_counter)\n",
    "quiz_text_processed = np.reshape(quiz_text_processed, quiz_text.shape)\n",
    "question_text = quiz_text_processed[:, 0]\n",
    "correct_answer_text = quiz_text_processed[:, 1]"
   ]
  },
  {
   "cell_type": "code",
   "execution_count": 21,
   "metadata": {
    "ExecuteTime": {
     "end_time": "2023-01-26T06:31:47.102533Z",
     "start_time": "2023-01-26T06:31:47.098662Z"
    },
    "scrolled": false
   },
   "outputs": [
    {
     "data": {
      "text/html": [
       "<table style=width:100%;border:0px;margin-left:auto;margin-right:auto><caption style=color:unset;text-align:center;font-size:2em;font-weight:bold>Synset-based lemmatizations</caption><th style=border:0px;font-size:16px;text-align:center>Word</th><th style=border:0px;font-size:16px;text-align:center>Lemma</th><th style=border:0px;font-size:16px;text-align:center>Count</th><th style=border:0px;font-size:16px;text-align:center>Word</th><th style=border:0px;font-size:16px;text-align:center>Lemma</th><th style=border:0px;font-size:16px;text-align:center>Count</th><tr style=border:0px><td style=border:0px;width:16.666666666666668%;vertical-align:top;font-size:14px;text-align:center>surprising</td><td style=border:0px;width:16.666666666666668%;vertical-align:top;font-size:14px;text-align:center>surprise</td><td style=border:0px;width:16.666666666666668%;vertical-align:top;font-size:14px;text-align:center>2</td><td style=border:0px;width:16.666666666666668%;vertical-align:top;font-size:14px;text-align:center>exactly</td><td style=border:0px;width:16.666666666666668%;vertical-align:top;font-size:14px;text-align:center>exact</td><td style=border:0px;width:16.666666666666668%;vertical-align:top;font-size:14px;text-align:center>1</td></tr><tr style=border:0px><td style=border:0px;width:16.666666666666668%;vertical-align:top;font-size:14px;text-align:center>essentially</td><td style=border:0px;width:16.666666666666668%;vertical-align:top;font-size:14px;text-align:center>essential</td><td style=border:0px;width:16.666666666666668%;vertical-align:top;font-size:14px;text-align:center>2</td><td style=border:0px;width:16.666666666666668%;vertical-align:top;font-size:14px;text-align:center>completely</td><td style=border:0px;width:16.666666666666668%;vertical-align:top;font-size:14px;text-align:center>complete</td><td style=border:0px;width:16.666666666666668%;vertical-align:top;font-size:14px;text-align:center>1</td></tr><tr style=border:0px><td style=border:0px;width:16.666666666666668%;vertical-align:top;font-size:14px;text-align:center>applies</td><td style=border:0px;width:16.666666666666668%;vertical-align:top;font-size:14px;text-align:center>apply</td><td style=border:0px;width:16.666666666666668%;vertical-align:top;font-size:14px;text-align:center>1</td><td style=border:0px;width:16.666666666666668%;vertical-align:top;font-size:14px;text-align:center>disappears</td><td style=border:0px;width:16.666666666666668%;vertical-align:top;font-size:14px;text-align:center>disappear</td><td style=border:0px;width:16.666666666666668%;vertical-align:top;font-size:14px;text-align:center>1</td></tr><tr style=border:0px><td style=border:0px;width:16.666666666666668%;vertical-align:top;font-size:14px;text-align:center>operating</td><td style=border:0px;width:16.666666666666668%;vertical-align:top;font-size:14px;text-align:center>operate</td><td style=border:0px;width:16.666666666666668%;vertical-align:top;font-size:14px;text-align:center>1</td><td style=border:0px;width:16.666666666666668%;vertical-align:top;font-size:14px;text-align:center>atoms</td><td style=border:0px;width:16.666666666666668%;vertical-align:top;font-size:14px;text-align:center>atom</td><td style=border:0px;width:16.666666666666668%;vertical-align:top;font-size:14px;text-align:center>1</td></tr><tr style=border:0px><td style=border:0px;width:16.666666666666668%;vertical-align:top;font-size:14px;text-align:center>slowly</td><td style=border:0px;width:16.666666666666668%;vertical-align:top;font-size:14px;text-align:center>slow</td><td style=border:0px;width:16.666666666666668%;vertical-align:top;font-size:14px;text-align:center>6</td><td style=border:0px;width:16.666666666666668%;vertical-align:top;font-size:14px;text-align:center>denser</td><td style=border:0px;width:16.666666666666668%;vertical-align:top;font-size:14px;text-align:center>dense</td><td style=border:0px;width:16.666666666666668%;vertical-align:top;font-size:14px;text-align:center>8</td></tr><tr style=border:0px><td style=border:0px;width:16.666666666666668%;vertical-align:top;font-size:14px;text-align:center>condensing</td><td style=border:0px;width:16.666666666666668%;vertical-align:top;font-size:14px;text-align:center>condense</td><td style=border:0px;width:16.666666666666668%;vertical-align:top;font-size:14px;text-align:center>1</td><td style=border:0px;width:16.666666666666668%;vertical-align:top;font-size:14px;text-align:center>interesting</td><td style=border:0px;width:16.666666666666668%;vertical-align:top;font-size:14px;text-align:center>interest</td><td style=border:0px;width:16.666666666666668%;vertical-align:top;font-size:14px;text-align:center>1</td></tr><tr style=border:0px><td style=border:0px;width:16.666666666666668%;vertical-align:top;font-size:14px;text-align:center>happens</td><td style=border:0px;width:16.666666666666668%;vertical-align:top;font-size:14px;text-align:center>happen</td><td style=border:0px;width:16.666666666666668%;vertical-align:top;font-size:14px;text-align:center>1</td><td style=border:0px;width:16.666666666666668%;vertical-align:top;font-size:14px;text-align:center>obviously</td><td style=border:0px;width:16.666666666666668%;vertical-align:top;font-size:14px;text-align:center>obvious</td><td style=border:0px;width:16.666666666666668%;vertical-align:top;font-size:14px;text-align:center>2</td></tr><tr style=border:0px><td style=border:0px;width:16.666666666666668%;vertical-align:top;font-size:14px;text-align:center>positively</td><td style=border:0px;width:16.666666666666668%;vertical-align:top;font-size:14px;text-align:center>positive</td><td style=border:0px;width:16.666666666666668%;vertical-align:top;font-size:14px;text-align:center>2</td><td style=border:0px;width:16.666666666666668%;vertical-align:top;font-size:14px;text-align:center>slightly</td><td style=border:0px;width:16.666666666666668%;vertical-align:top;font-size:14px;text-align:center>slight</td><td style=border:0px;width:16.666666666666668%;vertical-align:top;font-size:14px;text-align:center>2</td></tr><tr style=border:0px><td style=border:0px;width:16.666666666666668%;vertical-align:top;font-size:14px;text-align:center>degrades</td><td style=border:0px;width:16.666666666666668%;vertical-align:top;font-size:14px;text-align:center>degrade</td><td style=border:0px;width:16.666666666666668%;vertical-align:top;font-size:14px;text-align:center>1</td><td style=border:0px;width:16.666666666666668%;vertical-align:top;font-size:14px;text-align:center>combined</td><td style=border:0px;width:16.666666666666668%;vertical-align:top;font-size:14px;text-align:center>combine</td><td style=border:0px;width:16.666666666666668%;vertical-align:top;font-size:14px;text-align:center>5</td></tr><tr style=border:0px><td style=border:0px;width:16.666666666666668%;vertical-align:top;font-size:14px;text-align:center>occurs</td><td style=border:0px;width:16.666666666666668%;vertical-align:top;font-size:14px;text-align:center>occur</td><td style=border:0px;width:16.666666666666668%;vertical-align:top;font-size:14px;text-align:center>3</td><td style=border:0px;width:16.666666666666668%;vertical-align:top;font-size:14px;text-align:center>eventually</td><td style=border:0px;width:16.666666666666668%;vertical-align:top;font-size:14px;text-align:center>eventual</td><td style=border:0px;width:16.666666666666668%;vertical-align:top;font-size:14px;text-align:center>2</td></tr><tr style=border:0px><td style=border:0px;width:16.666666666666668%;vertical-align:top;font-size:14px;text-align:center>fused</td><td style=border:0px;width:16.666666666666668%;vertical-align:top;font-size:14px;text-align:center>fuse</td><td style=border:0px;width:16.666666666666668%;vertical-align:top;font-size:14px;text-align:center>1</td><td style=border:0px;width:16.666666666666668%;vertical-align:top;font-size:14px;text-align:center>collides</td><td style=border:0px;width:16.666666666666668%;vertical-align:top;font-size:14px;text-align:center>collide</td><td style=border:0px;width:16.666666666666668%;vertical-align:top;font-size:14px;text-align:center>1</td></tr><tr style=border:0px><td style=border:0px;width:16.666666666666668%;vertical-align:top;font-size:14px;text-align:center>roughly</td><td style=border:0px;width:16.666666666666668%;vertical-align:top;font-size:14px;text-align:center>rough</td><td style=border:0px;width:16.666666666666668%;vertical-align:top;font-size:14px;text-align:center>2</td><td style=border:0px;width:16.666666666666668%;vertical-align:top;font-size:14px;text-align:center>extremely</td><td style=border:0px;width:16.666666666666668%;vertical-align:top;font-size:14px;text-align:center>extreme</td><td style=border:0px;width:16.666666666666668%;vertical-align:top;font-size:14px;text-align:center>3</td></tr><tr style=border:0px><td style=border:0px;width:16.666666666666668%;vertical-align:top;font-size:14px;text-align:center>relatively</td><td style=border:0px;width:16.666666666666668%;vertical-align:top;font-size:14px;text-align:center>relative</td><td style=border:0px;width:16.666666666666668%;vertical-align:top;font-size:14px;text-align:center>1</td><td style=border:0px;width:16.666666666666668%;vertical-align:top;font-size:14px;text-align:center>negatively</td><td style=border:0px;width:16.666666666666668%;vertical-align:top;font-size:14px;text-align:center>negative</td><td style=border:0px;width:16.666666666666668%;vertical-align:top;font-size:14px;text-align:center>2</td></tr><tr style=border:0px><td style=border:0px;width:16.666666666666668%;vertical-align:top;font-size:14px;text-align:center>explains</td><td style=border:0px;width:16.666666666666668%;vertical-align:top;font-size:14px;text-align:center>explain</td><td style=border:0px;width:16.666666666666668%;vertical-align:top;font-size:14px;text-align:center>1</td><td style=border:0px;width:16.666666666666668%;vertical-align:top;font-size:14px;text-align:center>prevents</td><td style=border:0px;width:16.666666666666668%;vertical-align:top;font-size:14px;text-align:center>prevent</td><td style=border:0px;width:16.666666666666668%;vertical-align:top;font-size:14px;text-align:center>1</td></tr><tr style=border:0px><td style=border:0px;width:16.666666666666668%;vertical-align:top;font-size:14px;text-align:center>accurately</td><td style=border:0px;width:16.666666666666668%;vertical-align:top;font-size:14px;text-align:center>accurate</td><td style=border:0px;width:16.666666666666668%;vertical-align:top;font-size:14px;text-align:center>1</td><td style=border:0px;width:16.666666666666668%;vertical-align:top;font-size:14px;text-align:center>defines</td><td style=border:0px;width:16.666666666666668%;vertical-align:top;font-size:14px;text-align:center>define</td><td style=border:0px;width:16.666666666666668%;vertical-align:top;font-size:14px;text-align:center>1</td></tr><tr style=border:0px><td style=border:0px;width:16.666666666666668%;vertical-align:top;font-size:14px;text-align:center>inflated</td><td style=border:0px;width:16.666666666666668%;vertical-align:top;font-size:14px;text-align:center>inflate</td><td style=border:0px;width:16.666666666666668%;vertical-align:top;font-size:14px;text-align:center>1</td></tr></table>"
      ],
      "text/plain": [
       "<IPython.core.display.HTML object>"
      ]
     },
     "metadata": {},
     "output_type": "display_data"
    }
   ],
   "source": [
    "# check to ensure all changes make sense\n",
    "multicol_display(*np.ravel([(k[0], k[1], v) for k, v in lemma_counter.items()]),\n",
    "                 ncols=6,\n",
    "                 caption=\"Synset-based lemmatizations\",\n",
    "                 col_headers=('Word', 'Lemma', 'Count', 'Word', 'Lemma', 'Count'))"
   ]
  },
  {
   "cell_type": "markdown",
   "metadata": {},
   "source": [
    "# Parse lecture transcripts into overlapping sliding windows"
   ]
  },
  {
   "cell_type": "code",
   "execution_count": 22,
   "metadata": {
    "ExecuteTime": {
     "end_time": "2023-01-26T06:31:47.107179Z",
     "start_time": "2023-01-26T06:31:47.103753Z"
    }
   },
   "outputs": [],
   "source": [
    "forces_windows, forces_timestamps = parse_windows(ff_transcript_processed, \n",
    "                                                  LECTURE_WSIZE)\n",
    "bos_windows, bos_timestamps = parse_windows(bos_transcript_processed, \n",
    "                                            LECTURE_WSIZE)"
   ]
  },
  {
   "cell_type": "markdown",
   "metadata": {
    "ExecuteTime": {
     "end_time": "2020-02-14T23:30:58.886025Z",
     "start_time": "2020-02-14T23:30:58.880720Z"
    }
   },
   "source": [
    "# Fit model & transform lectures, questions, and answers"
   ]
  },
  {
   "cell_type": "code",
   "execution_count": 23,
   "metadata": {
    "ExecuteTime": {
     "end_time": "2023-01-26T06:31:48.016669Z",
     "start_time": "2023-01-26T06:31:47.108118Z"
    },
    "scrolled": true
   },
   "outputs": [],
   "source": [
    "N_TOPICS = 15\n",
    "\n",
    "# create corpus from both lectures' sliding windows\n",
    "corpus = np.concatenate((forces_windows, \n",
    "                         bos_windows))\n",
    "\n",
    "# fit CountVectorizer and LatentDirichletAllocation models to full corpus\n",
    "cv = CountVectorizer()\n",
    "lda = LatentDirichletAllocation(n_components=N_TOPICS, random_state=0)\n",
    "lda.fit(cv.fit_transform(corpus))\n",
    "\n",
    "\n",
    "# transform lecture windows\n",
    "forces_traj = lda.transform(cv.transform(forces_windows))\n",
    "bos_traj = lda.transform(cv.transform(bos_windows))\n",
    "\n",
    "# transform questions\n",
    "all_questions = lda.transform(cv.transform(question_text))\n",
    "\n",
    "# transform answers\n",
    "all_answers = lda.transform(cv.transform(quiz_text_processed[:, 1:].ravel()))\n",
    "all_answers = all_answers.reshape(39, 4, 15)\n",
    "\n",
    "# interpolate lecture trajectories to 1 topic vector per second\n",
    "forces_traj = interp_lecture(forces_traj, forces_timestamps)\n",
    "bos_traj = interp_lecture(bos_traj, bos_timestamps)"
   ]
  },
  {
   "cell_type": "markdown",
   "metadata": {},
   "source": [
    "# Inspect the topics our model identified"
   ]
  },
  {
   "cell_type": "code",
   "execution_count": 24,
   "metadata": {
    "ExecuteTime": {
     "end_time": "2023-01-26T06:31:48.020641Z",
     "start_time": "2023-01-26T06:31:48.017562Z"
    },
    "scrolled": false
   },
   "outputs": [
    {
     "name": "stdout",
     "output_type": "stream",
     "text": [
      "topic 1:\n",
      "\tstar, helium, main, mass, atomic, sequence, get, energy, fuse, hydrogen\n",
      "topic 2:\n",
      "\tcharge, force, mass, gravity, strong, attract, large, strength, distance, electromagnetic\n",
      "topic 3:\n",
      "\thuge, force, electromagnetic, macro, way, scale, concentration, apply, kind, charge\n",
      "topic 4:\n",
      "\tatom, dense, go, hydrogen, slow, get, huge, condense, mass, would\n",
      "topic 5:\n",
      "\tfusion, get, threshold, core, occur, mass, something, start, several, jupiter\n",
      "topic 6:\n",
      "\tenough, ignition, proton, force, get, close, nucleus, coulomb, fusion, would\n",
      "topic 7:\n",
      "\tenergy, pressure, ignition, mass, little, keep, provide, fusion, get, hydrogen\n",
      "topic 8:\n",
      "\tproton, weak, neutron, interaction, one, go, nucleon, cesium, extra, get\n",
      "topic 9:\n",
      "\trun, kind, say, go, want, would, get, well, give, although\n",
      "topic 10:\n",
      "\thuge, cloud, space, float, imagine, hydrogen, atom, say, distance, combine\n",
      "topic 11:\n",
      "\tone, hydrogen, helium, go, proton, neutron, keep, atomic, detail, fuse\n",
      "topic 12:\n",
      "\tgravity, force, weak, interaction, apply, strength, distance, ten, relative, next\n",
      "topic 13:\n",
      "\tforce, go, electrostatic, call, charge, magnet, side, coulomb, know, different\n",
      "topic 14:\n",
      "\tforce, atom, nucleus, electron, much, hydrogen, get, around, coulomb, charge\n",
      "topic 15:\n",
      "\tforce, scale, gravity, start, weak, orbit, keep, fundamental, around, surprise\n"
     ]
    }
   ],
   "source": [
    "topic_words = get_top_words(cv, lda)\n",
    "for topic, words in topic_words.items():\n",
    "    print(f'topic {topic + 1}:\\n\\t{\", \".join(words)}')"
   ]
  },
  {
   "cell_type": "markdown",
   "metadata": {},
   "source": [
    "# Active topics figure"
   ]
  },
  {
   "cell_type": "code",
   "execution_count": 25,
   "metadata": {
    "ExecuteTime": {
     "end_time": "2023-01-26T06:31:48.024204Z",
     "start_time": "2023-01-26T06:31:48.021651Z"
    }
   },
   "outputs": [],
   "source": [
    "forces_questions = all_questions[np.flatnonzero(questions['lecture'] == 1)]\n",
    "bos_questions = all_questions[np.flatnonzero(questions['lecture'] == 2)]\n",
    "general_questions = all_questions[np.flatnonzero(questions['lecture'] == 0)]"
   ]
  },
  {
   "cell_type": "code",
   "execution_count": 26,
   "metadata": {
    "ExecuteTime": {
     "end_time": "2023-01-26T06:31:48.261308Z",
     "start_time": "2023-01-26T06:31:48.025367Z"
    },
    "code_folding": [],
    "scrolled": false
   },
   "outputs": [
    {
     "data": {
      "image/png": "[encoded data removed]",
      "text/plain": [
       "<Figure size 864x576 with 6 Axes>"
      ]
     },
     "metadata": {},
     "output_type": "display_data"
    }
   ],
   "source": [
    "with sns.axes_style('ticks'), sns.plotting_context('talk'):\n",
    "    set_figure_style()\n",
    "    palette = sns.color_palette('hls', N_TOPICS)\n",
    "\n",
    "    fig, axarr = plt.subplots(2, 3, sharex=True, sharey='all')\n",
    "    fig.set_size_inches(12, 8)\n",
    "    axarr = axarr.flatten()\n",
    "\n",
    "    for i, traj in enumerate([forces_traj, \n",
    "                              bos_traj, \n",
    "                              None,\n",
    "                              forces_questions,\n",
    "                              bos_questions,\n",
    "                              general_questions]):\n",
    "        ax = axarr[i]\n",
    "        if traj is None:\n",
    "            ax.axis('off')\n",
    "            continue\n",
    "\n",
    "        topic_vars = np.var(traj, axis=0)\n",
    "        bars = ax.bar(x=list(range(1, N_TOPICS + 1)), \n",
    "                      height=topic_vars, \n",
    "                      color=palette, edgecolor='none')\n",
    "        ax.set_xlim(.5, N_TOPICS + 0.5)\n",
    "        ax.set_xticks(list(range(1, N_TOPICS + 1, 2)))\n",
    "        \n",
    "        if i == 0:\n",
    "            ax.set_ylabel('Variance', fontsize='large')\n",
    "            ax.annotate('Lectures', \n",
    "                        xy=(-.7, .5), \n",
    "                        xycoords=ax.yaxis.label, \n",
    "                        size='x-large', \n",
    "                        rotation=90, \n",
    "                        ha='right', \n",
    "                        va='center', \n",
    "                        fontweight='bold')\n",
    "        elif i == 3:\n",
    "            ax.set_title('Four Fundamental Forces', \n",
    "                         fontsize='x-large', \n",
    "                         y=-0.4, \n",
    "                         fontweight='bold')\n",
    "            ax.set_ylabel('Variance', fontsize='large')\n",
    "            ax.annotate('Questions', \n",
    "                        xy=(-.7, .5), \n",
    "                        xycoords=ax.yaxis.label, \n",
    "                        size='x-large', \n",
    "                        rotation=90, \n",
    "                        ha='right', \n",
    "                        va='center', \n",
    "                        fontweight='bold')\n",
    "        elif i == 4:\n",
    "            ax.set_title('Birth of Stars', \n",
    "                         fontsize='x-large', \n",
    "                         y=-0.4, \n",
    "                         fontweight='bold')\n",
    "        elif i == 5:\n",
    "            ax.set_title('General Knowledge', \n",
    "                         fontsize='x-large', \n",
    "                         y=-0.4, \n",
    "                         fontweight='bold')\n",
    "\n",
    "        if i > 2:\n",
    "            ax.set_xlabel('Topic', fontsize='large')\n",
    "            \n",
    "        if i in (0, 3):\n",
    "            ax.set_yticks(np.arange(0, ax.get_ylim()[1], 0.04))\n",
    "        else:\n",
    "            ax.tick_params(axis='y', length=0)\n",
    "        if i < 3:\n",
    "            ax.tick_params(axis='x', length=0)\n",
    "            \n",
    "        if i in (0, 3, 5):\n",
    "            ax.patches[1].set_edgecolor('black')\n",
    "            ax.patches[1].set_linewidth(3.5)\n",
    "        if i in (1, 4, 5):\n",
    "            ax.patches[3].set_edgecolor('black')\n",
    "            ax.patches[3].set_linewidth(3.5)\n",
    "\n",
    "\n",
    "    plt.tight_layout()\n",
    "    plt.subplots_adjust(hspace=0.075, wspace=0.075)\n",
    "#     plt.savefig(FIG_DIR.joinpath('active-topics.pdf'), bbox_inches='tight')\n",
    "    plt.show()"
   ]
  },
  {
   "cell_type": "markdown",
   "metadata": {},
   "source": [
    "# 3D trajectories figure"
   ]
  },
  {
   "cell_type": "code",
   "execution_count": 27,
   "metadata": {
    "ExecuteTime": {
     "end_time": "2023-01-26T06:31:48.332073Z",
     "start_time": "2023-01-26T06:31:48.262396Z"
    },
    "code_folding": []
   },
   "outputs": [
    {
     "data": {
      "image/png": "[encoded data removed]",
      "text/plain": [
       "<Figure size 504x504 with 1 Axes>"
      ]
     },
     "metadata": {},
     "output_type": "display_data"
    }
   ],
   "source": [
    "# resample trajectories to common length and smooth for visualization\n",
    "bos_traj_resampled = resample(bos_traj, 200, axis=0)\n",
    "forces_traj_resampled = resample(forces_traj, 200, axis=0)\n",
    "\n",
    "forces_smoothed = pd.DataFrame(forces_traj_resampled).rolling(24).mean().loc[24:, :].values\n",
    "bos_smoothed = pd.DataFrame(bos_traj_resampled).rolling(24).mean().loc[24:, :].values\n",
    "\n",
    "forces_questions = all_questions[np.flatnonzero(questions['lecture'] == 1)]\n",
    "bos_questions = all_questions[np.flatnonzero(questions['lecture'] == 2)]\n",
    "general_questions = all_questions[np.flatnonzero(questions['lecture'] == 0)]\n",
    "\n",
    "with sns.plotting_context('talk'):\n",
    "    hyp.plot([forces_smoothed, \n",
    "              bos_smoothed, \n",
    "              forces_questions, \n",
    "              bos_questions, \n",
    "              general_questions], \n",
    "             fmt=['-', '-', 'o', 'o', 'o'],\n",
    "             color=[FORCES_LECTURE_COLOR, \n",
    "                    BOS_LECTURE_COLOR, \n",
    "                    FORCES_QUESTION_COLOR, \n",
    "                    BOS_QUESTION_COLOR, \n",
    "                    GENERAL_QUESTION_COLOR],\n",
    "             reduce={'model': 'IncrementalPCA', 'params': {'whiten': True}}, \n",
    "#                  save_path=FIG_DIR.joinpath('trajectories-3d.pdf'),\n",
    "             size=[7, 7], \n",
    "             azim=73, \n",
    "             elev=7)"
   ]
  },
  {
   "cell_type": "markdown",
   "metadata": {
    "ExecuteTime": {
     "end_time": "2020-02-16T17:52:54.494287Z",
     "start_time": "2020-02-16T17:52:54.387881Z"
    }
   },
   "source": [
    "## Save data and fit models"
   ]
  },
  {
   "cell_type": "code",
   "execution_count": 28,
   "metadata": {
    "ExecuteTime": {
     "end_time": "2023-01-26T06:31:48.335898Z",
     "start_time": "2023-01-26T06:31:48.333647Z"
    }
   },
   "outputs": [],
   "source": [
    "# np.save(TRAJS_DIR.joinpath('forces_lecture'), forces_traj)\n",
    "# np.save(TRAJS_DIR.joinpath('bos_lecture'), bos_traj)\n",
    "# np.save(TRAJS_DIR.joinpath('all_questions'), all_questions)\n",
    "# np.save(TRAJS_DIR.joinpath('all_answers'), all_answers)\n",
    "# np.save(RAW_DIR.joinpath('forces_windows'), forces_windows)\n",
    "# np.save(RAW_DIR.joinpath('bos_windows'), bos_windows)\n",
    "# np.save(RAW_DIR.joinpath('forces_timestamps'), forces_timestamps)\n",
    "# np.save(RAW_DIR.joinpath('bos_timestamps'), bos_timestamps)\n",
    "# np.save(RAW_DIR.joinpath('quiz_text_processed'), quiz_text_processed)\n",
    "# np.save(MODELS_DIR.joinpath('fit_CV'), cv)\n",
    "# np.save(MODELS_DIR.joinpath('fit_LDA'), lda)"
   ]
  }
 ],
 "metadata": {
  "kernelspec": {
   "display_name": "Python 3 (ipykernel)",
   "language": "python",
   "name": "python3"
  },
  "language_info": {
   "codemirror_mode": {
    "name": "ipython",
    "version": 3
   },
   "file_extension": ".py",
   "mimetype": "text/x-python",
   "name": "python",
   "nbconvert_exporter": "python",
   "pygments_lexer": "ipython3",
   "version": "3.9.7"
  },
  "toc": {
   "base_numbering": 1,
   "nav_menu": {},
   "number_sections": false,
   "sideBar": true,
   "skip_h1_title": false,
   "title_cell": "Table of Contents",
   "title_sidebar": "Contents",
   "toc_cell": false,
   "toc_position": {},
   "toc_section_display": true,
   "toc_window_display": false
  }
 },
 "nbformat": 4,
 "nbformat_minor": 2
}
