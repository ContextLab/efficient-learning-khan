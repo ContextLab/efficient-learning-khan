{
 "cells": [
  {
   "cell_type": "markdown",
   "metadata": {},
   "source": [
    "### imports"
   ]
  },
  {
   "cell_type": "code",
   "execution_count": 1,
   "metadata": {
    "ExecuteTime": {
     "end_time": "2019-07-09T19:10:41.948929Z",
     "start_time": "2019-07-09T19:10:39.370268Z"
    },
    "collapsed": true
   },
   "outputs": [],
   "source": [
    "import numpy as np\n",
    "import pandas as pd\n",
    "import os\n",
    "import re\n",
    "import pickle\n",
    "from string import digits\n",
    "from sklearn.decomposition import LatentDirichletAllocation\n",
    "from sklearn.feature_extraction.text import CountVectorizer\n",
    "from sklearn.feature_extraction.text import TfidfVectorizer\n",
    "from scipy.stats import entropy, pearsonr, ttest_1samp\n",
    "from scipy.spatial.distance import cdist\n",
    "from nltk.corpus import stopwords\n",
    "import matplotlib.pyplot as plt\n",
    "from mpl_toolkits.mplot3d import Axes3D\n",
    "import seaborn as sns\n",
    "import hypertools as hyp\n",
    "\n",
    "%matplotlib inline\n",
    "sns.set_context('talk')"
   ]
  },
  {
   "cell_type": "markdown",
   "metadata": {},
   "source": [
    "### paths"
   ]
  },
  {
   "cell_type": "code",
   "execution_count": 2,
   "metadata": {
    "ExecuteTime": {
     "end_time": "2019-07-09T19:10:41.959259Z",
     "start_time": "2019-07-09T19:10:41.950153Z"
    },
    "collapsed": true
   },
   "outputs": [],
   "source": [
    "vid_transc_dir = '../video transcript analysis'\n",
    "answers_dir = '../graded_answers/'\n",
    "figdir = '../../figures/'"
   ]
  },
  {
   "cell_type": "markdown",
   "metadata": {},
   "source": [
    "### functions"
   ]
  },
  {
   "cell_type": "code",
   "execution_count": 3,
   "metadata": {
    "ExecuteTime": {
     "end_time": "2019-07-09T19:10:41.990159Z",
     "start_time": "2019-07-09T19:10:41.960964Z"
    },
    "collapsed": true
   },
   "outputs": [],
   "source": [
    "def model_lessons_questions(v_windows, q_windows, vec_params, lda_params):\n",
    "    \"\"\"\n",
    "    Fit a topic model to video and question content, use it to transform videos and questions.\n",
    "    Returns a tuple: (video topic proportions, question topic proportions, fit topic model)\n",
    "    \"\"\"\n",
    "    \n",
    "    # initialize count vectorizer\n",
    "    tf_vectorizer = CountVectorizer(**vec_params)\n",
    "    # fit the model\n",
    "    tf_vectorizer.fit(v_windows+q_windows)\n",
    "\n",
    "    # transform video windows\n",
    "    video_tf = tf_vectorizer.transform(v_windows)\n",
    "\n",
    "    # transform question samples\n",
    "    questions_tf = tf_vectorizer.transform(q_windows)\n",
    "\n",
    "    both_tf = tf_vectorizer.transform(v_windows+q_windows)\n",
    "\n",
    "    # initialize topic model\n",
    "    lda = LatentDirichletAllocation(**lda_params)\n",
    "\n",
    "    # fit topic model to video and questions\n",
    "    lda.fit(both_tf)\n",
    "\n",
    "    # transform video\n",
    "    video_topics = lda.transform(video_tf)\n",
    "\n",
    "    # smooth video model\n",
    "    video_topics = pd.DataFrame(video_topics).rolling(25).mean().loc[25:,:].values\n",
    "\n",
    "    # transform questions\n",
    "    questions_topics = lda.transform(questions_tf)\n",
    "    \n",
    "    return video_topics, questions_topics, lda\n"
   ]
  },
  {
   "cell_type": "code",
   "execution_count": 4,
   "metadata": {
    "ExecuteTime": {
     "end_time": "2019-07-09T19:10:42.044708Z",
     "start_time": "2019-07-09T19:10:41.992133Z"
    },
    "collapsed": true
   },
   "outputs": [],
   "source": [
    "def reconstruct_trace(video_model, questions_model, acc):\n",
    "    \"\"\"\n",
    "    Function that reconstructs memory trajectory based on video model and a set of correctly answered questions\n",
    "    \"\"\"\n",
    "    \n",
    "    def normalize(x):\n",
    "        xs = x - np.min(x)\n",
    "        return np.divide(xs, np.max(xs))\n",
    "    \n",
    "    def z2r(z):\n",
    "        return (np.exp(2 * z) - 1) / (np.exp(2 * z) + 1)\n",
    "    \n",
    "    def r2z(r):\n",
    "        return 0.5 * (np.log(1 + r) - np.log(1 - r))\n",
    "    \n",
    "    def symmetric_KL(a, b, c=.00000000001):\n",
    "        return np.divide(entropy(a+c,b+c)+entropy(b+c,a+c), 2)\n",
    "\n",
    "    # compute timepoints by questions correlation matrix\n",
    "    wz = 1-cdist(video_model, questions_model, symmetric_KL)\n",
    "    \n",
    "    # add the minimum value\n",
    "    wz-=np.min(wz)\n",
    "    \n",
    "    # divide by the max value\n",
    "    wz/=np.max(wz)\n",
    "    \n",
    "    # sum over columns\n",
    "    a = np.sum(wz, axis=1)\n",
    " \n",
    "    # sum over columns for correct answers\n",
    "    b = np.sum(wz[:, list(map(bool, acc))], axis=1)\n",
    "    \n",
    "    # divide b by a\n",
    "    ba = np.array(np.divide(b,a), ndmin=2)\n",
    "    \n",
    "    # weight the model\n",
    "    return video_model*ba.T"
   ]
  },
  {
   "cell_type": "code",
   "execution_count": 5,
   "metadata": {
    "ExecuteTime": {
     "end_time": "2019-07-09T19:10:42.056047Z",
     "start_time": "2019-07-09T19:10:42.046243Z"
    },
    "collapsed": true
   },
   "outputs": [],
   "source": [
    "def format_text(text):\n",
    "    \"\"\"\n",
    "    Function to format documents for tokenization and modeling\n",
    "    \"\"\"\n",
    "    \n",
    "    clean_text = []\n",
    "    \n",
    "    for sentence in text:\n",
    "        no_punc = re.sub(\"[^a-zA-Z\\s']+\", '', sentence.lower())\n",
    "        no_stop = ' '.join([word for word in no_punc.split() if word not in all_stopwords])\n",
    "        clean = re.sub(\"'+\", '', no_stop)\n",
    "        clean_text.append(clean)\n",
    "    \n",
    "    return clean_text"
   ]
  },
  {
   "cell_type": "markdown",
   "metadata": {},
   "source": [
    "## load lesson and question data"
   ]
  },
  {
   "cell_type": "code",
   "execution_count": 6,
   "metadata": {
    "ExecuteTime": {
     "end_time": "2019-07-09T19:10:42.084977Z",
     "start_time": "2019-07-09T19:10:42.057676Z"
    }
   },
   "outputs": [],
   "source": [
    "# Four forces\n",
    "forces_video_df = pd.read_csv(os.path.join(vid_transc_dir,'fourforcesdiced.tsv'), \n",
    "                            error_bad_lines=False, header=None, sep='\\t', usecols=[0])\n",
    "forces_video_samples = forces_video_df[0].tolist()\n",
    "\n",
    "# birth of stars\n",
    "bos_video_df = pd.read_csv(os.path.join(vid_transc_dir, 'birthofstarsdiced.tsv'), \n",
    "                            error_bad_lines=False, header=None, sep='\\t', usecols=[0])\n",
    "bos_video_samples = pd.Series(bos_video_df[0]).tolist()"
   ]
  },
  {
   "cell_type": "code",
   "execution_count": 7,
   "metadata": {
    "ExecuteTime": {
     "end_time": "2019-07-09T19:10:42.115011Z",
     "start_time": "2019-07-09T19:10:42.086470Z"
    },
    "collapsed": true
   },
   "outputs": [],
   "source": [
    "# questions\n",
    "questions_df = pd.read_csv('../data analysis/astronomyquestions.tsv', sep='\\t', \n",
    "            names=['index', 'video', 'question', 'ans_A', 'ans_B', 'ans_C', 'ans_D'], index_col='index') \n",
    "\n",
    "forces_questions_samples = questions_df.loc[questions_df.video == 1].question.tolist()\n",
    "bos_questions_samples = questions_df.loc[questions_df.video == 2].question.tolist()\n",
    "general_question_samples = questions_df.loc[questions_df.video == 0].question.tolist()\n",
    "\n",
    "# link question text to qID\n",
    "question_dict = {qid : questions_df.loc[qid].question for qid in questions_df.index}"
   ]
  },
  {
   "cell_type": "markdown",
   "metadata": {},
   "source": [
    "## load and format participant answer data"
   ]
  },
  {
   "cell_type": "code",
   "execution_count": 8,
   "metadata": {
    "ExecuteTime": {
     "end_time": "2019-07-09T19:10:42.176024Z",
     "start_time": "2019-07-09T19:10:42.116361Z"
    }
   },
   "outputs": [
    {
     "data": {
      "text/html": [
       "<div>\n",
       "<style scoped>\n",
       "    .dataframe tbody tr th:only-of-type {\n",
       "        vertical-align: middle;\n",
       "    }\n",
       "\n",
       "    .dataframe tbody tr th {\n",
       "        vertical-align: top;\n",
       "    }\n",
       "\n",
       "    .dataframe thead th {\n",
       "        text-align: right;\n",
       "    }\n",
       "</style>\n",
       "<table border=\"1\" class=\"dataframe\">\n",
       "  <thead>\n",
       "    <tr style=\"text-align: right;\">\n",
       "      <th></th>\n",
       "      <th>correct?</th>\n",
       "      <th>qID</th>\n",
       "      <th>set</th>\n",
       "      <th>video</th>\n",
       "    </tr>\n",
       "  </thead>\n",
       "  <tbody>\n",
       "    <tr>\n",
       "      <th>0</th>\n",
       "      <td>1</td>\n",
       "      <td>13</td>\n",
       "      <td>0</td>\n",
       "      <td>1</td>\n",
       "    </tr>\n",
       "    <tr>\n",
       "      <th>1</th>\n",
       "      <td>0</td>\n",
       "      <td>21</td>\n",
       "      <td>0</td>\n",
       "      <td>2</td>\n",
       "    </tr>\n",
       "    <tr>\n",
       "      <th>2</th>\n",
       "      <td>0</td>\n",
       "      <td>12</td>\n",
       "      <td>0</td>\n",
       "      <td>1</td>\n",
       "    </tr>\n",
       "    <tr>\n",
       "      <th>3</th>\n",
       "      <td>1</td>\n",
       "      <td>16</td>\n",
       "      <td>0</td>\n",
       "      <td>2</td>\n",
       "    </tr>\n",
       "    <tr>\n",
       "      <th>4</th>\n",
       "      <td>1</td>\n",
       "      <td>28</td>\n",
       "      <td>0</td>\n",
       "      <td>2</td>\n",
       "    </tr>\n",
       "  </tbody>\n",
       "</table>\n",
       "</div>"
      ],
      "text/plain": [
       "   correct?  qID  set  video\n",
       "0         1   13    0      1\n",
       "1         0   21    0      2\n",
       "2         0   12    0      1\n",
       "3         1   16    0      2\n",
       "4         1   28    0      2"
      ]
     },
     "execution_count": 8,
     "metadata": {},
     "output_type": "execute_result"
    }
   ],
   "source": [
    "data_df = pd.read_csv(os.path.join(answers_dir, 'Graded_results_19s.csv'), index_col='Unnamed: 0')\n",
    "\n",
    "# dictionary format - {participantID : dataframe}\n",
    "sub_data = dict()\n",
    "\n",
    "for sub in data_df.participantID.unique():\n",
    "    sub_data[sub] = data_df.loc[data_df.participantID == sub].drop('participantID', axis=1).reset_index(drop=True)\n",
    "\n",
    "sub_data[1].head()"
   ]
  },
  {
   "cell_type": "markdown",
   "metadata": {},
   "source": [
    "### topic modeling params"
   ]
  },
  {
   "cell_type": "code",
   "execution_count": 9,
   "metadata": {
    "ExecuteTime": {
     "end_time": "2019-07-09T19:10:42.181525Z",
     "start_time": "2019-07-09T19:10:42.177235Z"
    },
    "collapsed": true
   },
   "outputs": [],
   "source": [
    "vec_params = {\n",
    "    'max_df': 0.95,\n",
    "    'min_df': 2,\n",
    "    'max_features': 500,\n",
    "    'stop_words': 'english'\n",
    "}\n",
    "\n",
    "lda_params = {\n",
    "    'n_components': 12,\n",
    "    'max_iter': 10,\n",
    "    'learning_method': 'online',\n",
    "    'learning_offset':50.,\n",
    "    'random_state': 0\n",
    "}"
   ]
  },
  {
   "cell_type": "code",
   "execution_count": 10,
   "metadata": {
    "ExecuteTime": {
     "end_time": "2019-07-09T19:10:42.188067Z",
     "start_time": "2019-07-09T19:10:42.183126Z"
    },
    "collapsed": true
   },
   "outputs": [],
   "source": [
    "all_stopwords = stopwords.words('english') + [\"let's\", \"they'd\", \"they're\", \"they've\", \"they'll\", \"that's\", \n",
    "                                              \"I'll\", \"I'm\"]"
   ]
  },
  {
   "cell_type": "markdown",
   "metadata": {},
   "source": [
    "# how does ability to infer knowledge change with topic space distance?"
   ]
  },
  {
   "cell_type": "code",
   "execution_count": 11,
   "metadata": {
    "ExecuteTime": {
     "end_time": "2019-07-09T19:10:42.282135Z",
     "start_time": "2019-07-09T19:10:42.189258Z"
    }
   },
   "outputs": [],
   "source": [
    "# format lecture and question text\n",
    "fvs_formatted = format_text(forces_video_samples)\n",
    "bvs_formatted = format_text(bos_video_samples)\n",
    "fqs_formatted = format_text(forces_questions_samples)\n",
    "bqs_formatted = format_text(bos_questions_samples)\n",
    "gqs_formatted = format_text(general_question_samples)"
   ]
  },
  {
   "cell_type": "markdown",
   "metadata": {},
   "source": [
    "### model fit to both lectures and all questions"
   ]
  },
  {
   "cell_type": "code",
   "execution_count": 12,
   "metadata": {
    "ExecuteTime": {
     "end_time": "2019-07-09T19:10:42.292070Z",
     "start_time": "2019-07-09T19:10:42.283287Z"
    },
    "code_folding": [
     0
    ],
    "collapsed": true
   },
   "outputs": [],
   "source": [
    "# # initialize count vectorizer\n",
    "# tf_vectorizer = CountVectorizer(**vec_params)\n",
    "\n",
    "# # fit to both lectures and all questions\n",
    "# tf_vectorizer.fit(fvs_formatted + fqs_formatted\n",
    "#                   + bvs_formatted + bqs_formatted\n",
    "#                   + gqs_formatted)\n",
    "\n",
    "# # transform lecture windows\n",
    "# forces_video_tf = tf_vectorizer.transform(fvs_formatted)\n",
    "# bos_video_tf = tf_vectorizer.transform(bvs_formatted)\n",
    "\n",
    "# # transform question samples\n",
    "# forces_questions_tf = tf_vectorizer.transform(fqs_formatted)\n",
    "# bos_questions_tf = tf_vectorizer.transform(bqs_formatted)\n",
    "# general_questions_tf = tf_vectorizer.transform(gqs_formatted)\n",
    "\n",
    "# all_tf = tf_vectorizer.transform(fvs_formatted + fqs_formatted\n",
    "#                   + bvs_formatted + bqs_formatted\n",
    "#                   + gqs_formatted)\n",
    "\n",
    "# # initialize LDA model, fit to both lectures and all questions\n",
    "# lda = LatentDirichletAllocation(**lda_params)\n",
    "# lda.fit(all_tf)\n",
    "\n",
    "# # transform lectures\n",
    "# forces_v_traj = lda.transform(forces_video_tf)\n",
    "# bos_v_traj = lda.transform(bos_video_tf)\n",
    "\n",
    "# # smooth lecture models\n",
    "# forces_v_traj = pd.DataFrame(forces_v_traj).rolling(25).mean().loc[25:,:].values\n",
    "# bos_v_traj = pd.DataFrame(bos_v_traj).rolling(25).mean().loc[25:,:].values\n",
    "\n",
    "# # transform questions\n",
    "# forces_q_traj = lda.transform(forces_questions_tf)\n",
    "# bos_q_traj = lda.transform(bos_questions_tf)\n",
    "# general_q_traj = lda.transform(general_questions_tf)\n"
   ]
  },
  {
   "cell_type": "markdown",
   "metadata": {},
   "source": [
    "### model fit to both lectures and two sets of lecture-related questions"
   ]
  },
  {
   "cell_type": "code",
   "execution_count": 13,
   "metadata": {
    "ExecuteTime": {
     "end_time": "2019-07-09T19:10:43.592307Z",
     "start_time": "2019-07-09T19:10:42.293673Z"
    },
    "collapsed": true
   },
   "outputs": [],
   "source": [
    "# initialize count vectorizer\n",
    "tf_vectorizer = CountVectorizer(**vec_params)\n",
    "\n",
    "# fit to both lectures and all questions\n",
    "tf_vectorizer.fit(fvs_formatted + fqs_formatted\n",
    "                  + bvs_formatted + bqs_formatted)\n",
    "\n",
    "# transform lecture windows\n",
    "forces_video_tf = tf_vectorizer.transform(fvs_formatted)\n",
    "bos_video_tf = tf_vectorizer.transform(bvs_formatted)\n",
    "\n",
    "# transform question samples\n",
    "forces_questions_tf = tf_vectorizer.transform(fqs_formatted)\n",
    "bos_questions_tf = tf_vectorizer.transform(bqs_formatted)\n",
    "general_questions_tf = tf_vectorizer.transform(gqs_formatted)\n",
    "\n",
    "all_tf = tf_vectorizer.transform(fvs_formatted + fqs_formatted\n",
    "                  + bvs_formatted + bqs_formatted)\n",
    "\n",
    "# initialize LDA model, fit to both lectures and all questions\n",
    "lda = LatentDirichletAllocation(**lda_params)\n",
    "lda.fit(all_tf)\n",
    "\n",
    "# transform lectures\n",
    "forces_v_traj = lda.transform(forces_video_tf)\n",
    "bos_v_traj = lda.transform(bos_video_tf)\n",
    "\n",
    "# smooth lecture models\n",
    "forces_v_traj = pd.DataFrame(forces_v_traj).rolling(25).mean().loc[25:,:].values\n",
    "bos_v_traj = pd.DataFrame(bos_v_traj).rolling(25).mean().loc[25:,:].values\n",
    "\n",
    "# transform questions\n",
    "forces_q_traj = lda.transform(forces_questions_tf)\n",
    "bos_q_traj = lda.transform(bos_questions_tf)\n",
    "general_q_traj = lda.transform(general_questions_tf)\n"
   ]
  },
  {
   "cell_type": "markdown",
   "metadata": {},
   "source": [
    "### model fit to both lectures (no questions)"
   ]
  },
  {
   "cell_type": "code",
   "execution_count": 14,
   "metadata": {
    "ExecuteTime": {
     "end_time": "2019-07-09T19:10:43.601349Z",
     "start_time": "2019-07-09T19:10:43.593443Z"
    },
    "code_folding": [
     0
    ],
    "collapsed": true
   },
   "outputs": [],
   "source": [
    "# # initialize count vectorizer\n",
    "# tf_vectorizer = CountVectorizer(**vec_params)\n",
    "\n",
    "# # fit to both lectures and all questions\n",
    "# tf_vectorizer.fit(fvs_formatted + bvs_formatted)\n",
    "\n",
    "# # transform lecture windows\n",
    "# forces_video_tf = tf_vectorizer.transform(fvs_formatted)\n",
    "# bos_video_tf = tf_vectorizer.transform(bvs_formatted)\n",
    "\n",
    "# # transform question samples\n",
    "# forces_questions_tf = tf_vectorizer.transform(fqs_formatted)\n",
    "# bos_questions_tf = tf_vectorizer.transform(bqs_formatted)\n",
    "# general_questions_tf = tf_vectorizer.transform(gqs_formatted)\n",
    "\n",
    "# videos_tf = tf_vectorizer.transform(fvs_formatted + bvs_formatted)\n",
    "\n",
    "# # initialize LDA model, fit to both lectures and all questions\n",
    "# lda = LatentDirichletAllocation(**lda_params)\n",
    "# lda.fit(videos_tf)\n",
    "\n",
    "# # transform lectures\n",
    "# forces_v_traj = lda.transform(forces_video_tf)\n",
    "# bos_v_traj = lda.transform(bos_video_tf)\n",
    "\n",
    "# # smooth lecture models\n",
    "# forces_v_traj = pd.DataFrame(forces_v_traj).rolling(25).mean().loc[25:,:].values\n",
    "# bos_v_traj = pd.DataFrame(bos_v_traj).rolling(25).mean().loc[25:,:].values\n",
    "\n",
    "# # transform questions\n",
    "# forces_q_traj = lda.transform(forces_questions_tf)\n",
    "# bos_q_traj = lda.transform(bos_questions_tf)\n",
    "# general_q_traj = lda.transform(general_questions_tf)\n"
   ]
  },
  {
   "cell_type": "markdown",
   "metadata": {},
   "source": [
    "## construct held-out-question learning trajectories"
   ]
  },
  {
   "cell_type": "code",
   "execution_count": 240,
   "metadata": {
    "ExecuteTime": {
     "end_time": "2019-07-09T20:35:39.846859Z",
     "start_time": "2019-07-09T20:35:16.590017Z"
    },
    "scrolled": true
   },
   "outputs": [],
   "source": [
    "qdrop_ftraces_set0 = {}\n",
    "qdrop_ftraces_set1 = {}\n",
    "qdrop_ftraces_set2 = {}\n",
    "\n",
    "\n",
    "for set_n, setdict in zip(range(3), [qdrop_ftraces_set0, qdrop_ftraces_set1, qdrop_ftraces_set2]):\n",
    "    drops = []\n",
    "    for sid, df in sub_data.items():\n",
    "        # get questions about Four Forces viewed in block \n",
    "        set_fqs = df.loc[df.set == set_n].loc[df.video == 1]\n",
    "        setdict[f'sub{sid}'] = dict.fromkeys([f'q{i}' for i in set_fqs.qID])\n",
    "    \n",
    "        for q in set_fqs.qID:\n",
    "            setdict[f'sub{sid}'][f'q{q}'] = {}\n",
    "            # drop a question\n",
    "            ix = set_fqs.loc[set_fqs.qID == q].index\n",
    "            q_dropped = set_fqs.drop(ix)\n",
    "            \n",
    "            # extract remaining questions' topic vectors by index\n",
    "            q_dropped_vecs = forces_q_traj[[forces_questions_samples.index(question_dict[i]) for i in q_dropped.qID]]\n",
    "            \n",
    "            # get accuracy for remaining questions\n",
    "            q_dropped_acc = q_dropped['correct?']\n",
    "\n",
    "            # construct trace with question held out\n",
    "            q_dropped_trace = reconstruct_trace(forces_v_traj, q_dropped_vecs, q_dropped_acc)\n",
    "            setdict[f'sub{sid}'][f'q{q}']['trajectory'] = q_dropped_trace\n",
    "            \n",
    "            # get accuracy for held-out question\n",
    "            setdict[f'sub{sid}'][f'q{q}']['correct'] = set_fqs.loc[ix, 'correct?'].values[0]\n",
    "            \n",
    "            # find distance between lecture and knowledge trajectories at nearest lecture point to question\n",
    "            nearest_ix = cdist(forces_v_traj, np.atleast_2d(forces_q_traj[q-1])).argmin()\n",
    "            setdict[f'sub{sid}'][f'q{q}']['learn_dist'] = np.diag(cdist(forces_v_traj, q_dropped_trace))[nearest_ix]\n",
    "            \n",
    "            # find distance from held-out question to nearest other question\n",
    "            qq_dists = cdist(forces_q_traj, forces_q_traj)[q-1]\n",
    "            setdict[f'sub{sid}'][f'q{q}']['qnear_dist'] = qq_dists[np.nonzero(qq_dists)].min()\n",
    "            \n",
    "            # track participants with 4/5 wrong answers (can't construct trajectory)\n",
    "            if not np.any(q_dropped_trace):\n",
    "                drops.append(f'sub{sid}')\n",
    "    \n",
    "    for sid in list(set(drops)):\n",
    "        del setdict[sid]\n",
    "                "
   ]
  },
  {
   "cell_type": "code",
   "execution_count": 224,
   "metadata": {
    "ExecuteTime": {
     "end_time": "2019-07-09T20:31:42.573675Z",
     "start_time": "2019-07-09T20:31:25.430087Z"
    },
    "code_folding": [],
    "scrolled": true
   },
   "outputs": [],
   "source": [
    "qdrop_btraces_set0 = {}\n",
    "qdrop_btraces_set1 = {}\n",
    "qdrop_btraces_set2 = {}\n",
    "\n",
    "\n",
    "for set_n, setdict in zip(range(3), [qdrop_btraces_set0, qdrop_btraces_set1, qdrop_btraces_set2]):\n",
    "    drops = []\n",
    "    for sid, df in sub_data.items():\n",
    "        # get questions about Birth of Stars viewed in block \n",
    "        set_bqs = df.loc[df.set == set_n].loc[df.video == 2]\n",
    "        setdict[f'sub{sid}'] = dict.fromkeys([f'q{i}' for i in set_bqs.qID])\n",
    "    \n",
    "        for q in set_bqs.qID:\n",
    "            setdict[f'sub{sid}'][f'q{q}'] = {}\n",
    "            # drop a question\n",
    "            ix = set_bqs.loc[set_bqs.qID == q].index\n",
    "            q_dropped = set_bqs.drop(ix)\n",
    "            \n",
    "            # extract remaining questions' topic vectors by index\n",
    "            q_dropped_vecs = bos_q_traj[[bos_questions_samples.index(question_dict[i]) for i in q_dropped.qID]]\n",
    "            \n",
    "            # get accuracy for remaining questions\n",
    "            q_dropped_acc = q_dropped['correct?']\n",
    "\n",
    "            # construct trace with question held out\n",
    "            q_dropped_trace = reconstruct_trace(bos_v_traj, q_dropped_vecs, q_dropped_acc)\n",
    "            setdict[f'sub{sid}'][f'q{q}']['trajectory'] = q_dropped_trace\n",
    "            \n",
    "            # get accuracy for held-out question\n",
    "            setdict[f'sub{sid}'][f'q{q}']['correct'] = set_bqs.loc[ix, 'correct?'].values[0]\n",
    "            \n",
    "            # find distance between lecture and knowledge trajectories at nearest lecture point to question\n",
    "            nearest_ix = cdist(bos_v_traj, np.atleast_2d(bos_q_traj[q-16])).argmin()\n",
    "            setdict[f'sub{sid}'][f'q{q}']['learn_dist'] = np.diag(cdist(bos_v_traj, q_dropped_trace))[nearest_ix]\n",
    "            \n",
    "            # find distance from held-out question to nearest other question\n",
    "            qq_dists = cdist(bos_q_traj, bos_q_traj)[q-16]\n",
    "            setdict[f'sub{sid}'][f'q{q}']['qnear_dist'] = qq_dists[np.nonzero(qq_dists)].min()\n",
    "            \n",
    "            # track participants with 4/5 wrong answers (can't construct trajectory)\n",
    "            if not np.any(q_dropped_trace):\n",
    "                drops.append(f'sub{sid}')\n",
    "    \n",
    "    for sid in list(set(drops)):\n",
    "        del setdict[sid]\n",
    "                "
   ]
  },
  {
   "cell_type": "markdown",
   "metadata": {},
   "source": [
    "# bin lecture-learning trajectory distances"
   ]
  },
  {
   "cell_type": "code",
   "execution_count": 445,
   "metadata": {
    "ExecuteTime": {
     "end_time": "2019-07-09T23:27:20.275305Z",
     "start_time": "2019-07-09T23:27:18.963384Z"
    }
   },
   "outputs": [
    {
     "data": {
      "image/png": "[encoded data removed]",
      "text/plain": [
       "<Figure size 1440x432 with 3 Axes>"
      ]
     },
     "metadata": {},
     "output_type": "display_data"
    }
   ],
   "source": [
    "n_bins = 10\n",
    "\n",
    "fig, axarr = plt.subplots(1,3, sharey=True)\n",
    "fig.set_size_inches(20,6)\n",
    "axarr = axarr.flatten()\n",
    "\n",
    "for (ix, ax), qset in zip(enumerate(axarr), [qdrop_ftraces_set0, qdrop_ftraces_set1, qdrop_ftraces_set2]):\n",
    "    \n",
    "    learn_dists = []\n",
    "    acc = []\n",
    "\n",
    "    # get distances and accuracy\n",
    "    for subdata in qset.values():\n",
    "        for qdata in subdata.values():\n",
    "            learn_dists.append(qdata['learn_dist'])\n",
    "            acc.append(qdata['correct'])\n",
    "\n",
    "    # set bin ranges and assign\n",
    "    bins = np.linspace(np.min(learn_dists), np.max(learn_dists), n_bins)\n",
    "    binned_df = pd.DataFrame({'dist' : learn_dists, 'p(correct answer)' : acc, \n",
    "                              'bin' : np.digitize(learn_dists, bins)})\n",
    "    \n",
    "    # plot\n",
    "    sns.barplot(x='bin', y='p(correct answer)', data=binned_df, ax=ax)\n",
    "    ax.set_ylabel('')\n",
    "    ax.set_title(f'Question set {ix+1}')\n",
    "\n",
    "fig.suptitle('Four Forces: Inferring knowledge in topic space', y=1.1)\n",
    "fig.text(0.07, 0.5, 'p(correct)', va='center', rotation='vertical')\n",
    "fig.text(0.5, -.15, 'Content knowledge at held-out question (bin/10 max distance)', ha='center')\n",
    "# plt.savefig('/Users/paxtonfitzpatrick/Desktop/forces-trace-qdrop-dist.pdf', bbox_inches='tight')\n",
    "plt.show()\n"
   ]
  },
  {
   "cell_type": "code",
   "execution_count": 446,
   "metadata": {
    "ExecuteTime": {
     "end_time": "2019-07-09T23:27:24.274699Z",
     "start_time": "2019-07-09T23:27:22.934457Z"
    },
    "scrolled": false
   },
   "outputs": [
    {
     "data": {
      "image/png": "[encoded data removed]",
      "text/plain": [
       "<Figure size 1440x432 with 3 Axes>"
      ]
     },
     "metadata": {},
     "output_type": "display_data"
    }
   ],
   "source": [
    "n_bins = 10\n",
    "\n",
    "fig, axarr = plt.subplots(1,3, sharey=True)\n",
    "fig.set_size_inches(20,6)\n",
    "axarr = axarr.flatten()\n",
    "\n",
    "for (ix, ax), qset in zip(enumerate(axarr), [qdrop_btraces_set0, qdrop_btraces_set1, qdrop_btraces_set2]):\n",
    "    \n",
    "    learn_dists = []\n",
    "    acc = []\n",
    "\n",
    "    # get distances and accuracy\n",
    "    for subdata in qset.values():\n",
    "        for qdata in subdata.values():\n",
    "            learn_dists.append(qdata['learn_dist'])\n",
    "            acc.append(qdata['correct'])\n",
    "\n",
    "    # set bin ranges and assign\n",
    "    bins = np.linspace(np.min(learn_dists), np.max(learn_dists), n_bins)\n",
    "    binned_df = pd.DataFrame({'dist' : learn_dists, 'p(correct answer)' : acc, \n",
    "                              'bin' : np.digitize(learn_dists, bins)})\n",
    "    \n",
    "    # plot\n",
    "    sns.barplot(x='bin', y='p(correct answer)', data=binned_df, ax=ax)\n",
    "    ax.set_ylabel('')\n",
    "    ax.set_title(f'Question set {ix+1}')\n",
    "    \n",
    "fig.suptitle('Birth of Stars: Inferring knowledge in topic space', y=1.1)\n",
    "fig.text(0.07, 0.5, 'p(correct)', va='center', rotation='vertical')\n",
    "fig.text(0.5, -.15, 'Content knowledge at held-out question (bin/10 max distance)', ha='center')\n",
    "# plt.savefig('/Users/paxtonfitzpatrick/Desktop/bos-trace-qdrop-dist.pdf', bbox_inches='tight')\n",
    "plt.show()\n"
   ]
  },
  {
   "cell_type": "markdown",
   "metadata": {
    "ExecuteTime": {
     "end_time": "2019-07-09T22:36:18.415783Z",
     "start_time": "2019-07-09T22:36:18.409026Z"
    }
   },
   "source": [
    "# construct lecture 2 learning trajectories using lecture 1 questions"
   ]
  },
  {
   "cell_type": "code",
   "execution_count": 240,
   "metadata": {
    "ExecuteTime": {
     "end_time": "2019-07-09T20:35:39.846859Z",
     "start_time": "2019-07-09T20:35:16.590017Z"
    },
    "collapsed": true,
    "scrolled": true
   },
   "outputs": [],
   "source": [
    "qdrop_crosstraces_set0 = {}\n",
    "qdrop_crosstraces_set1 = {}\n",
    "qdrop_crosstraces_set2 = {}\n",
    "\n",
    "\n",
    "for set_n, setdict in zip(range(3), [qdrop_crosstraces_set0, qdrop_crosstraces_set1, qdrop_crosstraces_set2]):\n",
    "    drops = []\n",
    "    for sid, df in sub_data.items():\n",
    "        # get questions about Four Forces viewed in block \n",
    "        set_fqs = df.loc[df.set == set_n].loc[df.video == 1]\n",
    "        setdict[f'sub{sid}'] = dict.fromkeys([f'q{i}' for i in set_fqs.qID])\n",
    "    \n",
    "        for q in set_fqs.qID:\n",
    "            setdict[f'sub{sid}'][f'q{q}'] = {}\n",
    "            # drop a question\n",
    "            ix = set_fqs.loc[set_fqs.qID == q].index\n",
    "            q_dropped = set_fqs.drop(ix)\n",
    "            \n",
    "            # extract remaining questions' topic vectors by index\n",
    "            q_dropped_vecs = forces_q_traj[[forces_questions_samples.index(question_dict[i]) for i in q_dropped.qID]]\n",
    "            \n",
    "            # get accuracy for remaining questions\n",
    "            q_dropped_acc = q_dropped['correct?']\n",
    "\n",
    "            # construct lecture 2 trace with question held out\n",
    "            q_dropped_trace = reconstruct_trace(bos_v_traj, q_dropped_vecs, q_dropped_acc)\n",
    "            setdict[f'sub{sid}'][f'q{q}']['trajectory'] = q_dropped_trace\n",
    "            \n",
    "            # get accuracy for held-out question\n",
    "            setdict[f'sub{sid}'][f'q{q}']['correct'] = set_fqs.loc[ix, 'correct?'].values[0]\n",
    "            \n",
    "            # find distance between lecture and knowledge trajectories at nearest lecture point to question\n",
    "            nearest_ix = cdist(forces_v_traj, np.atleast_2d(forces_q_traj[q-1])).argmin()\n",
    "            setdict[f'sub{sid}'][f'q{q}']['learn_dist'] = np.diag(cdist(forces_v_traj, q_dropped_trace))[nearest_ix]\n",
    "            \n",
    "            # find distance from held-out question to nearest other question\n",
    "            qq_dists = cdist(forces_q_traj, forces_q_traj)[q-1]\n",
    "            setdict[f'sub{sid}'][f'q{q}']['qnear_dist'] = qq_dists[np.nonzero(qq_dists)].min()\n",
    "            \n",
    "            # track participants with 4/5 wrong answers (can't construct trajectory)\n",
    "            if not np.any(q_dropped_trace):\n",
    "                drops.append(f'sub{sid}')\n",
    "    \n",
    "    for sid in list(set(drops)):\n",
    "        del setdict[sid]\n",
    "                "
   ]
  },
  {
   "cell_type": "code",
   "execution_count": 224,
   "metadata": {
    "ExecuteTime": {
     "end_time": "2019-07-09T20:31:42.573675Z",
     "start_time": "2019-07-09T20:31:25.430087Z"
    },
    "code_folding": [],
    "collapsed": true,
    "scrolled": true
   },
   "outputs": [],
   "source": [
    "# qdrop_btraces_set0 = {}\n",
    "# qdrop_btraces_set1 = {}\n",
    "# qdrop_btraces_set2 = {}\n",
    "\n",
    "\n",
    "# for set_n, setdict in zip(range(3), [qdrop_btraces_set0, qdrop_btraces_set1, qdrop_btraces_set2]):\n",
    "#     drops = []\n",
    "#     for sid, df in sub_data.items():\n",
    "#         # get questions about Birth of Stars viewed in block \n",
    "#         set_bqs = df.loc[df.set == set_n].loc[df.video == 2]\n",
    "#         setdict[f'sub{sid}'] = dict.fromkeys([f'q{i}' for i in set_bqs.qID])\n",
    "    \n",
    "#         for q in set_bqs.qID:\n",
    "#             setdict[f'sub{sid}'][f'q{q}'] = {}\n",
    "#             # drop a question\n",
    "#             ix = set_bqs.loc[set_bqs.qID == q].index\n",
    "#             q_dropped = set_bqs.drop(ix)\n",
    "            \n",
    "#             # extract remaining questions' topic vectors by index\n",
    "#             q_dropped_vecs = bos_q_traj[[bos_questions_samples.index(question_dict[i]) for i in q_dropped.qID]]\n",
    "            \n",
    "#             # get accuracy for remaining questions\n",
    "#             q_dropped_acc = q_dropped['correct?']\n",
    "\n",
    "#             # construct trace with question held out\n",
    "#             q_dropped_trace = reconstruct_trace(bos_v_traj, q_dropped_vecs, q_dropped_acc)\n",
    "#             setdict[f'sub{sid}'][f'q{q}']['trajectory'] = q_dropped_trace\n",
    "            \n",
    "#             # get accuracy for held-out question\n",
    "#             setdict[f'sub{sid}'][f'q{q}']['correct'] = set_bqs.loc[ix, 'correct?'].values[0]\n",
    "            \n",
    "#             # find distance between lecture and knowledge trajectories at nearest lecture point to question\n",
    "#             nearest_ix = cdist(bos_v_traj, np.atleast_2d(bos_q_traj[q-16])).argmin()\n",
    "#             setdict[f'sub{sid}'][f'q{q}']['learn_dist'] = np.diag(cdist(bos_v_traj, q_dropped_trace))[nearest_ix]\n",
    "            \n",
    "#             # find distance from held-out question to nearest other question\n",
    "#             qq_dists = cdist(bos_q_traj, bos_q_traj)[q-16]\n",
    "#             setdict[f'sub{sid}'][f'q{q}']['qnear_dist'] = qq_dists[np.nonzero(qq_dists)].min()\n",
    "            \n",
    "#             # track participants with 4/5 wrong answers (can't construct trajectory)\n",
    "#             if not np.any(q_dropped_trace):\n",
    "#                 drops.append(f'sub{sid}')\n",
    "    \n",
    "#     for sid in list(set(drops)):\n",
    "#         del setdict[sid]\n",
    "                "
   ]
  },
  {
   "cell_type": "markdown",
   "metadata": {},
   "source": [
    "# given a knowledge trajectory constructed from certain questions, how well can we infer knowledge about other questions based on their distance?"
   ]
  },
  {
   "cell_type": "code",
   "execution_count": 545,
   "metadata": {
    "ExecuteTime": {
     "end_time": "2019-07-10T02:47:07.760149Z",
     "start_time": "2019-07-10T02:47:01.502329Z"
    },
    "collapsed": true
   },
   "outputs": [],
   "source": [
    "forces_traces_set0 = {}\n",
    "forces_traces_set1 = {}\n",
    "forces_traces_set2 = {}\n",
    "\n",
    "\n",
    "both_q_traj = np.append(forces_q_traj, bos_q_traj, axis=0)\n",
    "all_q_traj = np.append(both_q_traj, general_q_traj, axis=0)\n",
    "\n",
    "for sid, df in sub_data.items():\n",
    "    forces_traces_set0[sid] = {}\n",
    "    # get questions about Four Forces viewed in first block \n",
    "    set0_fqs = df.loc[df.set == 0].loc[df.video == 1]\n",
    "    # extract their topic vectors by index\n",
    "    set0_fqs_vecs = forces_q_traj[[forces_questions_samples.index(question_dict[i]) for i in set0_fqs.qID]]\n",
    "    # get accuracy for those questions\n",
    "    set0_fqs_acc = set0_fqs['correct?']\n",
    "    sub_trace = reconstruct_trace(forces_v_traj, set0_fqs_vecs, set0_fqs_acc)\n",
    "    forces_traces_set0[sid]['trajectory'] = sub_trace\n",
    "    set0_nonfqs = df.loc[df.set == 0].loc[df.video ==2]\n",
    "    forces_traces_set0[sid]['other_qs'] = {} #dict.fromkeys(set0_nonfqs.qID)\n",
    "    for _, question in set0_nonfqs.iterrows():\n",
    "        forces_traces_set0[sid]['other_qs'][question.qID] = {}\n",
    "        nearest_ix = cdist(forces_v_traj, np.atleast_2d(all_q_traj[question.qID-1])).argmin()\n",
    "        forces_traces_set0[sid]['other_qs'][question.qID]['learn_dist'] = np.diag(\n",
    "            cdist(forces_v_traj, sub_trace))[nearest_ix]\n",
    "        forces_traces_set0[sid]['other_qs'][question.qID]['acc'] = question['correct?']\n",
    "        \n",
    "    forces_traces_set1[sid] = {}\n",
    "    # get questions about Four Forces viewed in second block \n",
    "    set1_fqs = df.loc[df.set == 1].loc[df.video == 1]\n",
    "    # extract their topic vectors by index\n",
    "    set1_fqs_vecs = forces_q_traj[[forces_questions_samples.index(question_dict[i]) for i in set1_fqs.qID]]\n",
    "    # get accuracy for those questions\n",
    "    set1_fqs_acc = set1_fqs['correct?']\n",
    "    sub_trace = reconstruct_trace(forces_v_traj, set1_fqs_vecs, set1_fqs_acc)\n",
    "    forces_traces_set1[sid]['trajectory'] = sub_trace\n",
    "    set1_nonfqs = df.loc[df.set == 1].loc[df.video ==2]\n",
    "    forces_traces_set1[sid]['other_qs'] = {} #dict.fromkeys(set0_nonfqs.qID)\n",
    "    for _, question in set1_nonfqs.iterrows():\n",
    "        forces_traces_set1[sid]['other_qs'][question.qID] = {}\n",
    "        nearest_ix = cdist(forces_v_traj, np.atleast_2d(all_q_traj[question.qID-1])).argmin()\n",
    "        forces_traces_set1[sid]['other_qs'][question.qID]['learn_dist'] = np.diag(\n",
    "            cdist(forces_v_traj, sub_trace))[nearest_ix]\n",
    "        forces_traces_set1[sid]['other_qs'][question.qID]['acc'] = question['correct?']\n",
    "    \n",
    "    forces_traces_set2[sid] = {}\n",
    "    # get questions about Four Forces viewed in third block \n",
    "    set2_fqs = df.loc[df.set == 2].loc[df.video == 1]\n",
    "    # extract their topic vectors by index\n",
    "    set2_fqs_vecs = forces_q_traj[[forces_questions_samples.index(question_dict[i]) for i in set2_fqs.qID]]\n",
    "    # get accuracy for those questions\n",
    "    set2_fqs_acc = set2_fqs['correct?']\n",
    "    sub_trace = reconstruct_trace(forces_v_traj, set2_fqs_vecs, set2_fqs_acc)\n",
    "    forces_traces_set2[sid]['trajectory'] = sub_trace\n",
    "    set2_nonfqs = df.loc[df.set == 2].loc[df.video ==2]\n",
    "    forces_traces_set2[sid]['other_qs'] = {} #dict.fromkeys(set0_nonfqs.qID)\n",
    "    for _, question in set2_nonfqs.iterrows():\n",
    "        forces_traces_set2[sid]['other_qs'][question.qID] = {}\n",
    "        nearest_ix = cdist(forces_v_traj, np.atleast_2d(all_q_traj[question.qID-1])).argmin()\n",
    "        forces_traces_set2[sid]['other_qs'][question.qID]['learn_dist'] = np.diag(\n",
    "            cdist(forces_v_traj, sub_trace))[nearest_ix]\n",
    "        forces_traces_set2[sid]['other_qs'][question.qID]['acc'] = question['correct?']\n",
    "    "
   ]
  },
  {
   "cell_type": "code",
   "execution_count": 556,
   "metadata": {
    "ExecuteTime": {
     "end_time": "2019-07-10T02:55:56.591506Z",
     "start_time": "2019-07-10T02:55:56.477182Z"
    },
    "scrolled": true
   },
   "outputs": [],
   "source": [
    "set0_qs_acc = dict.fromkeys(question_dict.keys())\n",
    "set0_qs_dists = dict.fromkeys(question_dict.keys())\n",
    "\n",
    "set1_qs_acc = dict.fromkeys(question_dict.keys())\n",
    "set1_qs_dists = dict.fromkeys(question_dict.keys())\n",
    "\n",
    "set2_qs_acc = dict.fromkeys(question_dict.keys())\n",
    "set2_qs_dists = dict.fromkeys(question_dict.keys())\n",
    "\n",
    "for q in question_dict.keys():\n",
    "    accs = []\n",
    "    dists = []\n",
    "    for sub, sdata in forces_traces_set0.items():\n",
    "        for question, qdata in sdata['other_qs'].items():\n",
    "            if question == q:\n",
    "                accs.append(qdata['acc'])\n",
    "                dists.append(qdata['learn_dist'])\n",
    "    set0_qs_acc[q] = accs\n",
    "    set0_qs_dists[q] = dists\n",
    "for q in list(set0_qs_acc.keys()):\n",
    "    if not set0_qs_acc[q]:\n",
    "        del set0_qs_acc[q]\n",
    "        del set0_qs_dists[q]\n",
    "        \n",
    "for q in question_dict.keys():\n",
    "    accs = []\n",
    "    dists = []\n",
    "    for sub, sdata in forces_traces_set1.items():\n",
    "        for question, qdata in sdata['other_qs'].items():\n",
    "            if question == q:\n",
    "                accs.append(qdata['acc'])\n",
    "                dists.append(qdata['learn_dist'])\n",
    "    set1_qs_acc[q] = accs\n",
    "    set1_qs_dists[q] = dists\n",
    "for q in list(set1_qs_acc.keys()):\n",
    "    if not set1_qs_acc[q]:\n",
    "        del set1_qs_acc[q]\n",
    "        del set1_qs_dists[q]\n",
    "        \n",
    "for q in question_dict.keys():\n",
    "    accs = []\n",
    "    dists = []\n",
    "    for sub, sdata in forces_traces_set2.items():\n",
    "        for question, qdata in sdata['other_qs'].items():\n",
    "            if question == q:\n",
    "                accs.append(qdata['acc'])\n",
    "                dists.append(qdata['learn_dist'])\n",
    "    set2_qs_acc[q] = accs\n",
    "    set2_qs_dists[q] = dists\n",
    "for q in list(set2_qs_acc.keys()):\n",
    "    if not set2_qs_acc[q]:\n",
    "        del set2_qs_acc[q]\n",
    "        del set2_qs_dists[q]"
   ]
  },
  {
   "cell_type": "code",
   "execution_count": 577,
   "metadata": {
    "ExecuteTime": {
     "end_time": "2019-07-10T03:13:41.302638Z",
     "start_time": "2019-07-10T03:13:40.411682Z"
    }
   },
   "outputs": [
    {
     "data": {
      "image/png": "[encoded data removed]",
      "text/plain": [
       "<Figure size 1440x432 with 3 Axes>"
      ]
     },
     "metadata": {},
     "output_type": "display_data"
    }
   ],
   "source": [
    "fig, axarr = plt.subplots(1,3)\n",
    "fig.set_size_inches(20, 6)\n",
    "axarr = axarr.flatten()\n",
    "\n",
    "sns.regplot([np.mean(v) for v in set0_qs_dists.values()], [np.mean(v) for v in set0_qs_acc.values()], ax=axarr[0])\n",
    "axarr[0].set_xlabel('mean lecture-knowledge\\ntrajectory distance')\n",
    "axarr[0].set_ylabel('p(correct)')\n",
    "axarr[0].set_ylim(-.05, 1.05)\n",
    "r, p = pearsonr([np.mean(v) for v in set0_qs_dists.values()], [np.mean(v) for v in set0_qs_acc.values()])\n",
    "r = '=' + str(round(r, 2))\n",
    "if p >= 0.01:\n",
    "    p = '=' + str(round(p, 2))\n",
    "else:\n",
    "    p = '<0.01'\n",
    "axarr[0].text(.32, .9, f'$r{r}$')\n",
    "axarr[0].text(.32, .8, f'$p{p}$')\n",
    "\n",
    "sns.regplot([np.mean(v) for v in set1_qs_dists.values()], [np.mean(v) for v in set1_qs_acc.values()], ax=axarr[1])\n",
    "axarr[1].set_xlabel('mean lecture-knowledge\\ntrajectory distance')\n",
    "axarr[1].set_ylim(-.05, 1.05)\n",
    "r, p = pearsonr([np.mean(v) for v in set1_qs_dists.values()], [np.mean(v) for v in set1_qs_acc.values()])\n",
    "r = '=' + str(round(r, 2))\n",
    "if p >= 0.01:\n",
    "    p = '=' + str(round(p, 2))\n",
    "else:\n",
    "    p = '<0.01'\n",
    "axarr[1].text(.06, .9, f'$r{r}$')\n",
    "axarr[1].text(.06, .8, f'$p{p}$')\n",
    "\n",
    "sns.regplot([np.mean(v) for v in set2_qs_dists.values()], [np.mean(v) for v in set2_qs_acc.values()], ax=axarr[2])\n",
    "axarr[2].set_xlabel('mean lecture-knowledge\\ntrajectory distance')\n",
    "axarr[2].set_ylim(-.05, 1.05)\n",
    "r, p = pearsonr([np.mean(v) for v in set2_qs_dists.values()], [np.mean(v) for v in set2_qs_acc.values()])\n",
    "r = '=' + str(round(r, 2))\n",
    "if p >= 0.01:\n",
    "    p = '=' + str(round(p, 2))\n",
    "else:\n",
    "    p = '<0.01'\n",
    "axarr[2].text(.3, .2, f'$r{r}$')\n",
    "axarr[2].text(.3, .1, f'$p{p}$')\n",
    "\n",
    "plt.show()"
   ]
  },
  {
   "cell_type": "code",
   "execution_count": 573,
   "metadata": {
    "ExecuteTime": {
     "end_time": "2019-07-10T03:11:50.949952Z",
     "start_time": "2019-07-10T03:11:50.946121Z"
    }
   },
   "outputs": [
    {
     "data": {
      "text/plain": [
       "'=1.0'"
      ]
     },
     "execution_count": 573,
     "metadata": {},
     "output_type": "execute_result"
    }
   ],
   "source": [
    "p"
   ]
  },
  {
   "cell_type": "code",
   "execution_count": null,
   "metadata": {
    "collapsed": true
   },
   "outputs": [],
   "source": []
  }
 ],
 "metadata": {
  "kernelspec": {
   "display_name": "Python 3",
   "language": "python",
   "name": "python3"
  },
  "language_info": {
   "codemirror_mode": {
    "name": "ipython",
    "version": 3
   },
   "file_extension": ".py",
   "mimetype": "text/x-python",
   "name": "python",
   "nbconvert_exporter": "python",
   "pygments_lexer": "ipython3",
   "version": "3.6.2"
  }
 },
 "nbformat": 4,
 "nbformat_minor": 2
}
